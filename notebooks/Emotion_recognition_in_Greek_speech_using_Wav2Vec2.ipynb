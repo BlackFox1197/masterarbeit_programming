{
 "cells": [
  {
   "cell_type": "markdown",
   "metadata": {
    "id": "5fbCls1d2yBs",
    "pycharm": {
     "name": "#%% md\n"
    }
   },
   "source": [
    "# Emotion Recognition in Greek Speech Using Wav2Vec 2.0"
   ]
  },
  {
   "cell_type": "markdown",
   "metadata": {
    "id": "sp37lZOV2042",
    "pycharm": {
     "name": "#%% md\n"
    }
   },
   "source": [
    "**Wav2Vec 2.0** is a pretrained model for Automatic Speech Recognition (ASR) and was released in [September 2020](https://ai.facebook.com/blog/wav2vec-20-learning-the-structure-of-speech-from-raw-audio/) by Alexei Baevski, Michael Auli, and Alex Conneau.  Soon after the superior performance of Wav2Vec2 was demonstrated on the English ASR dataset LibriSpeech, *Facebook AI* presented XLSR-Wav2Vec2 (click [here](https://arxiv.org/abs/2006.13979)). XLSR stands for *cross-lingual  speech representations* and refers to XLSR-Wav2Vec2`s ability to learn speech representations that are useful across multiple languages.\n",
    "\n",
    "Similar to Wav2Vec2, XLSR-Wav2Vec2 learns powerful speech representations from hundreds of thousands of hours of speech in more than 50 languages of unlabeled speech. Similar, to [BERT's masked language modeling](http://jalammar.github.io/illustrated-bert/), the model learns contextualized speech representations by randomly masking feature vectors before passing them to a transformer network.\n",
    "\n",
    "![wav2vec2_structure](https://raw.githubusercontent.com/patrickvonplaten/scientific_images/master/xlsr_wav2vec2.png)\n",
    "\n",
    "The authors show for the first time that massively pretraining an ASR model on cross-lingual unlabeled speech data, followed by language-specific fine-tuning on very little labeled data achieves state-of-the-art results. See Table 1-5 of the official [paper](https://arxiv.org/pdf/2006.13979.pdf)."
   ]
  },
  {
   "cell_type": "markdown",
   "metadata": {
    "id": "y0xJwDkA3QQR",
    "pycharm": {
     "name": "#%% md\n"
    }
   },
   "source": [
    "During fine-tuning week hosted by HuggingFace, more than 300 people participated in tuning XLSR-Wav2Vec2's pretrained on low-resources ASR dataset for more than 50 languages. This model is fine-tuned using [Connectionist Temporal Classification](https://distill.pub/2017/ctc/) (CTC), an algorithm used to train neural networks for sequence-to-sequence problems and mainly in Automatic Speech Recognition and handwriting recognition. Follow this [notebook](https://colab.research.google.com/github/patrickvonplaten/notebooks/blob/master/Fine_Tune_XLSR_Wav2Vec2_on_Turkish_ASR_with_%F0%9F%A4%97_Transformers.ipynb#scrollTo=Gx9OdDYrCtQ1) for more information about XLSR-Wav2Vec2 fine-tuning.\n",
    "\n",
    "This model was shown significant results in many low-resources languages. You can see the [competition board](https://paperswithcode.com/dataset/common-voice) or even testing the models from the [HuggingFace hub](https://huggingface.co/models?filter=xlsr-fine-tuning-week). \n",
    "\n",
    "\n",
    "In this notebook, we will go through how to use this model to recognize the emotional aspects of speech in a language (or even as a general view using for every classification problem). Before going any further, we need to install some handy packages and define some enviroment values."
   ]
  },
  {
   "cell_type": "code",
   "execution_count": 24,
   "metadata": {
    "colab": {
     "base_uri": "https://localhost:8080/"
    },
    "id": "cp4-LTa2uphv",
    "outputId": "b1490098-4140-4d72-f59e-756ca705cf83",
    "pycharm": {
     "name": "#%%\n"
    }
   },
   "outputs": [],
   "source": [
    "%%capture\n",
    "%env LC_ALL=C.UTF-8\n",
    "%env LANG=C.UTF-8\n",
    "%env TRANSFORMERS_CACHE=content/cache\n",
    "%env HF_DATASETS_CACHE=content/cache\n",
    "%env CUDA_LAUNCH_BLOCKING=1"
   ]
  },
  {
   "cell_type": "markdown",
   "metadata": {
    "id": "krC50MmmvBWJ",
    "pycharm": {
     "name": "#%% md\n"
    }
   },
   "source": [
    "## Prepare Data\n",
    "\n",
    "For this particular example, we use [Acted Emotional Speech Dynamic Database – AESDD](http://m3c.web.auth.gr/research/aesdd-speech-emotion-recognition/) provided by Multidisciplinary Media & Mediated Communication Research Group ([M3C](http://m3c.web.auth.gr/)). \n",
    "\n",
    "The Acted Emotional Speech Dynamic Database (AESDD) is a publically available speech emotion recognition dataset that contains utterances of acted emotional speech in the Greek language for five different emotions `sadness`, `disgust`, `happiness`, `anger`, and `fear`.\n",
    "\n",
    "The dataset consists of directories of emotions; each folder includes specific emotions. We need to loop over directories and save the paths related to each class based on the directory name.\n",
    "\n",
    "```bash\n",
    ".\n",
    "├── Tools\\ and\\ Documentation\n",
    "│   ├── ESTrainer.mlapp\n",
    "│   ├── Speech\\ Emotion\\ Recognition\\ Adapted\\ to\\ Multimodal\\ Semantic\\ Repositories_documentation.pdf\n",
    "│   ├── Speech\\ Emotion\\ Recognition\\ for\\ Performance\\ Interaction.pdf\n",
    "│   └── readme.txt\n",
    "├── anger\n",
    "│   ├── a01\\ (1).wav\n",
    "│   ├── a01\\ (2).wav\n",
    "│   ├── ...\n",
    "├── disgust\n",
    "│   ├── d01\\ (1).wav\n",
    "│   ├── d01\\ (2).wav\n",
    "│   ├── ...\n",
    "├── fear\n",
    "│   ├── f01\\ (1).wav\n",
    "│   ├── f01\\ (2).wav\n",
    "│   ├── ...\n",
    "├── happiness\n",
    "│   ├── h01\\ (1).wav\n",
    "│   ├── h01\\ (2).wav\n",
    "│   ├── ...\n",
    "└── sadness\n",
    "    ├── s01\\ (1).wav\n",
    "    ├── s01\\ (2).wav\n",
    "    ├── ...\n",
    "\n",
    "6 directories, 609 files\n",
    "```"
   ]
  },
  {
   "cell_type": "code",
   "execution_count": 25,
   "metadata": {
    "id": "pFSqZ0jwCMSv",
    "pycharm": {
     "name": "#%%\n"
    }
   },
   "outputs": [],
   "source": [
    "import numpy as np\n",
    "import pandas as pd\n",
    "import torch\n",
    "\n",
    "from pathlib import Path\n",
    "#from tqdm import tqdm\n",
    "\n",
    "import torchaudio\n",
    "from sklearn.model_selection import train_test_split\n",
    "\n",
    "import os\n",
    "import sys"
   ]
  },
  {
   "cell_type": "code",
   "execution_count": 26,
   "metadata": {
    "colab": {
     "base_uri": "https://localhost:8080/"
    },
    "id": "7MXAESg_Dqr6",
    "outputId": "2820808d-37db-41ab-edd5-af0a097d9281",
    "pycharm": {
     "name": "#%%\n"
    }
   },
   "outputs": [],
   "source": [
    "# data = []\n",
    "#\n",
    "# for path in tqdm(Path(\"/content/data/aesdd\").glob(\"**/*.wav\")):\n",
    "#     name = str(path).split('/')[-1].split('.')[0]\n",
    "#     label = str(path).split('/')[-2]\n",
    "#\n",
    "#     try:\n",
    "#         # There are some broken files\n",
    "#         s = torchaudio.load(path)\n",
    "#         data.append({\n",
    "#             \"name\": name,\n",
    "#             \"path\": path,\n",
    "#             \"emotion\": label\n",
    "#         })\n",
    "#     except Exception as e:\n",
    "#         # print(str(path), e)\n",
    "#         pass\n",
    "\n",
    "    # break"
   ]
  },
  {
   "cell_type": "code",
   "execution_count": 91,
   "metadata": {
    "pycharm": {
     "name": "#%%\n"
    }
   },
   "outputs": [
    {
     "name": "stdout",
     "output_type": "stream",
     "text": [
      "C:\\Users\\ckwda\\AppData\\Local\\Programs\\Python\\Python310\\python.exe\n",
      "['angry', 'angry', 'angry', 'angry', 'angry', 'angry', 'angry', 'angry', 'angry', 'angry', 'angry', 'angry', 'angry', 'angry', 'angry', 'angry', 'disgust', 'disgust', 'disgust', 'disgust', 'disgust', 'disgust', 'disgust', 'disgust', 'disgust', 'disgust', 'disgust', 'disgust', 'disgust', 'disgust', 'disgust', 'disgust', 'fear', 'fear', 'fear', 'fear', 'fear', 'fear', 'fear', 'fear', 'fear', 'fear', 'fear', 'fear', 'fear', 'fear', 'fear', 'fear', 'happy', 'happy', 'happy', 'happy', 'happy', 'happy', 'happy', 'happy', 'happy', 'happy', 'happy', 'happy', 'happy', 'happy', 'happy', 'happy', 'sad', 'sad', 'sad', 'sad', 'sad', 'sad', 'sad', 'sad', 'sad', 'sad', 'sad', 'sad', 'sad', 'sad', 'sad', 'sad', 'ps', 'ps', 'ps', 'ps', 'ps', 'ps', 'ps', 'ps', 'ps', 'ps', 'ps', 'ps', 'ps', 'ps', 'ps', 'ps', 'angry', 'angry', 'angry', 'angry', 'angry', 'angry', 'angry', 'angry', 'angry', 'angry', 'angry', 'angry', 'angry', 'angry', 'angry', 'angry', 'disgust', 'disgust', 'disgust', 'disgust', 'disgust', 'disgust', 'disgust', 'disgust', 'disgust', 'disgust', 'disgust', 'disgust', 'disgust', 'disgust', 'disgust', 'disgust', 'fear', 'fear', 'fear', 'fear', 'fear', 'fear', 'fear', 'fear', 'fear', 'fear', 'fear', 'fear', 'fear', 'fear', 'fear', 'fear', 'happy', 'happy', 'happy', 'happy', 'happy', 'happy', 'happy', 'happy', 'happy', 'happy', 'happy', 'happy', 'happy', 'happy', 'happy', 'happy', 'sad', 'sad', 'sad', 'sad', 'sad', 'sad', 'sad', 'sad', 'sad', 'sad', 'sad', 'sad', 'sad', 'sad', 'sad', 'sad', 'ps', 'ps', 'ps', 'ps', 'ps', 'ps', 'ps', 'ps', 'ps', 'ps', 'ps', 'ps', 'ps', 'ps', 'ps', 'ps', 'angry', 'angry', 'angry', 'angry', 'angry', 'angry', 'angry', 'angry', 'angry', 'angry', 'angry', 'angry', 'angry', 'angry', 'angry', 'angry', 'disgust', 'disgust', 'disgust', 'disgust', 'disgust', 'disgust', 'disgust', 'disgust', 'disgust', 'disgust', 'disgust', 'disgust', 'disgust', 'disgust', 'disgust', 'disgust', 'fear', 'fear', 'fear', 'fear', 'fear', 'fear', 'fear', 'fear', 'fear', 'fear', 'fear', 'fear', 'fear', 'fear', 'fear', 'fear', 'happy', 'happy', 'happy', 'happy', 'happy', 'happy', 'happy', 'happy', 'happy', 'happy', 'happy', 'happy', 'happy', 'happy', 'happy', 'happy', 'sad', 'sad', 'sad', 'sad', 'sad', 'sad', 'sad', 'sad', 'sad', 'sad', 'sad', 'sad', 'sad', 'sad', 'sad', 'sad', 'ps', 'ps', 'ps', 'ps', 'ps', 'ps', 'ps', 'ps', 'ps', 'ps', 'ps', 'ps', 'ps', 'ps', 'ps', 'ps', 'angry', 'angry', 'angry', 'angry', 'angry', 'angry', 'angry', 'angry', 'angry', 'angry', 'angry', 'angry', 'angry', 'angry', 'angry', 'angry', 'disgust', 'disgust', 'disgust', 'disgust', 'disgust', 'disgust', 'disgust', 'disgust', 'disgust', 'disgust', 'disgust', 'disgust', 'disgust', 'disgust', 'disgust', 'disgust', 'fear', 'fear', 'fear', 'fear', 'fear', 'fear', 'fear', 'fear', 'fear', 'fear', 'fear', 'fear', 'fear', 'fear', 'fear', 'fear', 'happy', 'happy', 'happy', 'happy', 'happy', 'happy', 'happy', 'happy', 'happy', 'happy', 'happy', 'happy', 'happy', 'happy', 'happy', 'happy', 'sad', 'sad', 'sad', 'sad', 'sad', 'sad', 'sad', 'sad', 'sad', 'sad', 'sad', 'sad', 'sad', 'sad', 'sad', 'sad', 'ps', 'ps', 'ps', 'ps', 'ps', 'ps', 'ps', 'ps', 'ps', 'ps', 'ps', 'ps', 'ps', 'ps', 'ps', 'ps', 'angry', 'angry', 'angry', 'angry', 'angry', 'angry', 'angry', 'angry', 'angry', 'angry', 'angry', 'angry', 'angry', 'angry', 'angry', 'angry', 'disgust', 'disgust', 'disgust', 'disgust', 'disgust', 'disgust', 'disgust', 'disgust', 'disgust', 'disgust', 'disgust', 'disgust', 'disgust', 'disgust', 'disgust', 'disgust', 'fear', 'fear', 'fear', 'fear', 'fear', 'fear', 'fear', 'fear', 'fear', 'fear', 'fear', 'fear', 'fear', 'fear', 'fear', 'fear', 'happy', 'happy', 'happy', 'happy', 'happy', 'happy', 'happy', 'happy', 'happy', 'happy', 'happy', 'happy', 'happy', 'happy', 'happy', 'happy', 'sad', 'sad', 'sad', 'sad', 'sad', 'sad', 'sad', 'sad', 'sad', 'sad', 'sad', 'sad', 'sad', 'sad', 'sad', 'sad', 'ps', 'ps', 'ps', 'ps', 'ps', 'ps', 'ps', 'ps', 'ps', 'ps', 'ps', 'ps', 'ps', 'ps', 'ps', 'ps', 'angry', 'angry', 'angry', 'angry', 'angry', 'angry', 'angry', 'angry', 'angry', 'angry', 'angry', 'angry', 'angry', 'angry', 'angry', 'angry', 'disgust', 'disgust', 'disgust', 'disgust', 'disgust', 'disgust', 'disgust', 'disgust', 'disgust', 'disgust', 'disgust', 'disgust', 'disgust', 'disgust', 'disgust', 'disgust', 'fear', 'fear', 'fear', 'fear', 'fear', 'fear', 'fear', 'fear', 'fear', 'fear', 'fear', 'fear', 'fear', 'fear', 'fear', 'fear', 'happy', 'happy', 'happy', 'happy', 'happy', 'happy', 'happy', 'happy', 'happy', 'happy', 'happy', 'happy', 'happy', 'happy', 'happy', 'happy', 'sad', 'sad', 'sad', 'sad', 'sad', 'sad', 'sad', 'sad', 'sad', 'sad', 'sad', 'sad', 'sad', 'sad', 'sad', 'sad', 'ps', 'ps', 'ps', 'ps', 'ps', 'ps', 'ps', 'ps', 'ps', 'ps', 'ps', 'ps', 'ps', 'ps', 'ps', 'ps', 'angry', 'angry', 'angry', 'angry', 'angry', 'angry', 'angry', 'angry', 'angry', 'angry', 'angry', 'angry', 'angry', 'angry', 'angry', 'angry', 'disgust', 'disgust', 'disgust', 'disgust', 'disgust', 'disgust', 'disgust', 'disgust', 'disgust', 'disgust', 'disgust', 'disgust', 'disgust', 'disgust', 'disgust', 'disgust', 'fear', 'fear', 'fear', 'fear', 'fear', 'fear', 'fear', 'fear', 'fear', 'fear', 'fear', 'fear', 'fear', 'fear', 'fear', 'fear', 'happy', 'happy', 'happy', 'happy', 'happy', 'happy', 'happy', 'happy', 'happy', 'happy', 'happy', 'happy', 'happy', 'happy', 'happy', 'happy', 'sad', 'sad', 'sad', 'sad', 'sad', 'sad', 'sad', 'sad', 'sad', 'sad', 'sad', 'sad', 'sad', 'sad', 'sad', 'sad', 'ps', 'ps', 'ps', 'ps', 'ps', 'ps', 'ps', 'ps', 'ps', 'ps', 'ps', 'ps', 'ps', 'ps', 'ps', 'ps', 'angry', 'angry', 'angry', 'angry', 'angry', 'angry', 'angry', 'angry', 'angry', 'angry', 'angry', 'angry', 'angry', 'angry', 'angry', 'angry', 'disgust', 'disgust', 'disgust', 'disgust', 'disgust', 'disgust', 'disgust', 'disgust', 'disgust', 'disgust', 'disgust', 'disgust', 'disgust', 'disgust', 'disgust', 'disgust', 'fear', 'fear', 'fear', 'fear', 'fear', 'fear', 'fear', 'fear', 'fear', 'fear', 'fear', 'fear', 'fear', 'fear', 'fear', 'fear', 'happy', 'happy', 'happy', 'happy', 'happy', 'happy', 'happy', 'happy', 'happy', 'happy', 'happy', 'happy', 'happy', 'happy', 'happy', 'happy', 'sad', 'sad', 'sad', 'sad', 'sad', 'sad', 'sad', 'sad', 'sad', 'sad', 'sad', 'sad', 'sad', 'sad', 'sad', 'sad', 'ps', 'ps', 'ps', 'ps', 'ps', 'ps', 'ps', 'ps', 'ps', 'ps', 'ps', 'ps', 'ps', 'ps', 'ps', 'ps']\n",
      "['../Stimuli_Intensitätsmorphs\\\\nf01_ang_w01_o_100_70dB.wav', '../Stimuli_Intensitätsmorphs\\\\nf01_ang_w01_o_25_70dB.wav', '../Stimuli_Intensitätsmorphs\\\\nf01_ang_w01_o_50_70dB.wav', '../Stimuli_Intensitätsmorphs\\\\nf01_ang_w01_o_75_70dB.wav', '../Stimuli_Intensitätsmorphs\\\\nf01_ang_w02_o_100_70dB.wav', '../Stimuli_Intensitätsmorphs\\\\nf01_ang_w02_o_25_70dB.wav', '../Stimuli_Intensitätsmorphs\\\\nf01_ang_w02_o_50_70dB.wav', '../Stimuli_Intensitätsmorphs\\\\nf01_ang_w02_o_75_70dB.wav', '../Stimuli_Intensitätsmorphs\\\\nf01_ang_w03_o_100_70dB.wav', '../Stimuli_Intensitätsmorphs\\\\nf01_ang_w03_o_25_70dB.wav', '../Stimuli_Intensitätsmorphs\\\\nf01_ang_w03_o_50_70dB.wav', '../Stimuli_Intensitätsmorphs\\\\nf01_ang_w03_o_75_70dB.wav', '../Stimuli_Intensitätsmorphs\\\\nf01_ang_w05_o_100_70dB.wav', '../Stimuli_Intensitätsmorphs\\\\nf01_ang_w05_o_25_70dB.wav', '../Stimuli_Intensitätsmorphs\\\\nf01_ang_w05_o_50_70dB.wav', '../Stimuli_Intensitätsmorphs\\\\nf01_ang_w05_o_75_70dB.wav', '../Stimuli_Intensitätsmorphs\\\\nf01_dis_w01_o_100_70dB.wav', '../Stimuli_Intensitätsmorphs\\\\nf01_dis_w01_o_25_70dB.wav', '../Stimuli_Intensitätsmorphs\\\\nf01_dis_w01_o_50_70dB.wav', '../Stimuli_Intensitätsmorphs\\\\nf01_dis_w01_o_75_70dB.wav', '../Stimuli_Intensitätsmorphs\\\\nf01_dis_w02_c_100_70dB.wav', '../Stimuli_Intensitätsmorphs\\\\nf01_dis_w02_c_25_70dB.wav', '../Stimuli_Intensitätsmorphs\\\\nf01_dis_w02_c_50_70dB.wav', '../Stimuli_Intensitätsmorphs\\\\nf01_dis_w02_c_75_70dB.wav', '../Stimuli_Intensitätsmorphs\\\\nf01_dis_w03_o_100_70dB.wav', '../Stimuli_Intensitätsmorphs\\\\nf01_dis_w03_o_25_70dB.wav', '../Stimuli_Intensitätsmorphs\\\\nf01_dis_w03_o_50_70dB.wav', '../Stimuli_Intensitätsmorphs\\\\nf01_dis_w03_o_75_70dB.wav', '../Stimuli_Intensitätsmorphs\\\\nf01_dis_w05_o_100_70dB.wav', '../Stimuli_Intensitätsmorphs\\\\nf01_dis_w05_o_25_70dB.wav', '../Stimuli_Intensitätsmorphs\\\\nf01_dis_w05_o_50_70dB.wav', '../Stimuli_Intensitätsmorphs\\\\nf01_dis_w05_o_75_70dB.wav', '../Stimuli_Intensitätsmorphs\\\\nf01_fea_w01_c_100_70dB.wav', '../Stimuli_Intensitätsmorphs\\\\nf01_fea_w01_c_25_70dB.wav', '../Stimuli_Intensitätsmorphs\\\\nf01_fea_w01_c_50_70dB.wav', '../Stimuli_Intensitätsmorphs\\\\nf01_fea_w01_c_75_70dB.wav', '../Stimuli_Intensitätsmorphs\\\\nf01_fea_w02_c_100_70dB.wav', '../Stimuli_Intensitätsmorphs\\\\nf01_fea_w02_c_25_70dB.wav', '../Stimuli_Intensitätsmorphs\\\\nf01_fea_w02_c_50_70dB.wav', '../Stimuli_Intensitätsmorphs\\\\nf01_fea_w02_c_75_70dB.wav', '../Stimuli_Intensitätsmorphs\\\\nf01_fea_w03_c_100_70dB.wav', '../Stimuli_Intensitätsmorphs\\\\nf01_fea_w03_c_25_70dB.wav', '../Stimuli_Intensitätsmorphs\\\\nf01_fea_w03_c_50_70dB.wav', '../Stimuli_Intensitätsmorphs\\\\nf01_fea_w03_c_75_70dB.wav', '../Stimuli_Intensitätsmorphs\\\\nf01_fea_w05_o_100_70dB.wav', '../Stimuli_Intensitätsmorphs\\\\nf01_fea_w05_o_25_70dB.wav', '../Stimuli_Intensitätsmorphs\\\\nf01_fea_w05_o_50_70dB.wav', '../Stimuli_Intensitätsmorphs\\\\nf01_fea_w05_o_75_70dB.wav', '../Stimuli_Intensitätsmorphs\\\\nf01_hap_w01_o_100_70dB.wav', '../Stimuli_Intensitätsmorphs\\\\nf01_hap_w01_o_25_70dB.wav', '../Stimuli_Intensitätsmorphs\\\\nf01_hap_w01_o_50_70dB.wav', '../Stimuli_Intensitätsmorphs\\\\nf01_hap_w01_o_75_70dB.wav', '../Stimuli_Intensitätsmorphs\\\\nf01_hap_w02_o_100_70dB.wav', '../Stimuli_Intensitätsmorphs\\\\nf01_hap_w02_o_25_70dB.wav', '../Stimuli_Intensitätsmorphs\\\\nf01_hap_w02_o_50_70dB.wav', '../Stimuli_Intensitätsmorphs\\\\nf01_hap_w02_o_75_70dB.wav', '../Stimuli_Intensitätsmorphs\\\\nf01_hap_w03_o_100_70dB.wav', '../Stimuli_Intensitätsmorphs\\\\nf01_hap_w03_o_25_70dB.wav', '../Stimuli_Intensitätsmorphs\\\\nf01_hap_w03_o_50_70dB.wav', '../Stimuli_Intensitätsmorphs\\\\nf01_hap_w03_o_75_70dB.wav', '../Stimuli_Intensitätsmorphs\\\\nf01_hap_w05_o_100_70dB.wav', '../Stimuli_Intensitätsmorphs\\\\nf01_hap_w05_o_25_70dB.wav', '../Stimuli_Intensitätsmorphs\\\\nf01_hap_w05_o_50_70dB.wav', '../Stimuli_Intensitätsmorphs\\\\nf01_hap_w05_o_75_70dB.wav', '../Stimuli_Intensitätsmorphs\\\\nf01_sad_w01_c_100_70dB.wav', '../Stimuli_Intensitätsmorphs\\\\nf01_sad_w01_c_25_70dB.wav', '../Stimuli_Intensitätsmorphs\\\\nf01_sad_w01_c_50_70dB.wav', '../Stimuli_Intensitätsmorphs\\\\nf01_sad_w01_c_75_70dB.wav', '../Stimuli_Intensitätsmorphs\\\\nf01_sad_w02_c_100_70dB.wav', '../Stimuli_Intensitätsmorphs\\\\nf01_sad_w02_c_25_70dB.wav', '../Stimuli_Intensitätsmorphs\\\\nf01_sad_w02_c_50_70dB.wav', '../Stimuli_Intensitätsmorphs\\\\nf01_sad_w02_c_75_70dB.wav', '../Stimuli_Intensitätsmorphs\\\\nf01_sad_w03_c_100_70dB.wav', '../Stimuli_Intensitätsmorphs\\\\nf01_sad_w03_c_25_70dB.wav', '../Stimuli_Intensitätsmorphs\\\\nf01_sad_w03_c_50_70dB.wav', '../Stimuli_Intensitätsmorphs\\\\nf01_sad_w03_c_75_70dB.wav', '../Stimuli_Intensitätsmorphs\\\\nf01_sad_w05_o_100_70dB.wav', '../Stimuli_Intensitätsmorphs\\\\nf01_sad_w05_o_25_70dB.wav', '../Stimuli_Intensitätsmorphs\\\\nf01_sad_w05_o_50_70dB.wav', '../Stimuli_Intensitätsmorphs\\\\nf01_sad_w05_o_75_70dB.wav', '../Stimuli_Intensitätsmorphs\\\\nf01_sur_w01_o_100_70dB.wav', '../Stimuli_Intensitätsmorphs\\\\nf01_sur_w01_o_25_70dB.wav', '../Stimuli_Intensitätsmorphs\\\\nf01_sur_w01_o_50_70dB.wav', '../Stimuli_Intensitätsmorphs\\\\nf01_sur_w01_o_75_70dB.wav', '../Stimuli_Intensitätsmorphs\\\\nf01_sur_w02_o_100_70dB.wav', '../Stimuli_Intensitätsmorphs\\\\nf01_sur_w02_o_25_70dB.wav', '../Stimuli_Intensitätsmorphs\\\\nf01_sur_w02_o_50_70dB.wav', '../Stimuli_Intensitätsmorphs\\\\nf01_sur_w02_o_75_70dB.wav', '../Stimuli_Intensitätsmorphs\\\\nf01_sur_w03_c_100_70dB.wav', '../Stimuli_Intensitätsmorphs\\\\nf01_sur_w03_c_25_70dB.wav', '../Stimuli_Intensitätsmorphs\\\\nf01_sur_w03_c_50_70dB.wav', '../Stimuli_Intensitätsmorphs\\\\nf01_sur_w03_c_75_70dB.wav', '../Stimuli_Intensitätsmorphs\\\\nf01_sur_w05_o_100_70dB.wav', '../Stimuli_Intensitätsmorphs\\\\nf01_sur_w05_o_25_70dB.wav', '../Stimuli_Intensitätsmorphs\\\\nf01_sur_w05_o_50_70dB.wav', '../Stimuli_Intensitätsmorphs\\\\nf01_sur_w05_o_75_70dB.wav', '../Stimuli_Intensitätsmorphs\\\\nf02_ang_w01_o_100_70dB.wav', '../Stimuli_Intensitätsmorphs\\\\nf02_ang_w01_o_25_70dB.wav', '../Stimuli_Intensitätsmorphs\\\\nf02_ang_w01_o_50_70dB.wav', '../Stimuli_Intensitätsmorphs\\\\nf02_ang_w01_o_75_70dB.wav', '../Stimuli_Intensitätsmorphs\\\\nf02_ang_w02_o_100_70dB.wav', '../Stimuli_Intensitätsmorphs\\\\nf02_ang_w02_o_25_70dB.wav', '../Stimuli_Intensitätsmorphs\\\\nf02_ang_w02_o_50_70dB.wav', '../Stimuli_Intensitätsmorphs\\\\nf02_ang_w02_o_75_70dB.wav', '../Stimuli_Intensitätsmorphs\\\\nf02_ang_w03_o_100_70dB.wav', '../Stimuli_Intensitätsmorphs\\\\nf02_ang_w03_o_25_70dB.wav', '../Stimuli_Intensitätsmorphs\\\\nf02_ang_w03_o_50_70dB.wav', '../Stimuli_Intensitätsmorphs\\\\nf02_ang_w03_o_75_70dB.wav', '../Stimuli_Intensitätsmorphs\\\\nf02_ang_w05_o_100_70dB.wav', '../Stimuli_Intensitätsmorphs\\\\nf02_ang_w05_o_25_70dB.wav', '../Stimuli_Intensitätsmorphs\\\\nf02_ang_w05_o_50_70dB.wav', '../Stimuli_Intensitätsmorphs\\\\nf02_ang_w05_o_75_70dB.wav', '../Stimuli_Intensitätsmorphs\\\\nf02_dis_w01_o_100_70dB.wav', '../Stimuli_Intensitätsmorphs\\\\nf02_dis_w01_o_25_70dB.wav', '../Stimuli_Intensitätsmorphs\\\\nf02_dis_w01_o_50_70dB.wav', '../Stimuli_Intensitätsmorphs\\\\nf02_dis_w01_o_75_70dB.wav', '../Stimuli_Intensitätsmorphs\\\\nf02_dis_w02_o_100_70dB.wav', '../Stimuli_Intensitätsmorphs\\\\nf02_dis_w02_o_25_70dB.wav', '../Stimuli_Intensitätsmorphs\\\\nf02_dis_w02_o_50_70dB.wav', '../Stimuli_Intensitätsmorphs\\\\nf02_dis_w02_o_75_70dB.wav', '../Stimuli_Intensitätsmorphs\\\\nf02_dis_w03_c_100_70dB.wav', '../Stimuli_Intensitätsmorphs\\\\nf02_dis_w03_c_25_70dB.wav', '../Stimuli_Intensitätsmorphs\\\\nf02_dis_w03_c_50_70dB.wav', '../Stimuli_Intensitätsmorphs\\\\nf02_dis_w03_c_75_70dB.wav', '../Stimuli_Intensitätsmorphs\\\\nf02_dis_w05_o_100_70dB.wav', '../Stimuli_Intensitätsmorphs\\\\nf02_dis_w05_o_25_70dB.wav', '../Stimuli_Intensitätsmorphs\\\\nf02_dis_w05_o_50_70dB.wav', '../Stimuli_Intensitätsmorphs\\\\nf02_dis_w05_o_75_70dB.wav', '../Stimuli_Intensitätsmorphs\\\\nf02_fea_w01_o_100_70dB.wav', '../Stimuli_Intensitätsmorphs\\\\nf02_fea_w01_o_25_70dB.wav', '../Stimuli_Intensitätsmorphs\\\\nf02_fea_w01_o_50_70dB.wav', '../Stimuli_Intensitätsmorphs\\\\nf02_fea_w01_o_75_70dB.wav', '../Stimuli_Intensitätsmorphs\\\\nf02_fea_w02_o_100_70dB.wav', '../Stimuli_Intensitätsmorphs\\\\nf02_fea_w02_o_25_70dB.wav', '../Stimuli_Intensitätsmorphs\\\\nf02_fea_w02_o_50_70dB.wav', '../Stimuli_Intensitätsmorphs\\\\nf02_fea_w02_o_75_70dB.wav', '../Stimuli_Intensitätsmorphs\\\\nf02_fea_w03_o_100_70dB.wav', '../Stimuli_Intensitätsmorphs\\\\nf02_fea_w03_o_25_70dB.wav', '../Stimuli_Intensitätsmorphs\\\\nf02_fea_w03_o_50_70dB.wav', '../Stimuli_Intensitätsmorphs\\\\nf02_fea_w03_o_75_70dB.wav', '../Stimuli_Intensitätsmorphs\\\\nf02_fea_w05_o_100_70dB.wav', '../Stimuli_Intensitätsmorphs\\\\nf02_fea_w05_o_25_70dB.wav', '../Stimuli_Intensitätsmorphs\\\\nf02_fea_w05_o_50_70dB.wav', '../Stimuli_Intensitätsmorphs\\\\nf02_fea_w05_o_75_70dB.wav', '../Stimuli_Intensitätsmorphs\\\\nf02_hap_w01_o_100_70dB.wav', '../Stimuli_Intensitätsmorphs\\\\nf02_hap_w01_o_25_70dB.wav', '../Stimuli_Intensitätsmorphs\\\\nf02_hap_w01_o_50_70dB.wav', '../Stimuli_Intensitätsmorphs\\\\nf02_hap_w01_o_75_70dB.wav', '../Stimuli_Intensitätsmorphs\\\\nf02_hap_w02_o_100_70dB.wav', '../Stimuli_Intensitätsmorphs\\\\nf02_hap_w02_o_25_70dB.wav', '../Stimuli_Intensitätsmorphs\\\\nf02_hap_w02_o_50_70dB.wav', '../Stimuli_Intensitätsmorphs\\\\nf02_hap_w02_o_75_70dB.wav', '../Stimuli_Intensitätsmorphs\\\\nf02_hap_w03_o_100_70dB.wav', '../Stimuli_Intensitätsmorphs\\\\nf02_hap_w03_o_25_70dB.wav', '../Stimuli_Intensitätsmorphs\\\\nf02_hap_w03_o_50_70dB.wav', '../Stimuli_Intensitätsmorphs\\\\nf02_hap_w03_o_75_70dB.wav', '../Stimuli_Intensitätsmorphs\\\\nf02_hap_w05_o_100_70dB.wav', '../Stimuli_Intensitätsmorphs\\\\nf02_hap_w05_o_25_70dB.wav', '../Stimuli_Intensitätsmorphs\\\\nf02_hap_w05_o_50_70dB.wav', '../Stimuli_Intensitätsmorphs\\\\nf02_hap_w05_o_75_70dB.wav', '../Stimuli_Intensitätsmorphs\\\\nf02_sad_w01_c_100_70dB.wav', '../Stimuli_Intensitätsmorphs\\\\nf02_sad_w01_c_25_70dB.wav', '../Stimuli_Intensitätsmorphs\\\\nf02_sad_w01_c_50_70dB.wav', '../Stimuli_Intensitätsmorphs\\\\nf02_sad_w01_c_75_70dB.wav', '../Stimuli_Intensitätsmorphs\\\\nf02_sad_w02_c_100_70dB.wav', '../Stimuli_Intensitätsmorphs\\\\nf02_sad_w02_c_25_70dB.wav', '../Stimuli_Intensitätsmorphs\\\\nf02_sad_w02_c_50_70dB.wav', '../Stimuli_Intensitätsmorphs\\\\nf02_sad_w02_c_75_70dB.wav', '../Stimuli_Intensitätsmorphs\\\\nf02_sad_w03_c_100_70dB.wav', '../Stimuli_Intensitätsmorphs\\\\nf02_sad_w03_c_25_70dB.wav', '../Stimuli_Intensitätsmorphs\\\\nf02_sad_w03_c_50_70dB.wav', '../Stimuli_Intensitätsmorphs\\\\nf02_sad_w03_c_75_70dB.wav', '../Stimuli_Intensitätsmorphs\\\\nf02_sad_w05_c_100_70dB.wav', '../Stimuli_Intensitätsmorphs\\\\nf02_sad_w05_c_25_70dB.wav', '../Stimuli_Intensitätsmorphs\\\\nf02_sad_w05_c_50_70dB.wav', '../Stimuli_Intensitätsmorphs\\\\nf02_sad_w05_c_75_70dB.wav', '../Stimuli_Intensitätsmorphs\\\\nf02_sur_w01_o_100_70dB.wav', '../Stimuli_Intensitätsmorphs\\\\nf02_sur_w01_o_25_70dB.wav', '../Stimuli_Intensitätsmorphs\\\\nf02_sur_w01_o_50_70dB.wav', '../Stimuli_Intensitätsmorphs\\\\nf02_sur_w01_o_75_70dB.wav', '../Stimuli_Intensitätsmorphs\\\\nf02_sur_w02_c_100_70dB.wav', '../Stimuli_Intensitätsmorphs\\\\nf02_sur_w02_c_25_70dB.wav', '../Stimuli_Intensitätsmorphs\\\\nf02_sur_w02_c_50_70dB.wav', '../Stimuli_Intensitätsmorphs\\\\nf02_sur_w02_c_75_70dB.wav', '../Stimuli_Intensitätsmorphs\\\\nf02_sur_w03_o_100_70dB.wav', '../Stimuli_Intensitätsmorphs\\\\nf02_sur_w03_o_25_70dB.wav', '../Stimuli_Intensitätsmorphs\\\\nf02_sur_w03_o_50_70dB.wav', '../Stimuli_Intensitätsmorphs\\\\nf02_sur_w03_o_75_70dB.wav', '../Stimuli_Intensitätsmorphs\\\\nf02_sur_w05_c_100_70dB.wav', '../Stimuli_Intensitätsmorphs\\\\nf02_sur_w05_c_25_70dB.wav', '../Stimuli_Intensitätsmorphs\\\\nf02_sur_w05_c_50_70dB.wav', '../Stimuli_Intensitätsmorphs\\\\nf02_sur_w05_c_75_70dB.wav', '../Stimuli_Intensitätsmorphs\\\\nf03_ang_w01_o_100_70dB.wav', '../Stimuli_Intensitätsmorphs\\\\nf03_ang_w01_o_25_70dB.wav', '../Stimuli_Intensitätsmorphs\\\\nf03_ang_w01_o_50_70dB.wav', '../Stimuli_Intensitätsmorphs\\\\nf03_ang_w01_o_75_70dB.wav', '../Stimuli_Intensitätsmorphs\\\\nf03_ang_w02_o_100_70dB.wav', '../Stimuli_Intensitätsmorphs\\\\nf03_ang_w02_o_25_70dB.wav', '../Stimuli_Intensitätsmorphs\\\\nf03_ang_w02_o_50_70dB.wav', '../Stimuli_Intensitätsmorphs\\\\nf03_ang_w02_o_75_70dB.wav', '../Stimuli_Intensitätsmorphs\\\\nf03_ang_w03_o_100_70dB.wav', '../Stimuli_Intensitätsmorphs\\\\nf03_ang_w03_o_25_70dB.wav', '../Stimuli_Intensitätsmorphs\\\\nf03_ang_w03_o_50_70dB.wav', '../Stimuli_Intensitätsmorphs\\\\nf03_ang_w03_o_75_70dB.wav', '../Stimuli_Intensitätsmorphs\\\\nf03_ang_w05_o_100_70dB.wav', '../Stimuli_Intensitätsmorphs\\\\nf03_ang_w05_o_25_70dB.wav', '../Stimuli_Intensitätsmorphs\\\\nf03_ang_w05_o_50_70dB.wav', '../Stimuli_Intensitätsmorphs\\\\nf03_ang_w05_o_75_70dB.wav', '../Stimuli_Intensitätsmorphs\\\\nf03_dis_w01_c_100_70dB.wav', '../Stimuli_Intensitätsmorphs\\\\nf03_dis_w01_c_25_70dB.wav', '../Stimuli_Intensitätsmorphs\\\\nf03_dis_w01_c_50_70dB.wav', '../Stimuli_Intensitätsmorphs\\\\nf03_dis_w01_c_75_70dB.wav', '../Stimuli_Intensitätsmorphs\\\\nf03_dis_w02_c_100_70dB.wav', '../Stimuli_Intensitätsmorphs\\\\nf03_dis_w02_c_25_70dB.wav', '../Stimuli_Intensitätsmorphs\\\\nf03_dis_w02_c_50_70dB.wav', '../Stimuli_Intensitätsmorphs\\\\nf03_dis_w02_c_75_70dB.wav', '../Stimuli_Intensitätsmorphs\\\\nf03_dis_w03_c_100_70dB.wav', '../Stimuli_Intensitätsmorphs\\\\nf03_dis_w03_c_25_70dB.wav', '../Stimuli_Intensitätsmorphs\\\\nf03_dis_w03_c_50_70dB.wav', '../Stimuli_Intensitätsmorphs\\\\nf03_dis_w03_c_75_70dB.wav', '../Stimuli_Intensitätsmorphs\\\\nf03_dis_w05_o_100_70dB.wav', '../Stimuli_Intensitätsmorphs\\\\nf03_dis_w05_o_25_70dB.wav', '../Stimuli_Intensitätsmorphs\\\\nf03_dis_w05_o_50_70dB.wav', '../Stimuli_Intensitätsmorphs\\\\nf03_dis_w05_o_75_70dB.wav', '../Stimuli_Intensitätsmorphs\\\\nf03_fea_w01_c_100_70dB.wav', '../Stimuli_Intensitätsmorphs\\\\nf03_fea_w01_c_25_70dB.wav', '../Stimuli_Intensitätsmorphs\\\\nf03_fea_w01_c_50_70dB.wav', '../Stimuli_Intensitätsmorphs\\\\nf03_fea_w01_c_75_70dB.wav', '../Stimuli_Intensitätsmorphs\\\\nf03_fea_w02_c_100_70dB.wav', '../Stimuli_Intensitätsmorphs\\\\nf03_fea_w02_c_25_70dB.wav', '../Stimuli_Intensitätsmorphs\\\\nf03_fea_w02_c_50_70dB.wav', '../Stimuli_Intensitätsmorphs\\\\nf03_fea_w02_c_75_70dB.wav', '../Stimuli_Intensitätsmorphs\\\\nf03_fea_w03_c_100_70dB.wav', '../Stimuli_Intensitätsmorphs\\\\nf03_fea_w03_c_25_70dB.wav', '../Stimuli_Intensitätsmorphs\\\\nf03_fea_w03_c_50_70dB.wav', '../Stimuli_Intensitätsmorphs\\\\nf03_fea_w03_c_75_70dB.wav', '../Stimuli_Intensitätsmorphs\\\\nf03_fea_w05_c_100_70dB.wav', '../Stimuli_Intensitätsmorphs\\\\nf03_fea_w05_c_25_70dB.wav', '../Stimuli_Intensitätsmorphs\\\\nf03_fea_w05_c_50_70dB.wav', '../Stimuli_Intensitätsmorphs\\\\nf03_fea_w05_c_75_70dB.wav', '../Stimuli_Intensitätsmorphs\\\\nf03_hap_w01_o_100_70dB.wav', '../Stimuli_Intensitätsmorphs\\\\nf03_hap_w01_o_25_70dB.wav', '../Stimuli_Intensitätsmorphs\\\\nf03_hap_w01_o_50_70dB.wav', '../Stimuli_Intensitätsmorphs\\\\nf03_hap_w01_o_75_70dB.wav', '../Stimuli_Intensitätsmorphs\\\\nf03_hap_w02_o_100_70dB.wav', '../Stimuli_Intensitätsmorphs\\\\nf03_hap_w02_o_25_70dB.wav', '../Stimuli_Intensitätsmorphs\\\\nf03_hap_w02_o_50_70dB.wav', '../Stimuli_Intensitätsmorphs\\\\nf03_hap_w02_o_75_70dB.wav', '../Stimuli_Intensitätsmorphs\\\\nf03_hap_w03_o_100_70dB.wav', '../Stimuli_Intensitätsmorphs\\\\nf03_hap_w03_o_25_70dB.wav', '../Stimuli_Intensitätsmorphs\\\\nf03_hap_w03_o_50_70dB.wav', '../Stimuli_Intensitätsmorphs\\\\nf03_hap_w03_o_75_70dB.wav', '../Stimuli_Intensitätsmorphs\\\\nf03_hap_w05_o_100_70dB.wav', '../Stimuli_Intensitätsmorphs\\\\nf03_hap_w05_o_25_70dB.wav', '../Stimuli_Intensitätsmorphs\\\\nf03_hap_w05_o_50_70dB.wav', '../Stimuli_Intensitätsmorphs\\\\nf03_hap_w05_o_75_70dB.wav', '../Stimuli_Intensitätsmorphs\\\\nf03_sad_w01_o_100_70dB.wav', '../Stimuli_Intensitätsmorphs\\\\nf03_sad_w01_o_25_70dB.wav', '../Stimuli_Intensitätsmorphs\\\\nf03_sad_w01_o_50_70dB.wav', '../Stimuli_Intensitätsmorphs\\\\nf03_sad_w01_o_75_70dB.wav', '../Stimuli_Intensitätsmorphs\\\\nf03_sad_w02_c_100_70dB.wav', '../Stimuli_Intensitätsmorphs\\\\nf03_sad_w02_c_25_70dB.wav', '../Stimuli_Intensitätsmorphs\\\\nf03_sad_w02_c_50_70dB.wav', '../Stimuli_Intensitätsmorphs\\\\nf03_sad_w02_c_75_70dB.wav', '../Stimuli_Intensitätsmorphs\\\\nf03_sad_w03_o_100_70dB.wav', '../Stimuli_Intensitätsmorphs\\\\nf03_sad_w03_o_25_70dB.wav', '../Stimuli_Intensitätsmorphs\\\\nf03_sad_w03_o_50_70dB.wav', '../Stimuli_Intensitätsmorphs\\\\nf03_sad_w03_o_75_70dB.wav', '../Stimuli_Intensitätsmorphs\\\\nf03_sad_w05_o_100_70dB.wav', '../Stimuli_Intensitätsmorphs\\\\nf03_sad_w05_o_25_70dB.wav', '../Stimuli_Intensitätsmorphs\\\\nf03_sad_w05_o_50_70dB.wav', '../Stimuli_Intensitätsmorphs\\\\nf03_sad_w05_o_75_70dB.wav', '../Stimuli_Intensitätsmorphs\\\\nf03_sur_w01_c_100_70dB.wav', '../Stimuli_Intensitätsmorphs\\\\nf03_sur_w01_c_25_70dB.wav', '../Stimuli_Intensitätsmorphs\\\\nf03_sur_w01_c_50_70dB.wav', '../Stimuli_Intensitätsmorphs\\\\nf03_sur_w01_c_75_70dB.wav', '../Stimuli_Intensitätsmorphs\\\\nf03_sur_w02_o_100_70dB.wav', '../Stimuli_Intensitätsmorphs\\\\nf03_sur_w02_o_25_70dB.wav', '../Stimuli_Intensitätsmorphs\\\\nf03_sur_w02_o_50_70dB.wav', '../Stimuli_Intensitätsmorphs\\\\nf03_sur_w02_o_75_70dB.wav', '../Stimuli_Intensitätsmorphs\\\\nf03_sur_w03_c_100_70dB.wav', '../Stimuli_Intensitätsmorphs\\\\nf03_sur_w03_c_25_70dB.wav', '../Stimuli_Intensitätsmorphs\\\\nf03_sur_w03_c_50_70dB.wav', '../Stimuli_Intensitätsmorphs\\\\nf03_sur_w03_c_75_70dB.wav', '../Stimuli_Intensitätsmorphs\\\\nf03_sur_w05_o_100_70dB.wav', '../Stimuli_Intensitätsmorphs\\\\nf03_sur_w05_o_25_70dB.wav', '../Stimuli_Intensitätsmorphs\\\\nf03_sur_w05_o_50_70dB.wav', '../Stimuli_Intensitätsmorphs\\\\nf03_sur_w05_o_75_70dB.wav', '../Stimuli_Intensitätsmorphs\\\\nf04_ang_w01_o_100_70dB.wav', '../Stimuli_Intensitätsmorphs\\\\nf04_ang_w01_o_25_70dB.wav', '../Stimuli_Intensitätsmorphs\\\\nf04_ang_w01_o_50_70dB.wav', '../Stimuli_Intensitätsmorphs\\\\nf04_ang_w01_o_75_70dB.wav', '../Stimuli_Intensitätsmorphs\\\\nf04_ang_w02_o_100_70dB.wav', '../Stimuli_Intensitätsmorphs\\\\nf04_ang_w02_o_25_70dB.wav', '../Stimuli_Intensitätsmorphs\\\\nf04_ang_w02_o_50_70dB.wav', '../Stimuli_Intensitätsmorphs\\\\nf04_ang_w02_o_75_70dB.wav', '../Stimuli_Intensitätsmorphs\\\\nf04_ang_w03_o_100_70dB.wav', '../Stimuli_Intensitätsmorphs\\\\nf04_ang_w03_o_25_70dB.wav', '../Stimuli_Intensitätsmorphs\\\\nf04_ang_w03_o_50_70dB.wav', '../Stimuli_Intensitätsmorphs\\\\nf04_ang_w03_o_75_70dB.wav', '../Stimuli_Intensitätsmorphs\\\\nf04_ang_w05_o_100_70dB.wav', '../Stimuli_Intensitätsmorphs\\\\nf04_ang_w05_o_25_70dB.wav', '../Stimuli_Intensitätsmorphs\\\\nf04_ang_w05_o_50_70dB.wav', '../Stimuli_Intensitätsmorphs\\\\nf04_ang_w05_o_75_70dB.wav', '../Stimuli_Intensitätsmorphs\\\\nf04_dis_w01_o_100_70dB.wav', '../Stimuli_Intensitätsmorphs\\\\nf04_dis_w01_o_25_70dB.wav', '../Stimuli_Intensitätsmorphs\\\\nf04_dis_w01_o_50_70dB.wav', '../Stimuli_Intensitätsmorphs\\\\nf04_dis_w01_o_75_70dB.wav', '../Stimuli_Intensitätsmorphs\\\\nf04_dis_w02_o_100_70dB.wav', '../Stimuli_Intensitätsmorphs\\\\nf04_dis_w02_o_25_70dB.wav', '../Stimuli_Intensitätsmorphs\\\\nf04_dis_w02_o_50_70dB.wav', '../Stimuli_Intensitätsmorphs\\\\nf04_dis_w02_o_75_70dB.wav', '../Stimuli_Intensitätsmorphs\\\\nf04_dis_w03_c_100_70dB.wav', '../Stimuli_Intensitätsmorphs\\\\nf04_dis_w03_c_25_70dB.wav', '../Stimuli_Intensitätsmorphs\\\\nf04_dis_w03_c_50_70dB.wav', '../Stimuli_Intensitätsmorphs\\\\nf04_dis_w03_c_75_70dB.wav', '../Stimuli_Intensitätsmorphs\\\\nf04_dis_w05_c_100_70dB.wav', '../Stimuli_Intensitätsmorphs\\\\nf04_dis_w05_c_25_70dB.wav', '../Stimuli_Intensitätsmorphs\\\\nf04_dis_w05_c_50_70dB.wav', '../Stimuli_Intensitätsmorphs\\\\nf04_dis_w05_c_75_70dB.wav', '../Stimuli_Intensitätsmorphs\\\\nf04_fea_w01_c_100_70dB.wav', '../Stimuli_Intensitätsmorphs\\\\nf04_fea_w01_c_25_70dB.wav', '../Stimuli_Intensitätsmorphs\\\\nf04_fea_w01_c_50_70dB.wav', '../Stimuli_Intensitätsmorphs\\\\nf04_fea_w01_c_75_70dB.wav', '../Stimuli_Intensitätsmorphs\\\\nf04_fea_w02_c_100_70dB.wav', '../Stimuli_Intensitätsmorphs\\\\nf04_fea_w02_c_25_70dB.wav', '../Stimuli_Intensitätsmorphs\\\\nf04_fea_w02_c_50_70dB.wav', '../Stimuli_Intensitätsmorphs\\\\nf04_fea_w02_c_75_70dB.wav', '../Stimuli_Intensitätsmorphs\\\\nf04_fea_w03_o_100_70dB.wav', '../Stimuli_Intensitätsmorphs\\\\nf04_fea_w03_o_25_70dB.wav', '../Stimuli_Intensitätsmorphs\\\\nf04_fea_w03_o_50_70dB.wav', '../Stimuli_Intensitätsmorphs\\\\nf04_fea_w03_o_75_70dB.wav', '../Stimuli_Intensitätsmorphs\\\\nf04_fea_w05_c_100_70dB.wav', '../Stimuli_Intensitätsmorphs\\\\nf04_fea_w05_c_25_70dB.wav', '../Stimuli_Intensitätsmorphs\\\\nf04_fea_w05_c_50_70dB.wav', '../Stimuli_Intensitätsmorphs\\\\nf04_fea_w05_c_75_70dB.wav', '../Stimuli_Intensitätsmorphs\\\\nf04_hap_w01_o_100_70dB.wav', '../Stimuli_Intensitätsmorphs\\\\nf04_hap_w01_o_25_70dB.wav', '../Stimuli_Intensitätsmorphs\\\\nf04_hap_w01_o_50_70dB.wav', '../Stimuli_Intensitätsmorphs\\\\nf04_hap_w01_o_75_70dB.wav', '../Stimuli_Intensitätsmorphs\\\\nf04_hap_w02_o_100_70dB.wav', '../Stimuli_Intensitätsmorphs\\\\nf04_hap_w02_o_25_70dB.wav', '../Stimuli_Intensitätsmorphs\\\\nf04_hap_w02_o_50_70dB.wav', '../Stimuli_Intensitätsmorphs\\\\nf04_hap_w02_o_75_70dB.wav', '../Stimuli_Intensitätsmorphs\\\\nf04_hap_w03_o_100_70dB.wav', '../Stimuli_Intensitätsmorphs\\\\nf04_hap_w03_o_25_70dB.wav', '../Stimuli_Intensitätsmorphs\\\\nf04_hap_w03_o_50_70dB.wav', '../Stimuli_Intensitätsmorphs\\\\nf04_hap_w03_o_75_70dB.wav', '../Stimuli_Intensitätsmorphs\\\\nf04_hap_w05_o_100_70dB.wav', '../Stimuli_Intensitätsmorphs\\\\nf04_hap_w05_o_25_70dB.wav', '../Stimuli_Intensitätsmorphs\\\\nf04_hap_w05_o_50_70dB.wav', '../Stimuli_Intensitätsmorphs\\\\nf04_hap_w05_o_75_70dB.wav', '../Stimuli_Intensitätsmorphs\\\\nf04_sad_w01_c_100_70dB.wav', '../Stimuli_Intensitätsmorphs\\\\nf04_sad_w01_c_25_70dB.wav', '../Stimuli_Intensitätsmorphs\\\\nf04_sad_w01_c_50_70dB.wav', '../Stimuli_Intensitätsmorphs\\\\nf04_sad_w01_c_75_70dB.wav', '../Stimuli_Intensitätsmorphs\\\\nf04_sad_w02_c_100_70dB.wav', '../Stimuli_Intensitätsmorphs\\\\nf04_sad_w02_c_25_70dB.wav', '../Stimuli_Intensitätsmorphs\\\\nf04_sad_w02_c_50_70dB.wav', '../Stimuli_Intensitätsmorphs\\\\nf04_sad_w02_c_75_70dB.wav', '../Stimuli_Intensitätsmorphs\\\\nf04_sad_w03_o_100_70dB.wav', '../Stimuli_Intensitätsmorphs\\\\nf04_sad_w03_o_25_70dB.wav', '../Stimuli_Intensitätsmorphs\\\\nf04_sad_w03_o_50_70dB.wav', '../Stimuli_Intensitätsmorphs\\\\nf04_sad_w03_o_75_70dB.wav', '../Stimuli_Intensitätsmorphs\\\\nf04_sad_w05_o_100_70dB.wav', '../Stimuli_Intensitätsmorphs\\\\nf04_sad_w05_o_25_70dB.wav', '../Stimuli_Intensitätsmorphs\\\\nf04_sad_w05_o_50_70dB.wav', '../Stimuli_Intensitätsmorphs\\\\nf04_sad_w05_o_75_70dB.wav', '../Stimuli_Intensitätsmorphs\\\\nf04_sur_w01_o_100_70dB.wav', '../Stimuli_Intensitätsmorphs\\\\nf04_sur_w01_o_25_70dB.wav', '../Stimuli_Intensitätsmorphs\\\\nf04_sur_w01_o_50_70dB.wav', '../Stimuli_Intensitätsmorphs\\\\nf04_sur_w01_o_75_70dB.wav', '../Stimuli_Intensitätsmorphs\\\\nf04_sur_w02_o_100_70dB.wav', '../Stimuli_Intensitätsmorphs\\\\nf04_sur_w02_o_25_70dB.wav', '../Stimuli_Intensitätsmorphs\\\\nf04_sur_w02_o_50_70dB.wav', '../Stimuli_Intensitätsmorphs\\\\nf04_sur_w02_o_75_70dB.wav', '../Stimuli_Intensitätsmorphs\\\\nf04_sur_w03_c_100_70dB.wav', '../Stimuli_Intensitätsmorphs\\\\nf04_sur_w03_c_25_70dB.wav', '../Stimuli_Intensitätsmorphs\\\\nf04_sur_w03_c_50_70dB.wav', '../Stimuli_Intensitätsmorphs\\\\nf04_sur_w03_c_75_70dB.wav', '../Stimuli_Intensitätsmorphs\\\\nf04_sur_w05_o_100_70dB.wav', '../Stimuli_Intensitätsmorphs\\\\nf04_sur_w05_o_25_70dB.wav', '../Stimuli_Intensitätsmorphs\\\\nf04_sur_w05_o_50_70dB.wav', '../Stimuli_Intensitätsmorphs\\\\nf04_sur_w05_o_75_70dB.wav', '../Stimuli_Intensitätsmorphs\\\\nm01_ang_w01_o_100_70dB.wav', '../Stimuli_Intensitätsmorphs\\\\nm01_ang_w01_o_25_70dB.wav', '../Stimuli_Intensitätsmorphs\\\\nm01_ang_w01_o_50_70dB.wav', '../Stimuli_Intensitätsmorphs\\\\nm01_ang_w01_o_75_70dB.wav', '../Stimuli_Intensitätsmorphs\\\\nm01_ang_w02_o_100_70dB.wav', '../Stimuli_Intensitätsmorphs\\\\nm01_ang_w02_o_25_70dB.wav', '../Stimuli_Intensitätsmorphs\\\\nm01_ang_w02_o_50_70dB.wav', '../Stimuli_Intensitätsmorphs\\\\nm01_ang_w02_o_75_70dB.wav', '../Stimuli_Intensitätsmorphs\\\\nm01_ang_w03_o_100_70dB.wav', '../Stimuli_Intensitätsmorphs\\\\nm01_ang_w03_o_25_70dB.wav', '../Stimuli_Intensitätsmorphs\\\\nm01_ang_w03_o_50_70dB.wav', '../Stimuli_Intensitätsmorphs\\\\nm01_ang_w03_o_75_70dB.wav', '../Stimuli_Intensitätsmorphs\\\\nm01_ang_w05_o_100_70dB.wav', '../Stimuli_Intensitätsmorphs\\\\nm01_ang_w05_o_25_70dB.wav', '../Stimuli_Intensitätsmorphs\\\\nm01_ang_w05_o_50_70dB.wav', '../Stimuli_Intensitätsmorphs\\\\nm01_ang_w05_o_75_70dB.wav', '../Stimuli_Intensitätsmorphs\\\\nm01_dis_w01_o_100_70dB.wav', '../Stimuli_Intensitätsmorphs\\\\nm01_dis_w01_o_25_70dB.wav', '../Stimuli_Intensitätsmorphs\\\\nm01_dis_w01_o_50_70dB.wav', '../Stimuli_Intensitätsmorphs\\\\nm01_dis_w01_o_75_70dB.wav', '../Stimuli_Intensitätsmorphs\\\\nm01_dis_w02_c_100_70dB.wav', '../Stimuli_Intensitätsmorphs\\\\nm01_dis_w02_c_25_70dB.wav', '../Stimuli_Intensitätsmorphs\\\\nm01_dis_w02_c_50_70dB.wav', '../Stimuli_Intensitätsmorphs\\\\nm01_dis_w02_c_75_70dB.wav', '../Stimuli_Intensitätsmorphs\\\\nm01_dis_w03_o_100_70dB.wav', '../Stimuli_Intensitätsmorphs\\\\nm01_dis_w03_o_25_70dB.wav', '../Stimuli_Intensitätsmorphs\\\\nm01_dis_w03_o_50_70dB.wav', '../Stimuli_Intensitätsmorphs\\\\nm01_dis_w03_o_75_70dB.wav', '../Stimuli_Intensitätsmorphs\\\\nm01_dis_w05_o_100_70dB.wav', '../Stimuli_Intensitätsmorphs\\\\nm01_dis_w05_o_25_70dB.wav', '../Stimuli_Intensitätsmorphs\\\\nm01_dis_w05_o_50_70dB.wav', '../Stimuli_Intensitätsmorphs\\\\nm01_dis_w05_o_75_70dB.wav', '../Stimuli_Intensitätsmorphs\\\\nm01_fea_w01_o_100_70dB.wav', '../Stimuli_Intensitätsmorphs\\\\nm01_fea_w01_o_25_70dB.wav', '../Stimuli_Intensitätsmorphs\\\\nm01_fea_w01_o_50_70dB.wav', '../Stimuli_Intensitätsmorphs\\\\nm01_fea_w01_o_75_70dB.wav', '../Stimuli_Intensitätsmorphs\\\\nm01_fea_w02_o_100_70dB.wav', '../Stimuli_Intensitätsmorphs\\\\nm01_fea_w02_o_25_70dB.wav', '../Stimuli_Intensitätsmorphs\\\\nm01_fea_w02_o_50_70dB.wav', '../Stimuli_Intensitätsmorphs\\\\nm01_fea_w02_o_75_70dB.wav', '../Stimuli_Intensitätsmorphs\\\\nm01_fea_w03_c_100_70dB.wav', '../Stimuli_Intensitätsmorphs\\\\nm01_fea_w03_c_25_70dB.wav', '../Stimuli_Intensitätsmorphs\\\\nm01_fea_w03_c_50_70dB.wav', '../Stimuli_Intensitätsmorphs\\\\nm01_fea_w03_c_75_70dB.wav', '../Stimuli_Intensitätsmorphs\\\\nm01_fea_w05_c_100_70dB.wav', '../Stimuli_Intensitätsmorphs\\\\nm01_fea_w05_c_25_70dB.wav', '../Stimuli_Intensitätsmorphs\\\\nm01_fea_w05_c_50_70dB.wav', '../Stimuli_Intensitätsmorphs\\\\nm01_fea_w05_c_75_70dB.wav', '../Stimuli_Intensitätsmorphs\\\\nm01_hap_w01_c_100_70dB.wav', '../Stimuli_Intensitätsmorphs\\\\nm01_hap_w01_c_25_70dB.wav', '../Stimuli_Intensitätsmorphs\\\\nm01_hap_w01_c_50_70dB.wav', '../Stimuli_Intensitätsmorphs\\\\nm01_hap_w01_c_75_70dB.wav', '../Stimuli_Intensitätsmorphs\\\\nm01_hap_w02_o_100_70dB.wav', '../Stimuli_Intensitätsmorphs\\\\nm01_hap_w02_o_25_70dB.wav', '../Stimuli_Intensitätsmorphs\\\\nm01_hap_w02_o_50_70dB.wav', '../Stimuli_Intensitätsmorphs\\\\nm01_hap_w02_o_75_70dB.wav', '../Stimuli_Intensitätsmorphs\\\\nm01_hap_w03_o_100_70dB.wav', '../Stimuli_Intensitätsmorphs\\\\nm01_hap_w03_o_25_70dB.wav', '../Stimuli_Intensitätsmorphs\\\\nm01_hap_w03_o_50_70dB.wav', '../Stimuli_Intensitätsmorphs\\\\nm01_hap_w03_o_75_70dB.wav', '../Stimuli_Intensitätsmorphs\\\\nm01_hap_w05_o_100_70dB.wav', '../Stimuli_Intensitätsmorphs\\\\nm01_hap_w05_o_25_70dB.wav', '../Stimuli_Intensitätsmorphs\\\\nm01_hap_w05_o_50_70dB.wav', '../Stimuli_Intensitätsmorphs\\\\nm01_hap_w05_o_75_70dB.wav', '../Stimuli_Intensitätsmorphs\\\\nm01_sad_w01_c_100_70dB.wav', '../Stimuli_Intensitätsmorphs\\\\nm01_sad_w01_c_25_70dB.wav', '../Stimuli_Intensitätsmorphs\\\\nm01_sad_w01_c_50_70dB.wav', '../Stimuli_Intensitätsmorphs\\\\nm01_sad_w01_c_75_70dB.wav', '../Stimuli_Intensitätsmorphs\\\\nm01_sad_w02_o_100_70dB.wav', '../Stimuli_Intensitätsmorphs\\\\nm01_sad_w02_o_25_70dB.wav', '../Stimuli_Intensitätsmorphs\\\\nm01_sad_w02_o_50_70dB.wav', '../Stimuli_Intensitätsmorphs\\\\nm01_sad_w02_o_75_70dB.wav', '../Stimuli_Intensitätsmorphs\\\\nm01_sad_w03_c_100_70dB.wav', '../Stimuli_Intensitätsmorphs\\\\nm01_sad_w03_c_25_70dB.wav', '../Stimuli_Intensitätsmorphs\\\\nm01_sad_w03_c_50_70dB.wav', '../Stimuli_Intensitätsmorphs\\\\nm01_sad_w03_c_75_70dB.wav', '../Stimuli_Intensitätsmorphs\\\\nm01_sad_w05_o_100_70dB.wav', '../Stimuli_Intensitätsmorphs\\\\nm01_sad_w05_o_25_70dB.wav', '../Stimuli_Intensitätsmorphs\\\\nm01_sad_w05_o_50_70dB.wav', '../Stimuli_Intensitätsmorphs\\\\nm01_sad_w05_o_75_70dB.wav', '../Stimuli_Intensitätsmorphs\\\\nm01_sur_w01_o_100_70dB.wav', '../Stimuli_Intensitätsmorphs\\\\nm01_sur_w01_o_25_70dB.wav', '../Stimuli_Intensitätsmorphs\\\\nm01_sur_w01_o_50_70dB.wav', '../Stimuli_Intensitätsmorphs\\\\nm01_sur_w01_o_75_70dB.wav', '../Stimuli_Intensitätsmorphs\\\\nm01_sur_w02_o_100_70dB.wav', '../Stimuli_Intensitätsmorphs\\\\nm01_sur_w02_o_25_70dB.wav', '../Stimuli_Intensitätsmorphs\\\\nm01_sur_w02_o_50_70dB.wav', '../Stimuli_Intensitätsmorphs\\\\nm01_sur_w02_o_75_70dB.wav', '../Stimuli_Intensitätsmorphs\\\\nm01_sur_w03_o_100_70dB.wav', '../Stimuli_Intensitätsmorphs\\\\nm01_sur_w03_o_25_70dB.wav', '../Stimuli_Intensitätsmorphs\\\\nm01_sur_w03_o_50_70dB.wav', '../Stimuli_Intensitätsmorphs\\\\nm01_sur_w03_o_75_70dB.wav', '../Stimuli_Intensitätsmorphs\\\\nm01_sur_w05_o_100_70dB.wav', '../Stimuli_Intensitätsmorphs\\\\nm01_sur_w05_o_25_70dB.wav', '../Stimuli_Intensitätsmorphs\\\\nm01_sur_w05_o_50_70dB.wav', '../Stimuli_Intensitätsmorphs\\\\nm01_sur_w05_o_75_70dB.wav', '../Stimuli_Intensitätsmorphs\\\\nm02_ang_w01_o_100_70dB.wav', '../Stimuli_Intensitätsmorphs\\\\nm02_ang_w01_o_25_70dB.wav', '../Stimuli_Intensitätsmorphs\\\\nm02_ang_w01_o_50_70dB.wav', '../Stimuli_Intensitätsmorphs\\\\nm02_ang_w01_o_75_70dB.wav', '../Stimuli_Intensitätsmorphs\\\\nm02_ang_w02_c_100_70dB.wav', '../Stimuli_Intensitätsmorphs\\\\nm02_ang_w02_c_25_70dB.wav', '../Stimuli_Intensitätsmorphs\\\\nm02_ang_w02_c_50_70dB.wav', '../Stimuli_Intensitätsmorphs\\\\nm02_ang_w02_c_75_70dB.wav', '../Stimuli_Intensitätsmorphs\\\\nm02_ang_w03_o_100_70dB.wav', '../Stimuli_Intensitätsmorphs\\\\nm02_ang_w03_o_25_70dB.wav', '../Stimuli_Intensitätsmorphs\\\\nm02_ang_w03_o_50_70dB.wav', '../Stimuli_Intensitätsmorphs\\\\nm02_ang_w03_o_75_70dB.wav', '../Stimuli_Intensitätsmorphs\\\\nm02_ang_w05_o_100_70dB.wav', '../Stimuli_Intensitätsmorphs\\\\nm02_ang_w05_o_25_70dB.wav', '../Stimuli_Intensitätsmorphs\\\\nm02_ang_w05_o_50_70dB.wav', '../Stimuli_Intensitätsmorphs\\\\nm02_ang_w05_o_75_70dB.wav', '../Stimuli_Intensitätsmorphs\\\\nm02_dis_w01_o_100_70dB.wav', '../Stimuli_Intensitätsmorphs\\\\nm02_dis_w01_o_25_70dB.wav', '../Stimuli_Intensitätsmorphs\\\\nm02_dis_w01_o_50_70dB.wav', '../Stimuli_Intensitätsmorphs\\\\nm02_dis_w01_o_75_70dB.wav', '../Stimuli_Intensitätsmorphs\\\\nm02_dis_w02_o_100_70dB.wav', '../Stimuli_Intensitätsmorphs\\\\nm02_dis_w02_o_25_70dB.wav', '../Stimuli_Intensitätsmorphs\\\\nm02_dis_w02_o_50_70dB.wav', '../Stimuli_Intensitätsmorphs\\\\nm02_dis_w02_o_75_70dB.wav', '../Stimuli_Intensitätsmorphs\\\\nm02_dis_w03_o_100_70dB.wav', '../Stimuli_Intensitätsmorphs\\\\nm02_dis_w03_o_25_70dB.wav', '../Stimuli_Intensitätsmorphs\\\\nm02_dis_w03_o_50_70dB.wav', '../Stimuli_Intensitätsmorphs\\\\nm02_dis_w03_o_75_70dB.wav', '../Stimuli_Intensitätsmorphs\\\\nm02_dis_w05_o_100_70dB.wav', '../Stimuli_Intensitätsmorphs\\\\nm02_dis_w05_o_25_70dB.wav', '../Stimuli_Intensitätsmorphs\\\\nm02_dis_w05_o_50_70dB.wav', '../Stimuli_Intensitätsmorphs\\\\nm02_dis_w05_o_75_70dB.wav', '../Stimuli_Intensitätsmorphs\\\\nm02_fea_w01_o_100_70dB.wav', '../Stimuli_Intensitätsmorphs\\\\nm02_fea_w01_o_25_70dB.wav', '../Stimuli_Intensitätsmorphs\\\\nm02_fea_w01_o_50_70dB.wav', '../Stimuli_Intensitätsmorphs\\\\nm02_fea_w01_o_75_70dB.wav', '../Stimuli_Intensitätsmorphs\\\\nm02_fea_w02_o_100_70dB.wav', '../Stimuli_Intensitätsmorphs\\\\nm02_fea_w02_o_25_70dB.wav', '../Stimuli_Intensitätsmorphs\\\\nm02_fea_w02_o_50_70dB.wav', '../Stimuli_Intensitätsmorphs\\\\nm02_fea_w02_o_75_70dB.wav', '../Stimuli_Intensitätsmorphs\\\\nm02_fea_w03_c_100_70dB.wav', '../Stimuli_Intensitätsmorphs\\\\nm02_fea_w03_c_25_70dB.wav', '../Stimuli_Intensitätsmorphs\\\\nm02_fea_w03_c_50_70dB.wav', '../Stimuli_Intensitätsmorphs\\\\nm02_fea_w03_c_75_70dB.wav', '../Stimuli_Intensitätsmorphs\\\\nm02_fea_w05_o_100_70dB.wav', '../Stimuli_Intensitätsmorphs\\\\nm02_fea_w05_o_25_70dB.wav', '../Stimuli_Intensitätsmorphs\\\\nm02_fea_w05_o_50_70dB.wav', '../Stimuli_Intensitätsmorphs\\\\nm02_fea_w05_o_75_70dB.wav', '../Stimuli_Intensitätsmorphs\\\\nm02_hap_w01_o_100_70dB.wav', '../Stimuli_Intensitätsmorphs\\\\nm02_hap_w01_o_25_70dB.wav', '../Stimuli_Intensitätsmorphs\\\\nm02_hap_w01_o_50_70dB.wav', '../Stimuli_Intensitätsmorphs\\\\nm02_hap_w01_o_75_70dB.wav', '../Stimuli_Intensitätsmorphs\\\\nm02_hap_w02_c_100_70dB.wav', '../Stimuli_Intensitätsmorphs\\\\nm02_hap_w02_c_25_70dB.wav', '../Stimuli_Intensitätsmorphs\\\\nm02_hap_w02_c_50_70dB.wav', '../Stimuli_Intensitätsmorphs\\\\nm02_hap_w02_c_75_70dB.wav', '../Stimuli_Intensitätsmorphs\\\\nm02_hap_w03_o_100_70dB.wav', '../Stimuli_Intensitätsmorphs\\\\nm02_hap_w03_o_25_70dB.wav', '../Stimuli_Intensitätsmorphs\\\\nm02_hap_w03_o_50_70dB.wav', '../Stimuli_Intensitätsmorphs\\\\nm02_hap_w03_o_75_70dB.wav', '../Stimuli_Intensitätsmorphs\\\\nm02_hap_w05_o_100_70dB.wav', '../Stimuli_Intensitätsmorphs\\\\nm02_hap_w05_o_25_70dB.wav', '../Stimuli_Intensitätsmorphs\\\\nm02_hap_w05_o_50_70dB.wav', '../Stimuli_Intensitätsmorphs\\\\nm02_hap_w05_o_75_70dB.wav', '../Stimuli_Intensitätsmorphs\\\\nm02_sad_w01_o_100_70dB.wav', '../Stimuli_Intensitätsmorphs\\\\nm02_sad_w01_o_25_70dB.wav', '../Stimuli_Intensitätsmorphs\\\\nm02_sad_w01_o_50_70dB.wav', '../Stimuli_Intensitätsmorphs\\\\nm02_sad_w01_o_75_70dB.wav', '../Stimuli_Intensitätsmorphs\\\\nm02_sad_w02_o_100_70dB.wav', '../Stimuli_Intensitätsmorphs\\\\nm02_sad_w02_o_25_70dB.wav', '../Stimuli_Intensitätsmorphs\\\\nm02_sad_w02_o_50_70dB.wav', '../Stimuli_Intensitätsmorphs\\\\nm02_sad_w02_o_75_70dB.wav', '../Stimuli_Intensitätsmorphs\\\\nm02_sad_w03_c_100_70dB.wav', '../Stimuli_Intensitätsmorphs\\\\nm02_sad_w03_c_25_70dB.wav', '../Stimuli_Intensitätsmorphs\\\\nm02_sad_w03_c_50_70dB.wav', '../Stimuli_Intensitätsmorphs\\\\nm02_sad_w03_c_75_70dB.wav', '../Stimuli_Intensitätsmorphs\\\\nm02_sad_w05_c_100_70dB.wav', '../Stimuli_Intensitätsmorphs\\\\nm02_sad_w05_c_25_70dB.wav', '../Stimuli_Intensitätsmorphs\\\\nm02_sad_w05_c_50_70dB.wav', '../Stimuli_Intensitätsmorphs\\\\nm02_sad_w05_c_75_70dB.wav', '../Stimuli_Intensitätsmorphs\\\\nm02_sur_w01_c_100_70dB.wav', '../Stimuli_Intensitätsmorphs\\\\nm02_sur_w01_c_25_70dB.wav', '../Stimuli_Intensitätsmorphs\\\\nm02_sur_w01_c_50_70dB.wav', '../Stimuli_Intensitätsmorphs\\\\nm02_sur_w01_c_75_70dB.wav', '../Stimuli_Intensitätsmorphs\\\\nm02_sur_w02_o_100_70dB.wav', '../Stimuli_Intensitätsmorphs\\\\nm02_sur_w02_o_25_70dB.wav', '../Stimuli_Intensitätsmorphs\\\\nm02_sur_w02_o_50_70dB.wav', '../Stimuli_Intensitätsmorphs\\\\nm02_sur_w02_o_75_70dB.wav', '../Stimuli_Intensitätsmorphs\\\\nm02_sur_w03_o_100_70dB.wav', '../Stimuli_Intensitätsmorphs\\\\nm02_sur_w03_o_25_70dB.wav', '../Stimuli_Intensitätsmorphs\\\\nm02_sur_w03_o_50_70dB.wav', '../Stimuli_Intensitätsmorphs\\\\nm02_sur_w03_o_75_70dB.wav', '../Stimuli_Intensitätsmorphs\\\\nm02_sur_w05_o_100_70dB.wav', '../Stimuli_Intensitätsmorphs\\\\nm02_sur_w05_o_25_70dB.wav', '../Stimuli_Intensitätsmorphs\\\\nm02_sur_w05_o_50_70dB.wav', '../Stimuli_Intensitätsmorphs\\\\nm02_sur_w05_o_75_70dB.wav', '../Stimuli_Intensitätsmorphs\\\\nm03_ang_w01_o_100_70dB.wav', '../Stimuli_Intensitätsmorphs\\\\nm03_ang_w01_o_25_70dB.wav', '../Stimuli_Intensitätsmorphs\\\\nm03_ang_w01_o_50_70dB.wav', '../Stimuli_Intensitätsmorphs\\\\nm03_ang_w01_o_75_70dB.wav', '../Stimuli_Intensitätsmorphs\\\\nm03_ang_w02_o_100_70dB.wav', '../Stimuli_Intensitätsmorphs\\\\nm03_ang_w02_o_25_70dB.wav', '../Stimuli_Intensitätsmorphs\\\\nm03_ang_w02_o_50_70dB.wav', '../Stimuli_Intensitätsmorphs\\\\nm03_ang_w02_o_75_70dB.wav', '../Stimuli_Intensitätsmorphs\\\\nm03_ang_w03_o_100_70dB.wav', '../Stimuli_Intensitätsmorphs\\\\nm03_ang_w03_o_25_70dB.wav', '../Stimuli_Intensitätsmorphs\\\\nm03_ang_w03_o_50_70dB.wav', '../Stimuli_Intensitätsmorphs\\\\nm03_ang_w03_o_75_70dB.wav', '../Stimuli_Intensitätsmorphs\\\\nm03_ang_w05_o_100_70dB.wav', '../Stimuli_Intensitätsmorphs\\\\nm03_ang_w05_o_25_70dB.wav', '../Stimuli_Intensitätsmorphs\\\\nm03_ang_w05_o_50_70dB.wav', '../Stimuli_Intensitätsmorphs\\\\nm03_ang_w05_o_75_70dB.wav', '../Stimuli_Intensitätsmorphs\\\\nm03_dis_w01_o_100_70dB.wav', '../Stimuli_Intensitätsmorphs\\\\nm03_dis_w01_o_25_70dB.wav', '../Stimuli_Intensitätsmorphs\\\\nm03_dis_w01_o_50_70dB.wav', '../Stimuli_Intensitätsmorphs\\\\nm03_dis_w01_o_75_70dB.wav', '../Stimuli_Intensitätsmorphs\\\\nm03_dis_w02_o_100_70dB.wav', '../Stimuli_Intensitätsmorphs\\\\nm03_dis_w02_o_25_70dB.wav', '../Stimuli_Intensitätsmorphs\\\\nm03_dis_w02_o_50_70dB.wav', '../Stimuli_Intensitätsmorphs\\\\nm03_dis_w02_o_75_70dB.wav', '../Stimuli_Intensitätsmorphs\\\\nm03_dis_w03_o_100_70dB.wav', '../Stimuli_Intensitätsmorphs\\\\nm03_dis_w03_o_25_70dB.wav', '../Stimuli_Intensitätsmorphs\\\\nm03_dis_w03_o_50_70dB.wav', '../Stimuli_Intensitätsmorphs\\\\nm03_dis_w03_o_75_70dB.wav', '../Stimuli_Intensitätsmorphs\\\\nm03_dis_w05_o_100_70dB.wav', '../Stimuli_Intensitätsmorphs\\\\nm03_dis_w05_o_25_70dB.wav', '../Stimuli_Intensitätsmorphs\\\\nm03_dis_w05_o_50_70dB.wav', '../Stimuli_Intensitätsmorphs\\\\nm03_dis_w05_o_75_70dB.wav', '../Stimuli_Intensitätsmorphs\\\\nm03_fea_w01_o_100_70dB.wav', '../Stimuli_Intensitätsmorphs\\\\nm03_fea_w01_o_25_70dB.wav', '../Stimuli_Intensitätsmorphs\\\\nm03_fea_w01_o_50_70dB.wav', '../Stimuli_Intensitätsmorphs\\\\nm03_fea_w01_o_75_70dB.wav', '../Stimuli_Intensitätsmorphs\\\\nm03_fea_w02_o_100_70dB.wav', '../Stimuli_Intensitätsmorphs\\\\nm03_fea_w02_o_25_70dB.wav', '../Stimuli_Intensitätsmorphs\\\\nm03_fea_w02_o_50_70dB.wav', '../Stimuli_Intensitätsmorphs\\\\nm03_fea_w02_o_75_70dB.wav', '../Stimuli_Intensitätsmorphs\\\\nm03_fea_w03_o_100_70dB.wav', '../Stimuli_Intensitätsmorphs\\\\nm03_fea_w03_o_25_70dB.wav', '../Stimuli_Intensitätsmorphs\\\\nm03_fea_w03_o_50_70dB.wav', '../Stimuli_Intensitätsmorphs\\\\nm03_fea_w03_o_75_70dB.wav', '../Stimuli_Intensitätsmorphs\\\\nm03_fea_w05_o_100_70dB.wav', '../Stimuli_Intensitätsmorphs\\\\nm03_fea_w05_o_25_70dB.wav', '../Stimuli_Intensitätsmorphs\\\\nm03_fea_w05_o_50_70dB.wav', '../Stimuli_Intensitätsmorphs\\\\nm03_fea_w05_o_75_70dB.wav', '../Stimuli_Intensitätsmorphs\\\\nm03_hap_w01_o_100_70dB.wav', '../Stimuli_Intensitätsmorphs\\\\nm03_hap_w01_o_25_70dB.wav', '../Stimuli_Intensitätsmorphs\\\\nm03_hap_w01_o_50_70dB.wav', '../Stimuli_Intensitätsmorphs\\\\nm03_hap_w01_o_75_70dB.wav', '../Stimuli_Intensitätsmorphs\\\\nm03_hap_w02_c_100_70dB.wav', '../Stimuli_Intensitätsmorphs\\\\nm03_hap_w02_c_25_70dB.wav', '../Stimuli_Intensitätsmorphs\\\\nm03_hap_w02_c_50_70dB.wav', '../Stimuli_Intensitätsmorphs\\\\nm03_hap_w02_c_75_70dB.wav', '../Stimuli_Intensitätsmorphs\\\\nm03_hap_w03_o_100_70dB.wav', '../Stimuli_Intensitätsmorphs\\\\nm03_hap_w03_o_25_70dB.wav', '../Stimuli_Intensitätsmorphs\\\\nm03_hap_w03_o_50_70dB.wav', '../Stimuli_Intensitätsmorphs\\\\nm03_hap_w03_o_75_70dB.wav', '../Stimuli_Intensitätsmorphs\\\\nm03_hap_w05_o_100_70dB.wav', '../Stimuli_Intensitätsmorphs\\\\nm03_hap_w05_o_25_70dB.wav', '../Stimuli_Intensitätsmorphs\\\\nm03_hap_w05_o_50_70dB.wav', '../Stimuli_Intensitätsmorphs\\\\nm03_hap_w05_o_75_70dB.wav', '../Stimuli_Intensitätsmorphs\\\\nm03_sad_w01_o_100_70dB.wav', '../Stimuli_Intensitätsmorphs\\\\nm03_sad_w01_o_25_70dB.wav', '../Stimuli_Intensitätsmorphs\\\\nm03_sad_w01_o_50_70dB.wav', '../Stimuli_Intensitätsmorphs\\\\nm03_sad_w01_o_75_70dB.wav', '../Stimuli_Intensitätsmorphs\\\\nm03_sad_w02_o_100_70dB.wav', '../Stimuli_Intensitätsmorphs\\\\nm03_sad_w02_o_25_70dB.wav', '../Stimuli_Intensitätsmorphs\\\\nm03_sad_w02_o_50_70dB.wav', '../Stimuli_Intensitätsmorphs\\\\nm03_sad_w02_o_75_70dB.wav', '../Stimuli_Intensitätsmorphs\\\\nm03_sad_w03_o_100_70dB.wav', '../Stimuli_Intensitätsmorphs\\\\nm03_sad_w03_o_25_70dB.wav', '../Stimuli_Intensitätsmorphs\\\\nm03_sad_w03_o_50_70dB.wav', '../Stimuli_Intensitätsmorphs\\\\nm03_sad_w03_o_75_70dB.wav', '../Stimuli_Intensitätsmorphs\\\\nm03_sad_w05_c_100_70dB.wav', '../Stimuli_Intensitätsmorphs\\\\nm03_sad_w05_c_25_70dB.wav', '../Stimuli_Intensitätsmorphs\\\\nm03_sad_w05_c_50_70dB.wav', '../Stimuli_Intensitätsmorphs\\\\nm03_sad_w05_c_75_70dB.wav', '../Stimuli_Intensitätsmorphs\\\\nm03_sur_w01_o_100_70dB.wav', '../Stimuli_Intensitätsmorphs\\\\nm03_sur_w01_o_25_70dB.wav', '../Stimuli_Intensitätsmorphs\\\\nm03_sur_w01_o_50_70dB.wav', '../Stimuli_Intensitätsmorphs\\\\nm03_sur_w01_o_75_70dB.wav', '../Stimuli_Intensitätsmorphs\\\\nm03_sur_w02_o_100_70dB.wav', '../Stimuli_Intensitätsmorphs\\\\nm03_sur_w02_o_25_70dB.wav', '../Stimuli_Intensitätsmorphs\\\\nm03_sur_w02_o_50_70dB.wav', '../Stimuli_Intensitätsmorphs\\\\nm03_sur_w02_o_75_70dB.wav', '../Stimuli_Intensitätsmorphs\\\\nm03_sur_w03_o_100_70dB.wav', '../Stimuli_Intensitätsmorphs\\\\nm03_sur_w03_o_25_70dB.wav', '../Stimuli_Intensitätsmorphs\\\\nm03_sur_w03_o_50_70dB.wav', '../Stimuli_Intensitätsmorphs\\\\nm03_sur_w03_o_75_70dB.wav', '../Stimuli_Intensitätsmorphs\\\\nm03_sur_w05_c_100_70dB.wav', '../Stimuli_Intensitätsmorphs\\\\nm03_sur_w05_c_25_70dB.wav', '../Stimuli_Intensitätsmorphs\\\\nm03_sur_w05_c_50_70dB.wav', '../Stimuli_Intensitätsmorphs\\\\nm03_sur_w05_c_75_70dB.wav', '../Stimuli_Intensitätsmorphs\\\\nm04_ang_w01_o_100_70dB.wav', '../Stimuli_Intensitätsmorphs\\\\nm04_ang_w01_o_25_70dB.wav', '../Stimuli_Intensitätsmorphs\\\\nm04_ang_w01_o_50_70dB.wav', '../Stimuli_Intensitätsmorphs\\\\nm04_ang_w01_o_75_70dB.wav', '../Stimuli_Intensitätsmorphs\\\\nm04_ang_w02_o_100_70dB.wav', '../Stimuli_Intensitätsmorphs\\\\nm04_ang_w02_o_25_70dB.wav', '../Stimuli_Intensitätsmorphs\\\\nm04_ang_w02_o_50_70dB.wav', '../Stimuli_Intensitätsmorphs\\\\nm04_ang_w02_o_75_70dB.wav', '../Stimuli_Intensitätsmorphs\\\\nm04_ang_w03_o_100_70dB.wav', '../Stimuli_Intensitätsmorphs\\\\nm04_ang_w03_o_25_70dB.wav', '../Stimuli_Intensitätsmorphs\\\\nm04_ang_w03_o_50_70dB.wav', '../Stimuli_Intensitätsmorphs\\\\nm04_ang_w03_o_75_70dB.wav', '../Stimuli_Intensitätsmorphs\\\\nm04_ang_w05_o_100_70dB.wav', '../Stimuli_Intensitätsmorphs\\\\nm04_ang_w05_o_25_70dB.wav', '../Stimuli_Intensitätsmorphs\\\\nm04_ang_w05_o_50_70dB.wav', '../Stimuli_Intensitätsmorphs\\\\nm04_ang_w05_o_75_70dB.wav', '../Stimuli_Intensitätsmorphs\\\\nm04_dis_w01_o_100_70dB.wav', '../Stimuli_Intensitätsmorphs\\\\nm04_dis_w01_o_25_70dB.wav', '../Stimuli_Intensitätsmorphs\\\\nm04_dis_w01_o_50_70dB.wav', '../Stimuli_Intensitätsmorphs\\\\nm04_dis_w01_o_75_70dB.wav', '../Stimuli_Intensitätsmorphs\\\\nm04_dis_w02_o_100_70dB.wav', '../Stimuli_Intensitätsmorphs\\\\nm04_dis_w02_o_25_70dB.wav', '../Stimuli_Intensitätsmorphs\\\\nm04_dis_w02_o_50_70dB.wav', '../Stimuli_Intensitätsmorphs\\\\nm04_dis_w02_o_75_70dB.wav', '../Stimuli_Intensitätsmorphs\\\\nm04_dis_w03_o_100_70dB.wav', '../Stimuli_Intensitätsmorphs\\\\nm04_dis_w03_o_25_70dB.wav', '../Stimuli_Intensitätsmorphs\\\\nm04_dis_w03_o_50_70dB.wav', '../Stimuli_Intensitätsmorphs\\\\nm04_dis_w03_o_75_70dB.wav', '../Stimuli_Intensitätsmorphs\\\\nm04_dis_w05_o_100_70dB.wav', '../Stimuli_Intensitätsmorphs\\\\nm04_dis_w05_o_25_70dB.wav', '../Stimuli_Intensitätsmorphs\\\\nm04_dis_w05_o_50_70dB.wav', '../Stimuli_Intensitätsmorphs\\\\nm04_dis_w05_o_75_70dB.wav', '../Stimuli_Intensitätsmorphs\\\\nm04_fea_w01_c_100_70dB.wav', '../Stimuli_Intensitätsmorphs\\\\nm04_fea_w01_c_25_70dB.wav', '../Stimuli_Intensitätsmorphs\\\\nm04_fea_w01_c_50_70dB.wav', '../Stimuli_Intensitätsmorphs\\\\nm04_fea_w01_c_75_70dB.wav', '../Stimuli_Intensitätsmorphs\\\\nm04_fea_w02_c_100_70dB.wav', '../Stimuli_Intensitätsmorphs\\\\nm04_fea_w02_c_25_70dB.wav', '../Stimuli_Intensitätsmorphs\\\\nm04_fea_w02_c_50_70dB.wav', '../Stimuli_Intensitätsmorphs\\\\nm04_fea_w02_c_75_70dB.wav', '../Stimuli_Intensitätsmorphs\\\\nm04_fea_w03_o_100_70dB.wav', '../Stimuli_Intensitätsmorphs\\\\nm04_fea_w03_o_25_70dB.wav', '../Stimuli_Intensitätsmorphs\\\\nm04_fea_w03_o_50_70dB.wav', '../Stimuli_Intensitätsmorphs\\\\nm04_fea_w03_o_75_70dB.wav', '../Stimuli_Intensitätsmorphs\\\\nm04_fea_w05_o_100_70dB.wav', '../Stimuli_Intensitätsmorphs\\\\nm04_fea_w05_o_25_70dB.wav', '../Stimuli_Intensitätsmorphs\\\\nm04_fea_w05_o_50_70dB.wav', '../Stimuli_Intensitätsmorphs\\\\nm04_fea_w05_o_75_70dB.wav', '../Stimuli_Intensitätsmorphs\\\\nm04_hap_w01_o_100_70dB.wav', '../Stimuli_Intensitätsmorphs\\\\nm04_hap_w01_o_25_70dB.wav', '../Stimuli_Intensitätsmorphs\\\\nm04_hap_w01_o_50_70dB.wav', '../Stimuli_Intensitätsmorphs\\\\nm04_hap_w01_o_75_70dB.wav', '../Stimuli_Intensitätsmorphs\\\\nm04_hap_w02_o_100_70dB.wav', '../Stimuli_Intensitätsmorphs\\\\nm04_hap_w02_o_25_70dB.wav', '../Stimuli_Intensitätsmorphs\\\\nm04_hap_w02_o_50_70dB.wav', '../Stimuli_Intensitätsmorphs\\\\nm04_hap_w02_o_75_70dB.wav', '../Stimuli_Intensitätsmorphs\\\\nm04_hap_w03_o_100_70dB.wav', '../Stimuli_Intensitätsmorphs\\\\nm04_hap_w03_o_25_70dB.wav', '../Stimuli_Intensitätsmorphs\\\\nm04_hap_w03_o_50_70dB.wav', '../Stimuli_Intensitätsmorphs\\\\nm04_hap_w03_o_75_70dB.wav', '../Stimuli_Intensitätsmorphs\\\\nm04_hap_w05_o_100_70dB.wav', '../Stimuli_Intensitätsmorphs\\\\nm04_hap_w05_o_25_70dB.wav', '../Stimuli_Intensitätsmorphs\\\\nm04_hap_w05_o_50_70dB.wav', '../Stimuli_Intensitätsmorphs\\\\nm04_hap_w05_o_75_70dB.wav', '../Stimuli_Intensitätsmorphs\\\\nm04_sad_w01_c_100_70dB.wav', '../Stimuli_Intensitätsmorphs\\\\nm04_sad_w01_c_25_70dB.wav', '../Stimuli_Intensitätsmorphs\\\\nm04_sad_w01_c_50_70dB.wav', '../Stimuli_Intensitätsmorphs\\\\nm04_sad_w01_c_75_70dB.wav', '../Stimuli_Intensitätsmorphs\\\\nm04_sad_w02_c_100_70dB.wav', '../Stimuli_Intensitätsmorphs\\\\nm04_sad_w02_c_25_70dB.wav', '../Stimuli_Intensitätsmorphs\\\\nm04_sad_w02_c_50_70dB.wav', '../Stimuli_Intensitätsmorphs\\\\nm04_sad_w02_c_75_70dB.wav', '../Stimuli_Intensitätsmorphs\\\\nm04_sad_w03_c_100_70dB.wav', '../Stimuli_Intensitätsmorphs\\\\nm04_sad_w03_c_25_70dB.wav', '../Stimuli_Intensitätsmorphs\\\\nm04_sad_w03_c_50_70dB.wav', '../Stimuli_Intensitätsmorphs\\\\nm04_sad_w03_c_75_70dB.wav', '../Stimuli_Intensitätsmorphs\\\\nm04_sad_w05_c_100_70dB.wav', '../Stimuli_Intensitätsmorphs\\\\nm04_sad_w05_c_25_70dB.wav', '../Stimuli_Intensitätsmorphs\\\\nm04_sad_w05_c_50_70dB.wav', '../Stimuli_Intensitätsmorphs\\\\nm04_sad_w05_c_75_70dB.wav', '../Stimuli_Intensitätsmorphs\\\\nm04_sur_w01_c_100_70dB.wav', '../Stimuli_Intensitätsmorphs\\\\nm04_sur_w01_c_25_70dB.wav', '../Stimuli_Intensitätsmorphs\\\\nm04_sur_w01_c_50_70dB.wav', '../Stimuli_Intensitätsmorphs\\\\nm04_sur_w01_c_75_70dB.wav', '../Stimuli_Intensitätsmorphs\\\\nm04_sur_w02_o_100_70dB.wav', '../Stimuli_Intensitätsmorphs\\\\nm04_sur_w02_o_25_70dB.wav', '../Stimuli_Intensitätsmorphs\\\\nm04_sur_w02_o_50_70dB.wav', '../Stimuli_Intensitätsmorphs\\\\nm04_sur_w02_o_75_70dB.wav', '../Stimuli_Intensitätsmorphs\\\\nm04_sur_w03_o_100_70dB.wav', '../Stimuli_Intensitätsmorphs\\\\nm04_sur_w03_o_25_70dB.wav', '../Stimuli_Intensitätsmorphs\\\\nm04_sur_w03_o_50_70dB.wav', '../Stimuli_Intensitätsmorphs\\\\nm04_sur_w03_o_75_70dB.wav', '../Stimuli_Intensitätsmorphs\\\\nm04_sur_w05_o_100_70dB.wav', '../Stimuli_Intensitätsmorphs\\\\nm04_sur_w05_o_25_70dB.wav', '../Stimuli_Intensitätsmorphs\\\\nm04_sur_w05_o_50_70dB.wav', '../Stimuli_Intensitätsmorphs\\\\nm04_sur_w05_o_75_70dB.wav']\n",
      "Dataset is loaded\n",
      "Step 0: 2400\n",
      "Step 1: 2400\n",
      "Labels:  ['angry' 'happy' 'ps' 'disgust' 'fear' 'sad']\n",
      "\n",
      "(1920, 2)\n",
      "(480, 2)\n"
     ]
    },
    {
     "name": "stderr",
     "output_type": "stream",
     "text": [
      "C:\\Users\\ckwda\\AppData\\Local\\Temp\\ipykernel_10196\\336476379.py:71: FutureWarning: In a future version of pandas all arguments of DataFrame.drop except for the argument 'labels' will be keyword-only.\n",
      "  df = df.drop(\"status\", 1)\n"
     ]
    }
   ],
   "source": [
    "def load_custom_dataset():\n",
    "    paths = []\n",
    "    testpaths = []\n",
    "    testlabels = []\n",
    "    terminator = 'D:/Uni/19.Master/Daten/terminator.wav'\n",
    "    print(sys.executable)\n",
    "    emotions = []\n",
    "    # for dirname, _, filenames in os.walk('Daten/TESS Toronto emotional speech set data'):\n",
    "    # D:\\Uni\\19.Master\\DATEN\n",
    "    for dirname, _, filenames in os.walk('../tess'):\n",
    "        for filename in filenames:\n",
    "            label = filename.split('_')[-1]\n",
    "            label = label.split('.')[0]\n",
    "            if (label != 'neutral'):\n",
    "                emotions.append(label.lower())\n",
    "                paths.append(os.path.join(dirname, filename))\n",
    "    for dirname, _, filenames in os.walk('../Stimuli_Intensitätsmorphs'):\n",
    "        for filename in filenames:\n",
    "\n",
    "            intens = filename.split('_')[-2]\n",
    "            emot = filename.split('_')[1]\n",
    "            label = emot\n",
    "            match label:\n",
    "                case 'ang':\n",
    "                    label = 'angry'\n",
    "                case 'dis':\n",
    "                    label = 'disgust'\n",
    "                case 'fea':\n",
    "                    label = 'fear'\n",
    "                case 'hap':\n",
    "                    label = 'happy'\n",
    "                case 'sad':\n",
    "                    label = 'sad'\n",
    "                case 'sur':\n",
    "                    label = 'ps'\n",
    "            if (emot != 'ple'):\n",
    "                testpaths.append(os.path.join(dirname, filename))\n",
    "                testlabels.append(label.lower())\n",
    "    com_labels = testlabels + emotions\n",
    "    com_paths = testpaths + paths\n",
    "    print(testlabels)\n",
    "    print(testpaths)\n",
    "    print('Dataset is loaded')\n",
    "    return paths, emotions, testpaths, testlabels\n",
    "trainpaths, trainlabels, testpaths, testlabels = load_custom_dataset()\n",
    "\n",
    "\n",
    "testerDF = pd.DataFrame()\n",
    "testerDF[\"path\"] = [\"D:\\download\\Recording.wav\"]\n",
    "testerDF[\"emotion\"] = [\"anger\"]\n",
    "###create dataframes for training and testing###\n",
    "trainDF = pd.DataFrame()\n",
    "trainDF[\"path\"] = trainpaths\n",
    "trainDF[\"emotion\"] = trainlabels\n",
    "\n",
    "testDF = pd.DataFrame()\n",
    "testDF[\"path\"] = testpaths\n",
    "testDF[\"emotion\"] = testlabels\n",
    "\n",
    "\n",
    "testDF\n",
    "\n",
    "# Filter broken and non-existed paths\n",
    "df = trainDF\n",
    "df.head()\n",
    "\n",
    "print(f\"Step 0: {len(df)}\")\n",
    "\n",
    "df[\"status\"] = df[\"path\"].apply(lambda path: True if os.path.exists(path) else None)\n",
    "df = df.dropna(subset=[\"path\"])\n",
    "df = df.drop(\"status\", 1)\n",
    "print(f\"Step 1: {len(df)}\")\n",
    "\n",
    "df = df.sample(frac=1)\n",
    "df = df.reset_index(drop=True)\n",
    "df.head()\n",
    "\n",
    "#----------------------------Let’s explore how many labels (emotions) are in the dataset with what distribution.\n",
    "print(\"Labels: \", df[\"emotion\"].unique())\n",
    "print()\n",
    "df.groupby(\"emotion\").count()[[\"path\"]]\n",
    "\n",
    "\n",
    "#------------------------------For training purposes, we need to split data into train test sets; in this specific example, we break with a 20% rate for the test set.\n",
    "\n",
    "\n",
    "#save_path = \"/content/data\"\n",
    "save_path=\"content/data\"\n",
    "train_df, test_df = train_test_split(df, test_size=0.2, random_state=101, stratify=df[\"emotion\"])\n",
    "\n",
    "train_df = train_df.reset_index(drop=True)\n",
    "test_df = test_df.reset_index(drop=True)\n",
    "\n",
    "train_df.to_csv(f\"{save_path}/train.csv\", sep=\"\\t\", encoding=\"utf-8\", index=False)\n",
    "test_df.to_csv(f\"{save_path}/test.csv\", sep=\"\\t\", encoding=\"utf-8\", index=False)\n",
    "testerDF.to_csv(f\"{save_path}/testPersonal.csv\", sep=\"\\t\", encoding=\"utf-8\", index=False)\n",
    "\n",
    "\n",
    "print(train_df.shape)\n",
    "print(test_df.shape)"
   ]
  },
  {
   "cell_type": "code",
   "execution_count": 92,
   "metadata": {
    "pycharm": {
     "name": "#%%\n"
    }
   },
   "outputs": [
    {
     "data": {
      "text/html": [
       "<div>\n",
       "<style scoped>\n",
       "    .dataframe tbody tr th:only-of-type {\n",
       "        vertical-align: middle;\n",
       "    }\n",
       "\n",
       "    .dataframe tbody tr th {\n",
       "        vertical-align: top;\n",
       "    }\n",
       "\n",
       "    .dataframe thead th {\n",
       "        text-align: right;\n",
       "    }\n",
       "</style>\n",
       "<table border=\"1\" class=\"dataframe\">\n",
       "  <thead>\n",
       "    <tr style=\"text-align: right;\">\n",
       "      <th></th>\n",
       "      <th>path</th>\n",
       "      <th>emotion</th>\n",
       "    </tr>\n",
       "  </thead>\n",
       "  <tbody>\n",
       "    <tr>\n",
       "      <th>0</th>\n",
       "      <td>D:\\download\\Recording.wav</td>\n",
       "      <td>anger</td>\n",
       "    </tr>\n",
       "  </tbody>\n",
       "</table>\n",
       "</div>"
      ],
      "text/plain": [
       "                        path emotion\n",
       "0  D:\\download\\Recording.wav   anger"
      ]
     },
     "execution_count": 92,
     "metadata": {},
     "output_type": "execute_result"
    }
   ],
   "source": [
    "testerDF"
   ]
  },
  {
   "cell_type": "code",
   "execution_count": 29,
   "metadata": {
    "pycharm": {
     "name": "#%%\n"
    }
   },
   "outputs": [],
   "source": [
    "import torchaudio"
   ]
  },
  {
   "cell_type": "markdown",
   "metadata": {
    "id": "i2hwRai7BNrx",
    "pycharm": {
     "name": "#%% md\n"
    }
   },
   "source": [
    "Let's display some random sample of the dataset and run it a couple of times to get a feeling for the audio and the emotional label."
   ]
  },
  {
   "cell_type": "code",
   "execution_count": 30,
   "metadata": {
    "id": "DZaQ_sP5xkIX",
    "pycharm": {
     "name": "#%%\n"
    }
   },
   "outputs": [],
   "source": [
    "# import torchaudio\n",
    "# import librosa\n",
    "# import IPython.display as ipd\n",
    "# import numpy as np\n",
    "#\n",
    "# idx = np.random.randint(0, len(df))\n",
    "# sample = df.iloc[idx]\n",
    "# path = sample[\"path\"]\n",
    "# label = sample[\"emotion\"]\n",
    "#\n",
    "#\n",
    "# print(f\"ID Location: {idx}\")\n",
    "# print(f\"      Label: {label}\")\n",
    "# print()\n",
    "#\n",
    "# speech, sr = torchaudio.load(path)\n",
    "# speech = speech[0].numpy().squeeze()\n",
    "# speech = librosa.resample(np.asarray(speech), sr, 16_000)\n",
    "# ipd.Audio(data=np.asarray(speech), autoplay=True, rate=16000)"
   ]
  },
  {
   "cell_type": "markdown",
   "metadata": {
    "id": "kcnD-d_rDElt",
    "pycharm": {
     "name": "#%% md\n"
    }
   },
   "source": [
    "## Prepare Data for Training"
   ]
  },
  {
   "cell_type": "code",
   "execution_count": 93,
   "metadata": {
    "id": "nnVfxQYDDIc6",
    "pycharm": {
     "name": "#%%\n"
    }
   },
   "outputs": [
    {
     "name": "stderr",
     "output_type": "stream",
     "text": [
      "Using custom data configuration data-69a0caa22f091388\n"
     ]
    },
    {
     "name": "stdout",
     "output_type": "stream",
     "text": [
      "Downloading and preparing dataset csv/data to C:/Users/ckwda/Documents/Programming/python/masterarbeit_programming/notebooks/content/cache/csv/data-69a0caa22f091388/0.0.0/6b34fb8fcf56f7c8ba51dc895bfa2bfbe43546f190a60fcf74bb5e8afdcc2317...\n"
     ]
    },
    {
     "data": {
      "application/vnd.jupyter.widget-view+json": {
       "model_id": "730fd1394b1c49ba9ef71485de77fee0",
       "version_major": 2,
       "version_minor": 0
      },
      "text/plain": [
       "Downloading data files:   0%|          | 0/3 [00:00<?, ?it/s]"
      ]
     },
     "metadata": {},
     "output_type": "display_data"
    },
    {
     "data": {
      "application/vnd.jupyter.widget-view+json": {
       "model_id": "b53f2e66e9e44267a8a551ca7411601e",
       "version_major": 2,
       "version_minor": 0
      },
      "text/plain": [
       "Generating train split: 0 examples [00:00, ? examples/s]"
      ]
     },
     "metadata": {},
     "output_type": "display_data"
    },
    {
     "name": "stderr",
     "output_type": "stream",
     "text": [
      "C:\\Users\\ckwda\\AppData\\Local\\Programs\\Python\\Python310\\lib\\site-packages\\datasets\\download\\streaming_download_manager.py:714: FutureWarning: the 'mangle_dupe_cols' keyword is deprecated and will be removed in a future version. Please take steps to stop the use of 'mangle_dupe_cols'\n",
      "  return pd.read_csv(xopen(filepath_or_buffer, \"rb\", use_auth_token=use_auth_token), **kwargs)\n"
     ]
    },
    {
     "data": {
      "application/vnd.jupyter.widget-view+json": {
       "model_id": "912a6ea7810b461fb504306be5541710",
       "version_major": 2,
       "version_minor": 0
      },
      "text/plain": [
       "Generating validation split: 0 examples [00:00, ? examples/s]"
      ]
     },
     "metadata": {},
     "output_type": "display_data"
    },
    {
     "name": "stderr",
     "output_type": "stream",
     "text": [
      "C:\\Users\\ckwda\\AppData\\Local\\Programs\\Python\\Python310\\lib\\site-packages\\datasets\\download\\streaming_download_manager.py:714: FutureWarning: the 'mangle_dupe_cols' keyword is deprecated and will be removed in a future version. Please take steps to stop the use of 'mangle_dupe_cols'\n",
      "  return pd.read_csv(xopen(filepath_or_buffer, \"rb\", use_auth_token=use_auth_token), **kwargs)\n"
     ]
    },
    {
     "data": {
      "application/vnd.jupyter.widget-view+json": {
       "model_id": "d3a9fb6b8f274b3bad2cc2eaa0a1860e",
       "version_major": 2,
       "version_minor": 0
      },
      "text/plain": [
       "Generating testPersonal split: 0 examples [00:00, ? examples/s]"
      ]
     },
     "metadata": {},
     "output_type": "display_data"
    },
    {
     "name": "stdout",
     "output_type": "stream",
     "text": [
      "Dataset csv downloaded and prepared to C:/Users/ckwda/Documents/Programming/python/masterarbeit_programming/notebooks/content/cache/csv/data-69a0caa22f091388/0.0.0/6b34fb8fcf56f7c8ba51dc895bfa2bfbe43546f190a60fcf74bb5e8afdcc2317. Subsequent calls will reuse this data.\n"
     ]
    },
    {
     "name": "stderr",
     "output_type": "stream",
     "text": [
      "C:\\Users\\ckwda\\AppData\\Local\\Programs\\Python\\Python310\\lib\\site-packages\\datasets\\download\\streaming_download_manager.py:714: FutureWarning: the 'mangle_dupe_cols' keyword is deprecated and will be removed in a future version. Please take steps to stop the use of 'mangle_dupe_cols'\n",
      "  return pd.read_csv(xopen(filepath_or_buffer, \"rb\", use_auth_token=use_auth_token), **kwargs)\n"
     ]
    },
    {
     "data": {
      "application/vnd.jupyter.widget-view+json": {
       "model_id": "5d699009d7b0467c87e98c0afe55c114",
       "version_major": 2,
       "version_minor": 0
      },
      "text/plain": [
       "  0%|          | 0/3 [00:00<?, ?it/s]"
      ]
     },
     "metadata": {},
     "output_type": "display_data"
    }
   ],
   "source": [
    "# Loading the created dataset using datasets\n",
    "from datasets import load_dataset, load_metric\n",
    "\n",
    "\n",
    "data_files = {\n",
    "    \"train\": \"train.csv\",\n",
    "    \"validation\": \"test.csv\",\n",
    "    \"testPersonal\": \"testPersonal.csv\"\n",
    "\n",
    "}\n",
    "\n",
    "dataset = load_dataset(\"content/data/\", data_files=data_files, delimiter=\"\\t\", )\n",
    "train_dataset = dataset[\"train\"]\n",
    "eval_dataset = dataset[\"validation\"]\n",
    "testPersonal_dataset = dataset[\"testPersonal\"]\n",
    "\n",
    "# We need to specify the input and output column\n",
    "input_column = \"path\"\n",
    "output_column = \"emotion\"\n",
    "# we need to distinguish the unique labels in our SER dataset\n",
    "label_list = train_dataset.unique(output_column)\n",
    "label_list.sort()  # Let's sort it for determinism\n",
    "num_labels = len(label_list)\n",
    "#print(f\"A classification problem with {num_labels} classes: {label_list}\")"
   ]
  },
  {
   "cell_type": "markdown",
   "metadata": {
    "id": "4TkGYrVTFR6Y",
    "pycharm": {
     "name": "#%% md\n"
    }
   },
   "source": [
    "In order to preprocess the audio into our classification model, we need to set up the relevant Wav2Vec2 assets regarding our language in this case `lighteternal/wav2vec2-large-xlsr-53-greek` fine-tuned by [Dimitris Papadopoulos](https://huggingface.co/lighteternal/wav2vec2-large-xlsr-53-greek). To handle the context representations in any audio length we use a merge strategy plan (pooling mode) to concatenate that 3D representations into 2D representations.\n",
    "\n",
    "There are three merge strategies `mean`, `sum`, and `max`. In this example, we achieved better results on the mean approach. In the following, we need to initiate the config and the feature extractor from the Dimitris model."
   ]
  },
  {
   "cell_type": "code",
   "execution_count": 32,
   "metadata": {
    "id": "9Y1adr7vFrq7",
    "pycharm": {
     "name": "#%%\n"
    }
   },
   "outputs": [
    {
     "name": "stderr",
     "output_type": "stream",
     "text": [
      "loading configuration file config.json from cache at content/cache\\models--jonatasgrosman--wav2vec2-large-xlsr-53-german\\snapshots\\934c45f3e6939b6b6d261b4c71ed2755810e7fe6\\config.json\n",
      "Model config Wav2Vec2Config {\n",
      "  \"_name_or_path\": \"jonatasgrosman/wav2vec2-large-xlsr-53-german\",\n",
      "  \"activation_dropout\": 0.05,\n",
      "  \"adapter_kernel_size\": 3,\n",
      "  \"adapter_stride\": 2,\n",
      "  \"add_adapter\": false,\n",
      "  \"apply_spec_augment\": true,\n",
      "  \"architectures\": [\n",
      "    \"Wav2Vec2ForCTC\"\n",
      "  ],\n",
      "  \"attention_dropout\": 0.1,\n",
      "  \"bos_token_id\": 1,\n",
      "  \"classifier_proj_size\": 256,\n",
      "  \"codevector_dim\": 768,\n",
      "  \"contrastive_logits_temperature\": 0.1,\n",
      "  \"conv_bias\": true,\n",
      "  \"conv_dim\": [\n",
      "    512,\n",
      "    512,\n",
      "    512,\n",
      "    512,\n",
      "    512,\n",
      "    512,\n",
      "    512\n",
      "  ],\n",
      "  \"conv_kernel\": [\n",
      "    10,\n",
      "    3,\n",
      "    3,\n",
      "    3,\n",
      "    3,\n",
      "    2,\n",
      "    2\n",
      "  ],\n",
      "  \"conv_stride\": [\n",
      "    5,\n",
      "    2,\n",
      "    2,\n",
      "    2,\n",
      "    2,\n",
      "    2,\n",
      "    2\n",
      "  ],\n",
      "  \"ctc_loss_reduction\": \"mean\",\n",
      "  \"ctc_zero_infinity\": true,\n",
      "  \"diversity_loss_weight\": 0.1,\n",
      "  \"do_stable_layer_norm\": true,\n",
      "  \"eos_token_id\": 2,\n",
      "  \"feat_extract_activation\": \"gelu\",\n",
      "  \"feat_extract_dropout\": 0.0,\n",
      "  \"feat_extract_norm\": \"layer\",\n",
      "  \"feat_proj_dropout\": 0.05,\n",
      "  \"feat_quantizer_dropout\": 0.0,\n",
      "  \"final_dropout\": 0.0,\n",
      "  \"finetuning_task\": \"wav2vec2_clf\",\n",
      "  \"hidden_act\": \"gelu\",\n",
      "  \"hidden_dropout\": 0.05,\n",
      "  \"hidden_size\": 1024,\n",
      "  \"id2label\": {\n",
      "    \"0\": \"angry\",\n",
      "    \"1\": \"disgust\",\n",
      "    \"2\": \"fear\",\n",
      "    \"3\": \"happy\",\n",
      "    \"4\": \"ps\",\n",
      "    \"5\": \"sad\"\n",
      "  },\n",
      "  \"initializer_range\": 0.02,\n",
      "  \"intermediate_size\": 4096,\n",
      "  \"label2id\": {\n",
      "    \"angry\": 0,\n",
      "    \"disgust\": 1,\n",
      "    \"fear\": 2,\n",
      "    \"happy\": 3,\n",
      "    \"ps\": 4,\n",
      "    \"sad\": 5\n",
      "  },\n",
      "  \"layer_norm_eps\": 1e-05,\n",
      "  \"layerdrop\": 0.05,\n",
      "  \"mask_channel_length\": 10,\n",
      "  \"mask_channel_min_space\": 1,\n",
      "  \"mask_channel_other\": 0.0,\n",
      "  \"mask_channel_prob\": 0.0,\n",
      "  \"mask_channel_selection\": \"static\",\n",
      "  \"mask_feature_length\": 10,\n",
      "  \"mask_feature_min_masks\": 0,\n",
      "  \"mask_feature_prob\": 0.0,\n",
      "  \"mask_time_length\": 10,\n",
      "  \"mask_time_min_masks\": 2,\n",
      "  \"mask_time_min_space\": 1,\n",
      "  \"mask_time_other\": 0.0,\n",
      "  \"mask_time_prob\": 0.05,\n",
      "  \"mask_time_selection\": \"static\",\n",
      "  \"model_type\": \"wav2vec2\",\n",
      "  \"num_adapter_layers\": 3,\n",
      "  \"num_attention_heads\": 16,\n",
      "  \"num_codevector_groups\": 2,\n",
      "  \"num_codevectors_per_group\": 320,\n",
      "  \"num_conv_pos_embedding_groups\": 16,\n",
      "  \"num_conv_pos_embeddings\": 128,\n",
      "  \"num_feat_extract_layers\": 7,\n",
      "  \"num_hidden_layers\": 24,\n",
      "  \"num_negatives\": 100,\n",
      "  \"output_hidden_size\": 1024,\n",
      "  \"pad_token_id\": 0,\n",
      "  \"proj_codevector_dim\": 768,\n",
      "  \"tdnn_dilation\": [\n",
      "    1,\n",
      "    2,\n",
      "    3,\n",
      "    1,\n",
      "    1\n",
      "  ],\n",
      "  \"tdnn_dim\": [\n",
      "    512,\n",
      "    512,\n",
      "    512,\n",
      "    512,\n",
      "    1500\n",
      "  ],\n",
      "  \"tdnn_kernel\": [\n",
      "    5,\n",
      "    3,\n",
      "    3,\n",
      "    1,\n",
      "    1\n",
      "  ],\n",
      "  \"transformers_version\": \"4.25.1\",\n",
      "  \"use_weighted_layer_sum\": false,\n",
      "  \"vocab_size\": 38,\n",
      "  \"xvector_output_dim\": 512\n",
      "}\n",
      "\n",
      "loading configuration file preprocessor_config.json from cache at content/cache\\models--jonatasgrosman--wav2vec2-large-xlsr-53-german\\snapshots\\934c45f3e6939b6b6d261b4c71ed2755810e7fe6\\preprocessor_config.json\n",
      "Feature extractor Wav2Vec2FeatureExtractor {\n",
      "  \"do_normalize\": true,\n",
      "  \"feature_extractor_type\": \"Wav2Vec2FeatureExtractor\",\n",
      "  \"feature_size\": 1,\n",
      "  \"padding_side\": \"right\",\n",
      "  \"padding_value\": 0.0,\n",
      "  \"processor_class\": \"Wav2Vec2ProcessorWithLM\",\n",
      "  \"return_attention_mask\": true,\n",
      "  \"sampling_rate\": 16000\n",
      "}\n",
      "\n",
      "Could not locate the tokenizer configuration file, will try to use the model config instead.\n",
      "loading configuration file config.json from cache at content/cache\\models--jonatasgrosman--wav2vec2-large-xlsr-53-german\\snapshots\\934c45f3e6939b6b6d261b4c71ed2755810e7fe6\\config.json\n",
      "Model config Wav2Vec2Config {\n",
      "  \"_name_or_path\": \"jonatasgrosman/wav2vec2-large-xlsr-53-german\",\n",
      "  \"activation_dropout\": 0.05,\n",
      "  \"adapter_kernel_size\": 3,\n",
      "  \"adapter_stride\": 2,\n",
      "  \"add_adapter\": false,\n",
      "  \"apply_spec_augment\": true,\n",
      "  \"architectures\": [\n",
      "    \"Wav2Vec2ForCTC\"\n",
      "  ],\n",
      "  \"attention_dropout\": 0.1,\n",
      "  \"bos_token_id\": 1,\n",
      "  \"classifier_proj_size\": 256,\n",
      "  \"codevector_dim\": 768,\n",
      "  \"contrastive_logits_temperature\": 0.1,\n",
      "  \"conv_bias\": true,\n",
      "  \"conv_dim\": [\n",
      "    512,\n",
      "    512,\n",
      "    512,\n",
      "    512,\n",
      "    512,\n",
      "    512,\n",
      "    512\n",
      "  ],\n",
      "  \"conv_kernel\": [\n",
      "    10,\n",
      "    3,\n",
      "    3,\n",
      "    3,\n",
      "    3,\n",
      "    2,\n",
      "    2\n",
      "  ],\n",
      "  \"conv_stride\": [\n",
      "    5,\n",
      "    2,\n",
      "    2,\n",
      "    2,\n",
      "    2,\n",
      "    2,\n",
      "    2\n",
      "  ],\n",
      "  \"ctc_loss_reduction\": \"mean\",\n",
      "  \"ctc_zero_infinity\": true,\n",
      "  \"diversity_loss_weight\": 0.1,\n",
      "  \"do_stable_layer_norm\": true,\n",
      "  \"eos_token_id\": 2,\n",
      "  \"feat_extract_activation\": \"gelu\",\n",
      "  \"feat_extract_dropout\": 0.0,\n",
      "  \"feat_extract_norm\": \"layer\",\n",
      "  \"feat_proj_dropout\": 0.05,\n",
      "  \"feat_quantizer_dropout\": 0.0,\n",
      "  \"final_dropout\": 0.0,\n",
      "  \"hidden_act\": \"gelu\",\n",
      "  \"hidden_dropout\": 0.05,\n",
      "  \"hidden_size\": 1024,\n",
      "  \"initializer_range\": 0.02,\n",
      "  \"intermediate_size\": 4096,\n",
      "  \"layer_norm_eps\": 1e-05,\n",
      "  \"layerdrop\": 0.05,\n",
      "  \"mask_channel_length\": 10,\n",
      "  \"mask_channel_min_space\": 1,\n",
      "  \"mask_channel_other\": 0.0,\n",
      "  \"mask_channel_prob\": 0.0,\n",
      "  \"mask_channel_selection\": \"static\",\n",
      "  \"mask_feature_length\": 10,\n",
      "  \"mask_feature_min_masks\": 0,\n",
      "  \"mask_feature_prob\": 0.0,\n",
      "  \"mask_time_length\": 10,\n",
      "  \"mask_time_min_masks\": 2,\n",
      "  \"mask_time_min_space\": 1,\n",
      "  \"mask_time_other\": 0.0,\n",
      "  \"mask_time_prob\": 0.05,\n",
      "  \"mask_time_selection\": \"static\",\n",
      "  \"model_type\": \"wav2vec2\",\n",
      "  \"num_adapter_layers\": 3,\n",
      "  \"num_attention_heads\": 16,\n",
      "  \"num_codevector_groups\": 2,\n",
      "  \"num_codevectors_per_group\": 320,\n",
      "  \"num_conv_pos_embedding_groups\": 16,\n",
      "  \"num_conv_pos_embeddings\": 128,\n",
      "  \"num_feat_extract_layers\": 7,\n",
      "  \"num_hidden_layers\": 24,\n",
      "  \"num_negatives\": 100,\n",
      "  \"output_hidden_size\": 1024,\n",
      "  \"pad_token_id\": 0,\n",
      "  \"proj_codevector_dim\": 768,\n",
      "  \"tdnn_dilation\": [\n",
      "    1,\n",
      "    2,\n",
      "    3,\n",
      "    1,\n",
      "    1\n",
      "  ],\n",
      "  \"tdnn_dim\": [\n",
      "    512,\n",
      "    512,\n",
      "    512,\n",
      "    512,\n",
      "    1500\n",
      "  ],\n",
      "  \"tdnn_kernel\": [\n",
      "    5,\n",
      "    3,\n",
      "    3,\n",
      "    1,\n",
      "    1\n",
      "  ],\n",
      "  \"transformers_version\": \"4.25.1\",\n",
      "  \"use_weighted_layer_sum\": false,\n",
      "  \"vocab_size\": 38,\n",
      "  \"xvector_output_dim\": 512\n",
      "}\n",
      "\n",
      "loading file vocab.json from cache at content/cache\\models--jonatasgrosman--wav2vec2-large-xlsr-53-german\\snapshots\\934c45f3e6939b6b6d261b4c71ed2755810e7fe6\\vocab.json\n",
      "loading file tokenizer_config.json from cache at None\n",
      "loading file added_tokens.json from cache at None\n",
      "loading file special_tokens_map.json from cache at content/cache\\models--jonatasgrosman--wav2vec2-large-xlsr-53-german\\snapshots\\934c45f3e6939b6b6d261b4c71ed2755810e7fe6\\special_tokens_map.json\n",
      "loading configuration file config.json from cache at content/cache\\models--jonatasgrosman--wav2vec2-large-xlsr-53-german\\snapshots\\934c45f3e6939b6b6d261b4c71ed2755810e7fe6\\config.json\n",
      "Model config Wav2Vec2Config {\n",
      "  \"_name_or_path\": \"jonatasgrosman/wav2vec2-large-xlsr-53-german\",\n",
      "  \"activation_dropout\": 0.05,\n",
      "  \"adapter_kernel_size\": 3,\n",
      "  \"adapter_stride\": 2,\n",
      "  \"add_adapter\": false,\n",
      "  \"apply_spec_augment\": true,\n",
      "  \"architectures\": [\n",
      "    \"Wav2Vec2ForCTC\"\n",
      "  ],\n",
      "  \"attention_dropout\": 0.1,\n",
      "  \"bos_token_id\": 1,\n",
      "  \"classifier_proj_size\": 256,\n",
      "  \"codevector_dim\": 768,\n",
      "  \"contrastive_logits_temperature\": 0.1,\n",
      "  \"conv_bias\": true,\n",
      "  \"conv_dim\": [\n",
      "    512,\n",
      "    512,\n",
      "    512,\n",
      "    512,\n",
      "    512,\n",
      "    512,\n",
      "    512\n",
      "  ],\n",
      "  \"conv_kernel\": [\n",
      "    10,\n",
      "    3,\n",
      "    3,\n",
      "    3,\n",
      "    3,\n",
      "    2,\n",
      "    2\n",
      "  ],\n",
      "  \"conv_stride\": [\n",
      "    5,\n",
      "    2,\n",
      "    2,\n",
      "    2,\n",
      "    2,\n",
      "    2,\n",
      "    2\n",
      "  ],\n",
      "  \"ctc_loss_reduction\": \"mean\",\n",
      "  \"ctc_zero_infinity\": true,\n",
      "  \"diversity_loss_weight\": 0.1,\n",
      "  \"do_stable_layer_norm\": true,\n",
      "  \"eos_token_id\": 2,\n",
      "  \"feat_extract_activation\": \"gelu\",\n",
      "  \"feat_extract_dropout\": 0.0,\n",
      "  \"feat_extract_norm\": \"layer\",\n",
      "  \"feat_proj_dropout\": 0.05,\n",
      "  \"feat_quantizer_dropout\": 0.0,\n",
      "  \"final_dropout\": 0.0,\n",
      "  \"hidden_act\": \"gelu\",\n",
      "  \"hidden_dropout\": 0.05,\n",
      "  \"hidden_size\": 1024,\n",
      "  \"initializer_range\": 0.02,\n",
      "  \"intermediate_size\": 4096,\n",
      "  \"layer_norm_eps\": 1e-05,\n",
      "  \"layerdrop\": 0.05,\n",
      "  \"mask_channel_length\": 10,\n",
      "  \"mask_channel_min_space\": 1,\n",
      "  \"mask_channel_other\": 0.0,\n",
      "  \"mask_channel_prob\": 0.0,\n",
      "  \"mask_channel_selection\": \"static\",\n",
      "  \"mask_feature_length\": 10,\n",
      "  \"mask_feature_min_masks\": 0,\n",
      "  \"mask_feature_prob\": 0.0,\n",
      "  \"mask_time_length\": 10,\n",
      "  \"mask_time_min_masks\": 2,\n",
      "  \"mask_time_min_space\": 1,\n",
      "  \"mask_time_other\": 0.0,\n",
      "  \"mask_time_prob\": 0.05,\n",
      "  \"mask_time_selection\": \"static\",\n",
      "  \"model_type\": \"wav2vec2\",\n",
      "  \"num_adapter_layers\": 3,\n",
      "  \"num_attention_heads\": 16,\n",
      "  \"num_codevector_groups\": 2,\n",
      "  \"num_codevectors_per_group\": 320,\n",
      "  \"num_conv_pos_embedding_groups\": 16,\n",
      "  \"num_conv_pos_embeddings\": 128,\n",
      "  \"num_feat_extract_layers\": 7,\n",
      "  \"num_hidden_layers\": 24,\n",
      "  \"num_negatives\": 100,\n",
      "  \"output_hidden_size\": 1024,\n",
      "  \"pad_token_id\": 0,\n",
      "  \"proj_codevector_dim\": 768,\n",
      "  \"tdnn_dilation\": [\n",
      "    1,\n",
      "    2,\n",
      "    3,\n",
      "    1,\n",
      "    1\n",
      "  ],\n",
      "  \"tdnn_dim\": [\n",
      "    512,\n",
      "    512,\n",
      "    512,\n",
      "    512,\n",
      "    1500\n",
      "  ],\n",
      "  \"tdnn_kernel\": [\n",
      "    5,\n",
      "    3,\n",
      "    3,\n",
      "    1,\n",
      "    1\n",
      "  ],\n",
      "  \"transformers_version\": \"4.25.1\",\n",
      "  \"use_weighted_layer_sum\": false,\n",
      "  \"vocab_size\": 38,\n",
      "  \"xvector_output_dim\": 512\n",
      "}\n",
      "\n"
     ]
    },
    {
     "name": "stdout",
     "output_type": "stream",
     "text": [
      "The target sampling rate: 16000\n"
     ]
    }
   ],
   "source": [
    "from transformers import AutoConfig, Wav2Vec2Processor\n",
    "\n",
    "#model_name_or_path = \"lighteternal/wav2vec2-large-xlsr-53-greek\"\n",
    "model_name_or_path = \"jonatasgrosman/wav2vec2-large-xlsr-53-german\"\n",
    "pooling_mode = \"mean\"\n",
    "\n",
    "\n",
    "# config\n",
    "config = AutoConfig.from_pretrained(\n",
    "    model_name_or_path,\n",
    "    num_labels=num_labels,\n",
    "    label2id={label: i for i, label in enumerate(label_list)},\n",
    "    id2label={i: label for i, label in enumerate(label_list)},\n",
    "    finetuning_task=\"wav2vec2_clf\",\n",
    ")\n",
    "setattr(config, 'pooling_mode', pooling_mode)\n",
    "\n",
    "processor = Wav2Vec2Processor.from_pretrained(model_name_or_path, )\n",
    "target_sampling_rate = processor.feature_extractor.sampling_rate\n",
    "print(f\"The target sampling rate: {target_sampling_rate}\")\n"
   ]
  },
  {
   "cell_type": "markdown",
   "metadata": {
    "id": "CbGuYgLqHXZg",
    "pycharm": {
     "name": "#%% md\n"
    }
   },
   "source": [
    "# Preprocess Data"
   ]
  },
  {
   "cell_type": "markdown",
   "metadata": {
    "id": "qLk-eM1DFjtE",
    "pycharm": {
     "name": "#%% md\n"
    }
   },
   "source": [
    "So far, we downloaded, loaded, and split the SER dataset into train and test sets. The instantiated our strategy configuration for using context representations in our classification problem SER. Now, we need to extract features from the audio path in context representation tensors and feed them into our classification model to determine the emotion in the speech.\n",
    "\n",
    "Since the audio file is saved in the `.wav` format, it is easy to use **[Librosa](https://librosa.org/doc/latest/index.html)** or others, but we suppose that the format may be in the `.mp3` format in case of generality. We found that the **[Torchaudio](https://pytorch.org/audio/stable/index.html)** library works best for reading in `.mp3` data.\n",
    "\n",
    "An audio file usually stores both its values and the sampling rate with which the speech signal was digitalized. We want to store both in the dataset and write a **map(...)** function accordingly. Also, we need to handle the string labels into integers for our specific classification task in this case, the **single-label classification** you may want to use for your **regression** or even **multi-label classification**."
   ]
  },
  {
   "cell_type": "code",
   "execution_count": 33,
   "metadata": {
    "id": "6UqlIV3uGxDA",
    "pycharm": {
     "name": "#%%\n"
    }
   },
   "outputs": [],
   "source": [
    "import utils.audio_dataset_utils as audioUtils\n",
    "\n",
    "def preprocess_function(examples):\n",
    "    speech_list = [audioUtils.speech_file_to_array_librosa(path, target_sampling_rate) for path in examples[input_column]]\n",
    "    target_list = [audioUtils.label_to_id(label, label_list) for label in examples[output_column]]\n",
    "\n",
    "    result = processor(speech_list, sampling_rate=target_sampling_rate)\n",
    "    result[\"labels\"] = list(target_list)\n",
    "\n",
    "    return result\n"
   ]
  },
  {
   "cell_type": "code",
   "execution_count": 34,
   "metadata": {
    "id": "ioP8FfR2GxHi",
    "pycharm": {
     "name": "#%%\n"
    }
   },
   "outputs": [
    {
     "data": {
      "application/vnd.jupyter.widget-view+json": {
       "model_id": "d3a298c3d4cc4c8ca58e7f912f55e5de",
       "version_major": 2,
       "version_minor": 0
      },
      "text/plain": [
       "  0%|          | 0/96 [00:00<?, ?ba/s]"
      ]
     },
     "metadata": {},
     "output_type": "display_data"
    },
    {
     "name": "stderr",
     "output_type": "stream",
     "text": [
      "C:\\Users\\ckwda\\AppData\\Local\\Programs\\Python\\Python310\\lib\\site-packages\\transformers\\feature_extraction_utils.py:164: VisibleDeprecationWarning: Creating an ndarray from ragged nested sequences (which is a list-or-tuple of lists-or-tuples-or ndarrays with different lengths or shapes) is deprecated. If you meant to do this, you must specify 'dtype=object' when creating the ndarray.\n",
      "  tensor = as_tensor(value)\n"
     ]
    },
    {
     "data": {
      "application/vnd.jupyter.widget-view+json": {
       "model_id": "3c4d9a9762424e9dae2afb161fa24c25",
       "version_major": 2,
       "version_minor": 0
      },
      "text/plain": [
       "  0%|          | 0/24 [00:00<?, ?ba/s]"
      ]
     },
     "metadata": {},
     "output_type": "display_data"
    }
   ],
   "source": [
    "train_dataset = train_dataset.map(\n",
    "    preprocess_function,\n",
    "    batch_size=20,\n",
    "    batched=True,\n",
    "    #num_proc=4\n",
    ")\n",
    "eval_dataset = eval_dataset.map(\n",
    "    preprocess_function,\n",
    "    batch_size=20,\n",
    "    batched=True,\n",
    "    #num_proc=4\n",
    ")\n",
    "\n",
    "\n",
    "# train_dataset.load_from_disk(dataset_path=\"content/datasets/trainSet\")\n",
    "# eval_dataset.load_from_disk(dataset_path=\"content/datasets/evalSet\")"
   ]
  },
  {
   "cell_type": "code",
   "execution_count": 94,
   "metadata": {
    "pycharm": {
     "name": "#%%\n"
    }
   },
   "outputs": [
    {
     "data": {
      "application/vnd.jupyter.widget-view+json": {
       "model_id": "736355b38e3b404fb81cdb7a2a86324e",
       "version_major": 2,
       "version_minor": 0
      },
      "text/plain": [
       "  0%|          | 0/1 [00:00<?, ?ba/s]"
      ]
     },
     "metadata": {},
     "output_type": "display_data"
    }
   ],
   "source": [
    "# train_dataset.save_to_disk(dataset_path=\"content/datasets/trainSet\")\n",
    "# eval_dataset.save_to_disk(dataset_path=\"content/datasets/evalSet\")\n",
    "testPersonal_dataset = testPersonal_dataset.map(preprocess_function, batch_size=1, batched=True)"
   ]
  },
  {
   "cell_type": "code",
   "execution_count": 36,
   "metadata": {
    "pycharm": {
     "name": "#%%\n"
    }
   },
   "outputs": [
    {
     "data": {
      "text/plain": [
       "['../tess\\\\OAF_Fear\\\\OAF_tip_fear.wav',\n",
       " '../tess\\\\YAF_pleasant_surprised\\\\YAF_read_ps.wav',\n",
       " '../tess\\\\OAF_angry\\\\OAF_wash_angry.wav',\n",
       " '../tess\\\\OAF_angry\\\\OAF_young_angry.wav',\n",
       " '../tess\\\\YAF_disgust\\\\YAF_shawl_disgust.wav',\n",
       " '../tess\\\\YAF_sad\\\\YAF_sell_sad.wav',\n",
       " '../tess\\\\OAF_happy\\\\OAF_south_happy.wav',\n",
       " '../tess\\\\OAF_angry\\\\OAF_back_angry.wav',\n",
       " '../tess\\\\OAF_happy\\\\OAF_back_happy.wav',\n",
       " '../tess\\\\OAF_Pleasant_surprise\\\\OAF_road_ps.wav',\n",
       " '../tess\\\\YAF_pleasant_surprised\\\\YAF_cause_ps.wav',\n",
       " '../tess\\\\YAF_sad\\\\YAF_seize_sad.wav',\n",
       " '../tess\\\\YAF_sad\\\\YAF_sure_sad.wav',\n",
       " '../tess\\\\YAF_happy\\\\YAF_search_happy.wav',\n",
       " '../tess\\\\YAF_sad\\\\YAF_good_sad.wav',\n",
       " '../tess\\\\OAF_Sad\\\\OAF_dime_sad.wav',\n",
       " '../tess\\\\OAF_disgust\\\\OAF_witch_disgust.wav',\n",
       " '../tess\\\\OAF_Sad\\\\OAF_cool_sad.wav',\n",
       " '../tess\\\\YAF_disgust\\\\YAF_shall_disgust.wav',\n",
       " '../tess\\\\OAF_happy\\\\OAF_gap_happy.wav',\n",
       " '../tess\\\\YAF_sad\\\\YAF_learn_sad.wav',\n",
       " '../tess\\\\YAF_sad\\\\YAF_rot_sad.wav',\n",
       " '../tess\\\\YAF_sad\\\\YAF_note_sad.wav',\n",
       " '../tess\\\\YAF_disgust\\\\YAF_near_disgust.wav',\n",
       " '../tess\\\\YAF_angry\\\\YAF_doll_angry.wav',\n",
       " '../tess\\\\YAF_sad\\\\YAF_tool_sad.wav',\n",
       " '../tess\\\\OAF_disgust\\\\OAF_life_disgust.wav',\n",
       " '../tess\\\\YAF_disgust\\\\YAF_wag_disgust.wav',\n",
       " '../tess\\\\YAF_disgust\\\\YAF_boat_disgust.wav',\n",
       " '../tess\\\\YAF_angry\\\\YAF_pearl_angry.wav',\n",
       " '../tess\\\\YAF_fear\\\\YAF_kill_fear.wav',\n",
       " '../tess\\\\YAF_angry\\\\YAF_half_angry.wav',\n",
       " '../tess\\\\YAF_disgust\\\\YAF_bone_disgust.wav',\n",
       " '../tess\\\\OAF_Fear\\\\OAF_tape_fear.wav',\n",
       " '../tess\\\\OAF_happy\\\\OAF_cab_happy.wav',\n",
       " '../tess\\\\OAF_angry\\\\OAF_came_angry.wav',\n",
       " '../tess\\\\OAF_Fear\\\\OAF_seize_fear.wav',\n",
       " '../tess\\\\OAF_angry\\\\OAF_turn_angry.wav',\n",
       " '../tess\\\\YAF_happy\\\\YAF_good_happy.wav',\n",
       " '../tess\\\\OAF_happy\\\\OAF_road_happy.wav',\n",
       " '../tess\\\\YAF_happy\\\\YAF_keep_happy.wav',\n",
       " '../tess\\\\OAF_disgust\\\\OAF_peg_disgust.wav',\n",
       " '../tess\\\\YAF_fear\\\\YAF_cause_fear.wav',\n",
       " '../tess\\\\YAF_fear\\\\YAF_door_fear.wav',\n",
       " '../tess\\\\OAF_happy\\\\OAF_burn_happy.wav',\n",
       " '../tess\\\\OAF_happy\\\\OAF_tape_happy.wav',\n",
       " '../tess\\\\OAF_angry\\\\OAF_whip_angry.wav',\n",
       " '../tess\\\\YAF_angry\\\\YAF_note_angry.wav',\n",
       " '../tess\\\\YAF_disgust\\\\YAF_half_disgust.wav',\n",
       " '../tess\\\\YAF_fear\\\\YAF_pick_fear.wav',\n",
       " '../tess\\\\YAF_happy\\\\YAF_sell_happy.wav',\n",
       " '../tess\\\\OAF_angry\\\\OAF_late_angry.wav',\n",
       " '../tess\\\\YAF_disgust\\\\YAF_fit_disgust.wav',\n",
       " '../tess\\\\YAF_pleasant_surprised\\\\YAF_live_ps.wav',\n",
       " '../tess\\\\OAF_happy\\\\OAF_hash_happy.wav',\n",
       " '../tess\\\\YAF_pleasant_surprised\\\\YAF_wheat_ps.wav',\n",
       " '../tess\\\\OAF_Sad\\\\OAF_fit_sad.wav',\n",
       " '../tess\\\\OAF_Sad\\\\OAF_nag_sad.wav',\n",
       " '../tess\\\\OAF_Pleasant_surprise\\\\OAF_late_ps.wav',\n",
       " '../tess\\\\OAF_Pleasant_surprise\\\\OAF_pole_ps.wav',\n",
       " '../tess\\\\YAF_fear\\\\YAF_have_fear.wav',\n",
       " '../tess\\\\OAF_Sad\\\\OAF_mill_sad.wav',\n",
       " '../tess\\\\YAF_sad\\\\YAF_dab_sad.wav',\n",
       " '../tess\\\\YAF_fear\\\\YAF_vine_fear.wav',\n",
       " '../tess\\\\YAF_happy\\\\YAF_hurl_happy.wav',\n",
       " '../tess\\\\YAF_fear\\\\YAF_time_fear.wav',\n",
       " '../tess\\\\OAF_Fear\\\\OAF_shack_fear.wav',\n",
       " '../tess\\\\YAF_fear\\\\YAF_tip_fear.wav',\n",
       " '../tess\\\\OAF_Fear\\\\OAF_gas_fear.wav',\n",
       " '../tess\\\\OAF_happy\\\\OAF_lid_happy.wav',\n",
       " '../tess\\\\OAF_Pleasant_surprise\\\\OAF_door_ps.wav',\n",
       " '../tess\\\\OAF_Fear\\\\OAF_back_fear.wav',\n",
       " '../tess\\\\YAF_sad\\\\YAF_gas_sad.wav',\n",
       " '../tess\\\\OAF_angry\\\\OAF_wife_angry.wav',\n",
       " '../tess\\\\YAF_pleasant_surprised\\\\YAF_soup_ps.wav',\n",
       " '../tess\\\\OAF_Pleasant_surprise\\\\OAF_pike_ps.wav',\n",
       " '../tess\\\\OAF_Sad\\\\OAF_pool_sad.wav',\n",
       " '../tess\\\\YAF_pleasant_surprised\\\\YAF_wag_ps.wav',\n",
       " '../tess\\\\YAF_sad\\\\YAF_road_sad.wav',\n",
       " '../tess\\\\YAF_angry\\\\YAF_chat_angry.wav',\n",
       " '../tess\\\\OAF_disgust\\\\OAF_met_disgust.wav',\n",
       " '../tess\\\\OAF_Pleasant_surprise\\\\OAF_team_ps.wav',\n",
       " '../tess\\\\OAF_disgust\\\\OAF_ditch_disgust.wav',\n",
       " '../tess\\\\YAF_angry\\\\YAF_five_angry.wav',\n",
       " '../tess\\\\OAF_angry\\\\OAF_vote_angry.wav',\n",
       " '../tess\\\\YAF_sad\\\\YAF_germ_sad.wav',\n",
       " '../tess\\\\YAF_fear\\\\YAF_hurl_fear.wav',\n",
       " '../tess\\\\OAF_angry\\\\OAF_rush_angry.wav',\n",
       " '../tess\\\\OAF_Fear\\\\OAF_vote_fear.wav',\n",
       " '../tess\\\\OAF_Fear\\\\OAF_soup_fear.wav',\n",
       " '../tess\\\\YAF_pleasant_surprised\\\\YAF_sell_ps.wav',\n",
       " '../tess\\\\OAF_Fear\\\\OAF_boat_fear.wav',\n",
       " '../tess\\\\YAF_happy\\\\YAF_fit_happy.wav',\n",
       " '../tess\\\\YAF_sad\\\\YAF_bar_sad.wav',\n",
       " '../tess\\\\OAF_Fear\\\\OAF_cause_fear.wav',\n",
       " '../tess\\\\YAF_disgust\\\\YAF_white_disgust.wav',\n",
       " '../tess\\\\OAF_angry\\\\OAF_home_angry.wav',\n",
       " '../tess\\\\YAF_sad\\\\YAF_raise_sad.wav',\n",
       " '../tess\\\\YAF_sad\\\\YAF_match_sad.wav',\n",
       " '../tess\\\\OAF_Fear\\\\OAF_keen_fear.wav',\n",
       " '../tess\\\\YAF_happy\\\\YAF_have_happy.wav',\n",
       " '../tess\\\\OAF_disgust\\\\OAF_far_disgust.wav',\n",
       " '../tess\\\\OAF_Fear\\\\OAF_young_fear.wav',\n",
       " '../tess\\\\YAF_disgust\\\\YAF_yes_disgust.wav',\n",
       " '../tess\\\\OAF_happy\\\\OAF_germ_happy.wav',\n",
       " '../tess\\\\YAF_disgust\\\\YAF_name_disgust.wav',\n",
       " '../tess\\\\YAF_sad\\\\YAF_witch_sad.wav',\n",
       " '../tess\\\\YAF_disgust\\\\YAF_bar_disgust.wav',\n",
       " '../tess\\\\OAF_disgust\\\\OAF_make_disgust.wav',\n",
       " '../tess\\\\OAF_Pleasant_surprise\\\\OAF_gaze_ps.wav',\n",
       " '../tess\\\\YAF_fear\\\\YAF_rag_fear.wav',\n",
       " '../tess\\\\YAF_fear\\\\YAF_cab_fear.wav',\n",
       " '../tess\\\\YAF_pleasant_surprised\\\\YAF_make_ps.wav',\n",
       " '../tess\\\\YAF_disgust\\\\YAF_learn_disgust.wav',\n",
       " '../tess\\\\OAF_Fear\\\\OAF_bar_fear.wav',\n",
       " '../tess\\\\YAF_fear\\\\YAF_met_fear.wav',\n",
       " '../tess\\\\OAF_disgust\\\\OAF_shawl_disgust.wav',\n",
       " '../tess\\\\OAF_Pleasant_surprise\\\\OAF_rose_ps.wav',\n",
       " '../tess\\\\OAF_Fear\\\\OAF_search_fear.wav',\n",
       " '../tess\\\\YAF_happy\\\\YAF_judge_happy.wav',\n",
       " '../tess\\\\YAF_pleasant_surprised\\\\YAF_far_ps.wav',\n",
       " '../tess\\\\YAF_disgust\\\\YAF_bite_disgust.wav',\n",
       " '../tess\\\\YAF_pleasant_surprised\\\\YAF_life_ps.wav',\n",
       " '../tess\\\\YAF_sad\\\\YAF_knock_sad.wav',\n",
       " '../tess\\\\YAF_angry\\\\YAF_chalk_angry.wav',\n",
       " '../tess\\\\OAF_Pleasant_surprise\\\\OAF_wife_ps.wav',\n",
       " '../tess\\\\YAF_fear\\\\YAF_haze_fear.wav',\n",
       " '../tess\\\\OAF_angry\\\\OAF_youth_angry.wav',\n",
       " '../tess\\\\OAF_Pleasant_surprise\\\\OAF_rough_ps.wav',\n",
       " '../tess\\\\YAF_pleasant_surprised\\\\YAF_rough_ps.wav',\n",
       " '../tess\\\\YAF_sad\\\\YAF_page_sad.wav',\n",
       " '../tess\\\\OAF_angry\\\\OAF_hole_angry.wav',\n",
       " '../tess\\\\YAF_sad\\\\YAF_sub_sad.wav',\n",
       " '../tess\\\\OAF_disgust\\\\OAF_came_disgust.wav',\n",
       " '../tess\\\\YAF_fear\\\\YAF_gaze_fear.wav',\n",
       " '../tess\\\\OAF_angry\\\\OAF_jug_angry.wav',\n",
       " '../tess\\\\YAF_sad\\\\YAF_check_sad.wav',\n",
       " '../tess\\\\YAF_happy\\\\YAF_mill_happy.wav',\n",
       " '../tess\\\\YAF_disgust\\\\YAF_soup_disgust.wav',\n",
       " '../tess\\\\OAF_disgust\\\\OAF_near_disgust.wav',\n",
       " '../tess\\\\OAF_happy\\\\OAF_ton_happy.wav',\n",
       " '../tess\\\\OAF_Sad\\\\OAF_cheek_sad.wav',\n",
       " '../tess\\\\YAF_pleasant_surprised\\\\YAF_phone_ps.wav',\n",
       " '../tess\\\\OAF_happy\\\\OAF_wife_happy.wav',\n",
       " '../tess\\\\YAF_pleasant_surprised\\\\YAF_loaf_ps.wav',\n",
       " '../tess\\\\OAF_Pleasant_surprise\\\\OAF_fit_ps.wav',\n",
       " '../tess\\\\OAF_Sad\\\\OAF_neat_sad.wav',\n",
       " '../tess\\\\OAF_Sad\\\\OAF_thought_sad.wav',\n",
       " '../tess\\\\OAF_Fear\\\\OAF_pool_fear.wav',\n",
       " '../tess\\\\OAF_Pleasant_surprise\\\\OAF_pearl_ps.wav',\n",
       " '../tess\\\\YAF_sad\\\\YAF_bone_sad.wav',\n",
       " '../tess\\\\OAF_disgust\\\\OAF_wire_disgust.wav',\n",
       " '../tess\\\\YAF_pleasant_surprised\\\\YAF_book_ps.wav',\n",
       " '../tess\\\\YAF_angry\\\\YAF_road_angry.wav',\n",
       " '../tess\\\\OAF_Sad\\\\OAF_germ_sad.wav',\n",
       " '../tess\\\\YAF_pleasant_surprised\\\\YAF_merge_ps.wav',\n",
       " '../tess\\\\OAF_angry\\\\OAF_numb_angry.wav',\n",
       " '../tess\\\\YAF_disgust\\\\YAF_far_disgust.wav',\n",
       " '../tess\\\\YAF_sad\\\\YAF_pass_sad.wav',\n",
       " '../tess\\\\YAF_disgust\\\\YAF_walk_disgust.wav',\n",
       " '../tess\\\\YAF_fear\\\\YAF_team_fear.wav',\n",
       " '../tess\\\\OAF_Sad\\\\OAF_make_sad.wav',\n",
       " '../tess\\\\YAF_happy\\\\YAF_hire_happy.wav',\n",
       " '../tess\\\\OAF_happy\\\\OAF_pain_happy.wav',\n",
       " '../tess\\\\YAF_sad\\\\YAF_pain_sad.wav',\n",
       " '../tess\\\\OAF_disgust\\\\OAF_bone_disgust.wav',\n",
       " '../tess\\\\OAF_Pleasant_surprise\\\\OAF_mill_ps.wav',\n",
       " '../tess\\\\YAF_fear\\\\YAF_pearl_fear.wav',\n",
       " '../tess\\\\YAF_pleasant_surprised\\\\YAF_sure_ps.wav',\n",
       " '../tess\\\\YAF_pleasant_surprised\\\\YAF_hate_ps.wav',\n",
       " '../tess\\\\YAF_sad\\\\YAF_pole_sad.wav',\n",
       " '../tess\\\\YAF_pleasant_surprised\\\\YAF_shack_ps.wav',\n",
       " '../tess\\\\YAF_fear\\\\YAF_choice_fear.wav',\n",
       " '../tess\\\\OAF_happy\\\\OAF_knock_happy.wav',\n",
       " '../tess\\\\OAF_Pleasant_surprise\\\\OAF_half_ps.wav',\n",
       " '../tess\\\\YAF_pleasant_surprised\\\\YAF_bite_ps.wav',\n",
       " '../tess\\\\YAF_happy\\\\YAF_thin_happy.wav',\n",
       " '../tess\\\\YAF_disgust\\\\YAF_said_disgust.wav',\n",
       " '../tess\\\\OAF_Pleasant_surprise\\\\OAF_sure_ps.wav',\n",
       " '../tess\\\\OAF_Fear\\\\OAF_lot_fear.wav',\n",
       " '../tess\\\\OAF_Fear\\\\OAF_chief_fear.wav',\n",
       " '../tess\\\\OAF_disgust\\\\OAF_juice_disgust.wav',\n",
       " '../tess\\\\OAF_Fear\\\\OAF_bite_fear.wav',\n",
       " '../tess\\\\OAF_Fear\\\\OAF_chair_fear.wav',\n",
       " '../tess\\\\OAF_happy\\\\OAF_search_happy.wav',\n",
       " '../tess\\\\OAF_Fear\\\\OAF_gap_fear.wav',\n",
       " '../tess\\\\YAF_fear\\\\YAF_reach_fear.wav',\n",
       " '../tess\\\\OAF_happy\\\\OAF_came_happy.wav',\n",
       " '../tess\\\\OAF_angry\\\\OAF_food_angry.wav',\n",
       " '../tess\\\\OAF_Sad\\\\OAF_ripe_sad.wav',\n",
       " '../tess\\\\OAF_Fear\\\\OAF_gaze_fear.wav',\n",
       " '../tess\\\\YAF_angry\\\\YAF_learn_angry.wav',\n",
       " '../tess\\\\OAF_disgust\\\\OAF_void_disgust.wav',\n",
       " '../tess\\\\OAF_disgust\\\\OAF_rat_disgust.wav',\n",
       " '../tess\\\\YAF_fear\\\\YAF_raid_fear.wav',\n",
       " '../tess\\\\OAF_happy\\\\OAF_pole_happy.wav',\n",
       " '../tess\\\\OAF_disgust\\\\OAF_size_disgust.wav',\n",
       " '../tess\\\\YAF_happy\\\\YAF_pick_happy.wav',\n",
       " '../tess\\\\OAF_Fear\\\\OAF_knock_fear.wav',\n",
       " '../tess\\\\OAF_angry\\\\OAF_mill_angry.wav',\n",
       " '../tess\\\\YAF_happy\\\\YAF_jug_happy.wav',\n",
       " '../tess\\\\YAF_angry\\\\YAF_thumb_angry.wav',\n",
       " '../tess\\\\OAF_happy\\\\OAF_should_happy.wav',\n",
       " '../tess\\\\YAF_disgust\\\\YAF_yearn_disgust.wav',\n",
       " '../tess\\\\OAF_disgust\\\\OAF_numb_disgust.wav',\n",
       " '../tess\\\\YAF_angry\\\\YAF_tell_angry.wav',\n",
       " '../tess\\\\YAF_pleasant_surprised\\\\YAF_juice_ps.wav',\n",
       " '../tess\\\\YAF_happy\\\\YAF_jail_happy.wav',\n",
       " '../tess\\\\OAF_Fear\\\\OAF_dab_fear.wav',\n",
       " '../tess\\\\OAF_disgust\\\\OAF_have_disgust.wav',\n",
       " '../tess\\\\OAF_Sad\\\\OAF_bought_sad.wav',\n",
       " '../tess\\\\OAF_Sad\\\\OAF_keg_sad.wav',\n",
       " '../tess\\\\OAF_happy\\\\OAF_choice_happy.wav',\n",
       " '../tess\\\\YAF_fear\\\\YAF_rush_fear.wav',\n",
       " '../tess\\\\OAF_Pleasant_surprise\\\\OAF_phone_ps.wav',\n",
       " '../tess\\\\OAF_Sad\\\\OAF_kite_sad.wav',\n",
       " '../tess\\\\YAF_disgust\\\\YAF_rot_disgust.wav',\n",
       " '../tess\\\\YAF_pleasant_surprised\\\\YAF_choice_ps.wav',\n",
       " '../tess\\\\OAF_Pleasant_surprise\\\\OAF_keg_ps.wav',\n",
       " '../tess\\\\YAF_fear\\\\YAF_kick_fear.wav',\n",
       " '../tess\\\\OAF_angry\\\\OAF_date_angry.wav',\n",
       " '../tess\\\\YAF_pleasant_surprised\\\\YAF_pick_ps.wav',\n",
       " '../tess\\\\OAF_disgust\\\\OAF_nice_disgust.wav',\n",
       " '../tess\\\\YAF_angry\\\\YAF_cool_angry.wav',\n",
       " '../tess\\\\OAF_happy\\\\OAF_neat_happy.wav',\n",
       " '../tess\\\\OAF_Sad\\\\OAF_match_sad.wav',\n",
       " '../tess\\\\YAF_pleasant_surprised\\\\YAF_good_ps.wav',\n",
       " '../tess\\\\OAF_disgust\\\\OAF_knock_disgust.wav',\n",
       " '../tess\\\\OAF_Fear\\\\OAF_gin_fear.wav',\n",
       " '../tess\\\\OAF_Pleasant_surprise\\\\OAF_near_ps.wav',\n",
       " '../tess\\\\OAF_disgust\\\\OAF_third_disgust.wav',\n",
       " '../tess\\\\YAF_disgust\\\\YAF_perch_disgust.wav',\n",
       " '../tess\\\\OAF_happy\\\\OAF_week_happy.wav',\n",
       " '../tess\\\\OAF_Pleasant_surprise\\\\OAF_raid_ps.wav',\n",
       " '../tess\\\\YAF_pleasant_surprised\\\\YAF_mouse_ps.wav',\n",
       " '../tess\\\\YAF_happy\\\\YAF_phone_happy.wav',\n",
       " '../tess\\\\OAF_Pleasant_surprise\\\\OAF_mood_ps.wav',\n",
       " '../tess\\\\YAF_disgust\\\\YAF_dime_disgust.wav',\n",
       " '../tess\\\\YAF_fear\\\\YAF_such_fear.wav',\n",
       " '../tess\\\\OAF_Sad\\\\OAF_hate_sad.wav',\n",
       " '../tess\\\\OAF_Pleasant_surprise\\\\OAF_bite_ps.wav',\n",
       " '../tess\\\\OAF_angry\\\\OAF_door_angry.wav',\n",
       " '../tess\\\\YAF_pleasant_surprised\\\\YAF_keen_ps.wav',\n",
       " '../tess\\\\YAF_angry\\\\YAF_void_angry.wav',\n",
       " '../tess\\\\YAF_pleasant_surprised\\\\YAF_pearl_ps.wav',\n",
       " '../tess\\\\YAF_disgust\\\\YAF_hate_disgust.wav',\n",
       " '../tess\\\\OAF_angry\\\\OAF_rough_angry.wav',\n",
       " '../tess\\\\YAF_angry\\\\YAF_goose_angry.wav',\n",
       " '../tess\\\\OAF_Fear\\\\OAF_sheep_fear.wav',\n",
       " '../tess\\\\YAF_sad\\\\YAF_base_sad.wav',\n",
       " '../tess\\\\OAF_Sad\\\\OAF_rag_sad.wav',\n",
       " '../tess\\\\OAF_Pleasant_surprise\\\\OAF_pass_ps.wav',\n",
       " '../tess\\\\YAF_disgust\\\\YAF_void_disgust.wav',\n",
       " '../tess\\\\YAF_sad\\\\YAF_mob_sad.wav',\n",
       " '../tess\\\\OAF_Sad\\\\OAF_when_sad.wav',\n",
       " '../tess\\\\OAF_Pleasant_surprise\\\\OAF_dab_ps.wav',\n",
       " '../tess\\\\YAF_happy\\\\YAF_date_happy.wav',\n",
       " '../tess\\\\YAF_disgust\\\\YAF_beg_disgust.wav',\n",
       " '../tess\\\\YAF_happy\\\\YAF_white_happy.wav',\n",
       " '../tess\\\\YAF_sad\\\\YAF_make_sad.wav',\n",
       " '../tess\\\\YAF_fear\\\\YAF_live_fear.wav',\n",
       " '../tess\\\\YAF_fear\\\\YAF_peg_fear.wav',\n",
       " '../tess\\\\OAF_happy\\\\OAF_join_happy.wav',\n",
       " '../tess\\\\OAF_Pleasant_surprise\\\\OAF_lean_ps.wav',\n",
       " '../tess\\\\YAF_disgust\\\\YAF_tool_disgust.wav',\n",
       " '../tess\\\\YAF_sad\\\\YAF_chair_sad.wav',\n",
       " '../tess\\\\OAF_Fear\\\\OAF_met_fear.wav',\n",
       " '../tess\\\\OAF_Pleasant_surprise\\\\OAF_walk_ps.wav',\n",
       " '../tess\\\\OAF_disgust\\\\OAF_wag_disgust.wav',\n",
       " '../tess\\\\OAF_happy\\\\OAF_luck_happy.wav',\n",
       " '../tess\\\\OAF_disgust\\\\OAF_youth_disgust.wav',\n",
       " '../tess\\\\OAF_angry\\\\OAF_phone_angry.wav',\n",
       " '../tess\\\\YAF_pleasant_surprised\\\\YAF_witch_ps.wav',\n",
       " '../tess\\\\OAF_disgust\\\\OAF_should_disgust.wav',\n",
       " '../tess\\\\OAF_Fear\\\\OAF_ripe_fear.wav',\n",
       " '../tess\\\\OAF_Sad\\\\OAF_whip_sad.wav',\n",
       " '../tess\\\\YAF_angry\\\\YAF_lose_angry.wav',\n",
       " '../tess\\\\OAF_happy\\\\OAF_hire_happy.wav',\n",
       " '../tess\\\\OAF_happy\\\\OAF_lot_happy.wav',\n",
       " '../tess\\\\YAF_pleasant_surprised\\\\YAF_mob_ps.wav',\n",
       " '../tess\\\\OAF_Pleasant_surprise\\\\OAF_talk_ps.wav',\n",
       " '../tess\\\\OAF_happy\\\\OAF_pad_happy.wav',\n",
       " '../tess\\\\YAF_angry\\\\YAF_hash_angry.wav',\n",
       " '../tess\\\\OAF_Fear\\\\OAF_base_fear.wav',\n",
       " '../tess\\\\OAF_Pleasant_surprise\\\\OAF_numb_ps.wav',\n",
       " '../tess\\\\OAF_Pleasant_surprise\\\\OAF_tire_ps.wav',\n",
       " '../tess\\\\YAF_fear\\\\YAF_raise_fear.wav',\n",
       " '../tess\\\\YAF_happy\\\\YAF_lean_happy.wav',\n",
       " '../tess\\\\YAF_disgust\\\\YAF_mill_disgust.wav',\n",
       " '../tess\\\\OAF_Fear\\\\OAF_kite_fear.wav',\n",
       " '../tess\\\\YAF_fear\\\\YAF_void_fear.wav',\n",
       " '../tess\\\\YAF_angry\\\\YAF_white_angry.wav',\n",
       " '../tess\\\\OAF_angry\\\\OAF_chief_angry.wav',\n",
       " '../tess\\\\YAF_happy\\\\YAF_young_happy.wav',\n",
       " '../tess\\\\YAF_disgust\\\\YAF_goose_disgust.wav',\n",
       " '../tess\\\\YAF_fear\\\\YAF_road_fear.wav',\n",
       " '../tess\\\\YAF_pleasant_surprised\\\\YAF_numb_ps.wav',\n",
       " '../tess\\\\YAF_angry\\\\YAF_bar_angry.wav',\n",
       " '../tess\\\\YAF_sad\\\\YAF_jug_sad.wav',\n",
       " '../tess\\\\OAF_Fear\\\\OAF_time_fear.wav',\n",
       " '../tess\\\\YAF_sad\\\\YAF_when_sad.wav',\n",
       " '../tess\\\\YAF_fear\\\\YAF_cheek_fear.wav',\n",
       " '../tess\\\\YAF_disgust\\\\YAF_south_disgust.wav',\n",
       " '../tess\\\\YAF_fear\\\\YAF_bar_fear.wav',\n",
       " '../tess\\\\YAF_angry\\\\YAF_hit_angry.wav',\n",
       " '../tess\\\\OAF_happy\\\\OAF_name_happy.wav',\n",
       " '../tess\\\\OAF_disgust\\\\OAF_tell_disgust.wav',\n",
       " '../tess\\\\OAF_Sad\\\\OAF_yearn_sad.wav',\n",
       " '../tess\\\\OAF_angry\\\\OAF_boat_angry.wav',\n",
       " '../tess\\\\YAF_happy\\\\YAF_fall_happy.wav',\n",
       " '../tess\\\\OAF_disgust\\\\OAF_keen_disgust.wav',\n",
       " '../tess\\\\OAF_Sad\\\\OAF_mouse_sad.wav',\n",
       " '../tess\\\\OAF_disgust\\\\OAF_hash_disgust.wav',\n",
       " '../tess\\\\YAF_pleasant_surprised\\\\YAF_hire_ps.wav',\n",
       " '../tess\\\\YAF_sad\\\\YAF_team_sad.wav',\n",
       " '../tess\\\\OAF_disgust\\\\OAF_lease_disgust.wav',\n",
       " '../tess\\\\OAF_Fear\\\\OAF_keep_fear.wav',\n",
       " '../tess\\\\OAF_Sad\\\\OAF_dab_sad.wav',\n",
       " '../tess\\\\OAF_Pleasant_surprise\\\\OAF_name_ps.wav',\n",
       " '../tess\\\\OAF_happy\\\\OAF_rough_happy.wav',\n",
       " '../tess\\\\OAF_Sad\\\\OAF_tip_sad.wav',\n",
       " '../tess\\\\OAF_angry\\\\OAF_peg_angry.wav',\n",
       " '../tess\\\\OAF_Pleasant_surprise\\\\OAF_death_ps.wav',\n",
       " '../tess\\\\YAF_sad\\\\YAF_burn_sad.wav',\n",
       " '../tess\\\\OAF_happy\\\\OAF_tough_happy.wav',\n",
       " '../tess\\\\YAF_pleasant_surprised\\\\YAF_tool_ps.wav',\n",
       " '../tess\\\\YAF_pleasant_surprised\\\\YAF_tip_ps.wav',\n",
       " '../tess\\\\OAF_Pleasant_surprise\\\\OAF_rain_ps.wav',\n",
       " '../tess\\\\OAF_angry\\\\OAF_five_angry.wav',\n",
       " '../tess\\\\YAF_pleasant_surprised\\\\YAF_late_ps.wav',\n",
       " '../tess\\\\OAF_Fear\\\\OAF_wash_fear.wav',\n",
       " '../tess\\\\YAF_fear\\\\YAF_dime_fear.wav',\n",
       " '../tess\\\\OAF_Pleasant_surprise\\\\OAF_sour_ps.wav',\n",
       " '../tess\\\\YAF_disgust\\\\YAF_cab_disgust.wav',\n",
       " '../tess\\\\OAF_disgust\\\\OAF_learn_disgust.wav',\n",
       " '../tess\\\\OAF_Sad\\\\OAF_thin_sad.wav',\n",
       " '../tess\\\\YAF_disgust\\\\YAF_pole_disgust.wav',\n",
       " '../tess\\\\OAF_Pleasant_surprise\\\\OAF_voice_ps.wav',\n",
       " '../tess\\\\OAF_disgust\\\\OAF_mode_disgust.wav',\n",
       " '../tess\\\\OAF_Fear\\\\OAF_dime_fear.wav',\n",
       " '../tess\\\\YAF_angry\\\\YAF_back_angry.wav',\n",
       " '../tess\\\\OAF_happy\\\\OAF_dodge_happy.wav',\n",
       " '../tess\\\\OAF_Pleasant_surprise\\\\OAF_lore_ps.wav',\n",
       " '../tess\\\\OAF_Pleasant_surprise\\\\OAF_ton_ps.wav',\n",
       " '../tess\\\\YAF_disgust\\\\YAF_keep_disgust.wav',\n",
       " '../tess\\\\YAF_disgust\\\\YAF_mop_disgust.wav',\n",
       " '../tess\\\\YAF_angry\\\\YAF_mob_angry.wav',\n",
       " '../tess\\\\OAF_disgust\\\\OAF_jar_disgust.wav',\n",
       " '../tess\\\\YAF_happy\\\\YAF_match_happy.wav',\n",
       " '../tess\\\\OAF_Sad\\\\OAF_ton_sad.wav',\n",
       " '../tess\\\\YAF_angry\\\\YAF_said_angry.wav',\n",
       " '../tess\\\\YAF_happy\\\\YAF_page_happy.wav',\n",
       " '../tess\\\\YAF_happy\\\\YAF_vote_happy.wav',\n",
       " '../tess\\\\OAF_Fear\\\\OAF_lease_fear.wav',\n",
       " '../tess\\\\OAF_disgust\\\\OAF_tool_disgust.wav',\n",
       " '../tess\\\\YAF_fear\\\\YAF_life_fear.wav',\n",
       " '../tess\\\\OAF_Pleasant_surprise\\\\OAF_five_ps.wav',\n",
       " '../tess\\\\YAF_disgust\\\\YAF_food_disgust.wav',\n",
       " '../tess\\\\YAF_happy\\\\YAF_void_happy.wav',\n",
       " '../tess\\\\OAF_Pleasant_surprise\\\\OAF_dip_ps.wav',\n",
       " '../tess\\\\YAF_happy\\\\YAF_yes_happy.wav',\n",
       " '../tess\\\\YAF_pleasant_surprised\\\\YAF_dead_ps.wav',\n",
       " '../tess\\\\OAF_angry\\\\OAF_king_angry.wav',\n",
       " '../tess\\\\OAF_Pleasant_surprise\\\\OAF_thin_ps.wav',\n",
       " '../tess\\\\YAF_sad\\\\YAF_white_sad.wav',\n",
       " '../tess\\\\OAF_disgust\\\\OAF_sell_disgust.wav',\n",
       " '../tess\\\\YAF_angry\\\\YAF_lot_angry.wav',\n",
       " '../tess\\\\YAF_sad\\\\YAF_jail_sad.wav',\n",
       " '../tess\\\\YAF_happy\\\\YAF_calm_happy.wav',\n",
       " '../tess\\\\OAF_angry\\\\OAF_shack_angry.wav',\n",
       " '../tess\\\\OAF_happy\\\\OAF_moon_happy.wav',\n",
       " '../tess\\\\OAF_happy\\\\OAF_fit_happy.wav',\n",
       " '../tess\\\\YAF_angry\\\\YAF_germ_angry.wav',\n",
       " '../tess\\\\OAF_Sad\\\\OAF_tape_sad.wav',\n",
       " '../tess\\\\YAF_sad\\\\YAF_merge_sad.wav',\n",
       " '../tess\\\\YAF_disgust\\\\YAF_hall_disgust.wav',\n",
       " '../tess\\\\YAF_happy\\\\YAF_kick_happy.wav',\n",
       " '../tess\\\\YAF_happy\\\\YAF_lot_happy.wav',\n",
       " '../tess\\\\OAF_disgust\\\\OAF_beg_disgust.wav',\n",
       " '../tess\\\\OAF_angry\\\\OAF_dab_angry.wav',\n",
       " '../tess\\\\OAF_disgust\\\\OAF_tip_disgust.wav',\n",
       " '../tess\\\\OAF_Fear\\\\OAF_puff_fear.wav',\n",
       " '../tess\\\\OAF_disgust\\\\OAF_live_disgust.wav',\n",
       " '../tess\\\\YAF_sad\\\\YAF_came_sad.wav',\n",
       " '../tess\\\\OAF_Sad\\\\OAF_gun_sad.wav',\n",
       " '../tess\\\\YAF_fear\\\\YAF_turn_fear.wav',\n",
       " '../tess\\\\OAF_Sad\\\\OAF_lease_sad.wav',\n",
       " '../tess\\\\OAF_happy\\\\OAF_learn_happy.wav',\n",
       " '../tess\\\\OAF_disgust\\\\OAF_seize_disgust.wav',\n",
       " '../tess\\\\OAF_happy\\\\OAF_take_happy.wav',\n",
       " '../tess\\\\OAF_Pleasant_surprise\\\\OAF_note_ps.wav',\n",
       " '../tess\\\\YAF_disgust\\\\YAF_have_disgust.wav',\n",
       " '../tess\\\\YAF_fear\\\\YAF_phone_fear.wav',\n",
       " '../tess\\\\OAF_Sad\\\\OAF_witch_sad.wav',\n",
       " '../tess\\\\YAF_angry\\\\YAF_hire_angry.wav',\n",
       " '../tess\\\\OAF_Pleasant_surprise\\\\OAF_thought_ps.wav',\n",
       " '../tess\\\\YAF_sad\\\\YAF_voice_sad.wav',\n",
       " '../tess\\\\YAF_angry\\\\YAF_have_angry.wav',\n",
       " '../tess\\\\OAF_happy\\\\OAF_hate_happy.wav',\n",
       " '../tess\\\\OAF_Sad\\\\OAF_time_sad.wav',\n",
       " '../tess\\\\OAF_Fear\\\\OAF_room_fear.wav',\n",
       " '../tess\\\\OAF_Fear\\\\OAF_ton_fear.wav',\n",
       " '../tess\\\\OAF_angry\\\\OAF_shirt_angry.wav',\n",
       " '../tess\\\\YAF_sad\\\\YAF_rush_sad.wav',\n",
       " '../tess\\\\OAF_Sad\\\\OAF_which_sad.wav',\n",
       " '../tess\\\\YAF_disgust\\\\YAF_vine_disgust.wav',\n",
       " '../tess\\\\YAF_disgust\\\\YAF_chalk_disgust.wav',\n",
       " '../tess\\\\YAF_happy\\\\YAF_hush_happy.wav',\n",
       " '../tess\\\\YAF_sad\\\\YAF_door_sad.wav',\n",
       " '../tess\\\\OAF_Fear\\\\OAF_jug_fear.wav',\n",
       " '../tess\\\\OAF_happy\\\\OAF_half_happy.wav',\n",
       " '../tess\\\\OAF_happy\\\\OAF_young_happy.wav',\n",
       " '../tess\\\\OAF_Fear\\\\OAF_germ_fear.wav',\n",
       " '../tess\\\\OAF_angry\\\\OAF_jar_angry.wav',\n",
       " '../tess\\\\YAF_happy\\\\YAF_lose_happy.wav',\n",
       " '../tess\\\\YAF_sad\\\\YAF_whip_sad.wav',\n",
       " '../tess\\\\YAF_sad\\\\YAF_sail_sad.wav',\n",
       " '../tess\\\\YAF_sad\\\\YAF_chalk_sad.wav',\n",
       " '../tess\\\\YAF_fear\\\\YAF_gun_fear.wav',\n",
       " '../tess\\\\OAF_happy\\\\OAF_youth_happy.wav',\n",
       " '../tess\\\\OAF_Sad\\\\OAF_hall_sad.wav',\n",
       " '../tess\\\\YAF_sad\\\\YAF_kill_sad.wav',\n",
       " '../tess\\\\YAF_disgust\\\\YAF_hash_disgust.wav',\n",
       " '../tess\\\\OAF_angry\\\\OAF_ripe_angry.wav',\n",
       " '../tess\\\\YAF_angry\\\\YAF_peg_angry.wav',\n",
       " '../tess\\\\YAF_angry\\\\YAF_tire_angry.wav',\n",
       " '../tess\\\\YAF_sad\\\\YAF_half_sad.wav',\n",
       " '../tess\\\\OAF_happy\\\\OAF_pass_happy.wav',\n",
       " '../tess\\\\OAF_Sad\\\\OAF_rush_sad.wav',\n",
       " '../tess\\\\OAF_Sad\\\\OAF_tell_sad.wav',\n",
       " '../tess\\\\OAF_Sad\\\\OAF_long_sad.wav',\n",
       " '../tess\\\\OAF_Pleasant_surprise\\\\OAF_yes_ps.wav',\n",
       " '../tess\\\\OAF_Sad\\\\OAF_back_sad.wav',\n",
       " '../tess\\\\YAF_fear\\\\YAF_hire_fear.wav',\n",
       " '../tess\\\\OAF_angry\\\\OAF_tip_angry.wav',\n",
       " '../tess\\\\YAF_disgust\\\\YAF_mood_disgust.wav',\n",
       " '../tess\\\\OAF_disgust\\\\OAF_raid_disgust.wav',\n",
       " '../tess\\\\OAF_Fear\\\\OAF_shirt_fear.wav',\n",
       " '../tess\\\\YAF_pleasant_surprised\\\\YAF_thin_ps.wav',\n",
       " '../tess\\\\YAF_disgust\\\\YAF_which_disgust.wav',\n",
       " '../tess\\\\OAF_Fear\\\\OAF_thin_fear.wav',\n",
       " '../tess\\\\YAF_sad\\\\YAF_shirt_sad.wav',\n",
       " '../tess\\\\YAF_happy\\\\YAF_bean_happy.wav',\n",
       " '../tess\\\\OAF_disgust\\\\OAF_gas_disgust.wav',\n",
       " '../tess\\\\YAF_pleasant_surprised\\\\YAF_death_ps.wav',\n",
       " '../tess\\\\OAF_disgust\\\\OAF_bean_disgust.wav',\n",
       " '../tess\\\\YAF_happy\\\\YAF_such_happy.wav',\n",
       " '../tess\\\\OAF_disgust\\\\OAF_join_disgust.wav',\n",
       " '../tess\\\\OAF_Sad\\\\OAF_nice_sad.wav',\n",
       " '../tess\\\\YAF_angry\\\\YAF_lid_angry.wav',\n",
       " '../tess\\\\OAF_angry\\\\OAF_note_angry.wav',\n",
       " '../tess\\\\YAF_happy\\\\YAF_get_happy.wav',\n",
       " '../tess\\\\OAF_angry\\\\OAF_yes_angry.wav',\n",
       " '../tess\\\\OAF_angry\\\\OAF_pearl_angry.wav',\n",
       " '../tess\\\\YAF_happy\\\\YAF_when_happy.wav',\n",
       " '../tess\\\\OAF_angry\\\\OAF_kill_angry.wav',\n",
       " '../tess\\\\YAF_sad\\\\YAF_thumb_sad.wav',\n",
       " '../tess\\\\OAF_Sad\\\\OAF_merge_sad.wav',\n",
       " '../tess\\\\OAF_happy\\\\OAF_late_happy.wav',\n",
       " '../tess\\\\OAF_happy\\\\OAF_pike_happy.wav',\n",
       " '../tess\\\\YAF_sad\\\\YAF_food_sad.wav',\n",
       " '../tess\\\\YAF_disgust\\\\YAF_youth_disgust.wav',\n",
       " '../tess\\\\YAF_fear\\\\YAF_love_fear.wav',\n",
       " '../tess\\\\YAF_fear\\\\YAF_death_fear.wav',\n",
       " '../tess\\\\OAF_happy\\\\OAF_bone_happy.wav',\n",
       " '../tess\\\\YAF_happy\\\\YAF_name_happy.wav',\n",
       " '../tess\\\\YAF_angry\\\\YAF_dab_angry.wav',\n",
       " '../tess\\\\OAF_Sad\\\\OAF_tool_sad.wav',\n",
       " '../tess\\\\OAF_Sad\\\\OAF_jar_sad.wav',\n",
       " '../tess\\\\YAF_happy\\\\YAF_wire_happy.wav',\n",
       " '../tess\\\\YAF_pleasant_surprised\\\\YAF_nice_ps.wav',\n",
       " '../tess\\\\YAF_fear\\\\YAF_knock_fear.wav',\n",
       " '../tess\\\\OAF_happy\\\\OAF_shirt_happy.wav',\n",
       " '../tess\\\\OAF_Fear\\\\OAF_yes_fear.wav',\n",
       " '../tess\\\\YAF_angry\\\\YAF_jar_angry.wav',\n",
       " '../tess\\\\OAF_disgust\\\\OAF_chair_disgust.wav',\n",
       " '../tess\\\\YAF_angry\\\\YAF_fall_angry.wav',\n",
       " '../tess\\\\YAF_fear\\\\YAF_bone_fear.wav',\n",
       " '../tess\\\\YAF_disgust\\\\YAF_kill_disgust.wav',\n",
       " '../tess\\\\OAF_Pleasant_surprise\\\\OAF_laud_ps.wav',\n",
       " '../tess\\\\OAF_Fear\\\\OAF_luck_fear.wav',\n",
       " '../tess\\\\OAF_Fear\\\\OAF_juice_fear.wav',\n",
       " '../tess\\\\OAF_disgust\\\\OAF_note_disgust.wav',\n",
       " '../tess\\\\OAF_angry\\\\OAF_hire_angry.wav',\n",
       " '../tess\\\\YAF_happy\\\\YAF_wheat_happy.wav',\n",
       " '../tess\\\\OAF_angry\\\\OAF_tape_angry.wav',\n",
       " '../tess\\\\OAF_Sad\\\\OAF_team_sad.wav',\n",
       " '../tess\\\\OAF_Fear\\\\OAF_hush_fear.wav',\n",
       " '../tess\\\\OAF_Pleasant_surprise\\\\OAF_dime_ps.wav',\n",
       " '../tess\\\\YAF_fear\\\\YAF_mob_fear.wav',\n",
       " '../tess\\\\OAF_disgust\\\\OAF_fall_disgust.wav',\n",
       " '../tess\\\\OAF_disgust\\\\OAF_long_disgust.wav',\n",
       " '../tess\\\\OAF_Fear\\\\OAF_read_fear.wav',\n",
       " '../tess\\\\OAF_Sad\\\\OAF_take_sad.wav',\n",
       " '../tess\\\\YAF_angry\\\\YAF_rot_angry.wav',\n",
       " '../tess\\\\YAF_happy\\\\YAF_pad_happy.wav',\n",
       " '../tess\\\\YAF_happy\\\\YAF_sure_happy.wav',\n",
       " '../tess\\\\OAF_Sad\\\\OAF_peg_sad.wav',\n",
       " '../tess\\\\YAF_happy\\\\YAF_wag_happy.wav',\n",
       " '../tess\\\\YAF_sad\\\\YAF_bath_sad.wav',\n",
       " '../tess\\\\YAF_disgust\\\\YAF_match_disgust.wav',\n",
       " '../tess\\\\YAF_angry\\\\YAF_seize_angry.wav',\n",
       " '../tess\\\\YAF_happy\\\\YAF_live_happy.wav',\n",
       " '../tess\\\\YAF_angry\\\\YAF_luck_angry.wav',\n",
       " '../tess\\\\YAF_happy\\\\YAF_make_happy.wav',\n",
       " '../tess\\\\YAF_happy\\\\YAF_tire_happy.wav',\n",
       " '../tess\\\\OAF_Sad\\\\OAF_sub_sad.wav',\n",
       " '../tess\\\\OAF_Pleasant_surprise\\\\OAF_tough_ps.wav',\n",
       " '../tess\\\\YAF_happy\\\\YAF_pole_happy.wav',\n",
       " '../tess\\\\YAF_pleasant_surprised\\\\YAF_lease_ps.wav',\n",
       " '../tess\\\\YAF_disgust\\\\YAF_hire_disgust.wav',\n",
       " '../tess\\\\YAF_angry\\\\YAF_jail_angry.wav',\n",
       " '../tess\\\\OAF_Pleasant_surprise\\\\OAF_soap_ps.wav',\n",
       " '../tess\\\\YAF_pleasant_surprised\\\\YAF_laud_ps.wav',\n",
       " '../tess\\\\YAF_sad\\\\YAF_limb_sad.wav',\n",
       " '../tess\\\\OAF_happy\\\\OAF_lore_happy.wav',\n",
       " '../tess\\\\YAF_happy\\\\YAF_jar_happy.wav',\n",
       " '../tess\\\\OAF_Pleasant_surprise\\\\OAF_shack_ps.wav',\n",
       " '../tess\\\\YAF_pleasant_surprised\\\\YAF_long_ps.wav',\n",
       " '../tess\\\\OAF_Fear\\\\OAF_haze_fear.wav',\n",
       " '../tess\\\\YAF_pleasant_surprised\\\\YAF_which_ps.wav',\n",
       " '../tess\\\\YAF_happy\\\\YAF_boat_happy.wav',\n",
       " '../tess\\\\YAF_fear\\\\YAF_sell_fear.wav',\n",
       " '../tess\\\\OAF_Pleasant_surprise\\\\OAF_hire_ps.wav',\n",
       " '../tess\\\\OAF_Pleasant_surprise\\\\OAF_pad_ps.wav',\n",
       " '../tess\\\\YAF_sad\\\\YAF_beg_sad.wav',\n",
       " '../tess\\\\YAF_angry\\\\YAF_raise_angry.wav',\n",
       " '../tess\\\\YAF_sad\\\\YAF_puff_sad.wav',\n",
       " '../tess\\\\YAF_sad\\\\YAF_youth_sad.wav',\n",
       " '../tess\\\\OAF_Sad\\\\OAF_red_sad.wav',\n",
       " '../tess\\\\OAF_disgust\\\\OAF_lore_disgust.wav',\n",
       " '../tess\\\\YAF_fear\\\\YAF_doll_fear.wav',\n",
       " '../tess\\\\YAF_angry\\\\YAF_long_angry.wav',\n",
       " '../tess\\\\OAF_Fear\\\\OAF_good_fear.wav',\n",
       " '../tess\\\\OAF_Fear\\\\OAF_should_fear.wav',\n",
       " '../tess\\\\YAF_angry\\\\YAF_keg_angry.wav',\n",
       " '../tess\\\\OAF_Sad\\\\OAF_laud_sad.wav',\n",
       " '../tess\\\\OAF_disgust\\\\OAF_chief_disgust.wav',\n",
       " '../tess\\\\YAF_angry\\\\YAF_bite_angry.wav',\n",
       " '../tess\\\\YAF_disgust\\\\YAF_reach_disgust.wav',\n",
       " '../tess\\\\YAF_fear\\\\YAF_hole_fear.wav',\n",
       " '../tess\\\\YAF_fear\\\\YAF_lose_fear.wav',\n",
       " '../tess\\\\OAF_angry\\\\OAF_keg_angry.wav',\n",
       " '../tess\\\\OAF_Sad\\\\OAF_dodge_sad.wav',\n",
       " '../tess\\\\YAF_happy\\\\YAF_burn_happy.wav',\n",
       " '../tess\\\\OAF_Fear\\\\OAF_chalk_fear.wav',\n",
       " '../tess\\\\OAF_disgust\\\\OAF_good_disgust.wav',\n",
       " '../tess\\\\OAF_Sad\\\\OAF_wash_sad.wav',\n",
       " '../tess\\\\YAF_sad\\\\YAF_met_sad.wav',\n",
       " '../tess\\\\OAF_happy\\\\OAF_hit_happy.wav',\n",
       " '../tess\\\\OAF_disgust\\\\OAF_jug_disgust.wav',\n",
       " '../tess\\\\YAF_pleasant_surprised\\\\YAF_shout_ps.wav',\n",
       " '../tess\\\\OAF_disgust\\\\OAF_wash_disgust.wav',\n",
       " '../tess\\\\YAF_happy\\\\YAF_time_happy.wav',\n",
       " '../tess\\\\YAF_happy\\\\YAF_read_happy.wav',\n",
       " '../tess\\\\YAF_angry\\\\YAF_gap_angry.wav',\n",
       " '../tess\\\\YAF_disgust\\\\YAF_hit_disgust.wav',\n",
       " '../tess\\\\YAF_fear\\\\YAF_king_fear.wav',\n",
       " '../tess\\\\OAF_disgust\\\\OAF_lid_disgust.wav',\n",
       " '../tess\\\\YAF_angry\\\\YAF_love_angry.wav',\n",
       " '../tess\\\\OAF_happy\\\\OAF_wheat_happy.wav',\n",
       " '../tess\\\\YAF_pleasant_surprised\\\\YAF_mop_ps.wav',\n",
       " '../tess\\\\YAF_sad\\\\YAF_said_sad.wav',\n",
       " '../tess\\\\OAF_angry\\\\OAF_dodge_angry.wav',\n",
       " '../tess\\\\YAF_pleasant_surprised\\\\YAF_pole_ps.wav',\n",
       " '../tess\\\\OAF_disgust\\\\OAF_shirt_disgust.wav',\n",
       " '../tess\\\\YAF_angry\\\\YAF_cheek_angry.wav',\n",
       " '../tess\\\\YAF_disgust\\\\YAF_haze_disgust.wav',\n",
       " '../tess\\\\YAF_pleasant_surprised\\\\YAF_south_ps.wav',\n",
       " '../tess\\\\YAF_disgust\\\\YAF_long_disgust.wav',\n",
       " '../tess\\\\YAF_fear\\\\YAF_numb_fear.wav',\n",
       " '../tess\\\\YAF_sad\\\\YAF_wag_sad.wav',\n",
       " '../tess\\\\OAF_Pleasant_surprise\\\\OAF_when_ps.wav',\n",
       " '../tess\\\\OAF_Pleasant_surprise\\\\OAF_vine_ps.wav',\n",
       " '../tess\\\\YAF_angry\\\\YAF_team_angry.wav',\n",
       " '../tess\\\\OAF_Pleasant_surprise\\\\OAF_puff_ps.wav',\n",
       " '../tess\\\\YAF_happy\\\\YAF_gas_happy.wav',\n",
       " '../tess\\\\YAF_fear\\\\YAF_long_fear.wav',\n",
       " '../tess\\\\OAF_Fear\\\\OAF_burn_fear.wav',\n",
       " '../tess\\\\OAF_Sad\\\\OAF_hurl_sad.wav',\n",
       " '../tess\\\\OAF_angry\\\\OAF_pain_angry.wav',\n",
       " '../tess\\\\OAF_Pleasant_surprise\\\\OAF_lot_ps.wav',\n",
       " '../tess\\\\OAF_Pleasant_surprise\\\\OAF_cheek_ps.wav',\n",
       " '../tess\\\\YAF_happy\\\\YAF_life_happy.wav',\n",
       " '../tess\\\\OAF_Pleasant_surprise\\\\OAF_pick_ps.wav',\n",
       " '../tess\\\\YAF_sad\\\\YAF_loaf_sad.wav',\n",
       " '../tess\\\\YAF_angry\\\\YAF_laud_angry.wav',\n",
       " '../tess\\\\YAF_fear\\\\YAF_mop_fear.wav',\n",
       " '../tess\\\\YAF_fear\\\\YAF_size_fear.wav',\n",
       " '../tess\\\\YAF_happy\\\\YAF_choice_happy.wav',\n",
       " '../tess\\\\YAF_fear\\\\YAF_mouse_fear.wav',\n",
       " '../tess\\\\OAF_Pleasant_surprise\\\\OAF_sub_ps.wav',\n",
       " '../tess\\\\YAF_happy\\\\YAF_half_happy.wav',\n",
       " '../tess\\\\OAF_happy\\\\OAF_far_happy.wav',\n",
       " '../tess\\\\OAF_Sad\\\\OAF_hash_sad.wav',\n",
       " '../tess\\\\YAF_angry\\\\YAF_wheat_angry.wav',\n",
       " '../tess\\\\YAF_sad\\\\YAF_third_sad.wav',\n",
       " '../tess\\\\OAF_angry\\\\OAF_make_angry.wav',\n",
       " '../tess\\\\YAF_disgust\\\\YAF_neat_disgust.wav',\n",
       " '../tess\\\\OAF_Sad\\\\OAF_dead_sad.wav',\n",
       " '../tess\\\\OAF_Pleasant_surprise\\\\OAF_yearn_ps.wav',\n",
       " '../tess\\\\YAF_angry\\\\YAF_sail_angry.wav',\n",
       " '../tess\\\\YAF_fear\\\\YAF_shawl_fear.wav',\n",
       " '../tess\\\\OAF_Fear\\\\OAF_fall_fear.wav',\n",
       " '../tess\\\\OAF_Fear\\\\OAF_death_fear.wav',\n",
       " '../tess\\\\OAF_Pleasant_surprise\\\\OAF_tip_ps.wav',\n",
       " '../tess\\\\YAF_angry\\\\YAF_sure_angry.wav',\n",
       " '../tess\\\\YAF_fear\\\\YAF_pole_fear.wav',\n",
       " '../tess\\\\YAF_angry\\\\YAF_numb_angry.wav',\n",
       " '../tess\\\\OAF_Sad\\\\OAF_lose_sad.wav',\n",
       " '../tess\\\\YAF_happy\\\\YAF_take_happy.wav',\n",
       " '../tess\\\\YAF_fear\\\\YAF_hate_fear.wav',\n",
       " '../tess\\\\YAF_sad\\\\YAF_bean_sad.wav',\n",
       " '../tess\\\\YAF_sad\\\\YAF_sour_sad.wav',\n",
       " '../tess\\\\OAF_Pleasant_surprise\\\\OAF_kill_ps.wav',\n",
       " '../tess\\\\OAF_angry\\\\OAF_life_angry.wav',\n",
       " '../tess\\\\YAF_sad\\\\YAF_ring_sad.wav',\n",
       " '../tess\\\\OAF_Pleasant_surprise\\\\OAF_bar_ps.wav',\n",
       " '../tess\\\\OAF_angry\\\\OAF_name_angry.wav',\n",
       " '../tess\\\\OAF_happy\\\\OAF_ripe_happy.wav',\n",
       " '../tess\\\\YAF_fear\\\\YAF_five_fear.wav',\n",
       " '../tess\\\\OAF_angry\\\\OAF_shout_angry.wav',\n",
       " '../tess\\\\YAF_disgust\\\\YAF_third_disgust.wav',\n",
       " '../tess\\\\OAF_angry\\\\OAF_sure_angry.wav',\n",
       " '../tess\\\\OAF_angry\\\\OAF_raise_angry.wav',\n",
       " '../tess\\\\YAF_pleasant_surprised\\\\YAF_mood_ps.wav',\n",
       " '../tess\\\\OAF_Pleasant_surprise\\\\OAF_luck_ps.wav',\n",
       " '../tess\\\\YAF_happy\\\\YAF_reach_happy.wav',\n",
       " '../tess\\\\OAF_Sad\\\\OAF_door_sad.wav',\n",
       " '../tess\\\\OAF_Pleasant_surprise\\\\OAF_long_ps.wav',\n",
       " '../tess\\\\YAF_pleasant_surprised\\\\YAF_knock_ps.wav',\n",
       " '../tess\\\\YAF_disgust\\\\YAF_calm_disgust.wav',\n",
       " '../tess\\\\YAF_pleasant_surprised\\\\YAF_match_ps.wav',\n",
       " '../tess\\\\YAF_angry\\\\YAF_pad_angry.wav',\n",
       " '../tess\\\\YAF_happy\\\\YAF_south_happy.wav',\n",
       " '../tess\\\\OAF_Sad\\\\OAF_room_sad.wav',\n",
       " '../tess\\\\OAF_Sad\\\\OAF_cause_sad.wav',\n",
       " '../tess\\\\YAF_pleasant_surprised\\\\YAF_nag_ps.wav',\n",
       " '../tess\\\\YAF_angry\\\\YAF_young_angry.wav',\n",
       " '../tess\\\\OAF_Sad\\\\OAF_boat_sad.wav',\n",
       " '../tess\\\\YAF_fear\\\\YAF_juice_fear.wav',\n",
       " '../tess\\\\YAF_sad\\\\YAF_laud_sad.wav',\n",
       " '../tess\\\\YAF_angry\\\\YAF_vine_angry.wav',\n",
       " '../tess\\\\OAF_angry\\\\OAF_gin_angry.wav',\n",
       " '../tess\\\\YAF_angry\\\\YAF_king_angry.wav',\n",
       " '../tess\\\\YAF_angry\\\\YAF_choice_angry.wav',\n",
       " '../tess\\\\OAF_angry\\\\OAF_bought_angry.wav',\n",
       " '../tess\\\\YAF_angry\\\\YAF_fit_angry.wav',\n",
       " '../tess\\\\OAF_disgust\\\\OAF_such_disgust.wav',\n",
       " '../tess\\\\YAF_disgust\\\\YAF_lot_disgust.wav',\n",
       " '../tess\\\\YAF_angry\\\\YAF_mood_angry.wav',\n",
       " '../tess\\\\YAF_sad\\\\YAF_reach_sad.wav',\n",
       " '../tess\\\\YAF_sad\\\\YAF_juice_sad.wav',\n",
       " '../tess\\\\YAF_disgust\\\\YAF_take_disgust.wav',\n",
       " '../tess\\\\YAF_happy\\\\YAF_base_happy.wav',\n",
       " '../tess\\\\YAF_angry\\\\YAF_mill_angry.wav',\n",
       " '../tess\\\\YAF_happy\\\\YAF_laud_happy.wav',\n",
       " '../tess\\\\OAF_angry\\\\OAF_cause_angry.wav',\n",
       " '../tess\\\\YAF_happy\\\\YAF_tell_happy.wav',\n",
       " '../tess\\\\YAF_fear\\\\YAF_dip_fear.wav',\n",
       " '../tess\\\\OAF_Sad\\\\OAF_seize_sad.wav',\n",
       " '../tess\\\\YAF_happy\\\\YAF_hit_happy.wav',\n",
       " '../tess\\\\OAF_Sad\\\\OAF_get_sad.wav',\n",
       " '../tess\\\\YAF_fear\\\\YAF_tell_fear.wav',\n",
       " '../tess\\\\YAF_pleasant_surprised\\\\YAF_vine_ps.wav',\n",
       " '../tess\\\\OAF_Sad\\\\OAF_book_sad.wav',\n",
       " '../tess\\\\YAF_angry\\\\YAF_lore_angry.wav',\n",
       " '../tess\\\\YAF_pleasant_surprised\\\\YAF_pass_ps.wav',\n",
       " '../tess\\\\YAF_happy\\\\YAF_back_happy.wav',\n",
       " '../tess\\\\YAF_happy\\\\YAF_soup_happy.wav',\n",
       " '../tess\\\\YAF_pleasant_surprised\\\\YAF_wire_ps.wav',\n",
       " '../tess\\\\YAF_pleasant_surprised\\\\YAF_bought_ps.wav',\n",
       " '../tess\\\\OAF_Fear\\\\OAF_whip_fear.wav',\n",
       " '../tess\\\\YAF_disgust\\\\YAF_mess_disgust.wav',\n",
       " '../tess\\\\OAF_Fear\\\\OAF_phone_fear.wav',\n",
       " '../tess\\\\OAF_Pleasant_surprise\\\\OAF_check_ps.wav',\n",
       " '../tess\\\\OAF_happy\\\\OAF_long_happy.wav',\n",
       " '../tess\\\\OAF_disgust\\\\OAF_talk_disgust.wav',\n",
       " '../tess\\\\YAF_happy\\\\YAF_shout_happy.wav',\n",
       " '../tess\\\\OAF_Fear\\\\OAF_goal_fear.wav',\n",
       " '../tess\\\\YAF_pleasant_surprised\\\\YAF_jail_ps.wav',\n",
       " '../tess\\\\OAF_Sad\\\\OAF_gap_sad.wav',\n",
       " '../tess\\\\OAF_disgust\\\\OAF_hush_disgust.wav',\n",
       " '../tess\\\\YAF_sad\\\\YAF_soap_sad.wav',\n",
       " '../tess\\\\YAF_fear\\\\YAF_lean_fear.wav',\n",
       " '../tess\\\\OAF_Sad\\\\OAF_king_sad.wav',\n",
       " '../tess\\\\YAF_sad\\\\YAF_fail_sad.wav',\n",
       " '../tess\\\\OAF_happy\\\\OAF_good_happy.wav',\n",
       " '../tess\\\\OAF_Fear\\\\OAF_dodge_fear.wav',\n",
       " '../tess\\\\YAF_disgust\\\\YAF_choice_disgust.wav',\n",
       " '../tess\\\\OAF_Pleasant_surprise\\\\OAF_mouse_ps.wav',\n",
       " '../tess\\\\OAF_angry\\\\OAF_mob_angry.wav',\n",
       " '../tess\\\\YAF_fear\\\\YAF_thin_fear.wav',\n",
       " '../tess\\\\YAF_happy\\\\YAF_bar_happy.wav',\n",
       " '../tess\\\\OAF_disgust\\\\OAF_young_disgust.wav',\n",
       " '../tess\\\\YAF_angry\\\\YAF_read_angry.wav',\n",
       " '../tess\\\\OAF_Pleasant_surprise\\\\OAF_hit_ps.wav',\n",
       " '../tess\\\\YAF_angry\\\\YAF_dip_angry.wav',\n",
       " '../tess\\\\YAF_sad\\\\YAF_take_sad.wav',\n",
       " '../tess\\\\OAF_happy\\\\OAF_yearn_happy.wav',\n",
       " '../tess\\\\OAF_disgust\\\\OAF_wheat_disgust.wav',\n",
       " '../tess\\\\YAF_angry\\\\YAF_vote_angry.wav',\n",
       " '../tess\\\\OAF_angry\\\\OAF_tire_angry.wav',\n",
       " '../tess\\\\YAF_angry\\\\YAF_chair_angry.wav',\n",
       " '../tess\\\\YAF_pleasant_surprised\\\\YAF_ton_ps.wav',\n",
       " '../tess\\\\YAF_sad\\\\YAF_home_sad.wav',\n",
       " '../tess\\\\OAF_Pleasant_surprise\\\\OAF_reach_ps.wav',\n",
       " '../tess\\\\OAF_Sad\\\\OAF_good_sad.wav',\n",
       " '../tess\\\\OAF_happy\\\\OAF_rose_happy.wav',\n",
       " '../tess\\\\OAF_Sad\\\\OAF_juice_sad.wav',\n",
       " '../tess\\\\OAF_Sad\\\\OAF_lean_sad.wav',\n",
       " '../tess\\\\YAF_happy\\\\YAF_rose_happy.wav',\n",
       " '../tess\\\\OAF_happy\\\\OAF_vine_happy.wav',\n",
       " '../tess\\\\OAF_Fear\\\\OAF_shall_fear.wav',\n",
       " '../tess\\\\YAF_happy\\\\YAF_peg_happy.wav',\n",
       " '../tess\\\\OAF_Pleasant_surprise\\\\OAF_gap_ps.wav',\n",
       " '../tess\\\\OAF_disgust\\\\OAF_loaf_disgust.wav',\n",
       " '../tess\\\\YAF_disgust\\\\YAF_week_disgust.wav',\n",
       " '../tess\\\\OAF_disgust\\\\OAF_vine_disgust.wav',\n",
       " '../tess\\\\OAF_angry\\\\OAF_thumb_angry.wav',\n",
       " '../tess\\\\OAF_Sad\\\\OAF_white_sad.wav',\n",
       " '../tess\\\\YAF_sad\\\\YAF_have_sad.wav',\n",
       " '../tess\\\\OAF_Sad\\\\OAF_voice_sad.wav',\n",
       " '../tess\\\\OAF_Sad\\\\OAF_gas_sad.wav',\n",
       " '../tess\\\\OAF_Sad\\\\OAF_love_sad.wav',\n",
       " '../tess\\\\YAF_sad\\\\YAF_red_sad.wav',\n",
       " '../tess\\\\YAF_pleasant_surprised\\\\YAF_near_ps.wav',\n",
       " '../tess\\\\YAF_angry\\\\YAF_moon_angry.wav',\n",
       " '../tess\\\\YAF_angry\\\\YAF_dime_angry.wav',\n",
       " '../tess\\\\YAF_disgust\\\\YAF_tell_disgust.wav',\n",
       " '../tess\\\\OAF_Fear\\\\OAF_hole_fear.wav',\n",
       " '../tess\\\\OAF_angry\\\\OAF_hush_angry.wav',\n",
       " '../tess\\\\YAF_sad\\\\YAF_mess_sad.wav',\n",
       " '../tess\\\\OAF_angry\\\\OAF_white_angry.wav',\n",
       " '../tess\\\\OAF_Pleasant_surprise\\\\OAF_juice_ps.wav',\n",
       " '../tess\\\\YAF_pleasant_surprised\\\\YAF_page_ps.wav',\n",
       " '../tess\\\\OAF_happy\\\\OAF_shack_happy.wav',\n",
       " '../tess\\\\OAF_Pleasant_surprise\\\\OAF_hall_ps.wav',\n",
       " '../tess\\\\OAF_Fear\\\\OAF_rush_fear.wav',\n",
       " '../tess\\\\YAF_pleasant_surprised\\\\YAF_soap_ps.wav',\n",
       " '../tess\\\\OAF_happy\\\\OAF_read_happy.wav',\n",
       " '../tess\\\\OAF_Pleasant_surprise\\\\OAF_love_ps.wav',\n",
       " '../tess\\\\YAF_fear\\\\YAF_soup_fear.wav',\n",
       " '../tess\\\\YAF_sad\\\\YAF_deep_sad.wav',\n",
       " '../tess\\\\YAF_disgust\\\\YAF_wife_disgust.wav',\n",
       " '../tess\\\\YAF_fear\\\\YAF_gin_fear.wav',\n",
       " '../tess\\\\OAF_disgust\\\\OAF_dime_disgust.wav',\n",
       " '../tess\\\\OAF_Sad\\\\OAF_bath_sad.wav',\n",
       " '../tess\\\\OAF_Pleasant_surprise\\\\OAF_cab_ps.wav',\n",
       " '../tess\\\\OAF_happy\\\\OAF_keg_happy.wav',\n",
       " '../tess\\\\YAF_fear\\\\YAF_bite_fear.wav',\n",
       " '../tess\\\\YAF_fear\\\\YAF_should_fear.wav',\n",
       " '../tess\\\\YAF_happy\\\\YAF_vine_happy.wav',\n",
       " '../tess\\\\YAF_disgust\\\\YAF_lore_disgust.wav',\n",
       " '../tess\\\\YAF_pleasant_surprised\\\\YAF_chair_ps.wav',\n",
       " '../tess\\\\YAF_fear\\\\YAF_tough_fear.wav',\n",
       " '../tess\\\\YAF_fear\\\\YAF_bought_fear.wav',\n",
       " '../tess\\\\OAF_Fear\\\\OAF_laud_fear.wav',\n",
       " '../tess\\\\YAF_sad\\\\YAF_tire_sad.wav',\n",
       " '../tess\\\\OAF_Fear\\\\OAF_late_fear.wav',\n",
       " '../tess\\\\YAF_pleasant_surprised\\\\YAF_red_ps.wav',\n",
       " '../tess\\\\YAF_disgust\\\\YAF_king_disgust.wav',\n",
       " '../tess\\\\YAF_disgust\\\\YAF_chat_disgust.wav',\n",
       " '../tess\\\\YAF_sad\\\\YAF_goose_sad.wav',\n",
       " '../tess\\\\YAF_disgust\\\\YAF_talk_disgust.wav',\n",
       " '../tess\\\\OAF_Pleasant_surprise\\\\OAF_sail_ps.wav',\n",
       " '../tess\\\\YAF_fear\\\\YAF_tire_fear.wav',\n",
       " '../tess\\\\OAF_Sad\\\\OAF_mess_sad.wav',\n",
       " '../tess\\\\YAF_happy\\\\YAF_shirt_happy.wav',\n",
       " '../tess\\\\YAF_fear\\\\YAF_wash_fear.wav',\n",
       " '../tess\\\\OAF_angry\\\\OAF_shawl_angry.wav',\n",
       " '../tess\\\\YAF_sad\\\\YAF_mop_sad.wav',\n",
       " '../tess\\\\YAF_disgust\\\\YAF_mode_disgust.wav',\n",
       " '../tess\\\\YAF_disgust\\\\YAF_burn_disgust.wav',\n",
       " '../tess\\\\YAF_sad\\\\YAF_cheek_sad.wav',\n",
       " '../tess\\\\OAF_happy\\\\OAF_tool_happy.wav',\n",
       " '../tess\\\\OAF_disgust\\\\OAF_ring_disgust.wav',\n",
       " '../tess\\\\YAF_pleasant_surprised\\\\YAF_haze_ps.wav',\n",
       " '../tess\\\\YAF_disgust\\\\YAF_raise_disgust.wav',\n",
       " '../tess\\\\OAF_disgust\\\\OAF_thumb_disgust.wav',\n",
       " '../tess\\\\OAF_Fear\\\\OAF_white_fear.wav',\n",
       " '../tess\\\\YAF_happy\\\\YAF_mood_happy.wav',\n",
       " '../tess\\\\YAF_pleasant_surprised\\\\YAF_gap_ps.wav',\n",
       " '../tess\\\\OAF_angry\\\\OAF_search_angry.wav',\n",
       " '../tess\\\\OAF_Sad\\\\OAF_wire_sad.wav',\n",
       " '../tess\\\\OAF_angry\\\\OAF_limb_angry.wav',\n",
       " '../tess\\\\YAF_sad\\\\YAF_mill_sad.wav',\n",
       " '../tess\\\\YAF_pleasant_surprised\\\\YAF_week_ps.wav',\n",
       " '../tess\\\\YAF_disgust\\\\YAF_bean_disgust.wav',\n",
       " '../tess\\\\OAF_Fear\\\\OAF_void_fear.wav',\n",
       " '../tess\\\\OAF_angry\\\\OAF_lean_angry.wav',\n",
       " '../tess\\\\OAF_angry\\\\OAF_check_angry.wav',\n",
       " '../tess\\\\YAF_happy\\\\YAF_cheek_happy.wav',\n",
       " '../tess\\\\OAF_disgust\\\\OAF_ton_disgust.wav',\n",
       " '../tess\\\\YAF_happy\\\\YAF_whip_happy.wav',\n",
       " '../tess\\\\YAF_angry\\\\YAF_tip_angry.wav',\n",
       " '../tess\\\\YAF_sad\\\\YAF_size_sad.wav',\n",
       " '../tess\\\\OAF_happy\\\\OAF_match_happy.wav',\n",
       " '../tess\\\\YAF_pleasant_surprised\\\\YAF_bath_ps.wav',\n",
       " '../tess\\\\YAF_fear\\\\YAF_far_fear.wav',\n",
       " '../tess\\\\YAF_angry\\\\YAF_book_angry.wav',\n",
       " '../tess\\\\YAF_sad\\\\YAF_gun_sad.wav',\n",
       " '../tess\\\\OAF_Pleasant_surprise\\\\OAF_base_ps.wav',\n",
       " '../tess\\\\YAF_pleasant_surprised\\\\YAF_bone_ps.wav',\n",
       " '../tess\\\\OAF_Fear\\\\OAF_mill_fear.wav',\n",
       " '../tess\\\\OAF_Pleasant_surprise\\\\OAF_tool_ps.wav',\n",
       " '../tess\\\\OAF_Pleasant_surprise\\\\OAF_ditch_ps.wav',\n",
       " '../tess\\\\OAF_disgust\\\\OAF_jail_disgust.wav',\n",
       " '../tess\\\\OAF_angry\\\\OAF_goal_angry.wav',\n",
       " '../tess\\\\YAF_disgust\\\\YAF_rat_disgust.wav',\n",
       " '../tess\\\\YAF_angry\\\\YAF_life_angry.wav',\n",
       " '../tess\\\\YAF_happy\\\\YAF_gin_happy.wav',\n",
       " '../tess\\\\OAF_angry\\\\OAF_cool_angry.wav',\n",
       " '../tess\\\\YAF_disgust\\\\YAF_thumb_disgust.wav',\n",
       " '../tess\\\\YAF_fear\\\\YAF_read_fear.wav',\n",
       " '../tess\\\\YAF_angry\\\\YAF_keen_angry.wav',\n",
       " '../tess\\\\OAF_disgust\\\\OAF_keg_disgust.wav',\n",
       " '../tess\\\\OAF_Pleasant_surprise\\\\OAF_youth_ps.wav',\n",
       " '../tess\\\\OAF_angry\\\\OAF_gas_angry.wav',\n",
       " '../tess\\\\OAF_Pleasant_surprise\\\\OAF_south_ps.wav',\n",
       " '../tess\\\\OAF_Pleasant_surprise\\\\OAF_germ_ps.wav',\n",
       " '../tess\\\\OAF_happy\\\\OAF_base_happy.wav',\n",
       " '../tess\\\\OAF_happy\\\\OAF_doll_happy.wav',\n",
       " '../tess\\\\OAF_Pleasant_surprise\\\\OAF_take_ps.wav',\n",
       " '../tess\\\\OAF_Fear\\\\OAF_hit_fear.wav',\n",
       " '../tess\\\\YAF_pleasant_surprised\\\\YAF_thumb_ps.wav',\n",
       " '../tess\\\\OAF_Fear\\\\OAF_choice_fear.wav',\n",
       " '../tess\\\\YAF_disgust\\\\YAF_ton_disgust.wav',\n",
       " '../tess\\\\OAF_Fear\\\\OAF_cool_fear.wav',\n",
       " '../tess\\\\OAF_disgust\\\\OAF_page_disgust.wav',\n",
       " '../tess\\\\OAF_Pleasant_surprise\\\\OAF_vote_ps.wav',\n",
       " '../tess\\\\OAF_angry\\\\OAF_reach_angry.wav',\n",
       " '../tess\\\\OAF_Fear\\\\OAF_life_fear.wav',\n",
       " '../tess\\\\OAF_Pleasant_surprise\\\\OAF_nag_ps.wav',\n",
       " '../tess\\\\YAF_happy\\\\YAF_nag_happy.wav',\n",
       " '../tess\\\\YAF_angry\\\\YAF_mode_angry.wav',\n",
       " '../tess\\\\YAF_pleasant_surprised\\\\YAF_germ_ps.wav',\n",
       " '../tess\\\\YAF_sad\\\\YAF_date_sad.wav',\n",
       " '../tess\\\\YAF_angry\\\\YAF_hole_angry.wav',\n",
       " '../tess\\\\OAF_Pleasant_surprise\\\\OAF_moon_ps.wav',\n",
       " '../tess\\\\YAF_disgust\\\\YAF_came_disgust.wav',\n",
       " '../tess\\\\OAF_Fear\\\\OAF_half_fear.wav',\n",
       " '../tess\\\\OAF_Sad\\\\OAF_pad_sad.wav',\n",
       " '../tess\\\\YAF_fear\\\\YAF_loaf_fear.wav',\n",
       " '../tess\\\\YAF_pleasant_surprised\\\\YAF_cheek_ps.wav',\n",
       " '../tess\\\\YAF_angry\\\\YAF_gaze_angry.wav',\n",
       " '../tess\\\\YAF_angry\\\\YAF_chief_angry.wav',\n",
       " '../tess\\\\OAF_Sad\\\\OAF_mob_sad.wav',\n",
       " '../tess\\\\OAF_happy\\\\OAF_chalk_happy.wav',\n",
       " '../tess\\\\YAF_disgust\\\\YAF_goal_disgust.wav',\n",
       " '../tess\\\\OAF_Sad\\\\OAF_yes_sad.wav',\n",
       " '../tess\\\\YAF_fear\\\\YAF_note_fear.wav',\n",
       " '../tess\\\\OAF_disgust\\\\OAF_tape_disgust.wav',\n",
       " '../tess\\\\YAF_happy\\\\YAF_lid_happy.wav',\n",
       " '../tess\\\\YAF_pleasant_surprised\\\\YAF_void_ps.wav',\n",
       " '../tess\\\\YAF_happy\\\\YAF_hash_happy.wav',\n",
       " '../tess\\\\OAF_Sad\\\\OAF_bone_sad.wav',\n",
       " '../tess\\\\OAF_Sad\\\\OAF_lore_sad.wav',\n",
       " '../tess\\\\OAF_disgust\\\\OAF_time_disgust.wav',\n",
       " '../tess\\\\YAF_sad\\\\YAF_hall_sad.wav',\n",
       " '../tess\\\\YAF_disgust\\\\YAF_sheep_disgust.wav',\n",
       " '../tess\\\\YAF_pleasant_surprised\\\\YAF_should_ps.wav',\n",
       " '../tess\\\\OAF_Sad\\\\OAF_jail_sad.wav',\n",
       " '../tess\\\\YAF_sad\\\\YAF_shack_sad.wav',\n",
       " '../tess\\\\OAF_angry\\\\OAF_book_angry.wav',\n",
       " '../tess\\\\OAF_Pleasant_surprise\\\\OAF_fall_ps.wav',\n",
       " '../tess\\\\OAF_disgust\\\\OAF_rose_disgust.wav',\n",
       " '../tess\\\\OAF_disgust\\\\OAF_reach_disgust.wav',\n",
       " '../tess\\\\OAF_angry\\\\OAF_rose_angry.wav',\n",
       " '../tess\\\\OAF_Sad\\\\OAF_name_sad.wav',\n",
       " '../tess\\\\OAF_happy\\\\OAF_mouse_happy.wav',\n",
       " '../tess\\\\YAF_fear\\\\YAF_week_fear.wav',\n",
       " '../tess\\\\OAF_happy\\\\OAF_limb_happy.wav',\n",
       " '../tess\\\\YAF_angry\\\\YAF_witch_angry.wav',\n",
       " '../tess\\\\OAF_angry\\\\OAF_germ_angry.wav',\n",
       " '../tess\\\\OAF_Sad\\\\OAF_limb_sad.wav',\n",
       " '../tess\\\\OAF_Sad\\\\OAF_have_sad.wav',\n",
       " '../tess\\\\YAF_fear\\\\YAF_cool_fear.wav',\n",
       " '../tess\\\\OAF_Sad\\\\OAF_calm_sad.wav',\n",
       " '../tess\\\\YAF_angry\\\\YAF_jug_angry.wav',\n",
       " '../tess\\\\OAF_happy\\\\OAF_pearl_happy.wav',\n",
       " '../tess\\\\YAF_fear\\\\YAF_sheep_fear.wav',\n",
       " '../tess\\\\YAF_sad\\\\YAF_rough_sad.wav',\n",
       " '../tess\\\\OAF_angry\\\\OAF_tough_angry.wav',\n",
       " '../tess\\\\YAF_pleasant_surprised\\\\YAF_chain_ps.wav',\n",
       " '../tess\\\\YAF_pleasant_surprised\\\\YAF_sub_ps.wav',\n",
       " '../tess\\\\YAF_angry\\\\YAF_pole_angry.wav',\n",
       " '../tess\\\\OAF_Fear\\\\OAF_tire_fear.wav',\n",
       " '../tess\\\\OAF_angry\\\\OAF_bath_angry.wav',\n",
       " '../tess\\\\OAF_disgust\\\\OAF_kick_disgust.wav',\n",
       " '../tess\\\\YAF_angry\\\\YAF_door_angry.wav',\n",
       " '../tess\\\\OAF_Pleasant_surprise\\\\OAF_said_ps.wav',\n",
       " '../tess\\\\YAF_angry\\\\YAF_should_angry.wav',\n",
       " '../tess\\\\YAF_angry\\\\YAF_mop_angry.wav',\n",
       " '../tess\\\\OAF_Pleasant_surprise\\\\OAF_chain_ps.wav',\n",
       " '../tess\\\\YAF_sad\\\\YAF_ripe_sad.wav',\n",
       " '../tess\\\\YAF_happy\\\\YAF_ton_happy.wav',\n",
       " '../tess\\\\OAF_Sad\\\\OAF_page_sad.wav',\n",
       " '../tess\\\\OAF_disgust\\\\OAF_bar_disgust.wav',\n",
       " '../tess\\\\OAF_happy\\\\OAF_bar_happy.wav',\n",
       " '../tess\\\\OAF_angry\\\\OAF_nag_angry.wav',\n",
       " '../tess\\\\YAF_fear\\\\YAF_take_fear.wav',\n",
       " '../tess\\\\YAF_sad\\\\YAF_pad_sad.wav',\n",
       " '../tess\\\\YAF_fear\\\\YAF_sure_fear.wav',\n",
       " '../tess\\\\YAF_disgust\\\\YAF_kick_disgust.wav',\n",
       " '../tess\\\\OAF_Fear\\\\OAF_judge_fear.wav',\n",
       " '../tess\\\\OAF_happy\\\\OAF_lose_happy.wav',\n",
       " '../tess\\\\OAF_Fear\\\\OAF_rag_fear.wav',\n",
       " '../tess\\\\YAF_pleasant_surprised\\\\YAF_lore_ps.wav',\n",
       " '../tess\\\\OAF_angry\\\\OAF_raid_angry.wav',\n",
       " '../tess\\\\OAF_angry\\\\OAF_fat_angry.wav',\n",
       " '../tess\\\\YAF_pleasant_surprised\\\\YAF_date_ps.wav',\n",
       " '../tess\\\\YAF_pleasant_surprised\\\\YAF_walk_ps.wav',\n",
       " '../tess\\\\YAF_pleasant_surprised\\\\YAF_talk_ps.wav',\n",
       " '../tess\\\\OAF_Pleasant_surprise\\\\OAF_fat_ps.wav',\n",
       " '../tess\\\\OAF_Pleasant_surprise\\\\OAF_dodge_ps.wav',\n",
       " '../tess\\\\OAF_angry\\\\OAF_sail_angry.wav',\n",
       " '../tess\\\\OAF_disgust\\\\OAF_chat_disgust.wav',\n",
       " '../tess\\\\YAF_disgust\\\\YAF_chief_disgust.wav',\n",
       " '../tess\\\\YAF_pleasant_surprised\\\\YAF_yearn_ps.wav',\n",
       " '../tess\\\\YAF_disgust\\\\YAF_room_disgust.wav',\n",
       " '../tess\\\\YAF_fear\\\\YAF_mill_fear.wav',\n",
       " '../tess\\\\YAF_pleasant_surprised\\\\YAF_ditch_ps.wav',\n",
       " '../tess\\\\OAF_disgust\\\\OAF_lose_disgust.wav',\n",
       " '../tess\\\\OAF_angry\\\\OAF_ring_angry.wav',\n",
       " '../tess\\\\OAF_disgust\\\\OAF_hit_disgust.wav',\n",
       " '../tess\\\\OAF_Fear\\\\OAF_near_fear.wav',\n",
       " '../tess\\\\OAF_disgust\\\\OAF_rain_disgust.wav',\n",
       " '../tess\\\\OAF_Fear\\\\OAF_neat_fear.wav',\n",
       " '../tess\\\\YAF_pleasant_surprised\\\\YAF_kite_ps.wav',\n",
       " '../tess\\\\OAF_Pleasant_surprise\\\\OAF_shall_ps.wav',\n",
       " '../tess\\\\YAF_fear\\\\YAF_goal_fear.wav',\n",
       " '../tess\\\\YAF_angry\\\\YAF_third_angry.wav',\n",
       " '../tess\\\\YAF_disgust\\\\YAF_ditch_disgust.wav',\n",
       " '../tess\\\\OAF_Fear\\\\OAF_youth_fear.wav',\n",
       " '../tess\\\\YAF_disgust\\\\YAF_kite_disgust.wav',\n",
       " '../tess\\\\OAF_Pleasant_surprise\\\\OAF_chalk_ps.wav',\n",
       " '../tess\\\\YAF_angry\\\\YAF_rough_angry.wav',\n",
       " '../tess\\\\OAF_angry\\\\OAF_hate_angry.wav',\n",
       " '../tess\\\\OAF_angry\\\\OAF_pick_angry.wav',\n",
       " '../tess\\\\OAF_disgust\\\\OAF_hall_disgust.wav',\n",
       " '../tess\\\\OAF_disgust\\\\OAF_voice_disgust.wav',\n",
       " '../tess\\\\OAF_disgust\\\\OAF_sheep_disgust.wav',\n",
       " '../tess\\\\OAF_disgust\\\\OAF_gap_disgust.wav',\n",
       " '../tess\\\\OAF_Pleasant_surprise\\\\OAF_kick_ps.wav',\n",
       " '../tess\\\\OAF_Fear\\\\OAF_walk_fear.wav',\n",
       " '../tess\\\\OAF_Fear\\\\OAF_wife_fear.wav',\n",
       " '../tess\\\\OAF_disgust\\\\OAF_moon_disgust.wav',\n",
       " '../tess\\\\YAF_fear\\\\YAF_half_fear.wav',\n",
       " '../tess\\\\OAF_Pleasant_surprise\\\\OAF_jail_ps.wav',\n",
       " '../tess\\\\OAF_happy\\\\OAF_five_happy.wav',\n",
       " '../tess\\\\OAF_happy\\\\OAF_wag_happy.wav',\n",
       " '../tess\\\\YAF_angry\\\\YAF_size_angry.wav',\n",
       " '../tess\\\\OAF_happy\\\\OAF_dead_happy.wav',\n",
       " '../tess\\\\OAF_disgust\\\\OAF_shall_disgust.wav',\n",
       " '../tess\\\\OAF_Pleasant_surprise\\\\OAF_gin_ps.wav',\n",
       " '../tess\\\\YAF_fear\\\\YAF_beg_fear.wav',\n",
       " '../tess\\\\OAF_happy\\\\OAF_thumb_happy.wav',\n",
       " '../tess\\\\YAF_sad\\\\YAF_pike_sad.wav',\n",
       " '../tess\\\\YAF_disgust\\\\YAF_gas_disgust.wav',\n",
       " '../tess\\\\OAF_happy\\\\OAF_nice_happy.wav',\n",
       " '../tess\\\\OAF_Sad\\\\OAF_death_sad.wav',\n",
       " '../tess\\\\OAF_Fear\\\\OAF_peg_fear.wav',\n",
       " '../tess\\\\OAF_Pleasant_surprise\\\\OAF_whip_ps.wav',\n",
       " '../tess\\\\OAF_Fear\\\\OAF_mode_fear.wav',\n",
       " '../tess\\\\OAF_disgust\\\\OAF_bought_disgust.wav',\n",
       " '../tess\\\\OAF_happy\\\\OAF_thin_happy.wav',\n",
       " '../tess\\\\OAF_happy\\\\OAF_pick_happy.wav',\n",
       " '../tess\\\\OAF_happy\\\\OAF_sub_happy.wav',\n",
       " '../tess\\\\OAF_Pleasant_surprise\\\\OAF_match_ps.wav',\n",
       " '../tess\\\\OAF_Sad\\\\OAF_gin_sad.wav',\n",
       " '../tess\\\\OAF_disgust\\\\OAF_sub_disgust.wav',\n",
       " '../tess\\\\YAF_fear\\\\YAF_limb_fear.wav',\n",
       " '../tess\\\\YAF_sad\\\\YAF_phone_sad.wav',\n",
       " '../tess\\\\YAF_disgust\\\\YAF_gaze_disgust.wav',\n",
       " '../tess\\\\OAF_angry\\\\OAF_beg_angry.wav',\n",
       " '../tess\\\\OAF_Sad\\\\OAF_bar_sad.wav',\n",
       " '../tess\\\\YAF_angry\\\\YAF_ring_angry.wav',\n",
       " '../tess\\\\YAF_sad\\\\YAF_thin_sad.wav',\n",
       " '../tess\\\\YAF_angry\\\\YAF_beg_angry.wav',\n",
       " '../tess\\\\YAF_angry\\\\YAF_time_angry.wav',\n",
       " '../tess\\\\YAF_pleasant_surprised\\\\YAF_came_ps.wav',\n",
       " '../tess\\\\OAF_angry\\\\OAF_jail_angry.wav',\n",
       " '../tess\\\\YAF_pleasant_surprised\\\\YAF_rose_ps.wav',\n",
       " '../tess\\\\YAF_sad\\\\YAF_cab_sad.wav',\n",
       " '../tess\\\\OAF_Sad\\\\OAF_dog_sad.wav',\n",
       " '../tess\\\\YAF_sad\\\\YAF_dip_sad.wav',\n",
       " '../tess\\\\OAF_disgust\\\\OAF_take_disgust.wav',\n",
       " '../tess\\\\OAF_Fear\\\\OAF_sail_fear.wav',\n",
       " '../tess\\\\OAF_Pleasant_surprise\\\\OAF_wire_ps.wav',\n",
       " '../tess\\\\OAF_disgust\\\\OAF_neat_disgust.wav',\n",
       " '../tess\\\\OAF_Pleasant_surprise\\\\OAF_time_ps.wav',\n",
       " '../tess\\\\OAF_angry\\\\OAF_juice_angry.wav',\n",
       " '../tess\\\\YAF_angry\\\\YAF_walk_angry.wav',\n",
       " '../tess\\\\YAF_pleasant_surprised\\\\YAF_youth_ps.wav',\n",
       " '../tess\\\\OAF_Pleasant_surprise\\\\OAF_jug_ps.wav',\n",
       " '../tess\\\\YAF_fear\\\\YAF_south_fear.wav',\n",
       " '../tess\\\\OAF_disgust\\\\OAF_death_disgust.wav',\n",
       " '../tess\\\\OAF_Sad\\\\OAF_wag_sad.wav',\n",
       " '../tess\\\\YAF_disgust\\\\YAF_chair_disgust.wav',\n",
       " ...]"
      ]
     },
     "execution_count": 36,
     "metadata": {},
     "output_type": "execute_result"
    }
   ],
   "source": [
    "train_dataset['path']"
   ]
  },
  {
   "cell_type": "code",
   "execution_count": 37,
   "metadata": {
    "id": "eu1qcRucHk6d",
    "pycharm": {
     "name": "#%%\n"
    }
   },
   "outputs": [],
   "source": [
    "# idx = 0\n",
    "# print(f\"Training input_values: {train_dataset[idx]['input_values']}\")\n",
    "# print(f\"Training attention_mask: {train_dataset[idx]['attention_mask']}\")\n",
    "# print(f\"Training labels: {train_dataset[idx]['labels']} - {train_dataset[idx]['emotion']}\")"
   ]
  },
  {
   "cell_type": "markdown",
   "metadata": {
    "id": "HcrEgJO9Hmx7",
    "pycharm": {
     "name": "#%% md\n"
    }
   },
   "source": [
    "Great, now we've successfully read all the audio files, resampled the audio files to 16kHz, and mapped each audio to the corresponding label."
   ]
  },
  {
   "cell_type": "markdown",
   "metadata": {
    "id": "QL7q6DfcH0Fs",
    "pycharm": {
     "name": "#%% md\n"
    }
   },
   "source": [
    "## Model\n",
    "\n",
    "Before diving into the training part, we need to build our classification model based on the merge strategy."
   ]
  },
  {
   "cell_type": "code",
   "execution_count": 38,
   "metadata": {
    "pycharm": {
     "name": "#%%\n"
    }
   },
   "outputs": [],
   "source": [
    "import network_models.w2v_emotion_model.model as KNNModel"
   ]
  },
  {
   "cell_type": "markdown",
   "metadata": {
    "id": "OrBrR1b7zvUL",
    "pycharm": {
     "name": "#%% md\n"
    }
   },
   "source": [
    "## Training\n",
    "\n",
    "The data is processed so that we are ready to start setting up the training pipeline. We will make use of 🤗's [Trainer](https://huggingface.co/transformers/master/main_classes/trainer.html?highlight=trainer) for which we essentially need to do the following:\n",
    "\n",
    "- Define a data collator. In contrast to most NLP models, XLSR-Wav2Vec2 has a much larger input length than output length. *E.g.*, a sample of input length 50000 has an output length of no more than 100. Given the large input sizes, it is much more efficient to pad the training batches dynamically meaning that all training samples should only be padded to the longest sample in their batch and not the overall longest sample. Therefore, fine-tuning XLSR-Wav2Vec2 requires a special padding data collator, which we will define below\n",
    "\n",
    "- Evaluation metric. During training, the model should be evaluated on the word error rate. We should define a `compute_metrics` function accordingly\n",
    "\n",
    "- Load a pretrained checkpoint. We need to load a pretrained checkpoint and configure it correctly for training.\n",
    "\n",
    "- Define the training configuration.\n",
    "\n",
    "After having fine-tuned the model, we will correctly evaluate it on the test data and verify that it has indeed learned to correctly transcribe speech."
   ]
  },
  {
   "cell_type": "markdown",
   "metadata": {
    "id": "Ji9-n1eUIKZc",
    "pycharm": {
     "name": "#%% md\n"
    }
   },
   "source": [
    "### Set-up Trainer\n",
    "\n",
    "Let's start by defining the data collator. The code for the data collator was copied from [this example](https://github.com/huggingface/transformers/blob/9a06b6b11bdfc42eea08fa91d0c737d1863c99e3/examples/research_projects/wav2vec2/run_asr.py#L81).\n",
    "\n",
    "Without going into too many details, in contrast to the common data collators, this data collator treats the `input_values` and `labels` differently and thus applies to separate padding functions on them (again making use of XLSR-Wav2Vec2's context manager). This is necessary because in speech input and output are of different modalities meaning that they should not be treated by the same padding function.\n",
    "Analogous to the common data collators, the padding tokens in the labels with `-100` so that those tokens are **not** taken into account when computing the loss."
   ]
  },
  {
   "cell_type": "code",
   "execution_count": 39,
   "metadata": {
    "id": "rkM0VLIwy903",
    "pycharm": {
     "name": "#%%\n"
    }
   },
   "outputs": [],
   "source": [
    "import network_models.w2v_emotion_model.trainer as trainerUtils\n",
    "data_collator = trainerUtils.DataCollatorCTCWithPadding(processor=processor, padding=True)\n"
   ]
  },
  {
   "cell_type": "markdown",
   "metadata": {
    "id": "mYxy2IR-KcU2",
    "pycharm": {
     "name": "#%% md\n"
    }
   },
   "source": [
    "Next, the evaluation metric is defined. There are many pre-defined metrics for classification/regression problems, but in this case, we would continue with just **Accuracy** for classification and **MSE** for regression. You can define other metrics on your own."
   ]
  },
  {
   "cell_type": "code",
   "execution_count": 40,
   "metadata": {
    "id": "LL8I5MKvPnth",
    "pycharm": {
     "name": "#%%\n"
    }
   },
   "outputs": [],
   "source": [
    "is_regression = False"
   ]
  },
  {
   "cell_type": "code",
   "execution_count": 41,
   "metadata": {
    "id": "XK26Z6IfR36K",
    "pycharm": {
     "name": "#%%\n"
    }
   },
   "outputs": [],
   "source": [
    "import numpy as np\n",
    "from transformers import EvalPrediction\n",
    "\n",
    "\n",
    "def compute_metrics(p: EvalPrediction):\n",
    "    preds = p.predictions[0] if isinstance(p.predictions, tuple) else p.predictions\n",
    "    preds = np.squeeze(preds) if is_regression else np.argmax(preds, axis=1)\n",
    "\n",
    "    if is_regression:\n",
    "        return {\"mse\": ((preds - p.label_ids) ** 2).mean().item()}\n",
    "    else:\n",
    "        return {\"accuracy\": (preds == p.label_ids).astype(np.float32).mean().item()}"
   ]
  },
  {
   "cell_type": "markdown",
   "metadata": {
    "id": "ZsH_nKJdK28o",
    "pycharm": {
     "name": "#%% md\n"
    }
   },
   "source": [
    "Now, we can load the pretrained XLSR-Wav2Vec2 checkpoint into our classification model with a pooling strategy."
   ]
  },
  {
   "cell_type": "code",
   "execution_count": 42,
   "metadata": {
    "id": "0Tl6iKAUR4EL",
    "pycharm": {
     "name": "#%%\n"
    }
   },
   "outputs": [
    {
     "name": "stderr",
     "output_type": "stream",
     "text": [
      "loading weights file pytorch_model.bin from cache at content/cache\\models--jonatasgrosman--wav2vec2-large-xlsr-53-german\\snapshots\\934c45f3e6939b6b6d261b4c71ed2755810e7fe6\\pytorch_model.bin\n",
      "Some weights of the model checkpoint at jonatasgrosman/wav2vec2-large-xlsr-53-german were not used when initializing Wav2Vec2ForSpeechClassification: ['lm_head.bias', 'lm_head.weight']\n",
      "- This IS expected if you are initializing Wav2Vec2ForSpeechClassification from the checkpoint of a model trained on another task or with another architecture (e.g. initializing a BertForSequenceClassification model from a BertForPreTraining model).\n",
      "- This IS NOT expected if you are initializing Wav2Vec2ForSpeechClassification from the checkpoint of a model that you expect to be exactly identical (initializing a BertForSequenceClassification model from a BertForSequenceClassification model).\n",
      "Some weights of Wav2Vec2ForSpeechClassification were not initialized from the model checkpoint at jonatasgrosman/wav2vec2-large-xlsr-53-german and are newly initialized: ['classifier.dense.bias', 'classifier.out_proj.weight', 'classifier.out_proj.bias', 'classifier.dense.weight']\n",
      "You should probably TRAIN this model on a down-stream task to be able to use it for predictions and inference.\n"
     ]
    }
   ],
   "source": [
    "model = KNNModel.Wav2Vec2ForSpeechClassification.from_pretrained(\n",
    "    model_name_or_path,\n",
    "    config=config,\n",
    ")"
   ]
  },
  {
   "cell_type": "markdown",
   "metadata": {
    "id": "bqF4rNMzI1M5",
    "pycharm": {
     "name": "#%% md\n"
    }
   },
   "source": [
    "The first component of XLSR-Wav2Vec2 consists of a stack of CNN layers that are used to extract acoustically meaningful - but contextually independent - features from the raw speech signal. This part of the model has already been sufficiently trained during pretraining and as stated in the [paper](https://arxiv.org/pdf/2006.13979.pdf) does not need to be fine-tuned anymore. \n",
    "Thus, we can set the `requires_grad` to `False` for all parameters of the *feature extraction* part."
   ]
  },
  {
   "cell_type": "code",
   "execution_count": 43,
   "metadata": {
    "id": "KHMhxFGoR4Hb",
    "pycharm": {
     "name": "#%%\n"
    }
   },
   "outputs": [],
   "source": [
    "model.freeze_feature_extractor()"
   ]
  },
  {
   "cell_type": "markdown",
   "metadata": {
    "id": "n0HzBneBK84G",
    "pycharm": {
     "name": "#%% md\n"
    }
   },
   "source": [
    "In a final step, we define all parameters related to training. \n",
    "To give more explanation on some of the parameters:\n",
    "- `learning_rate` and `weight_decay` were heuristically tuned until fine-tuning has become stable. Note that those parameters strongly depend on the Common Voice dataset and might be suboptimal for other speech datasets.\n",
    "\n",
    "For more explanations on other parameters, one can take a look at the [docs](https://huggingface.co/transformers/master/main_classes/trainer.html?highlight=trainer#trainingarguments).\n",
    "\n",
    "**Note**: If one wants to save the trained models in his/her google drive the commented-out `output_dir` can be used instead."
   ]
  },
  {
   "cell_type": "markdown",
   "metadata": {
    "pycharm": {
     "name": "#%% md\n"
    }
   },
   "source": [
    "For future use we can create our training script, we do it in a simple way. You can add more on you own."
   ]
  },
  {
   "cell_type": "markdown",
   "metadata": {
    "pycharm": {
     "name": "#%% md\n"
    }
   },
   "source": [
    "Now, all instances can be passed to Trainer and we are ready to start training!"
   ]
  },
  {
   "cell_type": "code",
   "execution_count": 44,
   "metadata": {
    "id": "3tPqZ12BLCJk",
    "pycharm": {
     "name": "#%%\n"
    }
   },
   "outputs": [],
   "source": [
    "# from google.colab import drive\n",
    "\n",
    "# drive.mount('/gdrive')"
   ]
  },
  {
   "cell_type": "code",
   "execution_count": 45,
   "metadata": {
    "id": "vUtWjldAI9-H",
    "pycharm": {
     "name": "#%%\n"
    }
   },
   "outputs": [
    {
     "name": "stderr",
     "output_type": "stream",
     "text": [
      "PyTorch: setting up devices\n",
      "The default value for the training argument `--report_to` will change in v5 (from all installed integrations to none). In v5, you will need to use `--report_to all` to get the same behavior as now. You should start updating your code and make this info disappear :-).\n",
      "Using cuda_amp half precision backend\n"
     ]
    }
   ],
   "source": [
    "from transformers import TrainingArguments\n",
    "\n",
    "training_args = TrainingArguments(\n",
    "    output_dir=\"content/models\",\n",
    "    # output_dir=\"/content/gdrive/MyDrive/wav2vec2-xlsr-greek-speech-emotion-recognition\"\n",
    "    per_device_train_batch_size=3,\n",
    "    per_device_eval_batch_size=3,\n",
    "    gradient_accumulation_steps=2,\n",
    "    evaluation_strategy=\"steps\",\n",
    "    num_train_epochs=5.0,\n",
    "    fp16=True,\n",
    "    save_steps=10,\n",
    "    eval_steps=10,\n",
    "    logging_steps=10,\n",
    "    learning_rate=1e-4,\n",
    "    save_total_limit=2,\n",
    ")\n",
    "trainer = trainerUtils.CTCTrainer(\n",
    "    model=model,\n",
    "    data_collator=data_collator,\n",
    "    args=training_args,\n",
    "    compute_metrics=compute_metrics,\n",
    "    train_dataset=train_dataset,\n",
    "    eval_dataset=eval_dataset,\n",
    "    tokenizer=processor.feature_extractor,\n",
    ")"
   ]
  },
  {
   "cell_type": "markdown",
   "metadata": {
    "id": "0gGLwJAOLtDg",
    "pycharm": {
     "name": "#%% md\n"
    }
   },
   "source": [
    "### Training"
   ]
  },
  {
   "cell_type": "markdown",
   "metadata": {
    "id": "UpN6xlWCLxJ7",
    "pycharm": {
     "name": "#%% md\n"
    }
   },
   "source": [
    "Training will take between 10 and 60 minutes depending on the GPU allocated to this notebook. \n",
    "\n",
    "In case you want to use this google colab to fine-tune your model, you should make sure that your training doesn't stop due to inactivity. A simple hack to prevent this is to paste the following code into the console of this tab (right mouse click -> inspect -> Console tab and insert code)."
   ]
  },
  {
   "cell_type": "markdown",
   "metadata": {
    "id": "zyYZH7YZL8a9",
    "pycharm": {
     "name": "#%% md\n"
    }
   },
   "source": [
    "```javascript\n",
    "function ConnectButton(){\n",
    "    console.log(\"Connect pushed\"); \n",
    "    document.querySelector(\"#top-toolbar > colab-connect-button\").shadowRoot.querySelector(\"#connect\").click() \n",
    "}\n",
    "setInterval(ConnectButton,60000);\n",
    "```"
   ]
  },
  {
   "cell_type": "code",
   "execution_count": 46,
   "metadata": {
    "id": "6M8bNvLLJnG1",
    "pycharm": {
     "name": "#%%\n"
    }
   },
   "outputs": [
    {
     "name": "stderr",
     "output_type": "stream",
     "text": [
      "Loading model from content/models/checkpoint-610/.\n"
     ]
    }
   ],
   "source": [
    "import gc\n",
    "\n",
    "trainer._load_from_checkpoint(\"content/models/checkpoint-610/\")\n",
    "gc.collect()\n",
    "torch.cuda.empty_cache()\n",
    "#trainer.train()"
   ]
  },
  {
   "cell_type": "code",
   "execution_count": 47,
   "metadata": {
    "pycharm": {
     "name": "#%%\n"
    }
   },
   "outputs": [],
   "source": [
    "import torch\n",
    "#torch.cuda.memory_allocated()\n",
    "torch.cuda.empty_cache()"
   ]
  },
  {
   "cell_type": "code",
   "execution_count": 48,
   "metadata": {
    "pycharm": {
     "name": "#%%\n"
    }
   },
   "outputs": [
    {
     "name": "stderr",
     "output_type": "stream",
     "text": [
      "Saving model checkpoint to content/modelTess\n",
      "Configuration saved in content/modelTess\\config.json\n",
      "Model weights saved in content/modelTess\\pytorch_model.bin\n",
      "Feature extractor saved in content/modelTess\\preprocessor_config.json\n"
     ]
    }
   ],
   "source": [
    "trainer.save_model(output_dir='content/modelTess')"
   ]
  },
  {
   "cell_type": "markdown",
   "metadata": {
    "id": "3prIN9eiMBHo",
    "pycharm": {
     "name": "#%% md\n"
    }
   },
   "source": [
    "The training loss goes down and we can see that the Acurracy on the test set also improves nicely. Because this notebook is just for demonstration purposes, we can stop here.\n",
    "\n",
    "The resulting model of this notebook has been saved to [m3hrdadfi/wav2vec2-xlsr-greek-speech-emotion-recognition](https://huggingface.co/m3hrdadfi/wav2vec2-xlsr-greek-speech-emotion-recognition)\n",
    "\n",
    "As a final check, let's load the model and verify that it indeed has learned to recognize the emotion in the speech.\n",
    "\n",
    "Let's first load the pretrained checkpoint."
   ]
  },
  {
   "cell_type": "markdown",
   "metadata": {
    "id": "VsaOTx_FVm0i",
    "pycharm": {
     "name": "#%% md\n"
    }
   },
   "source": [
    "## Evaluation"
   ]
  },
  {
   "cell_type": "code",
   "execution_count": 49,
   "metadata": {
    "id": "4tGNY7hRXO44",
    "pycharm": {
     "name": "#%%\n"
    }
   },
   "outputs": [],
   "source": [
    "import librosa\n",
    "from sklearn.metrics import classification_report"
   ]
  },
  {
   "cell_type": "code",
   "execution_count": 50,
   "metadata": {
    "id": "IYxg1Tfo2VUw",
    "pycharm": {
     "name": "#%%\n"
    }
   },
   "outputs": [
    {
     "name": "stderr",
     "output_type": "stream",
     "text": [
      "Using custom data configuration default-dfa0b01c18f752b9\n"
     ]
    },
    {
     "name": "stdout",
     "output_type": "stream",
     "text": [
      "Downloading and preparing dataset csv/default to C:/Users/ckwda/Documents/Programming/python/masterarbeit_programming/notebooks/content/cache/csv/default-dfa0b01c18f752b9/0.0.0/6b34fb8fcf56f7c8ba51dc895bfa2bfbe43546f190a60fcf74bb5e8afdcc2317...\n"
     ]
    },
    {
     "data": {
      "application/vnd.jupyter.widget-view+json": {
       "model_id": "4f67c7298c5347a7b09a8026a3277ab5",
       "version_major": 2,
       "version_minor": 0
      },
      "text/plain": [
       "Downloading data files:   0%|          | 0/1 [00:00<?, ?it/s]"
      ]
     },
     "metadata": {},
     "output_type": "display_data"
    },
    {
     "data": {
      "application/vnd.jupyter.widget-view+json": {
       "model_id": "ad45af434aa243dfa0d5d5458d5cf419",
       "version_major": 2,
       "version_minor": 0
      },
      "text/plain": [
       "Extracting data files:   0%|          | 0/1 [00:00<?, ?it/s]"
      ]
     },
     "metadata": {},
     "output_type": "display_data"
    },
    {
     "data": {
      "application/vnd.jupyter.widget-view+json": {
       "model_id": "2b96da869263440bb071f1d9e9ac9e79",
       "version_major": 2,
       "version_minor": 0
      },
      "text/plain": [
       "Generating validation split: 0 examples [00:00, ? examples/s]"
      ]
     },
     "metadata": {},
     "output_type": "display_data"
    },
    {
     "name": "stdout",
     "output_type": "stream",
     "text": [
      "Dataset csv downloaded and prepared to C:/Users/ckwda/Documents/Programming/python/masterarbeit_programming/notebooks/content/cache/csv/default-dfa0b01c18f752b9/0.0.0/6b34fb8fcf56f7c8ba51dc895bfa2bfbe43546f190a60fcf74bb5e8afdcc2317. Subsequent calls will reuse this data.\n"
     ]
    },
    {
     "name": "stderr",
     "output_type": "stream",
     "text": [
      "C:\\Users\\ckwda\\AppData\\Local\\Programs\\Python\\Python310\\lib\\site-packages\\datasets\\download\\streaming_download_manager.py:714: FutureWarning: the 'mangle_dupe_cols' keyword is deprecated and will be removed in a future version. Please take steps to stop the use of 'mangle_dupe_cols'\n",
      "  return pd.read_csv(xopen(filepath_or_buffer, \"rb\", use_auth_token=use_auth_token), **kwargs)\n"
     ]
    },
    {
     "data": {
      "application/vnd.jupyter.widget-view+json": {
       "model_id": "f68ec4ccf66547b896a289e3b606f82b",
       "version_major": 2,
       "version_minor": 0
      },
      "text/plain": [
       "  0%|          | 0/1 [00:00<?, ?it/s]"
      ]
     },
     "metadata": {},
     "output_type": "display_data"
    },
    {
     "data": {
      "text/plain": [
       "Dataset({\n",
       "    features: ['path', 'emotion'],\n",
       "    num_rows: 480\n",
       "})"
      ]
     },
     "execution_count": 50,
     "metadata": {},
     "output_type": "execute_result"
    }
   ],
   "source": [
    "test_dataset = load_dataset(\"csv\", data_files={\"validation\": \"content/data/test.csv\"}, delimiter=\"\\t\")[\"validation\"]\n",
    "test_dataset"
   ]
  },
  {
   "cell_type": "code",
   "execution_count": 51,
   "metadata": {
    "id": "QgZFkMDHW_Um",
    "pycharm": {
     "name": "#%%\n"
    }
   },
   "outputs": [
    {
     "name": "stdout",
     "output_type": "stream",
     "text": [
      "Device: cuda\n"
     ]
    }
   ],
   "source": [
    "device = torch.device(\"cuda\" if torch.cuda.is_available() else \"cpu\")\n",
    "print(f\"Device: {device}\")"
   ]
  },
  {
   "cell_type": "code",
   "execution_count": 53,
   "metadata": {
    "id": "-ESFEXeaWgua",
    "pycharm": {
     "name": "#%%\n"
    }
   },
   "outputs": [
    {
     "name": "stderr",
     "output_type": "stream",
     "text": [
      "loading configuration file content/modelTess\\config.json\n",
      "Model config Wav2Vec2Config {\n",
      "  \"_name_or_path\": \"jonatasgrosman/wav2vec2-large-xlsr-53-german\",\n",
      "  \"activation_dropout\": 0.05,\n",
      "  \"adapter_kernel_size\": 3,\n",
      "  \"adapter_stride\": 2,\n",
      "  \"add_adapter\": false,\n",
      "  \"apply_spec_augment\": true,\n",
      "  \"architectures\": [\n",
      "    \"Wav2Vec2ForSpeechClassification\"\n",
      "  ],\n",
      "  \"attention_dropout\": 0.1,\n",
      "  \"bos_token_id\": 1,\n",
      "  \"classifier_proj_size\": 256,\n",
      "  \"codevector_dim\": 768,\n",
      "  \"contrastive_logits_temperature\": 0.1,\n",
      "  \"conv_bias\": true,\n",
      "  \"conv_dim\": [\n",
      "    512,\n",
      "    512,\n",
      "    512,\n",
      "    512,\n",
      "    512,\n",
      "    512,\n",
      "    512\n",
      "  ],\n",
      "  \"conv_kernel\": [\n",
      "    10,\n",
      "    3,\n",
      "    3,\n",
      "    3,\n",
      "    3,\n",
      "    2,\n",
      "    2\n",
      "  ],\n",
      "  \"conv_stride\": [\n",
      "    5,\n",
      "    2,\n",
      "    2,\n",
      "    2,\n",
      "    2,\n",
      "    2,\n",
      "    2\n",
      "  ],\n",
      "  \"ctc_loss_reduction\": \"mean\",\n",
      "  \"ctc_zero_infinity\": true,\n",
      "  \"diversity_loss_weight\": 0.1,\n",
      "  \"do_stable_layer_norm\": true,\n",
      "  \"eos_token_id\": 2,\n",
      "  \"feat_extract_activation\": \"gelu\",\n",
      "  \"feat_extract_dropout\": 0.0,\n",
      "  \"feat_extract_norm\": \"layer\",\n",
      "  \"feat_proj_dropout\": 0.05,\n",
      "  \"feat_quantizer_dropout\": 0.0,\n",
      "  \"final_dropout\": 0.0,\n",
      "  \"finetuning_task\": \"wav2vec2_clf\",\n",
      "  \"hidden_act\": \"gelu\",\n",
      "  \"hidden_dropout\": 0.05,\n",
      "  \"hidden_size\": 1024,\n",
      "  \"id2label\": {\n",
      "    \"0\": \"angry\",\n",
      "    \"1\": \"disgust\",\n",
      "    \"2\": \"fear\",\n",
      "    \"3\": \"happy\",\n",
      "    \"4\": \"ps\",\n",
      "    \"5\": \"sad\"\n",
      "  },\n",
      "  \"initializer_range\": 0.02,\n",
      "  \"intermediate_size\": 4096,\n",
      "  \"label2id\": {\n",
      "    \"angry\": 0,\n",
      "    \"disgust\": 1,\n",
      "    \"fear\": 2,\n",
      "    \"happy\": 3,\n",
      "    \"ps\": 4,\n",
      "    \"sad\": 5\n",
      "  },\n",
      "  \"layer_norm_eps\": 1e-05,\n",
      "  \"layerdrop\": 0.05,\n",
      "  \"mask_channel_length\": 10,\n",
      "  \"mask_channel_min_space\": 1,\n",
      "  \"mask_channel_other\": 0.0,\n",
      "  \"mask_channel_prob\": 0.0,\n",
      "  \"mask_channel_selection\": \"static\",\n",
      "  \"mask_feature_length\": 10,\n",
      "  \"mask_feature_min_masks\": 0,\n",
      "  \"mask_feature_prob\": 0.0,\n",
      "  \"mask_time_length\": 10,\n",
      "  \"mask_time_min_masks\": 2,\n",
      "  \"mask_time_min_space\": 1,\n",
      "  \"mask_time_other\": 0.0,\n",
      "  \"mask_time_prob\": 0.05,\n",
      "  \"mask_time_selection\": \"static\",\n",
      "  \"model_type\": \"wav2vec2\",\n",
      "  \"num_adapter_layers\": 3,\n",
      "  \"num_attention_heads\": 16,\n",
      "  \"num_codevector_groups\": 2,\n",
      "  \"num_codevectors_per_group\": 320,\n",
      "  \"num_conv_pos_embedding_groups\": 16,\n",
      "  \"num_conv_pos_embeddings\": 128,\n",
      "  \"num_feat_extract_layers\": 7,\n",
      "  \"num_hidden_layers\": 24,\n",
      "  \"num_negatives\": 100,\n",
      "  \"output_hidden_size\": 1024,\n",
      "  \"pad_token_id\": 0,\n",
      "  \"pooling_mode\": \"mean\",\n",
      "  \"proj_codevector_dim\": 768,\n",
      "  \"tdnn_dilation\": [\n",
      "    1,\n",
      "    2,\n",
      "    3,\n",
      "    1,\n",
      "    1\n",
      "  ],\n",
      "  \"tdnn_dim\": [\n",
      "    512,\n",
      "    512,\n",
      "    512,\n",
      "    512,\n",
      "    1500\n",
      "  ],\n",
      "  \"tdnn_kernel\": [\n",
      "    5,\n",
      "    3,\n",
      "    3,\n",
      "    1,\n",
      "    1\n",
      "  ],\n",
      "  \"torch_dtype\": \"float32\",\n",
      "  \"transformers_version\": \"4.25.1\",\n",
      "  \"use_weighted_layer_sum\": false,\n",
      "  \"vocab_size\": 38,\n",
      "  \"xvector_output_dim\": 512\n",
      "}\n",
      "\n",
      "loading weights file content/modelTess\\pytorch_model.bin\n",
      "All model checkpoint weights were used when initializing Wav2Vec2ForSpeechClassification.\n",
      "\n",
      "All the weights of Wav2Vec2ForSpeechClassification were initialized from the model checkpoint at content/modelTess.\n",
      "If your task is similar to the task the model of the checkpoint was trained on, you can already use Wav2Vec2ForSpeechClassification for predictions without further training.\n"
     ]
    }
   ],
   "source": [
    "model_name_or_path = \"content/modelTess\"\n",
    "#config = AutoConfig.from_pretrained(model_name_or_path)\n",
    "#processor = Wav2Vec2Processor.from_pretrained(model_name_or_path)\n",
    "model = KNNModel.Wav2Vec2ForSpeechClassification.from_pretrained(model_name_or_path).to(device)\n",
    "#model1 = torch.load(model_name_or_path)\n",
    "\n",
    "#model_name_or_path = \"jonatasgrosman/wav2vec2-large-xlsr-53-german\"\n",
    "#processor = Wav2Vec2Processor.from_pretrained(model_name_or_path, )"
   ]
  },
  {
   "cell_type": "code",
   "execution_count": 55,
   "metadata": {
    "id": "BkEd4w8IV7kZ",
    "pycharm": {
     "name": "#%%\n"
    }
   },
   "outputs": [],
   "source": [
    "def speech_file_to_array_fn(batch):\n",
    "    speech_array, sampling_rate = torchaudio.load(batch[\"path\"])\n",
    "    speech_array = speech_array.squeeze().numpy()\n",
    "    speech_array = librosa.resample(np.asarray(speech_array), sampling_rate, processor.feature_extractor.sampling_rate)\n",
    "\n",
    "    batch[\"speech\"] = speech_array\n",
    "    return batch\n",
    "\n",
    "\n",
    "def predict(batch):\n",
    "    features = processor(batch[\"speech\"], sampling_rate=processor.feature_extractor.sampling_rate, return_tensors=\"pt\", padding=True)\n",
    "\n",
    "    input_values = features.input_values.to(device)\n",
    "    attention_mask = features.attention_mask.to(device)\n",
    "\n",
    "    with torch.no_grad():\n",
    "        logits = model(input_values, attention_mask=attention_mask).logits \n",
    "\n",
    "    pred_ids = torch.argmax(logits, dim=-1).detach().cpu().numpy()\n",
    "    batch[\"predicted\"] = pred_ids\n",
    "    return batch"
   ]
  },
  {
   "cell_type": "code",
   "execution_count": 56,
   "metadata": {
    "id": "S4P6P6XwW85p",
    "pycharm": {
     "name": "#%%\n"
    }
   },
   "outputs": [
    {
     "data": {
      "application/vnd.jupyter.widget-view+json": {
       "model_id": "450aea27c40c4202970ceb192387d7ef",
       "version_major": 2,
       "version_minor": 0
      },
      "text/plain": [
       "  0%|          | 0/480 [00:00<?, ?ex/s]"
      ]
     },
     "metadata": {},
     "output_type": "display_data"
    },
    {
     "name": "stderr",
     "output_type": "stream",
     "text": [
      "C:\\Users\\ckwda\\AppData\\Local\\Temp\\ipykernel_10196\\2184849335.py:4: FutureWarning: Pass orig_sr=24414, target_sr=16000 as keyword args. From version 0.10 passing these as positional arguments will result in an error\n",
      "  speech_array = librosa.resample(np.asarray(speech_array), sampling_rate, processor.feature_extractor.sampling_rate)\n",
      "C:\\Users\\ckwda\\AppData\\Local\\Temp\\ipykernel_10196\\2184849335.py:4: FutureWarning: Pass orig_sr=96000, target_sr=16000 as keyword args. From version 0.10 passing these as positional arguments will result in an error\n",
      "  speech_array = librosa.resample(np.asarray(speech_array), sampling_rate, processor.feature_extractor.sampling_rate)\n"
     ]
    }
   ],
   "source": [
    "test_dataset = test_dataset.map(speech_file_to_array_fn)"
   ]
  },
  {
   "cell_type": "code",
   "execution_count": 57,
   "metadata": {
    "id": "K_oZJzHsXKHv",
    "pycharm": {
     "name": "#%%\n"
    }
   },
   "outputs": [
    {
     "data": {
      "application/vnd.jupyter.widget-view+json": {
       "model_id": "d543484eb0e14d389b865bfaef3424ca",
       "version_major": 2,
       "version_minor": 0
      },
      "text/plain": [
       "  0%|          | 0/60 [00:00<?, ?ba/s]"
      ]
     },
     "metadata": {},
     "output_type": "display_data"
    }
   ],
   "source": [
    "result = test_dataset.map(predict, batched=True, batch_size=8)"
   ]
  },
  {
   "cell_type": "code",
   "execution_count": 58,
   "metadata": {
    "id": "BnfJLZvAaxTo",
    "pycharm": {
     "name": "#%%\n"
    }
   },
   "outputs": [
    {
     "data": {
      "text/plain": [
       "['angry', 'disgust', 'fear', 'happy', 'ps', 'sad']"
      ]
     },
     "execution_count": 58,
     "metadata": {},
     "output_type": "execute_result"
    }
   ],
   "source": [
    "label_names = [config.id2label[i] for i in range(config.num_labels)]\n",
    "label_names"
   ]
  },
  {
   "cell_type": "code",
   "execution_count": 59,
   "metadata": {
    "pycharm": {
     "name": "#%%\n"
    }
   },
   "outputs": [],
   "source": [
    "#result[0]"
   ]
  },
  {
   "cell_type": "code",
   "execution_count": 60,
   "metadata": {
    "id": "vRtajzvTabeH",
    "pycharm": {
     "name": "#%%\n"
    }
   },
   "outputs": [
    {
     "name": "stdout",
     "output_type": "stream",
     "text": [
      "[5, 3, 5, 5, 2]\n",
      "[5, 3, 5, 5, 2]\n"
     ]
    }
   ],
   "source": [
    "y_true = [config.label2id[name] for name in result[\"emotion\"]]\n",
    "\n",
    "\n",
    "y_pred = result[\"predicted\"]\n",
    "\n",
    "print(y_true[:5])\n",
    "print(y_pred[:5])"
   ]
  },
  {
   "cell_type": "code",
   "execution_count": 61,
   "metadata": {
    "pycharm": {
     "name": "#%%\n"
    }
   },
   "outputs": [
    {
     "name": "stdout",
     "output_type": "stream",
     "text": [
      "[5, 3, 5, 5, 2, 1, 4, 2, 5, 2, 2, 1, 2, 3, 0, 5, 3, 2, 3, 1, 5, 1, 5, 3, 4, 2, 3, 3, 1, 3, 1, 3, 4, 2, 3, 4, 5, 4, 5, 1, 1, 5, 1, 5, 3, 4, 0, 0, 4, 4, 0, 2, 3, 0, 0, 2, 3, 4, 2, 1, 2, 1, 0, 4, 0, 3, 2, 1, 0, 4, 2, 2, 0, 3, 3, 3, 2, 4, 4, 4, 4, 2, 4, 4, 0, 4, 4, 2, 0, 0, 2, 5, 5, 4, 1, 3, 0, 0, 0, 5, 2, 3, 4, 2, 1, 0, 5, 4, 2, 0, 0, 1, 2, 5, 5, 1, 5, 4, 5, 4, 4, 5, 5, 3, 2, 3, 4, 0, 1, 3, 0, 3, 0, 2, 1, 1, 5, 5, 2, 2, 3, 2, 0, 3, 5, 3, 3, 2, 1, 1, 4, 0, 1, 1, 2, 2, 4, 2, 2, 4, 5, 0, 4, 5, 2, 1, 1, 1, 0, 4, 5, 3, 5, 3, 5, 2, 3, 4, 0, 4, 2, 1, 5, 4, 4, 0, 2, 2, 5, 0, 1, 5, 0, 4, 2, 3, 3, 0, 0, 2, 5, 5, 0, 5, 0, 0, 3, 4, 0, 3, 0, 0, 4, 4, 3, 3, 0, 1, 1, 4, 2, 1, 4, 4, 1, 2, 5, 5, 4, 5, 3, 4, 1, 2, 0, 1, 1, 4, 2, 5, 3, 1, 3, 1, 2, 5, 1, 1, 0, 4, 3, 3, 4, 0, 3, 5, 2, 1, 1, 4, 0, 5, 4, 1, 3, 4, 3, 5, 5, 4, 1, 5, 2, 1, 3, 0, 0, 2, 1, 5, 4, 2, 5, 2, 2, 0, 3, 5, 0, 5, 2, 0, 2, 1, 1, 4, 3, 0, 1, 4, 2, 1, 5, 4, 3, 2, 2, 4, 1, 5, 4, 2, 3, 5, 5, 2, 0, 3, 0, 1, 4, 1, 0, 0, 5, 4, 4, 1, 5, 2, 0, 5, 1, 4, 4, 2, 4, 2, 5, 3, 1, 3, 2, 1, 0, 4, 0, 0, 3, 0, 0, 4, 2, 5, 3, 0, 5, 4, 4, 5, 3, 1, 5, 3, 3, 5, 2, 1, 3, 1, 2, 4, 5, 0, 4, 3, 0, 4, 1, 1, 5, 1, 1, 0, 2, 1, 0, 3, 1, 2, 0, 1, 1, 2, 1, 1, 5, 3, 4, 2, 3, 0, 0, 5, 3, 0, 0, 5, 1, 2, 0, 4, 0, 3, 0, 3, 1, 3, 2, 1, 2, 5, 3, 4, 0, 5, 3, 3, 3, 3, 3, 4, 5, 3, 2, 1, 4, 5, 2, 5, 3, 2, 4, 2, 0, 0, 3, 1, 0, 0, 0, 0, 5, 5, 0, 5, 5, 5, 3, 1, 4, 3, 3, 5, 1, 2, 3, 2, 2, 4, 4, 5, 2, 4, 1, 1, 5, 3, 1, 1]\n"
     ]
    }
   ],
   "source": [
    "print(result['predicted'])\n",
    "#config.label2id['happy']"
   ]
  },
  {
   "cell_type": "code",
   "execution_count": 62,
   "metadata": {
    "id": "tUt5rIppXrzl",
    "pycharm": {
     "name": "#%%\n"
    }
   },
   "outputs": [
    {
     "name": "stdout",
     "output_type": "stream",
     "text": [
      "              precision    recall  f1-score   support\n",
      "\n",
      "       angry       1.00      1.00      1.00        80\n",
      "     disgust       1.00      1.00      1.00        80\n",
      "        fear       1.00      1.00      1.00        80\n",
      "       happy       1.00      1.00      1.00        80\n",
      "          ps       1.00      1.00      1.00        80\n",
      "         sad       1.00      1.00      1.00        80\n",
      "\n",
      "    accuracy                           1.00       480\n",
      "   macro avg       1.00      1.00      1.00       480\n",
      "weighted avg       1.00      1.00      1.00       480\n",
      "\n"
     ]
    }
   ],
   "source": [
    "print(classification_report(y_true, y_pred, target_names=label_names))"
   ]
  },
  {
   "cell_type": "markdown",
   "metadata": {
    "id": "Ylb2Z6Xke2ro",
    "pycharm": {
     "name": "#%% md\n"
    }
   },
   "source": [
    "# Prediction"
   ]
  },
  {
   "cell_type": "code",
   "execution_count": 63,
   "metadata": {
    "id": "EQzCioPhWIiX",
    "pycharm": {
     "name": "#%%\n"
    }
   },
   "outputs": [],
   "source": [
    "import torch\n",
    "import torch.nn as nn\n",
    "import torch.nn.functional as F\n",
    "import torchaudio\n",
    "from transformers import AutoConfig, Wav2Vec2Processor\n",
    "\n",
    "import librosa\n",
    "import IPython.display as ipd\n",
    "import numpy as np\n",
    "import pandas as pd"
   ]
  },
  {
   "cell_type": "code",
   "execution_count": 64,
   "metadata": {
    "id": "DocavTvQWIr_",
    "pycharm": {
     "name": "#%%\n"
    }
   },
   "outputs": [],
   "source": [
    "#device = torch.device(\"cuda\" if torch.cuda.is_available() else \"cpu\")\n",
    "##model_name_or_path = \"m3hrdadfi/wav2vec2-xlsr-greek-speech-emotion-recognition\"\n",
    "## config = AutoConfig.from_pretrained(model_name_or_path)\n",
    "#processor = Wav2Vec2Processor.from_pretrained(model_name_or_path)\n",
    "sampling_rate = processor.feature_extractor.sampling_rate\n",
    "#model = KNNModel.Wav2Vec2ForSpeechClassification.from_pretrained(model_name_or_path).to(device)"
   ]
  },
  {
   "cell_type": "code",
   "execution_count": 82,
   "metadata": {
    "id": "1SSs95o9WIvK",
    "pycharm": {
     "name": "#%%\n"
    }
   },
   "outputs": [],
   "source": [
    "def speech_file_to_array_fn(path, sampling_rate):\n",
    "    speech_array, _sampling_rate = torchaudio.load(path)\n",
    "    resampler = torchaudio.transforms.Resample(16000)\n",
    "    speech = resampler(speech_array).squeeze().numpy()\n",
    "    return speech\n",
    "\n",
    "\n",
    "def predict(path, sampling_rate):\n",
    "    speech = speech_file_to_array_fn(path, sampling_rate)\n",
    "    features = processor(speech, sampling_rate=sampling_rate, return_tensors=\"pt\", padding=True)\n",
    "\n",
    "    input_values = features.input_values.to(device)\n",
    "    attention_mask = features.attention_mask.to(device)\n",
    "\n",
    "    with torch.no_grad():\n",
    "        logits = model(input_values, attention_mask=attention_mask).logits\n",
    "\n",
    "    scores = F.softmax(logits, dim=1).detach().cpu().numpy()[0]\n",
    "    outputs = [{\"Emotion\": config.id2label[i], \"Score\": f\"{round(score * 100, 3):.1f}%\"} for i, score in enumerate(scores)]\n",
    "    return outputs\n",
    "\n",
    "\n",
    "STYLES = \"\"\"\n",
    "<style>\n",
    "div.display_data {\n",
    "    margin: 0 auto;\n",
    "    max-width: 500px;\n",
    "}\n",
    "table.xxx {\n",
    "    margin: 50px !important;\n",
    "    float: right !important;\n",
    "    clear: both !important;\n",
    "}\n",
    "table.xxx td {\n",
    "    min-width: 300px !important;\n",
    "    text-align: center !important;\n",
    "}\n",
    "</style>\n",
    "\"\"\".strip()\n",
    "\n",
    "def prediction(df_row):\n",
    "    path, emotion = df_row[\"path\"], df_row[\"emotion\"]\n",
    "    df = pd.DataFrame([{\"Emotion\": emotion, \"Sentence\": \"    \"}])\n",
    "    setup = {\n",
    "        'border': 2,\n",
    "        'show_dimensions': True,\n",
    "        'justify': 'center',\n",
    "        'classes': 'xxx',\n",
    "        'escape': False,\n",
    "    }\n",
    "    ipd.display(ipd.HTML(STYLES + df.to_html(**setup) + \"<br />\"))\n",
    "    speech, sr = torchaudio.load(path)\n",
    "    speech = speech[0].numpy().squeeze()\n",
    "    speech = librosa.resample(np.asarray(speech), sr, sampling_rate)\n",
    "    ipd.display(ipd.Audio(data=np.asarray(speech), autoplay=True, rate=sampling_rate))\n",
    "    print(path, sampling_rate)\n",
    "    outputs = predict(path, sampling_rate)\n",
    "    r = pd.DataFrame(outputs)\n",
    "    ipd.display(ipd.HTML(STYLES + r.to_html(**setup) + \"<br />\"))"
   ]
  },
  {
   "cell_type": "code",
   "execution_count": 66,
   "metadata": {
    "id": "UD7oUP20YwYT",
    "pycharm": {
     "name": "#%%\n"
    }
   },
   "outputs": [
    {
     "data": {
      "text/html": [
       "<div>\n",
       "<style scoped>\n",
       "    .dataframe tbody tr th:only-of-type {\n",
       "        vertical-align: middle;\n",
       "    }\n",
       "\n",
       "    .dataframe tbody tr th {\n",
       "        vertical-align: top;\n",
       "    }\n",
       "\n",
       "    .dataframe thead th {\n",
       "        text-align: right;\n",
       "    }\n",
       "</style>\n",
       "<table border=\"1\" class=\"dataframe\">\n",
       "  <thead>\n",
       "    <tr style=\"text-align: right;\">\n",
       "      <th></th>\n",
       "      <th>path</th>\n",
       "      <th>emotion</th>\n",
       "    </tr>\n",
       "  </thead>\n",
       "  <tbody>\n",
       "    <tr>\n",
       "      <th>0</th>\n",
       "      <td>../tess\\YAF_sad\\YAF_rat_sad.wav</td>\n",
       "      <td>sad</td>\n",
       "    </tr>\n",
       "    <tr>\n",
       "      <th>1</th>\n",
       "      <td>../tess\\YAF_happy\\YAF_size_happy.wav</td>\n",
       "      <td>happy</td>\n",
       "    </tr>\n",
       "    <tr>\n",
       "      <th>2</th>\n",
       "      <td>../tess\\YAF_sad\\YAF_lean_sad.wav</td>\n",
       "      <td>sad</td>\n",
       "    </tr>\n",
       "    <tr>\n",
       "      <th>3</th>\n",
       "      <td>../tess\\YAF_sad\\YAF_pool_sad.wav</td>\n",
       "      <td>sad</td>\n",
       "    </tr>\n",
       "    <tr>\n",
       "      <th>4</th>\n",
       "      <td>../tess\\OAF_Fear\\OAF_pass_fear.wav</td>\n",
       "      <td>fear</td>\n",
       "    </tr>\n",
       "  </tbody>\n",
       "</table>\n",
       "</div>"
      ],
      "text/plain": [
       "                                   path emotion\n",
       "0       ../tess\\YAF_sad\\YAF_rat_sad.wav     sad\n",
       "1  ../tess\\YAF_happy\\YAF_size_happy.wav   happy\n",
       "2      ../tess\\YAF_sad\\YAF_lean_sad.wav     sad\n",
       "3      ../tess\\YAF_sad\\YAF_pool_sad.wav     sad\n",
       "4    ../tess\\OAF_Fear\\OAF_pass_fear.wav    fear"
      ]
     },
     "execution_count": 66,
     "metadata": {},
     "output_type": "execute_result"
    }
   ],
   "source": [
    "test = pd.read_csv(\"content/data/test.csv\", sep=\"\\t\")\n",
    "test.head()"
   ]
  },
  {
   "cell_type": "code",
   "execution_count": 78,
   "metadata": {
    "id": "FlJO2LfVWIyT",
    "pycharm": {
     "name": "#%%\n"
    }
   },
   "outputs": [
    {
     "data": {
      "text/html": [
       "<style>\n",
       "div.display_data {\n",
       "    margin: 0 auto;\n",
       "    max-width: 500px;\n",
       "}\n",
       "table.xxx {\n",
       "    margin: 50px !important;\n",
       "    float: right !important;\n",
       "    clear: both !important;\n",
       "}\n",
       "table.xxx td {\n",
       "    min-width: 300px !important;\n",
       "    text-align: center !important;\n",
       "}\n",
       "</style><table border=\"2\" class=\"dataframe xxx\">\n",
       "  <thead>\n",
       "    <tr style=\"text-align: center;\">\n",
       "      <th></th>\n",
       "      <th>Emotion</th>\n",
       "      <th>Sentence</th>\n",
       "    </tr>\n",
       "  </thead>\n",
       "  <tbody>\n",
       "    <tr>\n",
       "      <th>0</th>\n",
       "      <td>sad</td>\n",
       "      <td></td>\n",
       "    </tr>\n",
       "  </tbody>\n",
       "</table>\n",
       "<p>1 rows × 2 columns</p><br />"
      ],
      "text/plain": [
       "<IPython.core.display.HTML object>"
      ]
     },
     "metadata": {},
     "output_type": "display_data"
    },
    {
     "name": "stderr",
     "output_type": "stream",
     "text": [
      "C:\\Users\\ckwda\\AppData\\Local\\Temp\\ipykernel_10196\\1846714208.py:54: FutureWarning: Pass orig_sr=24414, target_sr=16000 as keyword args. From version 0.10 passing these as positional arguments will result in an error\n",
      "  speech = librosa.resample(np.asarray(speech), sr, sampling_rate)\n"
     ]
    },
    {
     "data": {
      "text/html": [
       "\n",
       "                <audio  controls=\"controls\" autoplay=\"autoplay\">\n",
       "                    <source src=\"data:audio/wav;base64,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\" type=\"audio/wav\" />\n",
       "                    Your browser does not support the audio element.\n",
       "                </audio>\n",
       "              "
      ],
      "text/plain": [
       "<IPython.lib.display.Audio object>"
      ]
     },
     "metadata": {},
     "output_type": "display_data"
    },
    {
     "name": "stdout",
     "output_type": "stream",
     "text": [
      "../tess\\YAF_sad\\YAF_rat_sad.wav 16000\n"
     ]
    },
    {
     "data": {
      "text/html": [
       "<style>\n",
       "div.display_data {\n",
       "    margin: 0 auto;\n",
       "    max-width: 500px;\n",
       "}\n",
       "table.xxx {\n",
       "    margin: 50px !important;\n",
       "    float: right !important;\n",
       "    clear: both !important;\n",
       "}\n",
       "table.xxx td {\n",
       "    min-width: 300px !important;\n",
       "    text-align: center !important;\n",
       "}\n",
       "</style><table border=\"2\" class=\"dataframe xxx\">\n",
       "  <thead>\n",
       "    <tr style=\"text-align: center;\">\n",
       "      <th></th>\n",
       "      <th>Emotion</th>\n",
       "      <th>Score</th>\n",
       "    </tr>\n",
       "  </thead>\n",
       "  <tbody>\n",
       "    <tr>\n",
       "      <th>0</th>\n",
       "      <td>angry</td>\n",
       "      <td>0.0%</td>\n",
       "    </tr>\n",
       "    <tr>\n",
       "      <th>1</th>\n",
       "      <td>disgust</td>\n",
       "      <td>0.0%</td>\n",
       "    </tr>\n",
       "    <tr>\n",
       "      <th>2</th>\n",
       "      <td>fear</td>\n",
       "      <td>0.0%</td>\n",
       "    </tr>\n",
       "    <tr>\n",
       "      <th>3</th>\n",
       "      <td>happy</td>\n",
       "      <td>0.0%</td>\n",
       "    </tr>\n",
       "    <tr>\n",
       "      <th>4</th>\n",
       "      <td>ps</td>\n",
       "      <td>0.0%</td>\n",
       "    </tr>\n",
       "    <tr>\n",
       "      <th>5</th>\n",
       "      <td>sad</td>\n",
       "      <td>100.0%</td>\n",
       "    </tr>\n",
       "  </tbody>\n",
       "</table>\n",
       "<p>6 rows × 2 columns</p><br />"
      ],
      "text/plain": [
       "<IPython.core.display.HTML object>"
      ]
     },
     "metadata": {},
     "output_type": "display_data"
    }
   ],
   "source": [
    "prediction(test.iloc[0])"
   ]
  },
  {
   "cell_type": "code",
   "execution_count": 122,
   "metadata": {
    "id": "hzoKOgpoWI1K",
    "pycharm": {
     "name": "#%%\n"
    }
   },
   "outputs": [
    {
     "data": {
      "text/html": [
       "<style>\n",
       "div.display_data {\n",
       "    margin: 0 auto;\n",
       "    max-width: 500px;\n",
       "}\n",
       "table.xxx {\n",
       "    margin: 50px !important;\n",
       "    float: right !important;\n",
       "    clear: both !important;\n",
       "}\n",
       "table.xxx td {\n",
       "    min-width: 300px !important;\n",
       "    text-align: center !important;\n",
       "}\n",
       "</style><table border=\"2\" class=\"dataframe xxx\">\n",
       "  <thead>\n",
       "    <tr style=\"text-align: center;\">\n",
       "      <th></th>\n",
       "      <th>Emotion</th>\n",
       "      <th>Sentence</th>\n",
       "    </tr>\n",
       "  </thead>\n",
       "  <tbody>\n",
       "    <tr>\n",
       "      <th>0</th>\n",
       "      <td>disgust</td>\n",
       "      <td></td>\n",
       "    </tr>\n",
       "  </tbody>\n",
       "</table>\n",
       "<p>1 rows × 2 columns</p><br />"
      ],
      "text/plain": [
       "<IPython.core.display.HTML object>"
      ]
     },
     "metadata": {},
     "output_type": "display_data"
    },
    {
     "name": "stderr",
     "output_type": "stream",
     "text": [
      "C:\\Users\\ckwda\\AppData\\Local\\Temp\\ipykernel_10196\\3934189532.py:54: FutureWarning: Pass orig_sr=44100, target_sr=16000 as keyword args. From version 0.10 passing these as positional arguments will result in an error\n",
      "  speech = librosa.resample(np.asarray(speech), sr, sampling_rate)\n"
     ]
    },
    {
     "data": {
      "text/html": [
       "\n",
       "                <audio  controls=\"controls\" autoplay=\"autoplay\">\n",
       "                    <source src=\"data:audio/wav;base64,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\" type=\"audio/wav\" />\n",
       "                    Your browser does not support the audio element.\n",
       "                </audio>\n",
       "              "
      ],
      "text/plain": [
       "<IPython.lib.display.Audio object>"
      ]
     },
     "metadata": {},
     "output_type": "display_data"
    },
    {
     "name": "stdout",
     "output_type": "stream",
     "text": [
      "../Stimuli_Intensitätsmorphs\\nf02_dis_w03_c_100_70dB.wav 16000\n"
     ]
    },
    {
     "data": {
      "text/html": [
       "<style>\n",
       "div.display_data {\n",
       "    margin: 0 auto;\n",
       "    max-width: 500px;\n",
       "}\n",
       "table.xxx {\n",
       "    margin: 50px !important;\n",
       "    float: right !important;\n",
       "    clear: both !important;\n",
       "}\n",
       "table.xxx td {\n",
       "    min-width: 300px !important;\n",
       "    text-align: center !important;\n",
       "}\n",
       "</style><table border=\"2\" class=\"dataframe xxx\">\n",
       "  <thead>\n",
       "    <tr style=\"text-align: center;\">\n",
       "      <th></th>\n",
       "      <th>Emotion</th>\n",
       "      <th>Score</th>\n",
       "    </tr>\n",
       "  </thead>\n",
       "  <tbody>\n",
       "    <tr>\n",
       "      <th>0</th>\n",
       "      <td>angry</td>\n",
       "      <td>0.0%</td>\n",
       "    </tr>\n",
       "    <tr>\n",
       "      <th>1</th>\n",
       "      <td>disgust</td>\n",
       "      <td>99.8%</td>\n",
       "    </tr>\n",
       "    <tr>\n",
       "      <th>2</th>\n",
       "      <td>fear</td>\n",
       "      <td>0.0%</td>\n",
       "    </tr>\n",
       "    <tr>\n",
       "      <th>3</th>\n",
       "      <td>happy</td>\n",
       "      <td>0.0%</td>\n",
       "    </tr>\n",
       "    <tr>\n",
       "      <th>4</th>\n",
       "      <td>ps</td>\n",
       "      <td>0.0%</td>\n",
       "    </tr>\n",
       "    <tr>\n",
       "      <th>5</th>\n",
       "      <td>sad</td>\n",
       "      <td>0.2%</td>\n",
       "    </tr>\n",
       "  </tbody>\n",
       "</table>\n",
       "<p>6 rows × 2 columns</p><br />"
      ],
      "text/plain": [
       "<IPython.core.display.HTML object>"
      ]
     },
     "metadata": {},
     "output_type": "display_data"
    }
   ],
   "source": [
    "prediction(testDF.iloc[120])"
   ]
  },
  {
   "cell_type": "code",
   "execution_count": 76,
   "metadata": {
    "pycharm": {
     "name": "#%%\n"
    }
   },
   "outputs": [
    {
     "name": "stderr",
     "output_type": "stream",
     "text": [
      "C:\\Users\\ckwda\\AppData\\Local\\Temp\\ipykernel_10196\\1312758250.py:1: SettingWithCopyWarning: \n",
      "A value is trying to be set on a copy of a slice from a DataFrame\n",
      "\n",
      "See the caveats in the documentation: https://pandas.pydata.org/pandas-docs/stable/user_guide/indexing.html#returning-a-view-versus-a-copy\n",
      "  trainDF.iloc[245]['path'] = \"D:\\download\\Recording.wav\"\n"
     ]
    },
    {
     "data": {
      "text/plain": [
       "'../tess\\\\OAF_disgust\\\\OAF_gas_disgust.wav'"
      ]
     },
     "execution_count": 76,
     "metadata": {},
     "output_type": "execute_result"
    }
   ],
   "source": [
    "trainDF.iloc[245]['path'] = \"D:\\download\\Recording.wav\"\n"
   ]
  },
  {
   "cell_type": "code",
   "execution_count": 114,
   "metadata": {
    "pycharm": {
     "name": "#%%\n"
    }
   },
   "outputs": [
    {
     "name": "stdout",
     "output_type": "stream",
     "text": [
      "146432\n",
      "-==================================================\n",
      "36200\n"
     ]
    }
   ],
   "source": [
    "# predict(\"D:\\download\\Recording.wav\", 16000)\n",
    "# from IPython.display import Audio\n",
    "# Audio(\"D:\\download\\Recording.wav\")\n",
    "#print(len(torchaudio.load(testerDF.iloc[0][\"path\"])[0][0]))\n",
    "#print(\"-==================================================\")\n",
    "#print(len(torchaudio.load(trainDF.iloc[500][\"path\"])[0][0]))\n",
    "#print(torchaudio.load(trainDF.iloc[245][\"path\"]))\n",
    "# print(trainDF.iloc[245])\n",
    "# print(testerDF.iloc[0])"
   ]
  },
  {
   "cell_type": "code",
   "execution_count": 72,
   "metadata": {},
   "outputs": [
    {
     "data": {
      "text/plain": [
       "(array([ 0.0000000e+00,  0.0000000e+00,  0.0000000e+00, ...,\n",
       "        -9.7007585e-05, -1.8293578e-04, -1.9893976e-08], dtype=float32),\n",
       " 22050)"
      ]
     },
     "execution_count": 72,
     "metadata": {},
     "output_type": "execute_result"
    }
   ],
   "source": [
    "librosa.load(\"D:\\download\\Recording.wav\")"
   ]
  },
  {
   "cell_type": "code",
   "execution_count": null,
   "metadata": {
    "pycharm": {
     "name": "#%%\n"
    }
   },
   "outputs": [],
   "source": [
    "testpaths"
   ]
  },
  {
   "cell_type": "code",
   "execution_count": null,
   "metadata": {
    "id": "7nqwbTTXSfMO",
    "pycharm": {
     "name": "#%%\n"
    }
   },
   "outputs": [],
   "source": [
    "prediction(test.iloc[2])"
   ]
  }
 ],
 "metadata": {
  "accelerator": "GPU",
  "colab": {
   "name": "Emotion recognition in Greek speech using Wav2Vec2.ipynb",
   "provenance": []
  },
  "kernelspec": {
   "display_name": "Python 3 (ipykernel)",
   "language": "python",
   "name": "python3"
  },
  "language_info": {
   "codemirror_mode": {
    "name": "ipython",
    "version": 3
   },
   "file_extension": ".py",
   "mimetype": "text/x-python",
   "name": "python",
   "nbconvert_exporter": "python",
   "pygments_lexer": "ipython3",
   "version": "3.10.9"
  }
 },
 "nbformat": 4,
 "nbformat_minor": 1
}