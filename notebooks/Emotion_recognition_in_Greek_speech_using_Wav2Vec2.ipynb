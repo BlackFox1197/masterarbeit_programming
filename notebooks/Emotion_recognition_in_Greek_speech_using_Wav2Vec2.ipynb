{
 "cells": [
  {
   "cell_type": "markdown",
   "metadata": {
    "id": "5fbCls1d2yBs"
   },
   "source": [
    "# Emotion Recognition in Greek Speech Using Wav2Vec 2.0"
   ]
  },
  {
   "cell_type": "markdown",
   "metadata": {
    "id": "sp37lZOV2042"
   },
   "source": [
    "**Wav2Vec 2.0** is a pretrained model for Automatic Speech Recognition (ASR) and was released in [September 2020](https://ai.facebook.com/blog/wav2vec-20-learning-the-structure-of-speech-from-raw-audio/) by Alexei Baevski, Michael Auli, and Alex Conneau.  Soon after the superior performance of Wav2Vec2 was demonstrated on the English ASR dataset LibriSpeech, *Facebook AI* presented XLSR-Wav2Vec2 (click [here](https://arxiv.org/abs/2006.13979)). XLSR stands for *cross-lingual  speech representations* and refers to XLSR-Wav2Vec2`s ability to learn speech representations that are useful across multiple languages.\n",
    "\n",
    "Similar to Wav2Vec2, XLSR-Wav2Vec2 learns powerful speech representations from hundreds of thousands of hours of speech in more than 50 languages of unlabeled speech. Similar, to [BERT's masked language modeling](http://jalammar.github.io/illustrated-bert/), the model learns contextualized speech representations by randomly masking feature vectors before passing them to a transformer network.\n",
    "\n",
    "![wav2vec2_structure](https://raw.githubusercontent.com/patrickvonplaten/scientific_images/master/xlsr_wav2vec2.png)\n",
    "\n",
    "The authors show for the first time that massively pretraining an ASR model on cross-lingual unlabeled speech data, followed by language-specific fine-tuning on very little labeled data achieves state-of-the-art results. See Table 1-5 of the official [paper](https://arxiv.org/pdf/2006.13979.pdf)."
   ]
  },
  {
   "cell_type": "markdown",
   "metadata": {
    "id": "y0xJwDkA3QQR"
   },
   "source": [
    "During fine-tuning week hosted by HuggingFace, more than 300 people participated in tuning XLSR-Wav2Vec2's pretrained on low-resources ASR dataset for more than 50 languages. This model is fine-tuned using [Connectionist Temporal Classification](https://distill.pub/2017/ctc/) (CTC), an algorithm used to train neural networks for sequence-to-sequence problems and mainly in Automatic Speech Recognition and handwriting recognition. Follow this [notebook](https://colab.research.google.com/github/patrickvonplaten/notebooks/blob/master/Fine_Tune_XLSR_Wav2Vec2_on_Turkish_ASR_with_%F0%9F%A4%97_Transformers.ipynb#scrollTo=Gx9OdDYrCtQ1) for more information about XLSR-Wav2Vec2 fine-tuning.\n",
    "\n",
    "This model was shown significant results in many low-resources languages. You can see the [competition board](https://paperswithcode.com/dataset/common-voice) or even testing the models from the [HuggingFace hub](https://huggingface.co/models?filter=xlsr-fine-tuning-week). \n",
    "\n",
    "\n",
    "In this notebook, we will go through how to use this model to recognize the emotional aspects of speech in a language (or even as a general view using for every classification problem). Before going any further, we need to install some handy packages and define some enviroment values."
   ]
  },
  {
   "cell_type": "code",
   "execution_count": 1,
   "metadata": {
    "colab": {
     "base_uri": "https://localhost:8080/"
    },
    "id": "cp4-LTa2uphv",
    "outputId": "b1490098-4140-4d72-f59e-756ca705cf83"
   },
   "outputs": [],
   "source": [
    "%%capture\n",
    "%env LC_ALL=C.UTF-8\n",
    "%env LANG=C.UTF-8\n",
    "%env TRANSFORMERS_CACHE=content/cache\n",
    "%env HF_DATASETS_CACHE=content/cache\n",
    "%env CUDA_LAUNCH_BLOCKING=1"
   ]
  },
  {
   "cell_type": "markdown",
   "metadata": {
    "id": "krC50MmmvBWJ"
   },
   "source": [
    "## Prepare Data\n",
    "\n",
    "For this particular example, we use [Acted Emotional Speech Dynamic Database – AESDD](http://m3c.web.auth.gr/research/aesdd-speech-emotion-recognition/) provided by Multidisciplinary Media & Mediated Communication Research Group ([M3C](http://m3c.web.auth.gr/)). \n",
    "\n",
    "The Acted Emotional Speech Dynamic Database (AESDD) is a publically available speech emotion recognition dataset that contains utterances of acted emotional speech in the Greek language for five different emotions `sadness`, `disgust`, `happiness`, `anger`, and `fear`.\n",
    "\n",
    "The dataset consists of directories of emotions; each folder includes specific emotions. We need to loop over directories and save the paths related to each class based on the directory name.\n",
    "\n",
    "```bash\n",
    ".\n",
    "├── Tools\\ and\\ Documentation\n",
    "│   ├── ESTrainer.mlapp\n",
    "│   ├── Speech\\ Emotion\\ Recognition\\ Adapted\\ to\\ Multimodal\\ Semantic\\ Repositories_documentation.pdf\n",
    "│   ├── Speech\\ Emotion\\ Recognition\\ for\\ Performance\\ Interaction.pdf\n",
    "│   └── readme.txt\n",
    "├── anger\n",
    "│   ├── a01\\ (1).wav\n",
    "│   ├── a01\\ (2).wav\n",
    "│   ├── ...\n",
    "├── disgust\n",
    "│   ├── d01\\ (1).wav\n",
    "│   ├── d01\\ (2).wav\n",
    "│   ├── ...\n",
    "├── fear\n",
    "│   ├── f01\\ (1).wav\n",
    "│   ├── f01\\ (2).wav\n",
    "│   ├── ...\n",
    "├── happiness\n",
    "│   ├── h01\\ (1).wav\n",
    "│   ├── h01\\ (2).wav\n",
    "│   ├── ...\n",
    "└── sadness\n",
    "    ├── s01\\ (1).wav\n",
    "    ├── s01\\ (2).wav\n",
    "    ├── ...\n",
    "\n",
    "6 directories, 609 files\n",
    "```"
   ]
  },
  {
   "cell_type": "code",
   "execution_count": 2,
   "metadata": {
    "id": "pFSqZ0jwCMSv"
   },
   "outputs": [],
   "source": [
    "import numpy as np\n",
    "import pandas as pd\n",
    "import torch\n",
    "\n",
    "from pathlib import Path\n",
    "from tqdm import tqdm\n",
    "\n",
    "import torchaudio\n",
    "from sklearn.model_selection import train_test_split\n",
    "\n",
    "import os\n",
    "import sys"
   ]
  },
  {
   "cell_type": "code",
   "execution_count": 3,
   "metadata": {
    "colab": {
     "base_uri": "https://localhost:8080/"
    },
    "id": "7MXAESg_Dqr6",
    "outputId": "2820808d-37db-41ab-edd5-af0a097d9281"
   },
   "outputs": [
    {
     "name": "stderr",
     "output_type": "stream",
     "text": [
      "0it [00:00, ?it/s]\n"
     ]
    }
   ],
   "source": [
    "data = []\n",
    "\n",
    "for path in tqdm(Path(\"/content/data/aesdd\").glob(\"**/*.wav\")):\n",
    "    name = str(path).split('/')[-1].split('.')[0]\n",
    "    label = str(path).split('/')[-2]\n",
    "    \n",
    "    try:\n",
    "        # There are some broken files\n",
    "        s = torchaudio.load(path)\n",
    "        data.append({\n",
    "            \"name\": name,\n",
    "            \"path\": path,\n",
    "            \"emotion\": label\n",
    "        })\n",
    "    except Exception as e:\n",
    "        # print(str(path), e)\n",
    "        pass\n",
    "\n",
    "    # break"
   ]
  },
  {
   "cell_type": "code",
   "execution_count": 4,
   "metadata": {},
   "outputs": [
    {
     "name": "stdout",
     "output_type": "stream",
     "text": [
      "/home/ckwdani/Programming/Projects/masterarbeit/Jupyter/mainProject/venv/bin/python\n",
      "['angry', 'angry', 'ps', 'happy', 'fear', 'sad', 'fear', 'ps', 'happy', 'disgust', 'sad', 'sad', 'happy', 'disgust', 'disgust', 'fear', 'sad', 'happy', 'angry', 'happy', 'disgust', 'disgust', 'happy', 'happy', 'disgust', 'disgust', 'angry', 'happy', 'disgust', 'sad', 'sad', 'happy', 'ps', 'disgust', 'sad', 'disgust', 'fear', 'disgust', 'happy', 'happy', 'happy', 'sad', 'fear', 'fear', 'fear', 'sad', 'ps', 'angry', 'sad', 'disgust', 'angry', 'happy', 'happy', 'fear', 'fear', 'happy', 'angry', 'sad', 'happy', 'fear', 'fear', 'angry', 'happy', 'happy', 'angry', 'happy', 'happy', 'fear', 'happy', 'fear', 'happy', 'happy', 'angry', 'sad', 'fear', 'ps', 'ps', 'angry', 'happy', 'happy', 'sad', 'ps', 'ps', 'ps', 'angry', 'angry', 'disgust', 'ps', 'ps', 'sad', 'happy', 'ps', 'happy', 'disgust', 'disgust', 'sad', 'sad', 'happy', 'angry', 'angry', 'sad', 'happy', 'happy', 'ps', 'disgust', 'sad', 'fear', 'ps', 'happy', 'fear', 'sad', 'disgust', 'disgust', 'fear', 'angry', 'happy', 'sad', 'ps', 'fear', 'sad', 'disgust', 'disgust', 'disgust', 'angry', 'angry', 'sad', 'happy', 'angry', 'happy', 'ps', 'sad', 'fear', 'disgust', 'fear', 'disgust', 'disgust', 'disgust', 'ps', 'fear', 'sad', 'fear', 'sad', 'happy', 'fear', 'fear', 'ps', 'sad', 'angry', 'angry', 'happy', 'happy', 'fear', 'ps', 'fear', 'ps', 'fear', 'disgust', 'ps', 'happy', 'fear', 'angry', 'sad', 'sad', 'fear', 'disgust', 'fear', 'ps', 'angry', 'disgust', 'fear', 'sad', 'disgust', 'disgust', 'fear', 'ps', 'ps', 'ps', 'sad', 'ps', 'happy', 'sad', 'happy', 'happy', 'disgust', 'sad', 'fear', 'happy', 'angry', 'disgust', 'sad', 'happy', 'fear', 'ps', 'ps', 'angry', 'sad', 'angry', 'angry', 'sad', 'happy', 'fear', 'angry', 'sad', 'happy', 'happy', 'ps', 'angry', 'sad', 'angry', 'fear', 'angry', 'disgust', 'happy', 'fear', 'happy', 'ps', 'happy', 'sad', 'happy', 'fear', 'angry', 'fear', 'disgust', 'fear', 'sad', 'fear', 'sad', 'sad', 'sad', 'sad', 'disgust', 'fear', 'fear', 'angry', 'disgust', 'fear', 'fear', 'angry', 'happy', 'sad', 'fear', 'angry', 'happy', 'disgust', 'disgust', 'disgust', 'happy', 'disgust', 'ps', 'ps', 'sad', 'disgust', 'angry', 'sad', 'happy', 'fear', 'angry', 'angry', 'happy', 'happy', 'angry', 'sad', 'disgust', 'ps', 'ps', 'angry', 'ps', 'disgust', 'angry', 'sad', 'happy', 'ps', 'sad', 'ps', 'ps', 'disgust', 'ps', 'ps', 'happy', 'fear', 'fear', 'happy', 'disgust', 'sad', 'fear', 'ps', 'disgust', 'fear', 'ps', 'fear', 'disgust', 'ps', 'ps', 'angry', 'angry', 'sad', 'ps', 'disgust', 'disgust', 'ps', 'happy', 'fear', 'sad', 'angry', 'disgust', 'happy', 'disgust', 'disgust', 'angry', 'angry', 'sad', 'ps', 'disgust', 'fear', 'angry', 'angry', 'fear', 'fear', 'angry', 'angry', 'fear', 'ps', 'angry', 'disgust', 'ps', 'disgust', 'happy', 'happy', 'sad', 'angry', 'sad', 'angry', 'ps', 'happy', 'disgust', 'disgust', 'angry', 'angry', 'ps', 'disgust', 'fear', 'fear', 'sad', 'ps', 'sad', 'happy', 'ps', 'disgust', 'ps', 'sad', 'disgust', 'disgust', 'sad', 'disgust', 'happy', 'happy', 'angry', 'sad', 'disgust', 'happy', 'sad', 'angry', 'ps', 'angry', 'happy', 'fear', 'sad', 'ps', 'ps', 'sad', 'fear', 'fear', 'fear', 'angry', 'angry', 'fear', 'fear', 'angry', 'fear', 'ps', 'disgust', 'angry', 'angry', 'angry', 'happy', 'fear', 'fear', 'fear', 'happy', 'ps', 'disgust', 'angry', 'ps', 'angry', 'angry', 'disgust', 'ps', 'angry', 'ps', 'sad', 'sad', 'happy', 'disgust', 'ps', 'happy', 'fear', 'disgust', 'disgust', 'angry', 'angry', 'disgust', 'fear', 'sad', 'disgust', 'disgust', 'sad', 'happy', 'disgust', 'happy', 'angry', 'ps', 'happy', 'fear', 'fear', 'fear', 'disgust', 'angry', 'disgust', 'sad', 'fear', 'fear', 'ps', 'sad', 'sad', 'fear', 'fear', 'disgust', 'sad', 'fear', 'happy', 'angry', 'angry', 'disgust', 'happy', 'ps', 'angry', 'ps', 'happy', 'sad', 'ps', 'fear', 'angry', 'disgust', 'happy', 'sad', 'fear', 'fear', 'ps', 'disgust', 'fear', 'sad', 'fear', 'fear', 'angry', 'sad', 'ps', 'disgust', 'ps', 'angry', 'ps', 'angry', 'fear', 'ps', 'disgust', 'disgust', 'sad', 'happy', 'sad', 'angry', 'sad', 'sad', 'sad', 'sad', 'ps', 'ps', 'ps', 'fear', 'ps', 'ps', 'sad', 'sad', 'sad', 'angry', 'sad', 'happy', 'disgust', 'ps', 'happy', 'happy', 'sad', 'angry', 'happy', 'fear', 'ps', 'fear', 'fear', 'angry', 'ps', 'happy', 'disgust', 'fear', 'happy', 'happy', 'disgust', 'sad', 'happy', 'fear', 'sad', 'happy', 'ps', 'sad', 'disgust', 'disgust', 'angry', 'sad', 'happy', 'ps', 'happy', 'disgust', 'sad', 'angry', 'ps', 'fear', 'ps', 'sad', 'sad', 'fear', 'disgust', 'disgust', 'ps', 'angry', 'fear', 'angry', 'happy', 'angry', 'happy', 'disgust', 'ps', 'happy', 'happy', 'disgust', 'angry', 'angry', 'fear', 'ps', 'disgust', 'ps', 'happy', 'disgust', 'sad', 'ps', 'disgust', 'angry', 'happy', 'ps', 'disgust', 'sad', 'angry', 'angry', 'sad', 'happy', 'happy', 'happy', 'happy', 'fear', 'ps', 'happy', 'ps', 'fear', 'happy', 'disgust', 'ps', 'disgust', 'disgust', 'sad', 'angry', 'sad', 'sad', 'happy', 'happy', 'ps', 'disgust', 'disgust', 'disgust', 'angry', 'ps', 'fear', 'fear', 'happy', 'fear', 'angry', 'happy', 'sad', 'happy', 'angry', 'happy', 'fear', 'angry', 'ps', 'ps', 'angry', 'fear', 'disgust', 'disgust', 'ps', 'ps', 'fear', 'happy', 'ps', 'angry', 'ps', 'fear', 'disgust', 'angry', 'angry', 'happy', 'sad', 'ps', 'disgust', 'sad', 'sad', 'sad', 'sad', 'angry', 'disgust', 'fear', 'angry', 'sad', 'angry', 'happy', 'angry', 'happy', 'disgust', 'ps', 'sad', 'disgust', 'ps', 'fear', 'happy', 'angry', 'sad', 'disgust', 'angry', 'ps', 'sad', 'angry', 'disgust', 'fear', 'sad', 'happy', 'disgust', 'fear', 'disgust', 'happy', 'happy', 'angry', 'ps', 'angry', 'fear', 'sad', 'fear', 'disgust', 'happy', 'angry', 'ps', 'fear', 'happy', 'ps', 'angry', 'sad', 'ps', 'fear', 'fear', 'angry', 'ps', 'sad', 'ps', 'fear', 'disgust', 'disgust', 'fear', 'fear', 'ps', 'ps', 'fear', 'disgust', 'fear', 'sad', 'ps', 'happy', 'ps', 'sad', 'fear', 'disgust', 'disgust', 'fear', 'ps', 'angry', 'disgust', 'sad', 'angry', 'ps', 'fear', 'angry', 'disgust', 'angry', 'angry', 'ps', 'sad', 'ps', 'ps', 'happy', 'angry', 'sad', 'fear', 'ps', 'disgust', 'sad', 'angry', 'ps', 'angry', 'sad', 'disgust', 'fear', 'angry', 'angry', 'fear', 'happy', 'disgust', 'fear', 'happy', 'disgust', 'disgust', 'happy', 'angry', 'sad', 'fear', 'ps', 'sad', 'disgust', 'angry', 'happy', 'ps', 'happy', 'sad', 'happy', 'ps', 'sad', 'angry', 'angry', 'sad', 'fear', 'ps', 'ps', 'sad', 'sad', 'sad', 'disgust']\n",
      "['../Stimuli_Intensitätsmorphs/nf02_ang_w05_o_100_70dB.wav', '../Stimuli_Intensitätsmorphs/nm01_ang_w01_o_50_70dB.wav', '../Stimuli_Intensitätsmorphs/nf04_sur_w03_c_100_70dB.wav', '../Stimuli_Intensitätsmorphs/nf03_hap_w01_o_75_70dB.wav', '../Stimuli_Intensitätsmorphs/nm01_fea_w01_o_50_70dB.wav', '../Stimuli_Intensitätsmorphs/nf02_sad_w02_c_25_70dB.wav', '../Stimuli_Intensitätsmorphs/nf01_fea_w03_c_75_70dB.wav', '../Stimuli_Intensitätsmorphs/nf01_sur_w02_o_100_70dB.wav', '../Stimuli_Intensitätsmorphs/nm02_hap_w03_o_75_70dB.wav', '../Stimuli_Intensitätsmorphs/nf01_dis_w05_o_50_70dB.wav', '../Stimuli_Intensitätsmorphs/nf01_sad_w01_c_75_70dB.wav', '../Stimuli_Intensitätsmorphs/nm03_sad_w05_c_100_70dB.wav', '../Stimuli_Intensitätsmorphs/nf03_hap_w02_o_75_70dB.wav', '../Stimuli_Intensitätsmorphs/nf02_dis_w03_c_25_70dB.wav', '../Stimuli_Intensitätsmorphs/nf03_dis_w03_c_100_70dB.wav', '../Stimuli_Intensitätsmorphs/nf01_fea_w02_c_100_70dB.wav', '../Stimuli_Intensitätsmorphs/nf01_sad_w02_c_100_70dB.wav', '../Stimuli_Intensitätsmorphs/nf02_hap_w05_o_75_70dB.wav', '../Stimuli_Intensitätsmorphs/nf01_ang_w02_o_50_70dB.wav', '../Stimuli_Intensitätsmorphs/nf04_hap_w01_o_75_70dB.wav', '../Stimuli_Intensitätsmorphs/nm04_dis_w05_o_50_70dB.wav', '../Stimuli_Intensitätsmorphs/nf01_dis_w05_o_100_70dB.wav', '../Stimuli_Intensitätsmorphs/nf04_hap_w01_o_25_70dB.wav', '../Stimuli_Intensitätsmorphs/nf03_hap_w01_o_25_70dB.wav', '../Stimuli_Intensitätsmorphs/nf04_dis_w02_o_50_70dB.wav', '../Stimuli_Intensitätsmorphs/nf03_dis_w03_c_50_70dB.wav', '../Stimuli_Intensitätsmorphs/nm03_ang_w01_o_75_70dB.wav', '../Stimuli_Intensitätsmorphs/nf04_hap_w01_o_50_70dB.wav', '../Stimuli_Intensitätsmorphs/nm02_dis_w03_o_50_70dB.wav', '../Stimuli_Intensitätsmorphs/nf03_sad_w05_o_25_70dB.wav', '../Stimuli_Intensitätsmorphs/nm03_sad_w05_c_50_70dB.wav', '../Stimuli_Intensitätsmorphs/nf03_hap_w05_o_50_70dB.wav', '../Stimuli_Intensitätsmorphs/nm04_sur_w05_o_25_70dB.wav', '../Stimuli_Intensitätsmorphs/nf04_dis_w03_c_100_70dB.wav', '../Stimuli_Intensitätsmorphs/nm01_sad_w01_c_100_70dB.wav', '../Stimuli_Intensitätsmorphs/nf04_dis_w05_c_75_70dB.wav', '../Stimuli_Intensitätsmorphs/nm02_fea_w05_o_50_70dB.wav', '../Stimuli_Intensitätsmorphs/nf03_dis_w02_c_100_70dB.wav', '../Stimuli_Intensitätsmorphs/nf01_hap_w02_o_75_70dB.wav', '../Stimuli_Intensitätsmorphs/nm04_hap_w01_o_100_70dB.wav', '../Stimuli_Intensitätsmorphs/nf04_hap_w03_o_100_70dB.wav', '../Stimuli_Intensitätsmorphs/nf02_sad_w01_c_25_70dB.wav', '../Stimuli_Intensitätsmorphs/nm03_fea_w05_o_25_70dB.wav', '../Stimuli_Intensitätsmorphs/nm03_fea_w03_o_50_70dB.wav', '../Stimuli_Intensitätsmorphs/nf03_fea_w03_c_75_70dB.wav', '../Stimuli_Intensitätsmorphs/nm02_sad_w01_o_25_70dB.wav', '../Stimuli_Intensitätsmorphs/nm02_sur_w01_c_75_70dB.wav', '../Stimuli_Intensitätsmorphs/nm04_ang_w01_o_75_70dB.wav', '../Stimuli_Intensitätsmorphs/nf01_sad_w02_c_75_70dB.wav', '../Stimuli_Intensitätsmorphs/nm02_dis_w02_o_25_70dB.wav', '../Stimuli_Intensitätsmorphs/nm01_ang_w02_o_75_70dB.wav', '../Stimuli_Intensitätsmorphs/nf04_hap_w05_o_75_70dB.wav', '../Stimuli_Intensitätsmorphs/nf02_hap_w02_o_25_70dB.wav', '../Stimuli_Intensitätsmorphs/nf03_fea_w01_c_50_70dB.wav', '../Stimuli_Intensitätsmorphs/nf03_fea_w05_c_75_70dB.wav', '../Stimuli_Intensitätsmorphs/nf02_hap_w01_o_75_70dB.wav', '../Stimuli_Intensitätsmorphs/nf01_ang_w05_o_50_70dB.wav', '../Stimuli_Intensitätsmorphs/nf01_sad_w05_o_25_70dB.wav', '../Stimuli_Intensitätsmorphs/nf04_hap_w02_o_50_70dB.wav', '../Stimuli_Intensitätsmorphs/nf03_fea_w02_c_100_70dB.wav', '../Stimuli_Intensitätsmorphs/nm01_fea_w02_o_50_70dB.wav', '../Stimuli_Intensitätsmorphs/nf03_ang_w03_o_75_70dB.wav', '../Stimuli_Intensitätsmorphs/nf01_hap_w01_o_75_70dB.wav', '../Stimuli_Intensitätsmorphs/nf01_hap_w05_o_50_70dB.wav', '../Stimuli_Intensitätsmorphs/nf04_ang_w01_o_100_70dB.wav', '../Stimuli_Intensitätsmorphs/nf04_hap_w01_o_100_70dB.wav', '../Stimuli_Intensitätsmorphs/nm01_hap_w03_o_100_70dB.wav', '../Stimuli_Intensitätsmorphs/nf01_fea_w01_c_25_70dB.wav', '../Stimuli_Intensitätsmorphs/nm04_hap_w02_o_25_70dB.wav', '../Stimuli_Intensitätsmorphs/nm04_fea_w01_c_50_70dB.wav', '../Stimuli_Intensitätsmorphs/nm03_hap_w01_o_75_70dB.wav', '../Stimuli_Intensitätsmorphs/nm03_hap_w05_o_75_70dB.wav', '../Stimuli_Intensitätsmorphs/nf02_ang_w03_o_25_70dB.wav', '../Stimuli_Intensitätsmorphs/nf01_sad_w05_o_50_70dB.wav', '../Stimuli_Intensitätsmorphs/nf01_fea_w03_c_100_70dB.wav', '../Stimuli_Intensitätsmorphs/nm04_sur_w02_o_25_70dB.wav', '../Stimuli_Intensitätsmorphs/nm04_sur_w01_c_50_70dB.wav', '../Stimuli_Intensitätsmorphs/nm02_ang_w03_o_50_70dB.wav', '../Stimuli_Intensitätsmorphs/nm02_hap_w02_c_100_70dB.wav', '../Stimuli_Intensitätsmorphs/nm03_hap_w02_c_25_70dB.wav', '../Stimuli_Intensitätsmorphs/nm01_sad_w02_o_75_70dB.wav', '../Stimuli_Intensitätsmorphs/nf04_sur_w03_c_25_70dB.wav', '../Stimuli_Intensitätsmorphs/nf04_sur_w01_o_100_70dB.wav', '../Stimuli_Intensitätsmorphs/nf03_sur_w02_o_75_70dB.wav', '../Stimuli_Intensitätsmorphs/nf01_ang_w03_o_50_70dB.wav', '../Stimuli_Intensitätsmorphs/nm02_ang_w01_o_100_70dB.wav', '../Stimuli_Intensitätsmorphs/nm04_dis_w05_o_25_70dB.wav', '../Stimuli_Intensitätsmorphs/nf04_sur_w01_o_75_70dB.wav', '../Stimuli_Intensitätsmorphs/nm04_sur_w02_o_50_70dB.wav', '../Stimuli_Intensitätsmorphs/nf04_sad_w02_c_25_70dB.wav', '../Stimuli_Intensitätsmorphs/nf02_hap_w02_o_50_70dB.wav', '../Stimuli_Intensitätsmorphs/nm01_sur_w01_o_50_70dB.wav', '../Stimuli_Intensitätsmorphs/nm01_hap_w02_o_75_70dB.wav', '../Stimuli_Intensitätsmorphs/nm01_dis_w01_o_100_70dB.wav', '../Stimuli_Intensitätsmorphs/nm01_dis_w03_o_75_70dB.wav', '../Stimuli_Intensitätsmorphs/nf01_sad_w01_c_25_70dB.wav', '../Stimuli_Intensitätsmorphs/nm02_sad_w03_c_25_70dB.wav', '../Stimuli_Intensitätsmorphs/nm03_hap_w01_o_100_70dB.wav', '../Stimuli_Intensitätsmorphs/nf03_ang_w02_o_75_70dB.wav', '../Stimuli_Intensitätsmorphs/nf04_ang_w02_o_75_70dB.wav', '../Stimuli_Intensitätsmorphs/nf03_sad_w05_o_50_70dB.wav', '../Stimuli_Intensitätsmorphs/nf03_hap_w02_o_100_70dB.wav', '../Stimuli_Intensitätsmorphs/nm01_hap_w03_o_50_70dB.wav', '../Stimuli_Intensitätsmorphs/nm01_sur_w03_o_100_70dB.wav', '../Stimuli_Intensitätsmorphs/nm02_dis_w05_o_100_70dB.wav', '../Stimuli_Intensitätsmorphs/nf03_sad_w02_c_75_70dB.wav', '../Stimuli_Intensitätsmorphs/nm02_fea_w02_o_100_70dB.wav', '../Stimuli_Intensitätsmorphs/nm03_sur_w03_o_50_70dB.wav', '../Stimuli_Intensitätsmorphs/nm02_hap_w05_o_25_70dB.wav', '../Stimuli_Intensitätsmorphs/nm01_fea_w05_c_75_70dB.wav', '../Stimuli_Intensitätsmorphs/nf01_sad_w03_c_50_70dB.wav', '../Stimuli_Intensitätsmorphs/nm01_dis_w03_o_100_70dB.wav', '../Stimuli_Intensitätsmorphs/nf01_dis_w03_o_50_70dB.wav', '../Stimuli_Intensitätsmorphs/nf03_fea_w01_c_100_70dB.wav', '../Stimuli_Intensitätsmorphs/nm03_ang_w01_o_100_70dB.wav', '../Stimuli_Intensitätsmorphs/nm03_hap_w02_c_100_70dB.wav', '../Stimuli_Intensitätsmorphs/nf01_sad_w03_c_100_70dB.wav', '../Stimuli_Intensitätsmorphs/nf03_sur_w03_c_100_70dB.wav', '../Stimuli_Intensitätsmorphs/nf01_fea_w03_c_25_70dB.wav', '../Stimuli_Intensitätsmorphs/nm02_sad_w03_c_75_70dB.wav', '../Stimuli_Intensitätsmorphs/nm04_dis_w01_o_100_70dB.wav', '../Stimuli_Intensitätsmorphs/nm02_dis_w01_o_75_70dB.wav', '../Stimuli_Intensitätsmorphs/nf02_dis_w01_o_100_70dB.wav', '../Stimuli_Intensitätsmorphs/nf01_ang_w01_o_25_70dB.wav', '../Stimuli_Intensitätsmorphs/nm01_ang_w02_o_50_70dB.wav', '../Stimuli_Intensitätsmorphs/nf02_sad_w01_c_100_70dB.wav', '../Stimuli_Intensitätsmorphs/nm03_hap_w05_o_25_70dB.wav', '../Stimuli_Intensitätsmorphs/nf04_ang_w05_o_25_70dB.wav', '../Stimuli_Intensitätsmorphs/nf04_hap_w02_o_25_70dB.wav', '../Stimuli_Intensitätsmorphs/nf04_sur_w02_o_75_70dB.wav', '../Stimuli_Intensitätsmorphs/nm02_sad_w01_o_100_70dB.wav', '../Stimuli_Intensitätsmorphs/nf03_fea_w05_c_25_70dB.wav', '../Stimuli_Intensitätsmorphs/nm02_dis_w01_o_25_70dB.wav', '../Stimuli_Intensitätsmorphs/nf03_fea_w05_c_100_70dB.wav', '../Stimuli_Intensitätsmorphs/nf02_dis_w03_c_75_70dB.wav', '../Stimuli_Intensitätsmorphs/nf04_dis_w01_o_50_70dB.wav', '../Stimuli_Intensitätsmorphs/nm03_dis_w01_o_75_70dB.wav', '../Stimuli_Intensitätsmorphs/nf01_sur_w02_o_50_70dB.wav', '../Stimuli_Intensitätsmorphs/nm02_fea_w02_o_50_70dB.wav', '../Stimuli_Intensitätsmorphs/nm02_sad_w02_o_50_70dB.wav', '../Stimuli_Intensitätsmorphs/nf04_fea_w05_c_25_70dB.wav', '../Stimuli_Intensitätsmorphs/nm01_sad_w01_c_50_70dB.wav', '../Stimuli_Intensitätsmorphs/nf04_hap_w02_o_75_70dB.wav', '../Stimuli_Intensitätsmorphs/nm04_fea_w05_o_50_70dB.wav', '../Stimuli_Intensitätsmorphs/nm04_fea_w02_c_50_70dB.wav', '../Stimuli_Intensitätsmorphs/nm03_sur_w05_c_25_70dB.wav', '../Stimuli_Intensitätsmorphs/nf02_sad_w03_c_100_70dB.wav', '../Stimuli_Intensitätsmorphs/nm01_ang_w05_o_75_70dB.wav', '../Stimuli_Intensitätsmorphs/nm03_ang_w01_o_25_70dB.wav', '../Stimuli_Intensitätsmorphs/nf02_hap_w01_o_25_70dB.wav', '../Stimuli_Intensitätsmorphs/nf01_hap_w05_o_25_70dB.wav', '../Stimuli_Intensitätsmorphs/nf02_fea_w05_o_75_70dB.wav', '../Stimuli_Intensitätsmorphs/nf03_sur_w03_c_50_70dB.wav', '../Stimuli_Intensitätsmorphs/nm03_fea_w01_o_50_70dB.wav', '../Stimuli_Intensitätsmorphs/nf04_sur_w03_c_75_70dB.wav', '../Stimuli_Intensitätsmorphs/nf02_fea_w03_o_50_70dB.wav', '../Stimuli_Intensitätsmorphs/nf04_dis_w05_c_25_70dB.wav', '../Stimuli_Intensitätsmorphs/nf02_sur_w02_c_100_70dB.wav', '../Stimuli_Intensitätsmorphs/nf03_hap_w05_o_25_70dB.wav', '../Stimuli_Intensitätsmorphs/nf04_fea_w03_o_75_70dB.wav', '../Stimuli_Intensitätsmorphs/nm02_ang_w05_o_100_70dB.wav', '../Stimuli_Intensitätsmorphs/nm04_sad_w03_c_100_70dB.wav', '../Stimuli_Intensitätsmorphs/nm03_sad_w03_o_50_70dB.wav', '../Stimuli_Intensitätsmorphs/nm04_fea_w03_o_75_70dB.wav', '../Stimuli_Intensitätsmorphs/nm01_dis_w01_o_50_70dB.wav', '../Stimuli_Intensitätsmorphs/nf04_fea_w01_c_25_70dB.wav', '../Stimuli_Intensitätsmorphs/nm02_sur_w01_c_25_70dB.wav', '../Stimuli_Intensitätsmorphs/nm02_ang_w05_o_75_70dB.wav', '../Stimuli_Intensitätsmorphs/nm03_dis_w01_o_100_70dB.wav', '../Stimuli_Intensitätsmorphs/nf01_fea_w02_c_75_70dB.wav', '../Stimuli_Intensitätsmorphs/nf01_sad_w01_c_50_70dB.wav', '../Stimuli_Intensitätsmorphs/nm04_dis_w02_o_75_70dB.wav', '../Stimuli_Intensitätsmorphs/nm01_dis_w02_c_50_70dB.wav', '../Stimuli_Intensitätsmorphs/nm04_fea_w05_o_25_70dB.wav', '../Stimuli_Intensitätsmorphs/nm01_sur_w01_o_100_70dB.wav', '../Stimuli_Intensitätsmorphs/nf01_sur_w03_c_75_70dB.wav', '../Stimuli_Intensitätsmorphs/nm02_sur_w02_o_100_70dB.wav', '../Stimuli_Intensitätsmorphs/nm04_sad_w03_c_50_70dB.wav', '../Stimuli_Intensitätsmorphs/nm04_sur_w01_c_100_70dB.wav', '../Stimuli_Intensitätsmorphs/nf02_hap_w03_o_75_70dB.wav', '../Stimuli_Intensitätsmorphs/nf03_sad_w01_o_25_70dB.wav', '../Stimuli_Intensitätsmorphs/nm02_hap_w01_o_75_70dB.wav', '../Stimuli_Intensitätsmorphs/nm01_hap_w05_o_25_70dB.wav', '../Stimuli_Intensitätsmorphs/nf04_dis_w02_o_75_70dB.wav', '../Stimuli_Intensitätsmorphs/nm02_sad_w05_c_50_70dB.wav', '../Stimuli_Intensitätsmorphs/nf03_fea_w05_c_50_70dB.wav', '../Stimuli_Intensitätsmorphs/nf04_hap_w02_o_100_70dB.wav', '../Stimuli_Intensitätsmorphs/nm02_ang_w03_o_75_70dB.wav', '../Stimuli_Intensitätsmorphs/nm01_dis_w01_o_25_70dB.wav', '../Stimuli_Intensitätsmorphs/nm01_sad_w03_c_100_70dB.wav', '../Stimuli_Intensitätsmorphs/nm03_hap_w05_o_50_70dB.wav', '../Stimuli_Intensitätsmorphs/nm01_fea_w03_c_25_70dB.wav', '../Stimuli_Intensitätsmorphs/nm01_sur_w03_o_75_70dB.wav', '../Stimuli_Intensitätsmorphs/nf03_sur_w05_o_50_70dB.wav', '../Stimuli_Intensitätsmorphs/nm03_ang_w05_o_25_70dB.wav', '../Stimuli_Intensitätsmorphs/nf02_sad_w02_c_50_70dB.wav', '../Stimuli_Intensitätsmorphs/nf04_ang_w05_o_100_70dB.wav', '../Stimuli_Intensitätsmorphs/nf02_ang_w01_o_50_70dB.wav', '../Stimuli_Intensitätsmorphs/nf04_sad_w05_o_50_70dB.wav', '../Stimuli_Intensitätsmorphs/nf03_hap_w03_o_75_70dB.wav', '../Stimuli_Intensitätsmorphs/nf01_fea_w01_c_100_70dB.wav', '../Stimuli_Intensitätsmorphs/nm02_ang_w03_o_25_70dB.wav', '../Stimuli_Intensitätsmorphs/nf02_sad_w02_c_100_70dB.wav', '../Stimuli_Intensitätsmorphs/nf04_hap_w03_o_50_70dB.wav', '../Stimuli_Intensitätsmorphs/nf01_hap_w03_o_100_70dB.wav', '../Stimuli_Intensitätsmorphs/nf02_sur_w03_o_100_70dB.wav', '../Stimuli_Intensitätsmorphs/nf02_ang_w05_o_25_70dB.wav', '../Stimuli_Intensitätsmorphs/nm02_sad_w02_o_25_70dB.wav', '../Stimuli_Intensitätsmorphs/nm02_ang_w02_c_75_70dB.wav', '../Stimuli_Intensitätsmorphs/nm01_fea_w03_c_75_70dB.wav', '../Stimuli_Intensitätsmorphs/nm02_ang_w05_o_25_70dB.wav', '../Stimuli_Intensitätsmorphs/nf03_dis_w05_o_25_70dB.wav', '../Stimuli_Intensitätsmorphs/nf03_hap_w05_o_100_70dB.wav', '../Stimuli_Intensitätsmorphs/nm02_fea_w05_o_75_70dB.wav', '../Stimuli_Intensitätsmorphs/nf02_hap_w05_o_50_70dB.wav', '../Stimuli_Intensitätsmorphs/nf02_sur_w03_o_50_70dB.wav', '../Stimuli_Intensitätsmorphs/nf04_hap_w03_o_25_70dB.wav', '../Stimuli_Intensitätsmorphs/nf04_sad_w02_c_75_70dB.wav', '../Stimuli_Intensitätsmorphs/nm03_hap_w03_o_50_70dB.wav', '../Stimuli_Intensitätsmorphs/nm04_fea_w03_o_100_70dB.wav', '../Stimuli_Intensitätsmorphs/nm04_ang_w05_o_100_70dB.wav', '../Stimuli_Intensitätsmorphs/nm01_fea_w02_o_75_70dB.wav', '../Stimuli_Intensitätsmorphs/nf02_dis_w03_c_50_70dB.wav', '../Stimuli_Intensitätsmorphs/nf03_fea_w01_c_75_70dB.wav', '../Stimuli_Intensitätsmorphs/nm04_sad_w03_c_75_70dB.wav', '../Stimuli_Intensitätsmorphs/nf03_fea_w02_c_75_70dB.wav', '../Stimuli_Intensitätsmorphs/nm04_sad_w02_c_25_70dB.wav', '../Stimuli_Intensitätsmorphs/nm03_sad_w03_o_75_70dB.wav', '../Stimuli_Intensitätsmorphs/nm03_sad_w01_o_50_70dB.wav', '../Stimuli_Intensitätsmorphs/nm03_sad_w01_o_25_70dB.wav', '../Stimuli_Intensitätsmorphs/nm04_dis_w02_o_100_70dB.wav', '../Stimuli_Intensitätsmorphs/nm04_fea_w01_c_75_70dB.wav', '../Stimuli_Intensitätsmorphs/nm04_fea_w05_o_100_70dB.wav', '../Stimuli_Intensitätsmorphs/nf01_ang_w05_o_100_70dB.wav', '../Stimuli_Intensitätsmorphs/nm01_dis_w03_o_50_70dB.wav', '../Stimuli_Intensitätsmorphs/nf02_fea_w02_o_25_70dB.wav', '../Stimuli_Intensitätsmorphs/nf01_fea_w02_c_50_70dB.wav', '../Stimuli_Intensitätsmorphs/nf04_ang_w03_o_25_70dB.wav', '../Stimuli_Intensitätsmorphs/nf03_hap_w02_o_50_70dB.wav', '../Stimuli_Intensitätsmorphs/nm03_sad_w03_o_25_70dB.wav', '../Stimuli_Intensitätsmorphs/nm03_fea_w03_o_25_70dB.wav', '../Stimuli_Intensitätsmorphs/nm03_ang_w05_o_100_70dB.wav', '../Stimuli_Intensitätsmorphs/nm03_hap_w03_o_100_70dB.wav', '../Stimuli_Intensitätsmorphs/nm02_dis_w03_o_75_70dB.wav', '../Stimuli_Intensitätsmorphs/nm01_dis_w05_o_25_70dB.wav', '../Stimuli_Intensitätsmorphs/nm03_dis_w02_o_100_70dB.wav', '../Stimuli_Intensitätsmorphs/nm04_hap_w05_o_75_70dB.wav', '../Stimuli_Intensitätsmorphs/nm04_dis_w03_o_75_70dB.wav', '../Stimuli_Intensitätsmorphs/nf01_sur_w01_o_75_70dB.wav', '../Stimuli_Intensitätsmorphs/nm01_sur_w05_o_25_70dB.wav', '../Stimuli_Intensitätsmorphs/nm02_sad_w05_c_100_70dB.wav', '../Stimuli_Intensitätsmorphs/nf04_dis_w05_c_100_70dB.wav', '../Stimuli_Intensitätsmorphs/nm03_ang_w02_o_100_70dB.wav', '../Stimuli_Intensitätsmorphs/nm01_sad_w02_o_50_70dB.wav', '../Stimuli_Intensitätsmorphs/nm02_hap_w05_o_75_70dB.wav', '../Stimuli_Intensitätsmorphs/nm01_fea_w05_c_100_70dB.wav', '../Stimuli_Intensitätsmorphs/nm03_ang_w02_o_25_70dB.wav', '../Stimuli_Intensitätsmorphs/nf03_ang_w01_o_50_70dB.wav', '../Stimuli_Intensitätsmorphs/nf02_hap_w03_o_100_70dB.wav', '../Stimuli_Intensitätsmorphs/nf01_hap_w01_o_100_70dB.wav', '../Stimuli_Intensitätsmorphs/nm03_ang_w03_o_100_70dB.wav', '../Stimuli_Intensitätsmorphs/nm04_sad_w05_c_75_70dB.wav', '../Stimuli_Intensitätsmorphs/nf02_dis_w02_o_25_70dB.wav', '../Stimuli_Intensitätsmorphs/nm01_sur_w02_o_100_70dB.wav', '../Stimuli_Intensitätsmorphs/nm04_sur_w01_c_75_70dB.wav', '../Stimuli_Intensitätsmorphs/nf02_ang_w02_o_100_70dB.wav', '../Stimuli_Intensitätsmorphs/nf01_sur_w02_o_25_70dB.wav', '../Stimuli_Intensitätsmorphs/nf04_dis_w01_o_25_70dB.wav', '../Stimuli_Intensitätsmorphs/nf03_ang_w05_o_100_70dB.wav', '../Stimuli_Intensitätsmorphs/nm04_sad_w05_c_100_70dB.wav', '../Stimuli_Intensitätsmorphs/nf03_hap_w03_o_25_70dB.wav', '../Stimuli_Intensitätsmorphs/nm03_sur_w01_o_75_70dB.wav', '../Stimuli_Intensitätsmorphs/nm02_sad_w03_c_50_70dB.wav', '../Stimuli_Intensitätsmorphs/nf01_sur_w01_o_25_70dB.wav', '../Stimuli_Intensitätsmorphs/nm01_sur_w05_o_75_70dB.wav', '../Stimuli_Intensitätsmorphs/nf02_dis_w01_o_25_70dB.wav', '../Stimuli_Intensitätsmorphs/nf02_sur_w01_o_100_70dB.wav', '../Stimuli_Intensitätsmorphs/nm03_sur_w01_o_100_70dB.wav', '../Stimuli_Intensitätsmorphs/nm04_hap_w03_o_100_70dB.wav', '../Stimuli_Intensitätsmorphs/nm01_fea_w01_o_25_70dB.wav', '../Stimuli_Intensitätsmorphs/nf01_fea_w05_o_50_70dB.wav', '../Stimuli_Intensitätsmorphs/nm01_hap_w02_o_25_70dB.wav', '../Stimuli_Intensitätsmorphs/nm01_dis_w05_o_75_70dB.wav', '../Stimuli_Intensitätsmorphs/nf04_sad_w01_c_75_70dB.wav', '../Stimuli_Intensitätsmorphs/nm02_fea_w03_c_100_70dB.wav', '../Stimuli_Intensitätsmorphs/nm02_sur_w01_c_100_70dB.wav', '../Stimuli_Intensitätsmorphs/nm04_dis_w01_o_25_70dB.wav', '../Stimuli_Intensitätsmorphs/nm04_fea_w03_o_50_70dB.wav', '../Stimuli_Intensitätsmorphs/nf01_sur_w01_o_50_70dB.wav', '../Stimuli_Intensitätsmorphs/nm01_fea_w05_c_25_70dB.wav', '../Stimuli_Intensitätsmorphs/nf01_dis_w01_o_50_70dB.wav', '../Stimuli_Intensitätsmorphs/nm02_sur_w05_o_25_70dB.wav', '../Stimuli_Intensitätsmorphs/nm02_sur_w05_o_50_70dB.wav', '../Stimuli_Intensitätsmorphs/nm04_ang_w05_o_50_70dB.wav', '../Stimuli_Intensitätsmorphs/nm04_ang_w05_o_25_70dB.wav', '../Stimuli_Intensitätsmorphs/nm04_sad_w05_c_25_70dB.wav', '../Stimuli_Intensitätsmorphs/nf01_sur_w03_c_50_70dB.wav', '../Stimuli_Intensitätsmorphs/nf03_dis_w02_c_50_70dB.wav', '../Stimuli_Intensitätsmorphs/nm02_dis_w01_o_100_70dB.wav', '../Stimuli_Intensitätsmorphs/nf04_sur_w02_o_100_70dB.wav', '../Stimuli_Intensitätsmorphs/nf02_hap_w01_o_50_70dB.wav', '../Stimuli_Intensitätsmorphs/nm04_fea_w05_o_75_70dB.wav', '../Stimuli_Intensitätsmorphs/nf03_sad_w05_o_75_70dB.wav', '../Stimuli_Intensitätsmorphs/nf04_ang_w03_o_50_70dB.wav', '../Stimuli_Intensitätsmorphs/nm02_dis_w05_o_75_70dB.wav', '../Stimuli_Intensitätsmorphs/nf02_hap_w02_o_75_70dB.wav', '../Stimuli_Intensitätsmorphs/nm03_dis_w01_o_50_70dB.wav', '../Stimuli_Intensitätsmorphs/nf04_dis_w05_c_50_70dB.wav', '../Stimuli_Intensitätsmorphs/nf03_ang_w05_o_25_70dB.wav', '../Stimuli_Intensitätsmorphs/nf04_ang_w03_o_100_70dB.wav', '../Stimuli_Intensitätsmorphs/nm04_sad_w02_c_75_70dB.wav', '../Stimuli_Intensitätsmorphs/nf02_sur_w02_c_75_70dB.wav', '../Stimuli_Intensitätsmorphs/nf01_dis_w03_o_25_70dB.wav', '../Stimuli_Intensitätsmorphs/nm03_fea_w01_o_75_70dB.wav', '../Stimuli_Intensitätsmorphs/nm01_ang_w02_o_25_70dB.wav', '../Stimuli_Intensitätsmorphs/nf03_ang_w01_o_75_70dB.wav', '../Stimuli_Intensitätsmorphs/nf04_fea_w02_c_75_70dB.wav', '../Stimuli_Intensitätsmorphs/nf01_fea_w05_o_75_70dB.wav', '../Stimuli_Intensitätsmorphs/nf01_ang_w01_o_75_70dB.wav', '../Stimuli_Intensitätsmorphs/nf03_ang_w03_o_50_70dB.wav', '../Stimuli_Intensitätsmorphs/nf04_fea_w05_c_75_70dB.wav', '../Stimuli_Intensitätsmorphs/nf02_sur_w02_c_50_70dB.wav', '../Stimuli_Intensitätsmorphs/nf02_ang_w03_o_50_70dB.wav', '../Stimuli_Intensitätsmorphs/nf01_dis_w02_c_75_70dB.wav', '../Stimuli_Intensitätsmorphs/nf03_sur_w01_c_25_70dB.wav', '../Stimuli_Intensitätsmorphs/nf01_dis_w03_o_100_70dB.wav', '../Stimuli_Intensitätsmorphs/nm01_hap_w03_o_75_70dB.wav', '../Stimuli_Intensitätsmorphs/nf03_hap_w03_o_100_70dB.wav', '../Stimuli_Intensitätsmorphs/nf03_sad_w02_c_25_70dB.wav', '../Stimuli_Intensitätsmorphs/nm01_ang_w03_o_75_70dB.wav', '../Stimuli_Intensitätsmorphs/nm04_sad_w01_c_100_70dB.wav', '../Stimuli_Intensitätsmorphs/nf04_ang_w01_o_75_70dB.wav', '../Stimuli_Intensitätsmorphs/nf02_sur_w01_o_25_70dB.wav', '../Stimuli_Intensitätsmorphs/nm02_hap_w01_o_50_70dB.wav', '../Stimuli_Intensitätsmorphs/nf03_dis_w02_c_25_70dB.wav', '../Stimuli_Intensitätsmorphs/nf03_dis_w01_c_25_70dB.wav', '../Stimuli_Intensitätsmorphs/nm02_ang_w01_o_75_70dB.wav', '../Stimuli_Intensitätsmorphs/nf01_ang_w03_o_75_70dB.wav', '../Stimuli_Intensitätsmorphs/nm02_sur_w05_o_100_70dB.wav', '../Stimuli_Intensitätsmorphs/nf03_dis_w01_c_50_70dB.wav', '../Stimuli_Intensitätsmorphs/nf04_fea_w01_c_50_70dB.wav', '../Stimuli_Intensitätsmorphs/nf02_fea_w01_o_50_70dB.wav', '../Stimuli_Intensitätsmorphs/nm01_sad_w02_o_100_70dB.wav', '../Stimuli_Intensitätsmorphs/nf03_sur_w02_o_100_70dB.wav', '../Stimuli_Intensitätsmorphs/nf04_sad_w02_c_50_70dB.wav', '../Stimuli_Intensitätsmorphs/nf03_hap_w05_o_75_70dB.wav', '../Stimuli_Intensitätsmorphs/nf01_sur_w05_o_100_70dB.wav', '../Stimuli_Intensitätsmorphs/nm03_dis_w05_o_50_70dB.wav', '../Stimuli_Intensitätsmorphs/nm04_sur_w02_o_75_70dB.wav', '../Stimuli_Intensitätsmorphs/nf02_sad_w05_c_100_70dB.wav', '../Stimuli_Intensitätsmorphs/nf02_dis_w05_o_50_70dB.wav', '../Stimuli_Intensitätsmorphs/nm01_dis_w05_o_50_70dB.wav', '../Stimuli_Intensitätsmorphs/nm01_sad_w05_o_100_70dB.wav', '../Stimuli_Intensitätsmorphs/nm04_dis_w02_o_50_70dB.wav', '../Stimuli_Intensitätsmorphs/nm02_hap_w05_o_100_70dB.wav', '../Stimuli_Intensitätsmorphs/nm01_hap_w02_o_50_70dB.wav', '../Stimuli_Intensitätsmorphs/nf04_ang_w02_o_50_70dB.wav', '../Stimuli_Intensitätsmorphs/nf04_sad_w05_o_100_70dB.wav', '../Stimuli_Intensitätsmorphs/nf03_dis_w03_c_75_70dB.wav', '../Stimuli_Intensitätsmorphs/nf03_hap_w03_o_50_70dB.wav', '../Stimuli_Intensitätsmorphs/nf01_sad_w02_c_50_70dB.wav', '../Stimuli_Intensitätsmorphs/nf04_ang_w03_o_75_70dB.wav', '../Stimuli_Intensitätsmorphs/nm03_sur_w01_o_50_70dB.wav', '../Stimuli_Intensitätsmorphs/nf01_ang_w02_o_100_70dB.wav', '../Stimuli_Intensitätsmorphs/nm02_hap_w05_o_50_70dB.wav', '../Stimuli_Intensitätsmorphs/nm03_fea_w05_o_50_70dB.wav', '../Stimuli_Intensitätsmorphs/nm03_sad_w02_o_50_70dB.wav', '../Stimuli_Intensitätsmorphs/nm02_sur_w03_o_50_70dB.wav', '../Stimuli_Intensitätsmorphs/nf02_sur_w05_c_75_70dB.wav', '../Stimuli_Intensitätsmorphs/nf03_sad_w03_o_100_70dB.wav', '../Stimuli_Intensitätsmorphs/nf02_fea_w01_o_100_70dB.wav', '../Stimuli_Intensitätsmorphs/nm02_fea_w02_o_75_70dB.wav', '../Stimuli_Intensitätsmorphs/nf01_fea_w02_c_25_70dB.wav', '../Stimuli_Intensitätsmorphs/nm01_ang_w01_o_100_70dB.wav', '../Stimuli_Intensitätsmorphs/nf03_ang_w05_o_75_70dB.wav', '../Stimuli_Intensitätsmorphs/nm02_fea_w05_o_100_70dB.wav', '../Stimuli_Intensitätsmorphs/nm02_fea_w01_o_50_70dB.wav', '../Stimuli_Intensitätsmorphs/nm01_ang_w03_o_50_70dB.wav', '../Stimuli_Intensitätsmorphs/nf02_fea_w05_o_100_70dB.wav', '../Stimuli_Intensitätsmorphs/nf04_sur_w03_c_50_70dB.wav', '../Stimuli_Intensitätsmorphs/nf01_dis_w02_c_100_70dB.wav', '../Stimuli_Intensitätsmorphs/nm01_ang_w03_o_100_70dB.wav', '../Stimuli_Intensitätsmorphs/nf02_ang_w02_o_50_70dB.wav', '../Stimuli_Intensitätsmorphs/nm01_ang_w01_o_25_70dB.wav', '../Stimuli_Intensitätsmorphs/nm02_hap_w02_c_50_70dB.wav', '../Stimuli_Intensitätsmorphs/nf04_fea_w05_c_100_70dB.wav', '../Stimuli_Intensitätsmorphs/nf02_fea_w03_o_75_70dB.wav', '../Stimuli_Intensitätsmorphs/nf04_fea_w03_o_50_70dB.wav', '../Stimuli_Intensitätsmorphs/nm01_hap_w01_c_100_70dB.wav', '../Stimuli_Intensitätsmorphs/nf01_sur_w03_c_100_70dB.wav', '../Stimuli_Intensitätsmorphs/nf03_dis_w01_c_75_70dB.wav', '../Stimuli_Intensitätsmorphs/nm04_ang_w02_o_50_70dB.wav', '../Stimuli_Intensitätsmorphs/nf01_sur_w05_o_25_70dB.wav', '../Stimuli_Intensitätsmorphs/nf04_ang_w02_o_25_70dB.wav', '../Stimuli_Intensitätsmorphs/nm04_ang_w02_o_75_70dB.wav', '../Stimuli_Intensitätsmorphs/nf04_dis_w03_c_50_70dB.wav', '../Stimuli_Intensitätsmorphs/nm01_sur_w05_o_50_70dB.wav', '../Stimuli_Intensitätsmorphs/nf01_ang_w01_o_50_70dB.wav', '../Stimuli_Intensitätsmorphs/nf03_sur_w01_c_50_70dB.wav', '../Stimuli_Intensitätsmorphs/nm01_sad_w05_o_50_70dB.wav', '../Stimuli_Intensitätsmorphs/nf01_sad_w03_c_25_70dB.wav', '../Stimuli_Intensitätsmorphs/nm01_hap_w01_c_25_70dB.wav', '../Stimuli_Intensitätsmorphs/nf04_dis_w01_o_100_70dB.wav', '../Stimuli_Intensitätsmorphs/nf02_sur_w05_c_25_70dB.wav', '../Stimuli_Intensitätsmorphs/nm02_hap_w03_o_50_70dB.wav', '../Stimuli_Intensitätsmorphs/nf04_fea_w02_c_50_70dB.wav', '../Stimuli_Intensitätsmorphs/nm02_dis_w05_o_50_70dB.wav', '../Stimuli_Intensitätsmorphs/nm01_dis_w02_c_100_70dB.wav', '../Stimuli_Intensitätsmorphs/nm03_ang_w03_o_25_70dB.wav', '../Stimuli_Intensitätsmorphs/nm04_ang_w01_o_25_70dB.wav', '../Stimuli_Intensitätsmorphs/nm04_dis_w01_o_75_70dB.wav', '../Stimuli_Intensitätsmorphs/nm03_fea_w03_o_100_70dB.wav', '../Stimuli_Intensitätsmorphs/nm04_sad_w03_c_25_70dB.wav', '../Stimuli_Intensitätsmorphs/nf04_dis_w02_o_100_70dB.wav', '../Stimuli_Intensitätsmorphs/nf01_dis_w01_o_25_70dB.wav', '../Stimuli_Intensitätsmorphs/nf04_sad_w05_o_25_70dB.wav', '../Stimuli_Intensitätsmorphs/nm03_hap_w05_o_100_70dB.wav', '../Stimuli_Intensitätsmorphs/nf02_dis_w01_o_75_70dB.wav', '../Stimuli_Intensitätsmorphs/nm04_hap_w01_o_25_70dB.wav', '../Stimuli_Intensitätsmorphs/nm03_ang_w03_o_50_70dB.wav', '../Stimuli_Intensitätsmorphs/nm01_sur_w02_o_50_70dB.wav', '../Stimuli_Intensitätsmorphs/nm02_hap_w01_o_100_70dB.wav', '../Stimuli_Intensitätsmorphs/nm01_fea_w01_o_100_70dB.wav', '../Stimuli_Intensitätsmorphs/nf03_fea_w02_c_50_70dB.wav', '../Stimuli_Intensitätsmorphs/nf04_fea_w01_c_100_70dB.wav', '../Stimuli_Intensitätsmorphs/nf01_dis_w03_o_75_70dB.wav', '../Stimuli_Intensitätsmorphs/nm01_ang_w01_o_75_70dB.wav', '../Stimuli_Intensitätsmorphs/nm01_dis_w03_o_25_70dB.wav', '../Stimuli_Intensitätsmorphs/nf02_sad_w03_c_25_70dB.wav', '../Stimuli_Intensitätsmorphs/nm04_fea_w01_c_25_70dB.wav', '../Stimuli_Intensitätsmorphs/nm03_fea_w03_o_75_70dB.wav', '../Stimuli_Intensitätsmorphs/nm04_sur_w03_o_100_70dB.wav', '../Stimuli_Intensitätsmorphs/nf02_sad_w05_c_75_70dB.wav', '../Stimuli_Intensitätsmorphs/nf01_sad_w05_o_100_70dB.wav', '../Stimuli_Intensitätsmorphs/nm03_fea_w02_o_25_70dB.wav', '../Stimuli_Intensitätsmorphs/nm03_fea_w02_o_75_70dB.wav', '../Stimuli_Intensitätsmorphs/nf01_dis_w05_o_75_70dB.wav', '../Stimuli_Intensitätsmorphs/nf04_sad_w01_c_50_70dB.wav', '../Stimuli_Intensitätsmorphs/nf02_fea_w03_o_100_70dB.wav', '../Stimuli_Intensitätsmorphs/nf04_hap_w05_o_100_70dB.wav', '../Stimuli_Intensitätsmorphs/nf02_ang_w01_o_100_70dB.wav', '../Stimuli_Intensitätsmorphs/nf04_ang_w05_o_50_70dB.wav', '../Stimuli_Intensitätsmorphs/nm03_dis_w05_o_100_70dB.wav', '../Stimuli_Intensitätsmorphs/nm01_hap_w05_o_100_70dB.wav', '../Stimuli_Intensitätsmorphs/nm02_sur_w02_o_75_70dB.wav', '../Stimuli_Intensitätsmorphs/nf01_ang_w05_o_75_70dB.wav', '../Stimuli_Intensitätsmorphs/nf03_sur_w02_o_50_70dB.wav', '../Stimuli_Intensitätsmorphs/nf04_hap_w03_o_75_70dB.wav', '../Stimuli_Intensitätsmorphs/nf04_sad_w03_o_75_70dB.wav', '../Stimuli_Intensitätsmorphs/nm04_sur_w03_o_25_70dB.wav', '../Stimuli_Intensitätsmorphs/nf02_fea_w03_o_25_70dB.wav', '../Stimuli_Intensitätsmorphs/nf02_ang_w05_o_50_70dB.wav', '../Stimuli_Intensitätsmorphs/nm03_dis_w01_o_25_70dB.wav', '../Stimuli_Intensitätsmorphs/nm02_hap_w03_o_100_70dB.wav', '../Stimuli_Intensitätsmorphs/nm01_sad_w03_c_75_70dB.wav', '../Stimuli_Intensitätsmorphs/nf01_fea_w01_c_50_70dB.wav', '../Stimuli_Intensitätsmorphs/nm03_fea_w05_o_75_70dB.wav', '../Stimuli_Intensitätsmorphs/nm03_sur_w02_o_25_70dB.wav', '../Stimuli_Intensitätsmorphs/nf02_dis_w02_o_75_70dB.wav', '../Stimuli_Intensitätsmorphs/nf02_fea_w02_o_75_70dB.wav', '../Stimuli_Intensitätsmorphs/nf04_sad_w03_o_100_70dB.wav', '../Stimuli_Intensitätsmorphs/nf02_fea_w05_o_25_70dB.wav', '../Stimuli_Intensitätsmorphs/nm04_fea_w02_c_25_70dB.wav', '../Stimuli_Intensitätsmorphs/nf01_ang_w03_o_25_70dB.wav', '../Stimuli_Intensitätsmorphs/nf03_sad_w01_o_100_70dB.wav', '../Stimuli_Intensitätsmorphs/nm03_sur_w05_c_75_70dB.wav', '../Stimuli_Intensitätsmorphs/nf01_dis_w02_c_25_70dB.wav', '../Stimuli_Intensitätsmorphs/nf04_sur_w02_o_50_70dB.wav', '../Stimuli_Intensitätsmorphs/nm02_ang_w01_o_25_70dB.wav', '../Stimuli_Intensitätsmorphs/nf01_sur_w03_c_25_70dB.wav', '../Stimuli_Intensitätsmorphs/nf04_ang_w01_o_50_70dB.wav', '../Stimuli_Intensitätsmorphs/nf01_fea_w05_o_25_70dB.wav', '../Stimuli_Intensitätsmorphs/nf02_sur_w01_o_50_70dB.wav', '../Stimuli_Intensitätsmorphs/nm04_dis_w02_o_25_70dB.wav', '../Stimuli_Intensitätsmorphs/nf03_dis_w05_o_75_70dB.wav', '../Stimuli_Intensitätsmorphs/nm01_sad_w01_c_25_70dB.wav', '../Stimuli_Intensitätsmorphs/nm04_hap_w02_o_50_70dB.wav', '../Stimuli_Intensitätsmorphs/nf04_sad_w02_c_100_70dB.wav', '../Stimuli_Intensitätsmorphs/nf03_ang_w01_o_100_70dB.wav', '../Stimuli_Intensitätsmorphs/nm01_sad_w03_c_25_70dB.wav', '../Stimuli_Intensitätsmorphs/nm01_sad_w03_c_50_70dB.wav', '../Stimuli_Intensitätsmorphs/nf02_sad_w01_c_50_70dB.wav', '../Stimuli_Intensitätsmorphs/nm03_sad_w05_c_25_70dB.wav', '../Stimuli_Intensitätsmorphs/nm02_sur_w03_o_75_70dB.wav', '../Stimuli_Intensitätsmorphs/nf03_sur_w01_c_100_70dB.wav', '../Stimuli_Intensitätsmorphs/nm01_sur_w03_o_25_70dB.wav', '../Stimuli_Intensitätsmorphs/nf01_fea_w03_c_50_70dB.wav', '../Stimuli_Intensitätsmorphs/nf02_sur_w03_o_25_70dB.wav', '../Stimuli_Intensitätsmorphs/nm04_sur_w03_o_75_70dB.wav', '../Stimuli_Intensitätsmorphs/nf02_sad_w03_c_75_70dB.wav', '../Stimuli_Intensitätsmorphs/nf01_sad_w05_o_75_70dB.wav', '../Stimuli_Intensitätsmorphs/nf03_sad_w05_o_100_70dB.wav', '../Stimuli_Intensitätsmorphs/nf02_ang_w02_o_25_70dB.wav', '../Stimuli_Intensitätsmorphs/nm04_sad_w01_c_25_70dB.wav', '../Stimuli_Intensitätsmorphs/nf01_hap_w03_o_50_70dB.wav', '../Stimuli_Intensitätsmorphs/nf02_dis_w01_o_50_70dB.wav', '../Stimuli_Intensitätsmorphs/nm01_sur_w03_o_50_70dB.wav', '../Stimuli_Intensitätsmorphs/nf04_hap_w05_o_25_70dB.wav', '../Stimuli_Intensitätsmorphs/nm04_hap_w05_o_25_70dB.wav', '../Stimuli_Intensitätsmorphs/nm03_sad_w02_o_25_70dB.wav', '../Stimuli_Intensitätsmorphs/nf01_ang_w02_o_75_70dB.wav', '../Stimuli_Intensitätsmorphs/nm04_hap_w02_o_75_70dB.wav', '../Stimuli_Intensitätsmorphs/nm02_fea_w03_c_75_70dB.wav', '../Stimuli_Intensitätsmorphs/nm01_sur_w02_o_25_70dB.wav', '../Stimuli_Intensitätsmorphs/nm03_fea_w01_o_25_70dB.wav', '../Stimuli_Intensitätsmorphs/nm04_fea_w02_c_100_70dB.wav', '../Stimuli_Intensitätsmorphs/nm04_ang_w03_o_50_70dB.wav', '../Stimuli_Intensitätsmorphs/nm04_sur_w02_o_100_70dB.wav', '../Stimuli_Intensitätsmorphs/nf01_hap_w01_o_25_70dB.wav', '../Stimuli_Intensitätsmorphs/nf02_dis_w02_o_100_70dB.wav', '../Stimuli_Intensitätsmorphs/nf03_fea_w03_c_50_70dB.wav', '../Stimuli_Intensitätsmorphs/nm01_hap_w05_o_75_70dB.wav', '../Stimuli_Intensitätsmorphs/nm01_hap_w01_c_50_70dB.wav', '../Stimuli_Intensitätsmorphs/nm02_dis_w01_o_50_70dB.wav', '../Stimuli_Intensitätsmorphs/nf03_sad_w01_o_50_70dB.wav', '../Stimuli_Intensitätsmorphs/nm01_hap_w03_o_25_70dB.wav', '../Stimuli_Intensitätsmorphs/nm02_fea_w01_o_100_70dB.wav', '../Stimuli_Intensitätsmorphs/nf02_sad_w02_c_75_70dB.wav', '../Stimuli_Intensitätsmorphs/nm04_hap_w05_o_50_70dB.wav', '../Stimuli_Intensitätsmorphs/nm02_sur_w03_o_100_70dB.wav', '../Stimuli_Intensitätsmorphs/nf01_sad_w01_c_100_70dB.wav', '../Stimuli_Intensitätsmorphs/nf03_dis_w05_o_100_70dB.wav', '../Stimuli_Intensitätsmorphs/nm03_dis_w02_o_50_70dB.wav', '../Stimuli_Intensitätsmorphs/nf01_ang_w01_o_100_70dB.wav', '../Stimuli_Intensitätsmorphs/nf03_sad_w02_c_50_70dB.wav', '../Stimuli_Intensitätsmorphs/nm02_hap_w02_c_75_70dB.wav', '../Stimuli_Intensitätsmorphs/nm04_sur_w01_c_25_70dB.wav', '../Stimuli_Intensitätsmorphs/nm03_hap_w01_o_50_70dB.wav', '../Stimuli_Intensitätsmorphs/nf04_dis_w03_c_75_70dB.wav', '../Stimuli_Intensitätsmorphs/nm03_sad_w03_o_100_70dB.wav', '../Stimuli_Intensitätsmorphs/nm04_ang_w01_o_50_70dB.wav', '../Stimuli_Intensitätsmorphs/nm03_sur_w01_o_25_70dB.wav', '../Stimuli_Intensitätsmorphs/nf01_fea_w05_o_100_70dB.wav', '../Stimuli_Intensitätsmorphs/nf03_sur_w02_o_25_70dB.wav', '../Stimuli_Intensitätsmorphs/nf02_sad_w01_c_75_70dB.wav', '../Stimuli_Intensitätsmorphs/nf04_sad_w03_o_50_70dB.wav', '../Stimuli_Intensitätsmorphs/nm03_fea_w02_o_50_70dB.wav', '../Stimuli_Intensitätsmorphs/nf01_dis_w01_o_100_70dB.wav', '../Stimuli_Intensitätsmorphs/nm02_dis_w02_o_100_70dB.wav', '../Stimuli_Intensitätsmorphs/nm03_sur_w03_o_75_70dB.wav', '../Stimuli_Intensitätsmorphs/nf03_ang_w02_o_50_70dB.wav', '../Stimuli_Intensitätsmorphs/nm04_fea_w03_o_25_70dB.wav', '../Stimuli_Intensitätsmorphs/nm02_ang_w01_o_50_70dB.wav', '../Stimuli_Intensitätsmorphs/nf03_hap_w02_o_25_70dB.wav', '../Stimuli_Intensitätsmorphs/nm04_ang_w02_o_100_70dB.wav', '../Stimuli_Intensitätsmorphs/nm01_hap_w01_c_75_70dB.wav', '../Stimuli_Intensitätsmorphs/nm01_dis_w02_c_25_70dB.wav', '../Stimuli_Intensitätsmorphs/nf04_sur_w05_o_25_70dB.wav', '../Stimuli_Intensitätsmorphs/nf01_hap_w03_o_25_70dB.wav', '../Stimuli_Intensitätsmorphs/nm02_hap_w01_o_25_70dB.wav', '../Stimuli_Intensitätsmorphs/nm02_dis_w03_o_25_70dB.wav', '../Stimuli_Intensitätsmorphs/nf03_ang_w03_o_25_70dB.wav', '../Stimuli_Intensitätsmorphs/nf03_ang_w02_o_25_70dB.wav', '../Stimuli_Intensitätsmorphs/nm04_fea_w01_c_100_70dB.wav', '../Stimuli_Intensitätsmorphs/nf04_sur_w05_o_100_70dB.wav', '../Stimuli_Intensitätsmorphs/nm04_dis_w03_o_50_70dB.wav', '../Stimuli_Intensitätsmorphs/nm03_sur_w05_c_100_70dB.wav', '../Stimuli_Intensitätsmorphs/nf01_hap_w02_o_25_70dB.wav', '../Stimuli_Intensitätsmorphs/nf02_dis_w02_o_50_70dB.wav', '../Stimuli_Intensitätsmorphs/nm04_sad_w02_c_100_70dB.wav', '../Stimuli_Intensitätsmorphs/nm03_sur_w03_o_100_70dB.wav', '../Stimuli_Intensitätsmorphs/nm04_dis_w05_o_75_70dB.wav', '../Stimuli_Intensitätsmorphs/nm03_ang_w05_o_50_70dB.wav', '../Stimuli_Intensitätsmorphs/nm03_hap_w03_o_25_70dB.wav', '../Stimuli_Intensitätsmorphs/nm02_sur_w03_o_25_70dB.wav', '../Stimuli_Intensitätsmorphs/nm04_dis_w05_o_100_70dB.wav', '../Stimuli_Intensitätsmorphs/nm04_sad_w05_c_50_70dB.wav', '../Stimuli_Intensitätsmorphs/nf04_ang_w05_o_75_70dB.wav', '../Stimuli_Intensitätsmorphs/nf01_ang_w05_o_25_70dB.wav', '../Stimuli_Intensitätsmorphs/nm02_sad_w02_o_75_70dB.wav', '../Stimuli_Intensitätsmorphs/nm03_hap_w02_c_75_70dB.wav', '../Stimuli_Intensitätsmorphs/nf03_hap_w01_o_50_70dB.wav', '../Stimuli_Intensitätsmorphs/nm02_hap_w03_o_25_70dB.wav', '../Stimuli_Intensitätsmorphs/nf02_hap_w01_o_100_70dB.wav', '../Stimuli_Intensitätsmorphs/nf04_fea_w02_c_100_70dB.wav', '../Stimuli_Intensitätsmorphs/nm02_sur_w02_o_25_70dB.wav', '../Stimuli_Intensitätsmorphs/nf04_hap_w05_o_50_70dB.wav', '../Stimuli_Intensitätsmorphs/nf01_sur_w01_o_100_70dB.wav', '../Stimuli_Intensitätsmorphs/nm02_fea_w02_o_25_70dB.wav', '../Stimuli_Intensitätsmorphs/nm04_hap_w03_o_75_70dB.wav', '../Stimuli_Intensitätsmorphs/nm04_dis_w03_o_100_70dB.wav', '../Stimuli_Intensitätsmorphs/nf04_sur_w01_o_50_70dB.wav', '../Stimuli_Intensitätsmorphs/nm03_dis_w03_o_25_70dB.wav', '../Stimuli_Intensitätsmorphs/nm02_dis_w02_o_75_70dB.wav', '../Stimuli_Intensitätsmorphs/nf02_sad_w03_c_50_70dB.wav', '../Stimuli_Intensitätsmorphs/nm01_ang_w05_o_100_70dB.wav', '../Stimuli_Intensitätsmorphs/nf02_sad_w05_c_50_70dB.wav', '../Stimuli_Intensitätsmorphs/nf04_sad_w01_c_100_70dB.wav', '../Stimuli_Intensitätsmorphs/nf03_hap_w01_o_100_70dB.wav', '../Stimuli_Intensitätsmorphs/nm04_hap_w02_o_100_70dB.wav', '../Stimuli_Intensitätsmorphs/nf01_sur_w05_o_50_70dB.wav', '../Stimuli_Intensitätsmorphs/nm02_dis_w05_o_25_70dB.wav', '../Stimuli_Intensitätsmorphs/nf03_dis_w03_c_25_70dB.wav', '../Stimuli_Intensitätsmorphs/nm03_dis_w02_o_75_70dB.wav', '../Stimuli_Intensitätsmorphs/nf04_ang_w02_o_100_70dB.wav', '../Stimuli_Intensitätsmorphs/nm03_sur_w02_o_100_70dB.wav', '../Stimuli_Intensitätsmorphs/nm02_fea_w01_o_75_70dB.wav', '../Stimuli_Intensitätsmorphs/nm02_fea_w05_o_25_70dB.wav', '../Stimuli_Intensitätsmorphs/nf01_hap_w05_o_75_70dB.wav', '../Stimuli_Intensitätsmorphs/nm02_fea_w03_c_25_70dB.wav', '../Stimuli_Intensitätsmorphs/nf04_ang_w01_o_25_70dB.wav', '../Stimuli_Intensitätsmorphs/nf01_hap_w02_o_50_70dB.wav', '../Stimuli_Intensitätsmorphs/nf04_sad_w03_o_25_70dB.wav', '../Stimuli_Intensitätsmorphs/nm03_hap_w02_c_50_70dB.wav', '../Stimuli_Intensitätsmorphs/nm04_ang_w05_o_75_70dB.wav', '../Stimuli_Intensitätsmorphs/nf02_hap_w02_o_100_70dB.wav', '../Stimuli_Intensitätsmorphs/nf02_fea_w05_o_50_70dB.wav', '../Stimuli_Intensitätsmorphs/nm03_ang_w02_o_75_70dB.wav', '../Stimuli_Intensitätsmorphs/nf02_sur_w02_c_25_70dB.wav', '../Stimuli_Intensitätsmorphs/nf02_sur_w01_o_75_70dB.wav', '../Stimuli_Intensitätsmorphs/nm03_ang_w02_o_50_70dB.wav', '../Stimuli_Intensitätsmorphs/nm01_fea_w01_o_75_70dB.wav', '../Stimuli_Intensitätsmorphs/nm03_dis_w03_o_50_70dB.wav', '../Stimuli_Intensitätsmorphs/nm03_dis_w03_o_100_70dB.wav', '../Stimuli_Intensitätsmorphs/nf01_sur_w05_o_75_70dB.wav', '../Stimuli_Intensitätsmorphs/nm02_sur_w01_c_50_70dB.wav', '../Stimuli_Intensitätsmorphs/nf04_fea_w03_o_25_70dB.wav', '../Stimuli_Intensitätsmorphs/nm04_hap_w03_o_50_70dB.wav', '../Stimuli_Intensitätsmorphs/nm04_sur_w05_o_75_70dB.wav', '../Stimuli_Intensitätsmorphs/nf02_ang_w03_o_75_70dB.wav', '../Stimuli_Intensitätsmorphs/nm01_sur_w01_o_75_70dB.wav', '../Stimuli_Intensitätsmorphs/nm02_fea_w01_o_25_70dB.wav', '../Stimuli_Intensitätsmorphs/nf01_dis_w05_o_25_70dB.wav', '../Stimuli_Intensitätsmorphs/nf03_ang_w02_o_100_70dB.wav', '../Stimuli_Intensitätsmorphs/nm01_ang_w03_o_25_70dB.wav', '../Stimuli_Intensitätsmorphs/nf01_hap_w02_o_100_70dB.wav', '../Stimuli_Intensitätsmorphs/nm01_sad_w02_o_25_70dB.wav', '../Stimuli_Intensitätsmorphs/nm03_sur_w05_c_50_70dB.wav', '../Stimuli_Intensitätsmorphs/nm01_dis_w02_c_75_70dB.wav', '../Stimuli_Intensitätsmorphs/nf03_sad_w02_c_100_70dB.wav', '../Stimuli_Intensitätsmorphs/nm03_sad_w01_o_100_70dB.wav', '../Stimuli_Intensitätsmorphs/nf02_sad_w05_c_25_70dB.wav', '../Stimuli_Intensitätsmorphs/nf01_sad_w02_c_25_70dB.wav', '../Stimuli_Intensitätsmorphs/nm02_ang_w03_o_100_70dB.wav', '../Stimuli_Intensitätsmorphs/nm04_dis_w01_o_50_70dB.wav', '../Stimuli_Intensitätsmorphs/nf03_fea_w02_c_25_70dB.wav', '../Stimuli_Intensitätsmorphs/nf01_ang_w03_o_100_70dB.wav', '../Stimuli_Intensitätsmorphs/nm03_sad_w02_o_100_70dB.wav', '../Stimuli_Intensitätsmorphs/nm01_ang_w02_o_100_70dB.wav', '../Stimuli_Intensitätsmorphs/nf01_hap_w01_o_50_70dB.wav', '../Stimuli_Intensitätsmorphs/nm02_ang_w05_o_50_70dB.wav', '../Stimuli_Intensitätsmorphs/nm04_hap_w01_o_50_70dB.wav', '../Stimuli_Intensitätsmorphs/nm03_dis_w05_o_25_70dB.wav', '../Stimuli_Intensitätsmorphs/nm04_sur_w05_o_100_70dB.wav', '../Stimuli_Intensitätsmorphs/nm03_sad_w05_c_75_70dB.wav', '../Stimuli_Intensitätsmorphs/nm03_dis_w05_o_75_70dB.wav', '../Stimuli_Intensitätsmorphs/nf04_sur_w02_o_25_70dB.wav', '../Stimuli_Intensitätsmorphs/nm03_fea_w05_o_100_70dB.wav', '../Stimuli_Intensitätsmorphs/nm03_hap_w03_o_75_70dB.wav', '../Stimuli_Intensitätsmorphs/nm04_ang_w02_o_25_70dB.wav', '../Stimuli_Intensitätsmorphs/nm03_sad_w02_o_75_70dB.wav', '../Stimuli_Intensitätsmorphs/nf02_dis_w05_o_75_70dB.wav', '../Stimuli_Intensitätsmorphs/nf02_ang_w03_o_100_70dB.wav', '../Stimuli_Intensitätsmorphs/nf03_sur_w01_c_75_70dB.wav', '../Stimuli_Intensitätsmorphs/nm02_sad_w02_o_100_70dB.wav', '../Stimuli_Intensitätsmorphs/nm04_ang_w01_o_100_70dB.wav', '../Stimuli_Intensitätsmorphs/nf02_dis_w05_o_25_70dB.wav', '../Stimuli_Intensitätsmorphs/nf02_fea_w02_o_100_70dB.wav', '../Stimuli_Intensitätsmorphs/nf03_sad_w03_o_25_70dB.wav', '../Stimuli_Intensitätsmorphs/nm04_hap_w05_o_100_70dB.wav', '../Stimuli_Intensitätsmorphs/nm04_dis_w03_o_25_70dB.wav', '../Stimuli_Intensitätsmorphs/nm01_fea_w03_c_50_70dB.wav', '../Stimuli_Intensitätsmorphs/nm01_dis_w05_o_100_70dB.wav', '../Stimuli_Intensitätsmorphs/nm03_hap_w01_o_25_70dB.wav', '../Stimuli_Intensitätsmorphs/nf01_hap_w05_o_100_70dB.wav', '../Stimuli_Intensitätsmorphs/nm02_ang_w02_c_100_70dB.wav', '../Stimuli_Intensitätsmorphs/nm02_sur_w02_o_50_70dB.wav', '../Stimuli_Intensitätsmorphs/nm01_ang_w05_o_25_70dB.wav', '../Stimuli_Intensitätsmorphs/nf03_fea_w03_c_100_70dB.wav', '../Stimuli_Intensitätsmorphs/nf01_sad_w03_c_75_70dB.wav', '../Stimuli_Intensitätsmorphs/nf04_fea_w01_c_75_70dB.wav', '../Stimuli_Intensitätsmorphs/nf04_dis_w01_o_75_70dB.wav', '../Stimuli_Intensitätsmorphs/nm04_hap_w03_o_25_70dB.wav', '../Stimuli_Intensitätsmorphs/nm01_ang_w05_o_50_70dB.wav', '../Stimuli_Intensitätsmorphs/nm03_sur_w03_o_25_70dB.wav', '../Stimuli_Intensitätsmorphs/nf01_fea_w01_c_75_70dB.wav', '../Stimuli_Intensitätsmorphs/nm02_hap_w02_c_25_70dB.wav', '../Stimuli_Intensitätsmorphs/nf03_sur_w05_o_75_70dB.wav', '../Stimuli_Intensitätsmorphs/nm02_ang_w02_c_50_70dB.wav', '../Stimuli_Intensitätsmorphs/nf03_sad_w03_o_75_70dB.wav', '../Stimuli_Intensitätsmorphs/nm01_sur_w01_o_25_70dB.wav', '../Stimuli_Intensitätsmorphs/nm03_fea_w01_o_100_70dB.wav', '../Stimuli_Intensitätsmorphs/nf03_fea_w01_c_25_70dB.wav', '../Stimuli_Intensitätsmorphs/nm04_ang_w03_o_25_70dB.wav', '../Stimuli_Intensitätsmorphs/nm04_sur_w03_o_50_70dB.wav', '../Stimuli_Intensitätsmorphs/nf04_sad_w01_c_25_70dB.wav', '../Stimuli_Intensitätsmorphs/nf03_sur_w03_c_75_70dB.wav', '../Stimuli_Intensitätsmorphs/nm01_fea_w05_c_50_70dB.wav', '../Stimuli_Intensitätsmorphs/nm03_dis_w03_o_75_70dB.wav', '../Stimuli_Intensitätsmorphs/nf02_dis_w03_c_100_70dB.wav', '../Stimuli_Intensitätsmorphs/nm02_fea_w03_c_50_70dB.wav', '../Stimuli_Intensitätsmorphs/nm01_fea_w02_o_100_70dB.wav', '../Stimuli_Intensitätsmorphs/nf02_sur_w05_c_100_70dB.wav', '../Stimuli_Intensitätsmorphs/nf04_sur_w05_o_75_70dB.wav', '../Stimuli_Intensitätsmorphs/nf03_fea_w03_c_25_70dB.wav', '../Stimuli_Intensitätsmorphs/nf01_dis_w01_o_75_70dB.wav', '../Stimuli_Intensitätsmorphs/nf02_fea_w01_o_25_70dB.wav', '../Stimuli_Intensitätsmorphs/nf04_sad_w05_o_75_70dB.wav', '../Stimuli_Intensitätsmorphs/nf03_sur_w05_o_25_70dB.wav', '../Stimuli_Intensitätsmorphs/nf02_hap_w03_o_25_70dB.wav', '../Stimuli_Intensitätsmorphs/nf01_sur_w02_o_75_70dB.wav', '../Stimuli_Intensitätsmorphs/nm02_sad_w03_c_100_70dB.wav', '../Stimuli_Intensitätsmorphs/nf02_fea_w02_o_50_70dB.wav', '../Stimuli_Intensitätsmorphs/nf03_dis_w01_c_100_70dB.wav', '../Stimuli_Intensitätsmorphs/nf04_dis_w03_c_25_70dB.wav', '../Stimuli_Intensitätsmorphs/nf04_fea_w05_c_50_70dB.wav', '../Stimuli_Intensitätsmorphs/nm01_sur_w02_o_75_70dB.wav', '../Stimuli_Intensitätsmorphs/nf03_ang_w03_o_100_70dB.wav', '../Stimuli_Intensitätsmorphs/nm01_dis_w01_o_75_70dB.wav', '../Stimuli_Intensitätsmorphs/nm04_sad_w02_c_50_70dB.wav', '../Stimuli_Intensitätsmorphs/nm03_ang_w01_o_50_70dB.wav', '../Stimuli_Intensitätsmorphs/nm03_sur_w02_o_50_70dB.wav', '../Stimuli_Intensitätsmorphs/nm01_fea_w02_o_25_70dB.wav', '../Stimuli_Intensitätsmorphs/nm03_ang_w03_o_75_70dB.wav', '../Stimuli_Intensitätsmorphs/nf03_dis_w05_o_50_70dB.wav', '../Stimuli_Intensitätsmorphs/nf03_ang_w01_o_25_70dB.wav', '../Stimuli_Intensitätsmorphs/nm02_ang_w02_c_25_70dB.wav', '../Stimuli_Intensitätsmorphs/nf03_sur_w05_o_100_70dB.wav', '../Stimuli_Intensitätsmorphs/nm02_sad_w05_c_25_70dB.wav', '../Stimuli_Intensitätsmorphs/nf04_sur_w01_o_25_70dB.wav', '../Stimuli_Intensitätsmorphs/nm04_sur_w05_o_50_70dB.wav', '../Stimuli_Intensitätsmorphs/nm01_hap_w02_o_100_70dB.wav', '../Stimuli_Intensitätsmorphs/nf01_ang_w02_o_25_70dB.wav', '../Stimuli_Intensitätsmorphs/nm01_sad_w01_c_75_70dB.wav', '../Stimuli_Intensitätsmorphs/nf04_fea_w03_o_100_70dB.wav', '../Stimuli_Intensitätsmorphs/nm03_sur_w02_o_75_70dB.wav', '../Stimuli_Intensitätsmorphs/nm03_dis_w02_o_25_70dB.wav', '../Stimuli_Intensitätsmorphs/nf03_sad_w01_o_75_70dB.wav', '../Stimuli_Intensitätsmorphs/nf02_ang_w05_o_75_70dB.wav', '../Stimuli_Intensitätsmorphs/nf04_sur_w05_o_50_70dB.wav', '../Stimuli_Intensitätsmorphs/nf02_ang_w01_o_25_70dB.wav', '../Stimuli_Intensitätsmorphs/nm02_sad_w05_c_75_70dB.wav', '../Stimuli_Intensitätsmorphs/nf04_dis_w02_o_25_70dB.wav', '../Stimuli_Intensitätsmorphs/nm04_fea_w02_c_75_70dB.wav', '../Stimuli_Intensitätsmorphs/nm04_ang_w03_o_75_70dB.wav', '../Stimuli_Intensitätsmorphs/nm03_ang_w05_o_75_70dB.wav', '../Stimuli_Intensitätsmorphs/nm01_fea_w03_c_100_70dB.wav', '../Stimuli_Intensitätsmorphs/nf02_hap_w05_o_25_70dB.wav', '../Stimuli_Intensitätsmorphs/nm02_dis_w03_o_100_70dB.wav', '../Stimuli_Intensitätsmorphs/nf04_fea_w02_c_25_70dB.wav', '../Stimuli_Intensitätsmorphs/nm04_hap_w01_o_75_70dB.wav', '../Stimuli_Intensitätsmorphs/nm02_dis_w02_o_50_70dB.wav', '../Stimuli_Intensitätsmorphs/nf01_dis_w02_c_50_70dB.wav', '../Stimuli_Intensitätsmorphs/nf02_hap_w03_o_50_70dB.wav', '../Stimuli_Intensitätsmorphs/nf02_ang_w02_o_75_70dB.wav', '../Stimuli_Intensitätsmorphs/nm02_sad_w01_o_75_70dB.wav', '../Stimuli_Intensitätsmorphs/nf02_fea_w01_o_75_70dB.wav', '../Stimuli_Intensitätsmorphs/nm01_sur_w05_o_100_70dB.wav', '../Stimuli_Intensitätsmorphs/nm01_sad_w05_o_75_70dB.wav', '../Stimuli_Intensitätsmorphs/nf03_dis_w02_c_75_70dB.wav', '../Stimuli_Intensitätsmorphs/nf03_ang_w05_o_50_70dB.wav', '../Stimuli_Intensitätsmorphs/nf01_hap_w03_o_75_70dB.wav', '../Stimuli_Intensitätsmorphs/nf02_sur_w05_c_50_70dB.wav', '../Stimuli_Intensitätsmorphs/nm01_hap_w05_o_50_70dB.wav', '../Stimuli_Intensitätsmorphs/nm02_sad_w01_o_50_70dB.wav', '../Stimuli_Intensitätsmorphs/nf02_hap_w05_o_100_70dB.wav', '../Stimuli_Intensitätsmorphs/nf02_sur_w03_o_75_70dB.wav', '../Stimuli_Intensitätsmorphs/nm04_sad_w01_c_75_70dB.wav', '../Stimuli_Intensitätsmorphs/nf02_ang_w01_o_75_70dB.wav', '../Stimuli_Intensitätsmorphs/nm04_ang_w03_o_100_70dB.wav', '../Stimuli_Intensitätsmorphs/nm01_sad_w05_o_25_70dB.wav', '../Stimuli_Intensitätsmorphs/nm03_fea_w02_o_100_70dB.wav', '../Stimuli_Intensitätsmorphs/nf03_sur_w03_c_25_70dB.wav', '../Stimuli_Intensitätsmorphs/nm02_sur_w05_o_75_70dB.wav', '../Stimuli_Intensitätsmorphs/nm03_sad_w01_o_75_70dB.wav', '../Stimuli_Intensitätsmorphs/nf03_sad_w03_o_50_70dB.wav', '../Stimuli_Intensitätsmorphs/nm04_sad_w01_c_50_70dB.wav', '../Stimuli_Intensitätsmorphs/nf02_dis_w05_o_100_70dB.wav']\n",
      "Dataset is loaded\n"
     ]
    },
    {
     "data": {
      "text/html": [
       "<div>\n",
       "<style scoped>\n",
       "    .dataframe tbody tr th:only-of-type {\n",
       "        vertical-align: middle;\n",
       "    }\n",
       "\n",
       "    .dataframe tbody tr th {\n",
       "        vertical-align: top;\n",
       "    }\n",
       "\n",
       "    .dataframe thead th {\n",
       "        text-align: right;\n",
       "    }\n",
       "</style>\n",
       "<table border=\"1\" class=\"dataframe\">\n",
       "  <thead>\n",
       "    <tr style=\"text-align: right;\">\n",
       "      <th></th>\n",
       "      <th>path</th>\n",
       "      <th>emotion</th>\n",
       "    </tr>\n",
       "  </thead>\n",
       "  <tbody>\n",
       "    <tr>\n",
       "      <th>0</th>\n",
       "      <td>../Stimuli_Intensitätsmorphs/nf02_ang_w05_o_10...</td>\n",
       "      <td>angry</td>\n",
       "    </tr>\n",
       "    <tr>\n",
       "      <th>1</th>\n",
       "      <td>../Stimuli_Intensitätsmorphs/nm01_ang_w01_o_50...</td>\n",
       "      <td>angry</td>\n",
       "    </tr>\n",
       "    <tr>\n",
       "      <th>2</th>\n",
       "      <td>../Stimuli_Intensitätsmorphs/nf04_sur_w03_c_10...</td>\n",
       "      <td>ps</td>\n",
       "    </tr>\n",
       "    <tr>\n",
       "      <th>3</th>\n",
       "      <td>../Stimuli_Intensitätsmorphs/nf03_hap_w01_o_75...</td>\n",
       "      <td>happy</td>\n",
       "    </tr>\n",
       "    <tr>\n",
       "      <th>4</th>\n",
       "      <td>../Stimuli_Intensitätsmorphs/nm01_fea_w01_o_50...</td>\n",
       "      <td>fear</td>\n",
       "    </tr>\n",
       "    <tr>\n",
       "      <th>...</th>\n",
       "      <td>...</td>\n",
       "      <td>...</td>\n",
       "    </tr>\n",
       "    <tr>\n",
       "      <th>763</th>\n",
       "      <td>../Stimuli_Intensitätsmorphs/nm02_sur_w05_o_75...</td>\n",
       "      <td>ps</td>\n",
       "    </tr>\n",
       "    <tr>\n",
       "      <th>764</th>\n",
       "      <td>../Stimuli_Intensitätsmorphs/nm03_sad_w01_o_75...</td>\n",
       "      <td>sad</td>\n",
       "    </tr>\n",
       "    <tr>\n",
       "      <th>765</th>\n",
       "      <td>../Stimuli_Intensitätsmorphs/nf03_sad_w03_o_50...</td>\n",
       "      <td>sad</td>\n",
       "    </tr>\n",
       "    <tr>\n",
       "      <th>766</th>\n",
       "      <td>../Stimuli_Intensitätsmorphs/nm04_sad_w01_c_50...</td>\n",
       "      <td>sad</td>\n",
       "    </tr>\n",
       "    <tr>\n",
       "      <th>767</th>\n",
       "      <td>../Stimuli_Intensitätsmorphs/nf02_dis_w05_o_10...</td>\n",
       "      <td>disgust</td>\n",
       "    </tr>\n",
       "  </tbody>\n",
       "</table>\n",
       "<p>768 rows × 2 columns</p>\n",
       "</div>"
      ],
      "text/plain": [
       "                                                  path  emotion\n",
       "0    ../Stimuli_Intensitätsmorphs/nf02_ang_w05_o_10...    angry\n",
       "1    ../Stimuli_Intensitätsmorphs/nm01_ang_w01_o_50...    angry\n",
       "2    ../Stimuli_Intensitätsmorphs/nf04_sur_w03_c_10...       ps\n",
       "3    ../Stimuli_Intensitätsmorphs/nf03_hap_w01_o_75...    happy\n",
       "4    ../Stimuli_Intensitätsmorphs/nm01_fea_w01_o_50...     fear\n",
       "..                                                 ...      ...\n",
       "763  ../Stimuli_Intensitätsmorphs/nm02_sur_w05_o_75...       ps\n",
       "764  ../Stimuli_Intensitätsmorphs/nm03_sad_w01_o_75...      sad\n",
       "765  ../Stimuli_Intensitätsmorphs/nf03_sad_w03_o_50...      sad\n",
       "766  ../Stimuli_Intensitätsmorphs/nm04_sad_w01_c_50...      sad\n",
       "767  ../Stimuli_Intensitätsmorphs/nf02_dis_w05_o_10...  disgust\n",
       "\n",
       "[768 rows x 2 columns]"
      ]
     },
     "execution_count": 4,
     "metadata": {},
     "output_type": "execute_result"
    }
   ],
   "source": [
    "def load_custom_dataset():\n",
    "    paths = []\n",
    "    testpaths = []\n",
    "    testlabels = []\n",
    "    terminator = 'D:/Uni/19.Master/Daten/terminator.wav'\n",
    "    print(sys.executable)\n",
    "    emotions = []\n",
    "    # for dirname, _, filenames in os.walk('Daten/TESS Toronto emotional speech set data'):\n",
    "    # D:\\Uni\\19.Master\\DATEN\n",
    "    for dirname, _, filenames in os.walk('../tess'):\n",
    "        for filename in filenames:\n",
    "            label = filename.split('_')[-1]\n",
    "            label = label.split('.')[0]\n",
    "            if (label != 'neutral'):\n",
    "                emotions.append(label.lower())\n",
    "                paths.append(os.path.join(dirname, filename))\n",
    "    for dirname, _, filenames in os.walk('../Stimuli_Intensitätsmorphs'):\n",
    "        for filename in filenames:\n",
    "\n",
    "            intens = filename.split('_')[-2]\n",
    "            emot = filename.split('_')[1]\n",
    "            label = emot\n",
    "            match label:\n",
    "                case 'ang':\n",
    "                    label = 'angry'\n",
    "                case 'dis':\n",
    "                    label = 'disgust'\n",
    "                case 'fea':\n",
    "                    label = 'fear'\n",
    "                case 'hap':\n",
    "                    label = 'happy'\n",
    "                case 'sad':\n",
    "                    label = 'sad'\n",
    "                case 'sur':\n",
    "                    label = 'ps'\n",
    "            if (emot != 'ple'):\n",
    "                testpaths.append(os.path.join(dirname, filename))\n",
    "                testlabels.append(label.lower())\n",
    "    com_labels = testlabels + emotions\n",
    "    com_paths = testpaths + paths\n",
    "    print(testlabels)\n",
    "    print(testpaths)\n",
    "    print('Dataset is loaded')\n",
    "    return paths, emotions, testpaths, testlabels\n",
    "trainpaths, trainlabels, testpaths, testlabels = load_custom_dataset()\n",
    "\n",
    "###create dataframes for training and testing###\n",
    "trainDF = pd.DataFrame()\n",
    "trainDF[\"path\"] = trainpaths\n",
    "trainDF[\"emotion\"] = trainlabels\n",
    "\n",
    "testDF = pd.DataFrame()\n",
    "testDF[\"path\"] = testpaths\n",
    "testDF[\"emotion\"] = testlabels\n",
    "\n",
    "\n",
    "testDF"
   ]
  },
  {
   "cell_type": "code",
   "execution_count": 5,
   "metadata": {
    "colab": {
     "base_uri": "https://localhost:8080/",
     "height": 49
    },
    "id": "10b89ZpLDqx9",
    "outputId": "15e12e3f-6717-451e-91b3-3b70694921a7"
   },
   "outputs": [
    {
     "data": {
      "text/html": [
       "<div>\n",
       "<style scoped>\n",
       "    .dataframe tbody tr th:only-of-type {\n",
       "        vertical-align: middle;\n",
       "    }\n",
       "\n",
       "    .dataframe tbody tr th {\n",
       "        vertical-align: top;\n",
       "    }\n",
       "\n",
       "    .dataframe thead th {\n",
       "        text-align: right;\n",
       "    }\n",
       "</style>\n",
       "<table border=\"1\" class=\"dataframe\">\n",
       "  <thead>\n",
       "    <tr style=\"text-align: right;\">\n",
       "      <th></th>\n",
       "      <th>path</th>\n",
       "      <th>emotion</th>\n",
       "    </tr>\n",
       "  </thead>\n",
       "  <tbody>\n",
       "    <tr>\n",
       "      <th>0</th>\n",
       "      <td>../Stimuli_Intensitätsmorphs/nf02_ang_w05_o_10...</td>\n",
       "      <td>angry</td>\n",
       "    </tr>\n",
       "    <tr>\n",
       "      <th>1</th>\n",
       "      <td>../Stimuli_Intensitätsmorphs/nm01_ang_w01_o_50...</td>\n",
       "      <td>angry</td>\n",
       "    </tr>\n",
       "    <tr>\n",
       "      <th>2</th>\n",
       "      <td>../Stimuli_Intensitätsmorphs/nf04_sur_w03_c_10...</td>\n",
       "      <td>ps</td>\n",
       "    </tr>\n",
       "    <tr>\n",
       "      <th>3</th>\n",
       "      <td>../Stimuli_Intensitätsmorphs/nf03_hap_w01_o_75...</td>\n",
       "      <td>happy</td>\n",
       "    </tr>\n",
       "    <tr>\n",
       "      <th>4</th>\n",
       "      <td>../Stimuli_Intensitätsmorphs/nm01_fea_w01_o_50...</td>\n",
       "      <td>fear</td>\n",
       "    </tr>\n",
       "  </tbody>\n",
       "</table>\n",
       "</div>"
      ],
      "text/plain": [
       "                                                path emotion\n",
       "0  ../Stimuli_Intensitätsmorphs/nf02_ang_w05_o_10...   angry\n",
       "1  ../Stimuli_Intensitätsmorphs/nm01_ang_w01_o_50...   angry\n",
       "2  ../Stimuli_Intensitätsmorphs/nf04_sur_w03_c_10...      ps\n",
       "3  ../Stimuli_Intensitätsmorphs/nf03_hap_w01_o_75...   happy\n",
       "4  ../Stimuli_Intensitätsmorphs/nm01_fea_w01_o_50...    fear"
      ]
     },
     "execution_count": 5,
     "metadata": {},
     "output_type": "execute_result"
    }
   ],
   "source": [
    "df = testDF\n",
    "df.head()"
   ]
  },
  {
   "cell_type": "code",
   "execution_count": 6,
   "metadata": {
    "colab": {
     "base_uri": "https://localhost:8080/",
     "height": 523
    },
    "id": "iMhTHur8voOp",
    "outputId": "453c81e0-f976-46c0-806b-76315a8cf85b"
   },
   "outputs": [
    {
     "name": "stdout",
     "output_type": "stream",
     "text": [
      "Step 0: 768\n",
      "Step 1: 768\n"
     ]
    },
    {
     "name": "stderr",
     "output_type": "stream",
     "text": [
      "/tmp/ipykernel_55462/2154895978.py:7: FutureWarning: In a future version of pandas all arguments of DataFrame.drop except for the argument 'labels' will be keyword-only.\n",
      "  df = df.drop(\"status\", 1)\n"
     ]
    },
    {
     "data": {
      "text/html": [
       "<div>\n",
       "<style scoped>\n",
       "    .dataframe tbody tr th:only-of-type {\n",
       "        vertical-align: middle;\n",
       "    }\n",
       "\n",
       "    .dataframe tbody tr th {\n",
       "        vertical-align: top;\n",
       "    }\n",
       "\n",
       "    .dataframe thead th {\n",
       "        text-align: right;\n",
       "    }\n",
       "</style>\n",
       "<table border=\"1\" class=\"dataframe\">\n",
       "  <thead>\n",
       "    <tr style=\"text-align: right;\">\n",
       "      <th></th>\n",
       "      <th>path</th>\n",
       "      <th>emotion</th>\n",
       "    </tr>\n",
       "  </thead>\n",
       "  <tbody>\n",
       "    <tr>\n",
       "      <th>0</th>\n",
       "      <td>../Stimuli_Intensitätsmorphs/nm04_sad_w03_c_10...</td>\n",
       "      <td>sad</td>\n",
       "    </tr>\n",
       "    <tr>\n",
       "      <th>1</th>\n",
       "      <td>../Stimuli_Intensitätsmorphs/nm01_fea_w05_c_10...</td>\n",
       "      <td>fear</td>\n",
       "    </tr>\n",
       "    <tr>\n",
       "      <th>2</th>\n",
       "      <td>../Stimuli_Intensitätsmorphs/nf01_ang_w05_o_50...</td>\n",
       "      <td>angry</td>\n",
       "    </tr>\n",
       "    <tr>\n",
       "      <th>3</th>\n",
       "      <td>../Stimuli_Intensitätsmorphs/nf04_sur_w02_o_50...</td>\n",
       "      <td>ps</td>\n",
       "    </tr>\n",
       "    <tr>\n",
       "      <th>4</th>\n",
       "      <td>../Stimuli_Intensitätsmorphs/nf03_ang_w03_o_10...</td>\n",
       "      <td>angry</td>\n",
       "    </tr>\n",
       "  </tbody>\n",
       "</table>\n",
       "</div>"
      ],
      "text/plain": [
       "                                                path emotion\n",
       "0  ../Stimuli_Intensitätsmorphs/nm04_sad_w03_c_10...     sad\n",
       "1  ../Stimuli_Intensitätsmorphs/nm01_fea_w05_c_10...    fear\n",
       "2  ../Stimuli_Intensitätsmorphs/nf01_ang_w05_o_50...   angry\n",
       "3  ../Stimuli_Intensitätsmorphs/nf04_sur_w02_o_50...      ps\n",
       "4  ../Stimuli_Intensitätsmorphs/nf03_ang_w03_o_10...   angry"
      ]
     },
     "execution_count": 6,
     "metadata": {},
     "output_type": "execute_result"
    }
   ],
   "source": [
    "# Filter broken and non-existed paths\n",
    "\n",
    "print(f\"Step 0: {len(df)}\")\n",
    "\n",
    "df[\"status\"] = df[\"path\"].apply(lambda path: True if os.path.exists(path) else None)\n",
    "df = df.dropna(subset=[\"path\"])\n",
    "df = df.drop(\"status\", 1)\n",
    "print(f\"Step 1: {len(df)}\")\n",
    "\n",
    "df = df.sample(frac=1)\n",
    "df = df.reset_index(drop=True)\n",
    "df.head()"
   ]
  },
  {
   "cell_type": "markdown",
   "metadata": {
    "id": "TWku4ra3Bp52"
   },
   "source": [
    "Let's explore how many labels (emotions) are in the dataset with what distribution."
   ]
  },
  {
   "cell_type": "code",
   "execution_count": 7,
   "metadata": {
    "id": "beNpKMh5xXmX"
   },
   "outputs": [
    {
     "name": "stdout",
     "output_type": "stream",
     "text": [
      "Labels:  ['sad' 'fear' 'angry' 'ps' 'happy' 'disgust']\n",
      "\n"
     ]
    },
    {
     "data": {
      "text/html": [
       "<div>\n",
       "<style scoped>\n",
       "    .dataframe tbody tr th:only-of-type {\n",
       "        vertical-align: middle;\n",
       "    }\n",
       "\n",
       "    .dataframe tbody tr th {\n",
       "        vertical-align: top;\n",
       "    }\n",
       "\n",
       "    .dataframe thead th {\n",
       "        text-align: right;\n",
       "    }\n",
       "</style>\n",
       "<table border=\"1\" class=\"dataframe\">\n",
       "  <thead>\n",
       "    <tr style=\"text-align: right;\">\n",
       "      <th></th>\n",
       "      <th>path</th>\n",
       "    </tr>\n",
       "    <tr>\n",
       "      <th>emotion</th>\n",
       "      <th></th>\n",
       "    </tr>\n",
       "  </thead>\n",
       "  <tbody>\n",
       "    <tr>\n",
       "      <th>angry</th>\n",
       "      <td>128</td>\n",
       "    </tr>\n",
       "    <tr>\n",
       "      <th>disgust</th>\n",
       "      <td>128</td>\n",
       "    </tr>\n",
       "    <tr>\n",
       "      <th>fear</th>\n",
       "      <td>128</td>\n",
       "    </tr>\n",
       "    <tr>\n",
       "      <th>happy</th>\n",
       "      <td>128</td>\n",
       "    </tr>\n",
       "    <tr>\n",
       "      <th>ps</th>\n",
       "      <td>128</td>\n",
       "    </tr>\n",
       "    <tr>\n",
       "      <th>sad</th>\n",
       "      <td>128</td>\n",
       "    </tr>\n",
       "  </tbody>\n",
       "</table>\n",
       "</div>"
      ],
      "text/plain": [
       "         path\n",
       "emotion      \n",
       "angry     128\n",
       "disgust   128\n",
       "fear      128\n",
       "happy     128\n",
       "ps        128\n",
       "sad       128"
      ]
     },
     "execution_count": 7,
     "metadata": {},
     "output_type": "execute_result"
    }
   ],
   "source": [
    "print(\"Labels: \", df[\"emotion\"].unique())\n",
    "print()\n",
    "df.groupby(\"emotion\").count()[[\"path\"]]"
   ]
  },
  {
   "cell_type": "markdown",
   "metadata": {
    "id": "i2hwRai7BNrx"
   },
   "source": [
    "Let's display some random sample of the dataset and run it a couple of times to get a feeling for the audio and the emotional label."
   ]
  },
  {
   "cell_type": "code",
   "execution_count": 8,
   "metadata": {
    "id": "DZaQ_sP5xkIX"
   },
   "outputs": [
    {
     "name": "stdout",
     "output_type": "stream",
     "text": [
      "ID Location: 571\n",
      "      Label: fear\n",
      "\n"
     ]
    },
    {
     "name": "stderr",
     "output_type": "stream",
     "text": [
      "/tmp/ipykernel_55462/2414068180.py:18: FutureWarning: Pass orig_sr=44100, target_sr=16000 as keyword args. From version 0.10 passing these as positional arguments will result in an error\n",
      "  speech = librosa.resample(np.asarray(speech), sr, 16_000)\n"
     ]
    },
    {
     "data": {
      "text/html": [
       "\n",
       "                <audio  controls=\"controls\" autoplay=\"autoplay\">\n",
       "                    <source src=\"data:audio/wav;base64,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\" type=\"audio/wav\" />\n",
       "                    Your browser does not support the audio element.\n",
       "                </audio>\n",
       "              "
      ],
      "text/plain": [
       "<IPython.lib.display.Audio object>"
      ]
     },
     "execution_count": 8,
     "metadata": {},
     "output_type": "execute_result"
    }
   ],
   "source": [
    "import torchaudio\n",
    "import librosa\n",
    "import IPython.display as ipd\n",
    "import numpy as np\n",
    "\n",
    "idx = np.random.randint(0, len(df))\n",
    "sample = df.iloc[idx]\n",
    "path = sample[\"path\"]\n",
    "label = sample[\"emotion\"]\n",
    "\n",
    "\n",
    "print(f\"ID Location: {idx}\")\n",
    "print(f\"      Label: {label}\")\n",
    "print()\n",
    "\n",
    "speech, sr = torchaudio.load(path)\n",
    "speech = speech[0].numpy().squeeze()\n",
    "speech = librosa.resample(np.asarray(speech), sr, 16_000)\n",
    "ipd.Audio(data=np.asarray(speech), autoplay=True, rate=16000)"
   ]
  },
  {
   "cell_type": "markdown",
   "metadata": {
    "id": "7WNjWoWRCmPk"
   },
   "source": [
    "For training purposes, we need to split data into train test sets; in this specific example, we break with a `20%` rate for the test set."
   ]
  },
  {
   "cell_type": "code",
   "execution_count": 9,
   "metadata": {
    "id": "mlim-044xtJN"
   },
   "outputs": [
    {
     "name": "stdout",
     "output_type": "stream",
     "text": [
      "(614, 2)\n",
      "(154, 2)\n"
     ]
    }
   ],
   "source": [
    "#save_path = \"/content/data\"\n",
    "save_path=\"content/data\"\n",
    "train_df, test_df = train_test_split(df, test_size=0.2, random_state=101, stratify=df[\"emotion\"])\n",
    "\n",
    "train_df = train_df.reset_index(drop=True)\n",
    "test_df = test_df.reset_index(drop=True)\n",
    "\n",
    "#train_df.to_csv(f\"{save_path}/train.csv\", sep=\"\\t\", encoding=\"utf-8\", index=False)\n",
    "#test_df.to_csv(f\"{save_path}/test.csv\", sep=\"\\t\", encoding=\"utf-8\", index=False)\n",
    "\n",
    "\n",
    "print(train_df.shape)\n",
    "print(test_df.shape)"
   ]
  },
  {
   "cell_type": "markdown",
   "metadata": {
    "id": "kcnD-d_rDElt"
   },
   "source": [
    "## Prepare Data for Training"
   ]
  },
  {
   "cell_type": "code",
   "execution_count": 10,
   "metadata": {
    "id": "nnVfxQYDDIc6"
   },
   "outputs": [
    {
     "name": "stderr",
     "output_type": "stream",
     "text": [
      "Using custom data configuration data-f5a87fddb5719e24\n",
      "Found cached dataset csv (/home/ckwdani/Programming/Projects/masterarbeit/Jupyter/mainProject/notebooks/content/cache/csv/data-f5a87fddb5719e24/0.0.0/6b34fb8fcf56f7c8ba51dc895bfa2bfbe43546f190a60fcf74bb5e8afdcc2317)\n"
     ]
    },
    {
     "data": {
      "application/vnd.jupyter.widget-view+json": {
       "model_id": "7afaaf3b1f504cf7afe3319f17d9063c",
       "version_major": 2,
       "version_minor": 0
      },
      "text/plain": [
       "  0%|          | 0/2 [00:00<?, ?it/s]"
      ]
     },
     "metadata": {},
     "output_type": "display_data"
    }
   ],
   "source": [
    "# Loading the created dataset using datasets\n",
    "from datasets import load_dataset, load_metric\n",
    "\n",
    "\n",
    "data_files = {\n",
    "    \"train\": \"train.csv\",\n",
    "    \"validation\": \"test.csv\",\n",
    "}\n",
    "\n",
    "dataset = load_dataset(\"content/data/\", data_files=data_files, delimiter=\"\\t\", )\n",
    "train_dataset = dataset[\"train\"]\n",
    "eval_dataset = dataset[\"validation\"]\n",
    "\n",
    "# We need to specify the input and output column\n",
    "input_column = \"path\"\n",
    "output_column = \"emotion\"\n",
    "# we need to distinguish the unique labels in our SER dataset\n",
    "label_list = train_dataset.unique(output_column)\n",
    "label_list.sort()  # Let's sort it for determinism\n",
    "num_labels = len(label_list)\n",
    "#print(f\"A classification problem with {num_labels} classes: {label_list}\")"
   ]
  },
  {
   "cell_type": "markdown",
   "metadata": {
    "id": "4TkGYrVTFR6Y"
   },
   "source": [
    "In order to preprocess the audio into our classification model, we need to set up the relevant Wav2Vec2 assets regarding our language in this case `lighteternal/wav2vec2-large-xlsr-53-greek` fine-tuned by [Dimitris Papadopoulos](https://huggingface.co/lighteternal/wav2vec2-large-xlsr-53-greek). To handle the context representations in any audio length we use a merge strategy plan (pooling mode) to concatenate that 3D representations into 2D representations.\n",
    "\n",
    "There are three merge strategies `mean`, `sum`, and `max`. In this example, we achieved better results on the mean approach. In the following, we need to initiate the config and the feature extractor from the Dimitris model."
   ]
  },
  {
   "cell_type": "code",
   "execution_count": 11,
   "metadata": {
    "id": "9Y1adr7vFrq7"
   },
   "outputs": [
    {
     "name": "stderr",
     "output_type": "stream",
     "text": [
      "2022-12-09 17:07:30.359669: I tensorflow/core/platform/cpu_feature_guard.cc:193] This TensorFlow binary is optimized with oneAPI Deep Neural Network Library (oneDNN) to use the following CPU instructions in performance-critical operations:  AVX2 FMA\n",
      "To enable them in other operations, rebuild TensorFlow with the appropriate compiler flags.\n",
      "2022-12-09 17:07:30.892950: W tensorflow/compiler/xla/stream_executor/platform/default/dso_loader.cc:64] Could not load dynamic library 'libnvinfer.so.7'; dlerror: libnvinfer.so.7: cannot open shared object file: No such file or directory\n",
      "2022-12-09 17:07:30.893005: W tensorflow/compiler/xla/stream_executor/platform/default/dso_loader.cc:64] Could not load dynamic library 'libnvinfer_plugin.so.7'; dlerror: libnvinfer_plugin.so.7: cannot open shared object file: No such file or directory\n",
      "2022-12-09 17:07:30.893010: W tensorflow/compiler/tf2tensorrt/utils/py_utils.cc:38] TF-TRT Warning: Cannot dlopen some TensorRT libraries. If you would like to use Nvidia GPU with TensorRT, please make sure the missing libraries mentioned above are installed properly.\n"
     ]
    },
    {
     "name": "stdout",
     "output_type": "stream",
     "text": [
      "The target sampling rate: 16000\n"
     ]
    }
   ],
   "source": [
    "from transformers import AutoConfig, Wav2Vec2Processor\n",
    "\n",
    "#model_name_or_path = \"lighteternal/wav2vec2-large-xlsr-53-greek\"\n",
    "model_name_or_path = \"jonatasgrosman/wav2vec2-large-xlsr-53-german\"\n",
    "pooling_mode = \"mean\"\n",
    "\n",
    "\n",
    "# config\n",
    "config = AutoConfig.from_pretrained(\n",
    "    model_name_or_path,\n",
    "    num_labels=num_labels,\n",
    "    label2id={label: i for i, label in enumerate(label_list)},\n",
    "    id2label={i: label for i, label in enumerate(label_list)},\n",
    "    finetuning_task=\"wav2vec2_clf\",\n",
    ")\n",
    "setattr(config, 'pooling_mode', pooling_mode)\n",
    "\n",
    "processor = Wav2Vec2Processor.from_pretrained(model_name_or_path, )\n",
    "target_sampling_rate = processor.feature_extractor.sampling_rate\n",
    "print(f\"The target sampling rate: {target_sampling_rate}\")"
   ]
  },
  {
   "cell_type": "markdown",
   "metadata": {
    "id": "CbGuYgLqHXZg"
   },
   "source": [
    "# Preprocess Data"
   ]
  },
  {
   "cell_type": "markdown",
   "metadata": {
    "id": "qLk-eM1DFjtE"
   },
   "source": [
    "So far, we downloaded, loaded, and split the SER dataset into train and test sets. The instantiated our strategy configuration for using context representations in our classification problem SER. Now, we need to extract features from the audio path in context representation tensors and feed them into our classification model to determine the emotion in the speech.\n",
    "\n",
    "Since the audio file is saved in the `.wav` format, it is easy to use **[Librosa](https://librosa.org/doc/latest/index.html)** or others, but we suppose that the format may be in the `.mp3` format in case of generality. We found that the **[Torchaudio](https://pytorch.org/audio/stable/index.html)** library works best for reading in `.mp3` data.\n",
    "\n",
    "An audio file usually stores both its values and the sampling rate with which the speech signal was digitalized. We want to store both in the dataset and write a **map(...)** function accordingly. Also, we need to handle the string labels into integers for our specific classification task in this case, the **single-label classification** you may want to use for your **regression** or even **multi-label classification**."
   ]
  },
  {
   "cell_type": "code",
   "execution_count": 12,
   "metadata": {
    "id": "6UqlIV3uGxDA"
   },
   "outputs": [],
   "source": [
    "import utils.audio_dataset_utils as audioUtils\n",
    "\n",
    "def preprocess_function(examples):\n",
    "    speech_list = [audioUtils.speech_file_to_array_librosa(path, target_sampling_rate) for path in examples[input_column]]\n",
    "    target_list = [audioUtils.label_to_id(label, label_list) for label in examples[output_column]]\n",
    "\n",
    "    result = processor(speech_list, sampling_rate=target_sampling_rate)\n",
    "    result[\"labels\"] = list(target_list)\n",
    "\n",
    "    return result\n"
   ]
  },
  {
   "cell_type": "code",
   "execution_count": 13,
   "metadata": {
    "id": "ioP8FfR2GxHi"
   },
   "outputs": [
    {
     "name": "stderr",
     "output_type": "stream",
     "text": [
      "Loading cached processed dataset at /home/ckwdani/Programming/Projects/masterarbeit/Jupyter/mainProject/notebooks/content/cache/csv/data-f5a87fddb5719e24/0.0.0/6b34fb8fcf56f7c8ba51dc895bfa2bfbe43546f190a60fcf74bb5e8afdcc2317/cache-3b256eb0e70bbc35.arrow\n",
      "Loading cached processed dataset at /home/ckwdani/Programming/Projects/masterarbeit/Jupyter/mainProject/notebooks/content/cache/csv/data-f5a87fddb5719e24/0.0.0/6b34fb8fcf56f7c8ba51dc895bfa2bfbe43546f190a60fcf74bb5e8afdcc2317/cache-c8750dcec87c031b.arrow\n"
     ]
    }
   ],
   "source": [
    "train_dataset = train_dataset.map(\n",
    "    preprocess_function,\n",
    "    batch_size=50,\n",
    "    batched=True,\n",
    "    #num_proc=4\n",
    ")\n",
    "eval_dataset = eval_dataset.map(\n",
    "    preprocess_function,\n",
    "    batch_size=50,\n",
    "    batched=True,\n",
    "    #num_proc=4\n",
    ")"
   ]
  },
  {
   "cell_type": "code",
   "execution_count": 14,
   "metadata": {
    "id": "eu1qcRucHk6d"
   },
   "outputs": [],
   "source": [
    "# idx = 0\n",
    "# print(f\"Training input_values: {train_dataset[idx]['input_values']}\")\n",
    "# print(f\"Training attention_mask: {train_dataset[idx]['attention_mask']}\")\n",
    "# print(f\"Training labels: {train_dataset[idx]['labels']} - {train_dataset[idx]['emotion']}\")"
   ]
  },
  {
   "cell_type": "markdown",
   "metadata": {
    "id": "HcrEgJO9Hmx7"
   },
   "source": [
    "Great, now we've successfully read all the audio files, resampled the audio files to 16kHz, and mapped each audio to the corresponding label."
   ]
  },
  {
   "cell_type": "markdown",
   "metadata": {
    "id": "QL7q6DfcH0Fs"
   },
   "source": [
    "## Model\n",
    "\n",
    "Before diving into the training part, we need to build our classification model based on the merge strategy."
   ]
  },
  {
   "cell_type": "code",
   "execution_count": 15,
   "metadata": {},
   "outputs": [],
   "source": [
    "import network_models.w2v_emotion_model.model as KNNModel"
   ]
  },
  {
   "cell_type": "markdown",
   "metadata": {
    "id": "OrBrR1b7zvUL"
   },
   "source": [
    "## Training\n",
    "\n",
    "The data is processed so that we are ready to start setting up the training pipeline. We will make use of 🤗's [Trainer](https://huggingface.co/transformers/master/main_classes/trainer.html?highlight=trainer) for which we essentially need to do the following:\n",
    "\n",
    "- Define a data collator. In contrast to most NLP models, XLSR-Wav2Vec2 has a much larger input length than output length. *E.g.*, a sample of input length 50000 has an output length of no more than 100. Given the large input sizes, it is much more efficient to pad the training batches dynamically meaning that all training samples should only be padded to the longest sample in their batch and not the overall longest sample. Therefore, fine-tuning XLSR-Wav2Vec2 requires a special padding data collator, which we will define below\n",
    "\n",
    "- Evaluation metric. During training, the model should be evaluated on the word error rate. We should define a `compute_metrics` function accordingly\n",
    "\n",
    "- Load a pretrained checkpoint. We need to load a pretrained checkpoint and configure it correctly for training.\n",
    "\n",
    "- Define the training configuration.\n",
    "\n",
    "After having fine-tuned the model, we will correctly evaluate it on the test data and verify that it has indeed learned to correctly transcribe speech."
   ]
  },
  {
   "cell_type": "markdown",
   "metadata": {
    "id": "Ji9-n1eUIKZc"
   },
   "source": [
    "### Set-up Trainer\n",
    "\n",
    "Let's start by defining the data collator. The code for the data collator was copied from [this example](https://github.com/huggingface/transformers/blob/9a06b6b11bdfc42eea08fa91d0c737d1863c99e3/examples/research_projects/wav2vec2/run_asr.py#L81).\n",
    "\n",
    "Without going into too many details, in contrast to the common data collators, this data collator treats the `input_values` and `labels` differently and thus applies to separate padding functions on them (again making use of XLSR-Wav2Vec2's context manager). This is necessary because in speech input and output are of different modalities meaning that they should not be treated by the same padding function.\n",
    "Analogous to the common data collators, the padding tokens in the labels with `-100` so that those tokens are **not** taken into account when computing the loss."
   ]
  },
  {
   "cell_type": "code",
   "execution_count": 16,
   "metadata": {
    "id": "rkM0VLIwy903"
   },
   "outputs": [],
   "source": [
    "import network_models.w2v_emotion_model.trainer as trainerUtils\n",
    "data_collator = trainerUtils.DataCollatorCTCWithPadding(processor=processor, padding=True)\n"
   ]
  },
  {
   "cell_type": "markdown",
   "metadata": {
    "id": "mYxy2IR-KcU2"
   },
   "source": [
    "Next, the evaluation metric is defined. There are many pre-defined metrics for classification/regression problems, but in this case, we would continue with just **Accuracy** for classification and **MSE** for regression. You can define other metrics on your own."
   ]
  },
  {
   "cell_type": "code",
   "execution_count": 17,
   "metadata": {
    "id": "LL8I5MKvPnth"
   },
   "outputs": [],
   "source": [
    "is_regression = False"
   ]
  },
  {
   "cell_type": "code",
   "execution_count": 18,
   "metadata": {
    "id": "XK26Z6IfR36K"
   },
   "outputs": [],
   "source": [
    "import numpy as np\n",
    "from transformers import EvalPrediction\n",
    "\n",
    "\n",
    "def compute_metrics(p: EvalPrediction):\n",
    "    preds = p.predictions[0] if isinstance(p.predictions, tuple) else p.predictions\n",
    "    preds = np.squeeze(preds) if is_regression else np.argmax(preds, axis=1)\n",
    "\n",
    "    if is_regression:\n",
    "        return {\"mse\": ((preds - p.label_ids) ** 2).mean().item()}\n",
    "    else:\n",
    "        return {\"accuracy\": (preds == p.label_ids).astype(np.float32).mean().item()}"
   ]
  },
  {
   "cell_type": "markdown",
   "metadata": {
    "id": "ZsH_nKJdK28o"
   },
   "source": [
    "Now, we can load the pretrained XLSR-Wav2Vec2 checkpoint into our classification model with a pooling strategy."
   ]
  },
  {
   "cell_type": "code",
   "execution_count": 19,
   "metadata": {
    "id": "0Tl6iKAUR4EL"
   },
   "outputs": [
    {
     "name": "stderr",
     "output_type": "stream",
     "text": [
      "Some weights of the model checkpoint at jonatasgrosman/wav2vec2-large-xlsr-53-german were not used when initializing Wav2Vec2ForSpeechClassification: ['lm_head.bias', 'lm_head.weight']\n",
      "- This IS expected if you are initializing Wav2Vec2ForSpeechClassification from the checkpoint of a model trained on another task or with another architecture (e.g. initializing a BertForSequenceClassification model from a BertForPreTraining model).\n",
      "- This IS NOT expected if you are initializing Wav2Vec2ForSpeechClassification from the checkpoint of a model that you expect to be exactly identical (initializing a BertForSequenceClassification model from a BertForSequenceClassification model).\n",
      "Some weights of Wav2Vec2ForSpeechClassification were not initialized from the model checkpoint at jonatasgrosman/wav2vec2-large-xlsr-53-german and are newly initialized: ['classifier.out_proj.weight', 'classifier.dense.weight', 'classifier.out_proj.bias', 'classifier.dense.bias']\n",
      "You should probably TRAIN this model on a down-stream task to be able to use it for predictions and inference.\n"
     ]
    }
   ],
   "source": [
    "model = KNNModel.Wav2Vec2ForSpeechClassification.from_pretrained(\n",
    "    model_name_or_path,\n",
    "    config=config,\n",
    ")"
   ]
  },
  {
   "cell_type": "markdown",
   "metadata": {
    "id": "bqF4rNMzI1M5"
   },
   "source": [
    "The first component of XLSR-Wav2Vec2 consists of a stack of CNN layers that are used to extract acoustically meaningful - but contextually independent - features from the raw speech signal. This part of the model has already been sufficiently trained during pretraining and as stated in the [paper](https://arxiv.org/pdf/2006.13979.pdf) does not need to be fine-tuned anymore. \n",
    "Thus, we can set the `requires_grad` to `False` for all parameters of the *feature extraction* part."
   ]
  },
  {
   "cell_type": "code",
   "execution_count": 20,
   "metadata": {
    "id": "KHMhxFGoR4Hb"
   },
   "outputs": [],
   "source": [
    "model.freeze_feature_extractor()"
   ]
  },
  {
   "cell_type": "markdown",
   "metadata": {
    "id": "n0HzBneBK84G"
   },
   "source": [
    "In a final step, we define all parameters related to training. \n",
    "To give more explanation on some of the parameters:\n",
    "- `learning_rate` and `weight_decay` were heuristically tuned until fine-tuning has become stable. Note that those parameters strongly depend on the Common Voice dataset and might be suboptimal for other speech datasets.\n",
    "\n",
    "For more explanations on other parameters, one can take a look at the [docs](https://huggingface.co/transformers/master/main_classes/trainer.html?highlight=trainer#trainingarguments).\n",
    "\n",
    "**Note**: If one wants to save the trained models in his/her google drive the commented-out `output_dir` can be used instead."
   ]
  },
  {
   "cell_type": "markdown",
   "metadata": {},
   "source": [
    "For future use we can create our training script, we do it in a simple way. You can add more on you own."
   ]
  },
  {
   "cell_type": "markdown",
   "metadata": {},
   "source": [
    "Now, all instances can be passed to Trainer and we are ready to start training!"
   ]
  },
  {
   "cell_type": "code",
   "execution_count": 21,
   "metadata": {
    "id": "3tPqZ12BLCJk"
   },
   "outputs": [],
   "source": [
    "# from google.colab import drive\n",
    "\n",
    "# drive.mount('/gdrive')"
   ]
  },
  {
   "cell_type": "code",
   "execution_count": 22,
   "metadata": {
    "id": "vUtWjldAI9-H"
   },
   "outputs": [
    {
     "name": "stderr",
     "output_type": "stream",
     "text": [
      "Using cuda_amp half precision backend\n"
     ]
    }
   ],
   "source": [
    "from transformers import TrainingArguments\n",
    "\n",
    "training_args = TrainingArguments(\n",
    "    output_dir=\"content/models\",\n",
    "    # output_dir=\"/content/gdrive/MyDrive/wav2vec2-xlsr-greek-speech-emotion-recognition\"\n",
    "    per_device_train_batch_size=4,\n",
    "    per_device_eval_batch_size=4,\n",
    "    gradient_accumulation_steps=2,\n",
    "    evaluation_strategy=\"steps\",\n",
    "    num_train_epochs=10.0,\n",
    "    fp16=True,\n",
    "    save_steps=10,\n",
    "    eval_steps=10,\n",
    "    logging_steps=10,\n",
    "    learning_rate=1e-4,\n",
    "    save_total_limit=2,\n",
    ")\n",
    "trainer = trainerUtils.CTCTrainer(\n",
    "    model=model,\n",
    "    data_collator=data_collator,\n",
    "    args=training_args,\n",
    "    compute_metrics=compute_metrics,\n",
    "    train_dataset=train_dataset,\n",
    "    eval_dataset=eval_dataset,\n",
    "    tokenizer=processor.feature_extractor,\n",
    ")"
   ]
  },
  {
   "cell_type": "markdown",
   "metadata": {
    "id": "0gGLwJAOLtDg"
   },
   "source": [
    "### Training"
   ]
  },
  {
   "cell_type": "markdown",
   "metadata": {
    "id": "UpN6xlWCLxJ7"
   },
   "source": [
    "Training will take between 10 and 60 minutes depending on the GPU allocated to this notebook. \n",
    "\n",
    "In case you want to use this google colab to fine-tune your model, you should make sure that your training doesn't stop due to inactivity. A simple hack to prevent this is to paste the following code into the console of this tab (right mouse click -> inspect -> Console tab and insert code)."
   ]
  },
  {
   "cell_type": "markdown",
   "metadata": {
    "id": "zyYZH7YZL8a9"
   },
   "source": [
    "```javascript\n",
    "function ConnectButton(){\n",
    "    console.log(\"Connect pushed\"); \n",
    "    document.querySelector(\"#top-toolbar > colab-connect-button\").shadowRoot.querySelector(\"#connect\").click() \n",
    "}\n",
    "setInterval(ConnectButton,60000);\n",
    "```"
   ]
  },
  {
   "cell_type": "code",
   "execution_count": 23,
   "metadata": {
    "id": "6M8bNvLLJnG1"
   },
   "outputs": [],
   "source": [
    "torch.cuda.empty_cache()\n",
    "\n",
    "#trainer.train()"
   ]
  },
  {
   "cell_type": "code",
   "execution_count": 24,
   "metadata": {},
   "outputs": [],
   "source": [
    "import torch\n",
    "#torch.cuda.memory_allocated()\n",
    "torch.cuda.empty_cache()"
   ]
  },
  {
   "cell_type": "code",
   "execution_count": 25,
   "metadata": {},
   "outputs": [
    {
     "name": "stderr",
     "output_type": "stream",
     "text": [
      "Saving model checkpoint to content/model\n",
      "Configuration saved in content/model/config.json\n",
      "Model weights saved in content/model/pytorch_model.bin\n",
      "Feature extractor saved in content/model/preprocessor_config.json\n"
     ]
    }
   ],
   "source": [
    "trainer.save_model(output_dir='content/model')"
   ]
  },
  {
   "cell_type": "markdown",
   "metadata": {
    "id": "3prIN9eiMBHo"
   },
   "source": [
    "The training loss goes down and we can see that the Acurracy on the test set also improves nicely. Because this notebook is just for demonstration purposes, we can stop here.\n",
    "\n",
    "The resulting model of this notebook has been saved to [m3hrdadfi/wav2vec2-xlsr-greek-speech-emotion-recognition](https://huggingface.co/m3hrdadfi/wav2vec2-xlsr-greek-speech-emotion-recognition)\n",
    "\n",
    "As a final check, let's load the model and verify that it indeed has learned to recognize the emotion in the speech.\n",
    "\n",
    "Let's first load the pretrained checkpoint."
   ]
  },
  {
   "cell_type": "markdown",
   "metadata": {
    "id": "VsaOTx_FVm0i"
   },
   "source": [
    "## Evaluation"
   ]
  },
  {
   "cell_type": "code",
   "execution_count": 26,
   "metadata": {
    "id": "4tGNY7hRXO44"
   },
   "outputs": [],
   "source": [
    "import librosa\n",
    "from sklearn.metrics import classification_report"
   ]
  },
  {
   "cell_type": "code",
   "execution_count": 27,
   "metadata": {
    "id": "IYxg1Tfo2VUw"
   },
   "outputs": [
    {
     "name": "stderr",
     "output_type": "stream",
     "text": [
      "Using custom data configuration default-92f8667effa50d69\n",
      "Found cached dataset csv (/home/ckwdani/Programming/Projects/masterarbeit/Jupyter/mainProject/notebooks/content/cache/csv/default-92f8667effa50d69/0.0.0/6b34fb8fcf56f7c8ba51dc895bfa2bfbe43546f190a60fcf74bb5e8afdcc2317)\n"
     ]
    },
    {
     "data": {
      "application/vnd.jupyter.widget-view+json": {
       "model_id": "c51ab07ce29746daa8d1b8d30ffb1966",
       "version_major": 2,
       "version_minor": 0
      },
      "text/plain": [
       "  0%|          | 0/1 [00:00<?, ?it/s]"
      ]
     },
     "metadata": {},
     "output_type": "display_data"
    },
    {
     "data": {
      "text/plain": [
       "Dataset({\n",
       "    features: ['path', 'emotion'],\n",
       "    num_rows: 154\n",
       "})"
      ]
     },
     "execution_count": 27,
     "metadata": {},
     "output_type": "execute_result"
    }
   ],
   "source": [
    "test_dataset = load_dataset(\"csv\", data_files={\"validation\": \"content/data/test.csv\"}, delimiter=\"\\t\")[\"validation\"]\n",
    "test_dataset"
   ]
  },
  {
   "cell_type": "code",
   "execution_count": 28,
   "metadata": {
    "id": "QgZFkMDHW_Um"
   },
   "outputs": [
    {
     "name": "stdout",
     "output_type": "stream",
     "text": [
      "Device: cuda\n"
     ]
    }
   ],
   "source": [
    "device = torch.device(\"cuda\" if torch.cuda.is_available() else \"cpu\")\n",
    "print(f\"Device: {device}\")"
   ]
  },
  {
   "cell_type": "code",
   "execution_count": 29,
   "metadata": {
    "id": "-ESFEXeaWgua"
   },
   "outputs": [
    {
     "name": "stderr",
     "output_type": "stream",
     "text": [
      "loading configuration file content/model/config.json\n",
      "Model config Wav2Vec2Config {\n",
      "  \"_name_or_path\": \"jonatasgrosman/wav2vec2-large-xlsr-53-german\",\n",
      "  \"activation_dropout\": 0.05,\n",
      "  \"adapter_kernel_size\": 3,\n",
      "  \"adapter_stride\": 2,\n",
      "  \"add_adapter\": false,\n",
      "  \"apply_spec_augment\": true,\n",
      "  \"architectures\": [\n",
      "    \"Wav2Vec2ForSpeechClassification\"\n",
      "  ],\n",
      "  \"attention_dropout\": 0.1,\n",
      "  \"bos_token_id\": 1,\n",
      "  \"classifier_proj_size\": 256,\n",
      "  \"codevector_dim\": 768,\n",
      "  \"contrastive_logits_temperature\": 0.1,\n",
      "  \"conv_bias\": true,\n",
      "  \"conv_dim\": [\n",
      "    512,\n",
      "    512,\n",
      "    512,\n",
      "    512,\n",
      "    512,\n",
      "    512,\n",
      "    512\n",
      "  ],\n",
      "  \"conv_kernel\": [\n",
      "    10,\n",
      "    3,\n",
      "    3,\n",
      "    3,\n",
      "    3,\n",
      "    2,\n",
      "    2\n",
      "  ],\n",
      "  \"conv_stride\": [\n",
      "    5,\n",
      "    2,\n",
      "    2,\n",
      "    2,\n",
      "    2,\n",
      "    2,\n",
      "    2\n",
      "  ],\n",
      "  \"ctc_loss_reduction\": \"mean\",\n",
      "  \"ctc_zero_infinity\": true,\n",
      "  \"diversity_loss_weight\": 0.1,\n",
      "  \"do_stable_layer_norm\": true,\n",
      "  \"eos_token_id\": 2,\n",
      "  \"feat_extract_activation\": \"gelu\",\n",
      "  \"feat_extract_dropout\": 0.0,\n",
      "  \"feat_extract_norm\": \"layer\",\n",
      "  \"feat_proj_dropout\": 0.05,\n",
      "  \"feat_quantizer_dropout\": 0.0,\n",
      "  \"final_dropout\": 0.0,\n",
      "  \"finetuning_task\": \"wav2vec2_clf\",\n",
      "  \"hidden_act\": \"gelu\",\n",
      "  \"hidden_dropout\": 0.05,\n",
      "  \"hidden_size\": 1024,\n",
      "  \"id2label\": {\n",
      "    \"0\": \"angry\",\n",
      "    \"1\": \"disgust\",\n",
      "    \"2\": \"fear\",\n",
      "    \"3\": \"happy\",\n",
      "    \"4\": \"ps\",\n",
      "    \"5\": \"sad\"\n",
      "  },\n",
      "  \"initializer_range\": 0.02,\n",
      "  \"intermediate_size\": 4096,\n",
      "  \"label2id\": {\n",
      "    \"angry\": 0,\n",
      "    \"disgust\": 1,\n",
      "    \"fear\": 2,\n",
      "    \"happy\": 3,\n",
      "    \"ps\": 4,\n",
      "    \"sad\": 5\n",
      "  },\n",
      "  \"layer_norm_eps\": 1e-05,\n",
      "  \"layerdrop\": 0.05,\n",
      "  \"mask_channel_length\": 10,\n",
      "  \"mask_channel_min_space\": 1,\n",
      "  \"mask_channel_other\": 0.0,\n",
      "  \"mask_channel_prob\": 0.0,\n",
      "  \"mask_channel_selection\": \"static\",\n",
      "  \"mask_feature_length\": 10,\n",
      "  \"mask_feature_min_masks\": 0,\n",
      "  \"mask_feature_prob\": 0.0,\n",
      "  \"mask_time_length\": 10,\n",
      "  \"mask_time_min_masks\": 2,\n",
      "  \"mask_time_min_space\": 1,\n",
      "  \"mask_time_other\": 0.0,\n",
      "  \"mask_time_prob\": 0.05,\n",
      "  \"mask_time_selection\": \"static\",\n",
      "  \"model_type\": \"wav2vec2\",\n",
      "  \"num_adapter_layers\": 3,\n",
      "  \"num_attention_heads\": 16,\n",
      "  \"num_codevector_groups\": 2,\n",
      "  \"num_codevectors_per_group\": 320,\n",
      "  \"num_conv_pos_embedding_groups\": 16,\n",
      "  \"num_conv_pos_embeddings\": 128,\n",
      "  \"num_feat_extract_layers\": 7,\n",
      "  \"num_hidden_layers\": 24,\n",
      "  \"num_negatives\": 100,\n",
      "  \"output_hidden_size\": 1024,\n",
      "  \"pad_token_id\": 0,\n",
      "  \"pooling_mode\": \"mean\",\n",
      "  \"proj_codevector_dim\": 768,\n",
      "  \"tdnn_dilation\": [\n",
      "    1,\n",
      "    2,\n",
      "    3,\n",
      "    1,\n",
      "    1\n",
      "  ],\n",
      "  \"tdnn_dim\": [\n",
      "    512,\n",
      "    512,\n",
      "    512,\n",
      "    512,\n",
      "    1500\n",
      "  ],\n",
      "  \"tdnn_kernel\": [\n",
      "    5,\n",
      "    3,\n",
      "    3,\n",
      "    1,\n",
      "    1\n",
      "  ],\n",
      "  \"torch_dtype\": \"float32\",\n",
      "  \"transformers_version\": \"4.25.1\",\n",
      "  \"use_weighted_layer_sum\": false,\n",
      "  \"vocab_size\": 38,\n",
      "  \"xvector_output_dim\": 512\n",
      "}\n",
      "\n",
      "loading weights file content/model/pytorch_model.bin\n",
      "All model checkpoint weights were used when initializing Wav2Vec2ForSpeechClassification.\n",
      "\n",
      "All the weights of Wav2Vec2ForSpeechClassification were initialized from the model checkpoint at content/model.\n",
      "If your task is similar to the task the model of the checkpoint was trained on, you can already use Wav2Vec2ForSpeechClassification for predictions without further training.\n"
     ]
    }
   ],
   "source": [
    "model_name_or_path = \"content/model\"\n",
    "#config = AutoConfig.from_pretrained(model_name_or_path)\n",
    "#processor = Wav2Vec2Processor.from_pretrained(model_name_or_path)\n",
    "model = KNNModel.Wav2Vec2ForSpeechClassification.from_pretrained(model_name_or_path).to(device)"
   ]
  },
  {
   "cell_type": "code",
   "execution_count": 30,
   "metadata": {
    "id": "BkEd4w8IV7kZ"
   },
   "outputs": [],
   "source": [
    "def speech_file_to_array_fn(batch):\n",
    "    speech_array, sampling_rate = torchaudio.load(batch[\"path\"])\n",
    "    speech_array = speech_array.squeeze().numpy()\n",
    "    speech_array = librosa.resample(np.asarray(speech_array), sampling_rate, processor.feature_extractor.sampling_rate)\n",
    "\n",
    "    batch[\"speech\"] = speech_array\n",
    "    return batch\n",
    "\n",
    "\n",
    "def predict(batch):\n",
    "    features = processor(batch[\"speech\"], sampling_rate=processor.feature_extractor.sampling_rate, return_tensors=\"pt\", padding=True)\n",
    "\n",
    "    input_values = features.input_values.to(device)\n",
    "    attention_mask = features.attention_mask.to(device)\n",
    "\n",
    "    with torch.no_grad():\n",
    "        logits = model(input_values, attention_mask=attention_mask).logits \n",
    "\n",
    "    pred_ids = torch.argmax(logits, dim=-1).detach().cpu().numpy()\n",
    "    batch[\"predicted\"] = pred_ids\n",
    "    return batch"
   ]
  },
  {
   "cell_type": "code",
   "execution_count": 31,
   "metadata": {
    "id": "S4P6P6XwW85p"
   },
   "outputs": [
    {
     "name": "stderr",
     "output_type": "stream",
     "text": [
      "Loading cached processed dataset at /home/ckwdani/Programming/Projects/masterarbeit/Jupyter/mainProject/notebooks/content/cache/csv/default-92f8667effa50d69/0.0.0/6b34fb8fcf56f7c8ba51dc895bfa2bfbe43546f190a60fcf74bb5e8afdcc2317/cache-22b2b8397926ee9d.arrow\n"
     ]
    }
   ],
   "source": [
    "test_dataset = test_dataset.map(speech_file_to_array_fn)"
   ]
  },
  {
   "cell_type": "code",
   "execution_count": 32,
   "metadata": {
    "id": "K_oZJzHsXKHv"
   },
   "outputs": [
    {
     "data": {
      "application/vnd.jupyter.widget-view+json": {
       "model_id": "a44a0d899d5a4f6a9e4e1f31e8067c10",
       "version_major": 2,
       "version_minor": 0
      },
      "text/plain": [
       "  0%|          | 0/20 [00:00<?, ?ba/s]"
      ]
     },
     "metadata": {},
     "output_type": "display_data"
    }
   ],
   "source": [
    "result = test_dataset.map(predict, batched=True, batch_size=8)"
   ]
  },
  {
   "cell_type": "code",
   "execution_count": 33,
   "metadata": {
    "id": "BnfJLZvAaxTo"
   },
   "outputs": [
    {
     "data": {
      "text/plain": [
       "['angry', 'disgust', 'fear', 'happy', 'ps', 'sad']"
      ]
     },
     "execution_count": 33,
     "metadata": {},
     "output_type": "execute_result"
    }
   ],
   "source": [
    "label_names = [config.id2label[i] for i in range(config.num_labels)]\n",
    "label_names"
   ]
  },
  {
   "cell_type": "code",
   "execution_count": 34,
   "metadata": {},
   "outputs": [
    {
     "data": {
      "text/plain": [
       "{'path': '../Stimuli_Intensitätsmorphs/nm04_sad_w02_c_50_70dB.wav',\n",
       " 'emotion': 'sad',\n",
       " 'speech': [1.4362941946899355e-08,\n",
       "  -2.2597133053636753e-08,\n",
       "  3.1742164452452926e-08,\n",
       "  -4.121974583881638e-08,\n",
       "  5.0132950235592943e-08,\n",
       "  -5.7397191000063685e-08,\n",
       "  6.135852004263143e-08,\n",
       "  -6.041211264573576e-08,\n",
       "  5.2473389189344743e-08,\n",
       "  -3.5618906935042105e-08,\n",
       "  7.522541700666352e-09,\n",
       "  3.3769627094670795e-08,\n",
       "  -9.030095782236458e-08,\n",
       "  1.6409683212259552e-07,\n",
       "  -2.584087610557617e-07,\n",
       "  3.789788536323613e-07,\n",
       "  -5.408544438978424e-07,\n",
       "  7.900629839241446e-07,\n",
       "  -1.3239421150501585e-06,\n",
       "  4.075676315551391e-06,\n",
       "  2.991001383634284e-05,\n",
       "  3.035163172171451e-05,\n",
       "  3.5935054256697185e-06,\n",
       "  -9.816906185733387e-07,\n",
       "  6.11801908689813e-07,\n",
       "  -5.792601314169588e-07,\n",
       "  7.009504656707577e-07,\n",
       "  -9.691298146208283e-07,\n",
       "  1.4927182974133757e-06,\n",
       "  -2.832466407198808e-06,\n",
       "  1.7455626220908016e-05,\n",
       "  5.6992186728166416e-05,\n",
       "  8.202600292861462e-05,\n",
       "  6.328233575914055e-05,\n",
       "  6.567654781974852e-05,\n",
       "  0.000118826879770495,\n",
       "  0.00013047833635937423,\n",
       "  0.00016740798309911042,\n",
       "  0.0001760569284670055,\n",
       "  0.00012715854973066598,\n",
       "  9.710707672638819e-05,\n",
       "  5.07210788782686e-05,\n",
       "  4.2509622289799154e-05,\n",
       "  7.54501816118136e-05,\n",
       "  4.221802009851672e-05,\n",
       "  -5.493168282555416e-05,\n",
       "  -0.0001090838632080704,\n",
       "  -0.00010413253039587289,\n",
       "  -4.1710718505783007e-05,\n",
       "  -2.0621539079002105e-05,\n",
       "  -0.00012037553824484348,\n",
       "  -0.00023999420227482915,\n",
       "  -0.000349800189724192,\n",
       "  -0.00046698469668626785,\n",
       "  -0.0006593434954993427,\n",
       "  -0.0008577195694670081,\n",
       "  -0.00091932388022542,\n",
       "  -0.0008332577417604625,\n",
       "  -0.0006337416125461459,\n",
       "  -0.0004534631734713912,\n",
       "  -0.00034384705941192806,\n",
       "  -0.0004779960145242512,\n",
       "  -0.0007396514411084354,\n",
       "  -0.0008297376334667206,\n",
       "  -0.0007774168043397367,\n",
       "  -0.0006380043341778219,\n",
       "  -0.0006269188597798347,\n",
       "  -0.0006994957802817225,\n",
       "  -0.0008502814453095198,\n",
       "  -0.0011895555071532726,\n",
       "  -0.0015921477461233735,\n",
       "  -0.001711853314191103,\n",
       "  -0.0015002017607912421,\n",
       "  -0.0012833855580538511,\n",
       "  -0.0012039195280522108,\n",
       "  -0.0011591683141887188,\n",
       "  -0.0009719652589410543,\n",
       "  -0.0007589051383547485,\n",
       "  -0.0004148914886172861,\n",
       "  9.625875827623531e-05,\n",
       "  0.0005619752919301391,\n",
       "  0.0008451575413346291,\n",
       "  0.0012124113272875547,\n",
       "  0.0015751783503219485,\n",
       "  0.0018957671709358692,\n",
       "  0.0024095915723592043,\n",
       "  0.0028811823576688766,\n",
       "  0.003686052281409502,\n",
       "  0.004695729352533817,\n",
       "  0.005491701420396566,\n",
       "  0.006051275879144669,\n",
       "  0.00628548813983798,\n",
       "  0.00635581323876977,\n",
       "  0.006738822907209396,\n",
       "  0.0074216388165950775,\n",
       "  0.007753830403089523,\n",
       "  0.007692969869822264,\n",
       "  0.007567209657281637,\n",
       "  0.0077503519132733345,\n",
       "  0.008295878767967224,\n",
       "  0.008758298121392727,\n",
       "  0.008852967992424965,\n",
       "  0.009008480235934258,\n",
       "  0.009480554610490799,\n",
       "  0.010194928385317326,\n",
       "  0.011182507500052452,\n",
       "  0.012046691961586475,\n",
       "  0.012678788043558598,\n",
       "  0.013213558122515678,\n",
       "  0.01413382776081562,\n",
       "  0.015305130742490292,\n",
       "  0.016314223408699036,\n",
       "  0.017197495326399803,\n",
       "  0.017877565696835518,\n",
       "  0.01835784502327442,\n",
       "  0.018322009593248367,\n",
       "  0.018329227343201637,\n",
       "  0.018683824688196182,\n",
       "  0.01940430887043476,\n",
       "  0.020170148462057114,\n",
       "  0.02051047421991825,\n",
       "  0.020225487649440765,\n",
       "  0.019157275557518005,\n",
       "  0.018029337748885155,\n",
       "  0.017139412462711334,\n",
       "  0.016799043864011765,\n",
       "  0.016268879175186157,\n",
       "  0.014878584071993828,\n",
       "  0.012989809736609459,\n",
       "  0.011026602238416672,\n",
       "  0.009528488852083683,\n",
       "  0.008401375263929367,\n",
       "  0.007213226519525051,\n",
       "  0.0058579216711223125,\n",
       "  0.004330378025770187,\n",
       "  0.0026982685085386038,\n",
       "  0.0013201157562434673,\n",
       "  -9.372867498314008e-05,\n",
       "  -0.001402165275067091,\n",
       "  -0.002478701528161764,\n",
       "  -0.003173799952492118,\n",
       "  -0.0036546066403388977,\n",
       "  -0.004626344423741102,\n",
       "  -0.006064604502171278,\n",
       "  -0.007490440737456083,\n",
       "  -0.008381056599318981,\n",
       "  -0.008863585069775581,\n",
       "  -0.008714006282389164,\n",
       "  -0.008428585715591908,\n",
       "  -0.008674995973706245,\n",
       "  -0.009182486683130264,\n",
       "  -0.009414006024599075,\n",
       "  -0.009236525744199753,\n",
       "  -0.008920649066567421,\n",
       "  -0.00840086955577135,\n",
       "  -0.00815847609192133,\n",
       "  -0.007980268448591232,\n",
       "  -0.007863793522119522,\n",
       "  -0.007725476752966642,\n",
       "  -0.0068432181142270565,\n",
       "  -0.005448751151561737,\n",
       "  -0.003819512203335762,\n",
       "  -0.0022089038975536823,\n",
       "  -0.0011407239362597466,\n",
       "  -0.0006650729919783771,\n",
       "  -0.00033479032572358847,\n",
       "  -3.0765975679969415e-05,\n",
       "  0.0008458353113383055,\n",
       "  0.0024066513869911432,\n",
       "  0.0038407084066420794,\n",
       "  0.004857379477471113,\n",
       "  0.0052995760925114155,\n",
       "  0.005085841286927462,\n",
       "  0.005048636347055435,\n",
       "  0.005496112629771233,\n",
       "  0.006153235677629709,\n",
       "  0.006986293010413647,\n",
       "  0.0076436917297542095,\n",
       "  0.008215954527258873,\n",
       "  0.00855847354978323,\n",
       "  0.008941441774368286,\n",
       "  0.009550477378070354,\n",
       "  0.01003536581993103,\n",
       "  0.010470263659954071,\n",
       "  0.01073467917740345,\n",
       "  0.011078129522502422,\n",
       "  0.011284939013421535,\n",
       "  0.011175614781677723,\n",
       "  0.011399936862289906,\n",
       "  0.01186662632972002,\n",
       "  0.01254887692630291,\n",
       "  0.013081650249660015,\n",
       "  0.013297471217811108,\n",
       "  0.013465535826981068,\n",
       "  0.013754420913755894,\n",
       "  0.014316001906991005,\n",
       "  0.014798729680478573,\n",
       "  0.015432962216436863,\n",
       "  0.015729280188679695,\n",
       "  0.015803338959813118,\n",
       "  0.01613130234181881,\n",
       "  0.016497045755386353,\n",
       "  0.01629425212740898,\n",
       "  0.015646055340766907,\n",
       "  0.015122301876544952,\n",
       "  0.014129768125712872,\n",
       "  0.01313089020550251,\n",
       "  0.012146483175456524,\n",
       "  0.011512239463627338,\n",
       "  0.0108731584623456,\n",
       "  0.00954598281532526,\n",
       "  0.008601855486631393,\n",
       "  0.008506624959409237,\n",
       "  0.00823928415775299,\n",
       "  0.007354419678449631,\n",
       "  0.006509540136903524,\n",
       "  0.005356005392968655,\n",
       "  0.004662693478167057,\n",
       "  0.00401820195838809,\n",
       "  0.0031150225549936295,\n",
       "  0.002064717933535576,\n",
       "  0.0002408671280136332,\n",
       "  -0.0013644446153193712,\n",
       "  -0.0021989885717630386,\n",
       "  -0.0020798826590180397,\n",
       "  -0.0023344631772488356,\n",
       "  -0.0032784556970000267,\n",
       "  -0.004272775258868933,\n",
       "  -0.00494915246963501,\n",
       "  -0.004939193371683359,\n",
       "  -0.004870282951742411,\n",
       "  -0.004780117888003588,\n",
       "  -0.005239279009401798,\n",
       "  -0.006342872511595488,\n",
       "  -0.0072431559674441814,\n",
       "  -0.007820558734238148,\n",
       "  -0.008462007157504559,\n",
       "  -0.009039782918989658,\n",
       "  -0.009682011790573597,\n",
       "  -0.010204188525676727,\n",
       "  -0.010341119952499866,\n",
       "  -0.01050083339214325,\n",
       "  -0.010787085629999638,\n",
       "  -0.011395550332963467,\n",
       "  -0.011868849396705627,\n",
       "  -0.011768217198550701,\n",
       "  -0.011188174597918987,\n",
       "  -0.010797034949064255,\n",
       "  -0.01115666888654232,\n",
       "  -0.011750747449696064,\n",
       "  -0.012209520675241947,\n",
       "  -0.012526260688900948,\n",
       "  -0.012617538683116436,\n",
       "  -0.01247444748878479,\n",
       "  -0.01242405828088522,\n",
       "  -0.013365210965275764,\n",
       "  -0.014334515668451786,\n",
       "  -0.014506451785564423,\n",
       "  -0.01399960182607174,\n",
       "  -0.012852937914431095,\n",
       "  -0.012305707670748234,\n",
       "  -0.012341543100774288,\n",
       "  -0.012662005610764027,\n",
       "  -0.012665867805480957,\n",
       "  -0.012256242334842682,\n",
       "  -0.011556419543921947,\n",
       "  -0.011186357587575912,\n",
       "  -0.011515920050442219,\n",
       "  -0.01175619661808014,\n",
       "  -0.011561117134988308,\n",
       "  -0.010529701597988605,\n",
       "  -0.009992898441851139,\n",
       "  -0.01034222450107336,\n",
       "  -0.01073344424366951,\n",
       "  -0.010345232672989368,\n",
       "  -0.009256985038518906,\n",
       "  -0.008639000356197357,\n",
       "  -0.009127194993197918,\n",
       "  -0.010127418674528599,\n",
       "  -0.010094881057739258,\n",
       "  -0.008851898834109306,\n",
       "  -0.007811266928911209,\n",
       "  -0.007975105196237564,\n",
       "  -0.008984005078673363,\n",
       "  -0.01031941082328558,\n",
       "  -0.010465363040566444,\n",
       "  -0.00929061695933342,\n",
       "  -0.007898284122347832,\n",
       "  -0.0074595194309949875,\n",
       "  -0.00867004506289959,\n",
       "  -0.009931865148246288,\n",
       "  -0.010067529045045376,\n",
       "  -0.009129437617957592,\n",
       "  -0.009028530679643154,\n",
       "  -0.010077765211462975,\n",
       "  -0.010918989777565002,\n",
       "  -0.011082710698246956,\n",
       "  -0.010427952744066715,\n",
       "  -0.009699001908302307,\n",
       "  -0.009486019611358643,\n",
       "  -0.009790251031517982,\n",
       "  -0.008249383419752121,\n",
       "  -0.002371458802372217,\n",
       "  0.007032687775790691,\n",
       "  0.016266021877527237,\n",
       "  0.02209959365427494,\n",
       "  0.024424057453870773,\n",
       "  0.025478754192590714,\n",
       "  0.028312887996435165,\n",
       "  0.033839862793684006,\n",
       "  0.04033088684082031,\n",
       "  0.045442380011081696,\n",
       "  0.04872922971844673,\n",
       "  0.050308480858802795,\n",
       "  0.05085325986146927,\n",
       "  0.05237250402569771,\n",
       "  0.053936734795570374,\n",
       "  0.05500391125679016,\n",
       "  0.05650221183896065,\n",
       "  0.05881105363368988,\n",
       "  0.061218615621328354,\n",
       "  0.0609392374753952,\n",
       "  0.05821869894862175,\n",
       "  0.055068489164114,\n",
       "  0.0538344569504261,\n",
       "  0.05426821857690811,\n",
       "  0.053587887436151505,\n",
       "  0.05077267065644264,\n",
       "  0.046036310493946075,\n",
       "  0.04162243381142616,\n",
       "  0.03825535625219345,\n",
       "  0.035834748297929764,\n",
       "  0.033830609172582626,\n",
       "  0.03083406761288643,\n",
       "  0.02663971297442913,\n",
       "  0.022282473742961884,\n",
       "  0.018982844427227974,\n",
       "  0.0163529384881258,\n",
       "  0.013653872534632683,\n",
       "  0.01129285991191864,\n",
       "  0.009566598571836948,\n",
       "  0.007376692723482847,\n",
       "  0.004264854826033115,\n",
       "  0.0008719125180505216,\n",
       "  -0.0019111339934170246,\n",
       "  -0.0038304352201521397,\n",
       "  -0.004940432030707598,\n",
       "  -0.006200624164193869,\n",
       "  -0.007976604625582695,\n",
       "  -0.010183549486100674,\n",
       "  -0.013214092701673508,\n",
       "  -0.015616807155311108,\n",
       "  -0.01708742044866085,\n",
       "  -0.017846766859292984,\n",
       "  -0.01809116080403328,\n",
       "  -0.01902516931295395,\n",
       "  -0.020306142047047615,\n",
       "  -0.021573763340711594,\n",
       "  -0.02316540852189064,\n",
       "  -0.02384491078555584,\n",
       "  -0.02326534502208233,\n",
       "  -0.022297972813248634,\n",
       "  -0.02215520292520523,\n",
       "  -0.02292078360915184,\n",
       "  -0.023602670058608055,\n",
       "  -0.0237986259162426,\n",
       "  -0.023595649749040604,\n",
       "  -0.023993123322725296,\n",
       "  -0.024727048352360725,\n",
       "  -0.025842037051916122,\n",
       "  -0.02681679278612137,\n",
       "  -0.02739572525024414,\n",
       "  -0.02779546193778515,\n",
       "  -0.027816444635391235,\n",
       "  -0.027942275628447533,\n",
       "  -0.028050007298588753,\n",
       "  -0.027984585613012314,\n",
       "  -0.02774854376912117,\n",
       "  -0.027791325002908707,\n",
       "  -0.027504146099090576,\n",
       "  -0.02641003578901291,\n",
       "  -0.02455647476017475,\n",
       "  -0.02321154810488224,\n",
       "  -0.02399078756570816,\n",
       "  -0.025941815227270126,\n",
       "  -0.027070697396993637,\n",
       "  -0.025827068835496902,\n",
       "  -0.022658342495560646,\n",
       "  -0.0198291577398777,\n",
       "  -0.019306287169456482,\n",
       "  -0.02066846936941147,\n",
       "  -0.022272426635026932,\n",
       "  -0.02232411690056324,\n",
       "  -0.019752681255340576,\n",
       "  -0.016488345339894295,\n",
       "  -0.014064990915358067,\n",
       "  -0.013016186654567719,\n",
       "  -0.013297153636813164,\n",
       "  -0.013745413161814213,\n",
       "  -0.01390238106250763,\n",
       "  -0.0127262519672513,\n",
       "  -0.010380684398114681,\n",
       "  -0.007990348152816296,\n",
       "  -0.006728229578584433,\n",
       "  -0.007122035138309002,\n",
       "  -0.008027247153222561,\n",
       "  -0.008378291502594948,\n",
       "  -0.007204741705209017,\n",
       "  -0.005282960832118988,\n",
       "  -0.003950399346649647,\n",
       "  -0.003942639566957951,\n",
       "  -0.005234002601355314,\n",
       "  -0.006447463762015104,\n",
       "  -0.006371409632265568,\n",
       "  -0.004804542753845453,\n",
       "  -0.0030982953030616045,\n",
       "  -0.0027386127039790154,\n",
       "  -0.0041203573346138,\n",
       "  -0.0057107871398329735,\n",
       "  -0.006428046151995659,\n",
       "  -0.005894944071769714,\n",
       "  -0.004370593931525946,\n",
       "  -0.004032952710986137,\n",
       "  -0.005548261571675539,\n",
       "  -0.008050739765167236,\n",
       "  -0.010220173746347427,\n",
       "  -0.010690962895751,\n",
       "  -0.009279132820665836,\n",
       "  -0.007615281268954277,\n",
       "  -0.007942109368741512,\n",
       "  -0.010573817417025566,\n",
       "  -0.01304204948246479,\n",
       "  -0.01449836790561676,\n",
       "  -0.014789199456572533,\n",
       "  -0.01319427601993084,\n",
       "  -0.01151812169700861,\n",
       "  -0.011760103516280651,\n",
       "  -0.014105312526226044,\n",
       "  -0.016172366216778755,\n",
       "  -0.016748519614338875,\n",
       "  -0.016962319612503052,\n",
       "  -0.016727499663829803,\n",
       "  -0.015101605094969273,\n",
       "  -0.014573742635548115,\n",
       "  -0.014683435671031475,\n",
       "  -0.009704574011266232,\n",
       "  0.0013774075778201222,\n",
       "  0.014694903045892715,\n",
       "  0.024016009643673897,\n",
       "  0.027158236131072044,\n",
       "  0.02679077535867691,\n",
       "  0.027603818103671074,\n",
       "  0.03455284237861633,\n",
       "  0.04565427079796791,\n",
       "  0.05439985170960426,\n",
       "  0.05765484273433685,\n",
       "  0.05708463117480278,\n",
       "  0.05636942386627197,\n",
       "  0.058664362877607346,\n",
       "  0.06273316591978073,\n",
       "  0.06624142825603485,\n",
       "  0.0687006264925003,\n",
       "  0.06958993524312973,\n",
       "  0.06864020973443985,\n",
       "  0.06642401963472366,\n",
       "  0.06506902724504471,\n",
       "  0.06510168313980103,\n",
       "  0.06567472964525223,\n",
       "  0.06553155928850174,\n",
       "  0.06437704712152481,\n",
       "  0.061310961842536926,\n",
       "  0.05575353279709816,\n",
       "  0.05066809803247452,\n",
       "  0.047130730003118515,\n",
       "  0.04474596679210663,\n",
       "  0.04209846630692482,\n",
       "  0.03784104064106941,\n",
       "  0.03233515843749046,\n",
       "  0.02701006643474102,\n",
       "  0.023766404017806053,\n",
       "  0.02192569710314274,\n",
       "  0.0199736338108778,\n",
       "  0.017183324322104454,\n",
       "  0.014296370558440685,\n",
       "  0.011616178788244724,\n",
       "  0.00907362811267376,\n",
       "  0.006682924926280975,\n",
       "  0.0034466495271772146,\n",
       "  7.710661884630099e-05,\n",
       "  -0.0019449226092547178,\n",
       "  -0.0022919541224837303,\n",
       "  -0.0026710976380854845,\n",
       "  -0.004496019333600998,\n",
       "  -0.008034289814531803,\n",
       "  -0.011660697869956493,\n",
       "  -0.013424376025795937,\n",
       "  -0.014375566504895687,\n",
       "  -0.01607174053788185,\n",
       "  -0.019230106845498085,\n",
       "  -0.022565841674804688,\n",
       "  -0.024477306753396988,\n",
       "  -0.025168534368276596,\n",
       "  -0.02608502469956875,\n",
       "  -0.02708892710506916,\n",
       "  -0.028105054050683975,\n",
       "  -0.029473617672920227,\n",
       "  -0.030146973207592964,\n",
       "  -0.030675319954752922,\n",
       "  -0.03139263391494751,\n",
       "  -0.032898783683776855,\n",
       "  -0.034988127648830414,\n",
       "  -0.0362548753619194,\n",
       "  -0.036435917019844055,\n",
       "  -0.03619915619492531,\n",
       "  -0.036761969327926636,\n",
       "  -0.03819071128964424,\n",
       "  -0.0398583710193634,\n",
       "  -0.040762849152088165,\n",
       "  -0.04090623930096626,\n",
       "  -0.040071528404951096,\n",
       "  -0.03847112879157066,\n",
       "  -0.03782014176249504,\n",
       "  -0.03793898969888687,\n",
       "  -0.037708576768636703,\n",
       "  -0.035939864814281464,\n",
       "  -0.033109862357378006,\n",
       "  -0.03107369691133499,\n",
       "  -0.03056030161678791,\n",
       "  -0.031047837808728218,\n",
       "  -0.0309887882322073,\n",
       "  -0.029549939557909966,\n",
       "  -0.02683120034635067,\n",
       "  -0.02408241294324398,\n",
       "  -0.02255995012819767,\n",
       "  -0.022417254745960236,\n",
       "  -0.02235773205757141,\n",
       "  -0.020664948970079422,\n",
       "  -0.0174860842525959,\n",
       "  -0.01394347008317709,\n",
       "  -0.011293210089206696,\n",
       "  -0.010201657190918922,\n",
       "  -0.010548923164606094,\n",
       "  -0.010746538639068604,\n",
       "  -0.009377013891935349,\n",
       "  -0.00671512121334672,\n",
       "  -0.004212547559291124,\n",
       "  -0.003607960185036063,\n",
       "  -0.004782538861036301,\n",
       "  -0.006442764308303595,\n",
       "  -0.006992385722696781,\n",
       "  -0.0059850481338799,\n",
       "  -0.003939089830964804,\n",
       "  -0.001977140549570322,\n",
       "  -0.001343967393040657,\n",
       "  -0.002072311006486416,\n",
       "  -0.004076803103089333,\n",
       "  -0.0054962667636573315,\n",
       "  -0.005477545782923698,\n",
       "  -0.004511644132435322,\n",
       "  -0.0029663043096661568,\n",
       "  -0.0026253818068653345,\n",
       "  -0.0045438362285494804,\n",
       "  -0.007841164246201515,\n",
       "  -0.009863581508398056,\n",
       "  -0.009503430686891079,\n",
       "  -0.007292094640433788,\n",
       "  -0.005581898149102926,\n",
       "  -0.00572754954919219,\n",
       "  -0.007918676361441612,\n",
       "  -0.011773064732551575,\n",
       "  -0.013900644145905972,\n",
       "  -0.013377287425100803,\n",
       "  -0.011262242682278156,\n",
       "  -0.009251194074749947,\n",
       "  -0.009218993596732616,\n",
       "  -0.011407658457756042,\n",
       "  -0.013867916539311409,\n",
       "  -0.01566241681575775,\n",
       "  -0.01705373078584671,\n",
       "  -0.017342591658234596,\n",
       "  -0.01711631380021572,\n",
       "  -0.015730202198028564,\n",
       "  -0.014481413178145885,\n",
       "  -0.015046822838485241,\n",
       "  -0.016709893941879272,\n",
       "  -0.019647743552923203,\n",
       "  -0.021297790110111237,\n",
       "  -0.020131144672632217,\n",
       "  -0.017053352668881416,\n",
       "  -0.015178864821791649,\n",
       "  -0.014898995868861675,\n",
       "  -0.007926525548100471,\n",
       "  0.007658307906240225,\n",
       "  0.02387530915439129,\n",
       "  0.032915838062763214,\n",
       "  0.03276703134179115,\n",
       "  0.028979146853089333,\n",
       "  0.030244002118706703,\n",
       "  0.04112939164042473,\n",
       "  0.057513199746608734,\n",
       "  0.06935670971870422,\n",
       "  0.07032661885023117,\n",
       "  0.06403644382953644,\n",
       "  0.058343518525362015,\n",
       "  0.05965639650821686,\n",
       "  0.06836968660354614,\n",
       "  0.07796237617731094,\n",
       "  0.08176864683628082,\n",
       "  0.07875701785087585,\n",
       "  0.07303887605667114,\n",
       "  0.0689784437417984,\n",
       "  0.06856782734394073,\n",
       "  0.07107977569103241,\n",
       "  0.07370861619710922,\n",
       "  0.07362590730190277,\n",
       "  0.06991467624902725,\n",
       "  0.06304077059030533,\n",
       "  0.054901592433452606,\n",
       "  0.04900792986154556,\n",
       "  0.04787911847233772,\n",
       "  0.04878338426351547,\n",
       "  0.04760389029979706,\n",
       "  0.0422869510948658,\n",
       "  0.033026061952114105,\n",
       "  0.02499515749514103,\n",
       "  0.022507112473249435,\n",
       "  0.025474879890680313,\n",
       "  0.02830999344587326,\n",
       "  0.025492681190371513,\n",
       "  0.017879493534564972,\n",
       "  0.00987145584076643,\n",
       "  0.005817166529595852,\n",
       "  0.0055924067273736,\n",
       "  0.006320137996226549,\n",
       "  0.006418348290026188,\n",
       "  0.005712341517210007,\n",
       "  0.0036564816255122423,\n",
       "  0.0011062014382332563,\n",
       "  -0.0012466482585296035,\n",
       "  -0.0034834330435842276,\n",
       "  -0.004680677782744169,\n",
       "  -0.005502485670149326,\n",
       "  -0.006772320251911879,\n",
       "  -0.008775697089731693,\n",
       "  -0.012305356562137604,\n",
       "  -0.016747508198022842,\n",
       "  -0.020035304129123688,\n",
       "  -0.022582056000828743,\n",
       "  -0.024796292185783386,\n",
       "  -0.026144998148083687,\n",
       "  -0.027269186452031136,\n",
       "  -0.027844490483403206,\n",
       "  -0.028873486444354057,\n",
       "  -0.03175728768110275,\n",
       "  -0.03500282019376755,\n",
       "  -0.03751197084784508,\n",
       "  -0.03942161425948143,\n",
       "  -0.04045218974351883,\n",
       "  -0.04139082133769989,\n",
       "  -0.0421040840446949,\n",
       "  -0.04312487691640854,\n",
       "  -0.04580635204911232,\n",
       "  -0.04896227642893791,\n",
       "  -0.051074545830488205,\n",
       "  -0.05103124678134918,\n",
       "  -0.04908032342791557,\n",
       "  -0.046611059457063675,\n",
       "  -0.045247845351696014,\n",
       "  -0.04665777087211609,\n",
       "  -0.04913703352212906,\n",
       "  -0.04872078076004982,\n",
       "  -0.044913556426763535,\n",
       "  -0.039751701056957245,\n",
       "  -0.035978417843580246,\n",
       "  -0.03547295928001404,\n",
       "  -0.03733748570084572,\n",
       "  -0.03910934552550316,\n",
       "  -0.0374431237578392,\n",
       "  -0.031908679753541946,\n",
       "  -0.02551208809018135,\n",
       "  -0.020833661779761314,\n",
       "  -0.01947305165231228,\n",
       "  -0.02043248899281025,\n",
       "  -0.019942544400691986,\n",
       "  -0.016500236466526985,\n",
       "  -0.011955776251852512,\n",
       "  -0.00899701938033104,\n",
       "  -0.008831888437271118,\n",
       "  -0.00943841878324747,\n",
       "  -0.008875534869730473,\n",
       "  -0.00724285701289773,\n",
       "  -0.005589076317846775,\n",
       "  -0.004971797578036785,\n",
       "  -0.005263511091470718,\n",
       "  -0.004997878335416317,\n",
       "  -0.003248790046200156,\n",
       "  -0.0015694856410846114,\n",
       "  -0.0014650772791355848,\n",
       "  -0.00237439782358706,\n",
       "  -0.003004421480000019,\n",
       "  -0.003099375870078802,\n",
       "  -0.0029809195548295975,\n",
       "  -0.0031350008212029934,\n",
       "  -0.0037645576521754265,\n",
       "  -0.004261964466422796,\n",
       "  -0.00446501886472106,\n",
       "  -0.004459715913981199,\n",
       "  -0.005892354529350996,\n",
       "  -0.008438188582658768,\n",
       "  -0.008838680572807789,\n",
       "  -0.006685062311589718,\n",
       "  -0.0034594826865941286,\n",
       "  -0.002382473321631551,\n",
       "  -0.005606946535408497,\n",
       "  -0.010272994637489319,\n",
       "  -0.012165961787104607,\n",
       "  -0.010098699480295181,\n",
       "  -0.0062937261536717415,\n",
       "  -0.00458805775269866,\n",
       "  -0.007097921799868345,\n",
       "  -0.011674955487251282,\n",
       "  -0.014841029420495033,\n",
       "  -0.014090778306126595,\n",
       "  -0.010814640671014786,\n",
       "  -0.008542219176888466,\n",
       "  -0.009260699152946472,\n",
       "  -0.012340668588876724,\n",
       "  -0.015165426768362522,\n",
       "  -0.016095779836177826,\n",
       "  -0.013892797753214836,\n",
       "  -0.011335312388837337,\n",
       "  -0.011545293033123016,\n",
       "  -0.014542915858328342,\n",
       "  -0.01782129891216755,\n",
       "  -0.0190911702811718,\n",
       "  -0.018860794603824615,\n",
       "  -0.01788974180817604,\n",
       "  -0.01818673498928547,\n",
       "  -0.01375710591673851,\n",
       "  0.0015359210083261132,\n",
       "  0.022812558338046074,\n",
       "  0.03838014230132103,\n",
       "  0.03987036645412445,\n",
       "  0.03194700554013252,\n",
       "  0.02699131891131401,\n",
       "  0.034715455025434494,\n",
       "  0.05302823707461357,\n",
       "  0.07156004011631012,\n",
       "  0.07850125432014465,\n",
       "  0.07175730168819427,\n",
       "  0.060774724930524826,\n",
       "  0.05745309218764305,\n",
       "  0.06551989912986755,\n",
       "  0.07905007898807526,\n",
       "  0.08928696066141129,\n",
       "  0.08967064321041107,\n",
       "  0.0822877511382103,\n",
       "  0.0722522884607315,\n",
       "  0.06581410020589828,\n",
       "  0.0659923404455185,\n",
       "  0.0714484378695488,\n",
       "  0.07780597358942032,\n",
       "  0.07871782034635544,\n",
       "  0.07041560113430023,\n",
       "  0.05516701564192772,\n",
       "  0.041666727513074875,\n",
       "  0.036655623465776443,\n",
       "  0.040848616510629654,\n",
       "  0.04649883136153221,\n",
       "  0.04528985545039177,\n",
       "  0.03548372909426689,\n",
       "  0.02264317125082016,\n",
       "  0.014325781725347042,\n",
       "  0.013229493983089924,\n",
       "  0.017682794481515884,\n",
       "  0.02181587740778923,\n",
       "  0.02004823088645935,\n",
       "  0.012111441232264042,\n",
       "  0.002937190467491746,\n",
       "  -0.0036904732696712017,\n",
       "  -0.006264509167522192,\n",
       "  -0.005145040340721607,\n",
       "  -0.0028326406609266996,\n",
       "  -0.0024572417605668306,\n",
       "  -0.005360608920454979,\n",
       "  -0.009390156716108322,\n",
       "  -0.012087889946997166,\n",
       "  -0.011984681710600853,\n",
       "  -0.010309692472219467,\n",
       "  -0.009568475186824799,\n",
       "  -0.010827149264514446,\n",
       "  -0.013188153505325317,\n",
       "  -0.015615695156157017,\n",
       "  -0.018298843875527382,\n",
       "  -0.02080644853413105,\n",
       "  -0.022356262430548668,\n",
       "  -0.023005541414022446,\n",
       "  -0.023296093568205833,\n",
       "  -0.02359519526362419,\n",
       "  -0.025564514100551605,\n",
       "  -0.029870983213186264,\n",
       "  -0.03433377668261528,\n",
       "  -0.03670854866504669,\n",
       "  -0.036537736654281616,\n",
       "  -0.03532950580120087,\n",
       "  -0.035794276744127274,\n",
       "  -0.0392150804400444,\n",
       "  -0.04363375902175903,\n",
       "  -0.04619487747550011,\n",
       "  -0.04581962898373604,\n",
       "  -0.04442685469985008,\n",
       "  -0.04451121389865875,\n",
       "  -0.04609980434179306,\n",
       "  -0.04739685356616974,\n",
       "  -0.04770297184586525,\n",
       "  -0.047626182436943054,\n",
       "  -0.04724675789475441,\n",
       "  -0.04681994765996933,\n",
       "  -0.04597083851695061,\n",
       "  -0.04356670007109642,\n",
       "  -0.04005271941423416,\n",
       "  -0.03667942062020302,\n",
       "  -0.03447691351175308,\n",
       "  -0.03381181135773659,\n",
       "  -0.03341226279735565,\n",
       "  -0.03215837851166725,\n",
       "  -0.030057983472943306,\n",
       "  -0.026854747906327248,\n",
       "  -0.022508831694722176,\n",
       "  -0.018033325672149658,\n",
       "  -0.014761275611817837,\n",
       "  -0.013932812958955765,\n",
       "  -0.01455171313136816,\n",
       "  -0.014139082282781601,\n",
       "  -0.011335127055644989,\n",
       "  -0.006843130569905043,\n",
       "  -0.0033903303556144238,\n",
       "  -0.0026557513047009706,\n",
       "  -0.004725937731564045,\n",
       "  -0.007239981554448605,\n",
       "  -0.007075812667608261,\n",
       "  -0.004295462276786566,\n",
       "  -0.0011114180088043213,\n",
       "  0.0004937277990393341,\n",
       "  -0.0003117277519777417,\n",
       "  -0.0028059142641723156,\n",
       "  -0.004549408331513405,\n",
       "  -0.004813524894416332,\n",
       "  -0.004603574518114328,\n",
       "  -0.00454039266332984,\n",
       "  -0.005050479434430599,\n",
       "  -0.005511583760380745,\n",
       "  -0.005442769732326269,\n",
       "  -0.004832681268453598,\n",
       "  -0.004501268267631531,\n",
       "  -0.005971258040517569,\n",
       "  -0.008552655577659607,\n",
       "  -0.01036512665450573,\n",
       "  -0.010361594147980213,\n",
       "  -0.008803540840744972,\n",
       "  -0.007852144539356232,\n",
       "  -0.00953989289700985,\n",
       "  -0.01287490501999855,\n",
       "  -0.014553721062839031,\n",
       "  -0.013121086172759533,\n",
       "  -0.009913555346429348,\n",
       "  -0.007789148949086666,\n",
       "  -0.008813058957457542,\n",
       "  -0.012063802219927311,\n",
       "  -0.015718283131718636,\n",
       "  -0.016825852915644646,\n",
       "  -0.01417776569724083,\n",
       "  -0.010928892530500889,\n",
       "  -0.010320214554667473,\n",
       "  -0.012864883989095688,\n",
       "  -0.01603725366294384,\n",
       "  -0.017557818442583084,\n",
       "  -0.016770582646131516,\n",
       "  -0.014752709306776524,\n",
       "  -0.01376039907336235,\n",
       "  -0.01468526292592287,\n",
       "  -0.016342539340257645,\n",
       "  -0.01837053708732128,\n",
       "  -0.019186673685908318,\n",
       "  -0.01935780979692936,\n",
       "  -0.018520278856158257,\n",
       "  -0.006582967471331358,\n",
       "  0.015912117436528206,\n",
       "  0.037075091153383255,\n",
       "  0.046115677803754807,\n",
       "  0.03929717838764191,\n",
       "  0.02842038683593273,\n",
       "  0.028770102187991142,\n",
       "  0.04497377946972847,\n",
       "  0.06892101466655731,\n",
       "  0.0857841819524765,\n",
       "  0.08552157133817673,\n",
       "  0.07357844710350037,\n",
       "  0.06327568739652634,\n",
       "  0.06535578519105911,\n",
       "  0.08010264486074448,\n",
       "  0.09551545232534409,\n",
       "  0.1006111279129982,\n",
       "  0.09307561069726944,\n",
       "  0.08046570420265198,\n",
       "  0.07262735068798065,\n",
       "  0.07317038625478745,\n",
       "  0.07947050034999847,\n",
       "  0.08538705855607986,\n",
       "  0.08481074124574661,\n",
       "  0.07551851868629456,\n",
       "  0.06178358942270279,\n",
       "  0.050957512110471725,\n",
       "  0.04748193547129631,\n",
       "  0.04972798377275467,\n",
       "  0.05110805109143257,\n",
       "  0.04627741500735283,\n",
       "  0.036081790924072266,\n",
       "  0.0253913551568985,\n",
       "  0.018966250121593475,\n",
       "  0.01862836256623268,\n",
       "  0.021199263632297516,\n",
       "  0.02148759923875332,\n",
       "  0.016793565824627876,\n",
       "  0.009182102978229523,\n",
       "  0.0030771426390856504,\n",
       "  -0.00037793838419020176,\n",
       "  -0.0028340346179902554,\n",
       "  -0.005715833976864815,\n",
       "  -0.008892213925719261,\n",
       "  -0.011339429765939713,\n",
       "  -0.012006392702460289,\n",
       "  -0.011273390613496304,\n",
       "  -0.011243165470659733,\n",
       "  -0.013692350126802921,\n",
       "  -0.017667170614004135,\n",
       "  -0.020416157320141792,\n",
       "  -0.020486682653427124,\n",
       "  -0.017535744234919548,\n",
       "  -0.01468630786985159,\n",
       "  -0.015453388914465904,\n",
       "  -0.020100858062505722,\n",
       "  -0.02584734372794628,\n",
       "  -0.029138045385479927,\n",
       "  -0.028972085565328598,\n",
       "  -0.026304487138986588,\n",
       "  -0.02426314726471901,\n",
       "  -0.025977276265621185,\n",
       "  -0.03203391283750534,\n",
       "  -0.03931649774312973,\n",
       "  -0.043154846876859665,\n",
       "  -0.042011287063360214,\n",
       "  -0.03843497484922409,\n",
       "  -0.036711085587739944,\n",
       "  -0.03954807296395302,\n",
       "  -0.045564256608486176,\n",
       "  -0.05080925673246384,\n",
       "  -0.05206923931837082,\n",
       "  -0.04960883781313896,\n",
       "  -0.046262480318546295,\n",
       "  -0.04510655626654625,\n",
       "  -0.046988487243652344,\n",
       "  -0.04979332163929939,\n",
       "  -0.051177702844142914,\n",
       "  -0.04962228611111641,\n",
       "  -0.04638109356164932,\n",
       "  -0.043452370911836624,\n",
       "  -0.04159662872552872,\n",
       "  -0.04067574068903923,\n",
       "  -0.039307985454797745,\n",
       "  -0.03704680874943733,\n",
       "  -0.034225765615701675,\n",
       "  -0.03130076453089714,\n",
       "  -0.028687387704849243,\n",
       "  -0.02620340883731842,\n",
       "  -0.023726027458906174,\n",
       "  -0.021248919889330864,\n",
       "  -0.018712623044848442,\n",
       "  -0.016140693798661232,\n",
       "  -0.014083965681493282,\n",
       "  -0.01202941033989191,\n",
       "  -0.010078639723360538,\n",
       "  -0.008485673926770687,\n",
       "  -0.0066466922871768475,\n",
       "  -0.004885034170001745,\n",
       "  -0.0031769077759236097,\n",
       "  -0.002478675451129675,\n",
       "  -0.002677775686606765,\n",
       "  -0.003354480257257819,\n",
       "  -0.003524010069668293,\n",
       "  -0.002408143598586321,\n",
       "  -0.0009911955567076802,\n",
       "  -0.0002880727988667786,\n",
       "  -0.0014340383931994438,\n",
       "  -0.003409114433452487,\n",
       "  -0.00502112228423357,\n",
       "  -0.005337494425475597,\n",
       "  -0.004497528541833162,\n",
       "  -0.0036394326016306877,\n",
       "  -0.004047286231070757,\n",
       "  ...],\n",
       " 'predicted': 4}"
      ]
     },
     "execution_count": 34,
     "metadata": {},
     "output_type": "execute_result"
    }
   ],
   "source": [
    "result[0]"
   ]
  },
  {
   "cell_type": "code",
   "execution_count": 35,
   "metadata": {
    "id": "vRtajzvTabeH"
   },
   "outputs": [
    {
     "name": "stdout",
     "output_type": "stream",
     "text": [
      "[5, 1, 1, 4, 5]\n",
      "[4, 4, 4, 4, 4]\n"
     ]
    }
   ],
   "source": [
    "y_true = [config.label2id[name] for name in result[\"emotion\"]]\n",
    "\n",
    "\n",
    "y_pred = result[\"predicted\"]\n",
    "\n",
    "print(y_true[:5])\n",
    "print(y_pred[:5])"
   ]
  },
  {
   "cell_type": "code",
   "execution_count": 36,
   "metadata": {},
   "outputs": [
    {
     "name": "stdout",
     "output_type": "stream",
     "text": [
      "[4, 4, 4, 4, 4, 4, 4, 3, 4, 4, 4, 4, 3, 4, 4, 4, 4, 3, 2, 3, 4, 4, 4, 4, 3, 3, 4, 4, 4, 4, 4, 4, 4, 3, 4, 4, 4, 4, 4, 3, 3, 4, 4, 4, 4, 4, 4, 3, 4, 3, 4, 3, 4, 4, 4, 4, 4, 4, 4, 3, 3, 3, 0, 4, 4, 4, 4, 4, 4, 4, 4, 4, 4, 3, 4, 4, 4, 4, 4, 4, 4, 4, 4, 4, 4, 4, 4, 4, 4, 4, 4, 4, 4, 4, 4, 3, 4, 4, 4, 4, 4, 3, 3, 4, 4, 4, 4, 4, 4, 4, 4, 4, 0, 4, 3, 4, 3, 4, 4, 4, 4, 4, 4, 4, 4, 0, 4, 3, 4, 4, 4, 4, 4, 4, 4, 2, 3, 4, 2, 4, 0, 4, 4, 4, 3, 4, 3, 4, 4, 4, 4, 3, 4, 4]\n"
     ]
    }
   ],
   "source": [
    "print(result['predicted'])\n",
    "#config.label2id['happy']"
   ]
  },
  {
   "cell_type": "code",
   "execution_count": 37,
   "metadata": {
    "id": "tUt5rIppXrzl"
   },
   "outputs": [
    {
     "name": "stdout",
     "output_type": "stream",
     "text": [
      "              precision    recall  f1-score   support\n",
      "\n",
      "       angry       0.00      0.00      0.00        25\n",
      "     disgust       0.00      0.00      0.00        26\n",
      "        fear       1.00      0.12      0.21        26\n",
      "       happy       0.19      0.19      0.19        26\n",
      "          ps       0.20      0.92      0.33        26\n",
      "         sad       0.00      0.00      0.00        25\n",
      "\n",
      "    accuracy                           0.21       154\n",
      "   macro avg       0.23      0.21      0.12       154\n",
      "weighted avg       0.23      0.21      0.12       154\n",
      "\n"
     ]
    },
    {
     "name": "stderr",
     "output_type": "stream",
     "text": [
      "/home/ckwdani/Programming/Projects/masterarbeit/Jupyter/mainProject/venv/lib/python3.10/site-packages/sklearn/metrics/_classification.py:1344: UndefinedMetricWarning: Precision and F-score are ill-defined and being set to 0.0 in labels with no predicted samples. Use `zero_division` parameter to control this behavior.\n",
      "  _warn_prf(average, modifier, msg_start, len(result))\n",
      "/home/ckwdani/Programming/Projects/masterarbeit/Jupyter/mainProject/venv/lib/python3.10/site-packages/sklearn/metrics/_classification.py:1344: UndefinedMetricWarning: Precision and F-score are ill-defined and being set to 0.0 in labels with no predicted samples. Use `zero_division` parameter to control this behavior.\n",
      "  _warn_prf(average, modifier, msg_start, len(result))\n",
      "/home/ckwdani/Programming/Projects/masterarbeit/Jupyter/mainProject/venv/lib/python3.10/site-packages/sklearn/metrics/_classification.py:1344: UndefinedMetricWarning: Precision and F-score are ill-defined and being set to 0.0 in labels with no predicted samples. Use `zero_division` parameter to control this behavior.\n",
      "  _warn_prf(average, modifier, msg_start, len(result))\n"
     ]
    }
   ],
   "source": [
    "print(classification_report(y_true, y_pred, target_names=label_names))"
   ]
  },
  {
   "cell_type": "markdown",
   "metadata": {
    "id": "Ylb2Z6Xke2ro"
   },
   "source": [
    "# Prediction"
   ]
  },
  {
   "cell_type": "code",
   "execution_count": 38,
   "metadata": {
    "id": "EQzCioPhWIiX"
   },
   "outputs": [],
   "source": [
    "import torch\n",
    "import torch.nn as nn\n",
    "import torch.nn.functional as F\n",
    "import torchaudio\n",
    "from transformers import AutoConfig, Wav2Vec2Processor\n",
    "\n",
    "import librosa\n",
    "import IPython.display as ipd\n",
    "import numpy as np\n",
    "import pandas as pd"
   ]
  },
  {
   "cell_type": "code",
   "execution_count": 45,
   "metadata": {
    "id": "DocavTvQWIr_"
   },
   "outputs": [],
   "source": [
    "#device = torch.device(\"cuda\" if torch.cuda.is_available() else \"cpu\")\n",
    "##model_name_or_path = \"m3hrdadfi/wav2vec2-xlsr-greek-speech-emotion-recognition\"\n",
    "## config = AutoConfig.from_pretrained(model_name_or_path)\n",
    "#processor = Wav2Vec2Processor.from_pretrained(model_name_or_path)\n",
    "sampling_rate = processor.feature_extractor.sampling_rate\n",
    "#model = KNNModel.Wav2Vec2ForSpeechClassification.from_pretrained(model_name_or_path).to(device)"
   ]
  },
  {
   "cell_type": "code",
   "execution_count": 46,
   "metadata": {
    "id": "1SSs95o9WIvK"
   },
   "outputs": [],
   "source": [
    "def speech_file_to_array_fn(path, sampling_rate):\n",
    "    speech_array, _sampling_rate = torchaudio.load(path)\n",
    "    resampler = torchaudio.transforms.Resample(_sampling_rate)\n",
    "    speech = resampler(speech_array).squeeze().numpy()\n",
    "    return speech\n",
    "\n",
    "\n",
    "def predict(path, sampling_rate):\n",
    "    speech = speech_file_to_array_fn(path, sampling_rate)\n",
    "    features = processor(speech, sampling_rate=sampling_rate, return_tensors=\"pt\", padding=True)\n",
    "\n",
    "    input_values = features.input_values.to(device)\n",
    "    attention_mask = features.attention_mask.to(device)\n",
    "\n",
    "    with torch.no_grad():\n",
    "        logits = model(input_values, attention_mask=attention_mask).logits\n",
    "\n",
    "    scores = F.softmax(logits, dim=1).detach().cpu().numpy()[0]\n",
    "    outputs = [{\"Emotion\": config.id2label[i], \"Score\": f\"{round(score * 100, 3):.1f}%\"} for i, score in enumerate(scores)]\n",
    "    return outputs\n",
    "\n",
    "\n",
    "STYLES = \"\"\"\n",
    "<style>\n",
    "div.display_data {\n",
    "    margin: 0 auto;\n",
    "    max-width: 500px;\n",
    "}\n",
    "table.xxx {\n",
    "    margin: 50px !important;\n",
    "    float: right !important;\n",
    "    clear: both !important;\n",
    "}\n",
    "table.xxx td {\n",
    "    min-width: 300px !important;\n",
    "    text-align: center !important;\n",
    "}\n",
    "</style>\n",
    "\"\"\".strip()\n",
    "\n",
    "def prediction(df_row):\n",
    "    path, emotion = df_row[\"path\"], df_row[\"emotion\"]\n",
    "    df = pd.DataFrame([{\"Emotion\": emotion, \"Sentence\": \"    \"}])\n",
    "    setup = {\n",
    "        'border': 2,\n",
    "        'show_dimensions': True,\n",
    "        'justify': 'center',\n",
    "        'classes': 'xxx',\n",
    "        'escape': False,\n",
    "    }\n",
    "    ipd.display(ipd.HTML(STYLES + df.to_html(**setup) + \"<br />\"))\n",
    "    speech, sr = torchaudio.load(path)\n",
    "    speech = speech[0].numpy().squeeze()\n",
    "    speech = librosa.resample(np.asarray(speech), sr, sampling_rate)\n",
    "    ipd.display(ipd.Audio(data=np.asarray(speech), autoplay=True, rate=sampling_rate))\n",
    "\n",
    "    outputs = predict(path, sampling_rate)\n",
    "    r = pd.DataFrame(outputs)\n",
    "    ipd.display(ipd.HTML(STYLES + r.to_html(**setup) + \"<br />\"))"
   ]
  },
  {
   "cell_type": "code",
   "execution_count": 47,
   "metadata": {
    "id": "UD7oUP20YwYT"
   },
   "outputs": [
    {
     "data": {
      "text/html": [
       "<div>\n",
       "<style scoped>\n",
       "    .dataframe tbody tr th:only-of-type {\n",
       "        vertical-align: middle;\n",
       "    }\n",
       "\n",
       "    .dataframe tbody tr th {\n",
       "        vertical-align: top;\n",
       "    }\n",
       "\n",
       "    .dataframe thead th {\n",
       "        text-align: right;\n",
       "    }\n",
       "</style>\n",
       "<table border=\"1\" class=\"dataframe\">\n",
       "  <thead>\n",
       "    <tr style=\"text-align: right;\">\n",
       "      <th></th>\n",
       "      <th>path</th>\n",
       "      <th>emotion</th>\n",
       "    </tr>\n",
       "  </thead>\n",
       "  <tbody>\n",
       "    <tr>\n",
       "      <th>0</th>\n",
       "      <td>../Stimuli_Intensitätsmorphs/nm04_sad_w02_c_50...</td>\n",
       "      <td>sad</td>\n",
       "    </tr>\n",
       "    <tr>\n",
       "      <th>1</th>\n",
       "      <td>../Stimuli_Intensitätsmorphs/nf01_dis_w01_o_50...</td>\n",
       "      <td>disgust</td>\n",
       "    </tr>\n",
       "    <tr>\n",
       "      <th>2</th>\n",
       "      <td>../Stimuli_Intensitätsmorphs/nm02_dis_w02_o_25...</td>\n",
       "      <td>disgust</td>\n",
       "    </tr>\n",
       "    <tr>\n",
       "      <th>3</th>\n",
       "      <td>../Stimuli_Intensitätsmorphs/nm04_sur_w05_o_75...</td>\n",
       "      <td>ps</td>\n",
       "    </tr>\n",
       "    <tr>\n",
       "      <th>4</th>\n",
       "      <td>../Stimuli_Intensitätsmorphs/nf03_sad_w03_o_10...</td>\n",
       "      <td>sad</td>\n",
       "    </tr>\n",
       "  </tbody>\n",
       "</table>\n",
       "</div>"
      ],
      "text/plain": [
       "                                                path  emotion\n",
       "0  ../Stimuli_Intensitätsmorphs/nm04_sad_w02_c_50...      sad\n",
       "1  ../Stimuli_Intensitätsmorphs/nf01_dis_w01_o_50...  disgust\n",
       "2  ../Stimuli_Intensitätsmorphs/nm02_dis_w02_o_25...  disgust\n",
       "3  ../Stimuli_Intensitätsmorphs/nm04_sur_w05_o_75...       ps\n",
       "4  ../Stimuli_Intensitätsmorphs/nf03_sad_w03_o_10...      sad"
      ]
     },
     "execution_count": 47,
     "metadata": {},
     "output_type": "execute_result"
    }
   ],
   "source": [
    "test = pd.read_csv(\"content/data/test.csv\", sep=\"\\t\")\n",
    "test.head()"
   ]
  },
  {
   "cell_type": "code",
   "execution_count": 50,
   "metadata": {
    "id": "FlJO2LfVWIyT"
   },
   "outputs": [
    {
     "data": {
      "text/html": [
       "<style>\n",
       "div.display_data {\n",
       "    margin: 0 auto;\n",
       "    max-width: 500px;\n",
       "}\n",
       "table.xxx {\n",
       "    margin: 50px !important;\n",
       "    float: right !important;\n",
       "    clear: both !important;\n",
       "}\n",
       "table.xxx td {\n",
       "    min-width: 300px !important;\n",
       "    text-align: center !important;\n",
       "}\n",
       "</style><table border=\"2\" class=\"dataframe xxx\">\n",
       "  <thead>\n",
       "    <tr style=\"text-align: center;\">\n",
       "      <th></th>\n",
       "      <th>Emotion</th>\n",
       "      <th>Sentence</th>\n",
       "    </tr>\n",
       "  </thead>\n",
       "  <tbody>\n",
       "    <tr>\n",
       "      <th>0</th>\n",
       "      <td>sad</td>\n",
       "      <td></td>\n",
       "    </tr>\n",
       "  </tbody>\n",
       "</table>\n",
       "<p>1 rows × 2 columns</p><br />"
      ],
      "text/plain": [
       "<IPython.core.display.HTML object>"
      ]
     },
     "metadata": {},
     "output_type": "display_data"
    },
    {
     "name": "stderr",
     "output_type": "stream",
     "text": [
      "/tmp/ipykernel_55462/3211767695.py:54: FutureWarning: Pass orig_sr=44100, target_sr=16000 as keyword args. From version 0.10 passing these as positional arguments will result in an error\n",
      "  speech = librosa.resample(np.asarray(speech), sr, sampling_rate)\n"
     ]
    },
    {
     "data": {
      "text/html": [
       "\n",
       "                <audio  controls=\"controls\" autoplay=\"autoplay\">\n",
       "                    <source src=\"data:audio/wav;base64,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\" type=\"audio/wav\" />\n",
       "                    Your browser does not support the audio element.\n",
       "                </audio>\n",
       "              "
      ],
      "text/plain": [
       "<IPython.lib.display.Audio object>"
      ]
     },
     "metadata": {},
     "output_type": "display_data"
    },
    {
     "data": {
      "text/html": [
       "<style>\n",
       "div.display_data {\n",
       "    margin: 0 auto;\n",
       "    max-width: 500px;\n",
       "}\n",
       "table.xxx {\n",
       "    margin: 50px !important;\n",
       "    float: right !important;\n",
       "    clear: both !important;\n",
       "}\n",
       "table.xxx td {\n",
       "    min-width: 300px !important;\n",
       "    text-align: center !important;\n",
       "}\n",
       "</style><table border=\"2\" class=\"dataframe xxx\">\n",
       "  <thead>\n",
       "    <tr style=\"text-align: center;\">\n",
       "      <th></th>\n",
       "      <th>Emotion</th>\n",
       "      <th>Score</th>\n",
       "    </tr>\n",
       "  </thead>\n",
       "  <tbody>\n",
       "    <tr>\n",
       "      <th>0</th>\n",
       "      <td>angry</td>\n",
       "      <td>15.5%</td>\n",
       "    </tr>\n",
       "    <tr>\n",
       "      <th>1</th>\n",
       "      <td>disgust</td>\n",
       "      <td>15.2%</td>\n",
       "    </tr>\n",
       "    <tr>\n",
       "      <th>2</th>\n",
       "      <td>fear</td>\n",
       "      <td>15.0%</td>\n",
       "    </tr>\n",
       "    <tr>\n",
       "      <th>3</th>\n",
       "      <td>happy</td>\n",
       "      <td>18.1%</td>\n",
       "    </tr>\n",
       "    <tr>\n",
       "      <th>4</th>\n",
       "      <td>ps</td>\n",
       "      <td>18.7%</td>\n",
       "    </tr>\n",
       "    <tr>\n",
       "      <th>5</th>\n",
       "      <td>sad</td>\n",
       "      <td>17.6%</td>\n",
       "    </tr>\n",
       "  </tbody>\n",
       "</table>\n",
       "<p>6 rows × 2 columns</p><br />"
      ],
      "text/plain": [
       "<IPython.core.display.HTML object>"
      ]
     },
     "metadata": {},
     "output_type": "display_data"
    }
   ],
   "source": [
    "prediction(test.iloc[0])"
   ]
  },
  {
   "cell_type": "code",
   "execution_count": 49,
   "metadata": {
    "id": "hzoKOgpoWI1K"
   },
   "outputs": [
    {
     "data": {
      "text/html": [
       "<style>\n",
       "div.display_data {\n",
       "    margin: 0 auto;\n",
       "    max-width: 500px;\n",
       "}\n",
       "table.xxx {\n",
       "    margin: 50px !important;\n",
       "    float: right !important;\n",
       "    clear: both !important;\n",
       "}\n",
       "table.xxx td {\n",
       "    min-width: 300px !important;\n",
       "    text-align: center !important;\n",
       "}\n",
       "</style><table border=\"2\" class=\"dataframe xxx\">\n",
       "  <thead>\n",
       "    <tr style=\"text-align: center;\">\n",
       "      <th></th>\n",
       "      <th>Emotion</th>\n",
       "      <th>Sentence</th>\n",
       "    </tr>\n",
       "  </thead>\n",
       "  <tbody>\n",
       "    <tr>\n",
       "      <th>0</th>\n",
       "      <td>angry</td>\n",
       "      <td></td>\n",
       "    </tr>\n",
       "  </tbody>\n",
       "</table>\n",
       "<p>1 rows × 2 columns</p><br />"
      ],
      "text/plain": [
       "<IPython.core.display.HTML object>"
      ]
     },
     "metadata": {},
     "output_type": "display_data"
    },
    {
     "name": "stderr",
     "output_type": "stream",
     "text": [
      "/tmp/ipykernel_55462/3211767695.py:54: FutureWarning: Pass orig_sr=44100, target_sr=16000 as keyword args. From version 0.10 passing these as positional arguments will result in an error\n",
      "  speech = librosa.resample(np.asarray(speech), sr, sampling_rate)\n"
     ]
    },
    {
     "data": {
      "text/html": [
       "\n",
       "                <audio  controls=\"controls\" autoplay=\"autoplay\">\n",
       "                    <source src=\"data:audio/wav;base64,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\" type=\"audio/wav\" />\n",
       "                    Your browser does not support the audio element.\n",
       "                </audio>\n",
       "              "
      ],
      "text/plain": [
       "<IPython.lib.display.Audio object>"
      ]
     },
     "metadata": {},
     "output_type": "display_data"
    },
    {
     "data": {
      "text/html": [
       "<style>\n",
       "div.display_data {\n",
       "    margin: 0 auto;\n",
       "    max-width: 500px;\n",
       "}\n",
       "table.xxx {\n",
       "    margin: 50px !important;\n",
       "    float: right !important;\n",
       "    clear: both !important;\n",
       "}\n",
       "table.xxx td {\n",
       "    min-width: 300px !important;\n",
       "    text-align: center !important;\n",
       "}\n",
       "</style><table border=\"2\" class=\"dataframe xxx\">\n",
       "  <thead>\n",
       "    <tr style=\"text-align: center;\">\n",
       "      <th></th>\n",
       "      <th>Emotion</th>\n",
       "      <th>Score</th>\n",
       "    </tr>\n",
       "  </thead>\n",
       "  <tbody>\n",
       "    <tr>\n",
       "      <th>0</th>\n",
       "      <td>angry</td>\n",
       "      <td>17.1%</td>\n",
       "    </tr>\n",
       "    <tr>\n",
       "      <th>1</th>\n",
       "      <td>disgust</td>\n",
       "      <td>16.6%</td>\n",
       "    </tr>\n",
       "    <tr>\n",
       "      <th>2</th>\n",
       "      <td>fear</td>\n",
       "      <td>15.7%</td>\n",
       "    </tr>\n",
       "    <tr>\n",
       "      <th>3</th>\n",
       "      <td>happy</td>\n",
       "      <td>16.7%</td>\n",
       "    </tr>\n",
       "    <tr>\n",
       "      <th>4</th>\n",
       "      <td>ps</td>\n",
       "      <td>18.2%</td>\n",
       "    </tr>\n",
       "    <tr>\n",
       "      <th>5</th>\n",
       "      <td>sad</td>\n",
       "      <td>15.7%</td>\n",
       "    </tr>\n",
       "  </tbody>\n",
       "</table>\n",
       "<p>6 rows × 2 columns</p><br />"
      ],
      "text/plain": [
       "<IPython.core.display.HTML object>"
      ]
     },
     "metadata": {},
     "output_type": "display_data"
    }
   ],
   "source": [
    "prediction(test.iloc[15])"
   ]
  },
  {
   "cell_type": "code",
   "execution_count": null,
   "metadata": {
    "id": "7nqwbTTXSfMO"
   },
   "outputs": [],
   "source": [
    "prediction(test.iloc[2])"
   ]
  }
 ],
 "metadata": {
  "accelerator": "GPU",
  "colab": {
   "name": "Emotion recognition in Greek speech using Wav2Vec2.ipynb",
   "provenance": []
  },
  "kernelspec": {
   "display_name": "Python 3 (ipykernel)",
   "language": "python",
   "name": "python3"
  },
  "language_info": {
   "codemirror_mode": {
    "name": "ipython",
    "version": 3
   },
   "file_extension": ".py",
   "mimetype": "text/x-python",
   "name": "python",
   "nbconvert_exporter": "python",
   "pygments_lexer": "ipython3",
   "version": "3.10.8"
  }
 },
 "nbformat": 4,
 "nbformat_minor": 1
}
