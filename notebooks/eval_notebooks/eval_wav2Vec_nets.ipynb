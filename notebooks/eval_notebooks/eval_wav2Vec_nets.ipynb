{
 "cells": [
  {
   "cell_type": "markdown",
   "source": [
    "# Evaluate"
   ],
   "metadata": {
    "collapsed": false
   }
  },
  {
   "cell_type": "markdown",
   "source": [
    "## Tess trained"
   ],
   "metadata": {
    "collapsed": false
   }
  },
  {
   "cell_type": "code",
   "execution_count": 11,
   "outputs": [
    {
     "name": "stdout",
     "output_type": "stream",
     "text": [
      "[============================================================] 100.0% ...generating encoding\r"
     ]
    }
   ],
   "source": [
    "import sys\n",
    "from pathlib import Path\n",
    "\n",
    "import pandas as pd\n",
    "import torch\n",
    "\n",
    "device = torch.device(\"cuda\" if torch.cuda.is_available() else \"cpu\")\n",
    "module_path = str(Path.cwd().parents[0] / \"network_models/w2v_emotion_model\")\n",
    "if module_path not in sys.path:\n",
    "    sys.path.append(module_path)\n",
    "\n",
    "import utils.wav2Vec_utils as w2vU\n",
    "import utils.audio_dataset_utils as ADU\n",
    "import network_models.soundstream_lstm.LSTM_dataset as lds\n",
    "import network_models.soundstream_lstm.CombinedEmoDataset_7_Emo as ced\n",
    "import  network_models.w2v_emotion_model.custom_collator as cc\n",
    "import network_models.w2v_emotion_model.custom_model as cm\n",
    "import network_models.w2v_emotion_model.model_trainer as ct\n",
    "import gc\n",
    "\n",
    "model_name_or_path = \"facebook/wav2vec2-large-960h-lv60-self\"\n",
    "pooling_mode = \"mean\"\n",
    "device = \"cuda\"\n",
    "\n",
    "\n",
    "emo_dataset = ced.CombinedEmoDataSet_7_emos(\n",
    "    directory_tess=\"/home/ckwdani/Music/emotionDatasets/converted_mono/tess\",\n",
    "    #directory_cafe=\"/home/ckwdani/Music/emotionDatasets/converted_mono/cafe\",\n",
    "    #directory_ravdess=\"/home/ckwdani/Music/emotionDatasets/converted_mono/RAVDESS Audio_Speech_Actors_01-24\",\n",
    "                                             #directory_mesd=\"/home/ckwdani/Music/emotionDatasets/converted_mono/mesd\",\n",
    "                                             device=device)\n",
    "\n",
    "processor, sr = w2vU.init_w2v2(num_labels=len(emo_dataset.label_list), label_list=emo_dataset.label_list, device=device)\n",
    "newSet = lds.AudioEmotionTessWav2VecDataset(emo_dataset, processor= processor, sampling_rate=sr)\n",
    "\n",
    "model = cm.Wav2Vec2ForSpeechClassification(model_name_or_path=model_name_or_path, pooling_mode=\"mean\", device=device)\n",
    "model.freeze_feature_extractor()\n"
   ],
   "metadata": {
    "collapsed": false
   }
  },
  {
   "cell_type": "code",
   "execution_count": 12,
   "outputs": [
    {
     "data": {
      "text/plain": "<All keys matched successfully>"
     },
     "execution_count": 12,
     "metadata": {},
     "output_type": "execute_result"
    }
   ],
   "source": [
    "model.load_state_dict(torch.load(\"../content/classifier/W2VClassifier/Nr1/emo_reco_800.pth\"))"
   ],
   "metadata": {
    "collapsed": false
   }
  },
  {
   "cell_type": "code",
   "execution_count": 28,
   "outputs": [
    {
     "name": "stderr",
     "output_type": "stream",
     "text": [
      "/home/ckwdani/Programming/Projects/masterarbeit/Jupyter/mainProject/venv/lib/python3.10/site-packages/torch/nn/functional.py:1956: UserWarning: nn.functional.tanh is deprecated. Use torch.tanh instead.\n",
      "  warnings.warn(\"nn.functional.tanh is deprecated. Use torch.tanh instead.\")\n",
      "/home/ckwdani/Programming/Projects/masterarbeit/Jupyter/mainProject/network_models/w2v_emotion_model/custom_model.py:53: UserWarning: Implicit dimension choice for softmax has been deprecated. Change the call to include dim=X as an argument.\n",
      "  y = softmax(y)\n"
     ]
    },
    {
     "name": "stdout",
     "output_type": "stream",
     "text": [
      "0 of 276\n",
      "80 of 276\n",
      "160 of 276\n",
      "240 of 276\n"
     ]
    }
   ],
   "source": [
    "from torch.utils.data import DataLoader\n",
    "import numpy\n",
    "import torch.nn.functional as F\n",
    "trainSet, evalSet = ADU.train_val_dataset(newSet, 0.1)\n",
    "batch_size = 8\n",
    "dataset = evalSet\n",
    "data_collator = cc.DataCollatorCTCWithPadding(processor=processor, padding=True, num_labels=len(newSet.dataSet.label_list))\n",
    "loader = DataLoader(dataset, shuffle=False, batch_size=batch_size, num_workers=1 ,collate_fn=data_collator.collate_fn)\n",
    "true, preds = [], []\n",
    "with torch.no_grad():\n",
    "    for batch, (X, z) in enumerate(loader):\n",
    "        gc.collect()\n",
    "        X, z = X.to(device),  z.to(device)\n",
    "        pred = model(X)\n",
    "        labels = [torch.squeeze(a.nonzero()).item() for a in z]\n",
    "        true = true + labels\n",
    "\n",
    "        preds = preds + pred.argmax(1).cpu().numpy().tolist()\n",
    "        gc.collect()\n",
    "        #preds.append(pred.argmax(1))\n",
    "        if batch % 10 == 0:\n",
    "            print(f\"{batch*batch_size} of {len(dataset)}\")\n",
    "\n",
    "# correct = 0\n",
    "# with torch.no_grad():\n",
    "#     for i in range(len(newSet)):\n",
    "#         tensor = torch.tensor(newSet[i][0])\n",
    "#         if(i%10 == 1):\n",
    "#             print(f\"{i} of {len(newSet)}\")\n",
    "#             print(f\"correct: {correct*100/i} %\")\n",
    "#         if(model(torch.unsqueeze(tensor, dim=0)).argmax(1) == newSet[i][1][0]):\n",
    "#             correct = correct + 1\n",
    "        # print(5 == newSet[500][1][0])\n",
    "        # print(newSet[500][1][0])\n",
    "        # print(model(torch.unsqueeze(tensor, dim=0)))\n",
    "    #print(model(torch.tensor(numpy.expand_dims(newSet[0], axis=0))))"
   ],
   "metadata": {
    "collapsed": false
   }
  },
  {
   "cell_type": "code",
   "execution_count": 44,
   "outputs": [
    {
     "name": "stdout",
     "output_type": "stream",
     "text": [
      "              precision    recall  f1-score   support\n",
      "\n",
      "           0       0.93      0.95      0.94        44\n",
      "           1       0.95      0.97      0.96        36\n",
      "           2       0.93      0.97      0.95        40\n",
      "           3       0.81      0.96      0.88        46\n",
      "           4       1.00      1.00      1.00        36\n",
      "           5       0.00      0.00      0.00        36\n",
      "           6       0.00      0.00      0.00        38\n",
      "\n",
      "    accuracy                           0.71       276\n",
      "   macro avg       0.66      0.69      0.68       276\n",
      "weighted avg       0.67      0.71      0.69       276\n",
      "\n"
     ]
    }
   ],
   "source": [
    "from sklearn.metrics import classification_report\n",
    "\n",
    "print(classification_report(true, preds))"
   ],
   "metadata": {
    "collapsed": false
   }
  },
  {
   "cell_type": "code",
   "execution_count": 32,
   "outputs": [
    {
     "name": "stdout",
     "output_type": "stream",
     "text": [
      "['angry' 'disgust' 'fear' 'happy' 'neutral' 'sad' 'surprise']\n",
      "['neutral' 'fear' 'neutral' 'surprise' 'sad' 'fear' 'sad' 'happy' 'angry'\n",
      " 'happy' 'surprise' 'fear' 'fear' 'disgust' 'fear' 'surprise' 'disgust'\n",
      " 'neutral' 'angry' 'neutral' 'happy' 'angry' 'neutral' 'surprise' 'angry'\n",
      " 'disgust' 'happy' 'disgust' 'sad' 'surprise' 'happy' 'surprise' 'angry'\n",
      " 'neutral' 'disgust' 'disgust' 'disgust' 'happy' 'angry' 'surprise'\n",
      " 'happy' 'fear' 'sad' 'surprise' 'neutral' 'surprise' 'angry' 'surprise'\n",
      " 'surprise' 'disgust' 'angry' 'angry' 'angry' 'angry' 'disgust' 'fear'\n",
      " 'fear' 'neutral' 'surprise' 'fear' 'fear' 'sad' 'surprise' 'surprise'\n",
      " 'disgust' 'angry' 'happy' 'neutral' 'surprise' 'happy' 'disgust' 'happy'\n",
      " 'disgust' 'sad' 'angry' 'disgust' 'angry' 'neutral' 'fear' 'angry'\n",
      " 'neutral' 'neutral' 'neutral' 'disgust' 'angry' 'angry' 'disgust' 'sad'\n",
      " 'neutral' 'fear' 'happy' 'sad' 'happy' 'surprise' 'surprise' 'fear'\n",
      " 'neutral' 'happy' 'angry' 'neutral' 'angry' 'fear' 'surprise' 'angry'\n",
      " 'sad' 'happy' 'surprise' 'happy' 'fear' 'fear' 'happy' 'fear' 'surprise'\n",
      " 'fear' 'sad' 'sad' 'happy' 'angry' 'surprise' 'fear' 'sad' 'disgust'\n",
      " 'happy' 'disgust' 'neutral' 'happy' 'sad' 'fear' 'surprise' 'angry'\n",
      " 'happy' 'disgust' 'sad' 'sad' 'disgust' 'angry' 'neutral' 'happy'\n",
      " 'disgust' 'happy' 'fear' 'surprise' 'neutral' 'sad' 'sad' 'surprise'\n",
      " 'disgust' 'fear' 'sad' 'angry' 'sad' 'angry' 'sad' 'angry' 'disgust'\n",
      " 'disgust' 'fear' 'angry' 'neutral' 'angry' 'fear' 'sad' 'surprise'\n",
      " 'surprise' 'surprise' 'happy' 'angry' 'happy' 'neutral' 'happy' 'happy'\n",
      " 'sad' 'disgust' 'sad' 'sad' 'angry' 'sad' 'fear' 'angry' 'happy'\n",
      " 'neutral' 'sad' 'angry' 'fear' 'surprise' 'fear' 'fear' 'happy' 'fear'\n",
      " 'happy' 'happy' 'fear' 'angry' 'neutral' 'surprise' 'sad' 'neutral'\n",
      " 'disgust' 'happy' 'happy' 'angry' 'neutral' 'fear' 'neutral' 'neutral'\n",
      " 'sad' 'happy' 'happy' 'sad' 'angry' 'angry' 'angry' 'disgust' 'neutral'\n",
      " 'surprise' 'fear' 'surprise' 'surprise' 'sad' 'disgust' 'happy' 'disgust'\n",
      " 'fear' 'happy' 'angry' 'angry' 'happy' 'happy' 'surprise' 'angry'\n",
      " 'neutral' 'neutral' 'sad' 'surprise' 'fear' 'neutral' 'fear' 'happy'\n",
      " 'happy' 'neutral' 'neutral' 'disgust' 'fear' 'neutral' 'sad' 'fear'\n",
      " 'fear' 'happy' 'neutral' 'fear' 'happy' 'angry' 'happy' 'fear' 'surprise'\n",
      " 'sad' 'disgust' 'sad' 'sad' 'surprise' 'angry' 'surprise' 'happy'\n",
      " 'surprise' 'disgust' 'disgust' 'angry' 'disgust' 'neutral' 'angry' 'sad'\n",
      " 'disgust' 'disgust' 'happy' 'disgust' 'happy']\n"
     ]
    },
    {
     "data": {
      "text/plain": "<AxesSubplot: xlabel='test', ylabel='count'>"
     },
     "execution_count": 32,
     "metadata": {},
     "output_type": "execute_result"
    },
    {
     "data": {
      "text/plain": "<Figure size 640x480 with 1 Axes>",
      "image/png": "[encoded data removed]"
     },
     "metadata": {},
     "output_type": "display_data"
    }
   ],
   "source": [
    "import seaborn as sns\n",
    "import pandas as pd\n",
    "df = pd.DataFrame()\n",
    "df1 = pd.DataFrame()\n",
    "print(newSet.dataSet.label_list)\n",
    "print(newSet.getEmotionFromId(true))\n",
    "\n",
    "df[\"test\"] = newSet.getEmotionFromId(preds)\n",
    "df1[\"test\"] = newSet.getEmotionFromId(true)\n",
    "sns.countplot(x =\"test\", data= df)\n",
    "\n",
    "# tensor = torch.tensor(newSet[324][0])\n",
    "# model(torch.unsqueeze(tensor, dim=0)).argmax(1)"
   ],
   "metadata": {
    "collapsed": false
   }
  },
  {
   "cell_type": "code",
   "execution_count": 33,
   "outputs": [
    {
     "data": {
      "text/plain": "<AxesSubplot: xlabel='test', ylabel='count'>"
     },
     "execution_count": 33,
     "metadata": {},
     "output_type": "execute_result"
    },
    {
     "data": {
      "text/plain": "<Figure size 640x480 with 1 Axes>",
      "image/png": "[encoded data removed]"
     },
     "metadata": {},
     "output_type": "display_data"
    }
   ],
   "source": [
    "sns.countplot(x =\"test\", data= df1)"
   ],
   "metadata": {
    "collapsed": false
   }
  }
 ],
 "metadata": {
  "kernelspec": {
   "display_name": "Python 3",
   "language": "python",
   "name": "python3"
  },
  "language_info": {
   "codemirror_mode": {
    "name": "ipython",
    "version": 2
   },
   "file_extension": ".py",
   "mimetype": "text/x-python",
   "name": "python",
   "nbconvert_exporter": "python",
   "pygments_lexer": "ipython2",
   "version": "2.7.6"
  }
 },
 "nbformat": 4,
 "nbformat_minor": 0
}
