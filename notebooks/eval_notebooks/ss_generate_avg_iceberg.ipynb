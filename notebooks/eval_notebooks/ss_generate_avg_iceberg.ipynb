{
 "cells": [
  {
   "cell_type": "code",
   "execution_count": 1,
   "metadata": {
    "collapsed": true
   },
   "outputs": [
    {
     "name": "stderr",
     "output_type": "stream",
     "text": [
      "2023-02-09 13:58:16 | INFO | fairseq.tasks.text_to_speech | Please install tensorboardX: pip install tensorboardX\n",
      "2023-02-09 13:58:16.495202: I tensorflow/core/platform/cpu_feature_guard.cc:193] This TensorFlow binary is optimized with oneAPI Deep Neural Network Library (oneDNN) to use the following CPU instructions in performance-critical operations:  AVX2 FMA\n",
      "To enable them in other operations, rebuild TensorFlow with the appropriate compiler flags.\n",
      "2023-02-09 13:58:17.111351: W tensorflow/compiler/xla/stream_executor/platform/default/dso_loader.cc:64] Could not load dynamic library 'libnvinfer.so.7'; dlerror: libnvinfer.so.7: cannot open shared object file: No such file or directory\n",
      "2023-02-09 13:58:17.111408: W tensorflow/compiler/xla/stream_executor/platform/default/dso_loader.cc:64] Could not load dynamic library 'libnvinfer_plugin.so.7'; dlerror: libnvinfer_plugin.so.7: cannot open shared object file: No such file or directory\n",
      "2023-02-09 13:58:17.111412: W tensorflow/compiler/tf2tensorrt/utils/py_utils.cc:38] TF-TRT Warning: Cannot dlopen some TensorRT libraries. If you would like to use Nvidia GPU with TensorRT, please make sure the missing libraries mentioned above are installed properly.\n"
     ]
    }
   ],
   "source": [
    "from utils.audio_dataset_utils import train_val_dataset\n",
    "from network_models.soundsream_models_and_utils.ss_model_dim_red import SSDimRedModel\n",
    "from network_models.soundsream_models_and_utils.ss_model_conv import SSConvModel3Sec\n",
    "from network_models.soundsream_models_and_utils.ss_encoded_dataset import ss_encoded_dataset_full\n",
    "import torch\n",
    "from torch.utils.data import DataLoader\n",
    "\n",
    "batch_size = 1\n",
    "\n",
    "data_set= ss_encoded_dataset_full(\n",
    "    csvPath=\"/home/ckwdani/Programming/Projects/masterarbeit/Jupyter/mainProject/notebooks/content/data/allEncodings.pkl\", device=\"cuda\")\n",
    "\n",
    "\n",
    "modelDimRed = SSDimRedModel().cuda()\n",
    "modelConv = SSConvModel3Sec(xSize=512, ySize=175).cuda()\n",
    "\n"
   ]
  },
  {
   "cell_type": "code",
   "execution_count": 2,
   "outputs": [],
   "source": [
    "def generateParameters(device, model, dataset):\n",
    "    loader = DataLoader(dataset, shuffle=False, batch_size=1)\n",
    "    emo_angry = []\n",
    "    emo_disgust = []\n",
    "    emo_fear = []\n",
    "    emo_happy = []\n",
    "    emo_neutral = []\n",
    "    emo_sad = []\n",
    "    emo_surprise = []\n",
    "\n",
    "    with torch.no_grad():\n",
    "        for batch, (X, z) in enumerate(loader):\n",
    "            X, z = X.to(device),  z.to(device)\n",
    "            dims, pred = model(X, return_with_dims= True)\n",
    "            labels = data_set.encoded_dataset.label_list[z[0].nonzero().cpu().numpy()[0][0]]\n",
    "\n",
    "            match (labels):\n",
    "                case \"neutral\":\n",
    "                    emo_neutral += dims\n",
    "                case \"happy\":\n",
    "                    emo_happy += dims\n",
    "                case \"sad\":\n",
    "                    emo_sad += dims\n",
    "                case \"angry\":\n",
    "                    emo_angry += dims\n",
    "                case \"fear\":\n",
    "                    emo_fear += dims\n",
    "                case \"disgust\":\n",
    "                    emo_disgust += dims\n",
    "                case \"surprise\":\n",
    "                    emo_surprise += dims\n",
    "            if batch % 100 == 0:\n",
    "                print(f\"{batch*batch_size} of {len(dataset)}\")\n",
    "\n",
    "    return emo_angry, emo_disgust, emo_fear, emo_happy, emo_neutral, emo_sad, emo_surprise"
   ],
   "metadata": {
    "collapsed": false
   }
  },
  {
   "cell_type": "code",
   "execution_count": 3,
   "outputs": [
    {
     "name": "stderr",
     "output_type": "stream",
     "text": [
      "/home/ckwdani/Programming/Projects/masterarbeit/Jupyter/mainProject/venv/lib/python3.10/site-packages/torch/nn/functional.py:1956: UserWarning: nn.functional.tanh is deprecated. Use torch.tanh instead.\n",
      "  warnings.warn(\"nn.functional.tanh is deprecated. Use torch.tanh instead.\")\n"
     ]
    },
    {
     "name": "stdout",
     "output_type": "stream",
     "text": [
      "0 of 6092\n",
      "100 of 6092\n",
      "200 of 6092\n",
      "300 of 6092\n",
      "400 of 6092\n",
      "500 of 6092\n",
      "600 of 6092\n",
      "700 of 6092\n",
      "800 of 6092\n",
      "900 of 6092\n",
      "1000 of 6092\n",
      "1100 of 6092\n",
      "1200 of 6092\n",
      "1300 of 6092\n",
      "1400 of 6092\n",
      "1500 of 6092\n",
      "1600 of 6092\n",
      "1700 of 6092\n",
      "1800 of 6092\n",
      "1900 of 6092\n",
      "2000 of 6092\n",
      "2100 of 6092\n",
      "2200 of 6092\n",
      "2300 of 6092\n",
      "2400 of 6092\n",
      "2500 of 6092\n",
      "2600 of 6092\n",
      "2700 of 6092\n",
      "2800 of 6092\n",
      "2900 of 6092\n",
      "3000 of 6092\n",
      "3100 of 6092\n",
      "3200 of 6092\n",
      "3300 of 6092\n",
      "3400 of 6092\n",
      "3500 of 6092\n",
      "3600 of 6092\n",
      "3700 of 6092\n",
      "3800 of 6092\n",
      "3900 of 6092\n",
      "4000 of 6092\n",
      "4100 of 6092\n",
      "4200 of 6092\n",
      "4300 of 6092\n",
      "4400 of 6092\n",
      "4500 of 6092\n",
      "4600 of 6092\n",
      "4700 of 6092\n",
      "4800 of 6092\n",
      "4900 of 6092\n",
      "5000 of 6092\n",
      "5100 of 6092\n",
      "5200 of 6092\n",
      "5300 of 6092\n",
      "5400 of 6092\n",
      "5500 of 6092\n",
      "5600 of 6092\n",
      "5700 of 6092\n",
      "5800 of 6092\n",
      "5900 of 6092\n",
      "6000 of 6092\n"
     ]
    }
   ],
   "source": [
    "emo_angry, emo_disgust, emo_fear, emo_happy, emo_neutral, emo_sad, emo_surprise = generateParameters(\"cuda\", modelDimRed, data_set)"
   ],
   "metadata": {
    "collapsed": false
   }
  },
  {
   "cell_type": "code",
   "execution_count": null,
   "outputs": [],
   "source": [],
   "metadata": {
    "collapsed": false
   }
  }
 ],
 "metadata": {
  "kernelspec": {
   "display_name": "Python 3",
   "language": "python",
   "name": "python3"
  },
  "language_info": {
   "codemirror_mode": {
    "name": "ipython",
    "version": 2
   },
   "file_extension": ".py",
   "mimetype": "text/x-python",
   "name": "python",
   "nbconvert_exporter": "python",
   "pygments_lexer": "ipython2",
   "version": "2.7.6"
  }
 },
 "nbformat": 4,
 "nbformat_minor": 0
}
