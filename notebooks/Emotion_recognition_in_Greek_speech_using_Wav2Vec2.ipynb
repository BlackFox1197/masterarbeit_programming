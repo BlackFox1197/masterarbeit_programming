{
 "nbformat": 4,
 "nbformat_minor": 0,
 "metadata": {
  "colab": {
   "name": "Emotion recognition in Greek speech using Wav2Vec2.ipynb",
   "provenance": []
  },
  "kernelspec": {
   "name": "python3",
   "display_name": "Python 3"
  },
  "language_info": {
   "name": "python"
  },
  "accelerator": "GPU"
 },
 "cells": [
  {
   "cell_type": "markdown",
   "metadata": {
    "id": "5fbCls1d2yBs"
   },
   "source": [
    "# Emotion Recognition in Greek Speech Using Wav2Vec 2.0"
   ]
  },
  {
   "cell_type": "markdown",
   "metadata": {
    "id": "sp37lZOV2042"
   },
   "source": [
    "**Wav2Vec 2.0** is a pretrained model for Automatic Speech Recognition (ASR) and was released in [September 2020](https://ai.facebook.com/blog/wav2vec-20-learning-the-structure-of-speech-from-raw-audio/) by Alexei Baevski, Michael Auli, and Alex Conneau.  Soon after the superior performance of Wav2Vec2 was demonstrated on the English ASR dataset LibriSpeech, *Facebook AI* presented XLSR-Wav2Vec2 (click [here](https://arxiv.org/abs/2006.13979)). XLSR stands for *cross-lingual  speech representations* and refers to XLSR-Wav2Vec2`s ability to learn speech representations that are useful across multiple languages.\n",
    "\n",
    "Similar to Wav2Vec2, XLSR-Wav2Vec2 learns powerful speech representations from hundreds of thousands of hours of speech in more than 50 languages of unlabeled speech. Similar, to [BERT's masked language modeling](http://jalammar.github.io/illustrated-bert/), the model learns contextualized speech representations by randomly masking feature vectors before passing them to a transformer network.\n",
    "\n",
    "![wav2vec2_structure](https://raw.githubusercontent.com/patrickvonplaten/scientific_images/master/xlsr_wav2vec2.png)\n",
    "\n",
    "The authors show for the first time that massively pretraining an ASR model on cross-lingual unlabeled speech data, followed by language-specific fine-tuning on very little labeled data achieves state-of-the-art results. See Table 1-5 of the official [paper](https://arxiv.org/pdf/2006.13979.pdf)."
   ]
  },
  {
   "cell_type": "markdown",
   "metadata": {
    "id": "y0xJwDkA3QQR"
   },
   "source": [
    "During fine-tuning week hosted by HuggingFace, more than 300 people participated in tuning XLSR-Wav2Vec2's pretrained on low-resources ASR dataset for more than 50 languages. This model is fine-tuned using [Connectionist Temporal Classification](https://distill.pub/2017/ctc/) (CTC), an algorithm used to train neural networks for sequence-to-sequence problems and mainly in Automatic Speech Recognition and handwriting recognition. Follow this [notebook](https://colab.research.google.com/github/patrickvonplaten/notebooks/blob/master/Fine_Tune_XLSR_Wav2Vec2_on_Turkish_ASR_with_%F0%9F%A4%97_Transformers.ipynb#scrollTo=Gx9OdDYrCtQ1) for more information about XLSR-Wav2Vec2 fine-tuning.\n",
    "\n",
    "This model was shown significant results in many low-resources languages. You can see the [competition board](https://paperswithcode.com/dataset/common-voice) or even testing the models from the [HuggingFace hub](https://huggingface.co/models?filter=xlsr-fine-tuning-week). \n",
    "\n",
    "\n",
    "In this notebook, we will go through how to use this model to recognize the emotional aspects of speech in a language (or even as a general view using for every classification problem). Before going any further, we need to install some handy packages and define some enviroment values."
   ]
  },
  {
   "cell_type": "code",
   "metadata": {
    "id": "TYsw43ULuXC_"
   },
   "source": [
    "%%capture\n",
    "\n",
    "# !pip install git+https://github.com/huggingface/datasets.git\n",
    "# !pip install git+https://github.com/huggingface/transformers.git\n",
    "# !pip install jiwer\n",
    "# !pip install torchaudio\n",
    "# !pip install librosa\n",
    "\n",
    "# Monitor the training process\n",
    "# !pip install wandb"
   ],
   "execution_count": 1,
   "outputs": []
  },
  {
   "cell_type": "code",
   "metadata": {
    "colab": {
     "base_uri": "https://localhost:8080/"
    },
    "id": "cp4-LTa2uphv",
    "outputId": "b1490098-4140-4d72-f59e-756ca705cf83"
   },
   "source": [
    "%env LC_ALL=C.UTF-8\n",
    "%env LANG=C.UTF-8\n",
    "%env TRANSFORMERS_CACHE=/content/cache\n",
    "%env HF_DATASETS_CACHE=/content/cache\n",
    "%env CUDA_LAUNCH_BLOCKING=1"
   ],
   "execution_count": 2,
   "outputs": [
    {
     "name": "stdout",
     "output_type": "stream",
     "text": [
      "env: LC_ALL=C.UTF-8\n",
      "env: LANG=C.UTF-8\n",
      "env: TRANSFORMERS_CACHE=/content/cache\n",
      "env: HF_DATASETS_CACHE=/content/cache\n",
      "env: CUDA_LAUNCH_BLOCKING=1\n"
     ]
    }
   ]
  },
  {
   "cell_type": "code",
   "metadata": {
    "id": "A0B06FRmusKF"
   },
   "source": [
    "# # Uncomment this part if you want to setup your wandb project\n",
    "\n",
    "# %env WANDB_WATCH=all\n",
    "# %env WANDB_LOG_MODEL=1\n",
    "# %env WANDB_PROJECT=YOUR_PROJECT_NAME\n",
    "# !wandb login YOUR_API_KEY --relogin"
   ],
   "execution_count": 3,
   "outputs": []
  },
  {
   "cell_type": "markdown",
   "metadata": {
    "id": "krC50MmmvBWJ"
   },
   "source": [
    "## Prepare Data\n",
    "\n",
    "For this particular example, we use [Acted Emotional Speech Dynamic Database – AESDD](http://m3c.web.auth.gr/research/aesdd-speech-emotion-recognition/) provided by Multidisciplinary Media & Mediated Communication Research Group ([M3C](http://m3c.web.auth.gr/)). \n",
    "\n",
    "The Acted Emotional Speech Dynamic Database (AESDD) is a publically available speech emotion recognition dataset that contains utterances of acted emotional speech in the Greek language for five different emotions `sadness`, `disgust`, `happiness`, `anger`, and `fear`.\n",
    "\n",
    "The dataset consists of directories of emotions; each folder includes specific emotions. We need to loop over directories and save the paths related to each class based on the directory name.\n",
    "\n",
    "```bash\n",
    ".\n",
    "├── Tools\\ and\\ Documentation\n",
    "│   ├── ESTrainer.mlapp\n",
    "│   ├── Speech\\ Emotion\\ Recognition\\ Adapted\\ to\\ Multimodal\\ Semantic\\ Repositories_documentation.pdf\n",
    "│   ├── Speech\\ Emotion\\ Recognition\\ for\\ Performance\\ Interaction.pdf\n",
    "│   └── readme.txt\n",
    "├── anger\n",
    "│   ├── a01\\ (1).wav\n",
    "│   ├── a01\\ (2).wav\n",
    "│   ├── ...\n",
    "├── disgust\n",
    "│   ├── d01\\ (1).wav\n",
    "│   ├── d01\\ (2).wav\n",
    "│   ├── ...\n",
    "├── fear\n",
    "│   ├── f01\\ (1).wav\n",
    "│   ├── f01\\ (2).wav\n",
    "│   ├── ...\n",
    "├── happiness\n",
    "│   ├── h01\\ (1).wav\n",
    "│   ├── h01\\ (2).wav\n",
    "│   ├── ...\n",
    "└── sadness\n",
    "    ├── s01\\ (1).wav\n",
    "    ├── s01\\ (2).wav\n",
    "    ├── ...\n",
    "\n",
    "6 directories, 609 files\n",
    "```"
   ]
  },
  {
   "cell_type": "markdown",
   "metadata": {
    "id": "4UVGPPOVCl-Y"
   },
   "source": [
    "Since the dataset is hosted on [Mega](https://mega.nz/#F!0ShVXY7C!-73kVoK05OjTPEA95UUvMw) and unable to access it directly, we upload the dataset on the G-drive to make this tutorial accessible."
   ]
  },
  {
   "cell_type": "code",
   "metadata": {
    "colab": {
     "base_uri": "https://localhost:8080/"
    },
    "id": "nEKDAy2bCGFM",
    "outputId": "1a46cf10-6bbb-4dee-ec6b-acc89e34db90"
   },
   "source": [
    "# Download the dataset from \n",
    "\n",
    "# !mkdir -p /content/data\n",
    "# !gdown https://drive.google.com/uc?id=1_IAWexEWpH-ly_JaA5EGfZDp-_3flkN1\n",
    "# !unzip -q aesdd.zip -d /content/data/\n",
    "# !mv \"/content/data/Acted Emotional Speech Dynamic Database/\" /content/data/aesdd/"
   ],
   "execution_count": 4,
   "outputs": []
  },
  {
   "cell_type": "code",
   "metadata": {
    "id": "pFSqZ0jwCMSv"
   },
   "source": [
    "import numpy as np\n",
    "import pandas as pd\n",
    "\n",
    "from pathlib import Path\n",
    "from tqdm import tqdm\n",
    "\n",
    "import torchaudio\n",
    "from sklearn.model_selection import train_test_split\n",
    "\n",
    "import os\n",
    "import sys"
   ],
   "execution_count": 5,
   "outputs": []
  },
  {
   "cell_type": "code",
   "metadata": {
    "colab": {
     "base_uri": "https://localhost:8080/"
    },
    "id": "7MXAESg_Dqr6",
    "outputId": "2820808d-37db-41ab-edd5-af0a097d9281"
   },
   "source": [
    "data = []\n",
    "\n",
    "for path in tqdm(Path(\"/content/data/aesdd\").glob(\"**/*.wav\")):\n",
    "    name = str(path).split('/')[-1].split('.')[0]\n",
    "    label = str(path).split('/')[-2]\n",
    "    \n",
    "    try:\n",
    "        # There are some broken files\n",
    "        s = torchaudio.load(path)\n",
    "        data.append({\n",
    "            \"name\": name,\n",
    "            \"path\": path,\n",
    "            \"emotion\": label\n",
    "        })\n",
    "    except Exception as e:\n",
    "        # print(str(path), e)\n",
    "        pass\n",
    "\n",
    "    # break"
   ],
   "execution_count": 6,
   "outputs": [
    {
     "name": "stderr",
     "output_type": "stream",
     "text": [
      "0it [00:00, ?it/s]\n"
     ]
    }
   ]
  },
  {
   "cell_type": "code",
   "execution_count": 7,
   "outputs": [
    {
     "name": "stdout",
     "output_type": "stream",
     "text": [
      "X:\\masterarbeit_programming\\venv\\Scripts\\python.exe\n",
      "['angry', 'angry', 'angry', 'angry', 'angry', 'angry', 'angry', 'angry', 'angry', 'angry', 'angry', 'angry', 'angry', 'angry', 'angry', 'angry', 'disgust', 'disgust', 'disgust', 'disgust', 'disgust', 'disgust', 'disgust', 'disgust', 'disgust', 'disgust', 'disgust', 'disgust', 'disgust', 'disgust', 'disgust', 'disgust', 'fear', 'fear', 'fear', 'fear', 'fear', 'fear', 'fear', 'fear', 'fear', 'fear', 'fear', 'fear', 'fear', 'fear', 'fear', 'fear', 'happy', 'happy', 'happy', 'happy', 'happy', 'happy', 'happy', 'happy', 'happy', 'happy', 'happy', 'happy', 'happy', 'happy', 'happy', 'happy', 'sad', 'sad', 'sad', 'sad', 'sad', 'sad', 'sad', 'sad', 'sad', 'sad', 'sad', 'sad', 'sad', 'sad', 'sad', 'sad', 'ps', 'ps', 'ps', 'ps', 'ps', 'ps', 'ps', 'ps', 'ps', 'ps', 'ps', 'ps', 'ps', 'ps', 'ps', 'ps', 'angry', 'angry', 'angry', 'angry', 'angry', 'angry', 'angry', 'angry', 'angry', 'angry', 'angry', 'angry', 'angry', 'angry', 'angry', 'angry', 'disgust', 'disgust', 'disgust', 'disgust', 'disgust', 'disgust', 'disgust', 'disgust', 'disgust', 'disgust', 'disgust', 'disgust', 'disgust', 'disgust', 'disgust', 'disgust', 'fear', 'fear', 'fear', 'fear', 'fear', 'fear', 'fear', 'fear', 'fear', 'fear', 'fear', 'fear', 'fear', 'fear', 'fear', 'fear', 'happy', 'happy', 'happy', 'happy', 'happy', 'happy', 'happy', 'happy', 'happy', 'happy', 'happy', 'happy', 'happy', 'happy', 'happy', 'happy', 'sad', 'sad', 'sad', 'sad', 'sad', 'sad', 'sad', 'sad', 'sad', 'sad', 'sad', 'sad', 'sad', 'sad', 'sad', 'sad', 'ps', 'ps', 'ps', 'ps', 'ps', 'ps', 'ps', 'ps', 'ps', 'ps', 'ps', 'ps', 'ps', 'ps', 'ps', 'ps', 'angry', 'angry', 'angry', 'angry', 'angry', 'angry', 'angry', 'angry', 'angry', 'angry', 'angry', 'angry', 'angry', 'angry', 'angry', 'angry', 'disgust', 'disgust', 'disgust', 'disgust', 'disgust', 'disgust', 'disgust', 'disgust', 'disgust', 'disgust', 'disgust', 'disgust', 'disgust', 'disgust', 'disgust', 'disgust', 'fear', 'fear', 'fear', 'fear', 'fear', 'fear', 'fear', 'fear', 'fear', 'fear', 'fear', 'fear', 'fear', 'fear', 'fear', 'fear', 'happy', 'happy', 'happy', 'happy', 'happy', 'happy', 'happy', 'happy', 'happy', 'happy', 'happy', 'happy', 'happy', 'happy', 'happy', 'happy', 'sad', 'sad', 'sad', 'sad', 'sad', 'sad', 'sad', 'sad', 'sad', 'sad', 'sad', 'sad', 'sad', 'sad', 'sad', 'sad', 'ps', 'ps', 'ps', 'ps', 'ps', 'ps', 'ps', 'ps', 'ps', 'ps', 'ps', 'ps', 'ps', 'ps', 'ps', 'ps', 'angry', 'angry', 'angry', 'angry', 'angry', 'angry', 'angry', 'angry', 'angry', 'angry', 'angry', 'angry', 'angry', 'angry', 'angry', 'angry', 'disgust', 'disgust', 'disgust', 'disgust', 'disgust', 'disgust', 'disgust', 'disgust', 'disgust', 'disgust', 'disgust', 'disgust', 'disgust', 'disgust', 'disgust', 'disgust', 'fear', 'fear', 'fear', 'fear', 'fear', 'fear', 'fear', 'fear', 'fear', 'fear', 'fear', 'fear', 'fear', 'fear', 'fear', 'fear', 'happy', 'happy', 'happy', 'happy', 'happy', 'happy', 'happy', 'happy', 'happy', 'happy', 'happy', 'happy', 'happy', 'happy', 'happy', 'happy', 'sad', 'sad', 'sad', 'sad', 'sad', 'sad', 'sad', 'sad', 'sad', 'sad', 'sad', 'sad', 'sad', 'sad', 'sad', 'sad', 'ps', 'ps', 'ps', 'ps', 'ps', 'ps', 'ps', 'ps', 'ps', 'ps', 'ps', 'ps', 'ps', 'ps', 'ps', 'ps', 'angry', 'angry', 'angry', 'angry', 'angry', 'angry', 'angry', 'angry', 'angry', 'angry', 'angry', 'angry', 'angry', 'angry', 'angry', 'angry', 'disgust', 'disgust', 'disgust', 'disgust', 'disgust', 'disgust', 'disgust', 'disgust', 'disgust', 'disgust', 'disgust', 'disgust', 'disgust', 'disgust', 'disgust', 'disgust', 'fear', 'fear', 'fear', 'fear', 'fear', 'fear', 'fear', 'fear', 'fear', 'fear', 'fear', 'fear', 'fear', 'fear', 'fear', 'fear', 'happy', 'happy', 'happy', 'happy', 'happy', 'happy', 'happy', 'happy', 'happy', 'happy', 'happy', 'happy', 'happy', 'happy', 'happy', 'happy', 'sad', 'sad', 'sad', 'sad', 'sad', 'sad', 'sad', 'sad', 'sad', 'sad', 'sad', 'sad', 'sad', 'sad', 'sad', 'sad', 'ps', 'ps', 'ps', 'ps', 'ps', 'ps', 'ps', 'ps', 'ps', 'ps', 'ps', 'ps', 'ps', 'ps', 'ps', 'ps', 'angry', 'angry', 'angry', 'angry', 'angry', 'angry', 'angry', 'angry', 'angry', 'angry', 'angry', 'angry', 'angry', 'angry', 'angry', 'angry', 'disgust', 'disgust', 'disgust', 'disgust', 'disgust', 'disgust', 'disgust', 'disgust', 'disgust', 'disgust', 'disgust', 'disgust', 'disgust', 'disgust', 'disgust', 'disgust', 'fear', 'fear', 'fear', 'fear', 'fear', 'fear', 'fear', 'fear', 'fear', 'fear', 'fear', 'fear', 'fear', 'fear', 'fear', 'fear', 'happy', 'happy', 'happy', 'happy', 'happy', 'happy', 'happy', 'happy', 'happy', 'happy', 'happy', 'happy', 'happy', 'happy', 'happy', 'happy', 'sad', 'sad', 'sad', 'sad', 'sad', 'sad', 'sad', 'sad', 'sad', 'sad', 'sad', 'sad', 'sad', 'sad', 'sad', 'sad', 'ps', 'ps', 'ps', 'ps', 'ps', 'ps', 'ps', 'ps', 'ps', 'ps', 'ps', 'ps', 'ps', 'ps', 'ps', 'ps', 'angry', 'angry', 'angry', 'angry', 'angry', 'angry', 'angry', 'angry', 'angry', 'angry', 'angry', 'angry', 'angry', 'angry', 'angry', 'angry', 'disgust', 'disgust', 'disgust', 'disgust', 'disgust', 'disgust', 'disgust', 'disgust', 'disgust', 'disgust', 'disgust', 'disgust', 'disgust', 'disgust', 'disgust', 'disgust', 'fear', 'fear', 'fear', 'fear', 'fear', 'fear', 'fear', 'fear', 'fear', 'fear', 'fear', 'fear', 'fear', 'fear', 'fear', 'fear', 'happy', 'happy', 'happy', 'happy', 'happy', 'happy', 'happy', 'happy', 'happy', 'happy', 'happy', 'happy', 'happy', 'happy', 'happy', 'happy', 'sad', 'sad', 'sad', 'sad', 'sad', 'sad', 'sad', 'sad', 'sad', 'sad', 'sad', 'sad', 'sad', 'sad', 'sad', 'sad', 'ps', 'ps', 'ps', 'ps', 'ps', 'ps', 'ps', 'ps', 'ps', 'ps', 'ps', 'ps', 'ps', 'ps', 'ps', 'ps', 'angry', 'angry', 'angry', 'angry', 'angry', 'angry', 'angry', 'angry', 'angry', 'angry', 'angry', 'angry', 'angry', 'angry', 'angry', 'angry', 'disgust', 'disgust', 'disgust', 'disgust', 'disgust', 'disgust', 'disgust', 'disgust', 'disgust', 'disgust', 'disgust', 'disgust', 'disgust', 'disgust', 'disgust', 'disgust', 'fear', 'fear', 'fear', 'fear', 'fear', 'fear', 'fear', 'fear', 'fear', 'fear', 'fear', 'fear', 'fear', 'fear', 'fear', 'fear', 'happy', 'happy', 'happy', 'happy', 'happy', 'happy', 'happy', 'happy', 'happy', 'happy', 'happy', 'happy', 'happy', 'happy', 'happy', 'happy', 'sad', 'sad', 'sad', 'sad', 'sad', 'sad', 'sad', 'sad', 'sad', 'sad', 'sad', 'sad', 'sad', 'sad', 'sad', 'sad', 'ps', 'ps', 'ps', 'ps', 'ps', 'ps', 'ps', 'ps', 'ps', 'ps', 'ps', 'ps', 'ps', 'ps', 'ps', 'ps']\n",
      "['../stimuli_intensitätsmorphs\\\\nf01_ang_w01_o_100_70dB.wav', '../stimuli_intensitätsmorphs\\\\nf01_ang_w01_o_25_70dB.wav', '../stimuli_intensitätsmorphs\\\\nf01_ang_w01_o_50_70dB.wav', '../stimuli_intensitätsmorphs\\\\nf01_ang_w01_o_75_70dB.wav', '../stimuli_intensitätsmorphs\\\\nf01_ang_w02_o_100_70dB.wav', '../stimuli_intensitätsmorphs\\\\nf01_ang_w02_o_25_70dB.wav', '../stimuli_intensitätsmorphs\\\\nf01_ang_w02_o_50_70dB.wav', '../stimuli_intensitätsmorphs\\\\nf01_ang_w02_o_75_70dB.wav', '../stimuli_intensitätsmorphs\\\\nf01_ang_w03_o_100_70dB.wav', '../stimuli_intensitätsmorphs\\\\nf01_ang_w03_o_25_70dB.wav', '../stimuli_intensitätsmorphs\\\\nf01_ang_w03_o_50_70dB.wav', '../stimuli_intensitätsmorphs\\\\nf01_ang_w03_o_75_70dB.wav', '../stimuli_intensitätsmorphs\\\\nf01_ang_w05_o_100_70dB.wav', '../stimuli_intensitätsmorphs\\\\nf01_ang_w05_o_25_70dB.wav', '../stimuli_intensitätsmorphs\\\\nf01_ang_w05_o_50_70dB.wav', '../stimuli_intensitätsmorphs\\\\nf01_ang_w05_o_75_70dB.wav', '../stimuli_intensitätsmorphs\\\\nf01_dis_w01_o_100_70dB.wav', '../stimuli_intensitätsmorphs\\\\nf01_dis_w01_o_25_70dB.wav', '../stimuli_intensitätsmorphs\\\\nf01_dis_w01_o_50_70dB.wav', '../stimuli_intensitätsmorphs\\\\nf01_dis_w01_o_75_70dB.wav', '../stimuli_intensitätsmorphs\\\\nf01_dis_w02_c_100_70dB.wav', '../stimuli_intensitätsmorphs\\\\nf01_dis_w02_c_25_70dB.wav', '../stimuli_intensitätsmorphs\\\\nf01_dis_w02_c_50_70dB.wav', '../stimuli_intensitätsmorphs\\\\nf01_dis_w02_c_75_70dB.wav', '../stimuli_intensitätsmorphs\\\\nf01_dis_w03_o_100_70dB.wav', '../stimuli_intensitätsmorphs\\\\nf01_dis_w03_o_25_70dB.wav', '../stimuli_intensitätsmorphs\\\\nf01_dis_w03_o_50_70dB.wav', '../stimuli_intensitätsmorphs\\\\nf01_dis_w03_o_75_70dB.wav', '../stimuli_intensitätsmorphs\\\\nf01_dis_w05_o_100_70dB.wav', '../stimuli_intensitätsmorphs\\\\nf01_dis_w05_o_25_70dB.wav', '../stimuli_intensitätsmorphs\\\\nf01_dis_w05_o_50_70dB.wav', '../stimuli_intensitätsmorphs\\\\nf01_dis_w05_o_75_70dB.wav', '../stimuli_intensitätsmorphs\\\\nf01_fea_w01_c_100_70dB.wav', '../stimuli_intensitätsmorphs\\\\nf01_fea_w01_c_25_70dB.wav', '../stimuli_intensitätsmorphs\\\\nf01_fea_w01_c_50_70dB.wav', '../stimuli_intensitätsmorphs\\\\nf01_fea_w01_c_75_70dB.wav', '../stimuli_intensitätsmorphs\\\\nf01_fea_w02_c_100_70dB.wav', '../stimuli_intensitätsmorphs\\\\nf01_fea_w02_c_25_70dB.wav', '../stimuli_intensitätsmorphs\\\\nf01_fea_w02_c_50_70dB.wav', '../stimuli_intensitätsmorphs\\\\nf01_fea_w02_c_75_70dB.wav', '../stimuli_intensitätsmorphs\\\\nf01_fea_w03_c_100_70dB.wav', '../stimuli_intensitätsmorphs\\\\nf01_fea_w03_c_25_70dB.wav', '../stimuli_intensitätsmorphs\\\\nf01_fea_w03_c_50_70dB.wav', '../stimuli_intensitätsmorphs\\\\nf01_fea_w03_c_75_70dB.wav', '../stimuli_intensitätsmorphs\\\\nf01_fea_w05_o_100_70dB.wav', '../stimuli_intensitätsmorphs\\\\nf01_fea_w05_o_25_70dB.wav', '../stimuli_intensitätsmorphs\\\\nf01_fea_w05_o_50_70dB.wav', '../stimuli_intensitätsmorphs\\\\nf01_fea_w05_o_75_70dB.wav', '../stimuli_intensitätsmorphs\\\\nf01_hap_w01_o_100_70dB.wav', '../stimuli_intensitätsmorphs\\\\nf01_hap_w01_o_25_70dB.wav', '../stimuli_intensitätsmorphs\\\\nf01_hap_w01_o_50_70dB.wav', '../stimuli_intensitätsmorphs\\\\nf01_hap_w01_o_75_70dB.wav', '../stimuli_intensitätsmorphs\\\\nf01_hap_w02_o_100_70dB.wav', '../stimuli_intensitätsmorphs\\\\nf01_hap_w02_o_25_70dB.wav', '../stimuli_intensitätsmorphs\\\\nf01_hap_w02_o_50_70dB.wav', '../stimuli_intensitätsmorphs\\\\nf01_hap_w02_o_75_70dB.wav', '../stimuli_intensitätsmorphs\\\\nf01_hap_w03_o_100_70dB.wav', '../stimuli_intensitätsmorphs\\\\nf01_hap_w03_o_25_70dB.wav', '../stimuli_intensitätsmorphs\\\\nf01_hap_w03_o_50_70dB.wav', '../stimuli_intensitätsmorphs\\\\nf01_hap_w03_o_75_70dB.wav', '../stimuli_intensitätsmorphs\\\\nf01_hap_w05_o_100_70dB.wav', '../stimuli_intensitätsmorphs\\\\nf01_hap_w05_o_25_70dB.wav', '../stimuli_intensitätsmorphs\\\\nf01_hap_w05_o_50_70dB.wav', '../stimuli_intensitätsmorphs\\\\nf01_hap_w05_o_75_70dB.wav', '../stimuli_intensitätsmorphs\\\\nf01_sad_w01_c_100_70dB.wav', '../stimuli_intensitätsmorphs\\\\nf01_sad_w01_c_25_70dB.wav', '../stimuli_intensitätsmorphs\\\\nf01_sad_w01_c_50_70dB.wav', '../stimuli_intensitätsmorphs\\\\nf01_sad_w01_c_75_70dB.wav', '../stimuli_intensitätsmorphs\\\\nf01_sad_w02_c_100_70dB.wav', '../stimuli_intensitätsmorphs\\\\nf01_sad_w02_c_25_70dB.wav', '../stimuli_intensitätsmorphs\\\\nf01_sad_w02_c_50_70dB.wav', '../stimuli_intensitätsmorphs\\\\nf01_sad_w02_c_75_70dB.wav', '../stimuli_intensitätsmorphs\\\\nf01_sad_w03_c_100_70dB.wav', '../stimuli_intensitätsmorphs\\\\nf01_sad_w03_c_25_70dB.wav', '../stimuli_intensitätsmorphs\\\\nf01_sad_w03_c_50_70dB.wav', '../stimuli_intensitätsmorphs\\\\nf01_sad_w03_c_75_70dB.wav', '../stimuli_intensitätsmorphs\\\\nf01_sad_w05_o_100_70dB.wav', '../stimuli_intensitätsmorphs\\\\nf01_sad_w05_o_25_70dB.wav', '../stimuli_intensitätsmorphs\\\\nf01_sad_w05_o_50_70dB.wav', '../stimuli_intensitätsmorphs\\\\nf01_sad_w05_o_75_70dB.wav', '../stimuli_intensitätsmorphs\\\\nf01_sur_w01_o_100_70dB.wav', '../stimuli_intensitätsmorphs\\\\nf01_sur_w01_o_25_70dB.wav', '../stimuli_intensitätsmorphs\\\\nf01_sur_w01_o_50_70dB.wav', '../stimuli_intensitätsmorphs\\\\nf01_sur_w01_o_75_70dB.wav', '../stimuli_intensitätsmorphs\\\\nf01_sur_w02_o_100_70dB.wav', '../stimuli_intensitätsmorphs\\\\nf01_sur_w02_o_25_70dB.wav', '../stimuli_intensitätsmorphs\\\\nf01_sur_w02_o_50_70dB.wav', '../stimuli_intensitätsmorphs\\\\nf01_sur_w02_o_75_70dB.wav', '../stimuli_intensitätsmorphs\\\\nf01_sur_w03_c_100_70dB.wav', '../stimuli_intensitätsmorphs\\\\nf01_sur_w03_c_25_70dB.wav', '../stimuli_intensitätsmorphs\\\\nf01_sur_w03_c_50_70dB.wav', '../stimuli_intensitätsmorphs\\\\nf01_sur_w03_c_75_70dB.wav', '../stimuli_intensitätsmorphs\\\\nf01_sur_w05_o_100_70dB.wav', '../stimuli_intensitätsmorphs\\\\nf01_sur_w05_o_25_70dB.wav', '../stimuli_intensitätsmorphs\\\\nf01_sur_w05_o_50_70dB.wav', '../stimuli_intensitätsmorphs\\\\nf01_sur_w05_o_75_70dB.wav', '../stimuli_intensitätsmorphs\\\\nf02_ang_w01_o_100_70dB.wav', '../stimuli_intensitätsmorphs\\\\nf02_ang_w01_o_25_70dB.wav', '../stimuli_intensitätsmorphs\\\\nf02_ang_w01_o_50_70dB.wav', '../stimuli_intensitätsmorphs\\\\nf02_ang_w01_o_75_70dB.wav', '../stimuli_intensitätsmorphs\\\\nf02_ang_w02_o_100_70dB.wav', '../stimuli_intensitätsmorphs\\\\nf02_ang_w02_o_25_70dB.wav', '../stimuli_intensitätsmorphs\\\\nf02_ang_w02_o_50_70dB.wav', '../stimuli_intensitätsmorphs\\\\nf02_ang_w02_o_75_70dB.wav', '../stimuli_intensitätsmorphs\\\\nf02_ang_w03_o_100_70dB.wav', '../stimuli_intensitätsmorphs\\\\nf02_ang_w03_o_25_70dB.wav', '../stimuli_intensitätsmorphs\\\\nf02_ang_w03_o_50_70dB.wav', '../stimuli_intensitätsmorphs\\\\nf02_ang_w03_o_75_70dB.wav', '../stimuli_intensitätsmorphs\\\\nf02_ang_w05_o_100_70dB.wav', '../stimuli_intensitätsmorphs\\\\nf02_ang_w05_o_25_70dB.wav', '../stimuli_intensitätsmorphs\\\\nf02_ang_w05_o_50_70dB.wav', '../stimuli_intensitätsmorphs\\\\nf02_ang_w05_o_75_70dB.wav', '../stimuli_intensitätsmorphs\\\\nf02_dis_w01_o_100_70dB.wav', '../stimuli_intensitätsmorphs\\\\nf02_dis_w01_o_25_70dB.wav', '../stimuli_intensitätsmorphs\\\\nf02_dis_w01_o_50_70dB.wav', '../stimuli_intensitätsmorphs\\\\nf02_dis_w01_o_75_70dB.wav', '../stimuli_intensitätsmorphs\\\\nf02_dis_w02_o_100_70dB.wav', '../stimuli_intensitätsmorphs\\\\nf02_dis_w02_o_25_70dB.wav', '../stimuli_intensitätsmorphs\\\\nf02_dis_w02_o_50_70dB.wav', '../stimuli_intensitätsmorphs\\\\nf02_dis_w02_o_75_70dB.wav', '../stimuli_intensitätsmorphs\\\\nf02_dis_w03_c_100_70dB.wav', '../stimuli_intensitätsmorphs\\\\nf02_dis_w03_c_25_70dB.wav', '../stimuli_intensitätsmorphs\\\\nf02_dis_w03_c_50_70dB.wav', '../stimuli_intensitätsmorphs\\\\nf02_dis_w03_c_75_70dB.wav', '../stimuli_intensitätsmorphs\\\\nf02_dis_w05_o_100_70dB.wav', '../stimuli_intensitätsmorphs\\\\nf02_dis_w05_o_25_70dB.wav', '../stimuli_intensitätsmorphs\\\\nf02_dis_w05_o_50_70dB.wav', '../stimuli_intensitätsmorphs\\\\nf02_dis_w05_o_75_70dB.wav', '../stimuli_intensitätsmorphs\\\\nf02_fea_w01_o_100_70dB.wav', '../stimuli_intensitätsmorphs\\\\nf02_fea_w01_o_25_70dB.wav', '../stimuli_intensitätsmorphs\\\\nf02_fea_w01_o_50_70dB.wav', '../stimuli_intensitätsmorphs\\\\nf02_fea_w01_o_75_70dB.wav', '../stimuli_intensitätsmorphs\\\\nf02_fea_w02_o_100_70dB.wav', '../stimuli_intensitätsmorphs\\\\nf02_fea_w02_o_25_70dB.wav', '../stimuli_intensitätsmorphs\\\\nf02_fea_w02_o_50_70dB.wav', '../stimuli_intensitätsmorphs\\\\nf02_fea_w02_o_75_70dB.wav', '../stimuli_intensitätsmorphs\\\\nf02_fea_w03_o_100_70dB.wav', '../stimuli_intensitätsmorphs\\\\nf02_fea_w03_o_25_70dB.wav', '../stimuli_intensitätsmorphs\\\\nf02_fea_w03_o_50_70dB.wav', '../stimuli_intensitätsmorphs\\\\nf02_fea_w03_o_75_70dB.wav', '../stimuli_intensitätsmorphs\\\\nf02_fea_w05_o_100_70dB.wav', '../stimuli_intensitätsmorphs\\\\nf02_fea_w05_o_25_70dB.wav', '../stimuli_intensitätsmorphs\\\\nf02_fea_w05_o_50_70dB.wav', '../stimuli_intensitätsmorphs\\\\nf02_fea_w05_o_75_70dB.wav', '../stimuli_intensitätsmorphs\\\\nf02_hap_w01_o_100_70dB.wav', '../stimuli_intensitätsmorphs\\\\nf02_hap_w01_o_25_70dB.wav', '../stimuli_intensitätsmorphs\\\\nf02_hap_w01_o_50_70dB.wav', '../stimuli_intensitätsmorphs\\\\nf02_hap_w01_o_75_70dB.wav', '../stimuli_intensitätsmorphs\\\\nf02_hap_w02_o_100_70dB.wav', '../stimuli_intensitätsmorphs\\\\nf02_hap_w02_o_25_70dB.wav', '../stimuli_intensitätsmorphs\\\\nf02_hap_w02_o_50_70dB.wav', '../stimuli_intensitätsmorphs\\\\nf02_hap_w02_o_75_70dB.wav', '../stimuli_intensitätsmorphs\\\\nf02_hap_w03_o_100_70dB.wav', '../stimuli_intensitätsmorphs\\\\nf02_hap_w03_o_25_70dB.wav', '../stimuli_intensitätsmorphs\\\\nf02_hap_w03_o_50_70dB.wav', '../stimuli_intensitätsmorphs\\\\nf02_hap_w03_o_75_70dB.wav', '../stimuli_intensitätsmorphs\\\\nf02_hap_w05_o_100_70dB.wav', '../stimuli_intensitätsmorphs\\\\nf02_hap_w05_o_25_70dB.wav', '../stimuli_intensitätsmorphs\\\\nf02_hap_w05_o_50_70dB.wav', '../stimuli_intensitätsmorphs\\\\nf02_hap_w05_o_75_70dB.wav', '../stimuli_intensitätsmorphs\\\\nf02_sad_w01_c_100_70dB.wav', '../stimuli_intensitätsmorphs\\\\nf02_sad_w01_c_25_70dB.wav', '../stimuli_intensitätsmorphs\\\\nf02_sad_w01_c_50_70dB.wav', '../stimuli_intensitätsmorphs\\\\nf02_sad_w01_c_75_70dB.wav', '../stimuli_intensitätsmorphs\\\\nf02_sad_w02_c_100_70dB.wav', '../stimuli_intensitätsmorphs\\\\nf02_sad_w02_c_25_70dB.wav', '../stimuli_intensitätsmorphs\\\\nf02_sad_w02_c_50_70dB.wav', '../stimuli_intensitätsmorphs\\\\nf02_sad_w02_c_75_70dB.wav', '../stimuli_intensitätsmorphs\\\\nf02_sad_w03_c_100_70dB.wav', '../stimuli_intensitätsmorphs\\\\nf02_sad_w03_c_25_70dB.wav', '../stimuli_intensitätsmorphs\\\\nf02_sad_w03_c_50_70dB.wav', '../stimuli_intensitätsmorphs\\\\nf02_sad_w03_c_75_70dB.wav', '../stimuli_intensitätsmorphs\\\\nf02_sad_w05_c_100_70dB.wav', '../stimuli_intensitätsmorphs\\\\nf02_sad_w05_c_25_70dB.wav', '../stimuli_intensitätsmorphs\\\\nf02_sad_w05_c_50_70dB.wav', '../stimuli_intensitätsmorphs\\\\nf02_sad_w05_c_75_70dB.wav', '../stimuli_intensitätsmorphs\\\\nf02_sur_w01_o_100_70dB.wav', '../stimuli_intensitätsmorphs\\\\nf02_sur_w01_o_25_70dB.wav', '../stimuli_intensitätsmorphs\\\\nf02_sur_w01_o_50_70dB.wav', '../stimuli_intensitätsmorphs\\\\nf02_sur_w01_o_75_70dB.wav', '../stimuli_intensitätsmorphs\\\\nf02_sur_w02_c_100_70dB.wav', '../stimuli_intensitätsmorphs\\\\nf02_sur_w02_c_25_70dB.wav', '../stimuli_intensitätsmorphs\\\\nf02_sur_w02_c_50_70dB.wav', '../stimuli_intensitätsmorphs\\\\nf02_sur_w02_c_75_70dB.wav', '../stimuli_intensitätsmorphs\\\\nf02_sur_w03_o_100_70dB.wav', '../stimuli_intensitätsmorphs\\\\nf02_sur_w03_o_25_70dB.wav', '../stimuli_intensitätsmorphs\\\\nf02_sur_w03_o_50_70dB.wav', '../stimuli_intensitätsmorphs\\\\nf02_sur_w03_o_75_70dB.wav', '../stimuli_intensitätsmorphs\\\\nf02_sur_w05_c_100_70dB.wav', '../stimuli_intensitätsmorphs\\\\nf02_sur_w05_c_25_70dB.wav', '../stimuli_intensitätsmorphs\\\\nf02_sur_w05_c_50_70dB.wav', '../stimuli_intensitätsmorphs\\\\nf02_sur_w05_c_75_70dB.wav', '../stimuli_intensitätsmorphs\\\\nf03_ang_w01_o_100_70dB.wav', '../stimuli_intensitätsmorphs\\\\nf03_ang_w01_o_25_70dB.wav', '../stimuli_intensitätsmorphs\\\\nf03_ang_w01_o_50_70dB.wav', '../stimuli_intensitätsmorphs\\\\nf03_ang_w01_o_75_70dB.wav', '../stimuli_intensitätsmorphs\\\\nf03_ang_w02_o_100_70dB.wav', '../stimuli_intensitätsmorphs\\\\nf03_ang_w02_o_25_70dB.wav', '../stimuli_intensitätsmorphs\\\\nf03_ang_w02_o_50_70dB.wav', '../stimuli_intensitätsmorphs\\\\nf03_ang_w02_o_75_70dB.wav', '../stimuli_intensitätsmorphs\\\\nf03_ang_w03_o_100_70dB.wav', '../stimuli_intensitätsmorphs\\\\nf03_ang_w03_o_25_70dB.wav', '../stimuli_intensitätsmorphs\\\\nf03_ang_w03_o_50_70dB.wav', '../stimuli_intensitätsmorphs\\\\nf03_ang_w03_o_75_70dB.wav', '../stimuli_intensitätsmorphs\\\\nf03_ang_w05_o_100_70dB.wav', '../stimuli_intensitätsmorphs\\\\nf03_ang_w05_o_25_70dB.wav', '../stimuli_intensitätsmorphs\\\\nf03_ang_w05_o_50_70dB.wav', '../stimuli_intensitätsmorphs\\\\nf03_ang_w05_o_75_70dB.wav', '../stimuli_intensitätsmorphs\\\\nf03_dis_w01_c_100_70dB.wav', '../stimuli_intensitätsmorphs\\\\nf03_dis_w01_c_25_70dB.wav', '../stimuli_intensitätsmorphs\\\\nf03_dis_w01_c_50_70dB.wav', '../stimuli_intensitätsmorphs\\\\nf03_dis_w01_c_75_70dB.wav', '../stimuli_intensitätsmorphs\\\\nf03_dis_w02_c_100_70dB.wav', '../stimuli_intensitätsmorphs\\\\nf03_dis_w02_c_25_70dB.wav', '../stimuli_intensitätsmorphs\\\\nf03_dis_w02_c_50_70dB.wav', '../stimuli_intensitätsmorphs\\\\nf03_dis_w02_c_75_70dB.wav', '../stimuli_intensitätsmorphs\\\\nf03_dis_w03_c_100_70dB.wav', '../stimuli_intensitätsmorphs\\\\nf03_dis_w03_c_25_70dB.wav', '../stimuli_intensitätsmorphs\\\\nf03_dis_w03_c_50_70dB.wav', '../stimuli_intensitätsmorphs\\\\nf03_dis_w03_c_75_70dB.wav', '../stimuli_intensitätsmorphs\\\\nf03_dis_w05_o_100_70dB.wav', '../stimuli_intensitätsmorphs\\\\nf03_dis_w05_o_25_70dB.wav', '../stimuli_intensitätsmorphs\\\\nf03_dis_w05_o_50_70dB.wav', '../stimuli_intensitätsmorphs\\\\nf03_dis_w05_o_75_70dB.wav', '../stimuli_intensitätsmorphs\\\\nf03_fea_w01_c_100_70dB.wav', '../stimuli_intensitätsmorphs\\\\nf03_fea_w01_c_25_70dB.wav', '../stimuli_intensitätsmorphs\\\\nf03_fea_w01_c_50_70dB.wav', '../stimuli_intensitätsmorphs\\\\nf03_fea_w01_c_75_70dB.wav', '../stimuli_intensitätsmorphs\\\\nf03_fea_w02_c_100_70dB.wav', '../stimuli_intensitätsmorphs\\\\nf03_fea_w02_c_25_70dB.wav', '../stimuli_intensitätsmorphs\\\\nf03_fea_w02_c_50_70dB.wav', '../stimuli_intensitätsmorphs\\\\nf03_fea_w02_c_75_70dB.wav', '../stimuli_intensitätsmorphs\\\\nf03_fea_w03_c_100_70dB.wav', '../stimuli_intensitätsmorphs\\\\nf03_fea_w03_c_25_70dB.wav', '../stimuli_intensitätsmorphs\\\\nf03_fea_w03_c_50_70dB.wav', '../stimuli_intensitätsmorphs\\\\nf03_fea_w03_c_75_70dB.wav', '../stimuli_intensitätsmorphs\\\\nf03_fea_w05_c_100_70dB.wav', '../stimuli_intensitätsmorphs\\\\nf03_fea_w05_c_25_70dB.wav', '../stimuli_intensitätsmorphs\\\\nf03_fea_w05_c_50_70dB.wav', '../stimuli_intensitätsmorphs\\\\nf03_fea_w05_c_75_70dB.wav', '../stimuli_intensitätsmorphs\\\\nf03_hap_w01_o_100_70dB.wav', '../stimuli_intensitätsmorphs\\\\nf03_hap_w01_o_25_70dB.wav', '../stimuli_intensitätsmorphs\\\\nf03_hap_w01_o_50_70dB.wav', '../stimuli_intensitätsmorphs\\\\nf03_hap_w01_o_75_70dB.wav', '../stimuli_intensitätsmorphs\\\\nf03_hap_w02_o_100_70dB.wav', '../stimuli_intensitätsmorphs\\\\nf03_hap_w02_o_25_70dB.wav', '../stimuli_intensitätsmorphs\\\\nf03_hap_w02_o_50_70dB.wav', '../stimuli_intensitätsmorphs\\\\nf03_hap_w02_o_75_70dB.wav', '../stimuli_intensitätsmorphs\\\\nf03_hap_w03_o_100_70dB.wav', '../stimuli_intensitätsmorphs\\\\nf03_hap_w03_o_25_70dB.wav', '../stimuli_intensitätsmorphs\\\\nf03_hap_w03_o_50_70dB.wav', '../stimuli_intensitätsmorphs\\\\nf03_hap_w03_o_75_70dB.wav', '../stimuli_intensitätsmorphs\\\\nf03_hap_w05_o_100_70dB.wav', '../stimuli_intensitätsmorphs\\\\nf03_hap_w05_o_25_70dB.wav', '../stimuli_intensitätsmorphs\\\\nf03_hap_w05_o_50_70dB.wav', '../stimuli_intensitätsmorphs\\\\nf03_hap_w05_o_75_70dB.wav', '../stimuli_intensitätsmorphs\\\\nf03_sad_w01_o_100_70dB.wav', '../stimuli_intensitätsmorphs\\\\nf03_sad_w01_o_25_70dB.wav', '../stimuli_intensitätsmorphs\\\\nf03_sad_w01_o_50_70dB.wav', '../stimuli_intensitätsmorphs\\\\nf03_sad_w01_o_75_70dB.wav', '../stimuli_intensitätsmorphs\\\\nf03_sad_w02_c_100_70dB.wav', '../stimuli_intensitätsmorphs\\\\nf03_sad_w02_c_25_70dB.wav', '../stimuli_intensitätsmorphs\\\\nf03_sad_w02_c_50_70dB.wav', '../stimuli_intensitätsmorphs\\\\nf03_sad_w02_c_75_70dB.wav', '../stimuli_intensitätsmorphs\\\\nf03_sad_w03_o_100_70dB.wav', '../stimuli_intensitätsmorphs\\\\nf03_sad_w03_o_25_70dB.wav', '../stimuli_intensitätsmorphs\\\\nf03_sad_w03_o_50_70dB.wav', '../stimuli_intensitätsmorphs\\\\nf03_sad_w03_o_75_70dB.wav', '../stimuli_intensitätsmorphs\\\\nf03_sad_w05_o_100_70dB.wav', '../stimuli_intensitätsmorphs\\\\nf03_sad_w05_o_25_70dB.wav', '../stimuli_intensitätsmorphs\\\\nf03_sad_w05_o_50_70dB.wav', '../stimuli_intensitätsmorphs\\\\nf03_sad_w05_o_75_70dB.wav', '../stimuli_intensitätsmorphs\\\\nf03_sur_w01_c_100_70dB.wav', '../stimuli_intensitätsmorphs\\\\nf03_sur_w01_c_25_70dB.wav', '../stimuli_intensitätsmorphs\\\\nf03_sur_w01_c_50_70dB.wav', '../stimuli_intensitätsmorphs\\\\nf03_sur_w01_c_75_70dB.wav', '../stimuli_intensitätsmorphs\\\\nf03_sur_w02_o_100_70dB.wav', '../stimuli_intensitätsmorphs\\\\nf03_sur_w02_o_25_70dB.wav', '../stimuli_intensitätsmorphs\\\\nf03_sur_w02_o_50_70dB.wav', '../stimuli_intensitätsmorphs\\\\nf03_sur_w02_o_75_70dB.wav', '../stimuli_intensitätsmorphs\\\\nf03_sur_w03_c_100_70dB.wav', '../stimuli_intensitätsmorphs\\\\nf03_sur_w03_c_25_70dB.wav', '../stimuli_intensitätsmorphs\\\\nf03_sur_w03_c_50_70dB.wav', '../stimuli_intensitätsmorphs\\\\nf03_sur_w03_c_75_70dB.wav', '../stimuli_intensitätsmorphs\\\\nf03_sur_w05_o_100_70dB.wav', '../stimuli_intensitätsmorphs\\\\nf03_sur_w05_o_25_70dB.wav', '../stimuli_intensitätsmorphs\\\\nf03_sur_w05_o_50_70dB.wav', '../stimuli_intensitätsmorphs\\\\nf03_sur_w05_o_75_70dB.wav', '../stimuli_intensitätsmorphs\\\\nf04_ang_w01_o_100_70dB.wav', '../stimuli_intensitätsmorphs\\\\nf04_ang_w01_o_25_70dB.wav', '../stimuli_intensitätsmorphs\\\\nf04_ang_w01_o_50_70dB.wav', '../stimuli_intensitätsmorphs\\\\nf04_ang_w01_o_75_70dB.wav', '../stimuli_intensitätsmorphs\\\\nf04_ang_w02_o_100_70dB.wav', '../stimuli_intensitätsmorphs\\\\nf04_ang_w02_o_25_70dB.wav', '../stimuli_intensitätsmorphs\\\\nf04_ang_w02_o_50_70dB.wav', '../stimuli_intensitätsmorphs\\\\nf04_ang_w02_o_75_70dB.wav', '../stimuli_intensitätsmorphs\\\\nf04_ang_w03_o_100_70dB.wav', '../stimuli_intensitätsmorphs\\\\nf04_ang_w03_o_25_70dB.wav', '../stimuli_intensitätsmorphs\\\\nf04_ang_w03_o_50_70dB.wav', '../stimuli_intensitätsmorphs\\\\nf04_ang_w03_o_75_70dB.wav', '../stimuli_intensitätsmorphs\\\\nf04_ang_w05_o_100_70dB.wav', '../stimuli_intensitätsmorphs\\\\nf04_ang_w05_o_25_70dB.wav', '../stimuli_intensitätsmorphs\\\\nf04_ang_w05_o_50_70dB.wav', '../stimuli_intensitätsmorphs\\\\nf04_ang_w05_o_75_70dB.wav', '../stimuli_intensitätsmorphs\\\\nf04_dis_w01_o_100_70dB.wav', '../stimuli_intensitätsmorphs\\\\nf04_dis_w01_o_25_70dB.wav', '../stimuli_intensitätsmorphs\\\\nf04_dis_w01_o_50_70dB.wav', '../stimuli_intensitätsmorphs\\\\nf04_dis_w01_o_75_70dB.wav', '../stimuli_intensitätsmorphs\\\\nf04_dis_w02_o_100_70dB.wav', '../stimuli_intensitätsmorphs\\\\nf04_dis_w02_o_25_70dB.wav', '../stimuli_intensitätsmorphs\\\\nf04_dis_w02_o_50_70dB.wav', '../stimuli_intensitätsmorphs\\\\nf04_dis_w02_o_75_70dB.wav', '../stimuli_intensitätsmorphs\\\\nf04_dis_w03_c_100_70dB.wav', '../stimuli_intensitätsmorphs\\\\nf04_dis_w03_c_25_70dB.wav', '../stimuli_intensitätsmorphs\\\\nf04_dis_w03_c_50_70dB.wav', '../stimuli_intensitätsmorphs\\\\nf04_dis_w03_c_75_70dB.wav', '../stimuli_intensitätsmorphs\\\\nf04_dis_w05_c_100_70dB.wav', '../stimuli_intensitätsmorphs\\\\nf04_dis_w05_c_25_70dB.wav', '../stimuli_intensitätsmorphs\\\\nf04_dis_w05_c_50_70dB.wav', '../stimuli_intensitätsmorphs\\\\nf04_dis_w05_c_75_70dB.wav', '../stimuli_intensitätsmorphs\\\\nf04_fea_w01_c_100_70dB.wav', '../stimuli_intensitätsmorphs\\\\nf04_fea_w01_c_25_70dB.wav', '../stimuli_intensitätsmorphs\\\\nf04_fea_w01_c_50_70dB.wav', '../stimuli_intensitätsmorphs\\\\nf04_fea_w01_c_75_70dB.wav', '../stimuli_intensitätsmorphs\\\\nf04_fea_w02_c_100_70dB.wav', '../stimuli_intensitätsmorphs\\\\nf04_fea_w02_c_25_70dB.wav', '../stimuli_intensitätsmorphs\\\\nf04_fea_w02_c_50_70dB.wav', '../stimuli_intensitätsmorphs\\\\nf04_fea_w02_c_75_70dB.wav', '../stimuli_intensitätsmorphs\\\\nf04_fea_w03_o_100_70dB.wav', '../stimuli_intensitätsmorphs\\\\nf04_fea_w03_o_25_70dB.wav', '../stimuli_intensitätsmorphs\\\\nf04_fea_w03_o_50_70dB.wav', '../stimuli_intensitätsmorphs\\\\nf04_fea_w03_o_75_70dB.wav', '../stimuli_intensitätsmorphs\\\\nf04_fea_w05_c_100_70dB.wav', '../stimuli_intensitätsmorphs\\\\nf04_fea_w05_c_25_70dB.wav', '../stimuli_intensitätsmorphs\\\\nf04_fea_w05_c_50_70dB.wav', '../stimuli_intensitätsmorphs\\\\nf04_fea_w05_c_75_70dB.wav', '../stimuli_intensitätsmorphs\\\\nf04_hap_w01_o_100_70dB.wav', '../stimuli_intensitätsmorphs\\\\nf04_hap_w01_o_25_70dB.wav', '../stimuli_intensitätsmorphs\\\\nf04_hap_w01_o_50_70dB.wav', '../stimuli_intensitätsmorphs\\\\nf04_hap_w01_o_75_70dB.wav', '../stimuli_intensitätsmorphs\\\\nf04_hap_w02_o_100_70dB.wav', '../stimuli_intensitätsmorphs\\\\nf04_hap_w02_o_25_70dB.wav', '../stimuli_intensitätsmorphs\\\\nf04_hap_w02_o_50_70dB.wav', '../stimuli_intensitätsmorphs\\\\nf04_hap_w02_o_75_70dB.wav', '../stimuli_intensitätsmorphs\\\\nf04_hap_w03_o_100_70dB.wav', '../stimuli_intensitätsmorphs\\\\nf04_hap_w03_o_25_70dB.wav', '../stimuli_intensitätsmorphs\\\\nf04_hap_w03_o_50_70dB.wav', '../stimuli_intensitätsmorphs\\\\nf04_hap_w03_o_75_70dB.wav', '../stimuli_intensitätsmorphs\\\\nf04_hap_w05_o_100_70dB.wav', '../stimuli_intensitätsmorphs\\\\nf04_hap_w05_o_25_70dB.wav', '../stimuli_intensitätsmorphs\\\\nf04_hap_w05_o_50_70dB.wav', '../stimuli_intensitätsmorphs\\\\nf04_hap_w05_o_75_70dB.wav', '../stimuli_intensitätsmorphs\\\\nf04_sad_w01_c_100_70dB.wav', '../stimuli_intensitätsmorphs\\\\nf04_sad_w01_c_25_70dB.wav', '../stimuli_intensitätsmorphs\\\\nf04_sad_w01_c_50_70dB.wav', '../stimuli_intensitätsmorphs\\\\nf04_sad_w01_c_75_70dB.wav', '../stimuli_intensitätsmorphs\\\\nf04_sad_w02_c_100_70dB.wav', '../stimuli_intensitätsmorphs\\\\nf04_sad_w02_c_25_70dB.wav', '../stimuli_intensitätsmorphs\\\\nf04_sad_w02_c_50_70dB.wav', '../stimuli_intensitätsmorphs\\\\nf04_sad_w02_c_75_70dB.wav', '../stimuli_intensitätsmorphs\\\\nf04_sad_w03_o_100_70dB.wav', '../stimuli_intensitätsmorphs\\\\nf04_sad_w03_o_25_70dB.wav', '../stimuli_intensitätsmorphs\\\\nf04_sad_w03_o_50_70dB.wav', '../stimuli_intensitätsmorphs\\\\nf04_sad_w03_o_75_70dB.wav', '../stimuli_intensitätsmorphs\\\\nf04_sad_w05_o_100_70dB.wav', '../stimuli_intensitätsmorphs\\\\nf04_sad_w05_o_25_70dB.wav', '../stimuli_intensitätsmorphs\\\\nf04_sad_w05_o_50_70dB.wav', '../stimuli_intensitätsmorphs\\\\nf04_sad_w05_o_75_70dB.wav', '../stimuli_intensitätsmorphs\\\\nf04_sur_w01_o_100_70dB.wav', '../stimuli_intensitätsmorphs\\\\nf04_sur_w01_o_25_70dB.wav', '../stimuli_intensitätsmorphs\\\\nf04_sur_w01_o_50_70dB.wav', '../stimuli_intensitätsmorphs\\\\nf04_sur_w01_o_75_70dB.wav', '../stimuli_intensitätsmorphs\\\\nf04_sur_w02_o_100_70dB.wav', '../stimuli_intensitätsmorphs\\\\nf04_sur_w02_o_25_70dB.wav', '../stimuli_intensitätsmorphs\\\\nf04_sur_w02_o_50_70dB.wav', '../stimuli_intensitätsmorphs\\\\nf04_sur_w02_o_75_70dB.wav', '../stimuli_intensitätsmorphs\\\\nf04_sur_w03_c_100_70dB.wav', '../stimuli_intensitätsmorphs\\\\nf04_sur_w03_c_25_70dB.wav', '../stimuli_intensitätsmorphs\\\\nf04_sur_w03_c_50_70dB.wav', '../stimuli_intensitätsmorphs\\\\nf04_sur_w03_c_75_70dB.wav', '../stimuli_intensitätsmorphs\\\\nf04_sur_w05_o_100_70dB.wav', '../stimuli_intensitätsmorphs\\\\nf04_sur_w05_o_25_70dB.wav', '../stimuli_intensitätsmorphs\\\\nf04_sur_w05_o_50_70dB.wav', '../stimuli_intensitätsmorphs\\\\nf04_sur_w05_o_75_70dB.wav', '../stimuli_intensitätsmorphs\\\\nm01_ang_w01_o_100_70dB.wav', '../stimuli_intensitätsmorphs\\\\nm01_ang_w01_o_25_70dB.wav', '../stimuli_intensitätsmorphs\\\\nm01_ang_w01_o_50_70dB.wav', '../stimuli_intensitätsmorphs\\\\nm01_ang_w01_o_75_70dB.wav', '../stimuli_intensitätsmorphs\\\\nm01_ang_w02_o_100_70dB.wav', '../stimuli_intensitätsmorphs\\\\nm01_ang_w02_o_25_70dB.wav', '../stimuli_intensitätsmorphs\\\\nm01_ang_w02_o_50_70dB.wav', '../stimuli_intensitätsmorphs\\\\nm01_ang_w02_o_75_70dB.wav', '../stimuli_intensitätsmorphs\\\\nm01_ang_w03_o_100_70dB.wav', '../stimuli_intensitätsmorphs\\\\nm01_ang_w03_o_25_70dB.wav', '../stimuli_intensitätsmorphs\\\\nm01_ang_w03_o_50_70dB.wav', '../stimuli_intensitätsmorphs\\\\nm01_ang_w03_o_75_70dB.wav', '../stimuli_intensitätsmorphs\\\\nm01_ang_w05_o_100_70dB.wav', '../stimuli_intensitätsmorphs\\\\nm01_ang_w05_o_25_70dB.wav', '../stimuli_intensitätsmorphs\\\\nm01_ang_w05_o_50_70dB.wav', '../stimuli_intensitätsmorphs\\\\nm01_ang_w05_o_75_70dB.wav', '../stimuli_intensitätsmorphs\\\\nm01_dis_w01_o_100_70dB.wav', '../stimuli_intensitätsmorphs\\\\nm01_dis_w01_o_25_70dB.wav', '../stimuli_intensitätsmorphs\\\\nm01_dis_w01_o_50_70dB.wav', '../stimuli_intensitätsmorphs\\\\nm01_dis_w01_o_75_70dB.wav', '../stimuli_intensitätsmorphs\\\\nm01_dis_w02_c_100_70dB.wav', '../stimuli_intensitätsmorphs\\\\nm01_dis_w02_c_25_70dB.wav', '../stimuli_intensitätsmorphs\\\\nm01_dis_w02_c_50_70dB.wav', '../stimuli_intensitätsmorphs\\\\nm01_dis_w02_c_75_70dB.wav', '../stimuli_intensitätsmorphs\\\\nm01_dis_w03_o_100_70dB.wav', '../stimuli_intensitätsmorphs\\\\nm01_dis_w03_o_25_70dB.wav', '../stimuli_intensitätsmorphs\\\\nm01_dis_w03_o_50_70dB.wav', '../stimuli_intensitätsmorphs\\\\nm01_dis_w03_o_75_70dB.wav', '../stimuli_intensitätsmorphs\\\\nm01_dis_w05_o_100_70dB.wav', '../stimuli_intensitätsmorphs\\\\nm01_dis_w05_o_25_70dB.wav', '../stimuli_intensitätsmorphs\\\\nm01_dis_w05_o_50_70dB.wav', '../stimuli_intensitätsmorphs\\\\nm01_dis_w05_o_75_70dB.wav', '../stimuli_intensitätsmorphs\\\\nm01_fea_w01_o_100_70dB.wav', '../stimuli_intensitätsmorphs\\\\nm01_fea_w01_o_25_70dB.wav', '../stimuli_intensitätsmorphs\\\\nm01_fea_w01_o_50_70dB.wav', '../stimuli_intensitätsmorphs\\\\nm01_fea_w01_o_75_70dB.wav', '../stimuli_intensitätsmorphs\\\\nm01_fea_w02_o_100_70dB.wav', '../stimuli_intensitätsmorphs\\\\nm01_fea_w02_o_25_70dB.wav', '../stimuli_intensitätsmorphs\\\\nm01_fea_w02_o_50_70dB.wav', '../stimuli_intensitätsmorphs\\\\nm01_fea_w02_o_75_70dB.wav', '../stimuli_intensitätsmorphs\\\\nm01_fea_w03_c_100_70dB.wav', '../stimuli_intensitätsmorphs\\\\nm01_fea_w03_c_25_70dB.wav', '../stimuli_intensitätsmorphs\\\\nm01_fea_w03_c_50_70dB.wav', '../stimuli_intensitätsmorphs\\\\nm01_fea_w03_c_75_70dB.wav', '../stimuli_intensitätsmorphs\\\\nm01_fea_w05_c_100_70dB.wav', '../stimuli_intensitätsmorphs\\\\nm01_fea_w05_c_25_70dB.wav', '../stimuli_intensitätsmorphs\\\\nm01_fea_w05_c_50_70dB.wav', '../stimuli_intensitätsmorphs\\\\nm01_fea_w05_c_75_70dB.wav', '../stimuli_intensitätsmorphs\\\\nm01_hap_w01_c_100_70dB.wav', '../stimuli_intensitätsmorphs\\\\nm01_hap_w01_c_25_70dB.wav', '../stimuli_intensitätsmorphs\\\\nm01_hap_w01_c_50_70dB.wav', '../stimuli_intensitätsmorphs\\\\nm01_hap_w01_c_75_70dB.wav', '../stimuli_intensitätsmorphs\\\\nm01_hap_w02_o_100_70dB.wav', '../stimuli_intensitätsmorphs\\\\nm01_hap_w02_o_25_70dB.wav', '../stimuli_intensitätsmorphs\\\\nm01_hap_w02_o_50_70dB.wav', '../stimuli_intensitätsmorphs\\\\nm01_hap_w02_o_75_70dB.wav', '../stimuli_intensitätsmorphs\\\\nm01_hap_w03_o_100_70dB.wav', '../stimuli_intensitätsmorphs\\\\nm01_hap_w03_o_25_70dB.wav', '../stimuli_intensitätsmorphs\\\\nm01_hap_w03_o_50_70dB.wav', '../stimuli_intensitätsmorphs\\\\nm01_hap_w03_o_75_70dB.wav', '../stimuli_intensitätsmorphs\\\\nm01_hap_w05_o_100_70dB.wav', '../stimuli_intensitätsmorphs\\\\nm01_hap_w05_o_25_70dB.wav', '../stimuli_intensitätsmorphs\\\\nm01_hap_w05_o_50_70dB.wav', '../stimuli_intensitätsmorphs\\\\nm01_hap_w05_o_75_70dB.wav', '../stimuli_intensitätsmorphs\\\\nm01_sad_w01_c_100_70dB.wav', '../stimuli_intensitätsmorphs\\\\nm01_sad_w01_c_25_70dB.wav', '../stimuli_intensitätsmorphs\\\\nm01_sad_w01_c_50_70dB.wav', '../stimuli_intensitätsmorphs\\\\nm01_sad_w01_c_75_70dB.wav', '../stimuli_intensitätsmorphs\\\\nm01_sad_w02_o_100_70dB.wav', '../stimuli_intensitätsmorphs\\\\nm01_sad_w02_o_25_70dB.wav', '../stimuli_intensitätsmorphs\\\\nm01_sad_w02_o_50_70dB.wav', '../stimuli_intensitätsmorphs\\\\nm01_sad_w02_o_75_70dB.wav', '../stimuli_intensitätsmorphs\\\\nm01_sad_w03_c_100_70dB.wav', '../stimuli_intensitätsmorphs\\\\nm01_sad_w03_c_25_70dB.wav', '../stimuli_intensitätsmorphs\\\\nm01_sad_w03_c_50_70dB.wav', '../stimuli_intensitätsmorphs\\\\nm01_sad_w03_c_75_70dB.wav', '../stimuli_intensitätsmorphs\\\\nm01_sad_w05_o_100_70dB.wav', '../stimuli_intensitätsmorphs\\\\nm01_sad_w05_o_25_70dB.wav', '../stimuli_intensitätsmorphs\\\\nm01_sad_w05_o_50_70dB.wav', '../stimuli_intensitätsmorphs\\\\nm01_sad_w05_o_75_70dB.wav', '../stimuli_intensitätsmorphs\\\\nm01_sur_w01_o_100_70dB.wav', '../stimuli_intensitätsmorphs\\\\nm01_sur_w01_o_25_70dB.wav', '../stimuli_intensitätsmorphs\\\\nm01_sur_w01_o_50_70dB.wav', '../stimuli_intensitätsmorphs\\\\nm01_sur_w01_o_75_70dB.wav', '../stimuli_intensitätsmorphs\\\\nm01_sur_w02_o_100_70dB.wav', '../stimuli_intensitätsmorphs\\\\nm01_sur_w02_o_25_70dB.wav', '../stimuli_intensitätsmorphs\\\\nm01_sur_w02_o_50_70dB.wav', '../stimuli_intensitätsmorphs\\\\nm01_sur_w02_o_75_70dB.wav', '../stimuli_intensitätsmorphs\\\\nm01_sur_w03_o_100_70dB.wav', '../stimuli_intensitätsmorphs\\\\nm01_sur_w03_o_25_70dB.wav', '../stimuli_intensitätsmorphs\\\\nm01_sur_w03_o_50_70dB.wav', '../stimuli_intensitätsmorphs\\\\nm01_sur_w03_o_75_70dB.wav', '../stimuli_intensitätsmorphs\\\\nm01_sur_w05_o_100_70dB.wav', '../stimuli_intensitätsmorphs\\\\nm01_sur_w05_o_25_70dB.wav', '../stimuli_intensitätsmorphs\\\\nm01_sur_w05_o_50_70dB.wav', '../stimuli_intensitätsmorphs\\\\nm01_sur_w05_o_75_70dB.wav', '../stimuli_intensitätsmorphs\\\\nm02_ang_w01_o_100_70dB.wav', '../stimuli_intensitätsmorphs\\\\nm02_ang_w01_o_25_70dB.wav', '../stimuli_intensitätsmorphs\\\\nm02_ang_w01_o_50_70dB.wav', '../stimuli_intensitätsmorphs\\\\nm02_ang_w01_o_75_70dB.wav', '../stimuli_intensitätsmorphs\\\\nm02_ang_w02_c_100_70dB.wav', '../stimuli_intensitätsmorphs\\\\nm02_ang_w02_c_25_70dB.wav', '../stimuli_intensitätsmorphs\\\\nm02_ang_w02_c_50_70dB.wav', '../stimuli_intensitätsmorphs\\\\nm02_ang_w02_c_75_70dB.wav', '../stimuli_intensitätsmorphs\\\\nm02_ang_w03_o_100_70dB.wav', '../stimuli_intensitätsmorphs\\\\nm02_ang_w03_o_25_70dB.wav', '../stimuli_intensitätsmorphs\\\\nm02_ang_w03_o_50_70dB.wav', '../stimuli_intensitätsmorphs\\\\nm02_ang_w03_o_75_70dB.wav', '../stimuli_intensitätsmorphs\\\\nm02_ang_w05_o_100_70dB.wav', '../stimuli_intensitätsmorphs\\\\nm02_ang_w05_o_25_70dB.wav', '../stimuli_intensitätsmorphs\\\\nm02_ang_w05_o_50_70dB.wav', '../stimuli_intensitätsmorphs\\\\nm02_ang_w05_o_75_70dB.wav', '../stimuli_intensitätsmorphs\\\\nm02_dis_w01_o_100_70dB.wav', '../stimuli_intensitätsmorphs\\\\nm02_dis_w01_o_25_70dB.wav', '../stimuli_intensitätsmorphs\\\\nm02_dis_w01_o_50_70dB.wav', '../stimuli_intensitätsmorphs\\\\nm02_dis_w01_o_75_70dB.wav', '../stimuli_intensitätsmorphs\\\\nm02_dis_w02_o_100_70dB.wav', '../stimuli_intensitätsmorphs\\\\nm02_dis_w02_o_25_70dB.wav', '../stimuli_intensitätsmorphs\\\\nm02_dis_w02_o_50_70dB.wav', '../stimuli_intensitätsmorphs\\\\nm02_dis_w02_o_75_70dB.wav', '../stimuli_intensitätsmorphs\\\\nm02_dis_w03_o_100_70dB.wav', '../stimuli_intensitätsmorphs\\\\nm02_dis_w03_o_25_70dB.wav', '../stimuli_intensitätsmorphs\\\\nm02_dis_w03_o_50_70dB.wav', '../stimuli_intensitätsmorphs\\\\nm02_dis_w03_o_75_70dB.wav', '../stimuli_intensitätsmorphs\\\\nm02_dis_w05_o_100_70dB.wav', '../stimuli_intensitätsmorphs\\\\nm02_dis_w05_o_25_70dB.wav', '../stimuli_intensitätsmorphs\\\\nm02_dis_w05_o_50_70dB.wav', '../stimuli_intensitätsmorphs\\\\nm02_dis_w05_o_75_70dB.wav', '../stimuli_intensitätsmorphs\\\\nm02_fea_w01_o_100_70dB.wav', '../stimuli_intensitätsmorphs\\\\nm02_fea_w01_o_25_70dB.wav', '../stimuli_intensitätsmorphs\\\\nm02_fea_w01_o_50_70dB.wav', '../stimuli_intensitätsmorphs\\\\nm02_fea_w01_o_75_70dB.wav', '../stimuli_intensitätsmorphs\\\\nm02_fea_w02_o_100_70dB.wav', '../stimuli_intensitätsmorphs\\\\nm02_fea_w02_o_25_70dB.wav', '../stimuli_intensitätsmorphs\\\\nm02_fea_w02_o_50_70dB.wav', '../stimuli_intensitätsmorphs\\\\nm02_fea_w02_o_75_70dB.wav', '../stimuli_intensitätsmorphs\\\\nm02_fea_w03_c_100_70dB.wav', '../stimuli_intensitätsmorphs\\\\nm02_fea_w03_c_25_70dB.wav', '../stimuli_intensitätsmorphs\\\\nm02_fea_w03_c_50_70dB.wav', '../stimuli_intensitätsmorphs\\\\nm02_fea_w03_c_75_70dB.wav', '../stimuli_intensitätsmorphs\\\\nm02_fea_w05_o_100_70dB.wav', '../stimuli_intensitätsmorphs\\\\nm02_fea_w05_o_25_70dB.wav', '../stimuli_intensitätsmorphs\\\\nm02_fea_w05_o_50_70dB.wav', '../stimuli_intensitätsmorphs\\\\nm02_fea_w05_o_75_70dB.wav', '../stimuli_intensitätsmorphs\\\\nm02_hap_w01_o_100_70dB.wav', '../stimuli_intensitätsmorphs\\\\nm02_hap_w01_o_25_70dB.wav', '../stimuli_intensitätsmorphs\\\\nm02_hap_w01_o_50_70dB.wav', '../stimuli_intensitätsmorphs\\\\nm02_hap_w01_o_75_70dB.wav', '../stimuli_intensitätsmorphs\\\\nm02_hap_w02_c_100_70dB.wav', '../stimuli_intensitätsmorphs\\\\nm02_hap_w02_c_25_70dB.wav', '../stimuli_intensitätsmorphs\\\\nm02_hap_w02_c_50_70dB.wav', '../stimuli_intensitätsmorphs\\\\nm02_hap_w02_c_75_70dB.wav', '../stimuli_intensitätsmorphs\\\\nm02_hap_w03_o_100_70dB.wav', '../stimuli_intensitätsmorphs\\\\nm02_hap_w03_o_25_70dB.wav', '../stimuli_intensitätsmorphs\\\\nm02_hap_w03_o_50_70dB.wav', '../stimuli_intensitätsmorphs\\\\nm02_hap_w03_o_75_70dB.wav', '../stimuli_intensitätsmorphs\\\\nm02_hap_w05_o_100_70dB.wav', '../stimuli_intensitätsmorphs\\\\nm02_hap_w05_o_25_70dB.wav', '../stimuli_intensitätsmorphs\\\\nm02_hap_w05_o_50_70dB.wav', '../stimuli_intensitätsmorphs\\\\nm02_hap_w05_o_75_70dB.wav', '../stimuli_intensitätsmorphs\\\\nm02_sad_w01_o_100_70dB.wav', '../stimuli_intensitätsmorphs\\\\nm02_sad_w01_o_25_70dB.wav', '../stimuli_intensitätsmorphs\\\\nm02_sad_w01_o_50_70dB.wav', '../stimuli_intensitätsmorphs\\\\nm02_sad_w01_o_75_70dB.wav', '../stimuli_intensitätsmorphs\\\\nm02_sad_w02_o_100_70dB.wav', '../stimuli_intensitätsmorphs\\\\nm02_sad_w02_o_25_70dB.wav', '../stimuli_intensitätsmorphs\\\\nm02_sad_w02_o_50_70dB.wav', '../stimuli_intensitätsmorphs\\\\nm02_sad_w02_o_75_70dB.wav', '../stimuli_intensitätsmorphs\\\\nm02_sad_w03_c_100_70dB.wav', '../stimuli_intensitätsmorphs\\\\nm02_sad_w03_c_25_70dB.wav', '../stimuli_intensitätsmorphs\\\\nm02_sad_w03_c_50_70dB.wav', '../stimuli_intensitätsmorphs\\\\nm02_sad_w03_c_75_70dB.wav', '../stimuli_intensitätsmorphs\\\\nm02_sad_w05_c_100_70dB.wav', '../stimuli_intensitätsmorphs\\\\nm02_sad_w05_c_25_70dB.wav', '../stimuli_intensitätsmorphs\\\\nm02_sad_w05_c_50_70dB.wav', '../stimuli_intensitätsmorphs\\\\nm02_sad_w05_c_75_70dB.wav', '../stimuli_intensitätsmorphs\\\\nm02_sur_w01_c_100_70dB.wav', '../stimuli_intensitätsmorphs\\\\nm02_sur_w01_c_25_70dB.wav', '../stimuli_intensitätsmorphs\\\\nm02_sur_w01_c_50_70dB.wav', '../stimuli_intensitätsmorphs\\\\nm02_sur_w01_c_75_70dB.wav', '../stimuli_intensitätsmorphs\\\\nm02_sur_w02_o_100_70dB.wav', '../stimuli_intensitätsmorphs\\\\nm02_sur_w02_o_25_70dB.wav', '../stimuli_intensitätsmorphs\\\\nm02_sur_w02_o_50_70dB.wav', '../stimuli_intensitätsmorphs\\\\nm02_sur_w02_o_75_70dB.wav', '../stimuli_intensitätsmorphs\\\\nm02_sur_w03_o_100_70dB.wav', '../stimuli_intensitätsmorphs\\\\nm02_sur_w03_o_25_70dB.wav', '../stimuli_intensitätsmorphs\\\\nm02_sur_w03_o_50_70dB.wav', '../stimuli_intensitätsmorphs\\\\nm02_sur_w03_o_75_70dB.wav', '../stimuli_intensitätsmorphs\\\\nm02_sur_w05_o_100_70dB.wav', '../stimuli_intensitätsmorphs\\\\nm02_sur_w05_o_25_70dB.wav', '../stimuli_intensitätsmorphs\\\\nm02_sur_w05_o_50_70dB.wav', '../stimuli_intensitätsmorphs\\\\nm02_sur_w05_o_75_70dB.wav', '../stimuli_intensitätsmorphs\\\\nm03_ang_w01_o_100_70dB.wav', '../stimuli_intensitätsmorphs\\\\nm03_ang_w01_o_25_70dB.wav', '../stimuli_intensitätsmorphs\\\\nm03_ang_w01_o_50_70dB.wav', '../stimuli_intensitätsmorphs\\\\nm03_ang_w01_o_75_70dB.wav', '../stimuli_intensitätsmorphs\\\\nm03_ang_w02_o_100_70dB.wav', '../stimuli_intensitätsmorphs\\\\nm03_ang_w02_o_25_70dB.wav', '../stimuli_intensitätsmorphs\\\\nm03_ang_w02_o_50_70dB.wav', '../stimuli_intensitätsmorphs\\\\nm03_ang_w02_o_75_70dB.wav', '../stimuli_intensitätsmorphs\\\\nm03_ang_w03_o_100_70dB.wav', '../stimuli_intensitätsmorphs\\\\nm03_ang_w03_o_25_70dB.wav', '../stimuli_intensitätsmorphs\\\\nm03_ang_w03_o_50_70dB.wav', '../stimuli_intensitätsmorphs\\\\nm03_ang_w03_o_75_70dB.wav', '../stimuli_intensitätsmorphs\\\\nm03_ang_w05_o_100_70dB.wav', '../stimuli_intensitätsmorphs\\\\nm03_ang_w05_o_25_70dB.wav', '../stimuli_intensitätsmorphs\\\\nm03_ang_w05_o_50_70dB.wav', '../stimuli_intensitätsmorphs\\\\nm03_ang_w05_o_75_70dB.wav', '../stimuli_intensitätsmorphs\\\\nm03_dis_w01_o_100_70dB.wav', '../stimuli_intensitätsmorphs\\\\nm03_dis_w01_o_25_70dB.wav', '../stimuli_intensitätsmorphs\\\\nm03_dis_w01_o_50_70dB.wav', '../stimuli_intensitätsmorphs\\\\nm03_dis_w01_o_75_70dB.wav', '../stimuli_intensitätsmorphs\\\\nm03_dis_w02_o_100_70dB.wav', '../stimuli_intensitätsmorphs\\\\nm03_dis_w02_o_25_70dB.wav', '../stimuli_intensitätsmorphs\\\\nm03_dis_w02_o_50_70dB.wav', '../stimuli_intensitätsmorphs\\\\nm03_dis_w02_o_75_70dB.wav', '../stimuli_intensitätsmorphs\\\\nm03_dis_w03_o_100_70dB.wav', '../stimuli_intensitätsmorphs\\\\nm03_dis_w03_o_25_70dB.wav', '../stimuli_intensitätsmorphs\\\\nm03_dis_w03_o_50_70dB.wav', '../stimuli_intensitätsmorphs\\\\nm03_dis_w03_o_75_70dB.wav', '../stimuli_intensitätsmorphs\\\\nm03_dis_w05_o_100_70dB.wav', '../stimuli_intensitätsmorphs\\\\nm03_dis_w05_o_25_70dB.wav', '../stimuli_intensitätsmorphs\\\\nm03_dis_w05_o_50_70dB.wav', '../stimuli_intensitätsmorphs\\\\nm03_dis_w05_o_75_70dB.wav', '../stimuli_intensitätsmorphs\\\\nm03_fea_w01_o_100_70dB.wav', '../stimuli_intensitätsmorphs\\\\nm03_fea_w01_o_25_70dB.wav', '../stimuli_intensitätsmorphs\\\\nm03_fea_w01_o_50_70dB.wav', '../stimuli_intensitätsmorphs\\\\nm03_fea_w01_o_75_70dB.wav', '../stimuli_intensitätsmorphs\\\\nm03_fea_w02_o_100_70dB.wav', '../stimuli_intensitätsmorphs\\\\nm03_fea_w02_o_25_70dB.wav', '../stimuli_intensitätsmorphs\\\\nm03_fea_w02_o_50_70dB.wav', '../stimuli_intensitätsmorphs\\\\nm03_fea_w02_o_75_70dB.wav', '../stimuli_intensitätsmorphs\\\\nm03_fea_w03_o_100_70dB.wav', '../stimuli_intensitätsmorphs\\\\nm03_fea_w03_o_25_70dB.wav', '../stimuli_intensitätsmorphs\\\\nm03_fea_w03_o_50_70dB.wav', '../stimuli_intensitätsmorphs\\\\nm03_fea_w03_o_75_70dB.wav', '../stimuli_intensitätsmorphs\\\\nm03_fea_w05_o_100_70dB.wav', '../stimuli_intensitätsmorphs\\\\nm03_fea_w05_o_25_70dB.wav', '../stimuli_intensitätsmorphs\\\\nm03_fea_w05_o_50_70dB.wav', '../stimuli_intensitätsmorphs\\\\nm03_fea_w05_o_75_70dB.wav', '../stimuli_intensitätsmorphs\\\\nm03_hap_w01_o_100_70dB.wav', '../stimuli_intensitätsmorphs\\\\nm03_hap_w01_o_25_70dB.wav', '../stimuli_intensitätsmorphs\\\\nm03_hap_w01_o_50_70dB.wav', '../stimuli_intensitätsmorphs\\\\nm03_hap_w01_o_75_70dB.wav', '../stimuli_intensitätsmorphs\\\\nm03_hap_w02_c_100_70dB.wav', '../stimuli_intensitätsmorphs\\\\nm03_hap_w02_c_25_70dB.wav', '../stimuli_intensitätsmorphs\\\\nm03_hap_w02_c_50_70dB.wav', '../stimuli_intensitätsmorphs\\\\nm03_hap_w02_c_75_70dB.wav', '../stimuli_intensitätsmorphs\\\\nm03_hap_w03_o_100_70dB.wav', '../stimuli_intensitätsmorphs\\\\nm03_hap_w03_o_25_70dB.wav', '../stimuli_intensitätsmorphs\\\\nm03_hap_w03_o_50_70dB.wav', '../stimuli_intensitätsmorphs\\\\nm03_hap_w03_o_75_70dB.wav', '../stimuli_intensitätsmorphs\\\\nm03_hap_w05_o_100_70dB.wav', '../stimuli_intensitätsmorphs\\\\nm03_hap_w05_o_25_70dB.wav', '../stimuli_intensitätsmorphs\\\\nm03_hap_w05_o_50_70dB.wav', '../stimuli_intensitätsmorphs\\\\nm03_hap_w05_o_75_70dB.wav', '../stimuli_intensitätsmorphs\\\\nm03_sad_w01_o_100_70dB.wav', '../stimuli_intensitätsmorphs\\\\nm03_sad_w01_o_25_70dB.wav', '../stimuli_intensitätsmorphs\\\\nm03_sad_w01_o_50_70dB.wav', '../stimuli_intensitätsmorphs\\\\nm03_sad_w01_o_75_70dB.wav', '../stimuli_intensitätsmorphs\\\\nm03_sad_w02_o_100_70dB.wav', '../stimuli_intensitätsmorphs\\\\nm03_sad_w02_o_25_70dB.wav', '../stimuli_intensitätsmorphs\\\\nm03_sad_w02_o_50_70dB.wav', '../stimuli_intensitätsmorphs\\\\nm03_sad_w02_o_75_70dB.wav', '../stimuli_intensitätsmorphs\\\\nm03_sad_w03_o_100_70dB.wav', '../stimuli_intensitätsmorphs\\\\nm03_sad_w03_o_25_70dB.wav', '../stimuli_intensitätsmorphs\\\\nm03_sad_w03_o_50_70dB.wav', '../stimuli_intensitätsmorphs\\\\nm03_sad_w03_o_75_70dB.wav', '../stimuli_intensitätsmorphs\\\\nm03_sad_w05_c_100_70dB.wav', '../stimuli_intensitätsmorphs\\\\nm03_sad_w05_c_25_70dB.wav', '../stimuli_intensitätsmorphs\\\\nm03_sad_w05_c_50_70dB.wav', '../stimuli_intensitätsmorphs\\\\nm03_sad_w05_c_75_70dB.wav', '../stimuli_intensitätsmorphs\\\\nm03_sur_w01_o_100_70dB.wav', '../stimuli_intensitätsmorphs\\\\nm03_sur_w01_o_25_70dB.wav', '../stimuli_intensitätsmorphs\\\\nm03_sur_w01_o_50_70dB.wav', '../stimuli_intensitätsmorphs\\\\nm03_sur_w01_o_75_70dB.wav', '../stimuli_intensitätsmorphs\\\\nm03_sur_w02_o_100_70dB.wav', '../stimuli_intensitätsmorphs\\\\nm03_sur_w02_o_25_70dB.wav', '../stimuli_intensitätsmorphs\\\\nm03_sur_w02_o_50_70dB.wav', '../stimuli_intensitätsmorphs\\\\nm03_sur_w02_o_75_70dB.wav', '../stimuli_intensitätsmorphs\\\\nm03_sur_w03_o_100_70dB.wav', '../stimuli_intensitätsmorphs\\\\nm03_sur_w03_o_25_70dB.wav', '../stimuli_intensitätsmorphs\\\\nm03_sur_w03_o_50_70dB.wav', '../stimuli_intensitätsmorphs\\\\nm03_sur_w03_o_75_70dB.wav', '../stimuli_intensitätsmorphs\\\\nm03_sur_w05_c_100_70dB.wav', '../stimuli_intensitätsmorphs\\\\nm03_sur_w05_c_25_70dB.wav', '../stimuli_intensitätsmorphs\\\\nm03_sur_w05_c_50_70dB.wav', '../stimuli_intensitätsmorphs\\\\nm03_sur_w05_c_75_70dB.wav', '../stimuli_intensitätsmorphs\\\\nm04_ang_w01_o_100_70dB.wav', '../stimuli_intensitätsmorphs\\\\nm04_ang_w01_o_25_70dB.wav', '../stimuli_intensitätsmorphs\\\\nm04_ang_w01_o_50_70dB.wav', '../stimuli_intensitätsmorphs\\\\nm04_ang_w01_o_75_70dB.wav', '../stimuli_intensitätsmorphs\\\\nm04_ang_w02_o_100_70dB.wav', '../stimuli_intensitätsmorphs\\\\nm04_ang_w02_o_25_70dB.wav', '../stimuli_intensitätsmorphs\\\\nm04_ang_w02_o_50_70dB.wav', '../stimuli_intensitätsmorphs\\\\nm04_ang_w02_o_75_70dB.wav', '../stimuli_intensitätsmorphs\\\\nm04_ang_w03_o_100_70dB.wav', '../stimuli_intensitätsmorphs\\\\nm04_ang_w03_o_25_70dB.wav', '../stimuli_intensitätsmorphs\\\\nm04_ang_w03_o_50_70dB.wav', '../stimuli_intensitätsmorphs\\\\nm04_ang_w03_o_75_70dB.wav', '../stimuli_intensitätsmorphs\\\\nm04_ang_w05_o_100_70dB.wav', '../stimuli_intensitätsmorphs\\\\nm04_ang_w05_o_25_70dB.wav', '../stimuli_intensitätsmorphs\\\\nm04_ang_w05_o_50_70dB.wav', '../stimuli_intensitätsmorphs\\\\nm04_ang_w05_o_75_70dB.wav', '../stimuli_intensitätsmorphs\\\\nm04_dis_w01_o_100_70dB.wav', '../stimuli_intensitätsmorphs\\\\nm04_dis_w01_o_25_70dB.wav', '../stimuli_intensitätsmorphs\\\\nm04_dis_w01_o_50_70dB.wav', '../stimuli_intensitätsmorphs\\\\nm04_dis_w01_o_75_70dB.wav', '../stimuli_intensitätsmorphs\\\\nm04_dis_w02_o_100_70dB.wav', '../stimuli_intensitätsmorphs\\\\nm04_dis_w02_o_25_70dB.wav', '../stimuli_intensitätsmorphs\\\\nm04_dis_w02_o_50_70dB.wav', '../stimuli_intensitätsmorphs\\\\nm04_dis_w02_o_75_70dB.wav', '../stimuli_intensitätsmorphs\\\\nm04_dis_w03_o_100_70dB.wav', '../stimuli_intensitätsmorphs\\\\nm04_dis_w03_o_25_70dB.wav', '../stimuli_intensitätsmorphs\\\\nm04_dis_w03_o_50_70dB.wav', '../stimuli_intensitätsmorphs\\\\nm04_dis_w03_o_75_70dB.wav', '../stimuli_intensitätsmorphs\\\\nm04_dis_w05_o_100_70dB.wav', '../stimuli_intensitätsmorphs\\\\nm04_dis_w05_o_25_70dB.wav', '../stimuli_intensitätsmorphs\\\\nm04_dis_w05_o_50_70dB.wav', '../stimuli_intensitätsmorphs\\\\nm04_dis_w05_o_75_70dB.wav', '../stimuli_intensitätsmorphs\\\\nm04_fea_w01_c_100_70dB.wav', '../stimuli_intensitätsmorphs\\\\nm04_fea_w01_c_25_70dB.wav', '../stimuli_intensitätsmorphs\\\\nm04_fea_w01_c_50_70dB.wav', '../stimuli_intensitätsmorphs\\\\nm04_fea_w01_c_75_70dB.wav', '../stimuli_intensitätsmorphs\\\\nm04_fea_w02_c_100_70dB.wav', '../stimuli_intensitätsmorphs\\\\nm04_fea_w02_c_25_70dB.wav', '../stimuli_intensitätsmorphs\\\\nm04_fea_w02_c_50_70dB.wav', '../stimuli_intensitätsmorphs\\\\nm04_fea_w02_c_75_70dB.wav', '../stimuli_intensitätsmorphs\\\\nm04_fea_w03_o_100_70dB.wav', '../stimuli_intensitätsmorphs\\\\nm04_fea_w03_o_25_70dB.wav', '../stimuli_intensitätsmorphs\\\\nm04_fea_w03_o_50_70dB.wav', '../stimuli_intensitätsmorphs\\\\nm04_fea_w03_o_75_70dB.wav', '../stimuli_intensitätsmorphs\\\\nm04_fea_w05_o_100_70dB.wav', '../stimuli_intensitätsmorphs\\\\nm04_fea_w05_o_25_70dB.wav', '../stimuli_intensitätsmorphs\\\\nm04_fea_w05_o_50_70dB.wav', '../stimuli_intensitätsmorphs\\\\nm04_fea_w05_o_75_70dB.wav', '../stimuli_intensitätsmorphs\\\\nm04_hap_w01_o_100_70dB.wav', '../stimuli_intensitätsmorphs\\\\nm04_hap_w01_o_25_70dB.wav', '../stimuli_intensitätsmorphs\\\\nm04_hap_w01_o_50_70dB.wav', '../stimuli_intensitätsmorphs\\\\nm04_hap_w01_o_75_70dB.wav', '../stimuli_intensitätsmorphs\\\\nm04_hap_w02_o_100_70dB.wav', '../stimuli_intensitätsmorphs\\\\nm04_hap_w02_o_25_70dB.wav', '../stimuli_intensitätsmorphs\\\\nm04_hap_w02_o_50_70dB.wav', '../stimuli_intensitätsmorphs\\\\nm04_hap_w02_o_75_70dB.wav', '../stimuli_intensitätsmorphs\\\\nm04_hap_w03_o_100_70dB.wav', '../stimuli_intensitätsmorphs\\\\nm04_hap_w03_o_25_70dB.wav', '../stimuli_intensitätsmorphs\\\\nm04_hap_w03_o_50_70dB.wav', '../stimuli_intensitätsmorphs\\\\nm04_hap_w03_o_75_70dB.wav', '../stimuli_intensitätsmorphs\\\\nm04_hap_w05_o_100_70dB.wav', '../stimuli_intensitätsmorphs\\\\nm04_hap_w05_o_25_70dB.wav', '../stimuli_intensitätsmorphs\\\\nm04_hap_w05_o_50_70dB.wav', '../stimuli_intensitätsmorphs\\\\nm04_hap_w05_o_75_70dB.wav', '../stimuli_intensitätsmorphs\\\\nm04_sad_w01_c_100_70dB.wav', '../stimuli_intensitätsmorphs\\\\nm04_sad_w01_c_25_70dB.wav', '../stimuli_intensitätsmorphs\\\\nm04_sad_w01_c_50_70dB.wav', '../stimuli_intensitätsmorphs\\\\nm04_sad_w01_c_75_70dB.wav', '../stimuli_intensitätsmorphs\\\\nm04_sad_w02_c_100_70dB.wav', '../stimuli_intensitätsmorphs\\\\nm04_sad_w02_c_25_70dB.wav', '../stimuli_intensitätsmorphs\\\\nm04_sad_w02_c_50_70dB.wav', '../stimuli_intensitätsmorphs\\\\nm04_sad_w02_c_75_70dB.wav', '../stimuli_intensitätsmorphs\\\\nm04_sad_w03_c_100_70dB.wav', '../stimuli_intensitätsmorphs\\\\nm04_sad_w03_c_25_70dB.wav', '../stimuli_intensitätsmorphs\\\\nm04_sad_w03_c_50_70dB.wav', '../stimuli_intensitätsmorphs\\\\nm04_sad_w03_c_75_70dB.wav', '../stimuli_intensitätsmorphs\\\\nm04_sad_w05_c_100_70dB.wav', '../stimuli_intensitätsmorphs\\\\nm04_sad_w05_c_25_70dB.wav', '../stimuli_intensitätsmorphs\\\\nm04_sad_w05_c_50_70dB.wav', '../stimuli_intensitätsmorphs\\\\nm04_sad_w05_c_75_70dB.wav', '../stimuli_intensitätsmorphs\\\\nm04_sur_w01_c_100_70dB.wav', '../stimuli_intensitätsmorphs\\\\nm04_sur_w01_c_25_70dB.wav', '../stimuli_intensitätsmorphs\\\\nm04_sur_w01_c_50_70dB.wav', '../stimuli_intensitätsmorphs\\\\nm04_sur_w01_c_75_70dB.wav', '../stimuli_intensitätsmorphs\\\\nm04_sur_w02_o_100_70dB.wav', '../stimuli_intensitätsmorphs\\\\nm04_sur_w02_o_25_70dB.wav', '../stimuli_intensitätsmorphs\\\\nm04_sur_w02_o_50_70dB.wav', '../stimuli_intensitätsmorphs\\\\nm04_sur_w02_o_75_70dB.wav', '../stimuli_intensitätsmorphs\\\\nm04_sur_w03_o_100_70dB.wav', '../stimuli_intensitätsmorphs\\\\nm04_sur_w03_o_25_70dB.wav', '../stimuli_intensitätsmorphs\\\\nm04_sur_w03_o_50_70dB.wav', '../stimuli_intensitätsmorphs\\\\nm04_sur_w03_o_75_70dB.wav', '../stimuli_intensitätsmorphs\\\\nm04_sur_w05_o_100_70dB.wav', '../stimuli_intensitätsmorphs\\\\nm04_sur_w05_o_25_70dB.wav', '../stimuli_intensitätsmorphs\\\\nm04_sur_w05_o_50_70dB.wav', '../stimuli_intensitätsmorphs\\\\nm04_sur_w05_o_75_70dB.wav']\n",
      "Dataset is loaded\n"
     ]
    },
    {
     "data": {
      "text/plain": "                                                  path emotion\n0    ../stimuli_intensitätsmorphs\\nf01_ang_w01_o_10...   angry\n1    ../stimuli_intensitätsmorphs\\nf01_ang_w01_o_25...   angry\n2    ../stimuli_intensitätsmorphs\\nf01_ang_w01_o_50...   angry\n3    ../stimuli_intensitätsmorphs\\nf01_ang_w01_o_75...   angry\n4    ../stimuli_intensitätsmorphs\\nf01_ang_w02_o_10...   angry\n..                                                 ...     ...\n763  ../stimuli_intensitätsmorphs\\nm04_sur_w03_o_75...      ps\n764  ../stimuli_intensitätsmorphs\\nm04_sur_w05_o_10...      ps\n765  ../stimuli_intensitätsmorphs\\nm04_sur_w05_o_25...      ps\n766  ../stimuli_intensitätsmorphs\\nm04_sur_w05_o_50...      ps\n767  ../stimuli_intensitätsmorphs\\nm04_sur_w05_o_75...      ps\n\n[768 rows x 2 columns]",
      "text/html": "<div>\n<style scoped>\n    .dataframe tbody tr th:only-of-type {\n        vertical-align: middle;\n    }\n\n    .dataframe tbody tr th {\n        vertical-align: top;\n    }\n\n    .dataframe thead th {\n        text-align: right;\n    }\n</style>\n<table border=\"1\" class=\"dataframe\">\n  <thead>\n    <tr style=\"text-align: right;\">\n      <th></th>\n      <th>path</th>\n      <th>emotion</th>\n    </tr>\n  </thead>\n  <tbody>\n    <tr>\n      <th>0</th>\n      <td>../stimuli_intensitätsmorphs\\nf01_ang_w01_o_10...</td>\n      <td>angry</td>\n    </tr>\n    <tr>\n      <th>1</th>\n      <td>../stimuli_intensitätsmorphs\\nf01_ang_w01_o_25...</td>\n      <td>angry</td>\n    </tr>\n    <tr>\n      <th>2</th>\n      <td>../stimuli_intensitätsmorphs\\nf01_ang_w01_o_50...</td>\n      <td>angry</td>\n    </tr>\n    <tr>\n      <th>3</th>\n      <td>../stimuli_intensitätsmorphs\\nf01_ang_w01_o_75...</td>\n      <td>angry</td>\n    </tr>\n    <tr>\n      <th>4</th>\n      <td>../stimuli_intensitätsmorphs\\nf01_ang_w02_o_10...</td>\n      <td>angry</td>\n    </tr>\n    <tr>\n      <th>...</th>\n      <td>...</td>\n      <td>...</td>\n    </tr>\n    <tr>\n      <th>763</th>\n      <td>../stimuli_intensitätsmorphs\\nm04_sur_w03_o_75...</td>\n      <td>ps</td>\n    </tr>\n    <tr>\n      <th>764</th>\n      <td>../stimuli_intensitätsmorphs\\nm04_sur_w05_o_10...</td>\n      <td>ps</td>\n    </tr>\n    <tr>\n      <th>765</th>\n      <td>../stimuli_intensitätsmorphs\\nm04_sur_w05_o_25...</td>\n      <td>ps</td>\n    </tr>\n    <tr>\n      <th>766</th>\n      <td>../stimuli_intensitätsmorphs\\nm04_sur_w05_o_50...</td>\n      <td>ps</td>\n    </tr>\n    <tr>\n      <th>767</th>\n      <td>../stimuli_intensitätsmorphs\\nm04_sur_w05_o_75...</td>\n      <td>ps</td>\n    </tr>\n  </tbody>\n</table>\n<p>768 rows × 2 columns</p>\n</div>"
     },
     "execution_count": 7,
     "metadata": {},
     "output_type": "execute_result"
    }
   ],
   "source": [
    "def load_custom_dataset():\n",
    "    paths = []\n",
    "    testpaths = []\n",
    "    testlabels = []\n",
    "    terminator = 'D:/Uni/19.Master/Daten/terminator.wav'\n",
    "    print(sys.executable)\n",
    "    emotions = []\n",
    "    # for dirname, _, filenames in os.walk('Daten/TESS Toronto emotional speech set data'):\n",
    "    # D:\\Uni\\19.Master\\DATEN\n",
    "    for dirname, _, filenames in os.walk('../tess'):\n",
    "        for filename in filenames:\n",
    "            label = filename.split('_')[-1]\n",
    "            label = label.split('.')[0]\n",
    "            if (label != 'neutral'):\n",
    "                emotions.append(label.lower())\n",
    "                paths.append(os.path.join(dirname, filename))\n",
    "    for dirname, _, filenames in os.walk('../stimuli_intensitätsmorphs'):\n",
    "        for filename in filenames:\n",
    "\n",
    "            intens = filename.split('_')[-2]\n",
    "            emot = filename.split('_')[1]\n",
    "            label = emot\n",
    "            match label:\n",
    "                case 'ang':\n",
    "                    label = 'angry'\n",
    "                case 'dis':\n",
    "                    label = 'disgust'\n",
    "                case 'fea':\n",
    "                    label = 'fear'\n",
    "                case 'hap':\n",
    "                    label = 'happy'\n",
    "                case 'sad':\n",
    "                    label = 'sad'\n",
    "                case 'sur':\n",
    "                    label = 'ps'\n",
    "            if (emot != 'ple'):\n",
    "                testpaths.append(os.path.join(dirname, filename))\n",
    "                testlabels.append(label.lower())\n",
    "    com_labels = testlabels + emotions\n",
    "    com_paths = testpaths + paths\n",
    "    print(testlabels)\n",
    "    print(testpaths)\n",
    "    print('Dataset is loaded')\n",
    "    return paths, emotions, testpaths, testlabels\n",
    "trainpaths, trainlabels, testpaths, testlabels = load_custom_dataset()\n",
    "\n",
    "###create dataframes for training and testing###\n",
    "trainDF = pd.DataFrame()\n",
    "trainDF[\"path\"] = trainpaths\n",
    "trainDF[\"emotion\"] = trainlabels\n",
    "\n",
    "testDF = pd.DataFrame()\n",
    "testDF[\"path\"] = testpaths\n",
    "testDF[\"emotion\"] = testlabels\n",
    "\n",
    "\n",
    "testDF"
   ],
   "metadata": {
    "collapsed": false
   }
  },
  {
   "cell_type": "code",
   "metadata": {
    "colab": {
     "base_uri": "https://localhost:8080/",
     "height": 49
    },
    "id": "10b89ZpLDqx9",
    "outputId": "15e12e3f-6717-451e-91b3-3b70694921a7"
   },
   "source": [
    "df = testDF\n",
    "df.head()"
   ],
   "execution_count": 8,
   "outputs": [
    {
     "data": {
      "text/plain": "                                                path emotion\n0  ../stimuli_intensitätsmorphs\\nf01_ang_w01_o_10...   angry\n1  ../stimuli_intensitätsmorphs\\nf01_ang_w01_o_25...   angry\n2  ../stimuli_intensitätsmorphs\\nf01_ang_w01_o_50...   angry\n3  ../stimuli_intensitätsmorphs\\nf01_ang_w01_o_75...   angry\n4  ../stimuli_intensitätsmorphs\\nf01_ang_w02_o_10...   angry",
      "text/html": "<div>\n<style scoped>\n    .dataframe tbody tr th:only-of-type {\n        vertical-align: middle;\n    }\n\n    .dataframe tbody tr th {\n        vertical-align: top;\n    }\n\n    .dataframe thead th {\n        text-align: right;\n    }\n</style>\n<table border=\"1\" class=\"dataframe\">\n  <thead>\n    <tr style=\"text-align: right;\">\n      <th></th>\n      <th>path</th>\n      <th>emotion</th>\n    </tr>\n  </thead>\n  <tbody>\n    <tr>\n      <th>0</th>\n      <td>../stimuli_intensitätsmorphs\\nf01_ang_w01_o_10...</td>\n      <td>angry</td>\n    </tr>\n    <tr>\n      <th>1</th>\n      <td>../stimuli_intensitätsmorphs\\nf01_ang_w01_o_25...</td>\n      <td>angry</td>\n    </tr>\n    <tr>\n      <th>2</th>\n      <td>../stimuli_intensitätsmorphs\\nf01_ang_w01_o_50...</td>\n      <td>angry</td>\n    </tr>\n    <tr>\n      <th>3</th>\n      <td>../stimuli_intensitätsmorphs\\nf01_ang_w01_o_75...</td>\n      <td>angry</td>\n    </tr>\n    <tr>\n      <th>4</th>\n      <td>../stimuli_intensitätsmorphs\\nf01_ang_w02_o_10...</td>\n      <td>angry</td>\n    </tr>\n  </tbody>\n</table>\n</div>"
     },
     "execution_count": 8,
     "metadata": {},
     "output_type": "execute_result"
    }
   ]
  },
  {
   "cell_type": "code",
   "metadata": {
    "id": "iMhTHur8voOp",
    "colab": {
     "base_uri": "https://localhost:8080/",
     "height": 523
    },
    "outputId": "453c81e0-f976-46c0-806b-76315a8cf85b"
   },
   "source": [
    "# Filter broken and non-existed paths\n",
    "\n",
    "print(f\"Step 0: {len(df)}\")\n",
    "\n",
    "df[\"status\"] = df[\"path\"].apply(lambda path: True if os.path.exists(path) else None)\n",
    "df = df.dropna(subset=[\"path\"])\n",
    "df = df.drop(\"status\", 1)\n",
    "print(f\"Step 1: {len(df)}\")\n",
    "\n",
    "df = df.sample(frac=1)\n",
    "df = df.reset_index(drop=True)\n",
    "df.head()"
   ],
   "execution_count": 9,
   "outputs": [
    {
     "name": "stdout",
     "output_type": "stream",
     "text": [
      "Step 0: 768\n",
      "Step 1: 768\n"
     ]
    },
    {
     "name": "stderr",
     "output_type": "stream",
     "text": [
      "C:\\Users\\tonib\\AppData\\Local\\Temp\\ipykernel_17436\\2154895978.py:7: FutureWarning: In a future version of pandas all arguments of DataFrame.drop except for the argument 'labels' will be keyword-only.\n",
      "  df = df.drop(\"status\", 1)\n"
     ]
    },
    {
     "data": {
      "text/plain": "                                                path  emotion\n0  ../stimuli_intensitätsmorphs\\nm02_hap_w03_o_50...    happy\n1  ../stimuli_intensitätsmorphs\\nf04_sad_w03_o_50...      sad\n2  ../stimuli_intensitätsmorphs\\nm01_sad_w01_c_25...      sad\n3  ../stimuli_intensitätsmorphs\\nf03_dis_w05_o_75...  disgust\n4  ../stimuli_intensitätsmorphs\\nm01_fea_w02_o_75...     fear",
      "text/html": "<div>\n<style scoped>\n    .dataframe tbody tr th:only-of-type {\n        vertical-align: middle;\n    }\n\n    .dataframe tbody tr th {\n        vertical-align: top;\n    }\n\n    .dataframe thead th {\n        text-align: right;\n    }\n</style>\n<table border=\"1\" class=\"dataframe\">\n  <thead>\n    <tr style=\"text-align: right;\">\n      <th></th>\n      <th>path</th>\n      <th>emotion</th>\n    </tr>\n  </thead>\n  <tbody>\n    <tr>\n      <th>0</th>\n      <td>../stimuli_intensitätsmorphs\\nm02_hap_w03_o_50...</td>\n      <td>happy</td>\n    </tr>\n    <tr>\n      <th>1</th>\n      <td>../stimuli_intensitätsmorphs\\nf04_sad_w03_o_50...</td>\n      <td>sad</td>\n    </tr>\n    <tr>\n      <th>2</th>\n      <td>../stimuli_intensitätsmorphs\\nm01_sad_w01_c_25...</td>\n      <td>sad</td>\n    </tr>\n    <tr>\n      <th>3</th>\n      <td>../stimuli_intensitätsmorphs\\nf03_dis_w05_o_75...</td>\n      <td>disgust</td>\n    </tr>\n    <tr>\n      <th>4</th>\n      <td>../stimuli_intensitätsmorphs\\nm01_fea_w02_o_75...</td>\n      <td>fear</td>\n    </tr>\n  </tbody>\n</table>\n</div>"
     },
     "execution_count": 9,
     "metadata": {},
     "output_type": "execute_result"
    }
   ]
  },
  {
   "cell_type": "markdown",
   "metadata": {
    "id": "TWku4ra3Bp52"
   },
   "source": [
    "Let's explore how many labels (emotions) are in the dataset with what distribution."
   ]
  },
  {
   "cell_type": "code",
   "metadata": {
    "id": "beNpKMh5xXmX"
   },
   "source": [
    "print(\"Labels: \", df[\"emotion\"].unique())\n",
    "print()\n",
    "df.groupby(\"emotion\").count()[[\"path\"]]"
   ],
   "execution_count": 10,
   "outputs": [
    {
     "name": "stdout",
     "output_type": "stream",
     "text": [
      "Labels:  ['happy' 'sad' 'disgust' 'fear' 'ps' 'angry']\n",
      "\n"
     ]
    },
    {
     "data": {
      "text/plain": "         path\nemotion      \nangry     128\ndisgust   128\nfear      128\nhappy     128\nps        128\nsad       128",
      "text/html": "<div>\n<style scoped>\n    .dataframe tbody tr th:only-of-type {\n        vertical-align: middle;\n    }\n\n    .dataframe tbody tr th {\n        vertical-align: top;\n    }\n\n    .dataframe thead th {\n        text-align: right;\n    }\n</style>\n<table border=\"1\" class=\"dataframe\">\n  <thead>\n    <tr style=\"text-align: right;\">\n      <th></th>\n      <th>path</th>\n    </tr>\n    <tr>\n      <th>emotion</th>\n      <th></th>\n    </tr>\n  </thead>\n  <tbody>\n    <tr>\n      <th>angry</th>\n      <td>128</td>\n    </tr>\n    <tr>\n      <th>disgust</th>\n      <td>128</td>\n    </tr>\n    <tr>\n      <th>fear</th>\n      <td>128</td>\n    </tr>\n    <tr>\n      <th>happy</th>\n      <td>128</td>\n    </tr>\n    <tr>\n      <th>ps</th>\n      <td>128</td>\n    </tr>\n    <tr>\n      <th>sad</th>\n      <td>128</td>\n    </tr>\n  </tbody>\n</table>\n</div>"
     },
     "execution_count": 10,
     "metadata": {},
     "output_type": "execute_result"
    }
   ]
  },
  {
   "cell_type": "markdown",
   "metadata": {
    "id": "i2hwRai7BNrx"
   },
   "source": [
    "Let's display some random sample of the dataset and run it a couple of times to get a feeling for the audio and the emotional label."
   ]
  },
  {
   "cell_type": "code",
   "metadata": {
    "id": "DZaQ_sP5xkIX"
   },
   "source": [
    "import torchaudio\n",
    "import librosa\n",
    "import IPython.display as ipd\n",
    "import numpy as np\n",
    "\n",
    "idx = np.random.randint(0, len(df))\n",
    "sample = df.iloc[idx]\n",
    "path = sample[\"path\"]\n",
    "label = sample[\"emotion\"]\n",
    "\n",
    "\n",
    "print(f\"ID Location: {idx}\")\n",
    "print(f\"      Label: {label}\")\n",
    "print()\n",
    "\n",
    "speech, sr = torchaudio.load(path)\n",
    "speech = speech[0].numpy().squeeze()\n",
    "speech = librosa.resample(np.asarray(speech), sr, 16_000)\n",
    "ipd.Audio(data=np.asarray(speech), autoplay=True, rate=16000)"
   ],
   "execution_count": 11,
   "outputs": [
    {
     "name": "stdout",
     "output_type": "stream",
     "text": [
      "ID Location: 397\n",
      "      Label: ps\n",
      "\n"
     ]
    },
    {
     "name": "stderr",
     "output_type": "stream",
     "text": [
      "C:\\Users\\tonib\\AppData\\Local\\Temp\\ipykernel_17436\\2414068180.py:18: FutureWarning: Pass orig_sr=44100, target_sr=16000 as keyword args. From version 0.10 passing these as positional arguments will result in an error\n",
      "  speech = librosa.resample(np.asarray(speech), sr, 16_000)\n"
     ]
    },
    {
     "data": {
      "text/plain": "<IPython.lib.display.Audio object>",
      "text/html": "\n                <audio  controls=\"controls\" autoplay=\"autoplay\">\n                    <source src=\"data:audio/wav;base64,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\" type=\"audio/wav\" />\n                    Your browser does not support the audio element.\n                </audio>\n              "
     },
     "execution_count": 11,
     "metadata": {},
     "output_type": "execute_result"
    }
   ]
  },
  {
   "cell_type": "markdown",
   "metadata": {
    "id": "7WNjWoWRCmPk"
   },
   "source": [
    "For training purposes, we need to split data into train test sets; in this specific example, we break with a `20%` rate for the test set."
   ]
  },
  {
   "cell_type": "code",
   "metadata": {
    "id": "mlim-044xtJN"
   },
   "source": [
    "#save_path = \"/content/data\"\n",
    "save_path=\"/masterarbeit_programming/notebooks/content/data\"\n",
    "train_df, test_df = train_test_split(df, test_size=0.2, random_state=101, stratify=df[\"emotion\"])\n",
    "\n",
    "train_df = train_df.reset_index(drop=True)\n",
    "test_df = test_df.reset_index(drop=True)\n",
    "\n",
    "train_df.to_csv(f\"{save_path}/train.csv\", sep=\"\\t\", encoding=\"utf-8\", index=False)\n",
    "test_df.to_csv(f\"{save_path}/test.csv\", sep=\"\\t\", encoding=\"utf-8\", index=False)\n",
    "\n",
    "\n",
    "print(train_df.shape)\n",
    "print(test_df.shape)"
   ],
   "execution_count": 12,
   "outputs": [
    {
     "name": "stdout",
     "output_type": "stream",
     "text": [
      "(614, 2)\n",
      "(154, 2)\n"
     ]
    }
   ]
  },
  {
   "cell_type": "markdown",
   "metadata": {
    "id": "kcnD-d_rDElt"
   },
   "source": [
    "## Prepare Data for Training"
   ]
  },
  {
   "cell_type": "code",
   "metadata": {
    "id": "nnVfxQYDDIc6"
   },
   "source": [
    "# Loading the created dataset using datasets\n",
    "from datasets import load_dataset, load_metric\n",
    "\n",
    "\n",
    "data_files = {\n",
    "    \"train\": \"/masterarbeit_programming/notebooks/content/data/train.csv\",\n",
    "    \"validation\": \"/masterarbeit_programming/notebooks/content/data/test.csv\",\n",
    "}\n",
    "\n",
    "dataset = load_dataset(\"csv\", data_files=data_files, delimiter=\"\\t\", )\n",
    "train_dataset = dataset[\"train\"]\n",
    "eval_dataset = dataset[\"validation\"]\n",
    "\n",
    "print(train_dataset)\n",
    "print(eval_dataset)"
   ],
   "execution_count": 13,
   "outputs": [
    {
     "name": "stderr",
     "output_type": "stream",
     "text": [
      "Using custom data configuration default-97ab9238c05fb71e\n"
     ]
    },
    {
     "name": "stdout",
     "output_type": "stream",
     "text": [
      "Downloading and preparing dataset csv/default to X:/content/cache/csv/default-97ab9238c05fb71e/0.0.0/6b34fb8fcf56f7c8ba51dc895bfa2bfbe43546f190a60fcf74bb5e8afdcc2317...\n"
     ]
    },
    {
     "data": {
      "text/plain": "Downloading data files:   0%|          | 0/2 [00:00<?, ?it/s]",
      "application/vnd.jupyter.widget-view+json": {
       "version_major": 2,
       "version_minor": 0,
       "model_id": "a5d042341fee4356a91f991816e2e8a8"
      }
     },
     "metadata": {},
     "output_type": "display_data"
    },
    {
     "data": {
      "text/plain": "Generating train split: 0 examples [00:00, ? examples/s]",
      "application/vnd.jupyter.widget-view+json": {
       "version_major": 2,
       "version_minor": 0,
       "model_id": "9015f7930da342c5bad375443f9a827d"
      }
     },
     "metadata": {},
     "output_type": "display_data"
    },
    {
     "name": "stderr",
     "output_type": "stream",
     "text": [
      "X:\\masterarbeit_programming\\venv\\lib\\site-packages\\datasets\\download\\streaming_download_manager.py:714: FutureWarning: the 'mangle_dupe_cols' keyword is deprecated and will be removed in a future version. Please take steps to stop the use of 'mangle_dupe_cols'\n",
      "  return pd.read_csv(xopen(filepath_or_buffer, \"rb\", use_auth_token=use_auth_token), **kwargs)\n"
     ]
    },
    {
     "data": {
      "text/plain": "Generating validation split: 0 examples [00:00, ? examples/s]",
      "application/vnd.jupyter.widget-view+json": {
       "version_major": 2,
       "version_minor": 0,
       "model_id": "2f2ba40eb0264abaad036f5ad3d5be52"
      }
     },
     "metadata": {},
     "output_type": "display_data"
    },
    {
     "name": "stdout",
     "output_type": "stream",
     "text": [
      "Dataset csv downloaded and prepared to X:/content/cache/csv/default-97ab9238c05fb71e/0.0.0/6b34fb8fcf56f7c8ba51dc895bfa2bfbe43546f190a60fcf74bb5e8afdcc2317. Subsequent calls will reuse this data.\n"
     ]
    },
    {
     "name": "stderr",
     "output_type": "stream",
     "text": [
      "X:\\masterarbeit_programming\\venv\\lib\\site-packages\\datasets\\download\\streaming_download_manager.py:714: FutureWarning: the 'mangle_dupe_cols' keyword is deprecated and will be removed in a future version. Please take steps to stop the use of 'mangle_dupe_cols'\n",
      "  return pd.read_csv(xopen(filepath_or_buffer, \"rb\", use_auth_token=use_auth_token), **kwargs)\n"
     ]
    },
    {
     "data": {
      "text/plain": "  0%|          | 0/2 [00:00<?, ?it/s]",
      "application/vnd.jupyter.widget-view+json": {
       "version_major": 2,
       "version_minor": 0,
       "model_id": "14b7d4a19ceb425f86a1ca813909338b"
      }
     },
     "metadata": {},
     "output_type": "display_data"
    },
    {
     "name": "stdout",
     "output_type": "stream",
     "text": [
      "Dataset({\n",
      "    features: ['path', 'emotion'],\n",
      "    num_rows: 614\n",
      "})\n",
      "Dataset({\n",
      "    features: ['path', 'emotion'],\n",
      "    num_rows: 154\n",
      "})\n"
     ]
    }
   ]
  },
  {
   "cell_type": "code",
   "metadata": {
    "id": "rsOrQPBOEVOy"
   },
   "source": [
    "# We need to specify the input and output column\n",
    "input_column = \"path\"\n",
    "output_column = \"emotion\""
   ],
   "execution_count": 14,
   "outputs": []
  },
  {
   "cell_type": "code",
   "metadata": {
    "id": "-gh7fQ1XEpC7"
   },
   "source": [
    "# we need to distinguish the unique labels in our SER dataset\n",
    "label_list = train_dataset.unique(output_column)\n",
    "label_list.sort()  # Let's sort it for determinism\n",
    "num_labels = len(label_list)\n",
    "print(f\"A classification problem with {num_labels} classes: {label_list}\")"
   ],
   "execution_count": 15,
   "outputs": [
    {
     "name": "stdout",
     "output_type": "stream",
     "text": [
      "A classification problem with 6 classes: ['angry', 'disgust', 'fear', 'happy', 'ps', 'sad']\n"
     ]
    }
   ]
  },
  {
   "cell_type": "markdown",
   "metadata": {
    "id": "4TkGYrVTFR6Y"
   },
   "source": [
    "In order to preprocess the audio into our classification model, we need to set up the relevant Wav2Vec2 assets regarding our language in this case `lighteternal/wav2vec2-large-xlsr-53-greek` fine-tuned by [Dimitris Papadopoulos](https://huggingface.co/lighteternal/wav2vec2-large-xlsr-53-greek). To handle the context representations in any audio length we use a merge strategy plan (pooling mode) to concatenate that 3D representations into 2D representations.\n",
    "\n",
    "There are three merge strategies `mean`, `sum`, and `max`. In this example, we achieved better results on the mean approach. In the following, we need to initiate the config and the feature extractor from the Dimitris model."
   ]
  },
  {
   "cell_type": "code",
   "metadata": {
    "id": "rQrGaFohGzVo"
   },
   "source": [
    "from transformers import AutoConfig, Wav2Vec2Processor"
   ],
   "execution_count": 16,
   "outputs": []
  },
  {
   "cell_type": "code",
   "metadata": {
    "id": "9Y1adr7vFrq7"
   },
   "source": [
    "#model_name_or_path = \"lighteternal/wav2vec2-large-xlsr-53-greek\"\n",
    "model_name_or_path = \"jonatasgrosman/wav2vec2-large-xlsr-53-german\"\n",
    "pooling_mode = \"mean\""
   ],
   "execution_count": 17,
   "outputs": []
  },
  {
   "cell_type": "code",
   "metadata": {
    "id": "AZjDSmBRGqr6"
   },
   "source": [
    "# config\n",
    "config = AutoConfig.from_pretrained(\n",
    "    model_name_or_path,\n",
    "    num_labels=num_labels,\n",
    "    label2id={label: i for i, label in enumerate(label_list)},\n",
    "    id2label={i: label for i, label in enumerate(label_list)},\n",
    "    finetuning_task=\"wav2vec2_clf\",\n",
    ")\n",
    "setattr(config, 'pooling_mode', pooling_mode)"
   ],
   "execution_count": 18,
   "outputs": [
    {
     "data": {
      "text/plain": "Downloading:   0%|          | 0.00/1.78k [00:00<?, ?B/s]",
      "application/vnd.jupyter.widget-view+json": {
       "version_major": 2,
       "version_minor": 0,
       "model_id": "031088b66c504921ab107836f2cfd113"
      }
     },
     "metadata": {},
     "output_type": "display_data"
    },
    {
     "name": "stderr",
     "output_type": "stream",
     "text": [
      "X:\\masterarbeit_programming\\venv\\lib\\site-packages\\huggingface_hub\\file_download.py:125: UserWarning: `huggingface_hub` cache-system uses symlinks by default to efficiently store duplicated files but your machine does not support them in X:\\content\\cache. Caching files will still work but in a degraded version that might require more space on your disk. This warning can be disabled by setting the `HF_HUB_DISABLE_SYMLINKS_WARNING` environment variable. For more details, see https://huggingface.co/docs/huggingface_hub/how-to-cache#limitations.\n",
      "To support symlinks on Windows, you either need to activate Developer Mode or to run Python as an administrator. In order to see activate developer mode, see this article: https://docs.microsoft.com/en-us/windows/apps/get-started/enable-your-device-for-development\n",
      "  warnings.warn(message)\n"
     ]
    }
   ]
  },
  {
   "cell_type": "code",
   "metadata": {
    "id": "ZXVl9qW1Gw_-"
   },
   "source": [
    "processor = Wav2Vec2Processor.from_pretrained(model_name_or_path,)\n",
    "target_sampling_rate = processor.feature_extractor.sampling_rate\n",
    "print(f\"The target sampling rate: {target_sampling_rate}\")"
   ],
   "execution_count": 19,
   "outputs": [
    {
     "data": {
      "text/plain": "Downloading:   0%|          | 0.00/262 [00:00<?, ?B/s]",
      "application/vnd.jupyter.widget-view+json": {
       "version_major": 2,
       "version_minor": 0,
       "model_id": "d6c5da23e23f4d77a4cb57c812db5cef"
      }
     },
     "metadata": {},
     "output_type": "display_data"
    },
    {
     "data": {
      "text/plain": "Downloading:   0%|          | 0.00/350 [00:00<?, ?B/s]",
      "application/vnd.jupyter.widget-view+json": {
       "version_major": 2,
       "version_minor": 0,
       "model_id": "02246ed800c44fb2977f4edb3ab423d5"
      }
     },
     "metadata": {},
     "output_type": "display_data"
    },
    {
     "data": {
      "text/plain": "Downloading:   0%|          | 0.00/85.0 [00:00<?, ?B/s]",
      "application/vnd.jupyter.widget-view+json": {
       "version_major": 2,
       "version_minor": 0,
       "model_id": "a2e1ca677dae429286b986045d0d08db"
      }
     },
     "metadata": {},
     "output_type": "display_data"
    },
    {
     "name": "stdout",
     "output_type": "stream",
     "text": [
      "The target sampling rate: 16000\n"
     ]
    }
   ]
  },
  {
   "cell_type": "markdown",
   "metadata": {
    "id": "CbGuYgLqHXZg"
   },
   "source": [
    "# Preprocess Data"
   ]
  },
  {
   "cell_type": "markdown",
   "metadata": {
    "id": "qLk-eM1DFjtE"
   },
   "source": [
    "So far, we downloaded, loaded, and split the SER dataset into train and test sets. The instantiated our strategy configuration for using context representations in our classification problem SER. Now, we need to extract features from the audio path in context representation tensors and feed them into our classification model to determine the emotion in the speech.\n",
    "\n",
    "Since the audio file is saved in the `.wav` format, it is easy to use **[Librosa](https://librosa.org/doc/latest/index.html)** or others, but we suppose that the format may be in the `.mp3` format in case of generality. We found that the **[Torchaudio](https://pytorch.org/audio/stable/index.html)** library works best for reading in `.mp3` data.\n",
    "\n",
    "An audio file usually stores both its values and the sampling rate with which the speech signal was digitalized. We want to store both in the dataset and write a **map(...)** function accordingly. Also, we need to handle the string labels into integers for our specific classification task in this case, the **single-label classification** you may want to use for your **regression** or even **multi-label classification**."
   ]
  },
  {
   "cell_type": "code",
   "metadata": {
    "id": "6UqlIV3uGxDA"
   },
   "source": [
    "def speech_file_to_array_fn(path):\n",
    "    speech_array, sampling_rate = torchaudio.load(path)\n",
    "    resampler = torchaudio.transforms.Resample(sampling_rate, target_sampling_rate)\n",
    "    speech = resampler(speech_array).squeeze().numpy()\n",
    "    return speech\n",
    "\n",
    "def label_to_id(label, label_list):\n",
    "\n",
    "    if len(label_list) > 0:\n",
    "        return label_list.index(label) if label in label_list else -1\n",
    "\n",
    "    return label\n",
    "\n",
    "def speech_file_to_array_librosa(speech_path):\n",
    "    speech_array, sampling_rate = librosa.load(speech_path)\n",
    "    resampler = librosa.resample(speech_array, orig_sr=sampling_rate, target_sr=target_sampling_rate).squeeze()\n",
    "\n",
    "    return resampler\n",
    "\n",
    "def preprocess_function(examples):\n",
    "    speech_list = [speech_file_to_array_librosa(path) for path in examples[input_column]]\n",
    "    target_list = [label_to_id(label, label_list) for label in examples[output_column]]\n",
    "\n",
    "    result = processor(speech_list, sampling_rate=target_sampling_rate)\n",
    "    result[\"labels\"] = list(target_list)\n",
    "\n",
    "    return result"
   ],
   "execution_count": 20,
   "outputs": []
  },
  {
   "cell_type": "code",
   "metadata": {
    "id": "ioP8FfR2GxHi"
   },
   "source": [
    "train_dataset = train_dataset.map(\n",
    "    preprocess_function,\n",
    "    batch_size=100,\n",
    "    batched=True,\n",
    "    #num_proc=4\n",
    ")\n",
    "eval_dataset = eval_dataset.map(\n",
    "    preprocess_function,\n",
    "    batch_size=100,\n",
    "    batched=True,\n",
    "    #num_proc=4\n",
    ")"
   ],
   "execution_count": 21,
   "outputs": [
    {
     "data": {
      "text/plain": "  0%|          | 0/7 [00:00<?, ?ba/s]",
      "application/vnd.jupyter.widget-view+json": {
       "version_major": 2,
       "version_minor": 0,
       "model_id": "b2943a8f73d44651b59c051fda290dca"
      }
     },
     "metadata": {},
     "output_type": "display_data"
    },
    {
     "name": "stderr",
     "output_type": "stream",
     "text": [
      "X:\\masterarbeit_programming\\venv\\lib\\site-packages\\transformers\\feature_extraction_utils.py:164: VisibleDeprecationWarning: Creating an ndarray from ragged nested sequences (which is a list-or-tuple of lists-or-tuples-or ndarrays with different lengths or shapes) is deprecated. If you meant to do this, you must specify 'dtype=object' when creating the ndarray.\n",
      "  tensor = as_tensor(value)\n"
     ]
    },
    {
     "data": {
      "text/plain": "  0%|          | 0/2 [00:00<?, ?ba/s]",
      "application/vnd.jupyter.widget-view+json": {
       "version_major": 2,
       "version_minor": 0,
       "model_id": "1a7560c186ef4fedaf37a483d0794770"
      }
     },
     "metadata": {},
     "output_type": "display_data"
    }
   ]
  },
  {
   "cell_type": "code",
   "metadata": {
    "id": "eu1qcRucHk6d"
   },
   "source": [
    "idx = 0\n",
    "print(f\"Training input_values: {train_dataset[idx]['input_values']}\")\n",
    "print(f\"Training attention_mask: {train_dataset[idx]['attention_mask']}\")\n",
    "print(f\"Training labels: {train_dataset[idx]['labels']} - {train_dataset[idx]['emotion']}\")"
   ],
   "execution_count": 22,
   "outputs": [
    {
     "name": "stdout",
     "output_type": "stream",
     "text": [
      "Training input_values: [0.0007374320412054658, 0.0011900919489562511, 0.0013962708180770278, 0.0017083815764635801, 0.0016394902486354113, 0.0016700763953849673, 0.0019221955444663763, 0.0020953589119017124, 0.00219220039434731, 0.002004684880375862, 0.001628277124837041, 0.0020522465929389, 0.002029430354014039, 0.0015785421710461378, 0.001700185239315033, 0.0017545826267451048, 0.0017781425267457962, 0.0020678266882896423, 0.0019342006416991353, 0.0006102269398979843, -0.0006685555563308299, -0.0012284292606636882, -0.001405434450134635, -0.0014453110052272677, -0.0013099287170916796, -0.0011978375259786844, -0.001000315067358315, -0.0008715143194422126, -0.0009939261944964528, -0.0010232401546090841, -0.002593020675703883, -0.004064969718456268, -0.0034331632778048515, -0.0019745174795389175, 0.00037090005935169756, 0.0021947675850242376, 0.002650584327057004, 0.0026892386376857758, 0.004907076712697744, 0.009392120875418186, 0.012948201969265938, 0.016714924946427345, 0.016490653157234192, 0.01039570290595293, 0.0036090314388275146, -0.0006323845591396093, -0.0015864440938457847, -0.001312181237153709, -0.00034499436151236296, -0.0031754528172314167, -0.012159486301243305, -0.020630115643143654, -0.022627633064985275, -0.020921994000673294, -0.018715381622314453, -0.016342585906386375, -0.015692181885242462, -0.020735718309879303, -0.025959869846701622, -0.02184566669166088, -0.01585198938846588, -0.011178627610206604, -0.004658709280192852, -0.0011018036166206002, -0.003428327850997448, -0.00694481423124671, -0.005504744127392769, -0.0009449870558455586, 0.0033058994449675083, 0.006576556246727705, 0.007660883478820324, 0.007386987563222647, 0.00592399388551712, 0.006720196921378374, 0.011354930698871613, 0.01415442954748869, 0.012370706535875797, 0.00696541229262948, -0.001661011134274304, -0.012273946776986122, -0.018709765747189522, -0.017666133120656013, -0.015281375497579575, -0.020367510616779327, -0.030470846220850945, -0.043577488511800766, -0.0591658316552639, -0.06640000641345978, -0.06082907319068909, -0.05089899152517319, -0.05120993033051491, -0.06092916056513786, -0.07239407300949097, -0.08455456048250198, -0.08766087144613266, -0.07748211920261383, -0.06652069836854935, -0.06515757739543915, -0.07207021862268448, -0.08275548368692398, -0.08978758752346039, -0.08586284518241882, -0.0739818811416626, -0.06353917717933655, -0.06431052088737488, -0.07628759741783142, -0.08881452679634094, -0.09289219230413437, -0.08188947290182114, -0.06837709993124008, -0.0639214813709259, -0.06652700901031494, -0.07408233731985092, -0.07884432375431061, -0.07197359949350357, -0.053740113973617554, -0.044244252145290375, -0.04407060146331787, -0.04651971533894539, -0.051506537944078445, -0.04714939743280411, -0.029954029247164726, -0.015582327730953693, -0.016061551868915558, -0.01911122165620327, -0.022361217066645622, -0.02284424565732479, -0.014886444434523582, -0.005270760040730238, -0.003018171526491642, -0.008970977738499641, -0.017290296033024788, -0.026570243760943413, -0.027397843077778816, -0.023415470495820045, -0.021035023033618927, -0.024328289553523064, -0.0329238586127758, -0.036895718425512314, -0.04496388882398605, -0.049327023327350616, -0.041152700781822205, -0.04362744092941284, -0.05569331347942352, -0.05656677484512329, -0.0599810890853405, -0.0707031637430191, -0.06837418675422668, -0.061631087213754654, -0.06553979218006134, -0.06696708500385284, -0.0625317245721817, -0.06901772320270538, -0.07533175498247147, -0.06936488300561905, -0.0687834694981575, -0.07206161320209503, -0.06665519624948502, -0.06579073518514633, -0.07259155064821243, -0.07112061977386475, -0.06247832253575325, -0.054343823343515396, -0.05152304098010063, -0.05334801226854324, -0.05909352749586105, -0.05531418323516846, -0.005987741984426975, 0.08292169123888016, 0.1661529392004013, 0.20830079913139343, 0.20862418413162231, 0.19158153235912323, 0.17977696657180786, 0.20719142258167267, 0.2796774208545685, 0.3336852788925171, 0.3261384069919586, 0.2947559952735901, 0.2755504846572876, 0.27447015047073364, 0.30421993136405945, 0.34798502922058105, 0.3376707434654236, 0.2537164092063904, 0.15968561172485352, 0.10129077732563019, 0.07771594822406769, 0.07886853069067001, 0.08245733380317688, 0.05752291530370712, -0.00451871519908309, -0.07042457908391953, -0.09383179992437363, -0.09484893828630447, -0.11718770116567612, -0.14699378609657288, -0.1821717917919159, -0.2332727164030075, -0.2607265114784241, -0.24705010652542114, -0.2281353920698166, -0.22298677265644073, -0.22667145729064941, -0.2365289181470871, -0.24479946494102478, -0.2357277274131775, -0.21116988360881805, -0.18486963212490082, -0.16507653892040253, -0.15451398491859436, -0.14693313837051392, -0.13231143355369568, -0.11200936883687973, -0.0884319618344307, -0.06170070543885231, -0.04097979888319969, -0.024500524625182152, -0.010960634797811508, -0.004619625397026539, -0.0007232358329929411, 0.007453419733792543, 0.011642522178590298, 0.015436728484928608, 0.027969248592853546, 0.03344782069325447, 0.02553793601691723, 0.02342395670711994, 0.03265578672289848, 0.026287604123353958, 0.02225344255566597, 0.030868249014019966, 0.02739572338759899, 0.013268005102872849, 0.00036375588388182223, -0.011042218655347824, -0.02266787737607956, -0.02018975280225277, -0.019652538001537323, -0.020712323486804962, -0.022579895332455635, -0.027035865932703018, -0.025644052773714066, -0.0211632139980793, -0.018737202510237694, -0.03930613026022911, -0.060565028339624405, -0.07083321362733841, -0.07076660543680191, -0.05282425507903099, -0.03470423445105553, -0.039466604590415955, -0.06447634845972061, -0.08401873707771301, -0.07800821959972382, -0.04565519094467163, -0.0010322101879864931, 0.06423135846853256, 0.1320766806602478, 0.19344161450862885, 0.25295647978782654, 0.3003362715244293, 0.3373847007751465, 0.3446924686431885, 0.3377130627632141, 0.3493807911872864, 0.3627871870994568, 0.363692045211792, 0.3761603534221649, 0.39911115169525146, 0.4009404182434082, 0.3872355818748474, 0.38286125659942627, 0.35076698660850525, 0.2552151083946228, 0.15065667033195496, 0.06809985637664795, -0.003649762598797679, -0.05179820954799652, -0.07103965431451797, -0.09537900984287262, -0.1639714241027832, -0.2346561998128891, -0.2591349184513092, -0.27929699420928955, -0.30561086535453796, -0.33155176043510437, -0.3773641288280487, -0.4282711446285248, -0.45835739374160767, -0.4408051371574402, -0.3918059170246124, -0.35149067640304565, -0.3265879154205322, -0.3029037117958069, -0.2690303921699524, -0.23256944119930267, -0.19441838562488556, -0.1533796638250351, -0.13763244450092316, -0.14303737878799438, -0.1148054376244545, -0.05272969976067543, 0.008639281615614891, 0.06131541728973389, 0.09410297870635986, 0.09871364384889603, 0.10083351284265518, 0.1338864266872406, 0.18822571635246277, 0.2246936410665512, 0.22032196819782257, 0.1823502779006958, 0.1364974081516266, 0.11437156796455383, 0.131815567612648, 0.16946625709533691, 0.18821485340595245, 0.15701226890087128, 0.09936077147722244, 0.05730268359184265, 0.04130224883556366, 0.04852837696671486, 0.05028015375137329, 0.02554537169635296, -0.030132625252008438, -0.09085353463888168, -0.10259126871824265, -0.07447858899831772, -0.05170252546668053, -0.05642642453312874, -0.10487034171819687, -0.16605205833911896, -0.19072863459587097, -0.17079779505729675, -0.13020406663417816, -0.1096302941441536, -0.12440942227840424, -0.15976540744304657, -0.17738008499145508, -0.1501644402742386, -0.0904381200671196, -0.05161157622933388, -0.05853831395506859, -0.0958293005824089, -0.1362604945898056, -0.1370486170053482, -0.08404240757226944, -0.021786347031593323, 0.014565622434020042, 0.09131927043199539, 0.20561885833740234, 0.30698806047439575, 0.4120234549045563, 0.4812166690826416, 0.45315834879875183, 0.3922675549983978, 0.3913182318210602, 0.43574824929237366, 0.4872388243675232, 0.512930691242218, 0.507548451423645, 0.4729578495025635, 0.43709003925323486, 0.4541513919830322, 0.4796721041202545, 0.41030317544937134, 0.2503983974456787, 0.08106997609138489, -0.06965500861406326, -0.18061059713363647, -0.2034476399421692, -0.17986470460891724, -0.22873683273792267, -0.33244186639785767, -0.41279295086860657, -0.4663333594799042, -0.5035475492477417, -0.5037902593612671, -0.4967747628688812, -0.5565394759178162, -0.6385347247123718, -0.6708232760429382, -0.6535431146621704, -0.5919777750968933, -0.4885491728782654, -0.38087955117225647, -0.3019925057888031, -0.2562917172908783, -0.22303485870361328, -0.17581620812416077, -0.11885659396648407, -0.05331079289317131, 0.0215155016630888, 0.08140063285827637, 0.10778887569904327, 0.13727132976055145, 0.1948239505290985, 0.25755512714385986, 0.3207036554813385, 0.38324832916259766, 0.40773215889930725, 0.3781680762767792, 0.3473112881183624, 0.3405163288116455, 0.33637315034866333, 0.346095472574234, 0.35452908277511597, 0.3193725645542145, 0.2522227168083191, 0.17825400829315186, 0.1370200514793396, 0.1318047046661377, 0.11668983846902847, 0.08815362304449081, 0.04531417414546013, -0.03525825962424278, -0.12542212009429932, -0.15843254327774048, -0.16402103006839752, -0.18585313856601715, -0.20771946012973785, -0.24175161123275757, -0.28539684414863586, -0.3149086534976959, -0.30962273478507996, -0.2740060091018677, -0.24416418373584747, -0.24336756765842438, -0.2507975995540619, -0.25210073590278625, -0.2580268979072571, -0.25170210003852844, -0.22992737591266632, -0.1903063952922821, -0.15854713320732117, -0.1352638304233551, -0.10139855742454529, -0.06765769422054291, -0.04154355451464653, -0.024299174547195435, 0.020407816395163536, 0.04354394972324371, 0.0999661386013031, 0.25336188077926636, 0.37913933396339417, 0.47625213861465454, 0.5672352910041809, 0.5767369270324707, 0.5429803133010864, 0.5544869899749756, 0.5983662605285645, 0.6460770964622498, 0.6581911444664001, 0.6259904503822327, 0.5665045976638794, 0.5140824913978577, 0.5148705840110779, 0.5240007638931274, 0.5009769797325134, 0.39081496000289917, 0.1913667619228363, 0.017816079780459404, -0.10896814614534378, -0.21203701198101044, -0.2628013789653778, -0.3122728765010834, -0.42473354935646057, -0.5363617539405823, -0.5835508704185486, -0.5916222333908081, -0.5985262989997864, -0.6295214891433716, -0.697939932346344, -0.7785661220550537, -0.8175598978996277, -0.7861961722373962, -0.6901916861534119, -0.5791531205177307, -0.5133399963378906, -0.46715468168258667, -0.39937934279441833, -0.3218590319156647, -0.21894703805446625, -0.09378094971179962, -0.001484957174398005, 0.036588095128536224, 0.057982392609119415, 0.11032730340957642, 0.19572016596794128, 0.29115355014801025, 0.37355273962020874, 0.42647695541381836, 0.43565285205841064, 0.42227497696876526, 0.42721498012542725, 0.46050816774368286, 0.49351218342781067, 0.4856708347797394, 0.44971123337745667, 0.40198013186454773, 0.34282147884368896, 0.2945484220981598, 0.27423685789108276, 0.24245129525661469, 0.1782238632440567, 0.11196446418762207, 0.0573422834277153, 0.014361638575792313, -0.027173038572072983, -0.06800325959920883, -0.12367011606693268, -0.19887444376945496, -0.2656920552253723, -0.29243385791778564, -0.28209003806114197, -0.285627156496048, -0.3197682499885559, -0.35646167397499084, -0.38374581933021545, -0.37898898124694824, -0.32200998067855835, -0.25916382670402527, -0.2363215833902359, -0.26307591795921326, -0.3083343803882599, -0.3157133460044861, -0.2596183121204376, -0.16991868615150452, -0.09049831330776215, -0.059628576040267944, -0.08151945471763611, -0.11010999232530594, -0.082574762403965, -0.003040229668840766, 0.09129282832145691, 0.26086294651031494, 0.4363155961036682, 0.5182918310165405, 0.5786458849906921, 0.6269174218177795, 0.6189280152320862, 0.6118951439857483, 0.6655614972114563, 0.7258519530296326, 0.7344340682029724, 0.7119675874710083, 0.6701921820640564, 0.6064541935920715, 0.5775619149208069, 0.575867772102356, 0.5541235208511353, 0.4660836160182953, 0.26435163617134094, 0.03830472007393837, -0.1278952956199646, -0.25934138894081116, -0.3458966612815857, -0.3723708987236023, -0.44213932752609253, -0.5860198736190796, -0.696434736251831, -0.7508127093315125, -0.7879727482795715, -0.7861310243606567, -0.7663188576698303, -0.8001686334609985, -0.849347710609436, -0.8644794821739197, -0.8268703818321228, -0.7285761833190918, -0.5895304679870605, -0.4581069052219391, -0.3626636862754822, -0.29253777861595154, -0.2567429542541504, -0.1840081661939621, -0.06556905806064606, 0.04783652722835541, 0.15551462769508362, 0.24347998201847076, 0.2975490093231201, 0.3311644196510315, 0.38507500290870667, 0.4494863450527191, 0.5012168288230896, 0.5305851101875305, 0.5415417551994324, 0.5298250913619995, 0.5164167881011963, 0.5121639370918274, 0.48562026023864746, 0.45284759998321533, 0.40796801447868347, 0.35345321893692017, 0.3094642758369446, 0.26658937335014343, 0.20409612357616425, 0.12683136761188507, 0.0497540719807148, -0.020413614809513092, -0.06852409243583679, -0.11010614037513733, -0.14801545441150665, -0.19822853803634644, -0.25569069385528564, -0.29266488552093506, -0.3087223172187805, -0.31296592950820923, -0.31900668144226074, -0.34223511815071106, -0.3880155384540558, -0.41674524545669556, -0.4092448353767395, -0.37298518419265747, -0.3232289254665375, -0.26541709899902344, -0.24423038959503174, -0.2553173899650574, -0.24885502457618713, -0.21112868189811707, -0.1449386179447174, -0.08895831555128098, -0.04290098324418068, -0.04970478639006615, -0.0796646699309349, -0.07524345070123672, 0.006500108167529106, 0.24308712780475616, 0.5389468669891357, 0.734610378742218, 0.7983511090278625, 0.7514464259147644, 0.6252717971801758, 0.5852646231651306, 0.721357524394989, 0.8891013860702515, 0.9443167448043823, 0.8756013512611389, 0.7135370969772339, 0.5426121950149536, 0.5021741390228271, 0.5857225060462952, 0.6450970768928528, 0.5685620903968811, 0.3298007547855377, -0.010403790511190891, -0.29905810952186584, -0.43495553731918335, -0.46586373448371887, -0.46846944093704224, -0.5299201011657715, -0.7050274610519409, -0.8902565836906433, -0.9844053387641907, -0.9757445454597473, -0.909273624420166, -0.8439159989356995, -0.8385831713676453, -0.9211515784263611, -0.9819074869155884, -0.9534339308738708, -0.8652018308639526, -0.7058428525924683, -0.5313410758972168, -0.41521570086479187, -0.3208537697792053, -0.2253432422876358, -0.11395207792520523, 0.016936564818024635, 0.16437923908233643, 0.29369276762008667, 0.34751302003860474, 0.3682481646537781, 0.40228474140167236, 0.44132280349731445, 0.47342944145202637, 0.5331122875213623, 0.5913529396057129, 0.617009699344635, 0.6206892728805542, 0.6002545356750488, 0.5948219895362854, 0.5591769814491272, 0.48356640338897705, 0.42698320746421814, 0.36052852869033813, 0.2643972933292389, 0.18689541518688202, 0.13795292377471924, 0.08426731079816818, 0.017708107829093933, -0.03338579088449478, -0.05872029438614845, -0.12626014649868011, -0.19966354966163635, -0.2179546058177948, -0.24425971508026123, -0.2891995906829834, -0.34541961550712585, -0.39949876070022583, -0.4202863276004791, -0.42058828473091125, -0.41094863414764404, -0.3560860753059387, -0.3077560365200043, -0.32042840123176575, -0.342873215675354, -0.3265629708766937, -0.29155802726745605, -0.27912992238998413, -0.22612830996513367, -0.1680578589439392, -0.15532314777374268, -0.17338764667510986, -0.1422593891620636, -0.09598137438297272, -0.027245888486504555, 0.2663358151912689, 0.6429502367973328, 0.8811479806900024, 0.9571623802185059, 0.9326865077018738, 0.8368245959281921, 0.7809186577796936, 0.870396614074707, 1.012455701828003, 1.0601153373718262, 0.975151538848877, 0.8054550886154175, 0.6285772919654846, 0.5727338194847107, 0.6038215160369873, 0.6300390362739563, 0.543146014213562, 0.28599250316619873, -0.09045564383268356, -0.4296225905418396, -0.6291176676750183, -0.7112914323806763, -0.7194209098815918, -0.775303840637207, -0.8832234144210815, -1.006557583808899, -1.0970211029052734, -1.0913766622543335, -1.007375955581665, -0.9275557994842529, -0.9104664325714111, -0.9253170490264893, -0.9134706258773804, -0.8756998777389526, -0.8043305277824402, -0.6499825716018677, -0.483722060918808, -0.33854278922080994, -0.18251082301139832, -0.010425850749015808, 0.15449553728103638, 0.28395819664001465, 0.37682437896728516, 0.42104223370552063, 0.44901326298713684, 0.4704371988773346, 0.483598530292511, 0.496730238199234, 0.4991195499897003, 0.48439139127731323, 0.48594969511032104, 0.5249670147895813, 0.550290584564209, 0.5381468534469604, 0.481660932302475, 0.38524267077445984, 0.2730742394924164, 0.1821582019329071, 0.11894188076257706, 0.08083140850067139, 0.0366123802959919, -0.03060992620885372, -0.09111436456441879, -0.1370088756084442, -0.12350832670927048, -0.11951595544815063, -0.1472441405057907, -0.1737164855003357, -0.2389506995677948, -0.2892538607120514, -0.29825785756111145, -0.27057892084121704, -0.2506897449493408, -0.26342031359672546, -0.2911708950996399, -0.3543719947338104, -0.3485660254955292, -0.22834768891334534, -0.13215139508247375, -0.11919081956148148, -0.1319289654493332, -0.19763408601284027, -0.2474285364151001, -0.20968973636627197, -0.14205724000930786, -0.07066383212804794, -0.08567506074905396, 0.05314686894416809, 0.4823366105556488, 0.9370823502540588, 1.2343837022781372, 1.3683353662490845, 1.3750025033950806, 1.2315183877944946, 1.0816572904586792, 1.070998191833496, 1.0952571630477905, 0.9304484724998474, 0.6791436672210693, 0.43146565556526184, 0.23048552870750427, 0.19121377170085907, 0.2266819179058075, 0.18329882621765137, -0.06901998817920685, -0.468178927898407, -0.903287947177887, -1.2199652194976807, -1.3656123876571655, -1.3960965871810913, -1.3975223302841187, -1.4531211853027344, -1.5390031337738037, -1.5389680862426758, -1.3602646589279175, -1.0543780326843262, -0.7118503451347351, -0.46781185269355774, -0.3735142946243286, -0.35327574610710144, -0.2723492383956909, -0.13589532673358917, 0.019992634654045105, 0.1936953067779541, 0.3395746648311615, 0.48201340436935425, 0.6594663262367249, 0.8637184500694275, 1.0543371438980103, 1.1773959398269653, 1.15892493724823, 1.022987723350525, 0.8296470046043396, 0.6427891850471497, 0.4761165976524353, 0.30620628595352173, 0.14814190566539764, 0.00958405900746584, -0.07802879065275192, -0.0816114991903305, -0.03416870906949043, -0.023470044136047363, -0.10645395517349243, -0.2636372447013855, -0.41687875986099243, -0.536663293838501, -0.5912293791770935, -0.5639450550079346, -0.5130348801612854, -0.49892687797546387, -0.4974765479564667, -0.45771324634552, -0.37667179107666016, -0.2712809443473816, -0.16704140603542328, -0.05171333625912666, 0.014267497695982456, -0.0011035213246941566, -0.0539308600127697, -0.10772352665662766, -0.10215083509683609, -0.05169292166829109, 0.009337343275547028, 0.07559895515441895, 0.11052443087100983, 0.11780118942260742, 0.12298020720481873, 0.10981327295303345, 0.11121563613414764, 0.09755353629589081, 0.038497552275657654, -0.08429010212421417, -0.1662043333053589, 0.14221711456775665, 0.7354395389556885, 1.2462717294692993, 1.5925270318984985, 1.7468558549880981, 1.7057111263275146, 1.6041423082351685, 1.574231505393982, 1.4815433025360107, 1.1986606121063232, 0.8127316832542419, 0.4424325227737427, 0.21053184568881989, 0.12151840329170227, 0.034906454384326935, -0.1338823139667511, -0.39198073744773865, -0.7049240469932556, -1.029149055480957, -1.3397260904312134, -1.6643397808074951, -1.9953281879425049, -2.2138965129852295, -2.275350570678711, -2.1887285709381104, -2.0192224979400635, -1.8215906620025635, -1.5794358253479004, -1.27993905544281, -0.926193356513977, -0.5899056792259216, -0.28892001509666443, -0.07465668022632599, 0.0585220530629158, 0.2545202076435089, 0.4873504340648651, 0.6965928077697754, 0.9137791395187378, 1.1176260709762573, 1.30104660987854, 1.4630440473556519, 1.6350890398025513, 1.7421818971633911, 1.6521172523498535, 1.467104196548462, 1.1970549821853638, 0.8664735555648804, 0.5924569368362427, 0.359675794839859, 0.16204790771007538, 0.0025393923278898, -0.16179990768432617, -0.3513574004173279, -0.43781036138534546, -0.4361546039581299, -0.4788420796394348, -0.5068739056587219, -0.5605677962303162, -0.7134357690811157, -0.8452721238136292, -0.8984559774398804, -0.8973798155784607, -0.8382194638252258, -0.7503950595855713, -0.6423943042755127, -0.4934796094894409, -0.3128519356250763, -0.16741694509983063, -0.049774445593357086, 0.0649402067065239, 0.09160295128822327, 0.10652618855237961, 0.15008310973644257, 0.12824870645999908, 0.08198077231645584, 0.08830102533102036, 0.12238910794258118, 0.15373942255973816, 0.2296123504638672, 0.260847270488739, 0.19425517320632935, 0.10433915257453918, 0.06090284138917923, 0.0222614798694849, -0.01839641109108925, 0.28480005264282227, 0.8417673707008362, 1.1944876909255981, 1.3676369190216064, 1.4713053703308105, 1.4830286502838135, 1.4673582315444946, 1.5153189897537231, 1.5749857425689697, 1.4814653396606445, 1.1418734788894653, 0.6582277417182922, 0.2984723746776581, 0.13079221546649933, 0.010054411366581917, -0.12167500704526901, -0.4063985347747803, -0.8680739998817444, -1.2639495134353638, -1.5754303932189941, -1.8618584871292114, -2.051769256591797, -2.119267463684082, -2.1782093048095703, -2.286698579788208, -2.258519172668457, -2.042567253112793, -1.7642873525619507, -1.4354057312011719, -1.0795587301254272, -0.7623750567436218, -0.4775184690952301, -0.20697198808193207, 0.057283636182546616, 0.3607825040817261, 0.7284699082374573, 1.0314334630966187, 1.2312870025634766, 1.4317679405212402, 1.6302368640899658, 1.8037943840026855, 1.9338616132736206, 1.9886971712112427, 1.925079345703125, 1.712644100189209, 1.3815255165100098, 1.0250523090362549, 0.723500669002533, 0.4447003901004791, 0.15846025943756104, -0.1248299852013588, -0.3797816336154938, -0.5758954882621765, -0.7054798007011414, -0.7908914685249329, -0.8354462385177612, -0.8709388375282288, -0.9655511379241943, -1.0714101791381836, -1.1359156370162964, -1.1223198175430298, -1.051128625869751, -0.9481016993522644, -0.8040026426315308, -0.6546694040298462, -0.48965170979499817, -0.33121258020401, -0.16897737979888916, 0.015943316742777824, 0.17536786198616028, 0.29086533188819885, 0.3899429738521576, 0.4203372895717621, 0.3853769600391388, 0.3987361192703247, 0.433795690536499, 0.4452729821205139, 0.4596591293811798, 0.47083133459091187, 0.3886452913284302, 0.2570503354072571, 0.15412284433841705, 0.05721659958362579, -0.09901478886604309, -0.20490604639053345, 0.1108655035495758, 0.6751702427864075, 1.0652989149093628, 1.3255418539047241, 1.4872065782546997, 1.4467352628707886, 1.3240153789520264, 1.3267983198165894, 1.3680473566055298, 1.1932390928268433, 0.8308990597724915, 0.46345680952072144, 0.10032394528388977, -0.20506836473941803, -0.33813154697418213, -0.39566537737846375, -0.5830706357955933, -0.8717014789581299, -1.137309193611145, -1.3901174068450928, -1.6118357181549072, -1.763435959815979, -1.8293490409851074, -1.8914872407913208, -1.9893345832824707, -1.9992879629135132, -1.8730698823928833, -1.6311821937561035, -1.2636052370071411, -0.8372810482978821, -0.48564332723617554, -0.26321151852607727, -0.08463388681411743, 0.16286535561084747, 0.4777210056781769, 0.8071787357330322, 1.0682618618011475, 1.2307803630828857, 1.340246558189392, 1.4509248733520508, 1.5755852460861206, 1.6643675565719604, 1.6866432428359985, 1.5821689367294312, 1.3298885822296143, 1.017690896987915, 0.7331699132919312, 0.5007644891738892, 0.28570613265037537, 0.07901700586080551, -0.13295909762382507, -0.38880231976509094, -0.628982424736023, -0.7444348931312561, -0.764159619808197, -0.7887595295906067, -0.8582968711853027, -0.9515409469604492, -1.0502755641937256, -1.1380201578140259, -1.0927894115447998, -0.9070619344711304, -0.7231503129005432, -0.5918996930122375, -0.5008882880210876, -0.42496559023857117, -0.3205253779888153, -0.11783384531736374, 0.1470777541399002, 0.31170719861984253, 0.3325601816177368, 0.2747003138065338, 0.2461451143026352, 0.27207088470458984, 0.3475111722946167, 0.42557403445243835, 0.4347131550312042, 0.3825613558292389, 0.2731107175350189, 0.19810554385185242, 0.11283034831285477, 0.24854765832424164, 0.8251363635063171, 1.4123982191085815, 1.7179511785507202, 1.8056223392486572, 1.7936546802520752, 1.6961259841918945, 1.618228554725647, 1.6895767450332642, 1.5834131240844727, 1.1297411918640137, 0.6170253753662109, 0.1607094556093216, -0.26732420921325684, -0.5753636360168457, -0.679108202457428, -0.7646772265434265, -1.0325723886489868, -1.3704622983932495, -1.6650004386901855, -1.9054688215255737, -2.071960687637329, -2.140362024307251, -2.105888843536377, -2.0560715198516846, -1.9932799339294434, -1.8414928913116455, -1.6270257234573364, -1.3513472080230713, -0.9870277047157288, -0.5804399251937866, -0.19374817609786987, 0.1375231295824051, 0.4341732859611511, 0.7364444136619568, 1.0013434886932373, 1.178873062133789, 1.2973216772079468, 1.4023172855377197, 1.4894920587539673, 1.540879487991333, 1.4800888299942017, 1.2772151231765747, 1.0702745914459229, 0.9274109601974487, 0.790108323097229, 0.6165004372596741, 0.40248098969459534, 0.14969578385353088, -0.1574583798646927, -0.4549587666988373, -0.6366665363311768, -0.7377503514289856, -0.7733438014984131, -0.7396004796028137, -0.7691061496734619, -0.8691551685333252, -0.8887988924980164, -0.808066725730896, -0.6766951084136963, -0.5167085528373718, -0.38535627722740173, -0.3260839283466339, -0.31078416109085083, -0.26215294003486633, -0.13339641690254211, 0.03362554684281349, 0.17327509820461273, 0.2679045498371124, 0.291685551404953, 0.2679702341556549, 0.24961459636688232, 0.2585397958755493, 0.2946569621562958, 0.25167521834373474, 0.13551127910614014, 0.020905328914523125, -0.024484161287546158, -0.06819164007902145, -0.1336136758327484, 0.22140944004058838, 0.9314040541648865, 1.4316835403442383, 1.6524630784988403, 1.8417576551437378, 1.9779624938964844, 1.9649173021316528, 1.9991670846939087, 2.0524775981903076, 1.7783632278442383, 1.197380781173706, 0.6832568049430847, 0.3125658631324768, -0.04465822875499725, -0.32845181226730347, -0.490192711353302, -0.7709387540817261, -1.279476523399353, -1.7529778480529785, -2.0336315631866455, -2.2431349754333496, -2.454256057739258, -2.604706048965454, -2.7023277282714844, -2.7593085765838623, -2.6694703102111816, -2.382154703140259, -1.9884860515594482, -1.5768299102783203, -1.1150238513946533, -0.6120094060897827, -0.17862224578857422, 0.2532680630683899, 0.7314376831054688, 1.1665030717849731, 1.5213350057601929, 1.8164273500442505, 2.0116827487945557, 2.085731267929077, 2.1315174102783203, 2.175449848175049, 2.140620708465576, 1.9331570863723755, 1.6451340913772583, 1.3458242416381836, 0.971458375453949, 0.5495334267616272, 0.23983848094940186, -0.054769158363342285, -0.448233038187027, -0.7219417691230774, -0.9112116098403931, -1.1065819263458252, -1.2452677488327026, -1.280895471572876, -1.2864584922790527, -1.307191252708435, -1.2973496913909912, -1.1999307870864868, -1.0577691793441772, -0.9374086856842041, -0.7549858093261719, -0.5409614443778992, -0.3504370450973511, -0.1624884158372879, 0.06663748621940613, 0.25225356221199036, 0.4046706557273865, 0.5268294215202332, 0.5693621039390564, 0.6039620637893677, 0.6246227622032166, 0.5865309834480286, 0.50984126329422, 0.4372956156730652, 0.33432573080062866, 0.2600914239883423, 0.14040890336036682, 0.008820682764053345, -0.11969076842069626, -0.25932279229164124, 0.09522130340337753, 0.8709962964057922, 1.3666020631790161, 1.5462489128112793, 1.6659910678863525, 1.7280038595199585, 1.7752795219421387, 1.882196068763733, 1.953673243522644, 1.658868670463562, 1.0221092700958252, 0.46829134225845337, 0.11519437283277512, -0.19082055985927582, -0.43458256125450134, -0.5798456072807312, -0.8952494263648987, -1.421265721321106, -1.853610634803772, -2.061032295227051, -2.0815441608428955, -2.079577684402466, -2.220858097076416, -2.4426169395446777, -2.545672655105591, -2.4107983112335205, -2.0831923484802246, -1.6939133405685425, -1.3524941205978394, -1.0611331462860107, -0.7553895711898804, -0.3290548026561737, 0.2164289802312851, 0.7645204663276672, 1.250508427619934, 1.5901106595993042, 1.7887290716171265, 1.9088701009750366, 2.018455743789673, 2.1285576820373535, 2.146082639694214, 2.0112569332122803, 1.6974915266036987, 1.337433934211731, 1.0435998439788818, 0.8025036454200745, 0.5609945058822632, 0.2805483937263489, -0.043199218809604645, -0.3886898458003998, -0.6442394256591797, -0.8043094873428345, -0.9398733377456665, -1.0578011274337769, -1.1414467096328735, -1.2655459642410278, -1.3597248792648315, -1.313128113746643, -1.1933073997497559, -1.051330327987671, -0.9413974285125732, -0.7966310977935791, -0.6068477034568787, -0.39810049533843994, -0.14928515255451202, 0.088174968957901, 0.22618567943572998, 0.28678596019744873, 0.3638851046562195, 0.45249804854393005, 0.5217446684837341, 0.5423744320869446, 0.5138989090919495, 0.43497419357299805, 0.36200228333473206, 0.2827036678791046, 0.26284417510032654, 0.21221719682216644, 0.06334530562162399, -0.09826546162366867, -0.20425789058208466, 0.14869362115859985, 0.8884065747261047, 1.5045360326766968, 1.8172798156738281, 1.9342023134231567, 1.9641757011413574, 2.0148870944976807, 2.2053396701812744, 2.401418924331665, 2.2154057025909424, 1.5697847604751587, 0.7969469428062439, 0.16096431016921997, -0.3027953803539276, -0.6603878140449524, -0.9523581266403198, -1.3917920589447021, -2.055928945541382, -2.6606385707855225, -2.9219839572906494, -2.868671417236328, -2.6912388801574707, -2.5849807262420654, -2.628523349761963, -2.678605556488037, -2.5291616916656494, -2.087486982345581, -1.512314796447754, -0.993843674659729, -0.6354513764381409, -0.37101876735687256, -0.010947270318865776, 0.5247597098350525, 1.1205675601959229, 1.618409514427185, 1.950961709022522, 2.13503360748291, 2.235022783279419, 2.287853479385376, 2.340758800506592, 2.3276515007019043, 2.1403839588165283, 1.7712655067443848, 1.3052936792373657, 0.87517249584198, 0.5276324152946472, 0.23973171412944794, -0.0312504768371582, -0.3568054139614105, -0.7340457439422607, -1.0221613645553589, -1.1650688648223877, -1.2003169059753418, -1.19180428981781, -1.2146241664886475, -1.3052254915237427, -1.3821566104888916, -1.3092774152755737, -1.1337289810180664, -0.9450064897537231, -0.8047276139259338, -0.667391836643219, -0.518897533416748, -0.3278484642505646, -0.051870692521333694, 0.20156577229499817, 0.39736002683639526, 0.4612027406692505, 0.474429726600647, 0.4972269535064697, 0.5150307416915894, 0.5251789093017578, 0.5149129629135132, 0.4448149502277374, 0.30156826972961426, 0.1562066227197647, 0.0016872778069227934, -0.04691751301288605, -0.08564698696136475, 0.17613524198532104, 0.8397296071052551, 1.3810770511627197, 1.7093952894210815, 1.954663634300232, 2.256924867630005, 2.5106043815612793, 2.7066543102264404, 2.8322997093200684, 2.6216440200805664, 1.9863594770431519, 1.2196180820465088, 0.6776667833328247, 0.16219699382781982, -0.5637792944908142, -1.2990590333938599, -1.9294854402542114, -2.558173418045044, -3.1026692390441895, -3.3862195014953613, -3.443978786468506, -3.4284448623657227, -3.3927693367004395, -3.2541563510894775, -2.9313786029815674, -2.513181447982788, -2.046280860900879, -1.525191307067871, -1.0760916471481323, -0.6729875802993774, -0.16921472549438477, 0.39999306201934814, 0.9153807163238525, 1.3505024909973145, 1.752062201499939, 2.0969536304473877, 2.3023362159729004, 2.499851703643799, 2.684133291244507, 2.7027182579040527, 2.561596393585205, 2.28910231590271, 1.9544265270233154, 1.5081579685211182, 1.0091124773025513, 0.5752942562103271, 0.1808890998363495, -0.2443530410528183, -0.6892942786216736, -1.0972310304641724, -1.3993487358093262, -1.532843828201294, -1.5968412160873413, -1.6042834520339966, -1.546560287475586, -1.5140076875686646, -1.4754215478897095, -1.3147742748260498, -1.1255977153778076, -0.9048873782157898, -0.649026095867157, -0.45254966616630554, -0.2855336666107178, -0.15000973641872406, 0.009061474353075027, 0.19991518557071686, 0.39607569575309753, 0.566962480545044, 0.6967688798904419, 0.7175814509391785, 0.6378675699234009, 0.6620932221412659, 0.6947413086891174, 0.5873710513114929, 0.41190075874328613, 0.28920137882232666, 0.12263000756502151, -0.0913386419415474, 0.23271219432353973, 0.9736384749412537, 1.461876392364502, 1.6463024616241455, 1.9076937437057495, 2.2954795360565186, 2.5142810344696045, 2.693546772003174, 2.907806634902954, 2.7658424377441406, 2.017751455307007, 1.2028311491012573, 0.6097900867462158, -0.1308857649564743, -0.9685035943984985, -1.6472266912460327, -2.26777982711792, -3.0353970527648926, -3.727344274520874, -3.953155994415283, -3.7500743865966797, -3.5265538692474365, -3.3894829750061035, -3.1127407550811768, -2.758549451828003, -2.3173978328704834, -1.618323802947998, -0.8980510830879211, -0.42838212847709656, -0.10851023346185684, 0.23274977505207062, 0.6650407910346985, 1.1980860233306885, 1.6894571781158447, 2.0052051544189453, 2.1226258277893066, 2.1414895057678223, 2.229914903640747, 2.3625662326812744, 2.441012382507324, 2.4205663204193115, 2.1945760250091553, 1.6753013134002686, 1.0969856977462769, 0.7203593850135803, 0.4146825075149536, -0.016260741278529167, -0.4986734092235565, -0.9140074253082275, -1.3330280780792236, -1.6722147464752197, -1.7501553297042847, -1.655413031578064, -1.581486463546753, -1.5607539415359497, -1.460623860359192, -1.2722710371017456, -1.0889043807983398, -0.8450610637664795, -0.5212645530700684, -0.25786274671554565, -0.13262902200222015, -0.055339738726615906, 0.05745194852352142, 0.17516614496707916, 0.3377987742424011, 0.4980253577232361, 0.5634469389915466, 0.5657574534416199, 0.5466008186340332, 0.5909016132354736, 0.5943003296852112, 0.5110211372375488, 0.4337399899959564, 0.36017531156539917, 0.2166658192873001, -0.04691680520772934, 0.02161923423409462, 0.5878873467445374, 1.1477773189544678, 1.5283513069152832, 1.867234230041504, 2.1683571338653564, 2.3923137187957764, 2.6460249423980713, 2.9862217903137207, 3.0461740493774414, 2.4996907711029053, 1.7006831169128418, 1.0607869625091553, 0.37385571002960205, -0.5370354652404785, -1.3979545831680298, -2.0881459712982178, -2.810810089111328, -3.5328876972198486, -3.9701826572418213, -4.044497489929199, -3.8744266033172607, -3.674945116043091, -3.395437717437744, -2.943389415740967, -2.432720184326172, -1.8902292251586914, -1.2806081771850586, -0.6301899552345276, -0.11837704479694366, 0.25949978828430176, 0.6909964084625244, 1.1564339399337769, 1.4802889823913574, 1.6838710308074951, 1.9211585521697998, 2.145524740219116, 2.228813648223877, 2.2513272762298584, 2.2953178882598877, 2.261054754257202, 2.035043716430664, 1.7072112560272217, 1.3769996166229248, 0.9995568990707397, 0.5879714488983154, 0.18770001828670502, -0.23811259865760803, -0.7232670187950134, -1.1465084552764893, -1.4350234270095825, -1.5891036987304688, -1.6643824577331543, -1.6714211702346802, -1.586891770362854, -1.5143992900848389, -1.4411907196044922, -1.251364827156067, -0.9433326125144958, -0.6289501786231995, -0.37146297097206116, -0.15375126898288727, -0.033641666173934937, 0.04014307260513306, 0.19823460280895233, 0.39474278688430786, 0.5003424882888794, 0.5156458020210266, 0.5504478812217712, 0.5432619452476501, 0.4148419499397278, 0.3532322645187378, 0.4683498740196228, 0.4721377193927765, 0.3190028667449951, 0.135909765958786, 0.10056757926940918, 0.5917418599128723, 1.3541316986083984, 1.8733019828796387, 2.157518148422241, 2.4446487426757812, 2.7592787742614746, 3.0359389781951904, 3.318617343902588, 3.3704211711883545, 2.9312002658843994, 2.1077334880828857, 1.194055199623108, 0.3448532223701477, -0.5801606178283691, -1.5097801685333252, -2.2863528728485107, -3.062424898147583, -3.8748154640197754, -4.483986854553223, -4.708568096160889, -4.536253452301025, -4.157336235046387, -3.810636281967163, -3.4549477100372314, -2.9387869834899902, -2.250040292739868, -1.4786361455917358, -0.7148568630218506, -0.009585756808519363, 0.511649489402771, 0.8544530868530273, 1.226646065711975, 1.6894217729568481, 2.1324024200439453, 2.396038770675659, 2.5038681030273438, 2.5498390197753906, 2.5059797763824463, 2.446791887283325, 2.4222519397735596, 2.333812713623047, 2.067013740539551, 1.5711133480072021, 1.033304214477539, 0.6041924357414246, 0.1968613713979721, -0.2283521294593811, -0.6534492373466492, -1.0932466983795166, -1.5550293922424316, -1.886459469795227, -1.967726230621338, -1.9004974365234375, -1.830357551574707, -1.8005828857421875, -1.7184596061706543, -1.5158597230911255, -1.1811985969543457, -0.7467941045761108, -0.33794376254081726, -0.11573818325996399, -0.03388270363211632, 0.10951391607522964, 0.2962329685688019, 0.5116297602653503, 0.6560978293418884, 0.6762285828590393, 0.6294912099838257, 0.5335716009140015, 0.4716854989528656, 0.5141872763633728, 0.603725790977478, 0.5443163514137268, 0.42239439487457275, 0.19605502486228943, 0.18400782346725464, 0.8042795658111572, 1.5427531003952026, 1.9121280908584595, 2.122131586074829, 2.389028549194336, 2.6067090034484863, 2.8641579151153564, 3.2172207832336426, 3.3218464851379395, 2.846815586090088, 2.010592222213745, 1.2072625160217285, 0.44742608070373535, -0.45815804600715637, -1.3292416334152222, -2.0703766345977783, -2.9536545276641846, -3.9390292167663574, -4.62335729598999, -4.822434902191162, -4.709916114807129, -4.447518825531006, -4.133206367492676, -3.7717347145080566, -3.2834270000457764, -2.5447070598602295, -1.6447739601135254, -0.7752972841262817, -0.03861059620976448, 0.5157127976417542, 0.9444277286529541, 1.4194976091384888, 1.9707690477371216, 2.3836283683776855, 2.567427158355713, 2.6843886375427246, 2.7625701427459717, 2.681408166885376, 2.583481788635254, 2.5203728675842285, 2.381519317626953, 2.0141634941101074, 1.5033379793167114, 1.0886536836624146, 0.7201383113861084, 0.2816348075866699, -0.18419478833675385, -0.619223952293396, -1.140387773513794, -1.6170449256896973, -1.7897602319717407, -1.8046306371688843, -1.8630255460739136, -1.9166944026947021, -1.9306108951568604, -1.869664192199707, -1.6618499755859375, -1.2667301893234253, -0.8092988729476929, -0.49244099855422974, -0.3574279546737671, -0.2402982860803604, -0.04919305443763733, 0.2005801796913147, 0.5505496859550476, 0.8112068176269531, 0.8062139749526978, 0.6478116512298584, 0.581027090549469, 0.6064430475234985, 0.6604258418083191, 0.7351290583610535, 0.6833780407905579, 0.49498888850212097, 0.20595289766788483, 0.14976172149181366, 0.6902734041213989, 1.3349937200546265, 1.6558204889297485, 1.9258904457092285, 2.208247661590576, 2.3296046257019043, 2.5065178871154785, 2.903303861618042, 3.1061768531799316, 2.8245689868927, 2.1840531826019287, 1.4887217283248901, 0.755365252494812, -0.14796803891658783, -0.9501695036888123, -1.556459903717041, -2.3191096782684326, -3.279470920562744, -4.004262447357178, -4.374392032623291, -4.460224151611328, -4.333720684051514, -4.106914043426514, -3.7629201412200928, -3.3372247219085693, -2.820162773132324, -2.09566068649292, -1.3015471696853638, -0.6336832642555237, -0.0015507261268794537, 0.6228694915771484, 1.1520332098007202, 1.5826878547668457, 1.9143315553665161, 2.1934361457824707, 2.4690425395965576, 2.5965709686279297, 2.5798583030700684, 2.5420610904693604, 2.4461307525634766, 2.2193641662597656, 1.9304505586624146, 1.5931880474090576, 1.2148175239562988, 0.8791460394859314, 0.51317298412323, 0.08728435635566711, -0.3378881514072418, -0.7686349153518677, -1.1526665687561035, -1.3330559730529785, -1.448183536529541, -1.6018867492675781, -1.6951401233673096, -1.7140955924987793, -1.6699949502944946, -1.5727033615112305, -1.3727242946624756, -1.0786184072494507, -0.8124139308929443, -0.6058168411254883, -0.35954853892326355, -0.11844613403081894, 0.031884051859378815, 0.22462129592895508, 0.4757135808467865, 0.6322606801986694, 0.6884946227073669, 0.7047544717788696, 0.6564920544624329, 0.6044347286224365, 0.5792866349220276, 0.5197266340255737, 0.4828427731990814, 0.30197420716285706, 0.23915143311023712, 0.6761680245399475, 1.183200478553772, 1.4683129787445068, 1.752226710319519, 2.1307969093322754, 2.408663749694824, 2.622962713241577, 2.9009792804718018, 3.014509439468384, 2.778160572052002, 2.3040268421173096, 1.722113013267517, 1.041384220123291, 0.21801447868347168, -0.5743905305862427, -1.2361453771591187, -1.9920309782028198, -2.882835626602173, -3.6353068351745605, -4.027181148529053, -4.118727207183838, -4.088547229766846, -3.953618288040161, -3.734005928039551, -3.4388582706451416, -2.9461214542388916, -2.286060094833374, -1.5611066818237305, -0.8827838897705078, -0.2708266079425812, 0.2757751941680908, 0.7254131436347961, 1.1558324098587036, 1.557603120803833, 1.883530616760254, 2.1505775451660156, 2.291696071624756, 2.292210102081299, 2.21399188041687, 2.130486249923706, 2.0662167072296143, 1.8652503490447998, 1.5372787714004517, 1.2026368379592896, 0.8493963479995728, 0.4627131521701813, 0.11517240852117538, -0.1965518444776535, -0.5136555433273315, -0.8313424587249756, -1.1023131608963013, -1.2194010019302368, -1.2694318294525146, -1.3569142818450928, -1.359510898590088, -1.245203971862793, -1.165000557899475, -1.0423659086227417, -0.7922268509864807, -0.5539107322692871, -0.38992026448249817, -0.2516503632068634, -0.09779045730829239, 0.055029984563589096, 0.16282066702842712, 0.2640025019645691, 0.38015133142471313, 0.39057236909866333, 0.31393933296203613, 0.2536372244358063, 0.26387089490890503, 0.29018357396125793, 0.279255747795105, 0.22289782762527466, 0.10858269780874252, 0.25771665573120117, 0.7689767479896545, 1.2502549886703491, 1.5316596031188965, 1.832937479019165, 2.1876914501190186, 2.387852191925049, 2.579052209854126, 2.827855110168457, 2.8564412593841553, 2.5790483951568604, 2.156402111053467, 1.6894283294677734, 1.056936264038086, 0.29326051473617554, -0.3811103403568268, -0.9462353587150574, -1.6588020324707031, -2.5431244373321533, -3.1974692344665527, -3.5054142475128174, -3.6853320598602295, -3.790374517440796, -3.701474905014038, -3.491568088531494, -3.2539398670196533, -2.863478660583496, -2.3042407035827637, -1.7436541318893433, -1.20573091506958, -0.6078084111213684, -0.041695486754179, 0.39065021276474, 0.7657904624938965, 1.1654759645462036, 1.5226202011108398, 1.7648077011108398, 1.9089218378067017, 1.9495453834533691, 1.895169973373413, 1.8243110179901123, 1.710893154144287, 1.5050982236862183, 1.2319645881652832, 0.9547675848007202, 0.7077641487121582, 0.4289935529232025, 0.10227327048778534, -0.17918404936790466, -0.3870774209499359, -0.5943729877471924, -0.750389575958252, -0.7970677614212036, -0.79697185754776, -0.8384649753570557, -0.8363032937049866, -0.6976243853569031, -0.5704826712608337, -0.44842904806137085, -0.2712608575820923, -0.13119198381900787, -0.062165651470422745, -0.02395475283265114, 0.03380776569247246, 0.10469743609428406, 0.15039421617984772, 0.14210844039916992, 0.08672989904880524, 0.05395788699388504, -0.00029395933961495757, -0.11255785077810287, -0.1540854424238205, -0.1024884581565857, -0.07611577957868576, -0.19648036360740662, -0.129598930478096, 0.36606988310813904, 0.8323438763618469, 1.1120505332946777, 1.491395115852356, 1.8925226926803589, 2.058204412460327, 2.2206971645355225, 2.4973976612091064, 2.587135076522827, 2.408811569213867, 2.165081739425659, 1.9257659912109375, 1.4739869832992554, 0.8239777684211731, 0.2423476278781891, -0.19454538822174072, -0.7182059288024902, -1.4422329664230347, -2.06947660446167, -2.4522526264190674, -2.7492876052856445, -3.003969669342041, -3.0687785148620605, -3.015810489654541, -2.979081869125366, -2.764660596847534, -2.348484516143799, -1.953305721282959, -1.620330572128296, -1.2204846143722534, -0.7446178197860718, -0.2868967056274414, 0.07598327845335007, 0.36073070764541626, 0.7005647420883179, 1.0141804218292236, 1.1457327604293823, 1.1839743852615356, 1.2363377809524536, 1.2301851511001587, 1.133110523223877, 1.037102460861206, 0.8761994242668152, 0.6023643016815186, 0.38353434205055237, 0.28437870740890503, 0.19936148822307587, 0.04258666932582855, -0.11282117664813995, -0.19197647273540497, -0.2296558916568756, -0.23283374309539795, -0.21806755661964417, -0.19432134926319122, -0.16207219660282135, -0.10251329839229584, -0.01236618310213089, 0.049279794096946716, 0.07791425287723541, 0.13722555339336395, 0.20888055860996246, 0.18776638805866241, 0.12289660423994064, 0.08171062171459198, 0.039229974150657654, -0.006009058561176062, -0.021915419027209282, -0.07041923701763153, -0.20319165289402008, -0.27066636085510254, -0.26444223523139954, -0.30409538745880127, -0.3724983036518097, -0.3715585768222809, -0.393147736787796, -0.30473726987838745, 0.17340397834777832, 0.7090158462524414, 1.0612651109695435, 1.389350175857544, 1.679329752922058, 1.81024169921875, 1.9299157857894897, 2.1634342670440674, 2.258915901184082, 2.0812885761260986, 1.7890758514404297, 1.4987620115280151, 1.1097477674484253, 0.6451111435890198, 0.30962762236595154, -0.005772607866674662, -0.43916022777557373, -0.9228336811065674, -1.3313212394714355, -1.6176302433013916, -1.8122833967208862, -1.8874884843826294, -1.9095593690872192, -1.9147337675094604, -1.952260136604309, -1.9457316398620605, -1.731002926826477, -1.4463307857513428, -1.2038463354110718, -0.9617570638656616, -0.7442740201950073, -0.6041997671127319, -0.4406404495239258, -0.17407497763633728, 0.07179349660873413, 0.1979779750108719, 0.22950907051563263, 0.23002415895462036, 0.20513510704040527, 0.20254269242286682, 0.2403280884027481, 0.19921939074993134, 0.10749895870685577, 0.027191614732146263, -0.05192162096500397, -0.06548333168029785, 0.002700716257095337, 0.07700420171022415, 0.11366241425275803, 0.08445564657449722, 0.018270647153258324, 0.041350748389959335, 0.11825147271156311, 0.19371318817138672, 0.2912556231021881, 0.345670223236084, 0.30388373136520386, 0.25986963510513306, 0.328929603099823, 0.3666377663612366, 0.3172639310359955, 0.2961511015892029, 0.2541414797306061, 0.14635564386844635, 0.05644821748137474, 0.013055994175374508, -0.030900340527296066, -0.05145184323191643, -0.13975927233695984, -0.2353469729423523, -0.2299652397632599, -0.25076234340667725, -0.28863847255706787, -0.2745446562767029, -0.27900293469429016, -0.37127482891082764, -0.12232707440853119, 0.4863024652004242, 0.8360752463340759, 1.0072890520095825, 1.28707754611969, 1.4307609796524048, 1.3844892978668213, 1.558418869972229, 1.7976813316345215, 1.6811004877090454, 1.4120991230010986, 1.2335987091064453, 1.0082751512527466, 0.6865717768669128, 0.5079447031021118, 0.4466226398944855, 0.22711652517318726, -0.17360204458236694, -0.5293238759040833, -0.6719179749488831, -0.8032011389732361, -1.0127689838409424, -1.0426359176635742, -1.0052986145019531, -1.1854652166366577, -1.3309623003005981, -1.1326607465744019, -0.9822381138801575, -1.0675715208053589, -0.9969975352287292, -0.8257748484611511, -0.8312685489654541, -0.834644615650177, -0.6305897831916809, -0.49328485131263733, -0.57723069190979, -0.618097186088562, -0.5153477191925049, -0.45411181449890137, -0.4550427198410034, -0.3784167468547821, -0.3126499354839325, -0.35993722081184387, -0.42435961961746216, -0.3556448519229889, -0.20783792436122894, -0.16607126593589783, -0.12763133645057678, -0.009248382411897182, 0.040348730981349945, 0.046116285026073456, 0.14238828420639038, 0.2668435573577881, 0.3107607662677765, 0.35114625096321106, 0.41258475184440613, 0.4098166525363922, 0.404006689786911, 0.47824108600616455, 0.5197736024856567, 0.4491688013076782, 0.40486329793930054, 0.3970741033554077, 0.3326823115348816, 0.2726856470108032, 0.2802576422691345, 0.20878535509109497, 0.04059624299407005, 0.041377123445272446, 0.07564547657966614, -0.05113717541098595, -0.12640394270420074, -0.07952047139406204, -0.14707188308238983, -0.29470589756965637, -0.285887211561203, -0.1921251118183136, 0.04789896309375763, 0.3763805329799652, 0.5484269261360168, 0.6676555871963501, 0.8193435668945312, 0.8859777450561523, 0.9249423146247864, 1.1367043256759644, 1.2862999439239502, 1.1464383602142334, 1.0448932647705078, 1.0705199241638184, 0.9471737742424011, 0.7584084272384644, 0.7225607633590698, 0.6665051579475403, 0.44104060530662537, 0.24993638694286346, 0.13266980648040771, -0.0011370746651664376, -0.15294373035430908, -0.3374593257904053, -0.4529690444469452, -0.4893588721752167, -0.6030341982841492, -0.7624781131744385, -0.7438592910766602, -0.7141366600990295, -0.8947349190711975, -0.9645853638648987, -0.8317835330963135, -0.8249932527542114, -0.9228115677833557, -0.881889820098877, -0.8745238184928894, -1.0227689743041992, -1.0372591018676758, -0.8825051188468933, -0.8077306747436523, -0.8427102565765381, -0.8428153991699219, -0.8002591729164124, -0.7667941451072693, -0.6910786032676697, -0.5415734648704529, -0.3845021724700928, -0.34268563985824585, -0.3495769798755646, -0.2422734647989273, -0.11916770040988922, -0.06385281682014465, 0.05295875295996666, 0.2402993142604828, 0.2886667549610138, 0.2563784122467041, 0.3871641755104065, 0.5032729506492615, 0.48462486267089844, 0.515210747718811, 0.5961096286773682, 0.5865505337715149, 0.49923694133758545, 0.5151225328445435, 0.5786278247833252, 0.5040038228034973, 0.39630621671676636, 0.39906832575798035, 0.3912000060081482, 0.28069424629211426, 0.18910212814807892, 0.2003367692232132, 0.1353241354227066, -0.06656278669834137, -0.11274682730436325, -0.03414534404873848, -0.1367591768503189, -0.28273895382881165, -0.05910789221525192, 0.27726590633392334, 0.28784728050231934, 0.33515849709510803, 0.5979651808738708, 0.6528326869010925, 0.5044379830360413, 0.6487892866134644, 0.9905322194099426, 0.9843688607215881, 0.831647515296936, 0.944200873374939, 1.0095081329345703, 0.7937911748886108, 0.7400470972061157, 0.9311314821243286, 0.8419466614723206, 0.5464388728141785, 0.46928706765174866, 0.4457928538322449, 0.21745511889457703, 0.011167012155056, 0.006080913823097944, -0.055604930967092514, -0.2933647632598877, -0.4304126799106598, -0.42294684052467346, -0.5565971732139587, -0.7504778504371643, -0.7892528176307678, -0.8279721140861511, -0.9736001491546631, -1.069136381149292, -1.0442084074020386, -1.0680843591690063, -1.1888222694396973, -1.250762939453125, -1.224817156791687, -1.2275744676589966, -1.2395470142364502, -1.1196383237838745, -0.9958623051643372, -1.017127513885498, -0.9946856498718262, -0.831962525844574, -0.7238390445709229, -0.681040346622467, -0.5135385990142822, -0.33619892597198486, -0.31732672452926636, -0.2509106993675232, -0.03647778555750847, 0.09458696842193604, 0.13253526389598846, 0.2579866349697113, 0.41512078046798706, 0.4735935926437378, 0.5235633850097656, 0.6662733554840088, 0.748267412185669, 0.6913818717002869, 0.6639502644538879, 0.7185388803482056, 0.74029541015625, 0.7007097601890564, 0.7118196487426758, 0.7270490527153015, 0.627966046333313, 0.4847757816314697, 0.42094099521636963, 0.42007529735565186, 0.354777067899704, 0.27202802896499634, 0.19341117143630981, 0.07961554825305939, -0.104631707072258, -0.1387750655412674, 0.22420941293239594, 0.48889821767807007, 0.4408361613750458, 0.5089223384857178, 0.5840563178062439, 0.4237489700317383, 0.4590829610824585, 0.8158864974975586, 0.9609760642051697, 0.8317713141441345, 0.7855215668678284, 0.7759863138198853, 0.621278703212738, 0.5155363082885742, 0.6453841328620911, 0.7106413841247559, 0.5372599363327026, 0.391142338514328, 0.32351168990135193, 0.19756658375263214, 0.01948937587440014, -0.08089795708656311, -0.08684777468442917, -0.19037413597106934, -0.4251400828361511, -0.546503484249115, -0.560065507888794, -0.7109960317611694, -0.9077104926109314, -0.905683696269989, -0.8958226442337036, -1.068840503692627, -1.1460368633270264, -1.1169074773788452, -1.1960159540176392, -1.3108234405517578, -1.3312114477157593, -1.2535885572433472, -1.200549840927124, -1.201817274093628, -1.1303577423095703, -0.9963216781616211, -0.966579794883728, -0.9547753930091858, -0.7694216966629028, -0.5886695384979248, -0.5538880228996277, -0.44796618819236755, -0.20758336782455444, -0.10116587579250336, -0.12485670298337936, 0.024512242525815964, 0.2612948715686798, 0.3270855247974396, 0.3845590651035309, 0.5836113095283508, 0.6973785161972046, 0.6495183110237122, 0.6549686193466187, 0.7908090353012085, 0.8813323974609375, 0.8190879821777344, 0.7900691628456116, 0.8632891774177551, 0.8115975260734558, 0.6561123132705688, 0.6624719500541687, 0.7352707982063293, 0.6083611249923706, 0.4222906827926636, 0.3947910666465759, 0.36039644479751587, 0.14716479182243347, 0.035683635622262955, 0.07471001148223877, 0.07095905393362045, 0.23937836289405823, 0.5233330726623535, 0.5867825746536255, 0.5119655132293701, 0.4860337972640991, 0.48083505034446716, 0.611688494682312, 0.8654654026031494, 0.9669815897941589, 0.8880261182785034, 0.7797084450721741, 0.6295780539512634, 0.47523221373558044, 0.5254474878311157, 0.6525625586509705, 0.596818208694458, 0.4271186888217926, 0.3252958655357361, 0.19859455525875092, 0.005518391262739897, -0.03734229877591133, -0.012172685004770756, -0.15780378878116608, -0.36707448959350586, -0.4762394428253174, -0.5865926146507263, -0.7443626523017883, -0.8678303360939026, -0.9659194946289062, -1.0450857877731323, -1.1230623722076416, -1.243208646774292, -1.2852848768234253, -1.310977816581726, -1.463210105895996, -1.523471474647522, -1.4097888469696045, -1.3164633512496948, -1.29921293258667, -1.2360788583755493, -1.1469292640686035, -1.1531680822372437, -1.1088005304336548, -0.8756737112998962, -0.6428669691085815, -0.5814222693443298, -0.48969918489456177, -0.2979864478111267, -0.22492340207099915, -0.16341862082481384, 0.061438821256160736, 0.29058578610420227, 0.3625444173812866, 0.44512617588043213, 0.6224608421325684, 0.6873345971107483, 0.6986634135246277, 0.8484936952590942, 0.9825150966644287, 0.9767534136772156, 0.9814006686210632, 1.0046073198318481, 0.9458878636360168, 0.9047544002532959, 0.9179428815841675, 0.861923336982727, 0.778242290019989, 0.692479133605957, 0.6054491996765137, 0.5377725958824158, 0.43679574131965637, 0.2786833345890045, 0.1522848755121231, 0.06885119527578354, -0.02868942730128765, 0.1852663904428482, 0.5422622561454773, 0.5164758563041687, 0.3940393924713135, 0.4735565781593323, 0.509396493434906, 0.49568256735801697, 0.7279307246208191, 1.0041879415512085, 0.9236823916435242, 0.7118610143661499, 0.7024658918380737, 0.6735432147979736, 0.5486132502555847, 0.5749907493591309, 0.6443148255348206, 0.5157150030136108, 0.3240995407104492, 0.2558734118938446, 0.22500570118427277, 0.08999822288751602, -0.07621613889932632, -0.12005702406167984, -0.19568173587322235, -0.436245858669281, -0.6167465448379517, -0.6434330344200134, -0.7911623120307922, -1.0647023916244507, -1.169874906539917, -1.144774079322815, -1.2900303602218628, -1.5093148946762085, -1.5063307285308838, -1.4849250316619873, -1.6251548528671265, -1.6755053997039795, -1.5150705575942993, -1.396640658378601, -1.4444026947021484, -1.4241070747375488, -1.2387892007827759, -1.1356950998306274, -1.1180119514465332, -0.9242284893989563, -0.6456568837165833, -0.5627414584159851, -0.5326566696166992, -0.31112179160118103, -0.0995495468378067, -0.01322464644908905, 0.15044748783111572, 0.39790669083595276, 0.5120185613632202, 0.5692527890205383, 0.7414296269416809, 0.8949342966079712, 0.9311269521713257, 0.9850484728813171, 1.1000055074691772, 1.1626691818237305, 1.141308069229126, 1.091782808303833, 1.0837504863739014, 1.0905941724777222, 1.0272670984268188, 0.9221335053443909, 0.8706493973731995, 0.7952150702476501, 0.6186097860336304, 0.5003952980041504, 0.44835689663887024, 0.28513628244400024, 0.1078128069639206, 0.025032732635736465, 0.14452007412910461, 0.4769197702407837, 0.5896047949790955, 0.45946791768074036, 0.48003050684928894, 0.5161818265914917, 0.4115947484970093, 0.5734792351722717, 0.9201020002365112, 0.9095853567123413, 0.7302811145782471, 0.6964725852012634, 0.6143986582756042, 0.5210961699485779, 0.5686548352241516, 0.6137789487838745, 0.5597482323646545, 0.4403638243675232, 0.2970096468925476, 0.21309828758239746, 0.16473764181137085, 0.0012477801647037268, -0.14639876782894135, -0.19764047861099243, -0.33695855736732483, -0.5646917223930359, -0.7083998918533325, -0.7881435751914978, -0.9860877394676208, -1.227994441986084, -1.2935059070587158, -1.2884628772735596, -1.4562081098556519, -1.631809949874878, -1.6119847297668457, -1.6223747730255127, -1.75117027759552, -1.717473030090332, -1.5386565923690796, -1.4899687767028809, -1.5242639780044556, -1.4076577425003052, -1.225794792175293, -1.1436145305633545, -1.032204508781433, -0.8320040702819824, -0.6619247198104858, -0.5394294857978821, -0.388938307762146, -0.19249393045902252, 0.017382655292749405, 0.1688200682401657, 0.289139986038208, 0.47653621435165405, 0.6856671571731567, 0.7938159108161926, 0.8655261397361755, 1.0252350568771362, 1.149491548538208, 1.1283046007156372, 1.1463276147842407, 1.2829333543777466, 1.2972614765167236, 1.1769384145736694, 1.1579276323318481, 1.180044174194336, 1.0356613397598267, 0.8823341727256775, 0.8785139322280884, 0.8170890212059021, 0.5847088098526001, 0.43602797389030457, 0.4195132553577423, 0.27224913239479065, -0.004681700374931097, -0.0011675407877191901, 0.46066582202911377, 0.7149977684020996, 0.5355545878410339, 0.5080906748771667, 0.5721603035926819, 0.36847350001335144, 0.3499302566051483, 0.7597312331199646, 0.9354605078697205, 0.7012631297111511, 0.5781605839729309, 0.5762616991996765, 0.39915773272514343, 0.2995680272579193, 0.4728102385997772, 0.5654652714729309, 0.4310814142227173, 0.31397736072540283, 0.22857458889484406, 0.09264017641544342, -0.025124650448560715, -0.095110684633255, -0.15970347821712494, -0.29011794924736023, -0.48179686069488525, -0.6448116302490234, -0.7800495624542236, -0.9985335469245911, -1.214290738105774, -1.2831112146377563, -1.3259382247924805, -1.446681022644043, -1.543518304824829, -1.594071626663208, -1.688352346420288, -1.766690731048584, -1.699552059173584, -1.5520412921905518, -1.46981680393219, -1.4216004610061646, -1.3656752109527588, -1.3135309219360352, -1.2033551931381226, -1.0430512428283691, -0.86581951379776, -0.6720303893089294, -0.51454097032547, -0.39273500442504883, -0.24542033672332764, -0.08387293666601181, 0.10610977560281754, 0.32661885023117065, 0.5010178089141846, 0.6592133045196533, 0.8022713661193848, 0.8860896229743958, 0.9949663877487183, 1.1445741653442383, 1.2261897325515747, 1.2215075492858887, 1.2254389524459839, 1.28480064868927, 1.2638531923294067, 1.164658784866333, 1.1341776847839355, 1.0990663766860962, 0.9713960886001587, 0.8858454823493958, 0.8345434665679932, 0.6425813436508179, 0.4632907211780548, 0.3964329957962036, 0.30160772800445557, 0.09507991373538971, 0.1291772723197937, 0.615407407283783, 0.8123823404312134, 0.557270348072052, 0.5609036087989807, 0.6264393329620361, 0.3644443452358246, 0.41802307963371277, 0.8820554614067078, 0.9247004389762878, 0.5598124861717224, 0.4282717704772949, 0.43861180543899536, 0.3040471076965332, 0.2931962013244629, 0.5143547058105469, 0.5434417128562927, 0.2931020259857178, 0.12589403986930847, 0.09771110117435455, 0.05648120865225792, -0.051846109330654144, -0.14083677530288696, -0.1961211860179901, -0.3866301476955414, -0.6765894293785095, -0.8013278841972351, -0.8414323925971985, -1.079318881034851, -1.3183926343917847, -1.3189226388931274, -1.3598606586456299, -1.550161361694336, -1.6127798557281494, -1.5626648664474487, -1.6368789672851562, -1.7397966384887695, -1.6530441045761108, -1.4903781414031982, -1.4043992757797241, -1.3646814823150635, -1.3008307218551636, -1.2089452743530273, -1.11882483959198, -0.9826295375823975, -0.7457298040390015, -0.5448713302612305, -0.47074130177497864, -0.3552045524120331, -0.1439528465270996, 0.02405204251408577, 0.18207694590091705, 0.4107580780982971, 0.566166341304779, 0.6696935892105103, 0.838394045829773, 0.9654812812805176, 1.0291948318481445, 1.1468284130096436, 1.2305434942245483, 1.216794729232788, 1.230132818222046, 1.2515636682510376, 1.1874885559082031, 1.122066855430603, 1.1302388906478882, 1.0289406776428223, 0.8704926371574402, 0.8349962830543518, 0.7643740177154541, 0.5951994061470032, 0.4893426299095154, 0.37205934524536133, 0.19193817675113678, 0.07586950063705444, -0.043240174651145935, 0.1225552186369896, 0.6062718629837036, 0.7023369073867798, 0.4853890538215637, 0.49729105830192566, 0.46159929037094116, 0.30883583426475525, 0.5319611430168152, 0.8887885808944702, 0.8131609559059143, 0.5409758687019348, 0.49058225750923157, 0.46332719922065735, 0.4039022922515869, 0.5502462983131409, 0.7045585513114929, 0.5574331879615784, 0.31304723024368286, 0.22720226645469666, 0.18132121860980988, 0.10266262292861938, 0.03068021684885025, -0.061797648668289185, -0.2264091819524765, -0.4157469868659973, -0.6104837656021118, -0.7981832027435303, -0.928720235824585, -1.089490532875061, -1.26816987991333, -1.3402454853057861, -1.4096571207046509, -1.5639586448669434, -1.6531548500061035, -1.6441030502319336, -1.6499179601669312, -1.6906585693359375, -1.6473138332366943, -1.521931529045105, -1.4988183975219727, -1.529271125793457, -1.413962960243225, -1.226990818977356, -1.112296462059021, -1.0004773139953613, -0.8698635697364807, -0.7433265447616577, -0.5596887469291687, -0.3681401014328003, -0.19022735953330994, 0.01419576071202755, 0.15525910258293152, 0.27105215191841125, 0.4503871500492096, 0.6157746911048889, 0.7099010348320007, 0.8368749022483826, 1.0786432027816772, 1.162253737449646, 1.062755823135376, 1.1268041133880615, 1.22832453250885, 1.1229463815689087, 1.0975830554962158, 1.2220335006713867, 1.146188735961914, 0.9720601439476013, 0.9126171469688416, 0.8604250550270081, 0.7721278071403503, 0.6635638475418091, 0.5310769081115723, 0.45359134674072266, 0.3081839680671692, 0.2968214154243469, 0.7591904997825623, 1.0736712217330933, 0.8925172090530396, 0.8188654184341431, 0.8844248652458191, 0.6638385653495789, 0.5900994539260864, 0.9600760340690613, 1.158836007118225, 0.9050419330596924, 0.7271376252174377, 0.7407181262969971, 0.5145722031593323, 0.3812622129917145, 0.6383340358734131, 0.7165891528129578, 0.4626587927341461, 0.32547852396965027, 0.25949952006340027, 0.03749978542327881, -0.12941007316112518, -0.10239294171333313, -0.14540711045265198, -0.4036983549594879, -0.6658957004547119, -0.843965470790863, -1.0658780336380005, -1.2746950387954712, -1.3459243774414062, -1.3895283937454224, -1.5382816791534424, -1.7415966987609863, -1.831700086593628, -1.8269120454788208, -1.8589729070663452, -1.856528401374817, -1.7615000009536743, -1.709118127822876, -1.6974705457687378, -1.6226414442062378, -1.524749994277954, -1.4506829977035522, -1.3522188663482666, -1.205652117729187, -1.0486335754394531, -0.878566324710846, -0.6850126385688782, -0.5094752907752991, -0.3998684287071228, -0.24774540960788727, -0.007993539795279503, 0.1781759411096573, 0.3400516211986542, 0.569993793964386, 0.7163512110710144, 0.7684316635131836, 0.9226263165473938, 1.0850169658660889, 1.12877357006073, 1.1628412008285522, 1.2408257722854614, 1.2518354654312134, 1.2023764848709106, 1.2125340700149536, 1.2269096374511719, 1.148682713508606, 1.0800410509109497, 1.0664705038070679, 0.9314128160476685, 0.7700411677360535, 0.7374613881111145, 0.6648422479629517, 0.4467470049858093, 0.40009805560112, 0.8658851385116577, 1.1699262857437134, 0.9739242792129517, 1.0487561225891113, 1.178259253501892, 0.8668817281723022, 0.7628565430641174, 1.1142133474349976, 1.1612119674682617, 0.9037007689476013, 0.9077237844467163, 0.9037625193595886, 0.5973849892616272, 0.40331244468688965, 0.5943358540534973, 0.5966547131538391, 0.3650367856025696, 0.3904799520969391, 0.32243990898132324, 0.008932419121265411, -0.1535317748785019, -0.14725743234157562, -0.21331317722797394, -0.41379204392433167, -0.6580591797828674, -0.8220195174217224, -0.9879905581474304, -1.2878488302230835, -1.4716662168502808, -1.4147405624389648, -1.4899250268936157, -1.7781975269317627, -1.9055728912353516, -1.8803417682647705, -1.9540544748306274, -2.0050628185272217, -1.8220155239105225, -1.668021321296692, -1.7189185619354248, -1.6856331825256348, -1.5609591007232666, -1.5129157304763794, -1.4384877681732178, -1.2267084121704102, -1.0248759984970093, -0.9114480018615723, -0.7663077712059021, -0.6369823813438416, -0.4991377592086792, -0.2940410077571869, -0.1020393818616867, 0.11371861398220062, 0.35312381386756897, 0.5080369114875793, 0.5945913195610046, 0.7808926701545715, 0.9605276584625244, 0.9802809357643127, 1.0753793716430664, 1.2583485841751099, 1.2547791004180908, 1.1881446838378906, 1.273961067199707, 1.2817237377166748, 1.1864268779754639, 1.2150959968566895, 1.2145169973373413, 1.0625330209732056, 0.9785602688789368, 0.9652183651924133, 0.8209163546562195, 0.6634908318519592, 0.6011222004890442, 0.524331271648407, 0.33814001083374023, 0.3785238564014435, 0.8329118490219116, 0.9949878454208374, 0.8281317949295044, 0.9236505627632141, 0.9682466387748718, 0.6874645352363586, 0.6648969054222107, 0.9643166661262512, 0.9325441122055054, 0.6784445643424988, 0.6894972920417786, 0.6599406003952026, 0.3777856230735779, 0.334603875875473, 0.5280033349990845, 0.4653046131134033, 0.24971452355384827, 0.1920996457338333, 0.10589469224214554, -0.08185778558254242, -0.20758217573165894, -0.26422932744026184, -0.3539202809333801, -0.5454961657524109, -0.7525777220726013, -0.8619604110717773, -0.9426209330558777, -1.1217347383499146, -1.2411515712738037, -1.2173478603363037, -1.3372389078140259, -1.6225589513778687, -1.6804876327514648, -1.6038670539855957, -1.6803466081619263, -1.6778616905212402, -1.5339906215667725, -1.4894795417785645, -1.4937846660614014, -1.4098948240280151, -1.3228330612182617, -1.242409586906433, -1.1525880098342896, -1.0891753435134888, -0.9218695759773254, -0.6906067728996277, -0.6028496026992798, -0.4999670684337616, -0.3134167194366455, -0.24848495423793793, -0.16479969024658203, 0.062342144548892975, 0.24210570752620697, 0.3612506687641144, 0.5365303754806519, 0.6649234890937805, 0.6935701370239258, 0.7863646745681763, 0.8897500038146973, 0.9106435775756836, 0.9753333330154419, 1.0539277791976929, 1.0086873769760132, 0.960614800453186, 1.0236471891403198, 1.0256320238113403, 0.9542155861854553, 0.9229949712753296, 0.8519248962402344, 0.6967206597328186, 0.6250287890434265, 0.6090680360794067, 0.5399317145347595, 0.4714181423187256, 0.41650694608688354, 0.6180609464645386, 0.9801496863365173, 1.0580922365188599, 1.0320556163787842, 1.1098759174346924, 1.0024065971374512, 0.8322712182998657, 0.9861429929733276, 1.1546919345855713, 1.0317875146865845, 0.916029691696167, 0.8647416830062866, 0.6410970687866211, 0.48827773332595825, 0.613558828830719, 0.6763370037078857, 0.5754155516624451, 0.4580547511577606, 0.2223450094461441, -0.06503860652446747, -0.12638184428215027, -0.0957389548420906, -0.2100774198770523, -0.3641277253627777, -0.5601871013641357, -0.8713594675064087, -1.127495527267456, -1.180148720741272, -1.2129967212677002, -1.3481355905532837, -1.4569872617721558, -1.5888487100601196, -1.74298095703125, -1.805037021636963, -1.758375644683838, -1.6786441802978516, -1.6705683469772339, -1.70041024684906, -1.6739636659622192, -1.6061521768569946, -1.5341830253601074, -1.3965693712234497, -1.2126044034957886, -1.1010562181472778, -1.0540450811386108, -0.9388529658317566, -0.7966432571411133, -0.679524302482605, -0.5113344788551331, -0.2996250092983246, -0.1493631899356842, -0.06591402739286423, 0.09438269585371017, 0.2850646674633026, 0.4090544879436493, 0.5429259538650513, 0.7392673492431641, 0.8181896805763245, 0.8018621206283569, 0.9029111266136169, 0.9932964444160461, 1.00831937789917, 1.0550758838653564, 1.067154049873352, 1.0026390552520752, 1.0337393283843994, 1.0651557445526123, 0.9534701704978943, 0.9128451347351074, 0.9068244695663452, 0.787805438041687, 0.6570532321929932, 0.6045545935630798, 0.5377864837646484, 0.5054789185523987, 0.8629074096679688, 1.2621312141418457, 1.1953691244125366, 1.1516072750091553, 1.2987480163574219, 1.1273514032363892, 0.9147236347198486, 1.1253925561904907, 1.2413640022277832, 1.0850857496261597, 1.0571600198745728, 0.9971113204956055, 0.7358375787734985, 0.5811686515808105, 0.6461654305458069, 0.6708337664604187, 0.5830807685852051, 0.4780372977256775, 0.2855156362056732, 0.03835436329245567, -0.12886567413806915, -0.2809749245643616, -0.3923163115978241, -0.4117658734321594, -0.5655593872070312, -0.887870192527771, -1.1068247556686401, -1.2644329071044922, -1.4639588594436646, -1.518583059310913, -1.4948434829711914, -1.6267520189285278, -1.7951669692993164, -1.8252079486846924, -1.8731720447540283, -1.9320485591888428, -1.8297637701034546, -1.6929597854614258, -1.6378812789916992, -1.6142199039459229, -1.5780965089797974, -1.525795340538025, -1.4275612831115723, -1.2410699129104614, -1.048111915588379, -0.9359763264656067, -0.8077881336212158, -0.6591596603393555, -0.574223518371582, -0.4316248893737793, -0.2355520874261856, -0.0823751762509346, 0.0976158007979393, 0.2832842171192169, 0.38654011487960815, 0.5020052790641785, 0.6583450436592102, 0.755347490310669, 0.8393767476081848, 0.9280849099159241, 0.9547123312950134, 0.992189884185791, 1.0772864818572998, 1.0697818994522095, 1.0144718885421753, 1.0285131931304932, 1.0469920635223389, 0.9940090775489807, 0.9186578989028931, 0.8876187205314636, 0.8414052724838257, 0.7286204099655151, 0.7020925283432007, 0.6517938375473022, 0.5783974528312683, 1.0134387016296387, 1.4308080673217773, 1.342065453529358, 1.4208734035491943, 1.5463532209396362, 1.351785659790039, 1.3393288850784302, 1.5226796865463257, 1.486526370048523, 1.3814221620559692, 1.2973928451538086, 1.1325106620788574, 0.9237658381462097, 0.7664698958396912, 0.71260005235672, 0.6884196400642395, 0.5729726552963257, 0.34572139382362366, 0.06615538895130157, -0.12377911806106567, -0.2615828216075897, -0.4752839207649231, -0.6254395842552185, -0.7551316618919373, -1.015758991241455, -1.2749844789505005, -1.379520297050476, -1.4917473793029785, -1.6857359409332275, -1.7951618432998657, -1.8775197267532349, -2.006392240524292, -2.0860724449157715, -2.142620325088501, -2.1463630199432373, -2.0753509998321533, -2.0514135360717773, -1.9682590961456299, -1.8021992444992065, -1.6924653053283691, -1.5916818380355835, -1.4914124011993408, -1.3475618362426758, -1.0894980430603027, -0.8971138596534729, -0.6936360597610474, -0.48192161321640015, -0.4553966224193573, -0.3564993143081665, -0.10887765139341354, 0.062113285064697266, 0.2361641377210617, 0.4981350302696228, 0.6505053043365479, 0.6682645082473755, 0.7042855024337769, 0.8394184112548828, 0.9618953466415405, 1.0772312879562378, 1.2287644147872925, 1.215293526649475, 1.1149682998657227, 1.0818461179733276, 1.0819085836410522, 1.080562710762024, 1.070625901222229, 1.0491256713867188, 0.9794062376022339, 0.859801709651947, 0.7425051927566528, 0.6283431649208069, 0.5528979897499084, 0.4501333236694336, 0.426192045211792, 0.8748036623001099, 1.4036451578140259, 1.6329641342163086, 1.9798952341079712, 2.225724458694458, 2.116488456726074, 2.17647123336792, 2.359114170074463, 2.2990944385528564, 2.0672879219055176, 1.7735066413879395, 1.4059184789657593, 0.8904139995574951, 0.41905707120895386, 0.20421375334262848, -0.10180091112852097, -0.5903022289276123, -0.8957183957099915, -1.2348417043685913, -1.688522458076477, -1.8796360492706299, -1.9834872484207153, -2.1439208984375, -2.1520960330963135, -2.16943097114563, -2.231449604034424, -2.1571831703186035, -2.0955207347869873, -2.06447696685791, -1.8703558444976807, -1.6678415536880493, -1.6217924356460571, -1.5090625286102295, -1.317138433456421, -1.17569100856781, -1.0867174863815308, -0.9562860727310181, -0.7592373490333557, -0.6587303280830383, -0.597565770149231, -0.502606213092804, -0.4128167927265167, -0.25963136553764343, -0.08983995765447617, -0.014211460016667843, 0.07874942570924759, 0.18815234303474426, 0.2178521603345871, 0.26927807927131653, 0.4510531723499298, 0.5523509979248047, 0.5145255923271179, 0.5854126811027527, 0.6881522536277771, 0.674755334854126, 0.642788290977478, 0.7135859131813049, 0.7336788773536682, 0.6800905466079712, 0.6523259878158569, 0.640936553478241, 0.5514854192733765, 0.4394325911998749, 0.542587399482727, 0.6511471271514893, 0.5514686107635498, 0.4860309064388275, 0.45915305614471436, 0.325708270072937, 0.21058964729309082, 0.14056594669818878, 0.09295092523097992, 0.03336973488330841, 0.24515210092067719, 0.8737598657608032, 1.4336999654769897, 1.8718290328979492, 2.4400508403778076, 2.7619431018829346, 2.7976062297821045, 2.9119858741760254, 2.8970603942871094, 2.579873561859131, 2.1365485191345215, 1.605602502822876, 0.754533588886261, -0.09104272723197937, -0.6759318709373474, -1.2446125745773315, -1.7466953992843628, -2.147571086883545, -2.5169358253479004, -2.768935203552246, -2.811708450317383, -2.7486391067504883, -2.618136405944824, -2.3896055221557617, -2.1304941177368164, -1.9939297437667847, -1.8572373390197754, -1.520981788635254, -1.2994139194488525, -1.0892462730407715, -0.6191667318344116, -0.3641110360622406, -0.33097755908966064, -0.1523847132921219, -0.03095831722021103, -0.06067956984043121, 0.0650230199098587, 0.2660936117172241, 0.2844253182411194, 0.25268644094467163, 0.27581092715263367, 0.2528460621833801, 0.23238247632980347, 0.37619996070861816, 0.47208625078201294, 0.4499506652355194, 0.4335724413394928, 0.2995240092277527, 0.06842058151960373, -0.04317132756114006, -0.010091212578117847, -0.07002212852239609, -0.17449279129505157, -0.14372213184833527, -0.12017987668514252, -0.16897746920585632, -0.07605799287557602, 0.11947499960660934, 0.2838289737701416, 0.4912143051624298, 0.4927702844142914, 0.30937659740448, 0.33866921067237854, 0.4138164222240448, 0.3282610774040222, 0.281464546918869, 0.2784552574157715, 0.15478593111038208, 0.03926479071378708, 0.05845983698964119, 0.022413330152630806, 0.004575015045702457, 0.16947504878044128, 0.24386127293109894, 0.340873122215271, 0.8808325529098511, 1.5683997869491577, 2.0416908264160156, 2.564053535461426, 3.022782564163208, 3.093012809753418, 3.01212739944458, 2.9169859886169434, 2.468008041381836, 1.7183456420898438, 0.9717080593109131, 0.08067484945058823, -0.8793953657150269, -1.66092050075531, -2.236954689025879, -2.6003618240356445, -2.7642409801483154, -2.8603382110595703, -2.885932445526123, -2.73956561088562, -2.476138114929199, -2.2410616874694824, -2.0270097255706787, -1.7020918130874634, -1.3360391855239868, -1.1020742654800415, -0.8996716141700745, -0.599567174911499, -0.3405841290950775, -0.1603609323501587, 0.04461120441555977, 0.2692658603191376, 0.43666133284568787, 0.6220294237136841, 0.76954585313797, 0.7949152588844299, 0.7692549824714661, 0.7211258411407471, 0.5776463747024536, 0.368224173784256, 0.17669083178043365, 0.0010845963843166828, -0.07681968063116074, -0.09608057141304016, -0.12714585661888123, -0.22380124032497406, -0.20433634519577026, -0.06970565021038055, -0.08929556608200073, -0.160762757062912, -0.1301533579826355, -0.10413450002670288, -0.06703498959541321, 0.07960250973701477, 0.11617664247751236, 0.12078409641981125, 0.1389678418636322, 0.07471895217895508, 0.04983507841825485, 0.14925792813301086, 0.32602977752685547, 0.42372021079063416, 0.4321666955947876, 0.37997201085090637, 0.3389548659324646, 0.28361988067626953, 0.2386404126882553, 0.19157777726650238, 0.046337004750967026, -0.1369054615497589, -0.24398308992385864, -0.33769214153289795, -0.26635491847991943, 0.3222412168979645, 1.0906193256378174, 1.7686928510665894, 2.5070273876190186, 3.074615001678467, 3.1618711948394775, 3.039994478225708, 2.824329376220703, 2.2897889614105225, 1.584797978401184, 0.8861317038536072, 0.01146656833589077, -0.9255689978599548, -1.6288928985595703, -2.143240451812744, -2.4654529094696045, -2.5144224166870117, -2.4581470489501953, -2.4905827045440674, -2.3971142768859863, -2.1886096000671387, -2.0735316276550293, -1.9090243577957153, -1.583059310913086, -1.2847708463668823, -1.1001492738723755, -0.8656184673309326, -0.5671431422233582, -0.3314293622970581, -0.10323046147823334, 0.16573947668075562, 0.46339473128318787, 0.7446060180664062, 0.8787888884544373, 0.8300954699516296, 0.7378392815589905, 0.6647562384605408, 0.4672044515609741, 0.2972007691860199, 0.2618117928504944, 0.23341932892799377, 0.1295856088399887, 0.020820075646042824, -0.060147326439619064, -0.15262335538864136, -0.21372506022453308, -0.19338467717170715, -0.13722504675388336, -0.11441854387521744, -0.044537611305713654, -0.020060976967215538, -0.0988554060459137, -0.11920366436243057, -0.03946366533637047, -0.025932425633072853, -0.014923212118446827, 0.12020082026720047, 0.2465183585882187, 0.30476102232933044, 0.3751285970211029, 0.4563400447368622, 0.5042365789413452, 0.45067480206489563, 0.40008774399757385, 0.37866437435150146, 0.1798180639743805, -0.09361450374126434, -0.22739984095096588, -0.26011383533477783, -0.26166993379592896, -0.2737688422203064, -0.3767557442188263, -0.3363317549228668, -0.2819267809391022, -0.14664271473884583, 0.5979280471801758, 1.6463565826416016, 2.43593430519104, 3.037010908126831, 3.4304802417755127, 3.3044614791870117, 2.810823917388916, 2.2823638916015625, 1.7939283847808838, 1.138457179069519, 0.22646844387054443, -0.6738166213035583, -1.375927448272705, -1.9695451259613037, -2.4158763885498047, -2.6028637886047363, -2.571444272994995, -2.5632081031799316, -2.5964105129241943, -2.4324896335601807, -2.127603530883789, -1.849344253540039, -1.572935938835144, -1.241469383239746, -0.9567703604698181, -0.7411044836044312, -0.5535133481025696, -0.3031601011753082, 0.07717645913362503, 0.40036746859550476, 0.5559239387512207, 0.7202869653701782, 0.8655273914337158, 0.7933424115180969, 0.6192030310630798, 0.5718587636947632, 0.5781198143959045, 0.45384669303894043, 0.26519179344177246, 0.18274876475334167, 0.08092139661312103, -0.1431121975183487, -0.23299121856689453, -0.16266536712646484, -0.14200903475284576, -0.13156773149967194, -0.09999963641166687, -0.15519259870052338, -0.20431627333164215, -0.2143717110157013, -0.1822223663330078, -0.10256446897983551, 0.008777686394751072, 0.11765439808368683, 0.16040143370628357, 0.26267653703689575, 0.3867124915122986, 0.4253268837928772, 0.4884348511695862, 0.5728917717933655, 0.45132091641426086, 0.2565871477127075, 0.12164101004600525, 0.023399459198117256, -0.01861461065709591, -0.043638844043016434, -0.06463068723678589, -0.1175922155380249, -0.28213027119636536, -0.4803520143032074, -0.4931313991546631, -0.4239637553691864, -0.36486759781837463, -0.3166501224040985, 0.16175323724746704, 1.017624855041504, 1.7319599390029907, 2.533146858215332, 3.4304487705230713, 3.8943912982940674, 3.7394137382507324, 3.4315173625946045, 2.9223663806915283, 1.9526475667953491, 0.7806127667427063, -0.3374888300895691, -1.291374921798706, -2.101943254470825, -2.8268096446990967, -3.1940338611602783, -3.117159366607666, -3.06042742729187, -3.002718925476074, -2.609684944152832, -2.1594696044921875, -1.9806751012802124, -1.7591153383255005, -1.3659710884094238, -1.0225199460983276, -0.7732447385787964, -0.4649752676486969, -0.017816994339227676, 0.3598140776157379, 0.588979184627533, 0.8074674606323242, 1.0828405618667603, 1.2108933925628662, 1.1020315885543823, 0.9704886078834534, 0.8428402543067932, 0.5940338373184204, 0.2843969464302063, 0.003304335754364729, -0.20213794708251953, -0.2909031808376312, -0.4206489622592926, -0.4928261637687683, -0.34421008825302124, -0.3197234272956848, -0.4711933434009552, -0.41304638981819153, -0.23305809497833252, -0.26473158597946167, -0.2819368541240692, -0.09377769380807877, 0.0241255983710289, 0.06433328241109848, 0.21547254920005798, 0.4356326758861542, 0.5806084275245667, 0.5850627422332764, 0.5868996381759644, 0.6383018493652344, 0.5789639353752136, 0.4864351153373718, 0.4787018895149231, 0.33357521891593933, 0.0085381418466568, -0.16264894604682922, -0.23564495146274567, -0.4003876745700836, -0.44842904806137085, -0.4175681471824646, -0.4937248229980469, -0.5923295021057129, -0.5544788241386414, -0.5423002243041992, -0.49537813663482666, 0.30118080973625183, 1.4878222942352295, 2.2249903678894043, 2.949748992919922, 3.8129489421844482, 3.957021474838257, 3.4331438541412354, 3.050039052963257, 2.5850648880004883, 1.644046664237976, 0.5357874035835266, -0.4744275212287903, -1.477656364440918, -2.487015724182129, -3.1644206047058105, -3.333507776260376, -3.268463134765625, -3.1831512451171875, -2.9409475326538086, -2.6000218391418457, -2.30222749710083, -1.933860421180725, -1.5252318382263184, -1.0391489267349243, -0.4897378087043762, -0.18841983377933502, -0.03908122330904007, 0.2942920923233032, 0.6586093306541443, 0.8900384902954102, 1.1633962392807007, 1.4075977802276611, 1.4776780605316162, 1.2260420322418213, 0.8282256126403809, 0.6268563270568848, 0.4180857539176941, 0.09152232110500336, -0.1849420815706253, -0.27905258536338806, -0.4681067168712616, -0.7635321021080017, -0.7772115468978882, -0.6161339282989502, -0.559109628200531, -0.532925546169281, -0.4188665449619293, -0.37494856119155884, -0.33016231656074524, -0.19244050979614258, -0.037377480417490005, 0.22206991910934448, 0.4577607810497284, 0.541085422039032, 0.6237078309059143, 0.7150448560714722, 0.7854971289634705, 0.7520734071731567, 0.6765500903129578, 0.6328970789909363, 0.4993269741535187, 0.20035599172115326, -0.024622661992907524, -0.04282604902982712, -0.23590728640556335, -0.4968787133693695, -0.5328335762023926, -0.5632641315460205, -0.719556987285614, -0.7024596929550171, -0.5882266759872437, -0.5467396974563599, -0.49977585673332214, -0.45353883504867554, 0.038218047469854355, 1.01643705368042, 1.8620109558105469, 2.5666635036468506, 3.385838508605957, 3.7386109828948975, 3.345503568649292, 2.915306806564331, 2.569719076156616, 1.918997049331665, 0.9125127792358398, -0.2046055942773819, -1.0822001695632935, -1.8063464164733887, -2.5871357917785645, -2.9944047927856445, -2.767707586288452, -2.6763436794281006, -2.9626388549804688, -2.82930326461792, -2.3542089462280273, -2.1036605834960938, -1.8181977272033691, -1.2426449060440063, -0.654270589351654, -0.32913514971733093, -0.16491012275218964, 0.13146817684173584, 0.6169794797897339, 0.9403713941574097, 1.0112409591674805, 1.2223471403121948, 1.4433932304382324, 1.2660614252090454, 0.9367892742156982, 0.8337610960006714, 0.7300692200660706, 0.39860108494758606, 0.01332076732069254, -0.20498265326023102, -0.30081653594970703, -0.4530881941318512, -0.6004369258880615, -0.5412445664405823, -0.37787941098213196, -0.4123304784297943, -0.5068898797035217, -0.4446975588798523, -0.32466763257980347, -0.2788451611995697, -0.21408794820308685, -0.009180155582726002, 0.17856119573116302, 0.2771584391593933, 0.3681868314743042, 0.5444122552871704, 0.7771404981613159, 0.8659487366676331, 0.781124472618103, 0.6536132097244263, 0.479696124792099, 0.19967515766620636, -0.025789491832256317, -0.14003321528434753, -0.26114529371261597, -0.38691774010658264, -0.5878892540931702, -0.781302809715271, -0.8013689517974854, -0.7391125559806824, -0.6688520908355713, -0.521622359752655, -0.28595399856567383, -0.25651469826698303, -0.3255186975002289, -0.2691554129123688, -0.165861576795578, 0.36912545561790466, 1.278744101524353, 1.9868360757827759, 2.6084957122802734, 3.2827842235565186, 3.4117517471313477, 3.0710408687591553, 2.8416597843170166, 2.450122833251953, 1.6539058685302734, 0.7332018613815308, -0.171553373336792, -1.1168409585952759, -1.9330823421478271, -2.40712833404541, -2.585869550704956, -2.5444135665893555, -2.447479009628296, -2.41471004486084, -2.302442789077759, -2.0728635787963867, -1.8618191480636597, -1.659368872642517, -1.3526960611343384, -1.020076036453247, -0.7202227115631104, -0.4434230625629425, -0.10817660391330719, 0.345447301864624, 0.7079872488975525, 0.91135174036026, 1.0961652994155884, 1.241519570350647, 1.151403546333313, 0.9496673345565796, 0.8392521142959595, 0.6613137125968933, 0.405460000038147, 0.1869846135377884, 0.03607332333922386, -0.06858601421117783, -0.1724921464920044, -0.24908925592899323, -0.2544562518596649, -0.2692234516143799, -0.34791648387908936, -0.42173007130622864, -0.4227365255355835, -0.3835534155368805, -0.32030707597732544, -0.22757430374622345, -0.1531773805618286, -0.04092109575867653, 0.0925288125872612, 0.26847392320632935, 0.4464922845363617, 0.6299433708190918, 0.765546977519989, 0.7042398452758789, 0.530387818813324, 0.3008917570114136, 0.04505768418312073, -0.17547209560871124, -0.29782652854919434, -0.3858150839805603, -0.478931188583374, -0.5727661848068237, -0.6511551141738892, -0.5735013484954834, -0.47036319971084595, -0.47515684366226196, -0.4388161301612854, -0.3930262625217438, -0.3199898600578308, -0.4109371602535248, -0.3177005350589752, 0.7441824674606323, 1.9173157215118408, 2.500898838043213, 3.185135841369629, 3.761976480484009, 3.485231876373291, 2.8512215614318848, 2.350167751312256, 1.713843584060669, 0.906967282295227, -0.0697348341345787, -1.0003488063812256, -1.6876084804534912, -2.2714035511016846, -2.58720064163208, -2.5041251182556152, -2.18432354927063, -1.959285020828247, -1.9192242622375488, -1.7631295919418335, -1.4753962755203247, -1.4282329082489014, -1.45854914188385, -1.0850740671157837, -0.6498731970787048, -0.49593302607536316, -0.24729470908641815, 0.2324466109275818, 0.6754980683326721, 0.9285322427749634, 1.050251841545105, 1.1596508026123047, 1.0707371234893799, 0.6826117038726807, 0.3657272756099701, 0.20554743707180023, -0.052264533936977386, -0.30462148785591125, -0.38431859016418457, -0.3647881746292114, -0.3348674774169922, -0.3212832808494568, -0.1650204211473465, 0.0813852846622467, 0.07233255356550217, -0.10292523354291916, -0.1843009889125824, -0.28328177332878113, -0.43122875690460205, -0.4311586022377014, -0.26511213183403015, 0.026316815987229347, 0.2513115406036377, 0.4104877710342407, 0.6890427470207214, 0.8841407895088196, 0.8829037547111511, 0.8041881918907166, 0.669032871723175, 0.3406870365142822, -0.059005383402109146, -0.4085780382156372, -0.5809773802757263, -0.6609220504760742, -0.7652639746665955, -0.7248966097831726, -0.5814162492752075, -0.5060615539550781, -0.46627277135849, -0.27979612350463867, -0.18890829384326935, -0.08539654314517975, -0.1825755536556244, -0.10844802111387253, 0.7382574677467346, 1.6274334192276, 2.1931357383728027, 2.8504390716552734, 3.539959192276001, 3.4462435245513916, 2.872563123703003, 2.3049991130828857, 1.7124043703079224, 0.903028666973114, -0.15516656637191772, -0.9992697238922119, -1.5652387142181396, -2.204502582550049, -2.706112861633301, -2.616530179977417, -2.264967441558838, -2.011578321456909, -1.8551541566848755, -1.6714266538619995, -1.4058361053466797, -1.1975165605545044, -1.1661124229431152, -0.8444985747337341, -0.268413782119751, -0.005732570309191942, 0.036488793790340424, 0.22408738732337952, 0.5412338376045227, 0.6489059329032898, 0.6978757977485657, 0.8050879836082458, 0.770555317401886, 0.572369396686554, 0.276091068983078, -0.029084032401442528, -0.18789361417293549, -0.2079693078994751, -0.2994168698787689, -0.38262420892715454, -0.29159998893737793, -0.2432880997657776, -0.2617890536785126, -0.15043555200099945, -0.006216024048626423, 0.08597573637962341, 0.07714586704969406, 0.009762689471244812, 0.025135919451713562, 0.01185876689851284, -0.01979033462703228, 0.17193591594696045, 0.3561986982822418, 0.4180666506290436, 0.569907009601593, 0.6384721994400024, 0.5769237875938416, 0.5381761193275452, 0.3719709515571594, 0.068089559674263, -0.15984949469566345, -0.37437018752098083, -0.5851221680641174, -0.6948191523551941, -0.6306760907173157, -0.5478975772857666, -0.569648802280426, -0.4855749011039734, -0.33985549211502075, -0.36440497636795044, -0.3300396800041199, -0.06723656505346298, 0.028078816831111908, -0.17085252702236176, -0.14169004559516907, 0.602645754814148, 1.4147119522094727, 1.871869444847107, 2.6081430912017822, 3.4335713386535645, 3.4465057849884033, 2.712790012359619, 2.1169233322143555, 1.6484484672546387, 0.768328845500946, -0.3006553053855896, -1.0148690938949585, -1.359737753868103, -1.8311790227890015, -2.373978614807129, -2.4032270908355713, -1.966981291770935, -1.7608966827392578, -1.84503972530365, -1.6193697452545166, -1.206636905670166, -1.2179515361785889, -1.4421769380569458, -1.1174017190933228, -0.4108937680721283, -0.10300703346729279, -0.014130303636193275, 0.405434787273407, 0.8386408686637878, 0.7945282459259033, 0.528218150138855, 0.6379944086074829, 0.8279165625572205, 0.5685098171234131, 0.1627274602651596, 0.06539498269557953, 0.04042084142565727, -0.27041101455688477, -0.5067089796066284, -0.335534930229187, -0.06982754915952682, -0.05322021245956421, -0.043400801718235016, 0.14181053638458252, 0.2492826282978058, 0.0552372969686985, -0.10608375072479248, -0.07236888259649277, -0.05081146955490112, -0.10764803737401962, -0.15008172392845154, 0.02235618233680725, 0.23503488302230835, 0.3915736973285675, 0.4758872985839844, 0.5651122331619263, 0.6261990666389465, 0.4859372079372406, 0.10925254225730896, -0.29415085911750793, -0.46990346908569336, -0.694353461265564, -0.9068211317062378, -0.8223868608474731, -0.5170166492462158, -0.2853282690048218, -0.1358473151922226, -0.060696590691804886, -0.12887179851531982, -0.26759156584739685, -0.2961946129798889, -0.2457146942615509, -0.23726490139961243, -0.12139163911342621, -0.1276484578847885, 0.3012737035751343, 1.3265068531036377, 2.283698081970215, 3.030402183532715, 3.7082860469818115, 3.9351532459259033, 3.3248467445373535, 2.549652338027954, 1.76518714427948, 0.9437627196311951, 0.10013502091169357, -0.7328606843948364, -1.4642658233642578, -2.0290801525115967, -2.4886152744293213, -2.8630902767181396, -2.800180673599243, -2.5076756477355957, -2.2731142044067383, -2.1169159412384033, -1.9016509056091309, -1.628305435180664, -1.3332583904266357, -1.0288667678833008, -0.5795921683311462, -0.03524906560778618, 0.3125084936618805, 0.5151065587997437, 0.6464710235595703, 0.7904422283172607, 0.9531334638595581, 1.0596024990081787, 1.0177853107452393, 0.8555749654769897, 0.6166311502456665, 0.37473154067993164, 0.0782172903418541, -0.11958369612693787, -0.013456751592457294, -0.07603605091571808, -0.3593140244483948, -0.40468230843544006, -0.3384789228439331, -0.38052305579185486, -0.32412323355674744, -0.18687458336353302, -0.0982525572180748, -0.06008448451757431, -0.18765689432621002, -0.26731640100479126, -0.060470957309007645, 0.13961167633533478, 0.4048861265182495, 0.7737493515014648, 0.7939278483390808, 0.5670439004898071, 0.44455718994140625, 0.32388946413993835, 0.054112326353788376, -0.186662957072258, -0.30494725704193115, -0.4347999393939972, -0.6653845906257629, -0.8179344534873962, -0.6460041999816895, -0.4911513030529022, -0.5012757778167725, -0.44884389638900757, -0.2974347770214081, -0.25155308842658997, -0.5114971399307251, -0.4687526226043701, -0.24776163697242737, 0.24529549479484558, 1.5382498502731323, 2.816471576690674, 3.6111018657684326, 4.063565254211426, 4.0709547996521, 3.4652211666107178, 2.80867862701416, 2.1986968517303467, 1.3189408779144287, 0.359735906124115, -0.8452452421188354, -2.0314931869506836, -2.8169548511505127, -3.327540397644043, -3.5347819328308105, -3.322540521621704, -2.770504951477051, -2.3613123893737793, -2.233696937561035, -2.0644161701202393, -1.6962170600891113, -1.2528774738311768, -0.9881526231765747, -0.5195724368095398, 0.22937284409999847, 0.7527206540107727, 0.9427813291549683, 1.0551716089248657, 1.3519248962402344, 1.5730161666870117, 1.4544751644134521, 1.2906627655029297, 1.289776086807251, 1.000085473060608, 0.281416654586792, -0.250458687543869, -0.43188080191612244, -0.5866851210594177, -0.8298038244247437, -0.8567509055137634, -0.5744537115097046, -0.4122870862483978, -0.4259498417377472, -0.3195732533931732, -0.07449755072593689, -0.04470231384038925, -0.12901189923286438, 0.024313295260071754, 0.2396112084388733, 0.3053329288959503, 0.27408596873283386, 0.3379901647567749, 0.4851493537425995, 0.5548655986785889, 0.46434205770492554, 0.44931960105895996, 0.5585578083992004, 0.3531799614429474, -0.055291153490543365, -0.30778050422668457, -0.5229507684707642, -0.7486706376075745, -0.9476878643035889, -0.9635787606239319, -0.8074989914894104, -0.6699362397193909, -0.5148087739944458, -0.29114532470703125, -0.06763965636491776, 0.016397640109062195, 0.0798720046877861, 0.09236675500869751, 0.6620103120803833, 1.7134689092636108, 2.3478848934173584, 2.922267198562622, 3.437901735305786, 3.3703842163085938, 2.746675491333008, 2.0264649391174316, 1.3043432235717773, 0.5868415236473083, -0.23943640291690826, -1.2860193252563477, -2.002936840057373, -2.503678798675537, -3.0952181816101074, -3.237290143966675, -2.7319209575653076, -2.182232618331909, -1.8909296989440918, -1.58259916305542, -1.1946519613265991, -0.8459794521331787, -0.6079790592193604, -0.22486351430416107, 0.5960119962692261, 1.205670952796936, 1.3092676401138306, 1.4426958560943604, 1.5465513467788696, 1.2483333349227905, 0.8421845436096191, 0.5709511637687683, 0.3483664393424988, 0.0523851215839386, -0.5067422389984131, -0.8491783738136292, -0.8358355164527893, -0.8656214475631714, -0.8567494750022888, -0.543877124786377, -0.18981219828128815, -0.20909859240055084, -0.2935514450073242, -0.16646206378936768, 0.053102098405361176, 0.13263964653015137, 0.13122938573360443, 0.2993125915527344, 0.44496339559555054, 0.36034515500068665, 0.32643136382102966, 0.4453867971897125, 0.5319392085075378, 0.460722416639328, 0.24082213640213013, 0.12800727784633636, 0.08038105070590973, -0.11674588918685913, -0.34551605582237244, -0.4074234068393707, -0.49121376872062683, -0.6729076504707336, -0.7718745470046997, -0.7035954594612122, -0.4716007113456726, -0.2902453541755676, -0.23348313570022583, -0.09765500575304031, 0.03404565528035164, 0.04042896255850792, 0.04370630159974098, 0.1028432846069336, 0.05188415199518204, -0.04562583938241005, 0.695564866065979, 1.9358973503112793, 2.6419410705566406, 3.163667917251587, 3.651839017868042, 3.574296474456787, 2.693981647491455, 1.648518443107605, 0.8879039287567139, 0.07386902719736099, -0.8791621923446655, -1.6900603771209717, -1.943837285041809, -1.9800441265106201, -2.169019937515259, -2.2193961143493652, -2.048433542251587, -1.8505092859268188, -1.8816304206848145, -1.8895505666732788, -1.7148590087890625, -1.5391974449157715, -1.4191886186599731, -1.144179105758667, -0.4769151210784912, 0.1133209615945816, 0.4255272150039673, 0.787468433380127, 1.093611717224121, 1.196942925453186, 1.1003940105438232, 1.0299453735351562, 0.993253231048584, 0.668982744216919, 0.20003290474414825, -0.12279655784368515, -0.24098432064056396, -0.33040469884872437, -0.3824785649776459, -0.26455220580101013, -0.022217223420739174, 0.14314107596874237, 0.14714741706848145, 0.1995568424463272, 0.25807398557662964, 0.1546797752380371, -0.07307511568069458, -0.18299950659275055, -0.1599748134613037, -0.1417614072561264, -0.15835556387901306, -0.055261190980672836, 0.18334738910198212, 0.32803380489349365, 0.3690457046031952, 0.3326413929462433, 0.2654048800468445, 0.02110879495739937, -0.28430330753326416, -0.42457929253578186, -0.5866143107414246, -0.7009202837944031, -0.5990923047065735, -0.4763423800468445, -0.4708673357963562, -0.4801200330257416, -0.22211435437202454, -0.09941896796226501, -0.01191716454923153, 0.10497962683439255, 0.035269416868686676, 0.02508440800011158, -0.18475715816020966, 0.5908684134483337, 2.097492218017578, 3.0534980297088623, 3.4096648693084717, 3.8016316890716553, 3.888176918029785, 2.8179690837860107, 1.707875370979309, 0.9358060956001282, 0.2270115315914154, -0.9794694185256958, -2.169928789138794, -2.529171943664551, -2.578709602355957, -2.760666847229004, -2.820213556289673, -2.2290077209472656, -1.7432388067245483, -1.781173825263977, -1.7302333116531372, -1.4850964546203613, -1.1035360097885132, -0.9302240014076233, -0.7377956509590149, 0.03781455382704735, 0.7460132241249084, 0.9575086832046509, 1.0574923753738403, 1.2887088060379028, 1.29988431930542, 1.1107745170593262, 0.810011625289917, 0.5638824105262756, 0.32140010595321655, -0.19102421402931213, -0.5125380158424377, -0.5314712524414062, -0.4508779048919678, -0.4153754711151123, -0.40088024735450745, -0.4095768928527832, -0.30779826641082764, -0.17643004655838013, -0.1602552980184555, -0.0727415531873703, 0.041053902357816696, -0.012681272812187672, -0.05585787072777748, 0.13457782566547394, 0.43006154894828796, 0.6461552381515503, 0.6410502791404724, 0.5827465057373047, 0.5559981465339661, 0.4445319175720215, 0.09985151886940002, -0.047645628452301025, -0.08351395279169083, -0.450587660074234, -0.7891222834587097, -0.6975659728050232, -0.574633777141571, -0.5623023509979248, -0.4189719557762146, -0.33044198155403137, -0.1746344119310379, -0.2753742039203644, -0.2733636498451233, -0.2674490809440613, -0.2844662070274353, -0.3384215533733368, 0.039817191660404205, 1.6711703538894653, 2.9811391830444336, 3.5755181312561035, 3.982377767562866, 4.086033821105957, 3.324185609817505, 2.0783779621124268, 1.1162906885147095, 0.30800971388816833, -0.6684333086013794, -1.9368497133255005, -2.677546501159668, -2.916278839111328, -3.1768553256988525, -3.114112615585327, -2.739818811416626, -2.17626690864563, -1.6412302255630493, -1.416825771331787, -1.143316626548767, -0.8361928462982178, -0.5562336444854736, -0.3041099011898041, 0.14661365747451782, 0.7020503282546997, 1.1424039602279663, 1.3963106870651245, 1.3403669595718384, 1.3662208318710327, 1.3122128248214722, 0.968896210193634, 0.5695279240608215, 0.23371057212352753, -0.24107325077056885, -0.6301221251487732, -0.7950981259346008, -0.9732828736305237, -0.9779753684997559, -0.7994257807731628, -0.6793120503425598, -0.4870738983154297, -0.10548480600118637, 0.2830229699611664, 0.4664328992366791, 0.3188289999961853, 0.3196503520011902, 0.37697964906692505, 0.17219920456409454, 0.13006596267223358, 0.38412123918533325, 0.497171014547348, 0.39448419213294983, 0.3272585868835449, 0.28096240758895874, 0.30184754729270935, 0.1328165978193283, -0.09494705498218536, -0.16682200133800507, -0.26989665627479553, -0.6400189399719238, -0.8933750987052917, -0.7896847724914551, -0.7027725577354431, -0.6572179198265076, -0.5429204702377319, -0.20582710206508636, -0.04246535897254944, -0.06913046538829803, -0.01211484894156456, 0.1440167874097824, 0.0030375823844224215, 0.41342487931251526, 1.9030615091323853, 2.9427051544189453, 3.313330888748169, 3.6426968574523926, 3.640092134475708, 2.7913761138916016, 1.6387509107589722, 0.6770612001419067, -0.05124177411198616, -0.968483030796051, -2.067310333251953, -2.71203351020813, -2.9881927967071533, -3.1476738452911377, -3.1201388835906982, -2.6869261264801025, -2.048927068710327, -1.5070148706436157, -1.1379138231277466, -0.7843267917633057, -0.33726030588150024, -0.13404475152492523, 0.06673681735992432, 0.7223526239395142, 1.3795082569122314, 1.5362895727157593, 1.394574522972107, 1.3848602771759033, 1.1734635829925537, 0.7084483504295349, 0.3593372106552124, 0.264426589012146, -0.009036390110850334, -0.6126463413238525, -0.924307107925415, -0.9642232656478882, -0.9331091046333313, -0.851208508014679, -0.564807653427124, -0.22615157067775726, -0.056402746587991714, 0.06942202895879745, 0.22759978473186493, 0.29114675521850586, 0.27187785506248474, 0.25580456852912903, 0.2867737412452698, 0.385994017124176, 0.37297332286834717, 0.32488545775413513, 0.3393539488315582, 0.3812570869922638, 0.2716781497001648, 0.1790628880262375, 0.22005236148834229, 0.09164676070213318, -0.23555079102516174, -0.5333498120307922, -0.6859407424926758, -0.8609569668769836, -0.9284799098968506, -0.8389652371406555, -0.5383431315422058, -0.32767993211746216, -0.2580341696739197, -0.010257826186716557, 0.14982226490974426, 0.17015908658504486, 0.16124141216278076, 0.25906166434288025, 0.12266135215759277, 0.4624541997909546, 1.664883017539978, 2.7204840183258057, 3.3114702701568604, 3.6960501670837402, 3.8271708488464355, 3.0507490634918213, 1.812402606010437, 0.7603400945663452, -0.2446589320898056, -1.4792146682739258, -2.6151466369628906, -3.1556060314178467, -3.413469076156616, -3.3862175941467285, -2.9686849117279053, -2.313122034072876, -1.5852458477020264, -1.1288195848464966, -1.0001006126403809, -0.896165668964386, -0.6806588768959045, -0.509702742099762, -0.0998573750257492, 0.5949861407279968, 1.151702880859375, 1.5114768743515015, 1.6595094203948975, 1.5984759330749512, 1.383108139038086, 1.062365174293518, 0.6644905805587769, 0.3192256689071655, -0.038095202296972275, -0.5181309580802917, -0.9735544323921204, -1.1257652044296265, -0.9761356115341187, -0.7496613264083862, -0.5698281526565552, -0.36866793036460876, -0.1206502839922905, 0.0793626606464386, 0.21128246188163757, 0.24846071004867554, 0.3043241798877716, 0.32359156012535095, 0.34614336490631104, 0.2911227345466614, 0.35048988461494446, 0.49469226598739624, 0.4216400384902954, 0.3128051161766052, 0.18519815802574158, 0.06033973768353462, -0.05323392152786255, -0.06965702772140503, -0.2597431540489197, -0.5371248722076416, -0.6429985761642456, -0.7061433792114258, -0.7738990783691406, -0.7632997035980225, -0.446400910615921, -0.3065892457962036, -0.3521242141723633, -0.27669602632522583, -0.037343524396419525, 0.13527075946331024, 0.11336121708154678, 0.23102596402168274, 0.17100395262241364, 0.8302257061004639, 2.3787665367126465, 3.3765878677368164, 3.8267624378204346, 4.17715311050415, 3.92520809173584, 2.687403440475464, 1.2575433254241943, 0.07280685752630234, -0.9645081162452698, -1.9822297096252441, -2.858623743057251, -3.040443181991577, -2.957197904586792, -2.86259126663208, -2.418252944946289, -1.9373643398284912, -1.6091657876968384, -1.370526671409607, -1.2934224605560303, -1.4870554208755493, -1.3933416604995728, -0.9209684729576111, -0.3643512725830078, 0.571506142616272, 1.4823695421218872, 2.022142171859741, 2.1900601387023926, 2.039620876312256, 1.6275593042373657, 1.0626475811004639, 0.4730106592178345, -0.09600377082824707, -0.5463609099388123, -0.9878122210502625, -1.0720449686050415, -0.8605072498321533, -0.6726635694503784, -0.3879576325416565, -0.06723444908857346, 0.17792156338691711, 0.12509100139141083, -0.011891437694430351, -0.09752020984888077, -0.18827027082443237, -0.1777287870645523, -0.140236034989357, -0.020245179533958435, 0.16381512582302094, 0.505672812461853, 0.8436440825462341, 0.9480822086334229, 0.8425644636154175, 0.5410005450248718, 0.24624651670455933, -0.10330218821763992, -0.4110371768474579, -0.6839130520820618, -0.8739686608314514, -0.9282857179641724, -0.9303519129753113, -0.7875434756278992, -0.5805214047431946, -0.2583167254924774, -0.07175435870885849, 0.007310258690267801, -0.025847064331173897, -0.01368572935461998, -0.008518178015947342, -0.07677371799945831, -0.1241954118013382, -0.19906388223171234, 0.9825465083122253, 2.7422823905944824, 3.576836347579956, 3.994126558303833, 4.2319254875183105, 3.618889331817627, 2.0637011528015137, 0.6483739614486694, -0.19587168097496033, -1.067954182624817, -2.260105609893799, -3.074693202972412, -2.9187498092651367, -2.5369181632995605, -2.393359899520874, -1.9092786312103271, -1.2077443599700928, -0.9372509121894836, -1.1050418615341187, -1.199388027191162, -1.198336124420166, -1.1553789377212524, -0.9879669547080994, -0.40033477544784546, 0.6453094482421875, 1.2672021389007568, 1.5256465673446655, 1.7937030792236328, 1.7475932836532593, 1.305224895477295, 0.8299276232719421, 0.4381825625896454, -0.08485278487205505, -0.7819690704345703, -1.2832399606704712, -1.189245343208313, -0.8541184067726135, -0.6436582207679749, -0.33824393153190613, 0.05593602731823921, 0.25648370385169983, 0.2957514822483063, 0.3168436586856842, 0.27647849917411804, 0.16532404720783234, 0.013444516807794571, -0.1823013871908188, -0.14451086521148682, 0.03564474359154701, 0.20261771976947784, 0.4226692318916321, 0.6067930459976196, 0.7051624059677124, 0.6265880465507507, 0.4358050227165222, 0.16952018439769745, -0.04308135062456131, -0.3629167675971985, -0.8220033645629883, -1.0507603883743286, -1.0104562044143677, -0.9583560824394226, -0.9228391051292419, -0.5790091753005981, -0.1280542016029358, 0.15770427882671356, 0.28168705105781555, 0.48502665758132935, 0.5418694615364075, 0.23039282858371735, -0.0679800882935524, -0.24025405943393707, 0.39112451672554016, 1.6939886808395386, 2.561394691467285, 3.205191135406494, 3.7163848876953125, 3.338799476623535, 2.2979016304016113, 1.2632906436920166, 0.32042816281318665, -0.5673651099205017, -1.495589017868042, -2.349320411682129, -2.7275257110595703, -2.815277099609375, -2.6505815982818604, -2.0867555141448975, -1.4368482828140259, -0.9283909797668457, -0.6706420183181763, -0.6045599579811096, -0.7398044466972351, -0.8268588185310364, -0.7259518504142761, -0.4198312759399414, 0.21656294167041779, 0.6886953711509705, 0.8851771354675293, 1.2005499601364136, 1.3732775449752808, 1.1643179655075073, 0.7872279286384583, 0.33412158489227295, -0.11427614837884903, -0.5721818804740906, -0.958769679069519, -0.9509005546569824, -0.7373443245887756, -0.6265832185745239, -0.4616534411907196, -0.16313374042510986, 0.23268142342567444, 0.5251705050468445, 0.583904504776001, 0.5581733584403992, 0.37612390518188477, 0.05554048344492912, -0.22910837829113007, -0.3039276897907257, -0.16976065933704376, 0.03410276398062706, 0.3045540750026703, 0.5373395085334778, 0.6040620803833008, 0.5166962146759033, 0.38947054743766785, 0.1596500724554062, -0.10893449187278748, -0.3979070484638214, -0.7002177238464355, -0.8952293395996094, -0.9923708438873291, -0.9146923422813416, -0.6633924841880798, -0.2865629196166992, 0.1266126036643982, 0.27822035551071167, 0.2447686493396759, 0.2275077849626541, 0.0823359340429306, -0.11510750651359558, -0.3519803583621979, 0.250261515378952, 1.613119125366211, 2.339082717895508, 2.769575595855713, 3.257519006729126, 3.0730977058410645, 2.2622883319854736, 1.4010229110717773, 0.6814717054367065, 0.15896819531917572, -0.6655291318893433, -1.5968345403671265, -1.9537657499313354, -2.0759987831115723, -2.183758497238159, -1.8647204637527466, -1.3652743101119995, -1.083510398864746, -0.9960689544677734, -1.0576162338256836, -1.0623127222061157, -0.9910447597503662, -0.8660763502120972, -0.6755126714706421, -0.15308375656604767, 0.29135748744010925, 0.46469616889953613, 0.6171587109565735, 0.6752979755401611, 0.7136319875717163, 0.6173750162124634, 0.3355141878128052, 0.08978012204170227, -0.07732190191745758, -0.48207592964172363, -0.7066412568092346, -0.5777851343154907, -0.3556976616382599, -0.18978799879550934, -0.08419816941022873, 0.17549443244934082, 0.3432758152484894, 0.22950787842273712, 0.05348697304725647, 0.05133796110749245, 0.02946309559047222, -0.07853483408689499, -0.10232983529567719, 0.029402129352092743, 0.2199663370847702, 0.35166943073272705, 0.4270072877407074, 0.5335625410079956, 0.7002822756767273, 0.5288171172142029, 0.17047135531902313, -0.05132673680782318, -0.31849491596221924, -0.5779565572738647, -0.7463382482528687, -0.6564062237739563, -0.4397726058959961, -0.3738557696342468, -0.3297310471534729, -0.13041523098945618, -0.023420987650752068, -0.175811767578125, -0.1304951310157776, -0.19119469821453094, -0.09147179126739502, 0.8648185729980469, 2.014474630355835, 2.5808005332946777, 2.7950968742370605, 3.0125575065612793, 2.6948390007019043, 1.9333040714263916, 1.0493770837783813, 0.4290612041950226, 0.024549713358283043, -0.7069442868232727, -1.4336214065551758, -1.6977962255477905, -1.617903232574463, -1.5713777542114258, -1.5220048427581787, -1.397027850151062, -1.2469571828842163, -1.3317409753799438, -1.6113835573196411, -1.6877719163894653, -1.5167640447616577, -1.1651391983032227, -0.6856463551521301, -0.20824465155601501, 0.217296302318573, 0.4780484437942505, 0.618046760559082, 0.6970709562301636, 0.7309595942497253, 0.6921994686126709, 0.4572605788707733, 0.21758505702018738, -0.020563440397381783, -0.2216455340385437, -0.3028213083744049, -0.1919660121202469, -0.03322096914052963, -0.011368664912879467, 0.049875158816576004, 0.1410721391439438, 0.1711426079273224, 0.10728981345891953, 0.09957411885261536, -0.024658985435962677, -0.208057701587677, -0.13549840450286865, -0.00916566327214241, 0.10693583637475967, 0.21832673251628876, 0.3923496901988983, 0.5343338847160339, 0.5309020280838013, 0.49748560786247253, 0.43618130683898926, 0.23566310107707977, -0.06566983461380005, -0.3342612385749817, -0.45812731981277466, -0.5098375678062439, -0.5215113162994385, -0.4302999973297119, -0.3791790008544922, -0.30883756279945374, -0.21552298963069916, -0.1263510137796402, -0.12848414480686188, -0.07492165267467499, -0.09698333591222763, 0.04642269387841225, 0.8528929352760315, 1.7833874225616455, 2.373304605484009, 2.5704381465911865, 2.66396427154541, 2.3820009231567383, 1.683367371559143, 0.8967902064323425, 0.23494963347911835, -0.2092438042163849, -0.7787969708442688, -1.3071552515029907, -1.4989674091339111, -1.3773446083068848, -1.327185034751892, -1.423560380935669, -1.4775394201278687, -1.5325337648391724, -1.6337180137634277, -1.7002185583114624, -1.5472010374069214, -1.2395002841949463, -0.9003598690032959, -0.4852598011493683, -0.03420284017920494, 0.3368242681026459, 0.6151231527328491, 0.8383692502975464, 0.9244435429573059, 0.7798214554786682, 0.5732839703559875, 0.3302338421344757, 0.07807854562997818, -0.10916434973478317, -0.13814468681812286, -0.016635378822684288, 0.08418989926576614, 0.179366797208786, 0.17885449528694153, 0.032686393707990646, -0.10202536731958389, -0.013524778187274933, 0.03351360559463501, -0.18886937201023102, -0.3704430162906647, -0.2759246230125427, -0.13951446115970612, -0.15960374474525452, 0.008269627578556538, 0.43664753437042236, 0.7005652189254761, 0.5610847473144531, 0.32731717824935913, 0.301901251077652, 0.2705812454223633, 0.03554743155837059, -0.18565157055854797, -0.23633019626140594, -0.31243637204170227, -0.4465556740760803, -0.39213526248931885, -0.2557634115219116, -0.14445313811302185, -0.12382752448320389, -0.10083974897861481, -0.09752075374126434, -0.2645057141780853, -0.4270995259284973, -0.4572589695453644, -0.38053983449935913, -0.3307739198207855, 0.33505240082740784, 1.5763825178146362, 2.48905873298645, 2.7412607669830322, 2.728257179260254, 2.6079277992248535, 1.9817849397659302, 1.160191297531128, 0.6621894836425781, 0.39593183994293213, -0.19874213635921478, -0.9162103533744812, -1.297796368598938, -1.3532291650772095, -1.2926583290100098, -1.2761129140853882, -1.1406753063201904, -1.0628477334976196, -1.3993117809295654, -1.8500279188156128, -1.870497465133667, -1.560180425643921, -1.2880162000656128, -0.9762465953826904, -0.4824567437171936, -0.05390913039445877, 0.11411579698324203, 0.1679382026195526, 0.44419580698013306, 0.7392179369926453, 0.7496960163116455, 0.5005844831466675, 0.19147436320781708, -0.02689795382320881, -0.22991345822811127, -0.2769320011138916, -0.08749941736459732, 0.24606798589229584, 0.4164368510246277, 0.36470457911491394, 0.24316458404064178, 0.14775584638118744, 0.08801203966140747, 0.024608628824353218, -0.012770184315741062, -0.054175227880477905, -0.12598712742328644, -0.27100810408592224, -0.2929486930370331, -0.09189777076244354, 0.2717280983924866, 0.6029872298240662, 0.6772362589836121, 0.5356830954551697, 0.2932356595993042, 0.05545095354318619, -0.07543487846851349, -0.1263788491487503, -0.16179534792900085, -0.25334250926971436, -0.39354756474494934, -0.36170920729637146, -0.20809845626354218, -0.0955645963549614, -0.03357551246881485, 0.029328279197216034, -0.0706745833158493, -0.36601224541664124, -0.5738660097122192, -0.563535749912262, -0.46062809228897095, -0.3335876166820526, 0.26564010977745056, 1.2324923276901245, 2.07881236076355, 2.5477492809295654, 2.591585397720337, 2.360926628112793, 1.8689619302749634, 1.356644630432129, 0.8959060311317444, 0.5579398274421692, 0.23550601303577423, -0.18378451466560364, -0.6076960563659668, -0.943699836730957, -0.9989187717437744, -1.0339250564575195, -1.095488429069519, -1.1841400861740112, -1.420154333114624, -1.7270910739898682, -1.9231668710708618, -1.7717941999435425, -1.380748987197876, -0.9667482376098633, -0.6895032525062561, -0.42838752269744873, -0.17447102069854736, -0.07142497599124908, 0.08892417699098587, 0.295943945646286, 0.41015347838401794, 0.2867266535758972, 0.0706925243139267, -0.0380452424287796, -0.11649354547262192, -0.11790532618761063, -0.040503449738025665, 0.11785142868757248, 0.2343519926071167, 0.33234745264053345, 0.3931730389595032, 0.3547249138355255, 0.2675536274909973, 0.10967952758073807, -0.0693984404206276, -0.168277770280838, -0.1419161707162857, -0.0867772251367569, -0.014119836501777172, 0.0947502925992012, 0.21727842092514038, 0.3229772448539734, 0.41364920139312744, 0.4591929018497467, 0.42005813121795654, 0.29889875650405884, 0.157326802611351, -0.020604027435183525, -0.14665165543556213, -0.17222023010253906, -0.14367330074310303, -0.08434480428695679, -0.06847292184829712, -0.041986819356679916, -0.09738165140151978, -0.17001385986804962, -0.229205921292305, -0.26588618755340576, -0.33648058772087097, -0.44651076197624207, -0.4424726366996765, -0.46743717789649963, -0.2414686232805252, 0.41847655177116394, 1.1849621534347534, 1.7191853523254395, 1.9295539855957031, 1.945446491241455, 1.746953010559082, 1.4834697246551514, 1.2848562002182007, 1.0314074754714966, 0.699018657207489, 0.37302589416503906, 0.0614345483481884, -0.2795020043849945, -0.49639075994491577, -0.5625101923942566, -0.6153920888900757, -0.7512193918228149, -1.0441159009933472, -1.3411664962768555, -1.4782699346542358, -1.438178539276123, -1.3486342430114746, -1.1923507452011108, -0.8981096148490906, -0.63157057762146, -0.46488165855407715, -0.3378817141056061, -0.22794044017791748, -0.17948447167873383, -0.1577587127685547, -0.1601364016532898, -0.22346626222133636, -0.2747369408607483, -0.23906159400939941, -0.157924085855484, -0.1216137707233429, -0.09493520110845566, -0.04743671044707298, 0.05809818208217621, 0.1809665709733963, 0.20725293457508087, 0.18803486227989197, 0.1648547351360321, 0.16066209971904755, 0.08629332482814789, -0.014119022525846958, 0.022682739421725273, 0.12059645354747772, 0.18514154851436615, 0.19459086656570435, 0.23496079444885254, 0.29060834646224976, 0.37211406230926514, 0.46302086114883423, 0.44174641370773315, 0.3063536584377289, 0.14523358643054962, 0.07222265750169754, 0.02388092316687107, -0.014276521280407906, 0.008106988854706287, 0.03208790719509125, -0.024472534656524658, -0.11653238534927368, -0.20225977897644043, -0.2430124133825302, -0.24128451943397522, -0.24300655722618103, -0.306050181388855, -0.39209723472595215, -0.406919926404953, -0.433976411819458, -0.15630652010440826, 0.4272138476371765, 0.940110981464386, 1.1952476501464844, 1.2772915363311768, 1.2962273359298706, 1.15907621383667, 1.1119929552078247, 1.2035802602767944, 1.1961987018585205, 1.0059040784835815, 0.7752794623374939, 0.4708954989910126, 0.14334948360919952, 0.018586523830890656, 0.032433390617370605, -0.019237997010350227, -0.20213371515274048, -0.47167471051216125, -0.7740164995193481, -0.9501329064369202, -1.0176509618759155, -1.02480947971344, -0.9283538460731506, -0.7787957787513733, -0.7164139151573181, -0.732740044593811, -0.7278074026107788, -0.6690194010734558, -0.6145721673965454, -0.5812563896179199, -0.5840086936950684, -0.6871007084846497, -0.7410796284675598, -0.6868979334831238, -0.6063065528869629, -0.49121910333633423, -0.32831719517707825, -0.24209412932395935, -0.18806135654449463, -0.03556317836046219, 0.08633363246917725, 0.13249708712100983, 0.20083564519882202, 0.26174259185791016, 0.18101035058498383, 0.11124619096517563, 0.19542370736598969, 0.27909451723098755, 0.35216662287712097, 0.42886972427368164, 0.48355090618133545, 0.4109138250350952, 0.284216046333313, 0.2458718717098236, 0.1875356137752533, 0.18272286653518677, 0.18382114171981812, 0.11015725135803223, 0.025344202294945717, -0.008400477468967438, 0.0403793603181839, 0.06111371889710426, 0.019100811332464218, -0.013258248567581177, -0.035791847854852676, -0.13152138888835907, -0.2090911716222763, -0.240160271525383, -0.33586427569389343, -0.3808112144470215, -0.38561153411865234, -0.2728763222694397, 0.08955281972885132, 0.47249874472618103, 0.7741537094116211, 0.992328405380249, 1.1353743076324463, 1.1978504657745361, 1.2411184310913086, 1.298086166381836, 1.3303991556167603, 1.3258577585220337, 1.2377830743789673, 1.0985137224197388, 0.8934352397918701, 0.7096344828605652, 0.5700602531433105, 0.3876030147075653, 0.14800800383090973, -0.13990002870559692, -0.45969143509864807, -0.7613427639007568, -0.9723786115646362, -1.0955836772918701, -1.1271377801895142, -1.0889726877212524, -1.0567923784255981, -1.0795270204544067, -1.12153959274292, -1.0853004455566406, -0.9940117001533508, -0.9351368546485901, -0.893324077129364, -0.8829131126403809, -0.8990699648857117, -0.8747424483299255, -0.7994300127029419, -0.6861656904220581, -0.5457301735877991, -0.39849886298179626, -0.2663225829601288, -0.1672925055027008, -0.10701126605272293, -0.01152687519788742, 0.10570724308490753, 0.17951883375644684, 0.2545405328273773, 0.2964194118976593, 0.315746545791626, 0.3204464018344879, 0.3254759907722473, 0.3592325747013092, 0.38597363233566284, 0.40103521943092346, 0.4020420014858246, 0.39210477471351624, 0.31771329045295715, 0.26309725642204285, 0.2091808319091797, 0.14636754989624023, 0.12233584374189377, 0.09521171450614929, 0.12211617827415466, 0.11798688769340515, 0.04597878083586693, 0.007210954558104277, 0.006537371780723333, -0.04557618126273155, -0.11177235096693039, -0.1017625629901886, -0.12205802649259567, -0.21750780940055847, -0.29023486375808716, -0.3436625897884369, -0.1933743804693222, 0.23502518236637115, 0.6221055388450623, 0.873534619808197, 1.0310496091842651, 1.1176780462265015, 1.1810023784637451, 1.2480627298355103, 1.404441475868225, 1.5333890914916992, 1.502528190612793, 1.3702733516693115, 1.1835051774978638, 0.9565257430076599, 0.7385820150375366, 0.6040051579475403, 0.5069579482078552, 0.2852114737033844, -0.11228818446397781, -0.4557875990867615, -0.7152358293533325, -0.9414904117584229, -1.0904829502105713, -1.1423699855804443, -1.174528956413269, -1.3074501752853394, -1.3671801090240479, -1.3686102628707886, -1.3773269653320312, -1.3131077289581299, -1.1869151592254639, -1.1007293462753296, -1.093664526939392, -1.080314040184021, -1.046283483505249, -0.9538214802742004, -0.8134959936141968, -0.6730450987815857, -0.5480659008026123, -0.43838492035865784, -0.31286153197288513, -0.1637854427099228, -0.034762151539325714, 0.08841796964406967, 0.21678124368190765, 0.2720237076282501, 0.29497748613357544, 0.32345718145370483, 0.39604997634887695, 0.5047423839569092, 0.5746821761131287, 0.62049400806427, 0.6006952524185181, 0.5155132412910461, 0.49020230770111084, 0.5110452175140381, 0.45700496435165405, 0.42658114433288574, 0.4424850046634674, 0.3642478287220001, 0.219527006149292, 0.15729546546936035, 0.18585015833377838, 0.1927323043346405, 0.18107569217681885, 0.13587336242198944, 0.04941554367542267, -0.04254484549164772, -0.11887099593877792, -0.17614862322807312, -0.2469988614320755, -0.2738231420516968, -0.34418654441833496, -0.3604351282119751, 0.014654222875833511, 0.4618653655052185, 0.6491759419441223, 0.7370885014533997, 0.799254298210144, 0.8475975394248962, 0.9737796187400818, 1.220616340637207, 1.4273757934570312, 1.4277912378311157, 1.2752456665039062, 1.1112110614776611, 1.0031564235687256, 0.9772723913192749, 0.925490140914917, 0.7786533832550049, 0.5455500483512878, 0.16746777296066284, -0.16192740201950073, -0.3645995259284973, -0.5766260027885437, -0.7640993595123291, -0.9551546573638916, -1.1772466897964478, -1.4018969535827637, -1.5408023595809937, -1.4912911653518677, -1.4097555875778198, -1.4024128913879395, -1.393332839012146, -1.3914358615875244, -1.4454554319381714, -1.460669755935669, -1.3544622659683228, -1.1968350410461426, -1.0176876783370972, -0.8899263143539429, -0.813834547996521, -0.6824251413345337, -0.5100858807563782, -0.3174375593662262, -0.10247357189655304, 0.08117048442363739, 0.15441834926605225, 0.16798652708530426, 0.2309025228023529, 0.34884747862815857, 0.5132938623428345, 0.6644540429115295, 0.7404651641845703, 0.7681951522827148, 0.7589771747589111, 0.7376949191093445, 0.7700386047363281, 0.8080084323883057, 0.7600405812263489, 0.7050289511680603, 0.637997567653656, 0.49524423480033875, 0.3892053961753845, 0.38866350054740906, 0.40711721777915955, 0.3671953082084656, 0.2799357771873474, 0.13913825154304504, 0.0010456327581778169, -0.08143065124750137, -0.11946462094783783, -0.13313421607017517, -0.20879577100276947, -0.34566667675971985, -0.4381569027900696, -0.509727418422699, -0.3937269151210785, 0.07416994869709015, 0.46492910385131836, 0.556894838809967, 0.568597137928009, 0.6187254190444946, 0.7626320719718933, 0.9629157781600952, 1.1583917140960693, 1.3333109617233276, 1.3671191930770874, 1.1962755918502808, 1.0335444211959839, 1.0306276082992554, 1.0206242799758911, 0.9013699889183044, 0.757129967212677, 0.553577184677124, 0.18946804106235504, -0.22368814051151276, -0.4519149363040924, -0.5416813492774963, -0.6931719183921814, -0.9193358421325684, -1.1190639734268188, -1.2873090505599976, -1.438409447669983, -1.4651180505752563, -1.3873311281204224, -1.38239586353302, -1.477522611618042, -1.5403121709823608, -1.5387895107269287, -1.4688172340393066, -1.3398689031600952, -1.2044334411621094, -1.0514254570007324, -0.941837728023529, -0.8686312437057495, -0.7296547889709473, -0.5427032113075256, -0.3804982602596283, -0.1946578174829483, -0.0004436023300513625, 0.08704875409603119, 0.1206943541765213, 0.22425293922424316, 0.4002395272254944, 0.5667147040367126, 0.7317224740982056, 0.8245816826820374, 0.8168672323226929, 0.7825173735618591, 0.7521957755088806, 0.7831752300262451, 0.8573966026306152, 0.8969894051551819, 0.7959390878677368, 0.6559547185897827, 0.5750361084938049, 0.5059994459152222, 0.4658515453338623, 0.4868566393852234, 0.4402936100959778, 0.2498081475496292, 0.1036922037601471, 0.004127155523747206, -0.08908415585756302, -0.17195938527584076, -0.18314066529273987, -0.2304058074951172, -0.3623600900173187, -0.47386687994003296, -0.5533128380775452, -0.22807738184928894, 0.3044658899307251, 0.5390464067459106, 0.6350240111351013, 0.7539859414100647, 0.74882572889328, 0.7235817909240723, 0.9659645557403564, 1.3337161540985107, 1.4465218782424927, 1.2972089052200317, 1.2083381414413452, 1.0975518226623535, 0.9208818674087524, 0.8525339365005493, 0.8045836687088013, 0.7052638530731201, 0.4007646143436432, -0.14832285046577454, -0.5310835838317871, -0.6373857259750366, -0.7967924475669861, -0.9541882276535034, -0.9454158544540405, -1.036682367324829, -1.35182523727417, -1.5337690114974976, -1.4383172988891602, -1.375321388244629, -1.4227794408798218, -1.3855525255203247, -1.3630250692367554, -1.455433964729309, -1.4648375511169434, -1.3126837015151978, -1.0730220079421997, -0.8762722611427307, -0.81867915391922, -0.7875620722770691, -0.6715310215950012, -0.5469969511032104, -0.43154290318489075, -0.1897067278623581, 0.05722948908805847, 0.10202986001968384, 0.09599752724170685, 0.22124090790748596, 0.36332637071609497, 0.4818795919418335, 0.687679648399353, 0.8462528586387634, 0.8403989672660828, 0.7492348551750183, 0.6860814690589905, 0.7109013795852661, 0.7871085405349731, 0.8338157534599304, 0.7925283908843994, 0.720626711845398, 0.6048998832702637, 0.45157137513160706, 0.40534093976020813, 0.42860978841781616, 0.3717646896839142, 0.2853269577026367, 0.1777149736881256, -0.009340072982013226, -0.15321798622608185, -0.1985536515712738, -0.18765564262866974, -0.24458017945289612, -0.33712393045425415, -0.44033509492874146, -0.4928171634674072, -0.145146444439888, 0.3301675617694855, 0.5617789030075073, 0.7450821995735168, 0.9078641533851624, 0.8986347317695618, 0.882070779800415, 1.074878454208374, 1.3250346183776855, 1.4399412870407104, 1.3984184265136719, 1.2717519998550415, 1.1235570907592773, 0.9689711332321167, 0.8407717943191528, 0.7832785844802856, 0.7040356993675232, 0.350431352853775, -0.16174831986427307, -0.46007099747657776, -0.6122615933418274, -0.7949174642562866, -0.8790278434753418, -0.8308762907981873, -0.9590426087379456, -1.2377471923828125, -1.3603644371032715, -1.384112000465393, -1.4105348587036133, -1.4162406921386719, -1.4039181470870972, -1.4555813074111938, -1.5616379976272583, -1.5847883224487305, -1.4771008491516113, -1.2894368171691895, -1.1038161516189575, -0.9603842496871948, -0.864832878112793, -0.8224865794181824, -0.7878433465957642, -0.6429609060287476, -0.385364294052124, -0.16313020884990692, 0.005006925202906132, 0.16842855513095856, 0.2929242253303528, 0.34290772676467896, 0.4442519247531891, 0.6696373224258423, 0.8011823296546936, 0.8112208247184753, 0.8377888798713684, 0.8622556328773499, 0.8328031301498413, 0.8019747734069824, 0.8570166826248169, 0.9218730926513672, 0.8480899333953857, 0.7034056782722473, 0.6613481044769287, 0.6149307489395142, 0.48031294345855713, 0.40970975160598755, 0.4064207375049591, 0.32307738065719604, 0.12972046434879303, 0.0010605506831780076, -0.039109185338020325, -0.13411490619182587, -0.23358729481697083, -0.30533626675605774, -0.3495306372642517, -0.4887276887893677, -0.507000207901001, -0.06084557622671127, 0.349361777305603, 0.49324363470077515, 0.6794105768203735, 0.915671706199646, 0.9652981162071228, 0.9210772514343262, 1.0720564126968384, 1.2906079292297363, 1.3230479955673218, 1.19301176071167, 1.1198917627334595, 1.0316282510757446, 0.8559437394142151, 0.6958613395690918, 0.5899304151535034, 0.47433504462242126, 0.12909458577632904, -0.3024604618549347, -0.504662811756134, -0.6436143517494202, -0.8864497542381287, -0.9784220457077026, -0.904293954372406, -0.9982665777206421, -1.1710258722305298, -1.18218195438385, -1.1792786121368408, -1.294291615486145, -1.377694845199585, -1.3290942907333374, -1.3373804092407227, -1.4179643392562866, -1.3702465295791626, -1.2434639930725098, -1.1559314727783203, -1.0768123865127563, -0.9600062966346741, -0.8097788095474243, -0.7052275538444519, -0.6427839994430542, -0.4756022095680237, -0.25868406891822815, -0.16566526889801025, -0.0798618271946907, 0.13887454569339752, 0.3120329976081848, 0.3663947582244873, 0.506647527217865, 0.7166682481765747, 0.7443122863769531, 0.6952245831489563, 0.7648055553436279, 0.7881388664245605, 0.7411248087882996, 0.7579371333122253, 0.78731769323349, 0.7581384181976318, 0.6939364671707153, 0.6452566385269165, 0.5940831303596497, 0.5307388305664062, 0.4504924416542053, 0.3537972569465637, 0.30916541814804077, 0.21355454623699188, 0.06878961622714996, -0.0070762853138148785, -0.03736334666609764, -0.1430625170469284, -0.2727656066417694, -0.30138733983039856, -0.39334937930107117, -0.5199824571609497, -0.5401910543441772, -0.2564795911312103, 0.15805217623710632, 0.3581753969192505, 0.5677353143692017, 0.8114356994628906, 0.9322829246520996, 0.969332754611969, 1.1340149641036987, 1.3819159269332886, 1.3919833898544312, 1.2939622402191162, 1.273421287536621, 1.1753698587417603, 1.0230869054794312, 0.9564225077629089, 0.8740175366401672, 0.7060343623161316, 0.4443112313747406, 0.04459543898701668, -0.2860106825828552, -0.4475897550582886, -0.6290407776832581, -0.8234286904335022, -0.8612851500511169, -0.8483545184135437, -1.0382705926895142, -1.1784615516662598, -1.160944938659668, -1.2818326950073242, -1.4121451377868652, -1.404117226600647, -1.448169469833374, -1.5651732683181763, -1.5525331497192383, -1.4500231742858887, -1.3723984956741333, -1.2532609701156616, -1.122982144355774, -1.0427552461624146, -0.9376437664031982, -0.8035432696342468, -0.7108473181724548, -0.5626034140586853, -0.350542277097702, -0.20408235490322113, -0.04991380125284195, 0.1572517305612564, 0.315433144569397, 0.44528326392173767, 0.6116135716438293, 0.6998940706253052, 0.6967023611068726, 0.7187650203704834, 0.775851845741272, 0.8266180753707886, 0.8454424738883972, 0.8705967664718628, 0.870522141456604, 0.814439594745636, 0.785484790802002, 0.757270097732544, 0.6631258726119995, 0.5966410636901855, 0.5054334998130798, 0.39065784215927124, 0.29184088110923767, 0.1932496726512909, 0.1400330513715744, 0.06961273401975632, -0.03165769949555397, -0.13967452943325043, -0.234480619430542, -0.3633509576320648, -0.45422840118408203, -0.5469546318054199, -0.344414085149765, 0.16123290359973907, 0.3288792073726654, 0.4486957788467407, 0.7632272839546204, 0.8880143165588379, 0.8358078598976135, 1.0087693929672241, 1.2743383646011353, 1.275195837020874, 1.160224199295044, 1.0981624126434326, 1.0813096761703491, 0.985908031463623, 0.906111478805542, 0.8852443099021912, 0.7488145232200623, 0.5028131604194641, 0.09944654256105423, -0.25566989183425903, -0.39624887704849243, -0.5787581205368042, -0.7677777409553528, -0.768948495388031, -0.7837676405906677, -1.004406213760376, -1.1043269634246826, -1.0875558853149414, -1.180843710899353, -1.2565925121307373, -1.2804871797561646, -1.3521572351455688, -1.5151081085205078, -1.5597611665725708, -1.430869698524475, -1.3022215366363525, -1.1712805032730103, -1.0095516443252563, -0.9172428846359253, -0.928234875202179, -0.8811749815940857, -0.7414189577102661, -0.5767388939857483, -0.43119701743125916, -0.2813591957092285, -0.08577477931976318, 0.022047853097319603, 0.11753109097480774, 0.3021412491798401, 0.4862852096557617, 0.5896799564361572, 0.6222047805786133, 0.6540435552597046, 0.6684038043022156, 0.6704005599021912, 0.7062509059906006, 0.7997852563858032, 0.835319459438324, 0.8115655183792114, 0.7733950614929199, 0.7165691256523132, 0.6521943211555481, 0.5563290119171143, 0.5076488256454468, 0.48646974563598633, 0.36513522267341614, 0.20747531950473785, 0.17862363159656525, 0.1350172460079193, 0.023735811933875084, -0.062179163098335266, -0.13176460564136505, -0.2472429871559143, -0.41252732276916504, -0.4920455813407898, -0.41348156332969666, -0.044764548540115356, 0.35810786485671997, 0.52744060754776, 0.7251697778701782, 0.9115849137306213, 0.8790507912635803, 0.8949589729309082, 1.1756079196929932, 1.3640371561050415, 1.2568392753601074, 1.1388607025146484, 1.091715693473816, 0.992750883102417, 0.8635008335113525, 0.8565667271614075, 0.8699283599853516, 0.6592868566513062, 0.2735157608985901, -0.12812934815883636, -0.3926873803138733, -0.5880159735679626, -0.7536482214927673, -0.7530031800270081, -0.6792880892753601, -0.8104380965232849, -1.061840295791626, -1.1049847602844238, -1.0826808214187622, -1.1737934350967407, -1.221310019493103, -1.2525297403335571, -1.4179190397262573, -1.5684945583343506, -1.5373164415359497, -1.405984878540039, -1.2404592037200928, -1.0930944681167603, -1.0302399396896362, -0.9943554401397705, -0.9508899450302124, -0.8927202224731445, -0.7413819432258606, -0.5090071558952332, -0.36858195066452026, -0.28429555892944336, -0.10933968424797058, 0.04896576702594757, 0.1692652553319931, 0.38723382353782654, 0.6037702560424805, 0.6477034091949463, 0.6181476712226868, 0.6334320902824402, 0.6535354852676392, 0.6773806214332581, 0.7891833186149597, 0.8860260844230652, 0.8559185862541199, 0.7950461506843567, 0.7183358073234558, 0.6558515429496765, 0.6459283232688904, 0.6415708661079407, 0.6033554077148438, 0.49334827065467834, 0.36396417021751404, 0.21641311049461365, 0.10057014226913452, 0.08304844051599503, 0.06454195827245712, -0.008787387050688267, -0.12467025220394135, -0.26585859060287476, -0.38825562596321106, -0.49489670991897583, -0.525861918926239, -0.16203829646110535, 0.3322638273239136, 0.4859127402305603, 0.6516864895820618, 0.9001939296722412, 0.913428783416748, 0.9199259877204895, 1.1672098636627197, 1.3712116479873657, 1.3097213506698608, 1.183319330215454, 1.090713620185852, 0.9683544039726257, 0.8870238661766052, 0.8740856051445007, 0.7920061349868774, 0.6047829389572144, 0.347221702337265, -0.08562950044870377, -0.47306886315345764, -0.6013568043708801, -0.730908989906311, -0.8581303954124451, -0.8132492303848267, -0.8400421142578125, -1.0388684272766113, -1.1148980855941772, -1.0680720806121826, -1.1033226251602173, -1.1748645305633545, -1.2129936218261719, -1.344948172569275, -1.5245474576950073, -1.5161687135696411, -1.401044487953186, -1.3108315467834473, -1.160629391670227, -1.0090287923812866, -0.9720337986946106, -0.9310300350189209, -0.8237751722335815, -0.7085573077201843, -0.5545037388801575, -0.3958587348461151, -0.2709847688674927, -0.13444313406944275, 0.03577490523457527, 0.212164968252182, 0.41036924719810486, 0.6138782501220703, 0.7029004693031311, 0.6869163513183594, 0.679893434047699, 0.7136089205741882, 0.7265809774398804, 0.7554762959480286, 0.8333805203437805, 0.8310392498970032, 0.7652433514595032, 0.7397503852844238, 0.7214859127998352, 0.6881251931190491, 0.6647471785545349, 0.6191914081573486, 0.4831254482269287, 0.3310414254665375, 0.20703357458114624, 0.09837643802165985, 0.06039150804281235, 0.062146950513124466, 0.021076608449220657, -0.13184919953346252, -0.2528647482395172, -0.3555654287338257, -0.45498403906822205, -0.51006680727005, -0.46764153242111206, -0.06538949906826019, 0.3022497296333313, 0.432172566652298, 0.6788756251335144, 0.9465831518173218, 0.9635986089706421, 0.9825341701507568, 1.2471158504486084, 1.3756054639816284, 1.2386795282363892, 1.1165989637374878, 1.0743476152420044, 0.9401545524597168, 0.7919915914535522, 0.7617008686065674, 0.683536171913147, 0.4750409722328186, 0.14514434337615967, -0.22720454633235931, -0.4660847783088684, -0.6631776094436646, -0.8606866002082825, -0.8832738995552063, -0.8192787170410156, -0.90325528383255, -1.037508249282837, -1.0159176588058472, -1.0096144676208496, -1.113993525505066, -1.1540017127990723, -1.149053931236267, -1.2710353136062622, -1.3913946151733398, -1.3386225700378418, -1.2520966529846191, -1.1898595094680786, -1.0550150871276855, -0.9064581394195557, -0.8401990532875061, -0.8070109486579895, -0.7378131747245789, -0.6078808903694153, -0.46202409267425537, -0.3273641765117645, -0.1607796996831894, 0.01494631264358759, 0.13520139455795288, 0.25448212027549744, 0.44227731227874756, 0.6000147461891174, 0.6494460701942444, 0.6703423857688904, 0.6969677805900574, 0.6924580931663513, 0.6749476194381714, 0.7148904800415039, 0.761604905128479, 0.7514492273330688, 0.7367621064186096, 0.7202621102333069, 0.6885671019554138, 0.6120985150337219, 0.5353035926818848, 0.4636130928993225, 0.3659481704235077, 0.279433935880661, 0.19385921955108643, 0.13107919692993164, 0.08351655304431915, 0.015584689565002918, -0.07865068316459656, -0.19173862040042877, -0.2718029022216797, -0.34186649322509766, -0.4500405192375183, -0.4513617157936096, -0.504703938961029, -0.47558334469795227, 0.003081532893702388, 0.3935260772705078, 0.5426401495933533, 0.8018532395362854, 0.961719810962677, 0.8838918805122375, 0.9096989631652832, 1.119479775428772, 1.2135189771652222, 1.1720000505447388, 1.1265499591827393, 1.0061546564102173, 0.8529248833656311, 0.7601021528244019, 0.6610832214355469, 0.5710528492927551, 0.42899930477142334, 0.060687076300382614, -0.37845081090927124, -0.5698884129524231, -0.6677191257476807, -0.7757251262664795, -0.6974071860313416, -0.6239185333251953, -0.76517254114151, -0.9027366638183594, -0.9353755116462708, -0.9673848152160645, -0.9939755201339722, -1.019484281539917, -1.091280460357666, -1.1854362487792969, -1.239583134651184, -1.226359486579895, -1.1104555130004883, -0.9410799741744995, -0.8559812307357788, -0.8448477983474731, -0.8252207636833191, -0.8185911774635315, -0.7784134745597839, -0.603157103061676, -0.3881760835647583, -0.24146302044391632, -0.11226257681846619, 0.008788869716227055, 0.10480787605047226, 0.24516434967517853, 0.438178688287735, 0.5626044869422913, 0.5856236815452576, 0.5611209273338318, 0.5292433500289917, 0.5446178317070007, 0.6018508672714233, 0.682711660861969, 0.765084981918335, 0.7562723159790039, 0.6774946451187134, 0.6123830676078796, 0.5635495185852051, 0.5164983868598938, 0.48999351263046265, 0.4436536133289337, 0.35357391834259033, 0.2696518003940582, 0.17420020699501038, 0.1382775902748108, 0.12696130573749542, 0.0627094954252243, -0.041787516325712204, -0.12542517483234406, -0.222965806722641, -0.3569852113723755, -0.41757240891456604, -0.41448405385017395, -0.44322508573532104, -0.4779615104198456, -0.10851411521434784, 0.3586270213127136, 0.49324387311935425, 0.6432399749755859, 0.8153302669525146, 0.7892056107521057, 0.6762772798538208, 0.8308650255203247, 1.0860439538955688, 1.0907233953475952, 1.0053859949111938, 0.9840049147605896, 0.9138757586479187, 0.7256936430931091, 0.6016594767570496, 0.5949018597602844, 0.4815073013305664, 0.12243565171957016, -0.26911023259162903, -0.4482353925704956, -0.5603878498077393, -0.6622912287712097, -0.5858715176582336, -0.4607308506965637, -0.5416595935821533, -0.7150774002075195, -0.797906756401062, -0.8543919920921326, -0.9287610650062561, -0.9801337718963623, -0.9906536340713501, -1.030652403831482, -1.1015088558197021, -1.0972017049789429, -0.9955980777740479, -0.8701889514923096, -0.7967816591262817, -0.7868474125862122, -0.803389847278595, -0.8195337057113647, -0.7988565564155579, -0.6767848134040833, -0.4796102046966553, -0.3040100634098053, -0.1602650284767151, -0.02749187871813774, 0.07521640509366989, 0.189553901553154, 0.3322445750236511, 0.41838186979293823, 0.44525545835494995, 0.45366984605789185, 0.4428197741508484, 0.44542884826660156, 0.5179085731506348, 0.6436281204223633, 0.7106205224990845, 0.7013340592384338, 0.6607109904289246, 0.6034203767776489, 0.519564688205719, 0.4482029676437378, 0.44837191700935364, 0.432888388633728, 0.3651469945907593, 0.2969299554824829, 0.24290838837623596, 0.19616052508354187, 0.1612733155488968, 0.11039846390485764, 0.04399087280035019, -0.03960771486163139, -0.17585134506225586, -0.306028813123703, -0.36290472745895386, -0.33566442131996155, -0.3518868684768677, -0.3761211633682251, -0.4097564220428467, -0.32657745480537415, 0.10883918404579163, 0.4395858645439148, 0.5568244457244873, 0.7272895574569702, 0.7770484089851379, 0.6287222504615784, 0.6030580401420593, 0.8503896594047546, 1.042372703552246, 1.0440925359725952, 1.0062326192855835, 0.9442728161811829, 0.7668144702911377, 0.582341730594635, 0.5545493960380554, 0.542280912399292, 0.3544599711894989, 0.02141502872109413, -0.3039260506629944, -0.4881441295146942, -0.5737457275390625, -0.5837584137916565, -0.4865178167819977, -0.45001906156539917, -0.5745093822479248, -0.7394152283668518, -0.8443400859832764, -0.8998215198516846, -0.9321596026420593, -0.9311797618865967, -0.9319548606872559, -0.9707141518592834, -0.9878519177436829, -0.9491846561431885, -0.8664337396621704, -0.7725443840026855, -0.6944431066513062, -0.648582935333252, -0.6674890518188477, -0.696057140827179, -0.6475121378898621, -0.5219550728797913, -0.36947306990623474, -0.193862184882164, -0.024075714871287346, 0.07226115465164185, 0.12256743013858795, 0.1948825716972351, 0.2927834391593933, 0.3578811287879944, 0.3933348059654236, 0.42424461245536804, 0.4406944215297699, 0.45251160860061646, 0.48316314816474915, 0.5534147620201111, 0.6125322580337524, 0.627070426940918, 0.6007809042930603, 0.5135529637336731, 0.42193424701690674, 0.38302183151245117, 0.3454705774784088, 0.30563071370124817, 0.29774945974349976, 0.26071199774742126, 0.1799878180027008, 0.14261513948440552, 0.11437290906906128, 0.03731086850166321, -0.03970694914460182, -0.10069503635168076, -0.20032209157943726, -0.2973342835903168, -0.32012492418289185, -0.32646405696868896, -0.3537955582141876, -0.3653922975063324, -0.33638742566108704, -0.385292649269104, -0.15203440189361572, 0.4075140953063965, 0.6174739599227905, 0.6276300549507141, 0.7635864615440369, 0.7865011692047119, 0.598234236240387, 0.6557984352111816, 1.010986089706421, 1.1102001667022705, 0.9936350584030151, 0.9592876434326172, 0.8833316564559937, 0.6699326038360596, 0.5770391821861267, 0.6233657598495483, 0.5197055339813232, 0.22458593547344208, -0.12415774166584015, -0.41588157415390015, -0.5926889777183533, -0.6432757377624512, -0.5987652540206909, -0.5513150691986084, -0.5962504148483276, -0.7327541708946228, -0.857377827167511, -0.9323067665100098, -0.9638506770133972, -0.9685854911804199, -0.9501346349716187, -0.9509334564208984, -1.0006994009017944, -0.9665396809577942, -0.8420647382736206, -0.7133508920669556, -0.5967594981193542, -0.494078129529953, -0.46031123399734497, -0.5354180932044983, -0.5701448917388916, -0.46942123770713806, -0.33050957322120667, -0.1963297724723816, -0.04146784916520119, 0.08276427537202835, 0.13547615706920624, 0.18267598748207092, 0.26854097843170166, 0.3466714918613434, 0.4031561017036438, 0.41351959109306335, 0.38448193669319153, 0.3892034590244293, 0.4179442822933197, 0.46492552757263184, 0.5222116112709045, 0.5888540148735046, 0.6044350862503052, 0.5055151581764221, 0.39627110958099365, 0.3462371528148651, 0.3093639612197876, 0.24664725363254547, 0.22462202608585358, 0.23403729498386383, 0.16363388299942017, 0.0682891234755516, 0.05996466428041458, 0.0429813377559185, -0.035653673112392426, -0.10945282876491547, -0.15389001369476318, -0.23917317390441895, -0.34291598200798035, -0.3505064845085144, -0.3356877565383911, -0.3195299506187439, -0.3221963942050934, -0.31257179379463196, -0.3614172339439392, -0.21304628252983093, 0.3317202031612396, 0.6351441144943237, 0.6661952137947083, 0.8044933080673218, 0.845755934715271, 0.6237404942512512, 0.6177533864974976, 0.9991528391838074, 1.15494966506958, 1.0180904865264893, 1.005517840385437, 0.9544211030006409, 0.6740269064903259, 0.5415815114974976, 0.6356841921806335, 0.5814118981361389, 0.29068681597709656, -0.05318543687462807, -0.3604459762573242, -0.6008574962615967, -0.705451250076294, -0.6656616926193237, -0.587730884552002, -0.6032811999320984, -0.7447730302810669, -0.884451150894165, -0.97455233335495, -1.026586890220642, -1.0293081998825073, -0.9873901009559631, -0.947982907295227, -0.968327522277832, -0.9324793815612793, -0.8359429836273193, -0.7225112915039062, -0.5782797932624817, -0.436285138130188, -0.3670170307159424, -0.4136911630630493, -0.43941646814346313, -0.4006099998950958, -0.33133119344711304, -0.17910540103912354, 0.014445486478507519, 0.13092947006225586, 0.177996426820755, 0.2358957976102829, 0.2972465753555298, 0.33734092116355896, 0.3839529752731323, 0.42602255940437317, 0.4090498983860016, 0.3767518997192383, 0.3882288932800293, 0.4275190830230713, 0.4743376672267914, 0.5281404256820679, 0.5607904195785522, 0.5113221406936646, 0.4232853949069977, 0.3399795591831207, 0.2543194591999054, 0.2178751677274704, 0.20320279896259308, 0.15275904536247253, 0.10684901475906372, 0.07369692623615265, 0.024392176419496536, -0.011712669394910336, -0.03322087973356247, -0.07173775136470795, -0.15987388789653778, -0.2560528516769409, -0.3157458007335663, -0.34347814321517944, -0.35362181067466736, -0.34230169653892517, -0.312167763710022, -0.3197415769100189, -0.3283687233924866, -0.3754093050956726, -0.14425864815711975, 0.4184459149837494, 0.6910001039505005, 0.7400168180465698, 0.867720901966095, 0.8598586320877075, 0.6421619057655334, 0.6759883761405945, 1.0524150133132935, 1.1814355850219727, 1.0176857709884644, 0.9570153951644897, 0.8731821775436401, 0.6165056228637695, 0.49535468220710754, 0.602997899055481, 0.5657667517662048, 0.2524569034576416, -0.1285310834646225, -0.41483473777770996, -0.5874580144882202, -0.7105239033699036, -0.6934379935264587, -0.5753548741340637, -0.6061407327651978, -0.7891481518745422, -0.8875178098678589, -0.9161326289176941, -0.9759390354156494, -0.9999836087226868, -0.9549670815467834, -0.9204720854759216, -0.9597905874252319, -0.9360645413398743, -0.8110547661781311, -0.6552726626396179, -0.5211047530174255, -0.42445605993270874, -0.3463405668735504, -0.3327879309654236, -0.3710175156593323, -0.3680203855037689, -0.26341328024864197, -0.12370659410953522, -0.00687558064237237, 0.11086378246545792, 0.20389793813228607, 0.27135780453681946, 0.3222799003124237, 0.35932210087776184, 0.42533934116363525, 0.4348793029785156, 0.36915358901023865, 0.3654364049434662, 0.3959118723869324, 0.406046599149704, 0.4414827823638916, 0.5044140815734863, 0.5208852291107178, 0.4518190622329712, 0.3928197920322418, 0.3576747179031372, 0.2713388502597809, 0.19261354207992554, 0.16655904054641724, 0.12360692769289017, 0.06923338025808334, 0.05356783792376518, 0.035023510456085205, 0.0007792756659910083, -0.04605131596326828, -0.1116347461938858, -0.15986543893814087, -0.2289733737707138, -0.3016524016857147, -0.3263677954673767, -0.3299103379249573, -0.3404724597930908, -0.31725582480430603, -0.2976870834827423, -0.3148728609085083, -0.325998455286026, -0.32006150484085083, 0.07697059214115143, 0.6141544580459595, 0.7053776383399963, 0.7441855072975159, 0.90810227394104, 0.8241804838180542, 0.6450420618057251, 0.8646448850631714, 1.166337013244629, 1.0590534210205078, 0.8818498849868774, 0.8549066185951233, 0.6665935516357422, 0.4468420147895813, 0.5293908715248108, 0.5947637557983398, 0.4080089032649994, 0.08491877466440201, -0.2834944427013397, -0.5384414196014404, -0.6377280354499817, -0.6712638139724731, -0.6426762342453003, -0.598965048789978, -0.6972333192825317, -0.8362889885902405, -0.8782727718353271, -0.8707275986671448, -0.8736110925674438, -0.9063328504562378, -0.8878259658813477, -0.9167668223381042, -0.9658668637275696, -0.886472761631012, -0.7618098258972168, -0.6178068518638611, -0.4541429877281189, -0.33102190494537354, -0.3024478256702423, -0.30848178267478943, -0.2837602496147156, -0.24502214789390564, -0.17799250781536102, -0.059634387493133545, 0.06927468627691269, 0.14144651591777802, 0.21135346591472626, 0.3126116991043091, 0.3778934180736542, 0.39979422092437744, 0.43241816759109497, 0.45798996090888977, 0.4152805507183075, 0.36416149139404297, 0.37735888361930847, 0.4106266498565674, 0.4161769151687622, 0.4421502649784088, 0.47693777084350586, 0.43425843119621277, 0.3645458221435547, 0.31540992856025696, 0.24743324518203735, 0.1802424043416977, 0.13234716653823853, 0.07588230818510056, 0.02965773455798626, 0.007903274148702621, -0.021511973813176155, -0.04945481941103935, -0.06489920616149902, -0.12621326744556427, -0.1969834268093109, -0.23141129314899445, -0.2716268301010132, -0.31009867787361145, -0.3302682340145111, -0.32712894678115845, -0.3302401304244995, -0.33117008209228516, -0.3203488886356354, -0.29260560870170593, -0.31734737753868103, -0.11219997704029083, 0.4522760212421417, 0.7105181217193604, 0.6999388337135315, 0.8339174389839172, 0.8805735111236572, 0.7170366644859314, 0.745876133441925, 1.0598515272140503, 1.1151318550109863, 0.8824059963226318, 0.7878963947296143, 0.7344315648078918, 0.5013684630393982, 0.39051198959350586, 0.513990581035614, 0.4743832051753998, 0.1524709165096283, -0.1870967596769333, -0.40312936902046204, -0.5761303901672363, -0.6927706003189087, -0.6329575777053833, -0.5489009618759155, -0.653162956237793, -0.7641255855560303, -0.7625404000282288, -0.8058561086654663, -0.8360222578048706, -0.8002296090126038, -0.806749165058136, -0.8703237771987915, -0.916260302066803, -0.8697138428688049, -0.7891616225242615, -0.6656695604324341, -0.46859151124954224, -0.3209579586982727, -0.2806243598461151, -0.2717745006084442, -0.23709917068481445, -0.21417398750782013, -0.17562317848205566, -0.06410370022058487, 0.051423605531454086, 0.10411105304956436, 0.15746518969535828, 0.2665264904499054, 0.3508094251155853, 0.3799455463886261, 0.43651968240737915, 0.47438523173332214, 0.4162691533565521, 0.354763001203537, 0.3579133152961731, 0.35521209239959717, 0.34640735387802124, 0.39513805508613586, 0.4322788417339325, 0.4024157226085663, 0.348972886800766, 0.3048892617225647, 0.25396957993507385, 0.1806209236383438, 0.11747737973928452, 0.07534134387969971, 0.03596574440598488, -0.0026800623163580894, -0.036122266203165054, -0.06477636098861694, -0.10030660033226013, -0.13324064016342163, -0.15873539447784424, -0.19171470403671265, -0.2348400205373764, -0.28009945154190063, -0.30090174078941345, -0.32663604617118835, -0.3344384431838989, -0.3027889132499695, -0.28019240498542786, -0.2927895486354828, -0.2728404402732849, -0.2666971981525421, -0.28439590334892273, 0.12349392473697662, 0.6425325274467468, 0.6998597383499146, 0.7707831263542175, 0.9548760056495667, 0.8515294790267944, 0.6874344348907471, 0.8769629597663879, 1.1130224466323853, 0.9838780164718628, 0.8140109181404114, 0.7824211120605469, 0.598707377910614, 0.387239545583725, 0.4119531214237213, 0.4474247097969055, 0.29057130217552185, 0.0008388776914216578, -0.2863822877407074, -0.46739715337753296, -0.6084436178207397, -0.672216534614563, -0.5937085151672363, -0.5704076290130615, -0.6720565557479858, -0.7102805376052856, -0.712469220161438, -0.7564384341239929, -0.7505789995193481, -0.7409554719924927, -0.7901498675346375, -0.841483473777771, -0.8298636078834534, -0.7931554913520813, -0.7211576700210571, -0.5350892543792725, -0.36987197399139404, -0.3008424639701843, -0.2439071387052536, -0.20293079316616058, -0.20566703379154205, -0.18333496153354645, -0.07610898464918137, 0.020812485367059708, 0.06891131401062012, 0.1396940052509308, 0.22941388189792633, 0.2887963354587555, 0.3319316804409027, 0.39725491404533386, 0.4433387219905853, 0.42425835132598877, 0.3618243336677551, 0.33569979667663574, 0.3270599842071533, 0.301591694355011, 0.35282260179519653, 0.41068366169929504, 0.3653578758239746, 0.3011433184146881, 0.279013991355896, 0.24123089015483856, 0.17484305799007416, 0.14486923813819885, 0.11816821247339249, 0.01617952436208725, -0.05386289954185486, -0.04282610863447189, -0.0816425010561943, -0.09028806537389755, -0.06030863896012306, -0.11329561471939087, -0.18519800901412964, -0.24968427419662476, -0.2673998177051544, -0.28365200757980347, -0.29477038979530334, -0.24970382452011108, -0.25529560446739197, -0.2809413969516754, -0.28406548500061035, -0.26294848322868347, -0.2372899353504181, -0.23017099499702454, -0.2681596279144287, -0.045120060443878174, 0.4875120520591736, 0.6651740074157715, 0.6721780300140381, 0.9271814227104187, 0.9374064207077026, 0.677556037902832, 0.7508412599563599, 1.033921718597412, 1.009407877922058, 0.8263978958129883, 0.8056339621543884, 0.6937109231948853, 0.3932631015777588, 0.32773810625076294, 0.4189806282520294, 0.31864413619041443, 0.106831856071949, -0.14533889293670654, -0.35552364587783813, -0.48630452156066895, -0.6369214057922363, -0.6352307796478271, -0.5166047215461731, -0.584321916103363, -0.6952768564224243, -0.6663044095039368, -0.6827939748764038, -0.789175271987915, -0.8129337430000305, -0.7545654773712158, -0.76463782787323, -0.8205961585044861, -0.7673876881599426, -0.686195969581604, -0.6401750445365906, -0.49047014117240906, -0.333391398191452, -0.26809588074684143, -0.19708222150802612, -0.13672296702861786, -0.1320350021123886, -0.10489661246538162, -0.010172060690820217, 0.08499212563037872, 0.15544451773166656, 0.23968879878520966, 0.32164323329925537, 0.3450867235660553, 0.35175567865371704, 0.38884904980659485, 0.3935534656047821, 0.368375301361084, 0.37617066502571106, 0.3593364357948303, 0.30934950709342957, 0.3224852681159973, 0.348110556602478, 0.32167351245880127, 0.3002753257751465, 0.2916780412197113, 0.2529586851596832, 0.17777983844280243, 0.09865047037601471, 0.08210915327072144, 0.05563107132911682, -0.039805106818675995, -0.04936762526631355, -0.03925550729036331, -0.10893887281417847, -0.13134053349494934, -0.11874326318502426, -0.15825499594211578, -0.22979022562503815, -0.2482292503118515, -0.22929303348064423, -0.287860244512558, -0.3270070254802704, -0.2415023297071457, -0.2474977821111679, -0.29302284121513367, -0.22471676766872406, -0.1898631602525711, -0.23645539581775665, -0.2561711072921753, -0.20503751933574677, -0.17785270512104034, 0.11018083244562149, 0.5832558274269104, 0.7045270800590515, 0.7415205836296082, 0.9067228436470032, 0.8378852009773254, 0.6725884079933167, 0.7966952323913574, 0.9819700121879578, 0.961294949054718, 0.8304556608200073, 0.7395627498626709, 0.6176663041114807, 0.40842995047569275, 0.335793137550354, 0.355250746011734, 0.2980750799179077, 0.10823608934879303, -0.18639647960662842, -0.36472877860069275, -0.45185261964797974, -0.5682693719863892, -0.5315768122673035, -0.43139392137527466, -0.5183792114257812, -0.6181250810623169, -0.6677265763282776, -0.7299006581306458, -0.7760215401649475, -0.8271303772926331, -0.7942240238189697, -0.7580698728561401, -0.8232078552246094, -0.8055692911148071, -0.6760968565940857, -0.5608332753181458, -0.4559500813484192, -0.34967291355133057, -0.27256423234939575, -0.24440281093120575, -0.2029828578233719, -0.12186340987682343, -0.05920230224728584, 0.042729105800390244, 0.15954677760601044, 0.1825263947248459, 0.24183788895606995, 0.35928189754486084, 0.3656030595302582, 0.34936925768852234, 0.394479364156723, 0.4081913232803345, 0.35399124026298523, 0.2895352840423584, 0.316238135099411, 0.34859031438827515, 0.3087570369243622, 0.310873419046402, 0.3374025225639343, 0.29676711559295654, 0.228054016828537, 0.17970043420791626, 0.1464754343032837, 0.10176189988851547, 0.033983249217271805, 0.006866705138236284, -0.009599579498171806, -0.0665602907538414, -0.10123546421527863, -0.093958780169487, -0.10829295217990875, -0.18013553321361542, -0.21035847067832947, -0.19860129058361053, -0.2497538924217224, -0.3019202649593353, -0.25112077593803406, -0.23079629242420197, -0.28261375427246094, -0.24405218660831451, -0.2097562849521637, -0.25354060530662537, -0.2422204166650772, -0.16973790526390076, -0.2029305249452591, -0.22991380095481873, -0.20159348845481873, -0.08723943680524826, 0.3505510091781616, 0.6574781537055969, 0.6791298985481262, 0.868421196937561, 0.9880355596542358, 0.7641543745994568, 0.7206107378005981, 0.9727715849876404, 0.9779630303382874, 0.8031225800514221, 0.7835348844528198, 0.7530202269554138, 0.49076399207115173, 0.3755727708339691, 0.4839673936367035, 0.3637542128562927, 0.14352673292160034, -0.054853491485118866, -0.3058190643787384, -0.45554646849632263, -0.5384817719459534, -0.5600453019142151, -0.46480846405029297, -0.46649405360221863, -0.5767971277236938, -0.5836920142173767, -0.5801368951797485, -0.6647353172302246, -0.7336726784706116, -0.7080706357955933, -0.7065576910972595, -0.8244788646697998, -0.8186037540435791, -0.6820082664489746, -0.6253297924995422, -0.5529732704162598, -0.40390437841415405, -0.3106938600540161, -0.31475016474723816, -0.2817813754081726, -0.16445758938789368, -0.11608127504587173, -0.10656049102544785, 0.02309728041291237, 0.1325729340314865, 0.16409140825271606, 0.27577996253967285, 0.3636222779750824, 0.3794689476490021, 0.4032517969608307, 0.3833957314491272, 0.35014331340789795, 0.32973697781562805, 0.3026045560836792, 0.29373976588249207, 0.3213675022125244, 0.35044366121292114, 0.32628998160362244, 0.296435683965683, 0.2902103066444397, 0.24318836629390717, 0.17341496050357819, 0.1341327577829361, 0.07774550467729568, 0.022573841735720634, -0.0034766767639666796, -0.049198005348443985, -0.06996086984872818, -0.08045509457588196, -0.1215711385011673, -0.13831400871276855, -0.15217483043670654, -0.20217953622341156, -0.24649247527122498, -0.26786744594573975, -0.2856875956058502, -0.29831141233444214, -0.29410749673843384, -0.2382722645998001, -0.18707768619060516, -0.2317214161157608, -0.23768852651119232, -0.18506702780723572, -0.2087601125240326, -0.23999875783920288, -0.19218122959136963, -0.16515955328941345, -0.18870878219604492, 0.1357409507036209, 0.6111345887184143, 0.6751642227172852, 0.7421547770500183, 0.9889052510261536, 0.9127373695373535, 0.6950275897979736, 0.8320329785346985, 1.0081948041915894, 0.8965513706207275, 0.7875317335128784, 0.8189268708229065, 0.7054575681686401, 0.47888025641441345, 0.4643635153770447, 0.45375269651412964, 0.25719019770622253, 0.024707753211259842, -0.2403177171945572, -0.4439956843852997, -0.5447857975959778, -0.6136165857315063, -0.5474528670310974, -0.46843376755714417, -0.5424038767814636, -0.6032567024230957, -0.5964568257331848, -0.6524365544319153, -0.7280992269515991, -0.7357296347618103, -0.694985032081604, -0.7329234480857849, -0.8006052374839783, -0.7506669759750366, -0.677629828453064, -0.5702478885650635, -0.4398140609264374, -0.3483944237232208, -0.2955850064754486, -0.2965843677520752, -0.2669197618961334, -0.19996768236160278, -0.13709218800067902, -0.012323129922151566, 0.12646208703517914, 0.1634642481803894, 0.23544587194919586, 0.3487316966056824, 0.34614503383636475, 0.3563876152038574, 0.4374034106731415, 0.4394960105419159, 0.34660500288009644, 0.30490121245384216, 0.3282996118068695, 0.29883164167404175, 0.32656005024909973, 0.40474820137023926, 0.34897467494010925, 0.28420713543891907, 0.2505960762500763, 0.1683240681886673, 0.13277868926525116, 0.11284573376178741, 0.04944717139005661, 0.006868409458547831, -0.019074182957410812, -0.07175029814243317, -0.11288375407457352, -0.10470054298639297, -0.09642427414655685, -0.16268393397331238, -0.22502538561820984, -0.2537519633769989, -0.32632628083229065, -0.3194809556007385, -0.24988611042499542, -0.2554735839366913, -0.25290635228157043, -0.23211434483528137, -0.26352548599243164, -0.28461766242980957, -0.24100124835968018, -0.19776251912117004, -0.17408990859985352, -0.18687820434570312, -0.2206786572933197, -0.19746194779872894, -0.18033097684383392, 0.10222668945789337, 0.5628440380096436, 0.6710439324378967, 0.706916332244873, 0.8654820919036865, 0.8274346590042114, 0.6776551008224487, 0.7893925309181213, 1.029634714126587, 1.0326766967773438, 0.8838852643966675, 0.8285492658615112, 0.7404832243919373, 0.5401396155357361, 0.49531039595603943, 0.537878155708313, 0.46394363045692444, 0.18452052772045135, -0.16475452482700348, -0.321389764547348, -0.4491848349571228, -0.5806527137756348, -0.49413514137268066, -0.35878416895866394, -0.4976133108139038, -0.6974450349807739, -0.6647989749908447, -0.6604487299919128, -0.773870050907135, -0.7025660276412964, -0.5603439807891846, -0.6973977088928223, -0.8494501113891602, -0.7727959752082825, -0.6973366737365723, -0.6336678266525269, -0.4819621443748474, -0.33454662561416626, -0.33096060156822205, -0.3950386643409729, -0.3424183130264282, -0.22196844220161438, -0.14148259162902832, -0.04350768029689789, 0.1023268923163414, 0.15367195010185242, 0.11225210875272751, 0.16200359165668488, 0.3006743788719177, 0.36496520042419434, 0.3816823363304138, 0.4577193856239319, 0.4216946065425873, 0.2946139872074127, 0.30585572123527527, 0.35070639848709106, 0.357160359621048, 0.37091249227523804, 0.35191720724105835, 0.293916791677475, 0.21198461949825287, 0.146084263920784, 0.15851712226867676, 0.1812654584646225, 0.09334621578454971, 0.02430322766304016, 0.017830267548561096, -0.06359992921352386, -0.14880792796611786, -0.11662130057811737, -0.07775533199310303, -0.1572095900774002, -0.22525767982006073, -0.2276773452758789, -0.2516884505748749, -0.3001502752304077, -0.28407102823257446, -0.21856436133384705, -0.226257786154747, -0.28385335206985474, -0.2807970643043518, -0.22556526958942413, -0.25137048959732056, -0.24020658433437347, -0.16488395631313324, -0.17659804224967957, -0.2108282893896103, -0.20019957423210144, -0.15986859798431396, -0.11083264648914337, 0.2060365080833435, 0.5870984792709351, 0.6172165274620056, 0.6536800265312195, 0.7848893404006958, 0.7129500508308411, 0.6284160614013672, 0.8078423738479614, 0.9888283610343933, 0.9723128080368042, 0.8884730935096741, 0.8184771537780762, 0.7003581523895264, 0.5339970588684082, 0.5485883355140686, 0.581182062625885, 0.42591336369514465, 0.21078108251094818, -0.024920277297496796, -0.23562665283679962, -0.40626293420791626, -0.45477840304374695, -0.4044804573059082, -0.4233785569667816, -0.5412073731422424, -0.6395215392112732, -0.6692925691604614, -0.7168797850608826, -0.7377080917358398, -0.7140390276908875, -0.6456042528152466, -0.6853833794593811, -0.8089960217475891, -0.7553949356079102, -0.6716476082801819, -0.6366695165634155, -0.5555809140205383, -0.4216361343860626, -0.3634506165981293, -0.3639439642429352, -0.25175273418426514, -0.15857788920402527, -0.15419991314411163, -0.08552120625972748, 0.033470623195171356, 0.06464926153421402, 0.12455607950687408, 0.22595509886741638, 0.2643088400363922, 0.30002546310424805, 0.3507675230503082, 0.41717174649238586, 0.4142313301563263, 0.38301804661750793, 0.3959933817386627, 0.3687506914138794, 0.31959855556488037, 0.3163509666919708, 0.3268095850944519, 0.2905786633491516, 0.24270355701446533, 0.21032486855983734, 0.1568521112203598, 0.09717446565628052, 0.0816887840628624, 0.07982098311185837, 0.02413480170071125, -0.04774649068713188, -0.08985999971628189, -0.15618395805358887, -0.19279582798480988, -0.17755456268787384, -0.19964732229709625, -0.2246459722518921, -0.22318759560585022, -0.22499176859855652, -0.26564136147499084, -0.28457388281822205, -0.2536964416503906, -0.23728586733341217, -0.2470647692680359, -0.26398783922195435, -0.2544134855270386, -0.24164952337741852, -0.2386600375175476, -0.19158916175365448, -0.14011986553668976, -0.15924133360385895, -0.1647198647260666, -0.14402908086776733, 0.08588787913322449, 0.4530993103981018, 0.4897567629814148, 0.4964664578437805, 0.7046992778778076, 0.6678881645202637, 0.5127231478691101, 0.7116429209709167, 0.9650346040725708, 0.9233717322349548, 0.8190287947654724, 0.8460849523544312, 0.8094399571418762, 0.6071437001228333, 0.619491457939148, 0.7547863721847534, 0.5834275484085083, 0.2968125343322754, 0.14062972366809845, -0.021452507004141808, -0.2197147011756897, -0.2967146635055542, -0.267193466424942, -0.34885311126708984, -0.559046745300293, -0.6363875865936279, -0.6252181529998779, -0.6927998065948486, -0.7288427948951721, -0.694314181804657, -0.6760680079460144, -0.7488450407981873, -0.8228532075881958, -0.7546039819717407, -0.6608344316482544, -0.6304279565811157, -0.572390079498291, -0.4912518858909607, -0.44607067108154297, -0.37091848254203796, -0.2708567678928375, -0.20736780762672424, -0.12171507626771927, -0.06694814562797546, -0.06506741791963577, -0.014744349755346775, 0.1095493733882904, 0.1873178631067276, 0.2100411057472229, 0.32266154885292053, 0.3750486671924591, 0.3202469050884247, 0.33118757605552673, 0.3909357488155365, 0.38900062441825867, 0.35591328144073486, 0.3859679698944092, 0.366501122713089, 0.26936405897140503, 0.22525760531425476, 0.23275405168533325, 0.2108462005853653, 0.17027220129966736, 0.14759118854999542, 0.12549571692943573, 0.07271004468202591, -0.029560323804616928, -0.080350860953331, -0.08094704896211624, -0.13722383975982666, -0.1751951277256012, -0.1499715894460678, -0.1735619753599167, -0.2482263296842575, -0.24577338993549347, -0.2185075879096985, -0.26930108666419983, -0.28365522623062134, -0.20934073626995087, -0.21832282841205597, -0.2899334728717804, -0.24866607785224915, -0.21080006659030914, -0.2633384168148041, -0.24591052532196045, -0.15566803514957428, -0.11144594103097916, -0.16792486608028412, -0.18897172808647156, -0.07855799049139023, -0.10493788868188858, 0.014331605285406113, 0.45500242710113525, 0.5352132320404053, 0.4102013111114502, 0.5637218952178955, 0.6156121492385864, 0.4907640814781189, 0.6652021408081055, 0.982408881187439, 0.9890512228012085, 0.8212306499481201, 0.7693145871162415, 0.74843829870224, 0.6290553212165833, 0.6165244579315186, 0.6994006633758545, 0.6265709400177002, 0.3742320239543915, 0.10580241680145264, 0.0030085209291428328, -0.0670492872595787, -0.2166113704442978, -0.2296968251466751, -0.23203498125076294, -0.48522689938545227, -0.6837993860244751, -0.6614594459533691, -0.6757468581199646, -0.7394483685493469, -0.7235007882118225, -0.6693971753120422, -0.7140713930130005, -0.8056822419166565, -0.7532554864883423, -0.6411308646202087, -0.6324409246444702, -0.5955619215965271, -0.4550771415233612, -0.3916306495666504, -0.37645596265792847, -0.2767181396484375, -0.18983715772628784, -0.14851820468902588, -0.0783434584736824, 0.007638523820787668, 0.0807332918047905, 0.14129087328910828, 0.20162539184093475, 0.2410610318183899, 0.25411665439605713, 0.2992013394832611, 0.3517896234989166, 0.369931161403656, 0.36545246839523315, 0.3484119176864624, 0.3270813822746277, 0.2991565763950348, 0.29102054238319397, 0.31832030415534973, 0.28991204500198364, 0.1839669644832611, 0.14427056908607483, 0.14362742006778717, 0.09404897689819336, 0.05236890912055969, 0.036265041679143906, 0.006844667252153158, -0.08483435213565826, -0.15182405710220337, -0.11784635484218597, -0.123740553855896, -0.19383011758327484, -0.19723163545131683, -0.18755780160427094, -0.2698623538017273, -0.3012961149215698, -0.2208026498556137, -0.2163454294204712, -0.26069554686546326, -0.22743619978427887, -0.2103174477815628, -0.256776362657547, -0.2393932342529297, -0.18507061898708344, -0.1853913962841034, -0.15514244139194489, -0.13202032446861267, -0.14492277801036835, -0.13214224576950073, -0.09545394033193588, -0.11126071959733963, -0.02085316926240921, 0.313147634267807, 0.4631935656070709, 0.42465659976005554, 0.533109188079834, 0.6140245795249939, 0.5153653621673584, 0.5583133697509766, 0.822338879108429, 0.9034457206726074, 0.8115462064743042, 0.8044002056121826, 0.7825121283531189, 0.6237238049507141, 0.5708434581756592, 0.6628862023353577, 0.5826595425605774, 0.38126474618911743, 0.23694679141044617, 0.09730614721775055, -0.07257172465324402, -0.18291372060775757, -0.164059579372406, -0.19388267397880554, -0.3729695975780487, -0.5222314596176147, -0.5702894330024719, -0.6334454417228699, -0.7026975154876709, -0.6802237033843994, -0.6385049819946289, -0.6683967113494873, -0.7242528796195984, -0.6929312348365784, -0.6247031688690186, -0.6124087572097778, -0.5703213810920715, -0.48641449213027954, -0.42887166142463684, -0.3953595459461212, -0.30873042345046997, -0.18517567217350006, -0.1348181515932083, -0.1122022345662117, -0.03357141092419624, 0.050266969949007034, 0.10326773673295975, 0.18900752067565918, 0.2648381292819977, 0.26714882254600525, 0.25515633821487427, 0.2669256925582886, 0.29973307251930237, 0.3183782994747162, 0.3345014452934265, 0.33696696162223816, 0.29116684198379517, 0.251846045255661, 0.22807352244853973, 0.2066344916820526, 0.20187608897686005, 0.19635219871997833, 0.14068438112735748, 0.06922676414251328, 0.027141805738210678, -0.025271786376833916, -0.04261694848537445, -0.01143503189086914, -0.05042598396539688, -0.1330927461385727, -0.14043718576431274, -0.161942258477211, -0.21808366477489471, -0.19860157370567322, -0.17663191258907318, -0.21563197672367096, -0.23571071028709412, -0.21433047950267792, -0.23144324123859406, -0.2477806955575943, -0.20139996707439423, -0.18018466234207153, -0.19206489622592926, -0.17546866834163666, -0.16873373091220856, -0.1675472855567932, -0.13186150789260864, -0.12462208420038223, -0.10822056233882904, -0.08020331710577011, -0.09175433963537216, -0.09461488574743271, -0.011191381141543388, 0.2470172792673111, 0.3999519646167755, 0.38869965076446533, 0.5127342939376831, 0.5942329168319702, 0.5092359185218811, 0.5192958116531372, 0.7134002447128296, 0.8262303471565247, 0.7532212734222412, 0.717467725276947, 0.7418332695960999, 0.6245255470275879, 0.4887942969799042, 0.5532885789871216, 0.5429630279541016, 0.35268649458885193, 0.2062283307313919, 0.1133112758398056, -0.013258643448352814, -0.1687399446964264, -0.17213031649589539, -0.14373779296875, -0.3132837116718292, -0.44047996401786804, -0.4397779405117035, -0.5114337801933289, -0.6027343273162842, -0.5797101259231567, -0.5490609407424927, -0.5949509739875793, -0.6446771025657654, -0.6186357736587524, -0.5799880027770996, -0.5871044397354126, -0.5271776914596558, -0.4496385455131531, -0.4155459403991699, -0.37936627864837646, -0.3215086758136749, -0.232660174369812, -0.18204350769519806, -0.1257631480693817, -0.02670028619468212, 0.04506543651223183, 0.09686970710754395, 0.16549058258533478, 0.2110624462366104, 0.21627718210220337, 0.23777122795581818, 0.2614579200744629, 0.2789040803909302, 0.273820161819458, 0.2734934687614441, 0.2832297086715698, 0.22974266111850739, 0.2093234807252884, 0.21574872732162476, 0.18739163875579834, 0.16740232706069946, 0.13982230424880981, 0.11281269788742065, 0.06808982789516449, 0.016100162640213966, 0.0004201412375550717, -0.013547749258577824, -0.04549048840999603, -0.05345165356993675, -0.07265839725732803, -0.12148924171924591, -0.1315407007932663, -0.1538362056016922, -0.18872590363025665, -0.18144026398658752, -0.1746089905500412, -0.20242951810359955, -0.2170734405517578, -0.1775716245174408, -0.19016945362091064, -0.21545343101024628, -0.16685210168361664, -0.14552290737628937, -0.17328734695911407, -0.15732766687870026, -0.10192669183015823, -0.122341588139534, -0.13177058100700378, -0.09099890291690826, -0.07569550722837448, -0.09782323241233826, -0.09441778063774109, -0.04562969505786896, -0.01809474267065525, 0.18052741885185242, 0.38503000140190125, 0.3734615445137024, 0.40914925932884216, 0.5048410892486572, 0.4742042124271393, 0.42620372772216797, 0.5944269895553589, 0.768420934677124, 0.7069427371025085, 0.6260088682174683, 0.6548701524734497, 0.5687949061393738, 0.4012073278427124, 0.42932993173599243, 0.48038455843925476, 0.33438238501548767, 0.1489955633878708, 0.08606653660535812, 0.009844819083809853, -0.1312253624200821, -0.14428728818893433, -0.08505892753601074, -0.15897420048713684, -0.30942368507385254, -0.3533952236175537, -0.38517311215400696, -0.44966357946395874, -0.47437918186187744, -0.4629991352558136, -0.424416184425354, -0.472028523683548, -0.5384283065795898, -0.5153549909591675, -0.4777638912200928, -0.4767770767211914, -0.4445345997810364, -0.3681190311908722, -0.34534579515457153, -0.32831430435180664, -0.25181809067726135, -0.1823694109916687, -0.12668120861053467, -0.03985391929745674, 0.02188859134912491, 0.061844050884246826, 0.11919421702623367, 0.13462483882904053, 0.13332878053188324, 0.17767080664634705, 0.2237703800201416, 0.2127639204263687, 0.200027734041214, 0.22992295026779175, 0.20506107807159424, 0.13470035791397095, 0.13798344135284424, 0.18115827441215515, 0.1397283673286438, 0.10902436822652817, 0.15265421569347382, 0.11950761079788208, 0.047719188034534454, 0.03975849226117134, 0.057358138263225555, 0.013283642008900642, -0.027429955080151558, -0.013982667587697506, -0.04729359596967697, -0.10891799628734589, -0.11783506721258163, -0.1062537208199501, -0.12435533851385117, -0.13346511125564575, -0.1511087566614151, -0.16382652521133423, -0.1775738000869751, -0.19625960290431976, -0.17687897384166718, -0.15183380246162415, -0.13033947348594666, -0.13657830655574799, -0.14659805595874786, -0.1206674724817276, -0.11056587845087051, -0.12715230882167816, -0.09264785051345825, -0.05971336364746094, -0.09375543147325516, -0.09745166450738907, -0.06418506801128387, -0.0627417117357254, -0.07248403877019882, -0.06586020439863205, 0.030876323580741882, 0.2080548256635666, 0.2849893569946289, 0.31893888115882874, 0.43109843134880066, 0.458184152841568, 0.3809933066368103, 0.4492502212524414, 0.5964627265930176, 0.612201988697052, 0.5831116437911987, 0.5955489277839661, 0.5360547304153442, 0.41012778878211975, 0.3790435492992401, 0.39382463693618774, 0.34459954500198364, 0.22502005100250244, 0.10790562629699707, 0.014012283645570278, -0.09163462370634079, -0.14211465418338776, -0.08910238742828369, -0.06996306031942368, -0.16573691368103027, -0.22518828511238098, -0.276064395904541, -0.35028311610221863, -0.3469175398349762, -0.3159705698490143, -0.31952670216560364, -0.33436065912246704, -0.37115705013275146, -0.4291371703147888, -0.43136176466941833, -0.3999672532081604, -0.3717736303806305, -0.33366742730140686, -0.30346444249153137, -0.29083123803138733, -0.27264994382858276, -0.23560860753059387, -0.17769017815589905, -0.0940074697136879, -0.03769289702177048, -0.007616399321705103, 0.04794711247086525, 0.09067829698324203, 0.0754939615726471, 0.09314001351594925, 0.1579357534646988, 0.15531952679157257, 0.13671261072158813, 0.16338643431663513, 0.1605161875486374, 0.11500847339630127, 0.09741880744695663, 0.11899831891059875, 0.12259280681610107, 0.0978487953543663, 0.09706699103116989, 0.11154358088970184, 0.08142237365245819, 0.04140901565551758, 0.054539330303668976, 0.06651504337787628, 0.02250436320900917, 0.006189591716974974, 0.02766023389995098, -0.016673525795340538, -0.07613006979227066, -0.06817822903394699, -0.06560700386762619, -0.09501084685325623, -0.10340088605880737, -0.11217101663351059, -0.13099047541618347, -0.14070002734661102, -0.15631291270256042, -0.1530032604932785, -0.12434861063957214, -0.12032948434352875, -0.12305276840925217, -0.10095009207725525, -0.10091657191514969, -0.1180095449090004, -0.10272674262523651, -0.08045277744531631, -0.07847721874713898, -0.07998315244913101, -0.06227080523967743, -0.059975285083055496, -0.069401815533638, -0.052784308791160583, -0.04730285704135895, -0.044541239738464355, -0.04354844614863396, 0.03211401402950287, 0.19866815209388733, 0.27110984921455383, 0.2920156717300415, 0.38290414214134216, 0.41882020235061646, 0.35963162779808044, 0.3976455628871918, 0.524564802646637, 0.5619903802871704, 0.5268375873565674, 0.5044885277748108, 0.48492231965065, 0.40300559997558594, 0.31424030661582947, 0.31164389848709106, 0.2890068590641022, 0.1624225527048111, 0.037974610924720764, -0.016896534711122513, -0.08854680508375168, -0.17139039933681488, -0.14332057535648346, -0.10428261756896973, -0.18932084739208221, -0.26098883152008057, -0.26354435086250305, -0.30435293912887573, -0.35448160767555237, -0.33950114250183105, -0.29109472036361694, -0.29168134927749634, -0.33965280652046204, -0.3489910066127777, -0.32522889971733093, -0.33699721097946167, -0.34029990434646606, -0.28722071647644043, -0.24821776151657104, -0.24324850738048553, -0.21958193182945251, -0.18145319819450378, -0.14390631020069122, -0.09680521488189697, -0.02788124606013298, 0.02980746701359749, 0.05741434544324875, 0.08425739407539368, 0.09047367423772812, 0.09170100092887878, 0.10938066989183426, 0.13241930305957794, 0.1512768268585205, 0.14990659058094025, 0.13073183596134186, 0.11325852572917938, 0.10782085359096527, 0.10533345490694046, 0.1137804314494133, 0.11577467620372772, 0.10936927050352097, 0.09410995244979858, 0.07121440023183823, 0.05947449430823326, 0.06261837482452393, 0.06951598078012466, 0.0569269172847271, 0.04942179098725319, 0.030875716358423233, -0.004025422036647797, -0.02791815623641014, -0.04497670754790306, -0.058822039514780045, -0.07549120485782623, -0.08394240587949753, -0.09983803331851959, -0.11982125043869019, -0.1286737322807312, -0.12975342571735382, -0.11853805184364319, -0.11278770864009857, -0.11200118064880371, -0.1003209799528122, -0.08950511366128922, -0.10075059533119202, -0.10848048329353333, -0.08593488484621048, -0.07512852549552917, -0.08199026435613632, -0.06990967690944672, -0.04865822568535805, -0.05549286678433418, -0.0760401263833046, -0.06274484097957611, -0.046877212822437286, -0.052115168422460556, -0.04854927957057953, -0.02530006319284439, -0.023200636729598045, 0.007964531891047955, 0.14287137985229492, 0.24353836476802826, 0.27445754408836365, 0.32008349895477295, 0.3622616231441498, 0.36438918113708496, 0.36657628417015076, 0.42718809843063354, 0.4909432530403137, 0.4860485792160034, 0.4303115904331207, 0.4001918137073517, 0.36375439167022705, 0.30421316623687744, 0.27271661162376404, 0.23986849188804626, 0.16805797815322876, 0.05898560956120491, -0.028756756335496902, -0.08783937245607376, -0.13430005311965942, -0.14629043638706207, -0.15402358770370483, -0.19941958785057068, -0.2493976503610611, -0.2721571624279022, -0.2930985689163208, -0.3149777054786682, -0.31921887397766113, -0.3016551434993744, -0.3007902204990387, -0.33430203795433044, -0.3372284770011902, -0.31154799461364746, -0.3080679774284363, -0.29572364687919617, -0.2553171217441559, -0.22331945598125458, -0.22017154097557068, -0.20052514970302582, -0.16109345853328705, -0.14313575625419617, -0.1165785938501358, -0.054303985089063644, 0.0006885658949613571, 0.022387521341443062, 0.053847961127758026, 0.08940208703279495, 0.0986330583691597, 0.09854445606470108, 0.12471606582403183, 0.15909110009670258, 0.15579909086227417, 0.1469561755657196, 0.16142921149730682, 0.16870497167110443, 0.15911871194839478, 0.16253380477428436, 0.17603963613510132, 0.17351941764354706, 0.14791950583457947, 0.1266264170408249, 0.11505218595266342, 0.09441401064395905, 0.07682523131370544, 0.0696859359741211, 0.06212681159377098, 0.03818434104323387, 0.010562601499259472, -0.011764748953282833, -0.03665268421173096, -0.05698147043585777, -0.07106263935565948, -0.08339516818523407, -0.09667922556400299, -0.10602258145809174, -0.10712079703807831, -0.10619982331991196, -0.10288860648870468, -0.11394934356212616, -0.13229209184646606, -0.13171324133872986, -0.12114724516868591, -0.10635866224765778, -0.09919972717761993, -0.08735109120607376, -0.08615513890981674, -0.10730070620775223, -0.0999533012509346, -0.07593829184770584, -0.07442181557416916, -0.06748351454734802, -0.036248356103897095, -0.033698324114084244, -0.04274525120854378, -0.024669183418154716, -0.010120979510247707, -0.0054872832261025906, -0.0009424998424947262, 0.0069534629583358765, 0.014539314433932304, 0.06942467391490936, 0.15949158370494843, 0.22491978108882904, 0.2941095232963562, 0.3414989411830902, 0.33903104066848755, 0.3246783912181854, 0.3464018404483795, 0.37674781680107117, 0.38113218545913696, 0.3862610161304474, 0.36714163422584534, 0.32667994499206543, 0.2660878300666809, 0.21836324036121368, 0.20743945240974426, 0.16864317655563354, 0.10042447596788406, 0.029287099838256836, -0.05082179233431816, -0.13744014501571655, -0.17758117616176605, -0.16821438074111938, -0.17256732285022736, -0.20195163786411285, -0.22611011564731598, -0.25175806879997253, -0.2973545491695404, -0.31919044256210327, -0.3019099831581116, -0.2905868589878082, -0.31236129999160767, -0.3335781395435333, -0.32812896370887756, -0.3290552496910095, -0.32492971420288086, -0.27611395716667175, -0.21983857452869415, -0.20472702383995056, -0.20160385966300964, -0.17980626225471497, -0.15472900867462158, -0.1317591816186905, -0.08461558818817139, -0.022900301963090897, 0.011464886367321014, 0.027664486318826675, 0.06102166324853897, 0.0920645147562027, 0.09829266369342804, 0.13145583868026733, 0.17611448466777802, 0.1870012730360031, 0.18872565031051636, 0.19049754738807678, 0.18995600938796997, 0.18862630426883698, 0.1931629776954651, 0.20652849972248077, 0.2267298847436905, 0.22350125014781952, 0.1928381472826004, 0.16624987125396729, 0.14243890345096588, 0.11888640373945236, 0.10539045184850693, 0.10430965572595596, 0.08375714719295502, 0.0459817610681057, 0.012635437771677971, -0.01926816627383232, -0.05061008781194687, -0.06863076984882355, -0.06694873422384262, -0.08201626688241959, -0.10472419857978821, -0.1162346675992012, -0.1225246787071228, -0.1280786246061325, -0.13985949754714966, -0.13101519644260406, -0.1264122575521469, -0.13848507404327393, -0.1341024488210678, -0.12869442999362946, -0.13020072877407074, -0.12839339673519135, -0.12539027631282806, -0.12025199085474014, -0.10023248195648193, -0.08586622029542923, -0.07606427371501923, -0.06603114306926727, -0.06435924023389816, -0.05460784211754799, -0.04498182237148285, -0.028606323525309563, -0.005715393926948309, 0.020004646852612495, 0.02262100577354431, 0.013570910319685936, 0.026583846658468246, 0.048191338777542114, 0.10190345346927643, 0.1671825647354126, 0.21691350638866425, 0.24436143040657043, 0.2528406083583832, 0.2646683156490326, 0.2839454412460327, 0.311339408159256, 0.34139910340309143, 0.37125787138938904, 0.3699861764907837, 0.3352217972278595, 0.3002118468284607, 0.2748735845088959, 0.24077141284942627, 0.20381122827529907, 0.17139413952827454, 0.1124114990234375, 0.039767324924468994, -0.023918846622109413, -0.07195005565881729, -0.10418707877397537, -0.12477347254753113, -0.14823244512081146, -0.18551968038082123, -0.22538641095161438, -0.25498467683792114, -0.27075204253196716, -0.2885337471961975, -0.3083553612232208, -0.3226165771484375, -0.3349905014038086, -0.3568621575832367, -0.36137667298316956, -0.33117905259132385, -0.31145262718200684, -0.2989204525947571, -0.276469886302948, -0.2669384479522705, -0.2529364228248596, -0.21141624450683594, -0.16180358827114105, -0.11965109407901764, -0.07753992825746536, -0.04011809825897217, -0.017670607194304466, 0.011528721079230309, 0.05142268165946007, 0.09416834264993668, 0.132086843252182, 0.15204307436943054, 0.16387838125228882, 0.1756744384765625, 0.18389105796813965, 0.18992061913013458, 0.207219198346138, 0.22047770023345947, 0.2150091975927353, 0.2135685682296753, 0.2140941172838211, 0.2020019292831421, 0.1963576376438141, 0.195227712392807, 0.1760379523038864, 0.15102630853652954, 0.1305936723947525, 0.11129137128591537, 0.08937707543373108, 0.057641398161649704, 0.023356398567557335, -0.00016583301476202905, -0.02499130554497242, -0.055403731763362885, -0.06736578047275543, -0.07482774555683136, -0.10586760938167572, -0.13542814552783966, -0.14696581661701202, -0.16014552116394043, -0.1670873910188675, -0.15928319096565247, -0.15890389680862427, -0.17204755544662476, -0.18321925401687622, -0.1759505569934845, -0.16695934534072876, -0.16224634647369385, -0.14421656727790833, -0.13294008374214172, -0.14054623246192932, -0.14828304946422577, -0.1307753622531891, -0.1068778708577156, -0.09209510684013367, -0.0762823298573494, -0.06624164432287216, -0.061289265751838684, -0.06045105308294296, -0.04882509633898735, -0.023016521707177162, -0.0037543633952736855, 0.007302865851670504, 0.04429304599761963, 0.09141737222671509, 0.11873320490121841, 0.16216500103473663, 0.2095731794834137, 0.22547034919261932, 0.2432156652212143, 0.28036579489707947, 0.3054656684398651, 0.32728222012519836, 0.3533138036727905, 0.36181119084358215, 0.3621804714202881, 0.35894179344177246, 0.3434373140335083, 0.33123356103897095, 0.31461021304130554, 0.27321892976760864, 0.23718684911727905, 0.21404694020748138, 0.17517130076885223, 0.14180077612400055, 0.1273413896560669, 0.0903007909655571, 0.033463168889284134, -0.010938703082501888, -0.04538979381322861, -0.08260280638933182, -0.11613977700471878, -0.13981957733631134, -0.17141667008399963, -0.2139119654893875, -0.24822774529457092, -0.2592604160308838, -0.264415979385376, -0.2718578279018402, -0.2729334533214569, -0.269635409116745, -0.27054837346076965, -0.27528175711631775, -0.2555178999900818, -0.22635707259178162, -0.203599750995636, -0.17437399923801422, -0.1452862173318863, -0.12241813540458679, -0.10329342633485794, -0.0821932703256607, -0.060084205120801926, -0.03803975507616997, -0.01515294425189495, 0.01239318959414959, 0.03782101348042488, 0.05617734044790268, 0.07063216716051102, 0.08409472554922104, 0.09635265171527863, 0.10647943615913391, 0.12277689576148987, 0.1393532007932663, 0.14602449536323547, 0.14543700218200684, 0.151054248213768, 0.15619555115699768, 0.15086694061756134, 0.15083912014961243, 0.14948980510234833, 0.1367999166250229, 0.1274396777153015, 0.12442073225975037, 0.11538568139076233, 0.1015685498714447, 0.09391440451145172, 0.0845220610499382, 0.07044314593076706, 0.06286916881799698, 0.058836016803979874, 0.0532250702381134, 0.042440012097358704, 0.026356272399425507, 0.013329439796507359, 0.0048119379207491875, -0.0031824589241296053, -0.006287884432822466, -0.00854312814772129, -0.021607885137200356, -0.03268593177199364, -0.04137907549738884, -0.053136195987463, -0.053072504699230194, -0.05016930773854256, -0.054849643260240555, -0.06619808077812195, -0.06999777257442474, -0.07165701687335968, -0.0716695711016655, -0.06359123438596725, -0.060439590364694595, -0.05400877445936203, -0.05641967058181763, -0.055087894201278687, -0.06024609133601189, 0.00021034790552221239]\n",
      "Training attention_mask: [1, 1, 1, 1, 1, 1, 1, 1, 1, 1, 1, 1, 1, 1, 1, 1, 1, 1, 1, 1, 1, 1, 1, 1, 1, 1, 1, 1, 1, 1, 1, 1, 1, 1, 1, 1, 1, 1, 1, 1, 1, 1, 1, 1, 1, 1, 1, 1, 1, 1, 1, 1, 1, 1, 1, 1, 1, 1, 1, 1, 1, 1, 1, 1, 1, 1, 1, 1, 1, 1, 1, 1, 1, 1, 1, 1, 1, 1, 1, 1, 1, 1, 1, 1, 1, 1, 1, 1, 1, 1, 1, 1, 1, 1, 1, 1, 1, 1, 1, 1, 1, 1, 1, 1, 1, 1, 1, 1, 1, 1, 1, 1, 1, 1, 1, 1, 1, 1, 1, 1, 1, 1, 1, 1, 1, 1, 1, 1, 1, 1, 1, 1, 1, 1, 1, 1, 1, 1, 1, 1, 1, 1, 1, 1, 1, 1, 1, 1, 1, 1, 1, 1, 1, 1, 1, 1, 1, 1, 1, 1, 1, 1, 1, 1, 1, 1, 1, 1, 1, 1, 1, 1, 1, 1, 1, 1, 1, 1, 1, 1, 1, 1, 1, 1, 1, 1, 1, 1, 1, 1, 1, 1, 1, 1, 1, 1, 1, 1, 1, 1, 1, 1, 1, 1, 1, 1, 1, 1, 1, 1, 1, 1, 1, 1, 1, 1, 1, 1, 1, 1, 1, 1, 1, 1, 1, 1, 1, 1, 1, 1, 1, 1, 1, 1, 1, 1, 1, 1, 1, 1, 1, 1, 1, 1, 1, 1, 1, 1, 1, 1, 1, 1, 1, 1, 1, 1, 1, 1, 1, 1, 1, 1, 1, 1, 1, 1, 1, 1, 1, 1, 1, 1, 1, 1, 1, 1, 1, 1, 1, 1, 1, 1, 1, 1, 1, 1, 1, 1, 1, 1, 1, 1, 1, 1, 1, 1, 1, 1, 1, 1, 1, 1, 1, 1, 1, 1, 1, 1, 1, 1, 1, 1, 1, 1, 1, 1, 1, 1, 1, 1, 1, 1, 1, 1, 1, 1, 1, 1, 1, 1, 1, 1, 1, 1, 1, 1, 1, 1, 1, 1, 1, 1, 1, 1, 1, 1, 1, 1, 1, 1, 1, 1, 1, 1, 1, 1, 1, 1, 1, 1, 1, 1, 1, 1, 1, 1, 1, 1, 1, 1, 1, 1, 1, 1, 1, 1, 1, 1, 1, 1, 1, 1, 1, 1, 1, 1, 1, 1, 1, 1, 1, 1, 1, 1, 1, 1, 1, 1, 1, 1, 1, 1, 1, 1, 1, 1, 1, 1, 1, 1, 1, 1, 1, 1, 1, 1, 1, 1, 1, 1, 1, 1, 1, 1, 1, 1, 1, 1, 1, 1, 1, 1, 1, 1, 1, 1, 1, 1, 1, 1, 1, 1, 1, 1, 1, 1, 1, 1, 1, 1, 1, 1, 1, 1, 1, 1, 1, 1, 1, 1, 1, 1, 1, 1, 1, 1, 1, 1, 1, 1, 1, 1, 1, 1, 1, 1, 1, 1, 1, 1, 1, 1, 1, 1, 1, 1, 1, 1, 1, 1, 1, 1, 1, 1, 1, 1, 1, 1, 1, 1, 1, 1, 1, 1, 1, 1, 1, 1, 1, 1, 1, 1, 1, 1, 1, 1, 1, 1, 1, 1, 1, 1, 1, 1, 1, 1, 1, 1, 1, 1, 1, 1, 1, 1, 1, 1, 1, 1, 1, 1, 1, 1, 1, 1, 1, 1, 1, 1, 1, 1, 1, 1, 1, 1, 1, 1, 1, 1, 1, 1, 1, 1, 1, 1, 1, 1, 1, 1, 1, 1, 1, 1, 1, 1, 1, 1, 1, 1, 1, 1, 1, 1, 1, 1, 1, 1, 1, 1, 1, 1, 1, 1, 1, 1, 1, 1, 1, 1, 1, 1, 1, 1, 1, 1, 1, 1, 1, 1, 1, 1, 1, 1, 1, 1, 1, 1, 1, 1, 1, 1, 1, 1, 1, 1, 1, 1, 1, 1, 1, 1, 1, 1, 1, 1, 1, 1, 1, 1, 1, 1, 1, 1, 1, 1, 1, 1, 1, 1, 1, 1, 1, 1, 1, 1, 1, 1, 1, 1, 1, 1, 1, 1, 1, 1, 1, 1, 1, 1, 1, 1, 1, 1, 1, 1, 1, 1, 1, 1, 1, 1, 1, 1, 1, 1, 1, 1, 1, 1, 1, 1, 1, 1, 1, 1, 1, 1, 1, 1, 1, 1, 1, 1, 1, 1, 1, 1, 1, 1, 1, 1, 1, 1, 1, 1, 1, 1, 1, 1, 1, 1, 1, 1, 1, 1, 1, 1, 1, 1, 1, 1, 1, 1, 1, 1, 1, 1, 1, 1, 1, 1, 1, 1, 1, 1, 1, 1, 1, 1, 1, 1, 1, 1, 1, 1, 1, 1, 1, 1, 1, 1, 1, 1, 1, 1, 1, 1, 1, 1, 1, 1, 1, 1, 1, 1, 1, 1, 1, 1, 1, 1, 1, 1, 1, 1, 1, 1, 1, 1, 1, 1, 1, 1, 1, 1, 1, 1, 1, 1, 1, 1, 1, 1, 1, 1, 1, 1, 1, 1, 1, 1, 1, 1, 1, 1, 1, 1, 1, 1, 1, 1, 1, 1, 1, 1, 1, 1, 1, 1, 1, 1, 1, 1, 1, 1, 1, 1, 1, 1, 1, 1, 1, 1, 1, 1, 1, 1, 1, 1, 1, 1, 1, 1, 1, 1, 1, 1, 1, 1, 1, 1, 1, 1, 1, 1, 1, 1, 1, 1, 1, 1, 1, 1, 1, 1, 1, 1, 1, 1, 1, 1, 1, 1, 1, 1, 1, 1, 1, 1, 1, 1, 1, 1, 1, 1, 1, 1, 1, 1, 1, 1, 1, 1, 1, 1, 1, 1, 1, 1, 1, 1, 1, 1, 1, 1, 1, 1, 1, 1, 1, 1, 1, 1, 1, 1, 1, 1, 1, 1, 1, 1, 1, 1, 1, 1, 1, 1, 1, 1, 1, 1, 1, 1, 1, 1, 1, 1, 1, 1, 1, 1, 1, 1, 1, 1, 1, 1, 1, 1, 1, 1, 1, 1, 1, 1, 1, 1, 1, 1, 1, 1, 1, 1, 1, 1, 1, 1, 1, 1, 1, 1, 1, 1, 1, 1, 1, 1, 1, 1, 1, 1, 1, 1, 1, 1, 1, 1, 1, 1, 1, 1, 1, 1, 1, 1, 1, 1, 1, 1, 1, 1, 1, 1, 1, 1, 1, 1, 1, 1, 1, 1, 1, 1, 1, 1, 1, 1, 1, 1, 1, 1, 1, 1, 1, 1, 1, 1, 1, 1, 1, 1, 1, 1, 1, 1, 1, 1, 1, 1, 1, 1, 1, 1, 1, 1, 1, 1, 1, 1, 1, 1, 1, 1, 1, 1, 1, 1, 1, 1, 1, 1, 1, 1, 1, 1, 1, 1, 1, 1, 1, 1, 1, 1, 1, 1, 1, 1, 1, 1, 1, 1, 1, 1, 1, 1, 1, 1, 1, 1, 1, 1, 1, 1, 1, 1, 1, 1, 1, 1, 1, 1, 1, 1, 1, 1, 1, 1, 1, 1, 1, 1, 1, 1, 1, 1, 1, 1, 1, 1, 1, 1, 1, 1, 1, 1, 1, 1, 1, 1, 1, 1, 1, 1, 1, 1, 1, 1, 1, 1, 1, 1, 1, 1, 1, 1, 1, 1, 1, 1, 1, 1, 1, 1, 1, 1, 1, 1, 1, 1, 1, 1, 1, 1, 1, 1, 1, 1, 1, 1, 1, 1, 1, 1, 1, 1, 1, 1, 1, 1, 1, 1, 1, 1, 1, 1, 1, 1, 1, 1, 1, 1, 1, 1, 1, 1, 1, 1, 1, 1, 1, 1, 1, 1, 1, 1, 1, 1, 1, 1, 1, 1, 1, 1, 1, 1, 1, 1, 1, 1, 1, 1, 1, 1, 1, 1, 1, 1, 1, 1, 1, 1, 1, 1, 1, 1, 1, 1, 1, 1, 1, 1, 1, 1, 1, 1, 1, 1, 1, 1, 1, 1, 1, 1, 1, 1, 1, 1, 1, 1, 1, 1, 1, 1, 1, 1, 1, 1, 1, 1, 1, 1, 1, 1, 1, 1, 1, 1, 1, 1, 1, 1, 1, 1, 1, 1, 1, 1, 1, 1, 1, 1, 1, 1, 1, 1, 1, 1, 1, 1, 1, 1, 1, 1, 1, 1, 1, 1, 1, 1, 1, 1, 1, 1, 1, 1, 1, 1, 1, 1, 1, 1, 1, 1, 1, 1, 1, 1, 1, 1, 1, 1, 1, 1, 1, 1, 1, 1, 1, 1, 1, 1, 1, 1, 1, 1, 1, 1, 1, 1, 1, 1, 1, 1, 1, 1, 1, 1, 1, 1, 1, 1, 1, 1, 1, 1, 1, 1, 1, 1, 1, 1, 1, 1, 1, 1, 1, 1, 1, 1, 1, 1, 1, 1, 1, 1, 1, 1, 1, 1, 1, 1, 1, 1, 1, 1, 1, 1, 1, 1, 1, 1, 1, 1, 1, 1, 1, 1, 1, 1, 1, 1, 1, 1, 1, 1, 1, 1, 1, 1, 1, 1, 1, 1, 1, 1, 1, 1, 1, 1, 1, 1, 1, 1, 1, 1, 1, 1, 1, 1, 1, 1, 1, 1, 1, 1, 1, 1, 1, 1, 1, 1, 1, 1, 1, 1, 1, 1, 1, 1, 1, 1, 1, 1, 1, 1, 1, 1, 1, 1, 1, 1, 1, 1, 1, 1, 1, 1, 1, 1, 1, 1, 1, 1, 1, 1, 1, 1, 1, 1, 1, 1, 1, 1, 1, 1, 1, 1, 1, 1, 1, 1, 1, 1, 1, 1, 1, 1, 1, 1, 1, 1, 1, 1, 1, 1, 1, 1, 1, 1, 1, 1, 1, 1, 1, 1, 1, 1, 1, 1, 1, 1, 1, 1, 1, 1, 1, 1, 1, 1, 1, 1, 1, 1, 1, 1, 1, 1, 1, 1, 1, 1, 1, 1, 1, 1, 1, 1, 1, 1, 1, 1, 1, 1, 1, 1, 1, 1, 1, 1, 1, 1, 1, 1, 1, 1, 1, 1, 1, 1, 1, 1, 1, 1, 1, 1, 1, 1, 1, 1, 1, 1, 1, 1, 1, 1, 1, 1, 1, 1, 1, 1, 1, 1, 1, 1, 1, 1, 1, 1, 1, 1, 1, 1, 1, 1, 1, 1, 1, 1, 1, 1, 1, 1, 1, 1, 1, 1, 1, 1, 1, 1, 1, 1, 1, 1, 1, 1, 1, 1, 1, 1, 1, 1, 1, 1, 1, 1, 1, 1, 1, 1, 1, 1, 1, 1, 1, 1, 1, 1, 1, 1, 1, 1, 1, 1, 1, 1, 1, 1, 1, 1, 1, 1, 1, 1, 1, 1, 1, 1, 1, 1, 1, 1, 1, 1, 1, 1, 1, 1, 1, 1, 1, 1, 1, 1, 1, 1, 1, 1, 1, 1, 1, 1, 1, 1, 1, 1, 1, 1, 1, 1, 1, 1, 1, 1, 1, 1, 1, 1, 1, 1, 1, 1, 1, 1, 1, 1, 1, 1, 1, 1, 1, 1, 1, 1, 1, 1, 1, 1, 1, 1, 1, 1, 1, 1, 1, 1, 1, 1, 1, 1, 1, 1, 1, 1, 1, 1, 1, 1, 1, 1, 1, 1, 1, 1, 1, 1, 1, 1, 1, 1, 1, 1, 1, 1, 1, 1, 1, 1, 1, 1, 1, 1, 1, 1, 1, 1, 1, 1, 1, 1, 1, 1, 1, 1, 1, 1, 1, 1, 1, 1, 1, 1, 1, 1, 1, 1, 1, 1, 1, 1, 1, 1, 1, 1, 1, 1, 1, 1, 1, 1, 1, 1, 1, 1, 1, 1, 1, 1, 1, 1, 1, 1, 1, 1, 1, 1, 1, 1, 1, 1, 1, 1, 1, 1, 1, 1, 1, 1, 1, 1, 1, 1, 1, 1, 1, 1, 1, 1, 1, 1, 1, 1, 1, 1, 1, 1, 1, 1, 1, 1, 1, 1, 1, 1, 1, 1, 1, 1, 1, 1, 1, 1, 1, 1, 1, 1, 1, 1, 1, 1, 1, 1, 1, 1, 1, 1, 1, 1, 1, 1, 1, 1, 1, 1, 1, 1, 1, 1, 1, 1, 1, 1, 1, 1, 1, 1, 1, 1, 1, 1, 1, 1, 1, 1, 1, 1, 1, 1, 1, 1, 1, 1, 1, 1, 1, 1, 1, 1, 1, 1, 1, 1, 1, 1, 1, 1, 1, 1, 1, 1, 1, 1, 1, 1, 1, 1, 1, 1, 1, 1, 1, 1, 1, 1, 1, 1, 1, 1, 1, 1, 1, 1, 1, 1, 1, 1, 1, 1, 1, 1, 1, 1, 1, 1, 1, 1, 1, 1, 1, 1, 1, 1, 1, 1, 1, 1, 1, 1, 1, 1, 1, 1, 1, 1, 1, 1, 1, 1, 1, 1, 1, 1, 1, 1, 1, 1, 1, 1, 1, 1, 1, 1, 1, 1, 1, 1, 1, 1, 1, 1, 1, 1, 1, 1, 1, 1, 1, 1, 1, 1, 1, 1, 1, 1, 1, 1, 1, 1, 1, 1, 1, 1, 1, 1, 1, 1, 1, 1, 1, 1, 1, 1, 1, 1, 1, 1, 1, 1, 1, 1, 1, 1, 1, 1, 1, 1, 1, 1, 1, 1, 1, 1, 1, 1, 1, 1, 1, 1, 1, 1, 1, 1, 1, 1, 1, 1, 1, 1, 1, 1, 1, 1, 1, 1, 1, 1, 1, 1, 1, 1, 1, 1, 1, 1, 1, 1, 1, 1, 1, 1, 1, 1, 1, 1, 1, 1, 1, 1, 1, 1, 1, 1, 1, 1, 1, 1, 1, 1, 1, 1, 1, 1, 1, 1, 1, 1, 1, 1, 1, 1, 1, 1, 1, 1, 1, 1, 1, 1, 1, 1, 1, 1, 1, 1, 1, 1, 1, 1, 1, 1, 1, 1, 1, 1, 1, 1, 1, 1, 1, 1, 1, 1, 1, 1, 1, 1, 1, 1, 1, 1, 1, 1, 1, 1, 1, 1, 1, 1, 1, 1, 1, 1, 1, 1, 1, 1, 1, 1, 1, 1, 1, 1, 1, 1, 1, 1, 1, 1, 1, 1, 1, 1, 1, 1, 1, 1, 1, 1, 1, 1, 1, 1, 1, 1, 1, 1, 1, 1, 1, 1, 1, 1, 1, 1, 1, 1, 1, 1, 1, 1, 1, 1, 1, 1, 1, 1, 1, 1, 1, 1, 1, 1, 1, 1, 1, 1, 1, 1, 1, 1, 1, 1, 1, 1, 1, 1, 1, 1, 1, 1, 1, 1, 1, 1, 1, 1, 1, 1, 1, 1, 1, 1, 1, 1, 1, 1, 1, 1, 1, 1, 1, 1, 1, 1, 1, 1, 1, 1, 1, 1, 1, 1, 1, 1, 1, 1, 1, 1, 1, 1, 1, 1, 1, 1, 1, 1, 1, 1, 1, 1, 1, 1, 1, 1, 1, 1, 1, 1, 1, 1, 1, 1, 1, 1, 1, 1, 1, 1, 1, 1, 1, 1, 1, 1, 1, 1, 1, 1, 1, 1, 1, 1, 1, 1, 1, 1, 1, 1, 1, 1, 1, 1, 1, 1, 1, 1, 1, 1, 1, 1, 1, 1, 1, 1, 1, 1, 1, 1, 1, 1, 1, 1, 1, 1, 1, 1, 1, 1, 1, 1, 1, 1, 1, 1, 1, 1, 1, 1, 1, 1, 1, 1, 1, 1, 1, 1, 1, 1, 1, 1, 1, 1, 1, 1, 1, 1, 1, 1, 1, 1, 1, 1, 1, 1, 1, 1, 1, 1, 1, 1, 1, 1, 1, 1, 1, 1, 1, 1, 1, 1, 1, 1, 1, 1, 1, 1, 1, 1, 1, 1, 1, 1, 1, 1, 1, 1, 1, 1, 1, 1, 1, 1, 1, 1, 1, 1, 1, 1, 1, 1, 1, 1, 1, 1, 1, 1, 1, 1, 1, 1, 1, 1, 1, 1, 1, 1, 1, 1, 1, 1, 1, 1, 1, 1, 1, 1, 1, 1, 1, 1, 1, 1, 1, 1, 1, 1, 1, 1, 1, 1, 1, 1, 1, 1, 1, 1, 1, 1, 1, 1, 1, 1, 1, 1, 1, 1, 1, 1, 1, 1, 1, 1, 1, 1, 1, 1, 1, 1, 1, 1, 1, 1, 1, 1, 1, 1, 1, 1, 1, 1, 1, 1, 1, 1, 1, 1, 1, 1, 1, 1, 1, 1, 1, 1, 1, 1, 1, 1, 1, 1, 1, 1, 1, 1, 1, 1, 1, 1, 1, 1, 1, 1, 1, 1, 1, 1, 1, 1, 1, 1, 1, 1, 1, 1, 1, 1, 1, 1, 1, 1, 1, 1, 1, 1, 1, 1, 1, 1, 1, 1, 1, 1, 1, 1, 1, 1, 1, 1, 1, 1, 1, 1, 1, 1, 1, 1, 1, 1, 1, 1, 1, 1, 1, 1, 1, 1, 1, 1, 1, 1, 1, 1, 1, 1, 1, 1, 1, 1, 1, 1, 1, 1, 1, 1, 1, 1, 1, 1, 1, 1, 1, 1, 1, 1, 1, 1, 1, 1, 1, 1, 1, 1, 1, 1, 1, 1, 1, 1, 1, 1, 1, 1, 1, 1, 1, 1, 1, 1, 1, 1, 1, 1, 1, 1, 1, 1, 1, 1, 1, 1, 1, 1, 1, 1, 1, 1, 1, 1, 1, 1, 1, 1, 1, 1, 1, 1, 1, 1, 1, 1, 1, 1, 1, 1, 1, 1, 1, 1, 1, 1, 1, 1, 1, 1, 1, 1, 1, 1, 1, 1, 1, 1, 1, 1, 1, 1, 1, 1, 1, 1, 1, 1, 1, 1, 1, 1, 1, 1, 1, 1, 1, 1, 1, 1, 1, 1, 1, 1, 1, 1, 1, 1, 1, 1, 1, 1, 1, 1, 1, 1, 1, 1, 1, 1, 1, 1, 1, 1, 1, 1, 1, 1, 1, 1, 1, 1, 1, 1, 1, 1, 1, 1, 1, 1, 1, 1, 1, 1, 1, 1, 1, 1, 1, 1, 1, 1, 1, 1, 1, 1, 1, 1, 1, 1, 1, 1, 1, 1, 1, 1, 1, 1, 1, 1, 1, 1, 1, 1, 1, 1, 1, 1, 1, 1, 1, 1, 1, 1, 1, 1, 1, 1, 1, 1, 1, 1, 1, 1, 1, 1, 1, 1, 1, 1, 1, 1, 1, 1, 1, 1, 1, 1, 1, 1, 1, 1, 1, 1, 1, 1, 1, 1, 1, 1, 1, 1, 1, 1, 1, 1, 1, 1, 1, 1, 1, 1, 1, 1, 1, 1, 1, 1, 1, 1, 1, 1, 1, 1, 1, 1, 1, 1, 1, 1, 1, 1, 1, 1, 1, 1, 1, 1, 1, 1, 1, 1, 1, 1, 1, 1, 1, 1, 1, 1, 1, 1, 1, 1, 1, 1, 1, 1, 1, 1, 1, 1, 1, 1, 1, 1, 1, 1, 1, 1, 1, 1, 1, 1, 1, 1, 1, 1, 1, 1, 1, 1, 1, 1, 1, 1, 1, 1, 1, 1, 1, 1, 1, 1, 1, 1, 1, 1, 1, 1, 1, 1, 1, 1, 1, 1, 1, 1, 1, 1, 1, 1, 1, 1, 1, 1, 1, 1, 1, 1, 1, 1, 1, 1, 1, 1, 1, 1, 1, 1, 1, 1, 1, 1, 1, 1, 1, 1, 1, 1, 1, 1, 1, 1, 1, 1, 1, 1, 1, 1, 1, 1, 1, 1, 1, 1, 1, 1, 1, 1, 1, 1, 1, 1, 1, 1, 1, 1, 1, 1, 1, 1, 1, 1, 1, 1, 1, 1, 1, 1, 1, 1, 1, 1, 1, 1, 1, 1, 1, 1, 1, 1, 1, 1, 1, 1, 1, 1, 1, 1, 1, 1, 1, 1, 1, 1, 1, 1, 1, 1, 1, 1, 1, 1, 1, 1, 1, 1, 1, 1, 1, 1, 1, 1, 1, 1, 1, 1, 1, 1, 1, 1, 1, 1, 1, 1, 1, 1, 1, 1, 1, 1, 1, 1, 1, 1, 1, 1, 1, 1, 1, 1, 1, 1, 1, 1, 1, 1, 1, 1, 1, 1, 1, 1, 1, 1, 1, 1, 1, 1, 1, 1, 1, 1, 1, 1, 1, 1, 1, 1, 1, 1, 1, 1, 1, 1, 1, 1, 1, 1, 1, 1, 1, 1, 1, 1, 1, 1, 1, 1, 1, 1, 1, 1, 1, 1, 1, 1, 1, 1, 1, 1, 1, 1, 1, 1, 1, 1, 1, 1, 1, 1, 1, 1, 1, 1, 1, 1, 1, 1, 1, 1, 1, 1, 1, 1, 1, 1, 1, 1, 1, 1, 1, 1, 1, 1, 1, 1, 1, 1, 1, 1, 1, 1, 1, 1, 1, 1, 1, 1, 1, 1, 1, 1, 1, 1, 1, 1, 1, 1, 1, 1, 1, 1, 1, 1, 1, 1, 1, 1, 1, 1, 1, 1, 1, 1, 1, 1, 1, 1, 1, 1, 1, 1, 1, 1, 1, 1, 1, 1, 1, 1, 1, 1, 1, 1, 1, 1, 1, 1, 1, 1, 1, 1, 1, 1, 1, 1, 1, 1, 1, 1, 1, 1, 1, 1, 1, 1, 1, 1, 1, 1, 1, 1, 1, 1, 1, 1, 1, 1, 1, 1, 1, 1, 1, 1, 1, 1, 1, 1, 1, 1, 1, 1, 1, 1, 1, 1, 1, 1, 1, 1, 1, 1, 1, 1, 1, 1, 1, 1, 1, 1, 1, 1, 1, 1, 1, 1, 1, 1, 1, 1, 1, 1, 1, 1, 1, 1, 1, 1, 1, 1, 1, 1, 1, 1, 1, 1, 1, 1, 1, 1, 1, 1, 1, 1, 1, 1, 1, 1, 1, 1, 1, 1, 1, 1, 1, 1, 1, 1, 1, 1, 1, 1, 1, 1, 1, 1, 1, 1, 1, 1, 1, 1, 1, 1, 1, 1, 1, 1, 1, 1, 1, 1, 1, 1, 1, 1, 1, 1, 1, 1, 1, 1, 1, 1, 1, 1, 1, 1, 1, 1, 1, 1, 1, 1, 1, 1, 1, 1, 1, 1, 1, 1, 1, 1, 1, 1, 1, 1, 1, 1, 1, 1, 1, 1, 1, 1, 1, 1, 1, 1, 1, 1, 1, 1, 1, 1, 1, 1, 1, 1, 1, 1, 1, 1, 1, 1, 1, 1, 1, 1, 1, 1, 1, 1, 1, 1, 1, 1, 1, 1, 1, 1, 1, 1, 1, 1, 1, 1, 1, 1, 1, 1, 1, 1, 1, 1, 1, 1, 1, 1, 1, 1, 1, 1, 1, 1, 1, 1, 1, 1, 1, 1, 1, 1, 1, 1, 1, 1, 1, 1, 1, 1, 1, 1, 1, 1, 1, 1, 1, 1, 1, 1, 1, 1, 1, 1, 1, 1, 1, 1, 1, 1, 1, 1, 1, 1, 1, 1, 1, 1, 1, 1, 1, 1, 1, 1, 1, 1, 1, 1, 1, 1, 1, 1, 1, 1, 1, 1, 1, 1, 1, 1, 1, 1, 1, 1, 1, 1, 1, 1, 1, 1, 1, 1, 1, 1, 1, 1, 1, 1, 1, 1, 1, 1, 1, 1, 1, 1, 1, 1, 1, 1, 1, 1, 1, 1, 1, 1, 1, 1, 1, 1, 1, 1, 1, 1, 1, 1, 1, 1, 1, 1, 1, 1, 1, 1, 1, 1, 1, 1, 1, 1, 1, 1, 1, 1, 1, 1, 1, 1, 1, 1, 1, 1, 1, 1, 1, 1, 1, 1, 1, 1, 1, 1, 1, 1, 1, 1, 1, 1, 1, 1, 1, 1, 1, 1, 1, 1, 1, 1, 1, 1, 1, 1, 1, 1, 1, 1, 1, 1, 1, 1, 1, 1, 1, 1, 1, 1, 1, 1, 1, 1, 1, 1, 1, 1, 1, 1, 1, 1, 1, 1, 1, 1, 1, 1, 1, 1, 1, 1, 1, 1, 1, 1, 1, 1, 1, 1, 1, 1, 1, 1, 1, 1, 1, 1, 1, 1, 1, 1, 1, 1, 1, 1, 1, 1, 1, 1, 1, 1, 1, 1, 1, 1, 1, 1, 1, 1, 1, 1, 1, 1, 1, 1, 1, 1, 1, 1, 1, 1, 1, 1, 1, 1, 1, 1, 1, 1, 1, 1, 1, 1, 1, 1, 1, 1, 1, 1, 1, 1, 1, 1, 1, 1, 1, 1, 1, 1, 1, 1, 1, 1, 1, 1, 1, 1, 1, 1, 1, 1, 1, 1, 1, 1, 1, 1, 1, 1, 1, 1, 1, 1, 1, 1, 1, 1, 1, 1, 1, 1, 1, 1, 1, 1, 1, 1, 1, 1, 1, 1, 1, 1, 1, 1, 1, 1, 1, 1, 1, 1, 1, 1, 1, 1, 1, 1, 1, 1, 1, 1, 1, 1, 1, 1, 1, 1, 1, 1, 1, 1, 1, 1, 1, 1, 1, 1, 1, 1, 1, 1, 1, 1, 1, 1, 1, 1, 1, 1, 1, 1, 1, 1, 1, 1, 1, 1, 1, 1, 1, 1, 1, 1, 1, 1, 1, 1, 1, 1, 1, 1, 1, 1, 1, 1, 1, 1, 1, 1, 1, 1, 1, 1, 1, 1, 1, 1, 1, 1, 1, 1, 1, 1, 1, 1, 1, 1, 1, 1, 1, 1, 1, 1, 1, 1, 1, 1, 1, 1, 1, 1, 1, 1, 1, 1, 1, 1, 1, 1, 1, 1, 1, 1, 1, 1, 1, 1, 1, 1, 1, 1, 1, 1, 1, 1, 1, 1, 1, 1, 1, 1, 1, 1, 1, 1, 1, 1, 1, 1, 1, 1, 1, 1, 1, 1, 1, 1, 1, 1, 1, 1, 1, 1, 1, 1, 1, 1, 1, 1, 1, 1, 1, 1, 1, 1, 1, 1, 1, 1, 1, 1, 1, 1, 1, 1, 1, 1, 1, 1, 1, 1, 1, 1, 1, 1, 1, 1, 1, 1, 1, 1, 1, 1, 1, 1, 1, 1, 1, 1, 1, 1, 1, 1, 1, 1, 1, 1, 1, 1, 1, 1, 1, 1, 1, 1, 1, 1, 1, 1, 1, 1, 1, 1, 1, 1, 1, 1, 1, 1, 1, 1, 1, 1, 1, 1, 1, 1, 1, 1, 1, 1, 1, 1, 1, 1, 1, 1, 1, 1, 1, 1, 1, 1, 1, 1, 1, 1, 1, 1, 1, 1, 1, 1, 1, 1, 1, 1, 1, 1, 1, 1, 1, 1, 1, 1, 1, 1, 1, 1, 1, 1, 1, 1, 1, 1, 1, 1, 1, 1, 1, 1, 1, 1, 1, 1, 1, 1, 1, 1, 1, 1, 1, 1, 1, 1, 1, 1, 1, 1, 1, 1, 1, 1, 1, 1, 1, 1, 1, 1, 1, 1, 1, 1, 1, 1, 1, 1, 1, 1, 1, 1, 1, 1, 1, 1, 1, 1, 1, 1, 1, 1, 1, 1, 1, 1, 1, 1, 1, 1, 1, 1, 1, 1, 1, 1, 1, 1, 1, 1, 1, 1, 1, 1, 1, 1, 1, 1, 1, 1, 1, 1, 1, 1, 1, 1, 1, 1, 1, 1, 1, 1, 1, 1, 1, 1, 1, 1, 1, 1, 1, 1, 1, 1, 1, 1, 1, 1, 1, 1, 1, 1, 1, 1, 1, 1, 1, 1, 1, 1, 1, 1, 1, 1, 1, 1, 1, 1, 1, 1, 1, 1, 1, 1, 1, 1, 1, 1, 1, 1, 1, 1, 1, 1, 1, 1, 1, 1, 1, 1, 1, 1, 1, 1, 1, 1, 1, 1, 1, 1, 1, 1, 1, 1, 1, 1, 1, 1, 1, 1, 1, 1, 1, 1, 1, 1, 1, 1, 1, 1, 1, 1, 1, 1, 1, 1, 1, 1, 1, 1, 1, 1, 1, 1, 1, 1, 1, 1, 1, 1, 1, 1, 1, 1, 1, 1, 1, 1, 1, 1, 1, 1, 1, 1, 1, 1, 1, 1, 1, 1, 1, 1, 1, 1, 1, 1, 1, 1, 1, 1, 1, 1, 1, 1, 1, 1, 1, 1, 1, 1, 1, 1, 1, 1, 1, 1, 1, 1, 1, 1, 1, 1, 1, 1, 1, 1, 1, 1, 1, 1, 1, 1, 1, 1, 1, 1, 1, 1, 1, 1, 1, 1, 1, 1, 1, 1, 1, 1, 1, 1, 1, 1, 1, 1, 1, 1, 1, 1, 1, 1, 1, 1, 1, 1, 1, 1, 1, 1, 1, 1, 1, 1, 1, 1, 1, 1, 1, 1, 1, 1, 1, 1, 1, 1, 1, 1, 1, 1, 1, 1, 1, 1, 1, 1, 1, 1, 1, 1, 1, 1, 1, 1, 1, 1, 1, 1, 1, 1, 1, 1, 1, 1, 1, 1, 1, 1, 1, 1, 1, 1, 1, 1, 1, 1, 1, 1, 1, 1, 1, 1, 1, 1, 1, 1, 1, 1, 1, 1, 1, 1, 1, 1, 1, 1, 1, 1, 1, 1, 1, 1, 1, 1, 1, 1, 1, 1, 1, 1, 1, 1, 1, 1, 1, 1, 1, 1, 1, 1, 1, 1, 1, 1, 1, 1, 1, 1, 1, 1, 1, 1, 1, 1, 1, 1, 1, 1, 1, 1, 1, 1, 1, 1, 1, 1, 1, 1, 1, 1, 1, 1, 1, 1, 1, 1, 1, 1, 1, 1, 1, 1, 1, 1, 1, 1, 1, 1, 1, 1, 1, 1, 1, 1, 1, 1, 1, 1, 1, 1, 1, 1, 1, 1, 1, 1, 1, 1, 1, 1, 1, 1, 1, 1, 1, 1, 1, 1, 1, 1, 1, 1, 1, 1, 1, 1, 1, 1, 1, 1, 1, 1, 1, 1, 1, 1, 1, 1, 1, 1, 1, 1, 1, 1, 1, 1, 1, 1, 1, 1, 1, 1, 1, 1, 1, 1, 1, 1, 1, 1, 1, 1, 1, 1, 1, 1, 1, 1, 1, 1, 1, 1, 1, 1, 1, 1, 1, 1, 1, 1, 1, 1, 1, 1, 1, 1, 1, 1, 1, 1, 1, 1, 1, 1, 1, 1, 1, 1, 1, 1, 1, 1, 1, 1, 1, 1, 1, 1, 1, 1, 1, 1, 1, 1, 1, 1, 1, 1, 1, 1, 1, 1, 1, 1, 1, 1, 1, 1, 1, 1, 1, 1, 1, 1, 1, 1, 1, 1, 1, 1, 1, 1, 1, 1, 1, 1, 1, 1, 1, 1, 1, 1, 1, 1, 1, 1, 1, 1, 1, 1, 1, 1, 1, 1, 1, 1, 1, 1, 1, 1, 1, 1, 1, 1, 1, 1, 1, 1, 1, 1, 1, 1, 1, 1, 1, 1, 1, 1, 1, 1, 1, 1, 1, 1, 1, 1, 1, 1, 1, 1, 1, 1, 1, 1, 1, 1, 1, 1, 1, 1, 1, 1, 1, 1, 1, 1, 1, 1, 1, 1, 1, 1, 1, 1, 1, 1, 1, 1, 1, 1, 1, 1, 1, 1, 1, 1, 1, 1, 1, 1, 1, 1, 1, 1, 1, 1, 1, 1, 1, 1, 1, 1, 1, 1, 1, 1, 1, 1, 1, 1, 1, 1, 1, 1, 1, 1, 1, 1, 1, 1, 1, 1, 1, 1, 1, 1, 1, 1, 1, 1, 1, 1, 1, 1, 1, 1, 1, 1, 1, 1, 1, 1, 1, 1, 1, 1, 1, 1, 1, 1, 1, 1, 1, 1, 1, 1, 1, 1, 1, 1, 1, 1, 1, 1, 1, 1, 1, 1, 1, 1, 1, 1, 1, 1, 1, 1, 1, 1, 1, 1, 1, 1, 1, 1, 1, 1, 1, 1, 1, 1, 1, 1, 1, 1, 1, 1, 1, 1, 1, 1, 1, 1, 1, 1, 1, 1, 1, 1, 1, 1, 1, 1, 1, 1, 1, 1, 1, 1, 1, 1, 1, 1, 1, 1, 1, 1, 1, 1, 1, 1, 1, 1, 1, 1, 1, 1, 1, 1, 1, 1, 1, 1, 1, 1, 1, 1, 1, 1, 1, 1, 1, 1, 1, 1, 1, 1, 1, 1, 1, 1, 1, 1, 1, 1, 1, 1, 1, 1, 1, 1, 1, 1, 1, 1, 1, 1, 1, 1, 1, 1, 1, 1, 1, 1, 1, 1, 1, 1, 1, 1, 1, 1, 1, 1, 1, 1, 1, 1, 1, 1, 1, 1, 1, 1, 1, 1, 1, 1, 1, 1, 1, 1, 1, 1, 1, 1, 1, 1, 1, 1, 1, 1, 1, 1, 1, 1, 1, 1, 1, 1, 1, 1, 1, 1, 1, 1, 1, 1, 1, 1, 1, 1, 1, 1, 1, 1, 1, 1, 1, 1, 1, 1, 1, 1, 1, 1, 1, 1, 1, 1, 1, 1, 1, 1, 1, 1, 1, 1, 1, 1, 1, 1, 1, 1, 1, 1, 1, 1, 1, 1, 1, 1, 1, 1, 1, 1, 1, 1, 1, 1, 1, 1, 1, 1, 1, 1, 1, 1, 1, 1, 1, 1, 1, 1, 1, 1, 1, 1, 1, 1, 1, 1, 1, 1, 1, 1, 1, 1, 1, 1, 1, 1, 1, 1, 1, 1, 1, 1, 1, 1, 1, 1, 1, 1, 1, 1, 1, 1, 1, 1, 1, 1, 1, 1, 1, 1, 1, 1, 1, 1, 1, 1, 1, 1, 1, 1, 1, 1, 1, 1, 1, 1, 1, 1, 1, 1, 1, 1, 1, 1, 1, 1, 1, 1, 1, 1, 1, 1, 1, 1, 1, 1, 1, 1, 1, 1, 1, 1, 1, 1, 1, 1, 1, 1, 1, 1, 1, 1, 1, 1, 1, 1, 1, 1, 1, 1, 1, 1, 1, 1, 1, 1, 1, 1, 1, 1, 1, 1, 1, 1, 1, 1, 1, 1, 1, 1, 1, 1, 1, 1, 1, 1, 1, 1, 1, 1, 1, 1, 1, 1, 1, 1, 1, 1, 1, 1, 1, 1, 1, 1, 1, 1, 1, 1, 1, 1, 1, 1, 1, 1, 1, 1, 1, 1, 1, 1, 1, 1, 1, 1, 1, 1, 1, 1, 1, 1, 1, 1, 1, 1, 1, 1, 1, 1, 1, 1, 1, 1, 1, 1, 1, 1, 1, 1, 1, 1, 1, 1, 1, 1, 1, 1, 1, 1, 1, 1, 1, 1, 1, 1, 1, 1, 1, 1, 1, 1, 1, 1, 1, 1, 1, 1, 1, 1, 1, 1, 1, 1, 1, 1, 1, 1, 1, 1, 1, 1, 1, 1, 1, 1, 1, 1, 1, 1, 1, 1, 1, 1, 1, 1, 1, 1, 1, 1, 1, 1, 1, 1, 1, 1, 1, 1, 1, 1, 1, 1, 1, 1, 1, 1, 1, 1, 1, 1, 1, 1, 1, 1, 1, 1, 1, 1, 1, 1, 1, 1, 1, 1, 1, 1, 1, 1, 1, 1, 1, 1, 1, 1, 1, 1, 1, 1, 1, 1, 1, 1, 1, 1, 1, 1, 1, 1, 1, 1, 1, 1, 1, 1, 1, 1, 1, 1, 1, 1, 1, 1, 1, 1, 1, 1, 1, 1, 1, 1, 1, 1, 1, 1, 1, 1, 1, 1, 1, 1, 1, 1, 1, 1, 1, 1, 1, 1, 1, 1, 1, 1, 1, 1, 1, 1, 1, 1, 1, 1, 1, 1, 1, 1, 1, 1, 1, 1, 1, 1, 1, 1, 1, 1, 1, 1, 1, 1, 1, 1, 1, 1, 1, 1, 1, 1, 1, 1, 1, 1, 1, 1, 1, 1, 1, 1, 1, 1, 1, 1, 1, 1, 1, 1, 1, 1, 1, 1, 1, 1, 1, 1, 1, 1, 1, 1, 1, 1, 1, 1, 1, 1, 1, 1, 1, 1, 1, 1, 1, 1, 1, 1, 1, 1, 1, 1, 1, 1, 1, 1, 1, 1, 1, 1, 1, 1, 1, 1, 1, 1, 1, 1, 1, 1, 1, 1, 1, 1, 1, 1, 1, 1, 1, 1, 1, 1, 1, 1, 1, 1, 1, 1, 1, 1, 1, 1, 1, 1, 1, 1, 1, 1, 1, 1, 1, 1, 1, 1, 1, 1, 1, 1, 1, 1, 1, 1, 1, 1, 1, 1, 1, 1, 1, 1, 1, 1, 1, 1, 1, 1, 1, 1, 1, 1, 1, 1, 1, 1, 1, 1, 1, 1, 1, 1, 1, 1, 1, 1, 1, 1, 1, 1, 1, 1, 1, 1, 1, 1, 1, 1, 1, 1, 1, 1, 1, 1, 1, 1, 1, 1, 1, 1, 1, 1, 1, 1, 1, 1, 1, 1, 1, 1, 1, 1, 1, 1, 1, 1, 1, 1, 1, 1, 1, 1, 1, 1, 1, 1, 1, 1, 1, 1, 1, 1, 1, 1, 1, 1, 1, 1, 1, 1, 1, 1, 1, 1, 1, 1, 1, 1, 1, 1, 1, 1, 1, 1, 1, 1, 1, 1, 1, 1, 1, 1, 1, 1, 1, 1, 1, 1, 1, 1, 1, 1, 1, 1, 1, 1, 1, 1, 1, 1, 1, 1, 1, 1, 1, 1, 1, 1, 1, 1, 1, 1, 1, 1, 1, 1, 1, 1, 1, 1, 1, 1, 1, 1, 1, 1, 1, 1, 1, 1, 1, 1, 1, 1, 1, 1, 1, 1, 1, 1, 1, 1, 1, 1, 1, 1, 1, 1, 1, 1, 1, 1, 1, 1, 1, 1, 1, 1, 1, 1, 1, 1, 1, 1, 1, 1, 1, 1, 1, 1, 1, 1, 1, 1, 1, 1, 1, 1, 1, 1, 1, 1, 1, 1, 1, 1, 1, 1, 1, 1, 1, 1, 1, 1, 1, 1, 1, 1, 1, 1, 1, 1, 1, 1, 1, 1, 1, 1, 1, 1, 1, 1, 1, 1, 1, 1, 1, 1, 1, 1, 1, 1, 1, 1, 1, 1, 1, 1, 1, 1, 1, 1, 1, 1, 1, 1, 1, 1, 1, 1, 1, 1, 1, 1, 1, 1, 1, 1, 1, 1, 1, 1, 1, 1, 1, 1, 1, 1, 1, 1, 1, 1, 1, 1, 1, 1, 1, 1, 1, 1, 1, 1, 1, 1, 1, 1, 1, 1, 1, 1, 1, 1, 1, 1, 1, 1, 1, 1, 1, 1, 1, 1, 1, 1, 1, 1, 1, 1, 1, 1, 1, 1, 1, 1, 1, 1, 1, 1, 1, 1, 1, 1, 1, 1, 1, 1, 1, 1, 1, 1, 1, 1, 1, 1, 1, 1, 1, 1, 1, 1, 1, 1, 1, 1, 1, 1, 1, 1, 1, 1, 1, 1, 1, 1, 1, 1, 1, 1, 1, 1, 1, 1, 1, 1, 1, 1, 1, 1, 1, 1, 1, 1, 1, 1, 1, 1, 1, 1, 1, 1, 1, 1, 1, 1, 1, 1, 1, 1, 1, 1, 1, 1, 1, 1, 1, 1, 1, 1, 1, 1, 1, 1, 1, 1, 1, 1, 1, 1, 1, 1, 1, 1, 1, 1, 1, 1, 1, 1, 1, 1, 1, 1, 1, 1, 1, 1, 1, 1, 1, 1, 1, 1, 1, 1, 1, 1, 1, 1, 1, 1, 1, 1, 1, 1, 1, 1, 1, 1, 1, 1, 1, 1, 1, 1, 1, 1, 1, 1, 1, 1, 1, 1, 1, 1, 1, 1, 1, 1, 1, 1, 1, 1, 1, 1, 1, 1, 1, 1, 1, 1, 1, 1, 1, 1, 1, 1, 1, 1, 1, 1, 1, 1, 1, 1, 1, 1, 1, 1, 1, 1, 1, 1, 1, 1, 1, 1, 1, 1, 1, 1, 1, 1, 1, 1, 1, 1, 1, 1, 1, 1, 1, 1, 1, 1, 1, 1, 1, 1, 1, 1, 1, 1, 1, 1, 1, 1, 1, 1, 1, 1, 1, 1, 1, 1, 1, 1, 1, 1, 1, 1, 1, 1, 1, 1, 1, 1, 1, 1, 1, 1, 1, 1, 1, 1, 1, 1, 1, 1, 1, 1, 1, 1, 1, 1, 1, 1, 1, 1, 1, 1, 1, 1, 1, 1, 1, 1, 1, 1, 1, 1, 1, 1, 1, 1, 1, 1, 1, 1, 1, 1, 1, 1, 1, 1, 1, 1, 1, 1, 1, 1, 1, 1, 1, 1, 1, 1, 1, 1, 1, 1, 1, 1, 1, 1, 1, 1, 1, 1, 1, 1, 1, 1, 1, 1, 1, 1, 1, 1, 1, 1, 1, 1, 1, 1, 1, 1, 1, 1, 1, 1, 1, 1, 1, 1, 1, 1, 1, 1, 1, 1, 1, 1, 1, 1, 1, 1, 1, 1, 1, 1, 1, 1, 1, 1, 1, 1, 1, 1, 1, 1, 1, 1, 1, 1, 1, 1, 1, 1, 1, 1, 1, 1, 1, 1, 1, 1, 1, 1, 1, 1, 1, 1, 1, 1, 1, 1, 1, 1, 1, 1, 1, 1, 1, 1, 1, 1, 1, 1, 1, 1, 1, 1, 1, 1, 1, 1, 1, 1, 1, 1, 1, 1, 1, 1, 1, 1, 1, 1, 1, 1, 1, 1, 1, 1, 1, 1, 1, 1, 1, 1, 1, 1, 1, 1, 1, 1, 1, 1, 1, 1, 1, 1, 1, 1, 1, 1, 1, 1, 1, 1, 1, 1, 1, 1, 1, 1, 1, 1, 1, 1, 1, 1, 1, 1, 1, 1, 1, 1, 1, 1, 1, 1, 1, 1, 1, 1, 1, 1, 1, 1, 1, 1, 1, 1, 1, 1, 1, 1, 1, 1, 1, 1, 1, 1, 1, 1, 1, 1, 1, 1, 1, 1, 1, 1, 1, 1, 1, 1, 1, 1, 1, 1, 1, 1, 1, 1, 1, 1, 1, 1, 1, 1, 1, 1, 1, 1, 1, 1, 1, 1, 1, 1, 1, 1, 1, 1, 1, 1, 1, 1, 1, 1, 1, 1, 1, 1, 1, 1, 1, 1, 1, 1, 1, 1, 1, 1, 1, 1, 1, 1, 1, 1, 1, 1, 1, 1, 1, 1, 1, 1, 1, 1, 1, 1, 1, 1, 1, 1, 1, 1, 1, 1, 1, 1, 1, 1, 1, 1, 1, 1, 1, 1, 1, 1, 1, 1, 1, 1, 1, 1, 1, 1, 1, 1, 1, 1, 1, 1, 1, 1, 1, 1, 1, 1, 1, 1, 1, 1, 1, 1, 1, 1, 1, 1, 1, 1, 1, 1, 1, 1, 1, 1, 1, 1, 1, 1, 1, 1, 1, 1, 1, 1, 1, 1, 1, 1, 1, 1, 1, 1, 1, 1, 1, 1, 1, 1, 1, 1, 1, 1, 1, 1, 1, 1, 1, 1, 1, 1, 1, 1, 1, 1, 1, 1, 1, 1, 1, 1, 1, 1, 1, 1, 1, 1, 1, 1, 1, 1, 1, 1, 1, 1, 1, 1, 1, 1, 1, 1, 1, 1, 1, 1, 1, 1, 1, 1, 1, 1, 1, 1, 1, 1, 1, 1, 1, 1, 1, 1, 1, 1, 1, 1, 1, 1, 1, 1, 1, 1, 1, 1, 1, 1, 1, 1, 1, 1, 1, 1, 1, 1, 1, 1, 1, 1, 1, 1, 1, 1, 1, 1, 1, 1, 1, 1, 1, 1, 1, 1, 1, 1, 1, 1, 1, 1, 1, 1, 1, 1, 1, 1, 1, 1, 1, 1, 1, 1, 1, 1, 1, 1, 1, 1, 1, 1, 1, 1, 1, 1, 1, 1, 1, 1, 1, 1, 1, 1, 1, 1, 1, 1, 1, 1, 1, 1, 1, 1, 1, 1, 1, 1, 1, 1, 1, 1, 1, 1, 1, 1, 1, 1, 1, 1, 1, 1, 1, 1, 1, 1, 1, 1, 1, 1, 1, 1, 1, 1, 1, 1, 1, 1, 1, 1, 1, 1, 1, 1, 1, 1, 1, 1, 1, 1, 1, 1, 1, 1, 1, 1, 1, 1, 1, 1, 1, 1, 1, 1, 1, 1, 1, 1, 1, 1, 1, 1, 1, 1, 1, 1, 1, 1, 1, 1, 1, 1, 1, 1, 1, 1, 1, 1, 1, 1, 1, 1, 1, 1, 1, 1, 1, 1, 1, 1, 1, 1, 1, 1, 1, 1, 1, 1, 1, 1, 1, 1, 1, 1, 1, 1, 1, 1, 1, 1, 1, 1, 1, 1, 1, 1, 1, 1, 1, 1, 1, 1, 1, 1, 1, 1, 1, 1, 1, 1, 1, 1, 1, 1, 1, 1, 1, 1, 1, 1, 1, 1, 1, 1, 1, 1, 1, 1, 1, 1, 1, 1, 1, 1, 1, 1, 1, 1, 1, 1, 1, 1, 1, 1, 1, 1, 1, 1, 1, 1, 1, 1, 1, 1, 1, 1, 1, 1, 1, 1, 1, 1, 1, 1, 1, 1, 1, 1, 1, 1, 1, 1, 1, 1, 1, 1, 1, 1, 1, 1, 1, 1, 1, 1, 1, 1, 1, 1, 1, 1, 1, 1, 1, 1, 1, 1, 1, 1, 1, 1, 1, 1, 1, 1, 1, 1, 1, 1, 1, 1, 1, 1, 1, 1, 1, 1, 1, 1, 1, 1, 1, 1, 1, 1, 1, 1, 1, 1, 1, 1, 1, 1, 1, 1, 1, 1, 1, 1, 1, 1, 1, 1, 1, 1, 1, 1, 1, 1, 1, 1, 1, 1, 1, 1, 1, 1, 1, 1, 1, 1, 1, 1, 1, 1, 1, 1, 1, 1, 1, 1, 1, 1, 1, 1, 1, 1, 1, 1, 1, 1, 1, 1, 1, 1, 1, 1, 1, 1, 1, 1, 1, 1, 1, 1, 1, 1, 1, 1, 1, 1, 1, 1, 1, 1, 1, 1, 1, 1, 1, 1, 1, 1, 1, 1, 1, 1, 1, 1, 1, 1, 1, 1, 1, 1, 1, 1, 1, 1, 1, 1, 1, 1, 1, 1, 1, 1, 1, 1, 1, 1, 1, 1, 1, 1, 1, 1, 1, 1, 1, 1, 1, 1, 1, 1, 1, 1, 1, 1, 1, 1, 1, 1, 1, 1, 1, 1, 1, 1, 1, 1, 1, 1, 1, 1, 1, 1, 1, 1, 1, 1, 1, 1, 1, 1, 1, 1, 1, 1, 1, 1, 1, 1, 1, 1, 1, 1, 1, 1, 1, 1, 1, 1, 1, 1, 1, 1, 1, 1, 1, 1, 1, 1, 1, 1, 1, 1, 1, 1, 1, 1, 1, 1, 1, 1, 1, 1, 1, 1, 1, 1, 1, 1, 1, 1, 1, 1, 1, 1, 1, 1, 1, 1, 1, 1, 1, 1, 1, 1, 1, 1, 1, 1, 1, 1, 1, 1, 1, 1, 1, 1, 1, 1, 1, 1, 1, 1, 1, 1, 1, 1, 1, 1, 1, 1, 1, 1, 1, 1, 1, 1, 1, 1, 1, 1, 1, 1, 1, 1, 1, 1, 1, 1, 1, 1, 1, 1, 1, 1, 1, 1, 1, 1, 1, 1, 1, 1, 1, 1, 1, 1, 1, 1, 1, 1, 1, 1, 1, 1, 1, 1, 1, 1, 1, 1, 1, 1, 1, 1, 1, 1, 1, 1, 1, 1, 1, 1, 1, 1, 1, 1, 1, 1, 1, 1, 1, 1, 1, 1, 1, 1, 1, 1, 1, 1, 1, 1, 1, 1, 1, 1, 1, 1, 1, 1, 1, 1, 1, 1, 1, 1, 1, 1, 1, 1, 1, 1, 1, 1, 1, 1, 1, 1, 1, 1, 1, 1, 1, 1, 1, 1, 1, 1, 1, 1, 1, 1, 1, 1, 1, 1, 1, 1, 1, 1, 1, 1, 1, 1, 1, 1, 1, 1, 1, 1, 1, 1, 1, 1, 1, 1, 1, 1, 1, 1, 1, 1, 1, 1, 1, 1, 1, 1, 1, 1, 1, 1, 1, 1, 1, 1, 1, 1, 1, 1, 1, 1, 1, 1, 1, 1, 1, 1, 1, 1, 1, 1, 1, 1, 1, 1, 1, 1, 1, 1, 1, 1, 1, 1, 1, 1, 1, 1, 1, 1, 1, 1, 1, 1, 1, 1, 1, 1, 1, 1, 1, 1, 1, 1, 1, 1, 1, 1, 1, 1, 1, 1, 1, 1, 1, 1, 1, 1, 1, 1, 1, 1, 1, 1, 1, 1, 1, 1, 1, 1, 1, 1, 1, 1, 1, 1, 1, 1, 1, 1, 1, 1, 1, 1, 1, 1, 1, 1, 1, 1, 1, 1, 1, 1, 1, 1, 1, 1, 1, 1, 1, 1, 1, 1, 1, 1, 1, 1, 1, 1, 1, 1, 1, 1, 1, 1, 1, 1, 1, 1, 1, 1, 1, 1, 1, 1, 1, 1, 1, 1, 1, 1, 1, 1, 1, 1, 1, 1, 1, 1, 1, 1, 1, 1, 1, 1, 1, 1, 1, 1, 1, 1, 1, 1, 1, 1, 1, 1, 1, 1, 1, 1, 1, 1, 1, 1, 1, 1, 1, 1, 1, 1, 1, 1, 1, 1, 1, 1, 1, 1, 1, 1, 1, 1, 1, 1, 1, 1, 1, 1, 1, 1, 1, 1, 1, 1, 1, 1, 1, 1, 1, 1, 1, 1, 1, 1, 1, 1, 1, 1, 1, 1, 1, 1, 1, 1, 1, 1, 1, 1, 1, 1, 1, 1, 1, 1, 1, 1, 1, 1, 1, 1, 1, 1, 1, 1, 1, 1, 1, 1, 1, 1, 1, 1, 1, 1, 1, 1, 1, 1, 1, 1, 1, 1, 1, 1, 1, 1, 1, 1, 1, 1, 1, 1, 1, 1, 1, 1, 1, 1, 1, 1, 1, 1, 1, 1, 1, 1, 1, 1, 1, 1, 1, 1, 1, 1, 1, 1, 1, 1, 1, 1, 1, 1, 1, 1, 1, 1, 1, 1, 1, 1, 1, 1, 1, 1, 1, 1, 1, 1, 1, 1, 1, 1, 1, 1, 1, 1, 1, 1, 1, 1, 1, 1, 1, 1, 1, 1, 1, 1, 1, 1, 1, 1, 1, 1, 1, 1, 1, 1, 1, 1, 1, 1, 1, 1, 1, 1, 1, 1, 1, 1, 1, 1, 1, 1, 1, 1, 1, 1, 1, 1, 1, 1, 1, 1, 1, 1, 1, 1, 1, 1, 1, 1, 1, 1, 1, 1, 1, 1, 1, 1, 1, 1, 1, 1, 1, 1, 1, 1, 1, 1, 1, 1, 1, 1, 1, 1, 1, 1, 1, 1, 1, 1, 1, 1, 1, 1, 1, 1, 1, 1, 1, 1, 1, 1, 1, 1, 1, 1, 1, 1, 1, 1, 1, 1, 1, 1, 1, 1, 1, 1, 1, 1, 1, 1, 1, 1, 1, 1, 1, 1, 1, 1, 1, 1, 1, 1, 1, 1, 1, 1, 1, 1, 1, 1, 1, 1, 1, 1, 1, 1, 1, 1, 1, 1, 1, 1, 1, 1, 1, 1, 1, 1, 1, 1, 1, 1, 1, 1, 1, 1, 1, 1, 1, 1, 1, 1, 1, 1, 1, 1, 1, 1, 1, 1, 1, 1, 1, 1, 1, 1, 1, 1, 1, 1, 1, 1, 1, 1, 1, 1, 1, 1, 1, 1, 1, 1, 1, 1, 1, 1, 1, 1, 1, 1, 1, 1, 1, 1, 1, 1, 1, 1, 1, 1, 1, 1, 1, 1, 1, 1, 1, 1, 1, 1, 1, 1, 1, 1, 1, 1, 1, 1, 1, 1, 1, 1, 1, 1, 1, 1, 1, 1, 1, 1, 1, 1, 1, 1, 1, 1, 1, 1, 1, 1, 1, 1, 1, 1, 1, 1, 1, 1, 1, 1, 1, 1, 1, 1, 1, 1, 1, 1, 1, 1, 1, 1, 1, 1, 1, 1, 1, 1, 1, 1, 1, 1, 1, 1, 1, 1, 1, 1, 1, 1, 1, 1, 1, 1, 1, 1, 1, 1, 1, 1, 1, 1, 1, 1, 1, 1, 1, 1, 1, 1, 1, 1, 1, 1, 1, 1, 1, 1, 1, 1, 1, 1, 1, 1, 1, 1, 1, 1, 1, 1, 1, 1, 1, 1, 1, 1, 1, 1, 1, 1, 1, 1, 1, 1, 1, 1, 1, 1, 1, 1, 1, 1, 1, 1, 1, 1, 1, 1, 1, 1, 1, 1, 1, 1, 1, 1, 1, 1, 1, 1, 1, 1, 1, 1, 1, 1, 1, 1, 1, 1, 1, 1, 1, 1, 1, 1, 1, 1, 1, 1, 1, 1, 1, 1, 1, 1, 1, 1, 1, 1, 1, 1, 1, 1, 1, 1, 1, 1, 1, 1, 1, 1, 1, 1, 1, 1, 1, 1, 1, 1, 1, 1, 1, 1, 1, 1, 1, 1, 1, 1, 1, 1, 1, 1, 1, 1, 1, 1, 1, 1, 1, 1, 1, 1, 1, 1, 1, 1, 1, 1, 1, 1, 1, 1, 1, 1, 1, 1, 1, 1, 1, 1, 1, 1, 1, 1, 1, 1, 1, 1, 1, 1, 1, 1, 1, 1, 1, 1, 1, 1, 1, 1, 1, 1, 1, 1, 1, 1, 1, 1, 1, 1, 1, 1, 1, 1, 1, 1, 1, 1, 1, 1, 1, 1, 1, 1, 1, 1, 1, 1, 1, 1, 1, 1, 1, 1, 1, 1, 1, 1, 1, 1, 1, 1, 1, 1, 1, 1, 1, 1, 1, 1, 1, 1, 1, 1, 1, 1, 1, 1, 1, 1, 1, 1, 1, 1, 1, 1, 1, 1, 1, 1, 1, 1, 1, 1, 1, 1, 1, 1, 1, 1, 1, 1, 1, 1, 1, 1, 1, 1, 1, 1, 1, 1, 1, 1, 1, 1, 1, 1, 1, 1, 1, 1, 1, 1, 1, 1, 1, 1, 1, 1, 1, 1, 1, 1, 1, 1, 1, 1, 1, 1, 1, 1, 1, 1, 1, 1, 1, 1, 1, 1, 1, 1, 1, 1, 1, 1, 1, 1, 1, 1, 1, 1, 1, 1, 1, 1, 1, 1, 1, 1, 1, 1, 1, 1, 1, 1, 1, 1, 1, 1, 1, 1, 1, 1, 1, 1, 1, 1, 1, 1, 1, 1, 1, 1, 1, 1, 1, 1, 1, 1, 1, 1, 1, 1, 1, 1, 1, 1, 1, 1, 1, 1, 1, 1, 1, 1, 1, 1, 1, 1, 1, 1, 1, 1, 1, 1, 1, 1, 1, 1, 1, 1, 1, 1, 1, 1, 1, 1, 1, 1, 1, 1, 1, 1, 1, 1, 1, 1, 1, 1, 1, 1, 1, 1, 1, 1, 1, 1, 1, 1, 1, 1, 1, 1, 1, 1, 1, 1, 1, 1, 1, 1, 1, 1, 1, 1, 1, 1, 1, 1, 1, 1, 1, 1, 1, 1, 1, 1, 1, 1, 1, 1, 1, 1, 1, 1, 1, 1, 1, 1, 1, 1, 1, 1, 1, 1, 1, 1, 1, 1, 1, 1, 1, 1, 1, 1, 1, 1, 1, 1, 1, 1, 1, 1, 1, 1, 1, 1, 1, 1, 1, 1, 1, 1, 1, 1, 1, 1, 1, 1, 1, 1, 1, 1, 1, 1, 1, 1, 1, 1, 1, 1, 1, 1, 1, 1, 1, 1, 1, 1, 1, 1, 1, 1, 1, 1, 1, 1, 1, 1, 1, 1, 1, 1, 1, 1, 1, 1, 1, 1, 1, 1, 1, 1, 1, 1, 1, 1, 1, 1, 1, 1, 1, 1, 1, 1, 1, 1, 1, 1, 1, 1, 1, 1, 1, 1, 1, 1, 1, 1, 1, 1, 1, 1, 1, 1, 1, 1, 1, 1, 1, 1, 1, 1, 1, 1, 1, 1, 1, 1, 1, 1, 1, 1, 1, 1, 1, 1, 1, 1, 1, 1, 1, 1, 1, 1, 1, 1, 1, 1, 1, 1, 1, 1, 1, 1, 1, 1, 1, 1, 1, 1, 1, 1, 1, 1, 1, 1, 1, 1, 1, 1, 1, 1, 1, 1, 1, 1, 1, 1, 1, 1, 1, 1, 1, 1, 1, 1, 1, 1, 1, 1, 1, 1, 1, 1, 1, 1, 1, 1, 1, 1, 1, 1, 1, 1, 1, 1, 1, 1, 1, 1, 1, 1, 1, 1, 1, 1, 1, 1, 1, 1, 1, 1, 1, 1, 1, 1, 1, 1, 1, 1, 1, 1, 1, 1, 1, 1, 1, 1, 1, 1, 1, 1, 1, 1, 1, 1, 1, 1, 1, 1, 1, 1, 1, 1, 1, 1, 1, 1, 1, 1, 1, 1, 1, 1, 1, 1]\n",
      "Training labels: 0 - angry\n"
     ]
    }
   ]
  },
  {
   "cell_type": "markdown",
   "metadata": {
    "id": "HcrEgJO9Hmx7"
   },
   "source": [
    "Great, now we've successfully read all the audio files, resampled the audio files to 16kHz, and mapped each audio to the corresponding label."
   ]
  },
  {
   "cell_type": "markdown",
   "metadata": {
    "id": "QL7q6DfcH0Fs"
   },
   "source": [
    "## Model\n",
    "\n",
    "Before diving into the training part, we need to build our classification model based on the merge strategy. "
   ]
  },
  {
   "cell_type": "code",
   "metadata": {
    "id": "uJZoC4T5HpuP"
   },
   "source": [
    "from dataclasses import dataclass\n",
    "from typing import Optional, Tuple\n",
    "import torch\n",
    "from transformers.file_utils import ModelOutput\n",
    "\n",
    "\n",
    "@dataclass\n",
    "class SpeechClassifierOutput(ModelOutput):\n",
    "    loss: Optional[torch.FloatTensor] = None\n",
    "    logits: torch.FloatTensor = None\n",
    "    hidden_states: Optional[Tuple[torch.FloatTensor]] = None\n",
    "    attentions: Optional[Tuple[torch.FloatTensor]] = None\n"
   ],
   "execution_count": 23,
   "outputs": []
  },
  {
   "cell_type": "code",
   "metadata": {
    "id": "Fv62ShDsH5DZ"
   },
   "source": [
    "import torch\n",
    "import torch.nn as nn\n",
    "from torch.nn import BCEWithLogitsLoss, CrossEntropyLoss, MSELoss\n",
    "\n",
    "from transformers.models.wav2vec2.modeling_wav2vec2 import (\n",
    "    Wav2Vec2PreTrainedModel,\n",
    "    Wav2Vec2Model\n",
    ")\n",
    "\n",
    "\n",
    "class Wav2Vec2ClassificationHead(nn.Module):\n",
    "    \"\"\"Head for wav2vec classification task.\"\"\"\n",
    "\n",
    "    def __init__(self, config):\n",
    "        super().__init__()\n",
    "        self.dense = nn.Linear(config.hidden_size, config.hidden_size)\n",
    "        self.dropout = nn.Dropout(config.final_dropout)\n",
    "        self.out_proj = nn.Linear(config.hidden_size, config.num_labels)\n",
    "\n",
    "    def forward(self, features, **kwargs):\n",
    "        x = features\n",
    "        x = self.dropout(x)\n",
    "        x = self.dense(x)\n",
    "        x = torch.tanh(x)\n",
    "        x = self.dropout(x)\n",
    "        x = self.out_proj(x)\n",
    "        return x\n",
    "\n",
    "\n",
    "class Wav2Vec2ForSpeechClassification(Wav2Vec2PreTrainedModel):\n",
    "    def __init__(self, config):\n",
    "        super().__init__(config)\n",
    "        self.num_labels = config.num_labels\n",
    "        self.pooling_mode = config.pooling_mode\n",
    "        self.config = config\n",
    "\n",
    "        self.wav2vec2 = Wav2Vec2Model(config)\n",
    "        self.classifier = Wav2Vec2ClassificationHead(config)\n",
    "\n",
    "        self.init_weights()\n",
    "\n",
    "    def freeze_feature_extractor(self):\n",
    "        self.wav2vec2.feature_extractor._freeze_parameters()\n",
    "\n",
    "    def merged_strategy(\n",
    "            self,\n",
    "            hidden_states,\n",
    "            mode=\"mean\"\n",
    "    ):\n",
    "        if mode == \"mean\":\n",
    "            outputs = torch.mean(hidden_states, dim=1)\n",
    "        elif mode == \"sum\":\n",
    "            outputs = torch.sum(hidden_states, dim=1)\n",
    "        elif mode == \"max\":\n",
    "            outputs = torch.max(hidden_states, dim=1)[0]\n",
    "        else:\n",
    "            raise Exception(\n",
    "                \"The pooling method hasn't been defined! Your pooling mode must be one of these ['mean', 'sum', 'max']\")\n",
    "\n",
    "        return outputs\n",
    "\n",
    "    def forward(\n",
    "            self,\n",
    "            input_values,\n",
    "            attention_mask=None,\n",
    "            output_attentions=None,\n",
    "            output_hidden_states=None,\n",
    "            return_dict=None,\n",
    "            labels=None,\n",
    "    ):\n",
    "        return_dict = return_dict if return_dict is not None else self.config.use_return_dict\n",
    "        outputs = self.wav2vec2(\n",
    "            input_values,\n",
    "            attention_mask=attention_mask,\n",
    "            output_attentions=output_attentions,\n",
    "            output_hidden_states=output_hidden_states,\n",
    "            return_dict=return_dict,\n",
    "        )\n",
    "        hidden_states = outputs[0]\n",
    "        hidden_states = self.merged_strategy(hidden_states, mode=self.pooling_mode)\n",
    "        logits = self.classifier(hidden_states)\n",
    "\n",
    "        loss = None\n",
    "        if labels is not None:\n",
    "            if self.config.problem_type is None:\n",
    "                if self.num_labels == 1:\n",
    "                    self.config.problem_type = \"regression\"\n",
    "                elif self.num_labels > 1 and (labels.dtype == torch.long or labels.dtype == torch.int):\n",
    "                    self.config.problem_type = \"single_label_classification\"\n",
    "                else:\n",
    "                    self.config.problem_type = \"multi_label_classification\"\n",
    "\n",
    "            if self.config.problem_type == \"regression\":\n",
    "                loss_fct = MSELoss()\n",
    "                loss = loss_fct(logits.view(-1, self.num_labels), labels)\n",
    "            elif self.config.problem_type == \"single_label_classification\":\n",
    "                loss_fct = CrossEntropyLoss()\n",
    "                loss = loss_fct(logits.view(-1, self.num_labels), labels.view(-1))\n",
    "            elif self.config.problem_type == \"multi_label_classification\":\n",
    "                loss_fct = BCEWithLogitsLoss()\n",
    "                loss = loss_fct(logits, labels)\n",
    "\n",
    "        if not return_dict:\n",
    "            output = (logits,) + outputs[2:]\n",
    "            return ((loss,) + output) if loss is not None else output\n",
    "\n",
    "        return SpeechClassifierOutput(\n",
    "            loss=loss,\n",
    "            logits=logits,\n",
    "            hidden_states=outputs.hidden_states,\n",
    "            attentions=outputs.attentions,\n",
    "        )\n"
   ],
   "execution_count": 24,
   "outputs": []
  },
  {
   "cell_type": "markdown",
   "metadata": {
    "id": "OrBrR1b7zvUL"
   },
   "source": [
    "## Training\n",
    "\n",
    "The data is processed so that we are ready to start setting up the training pipeline. We will make use of 🤗's [Trainer](https://huggingface.co/transformers/master/main_classes/trainer.html?highlight=trainer) for which we essentially need to do the following:\n",
    "\n",
    "- Define a data collator. In contrast to most NLP models, XLSR-Wav2Vec2 has a much larger input length than output length. *E.g.*, a sample of input length 50000 has an output length of no more than 100. Given the large input sizes, it is much more efficient to pad the training batches dynamically meaning that all training samples should only be padded to the longest sample in their batch and not the overall longest sample. Therefore, fine-tuning XLSR-Wav2Vec2 requires a special padding data collator, which we will define below\n",
    "\n",
    "- Evaluation metric. During training, the model should be evaluated on the word error rate. We should define a `compute_metrics` function accordingly\n",
    "\n",
    "- Load a pretrained checkpoint. We need to load a pretrained checkpoint and configure it correctly for training.\n",
    "\n",
    "- Define the training configuration.\n",
    "\n",
    "After having fine-tuned the model, we will correctly evaluate it on the test data and verify that it has indeed learned to correctly transcribe speech."
   ]
  },
  {
   "cell_type": "markdown",
   "metadata": {
    "id": "Ji9-n1eUIKZc"
   },
   "source": [
    "### Set-up Trainer\n",
    "\n",
    "Let's start by defining the data collator. The code for the data collator was copied from [this example](https://github.com/huggingface/transformers/blob/9a06b6b11bdfc42eea08fa91d0c737d1863c99e3/examples/research_projects/wav2vec2/run_asr.py#L81).\n",
    "\n",
    "Without going into too many details, in contrast to the common data collators, this data collator treats the `input_values` and `labels` differently and thus applies to separate padding functions on them (again making use of XLSR-Wav2Vec2's context manager). This is necessary because in speech input and output are of different modalities meaning that they should not be treated by the same padding function.\n",
    "Analogous to the common data collators, the padding tokens in the labels with `-100` so that those tokens are **not** taken into account when computing the loss."
   ]
  },
  {
   "cell_type": "code",
   "metadata": {
    "id": "rkM0VLIwy903"
   },
   "source": [
    "from dataclasses import dataclass\n",
    "from typing import Dict, List, Optional, Union\n",
    "import torch\n",
    "\n",
    "import transformers\n",
    "from transformers import Wav2Vec2Processor\n",
    "\n",
    "\n",
    "@dataclass\n",
    "class DataCollatorCTCWithPadding:\n",
    "    \"\"\"\n",
    "    Data collator that will dynamically pad the inputs received.\n",
    "    Args:\n",
    "        processor (:class:`~transformers.Wav2Vec2Processor`)\n",
    "            The processor used for proccessing the data.\n",
    "        padding (:obj:`bool`, :obj:`str` or :class:`~transformers.tokenization_utils_base.PaddingStrategy`, `optional`, defaults to :obj:`True`):\n",
    "            Select a strategy to pad the returned sequences (according to the model's padding side and padding index)\n",
    "            among:\n",
    "            * :obj:`True` or :obj:`'longest'`: Pad to the longest sequence in the batch (or no padding if only a single\n",
    "              sequence if provided).\n",
    "            * :obj:`'max_length'`: Pad to a maximum length specified with the argument :obj:`max_length` or to the\n",
    "              maximum acceptable input length for the model if that argument is not provided.\n",
    "            * :obj:`False` or :obj:`'do_not_pad'` (default): No padding (i.e., can output a batch with sequences of\n",
    "              different lengths).\n",
    "        max_length (:obj:`int`, `optional`):\n",
    "            Maximum length of the ``input_values`` of the returned list and optionally padding length (see above).\n",
    "        max_length_labels (:obj:`int`, `optional`):\n",
    "            Maximum length of the ``labels`` returned list and optionally padding length (see above).\n",
    "        pad_to_multiple_of (:obj:`int`, `optional`):\n",
    "            If set will pad the sequence to a multiple of the provided value.\n",
    "            This is especially useful to enable the use of Tensor Cores on NVIDIA hardware with compute capability >=\n",
    "            7.5 (Volta).\n",
    "    \"\"\"\n",
    "\n",
    "    processor: Wav2Vec2Processor\n",
    "    padding: Union[bool, str] = True\n",
    "    max_length: Optional[int] = None\n",
    "    max_length_labels: Optional[int] = None\n",
    "    pad_to_multiple_of: Optional[int] = None\n",
    "    pad_to_multiple_of_labels: Optional[int] = None\n",
    "\n",
    "    def __call__(self, features: List[Dict[str, Union[List[int], torch.Tensor]]]) -> Dict[str, torch.Tensor]:\n",
    "        input_features = [{\"input_values\": feature[\"input_values\"]} for feature in features]\n",
    "        label_features = [feature[\"labels\"] for feature in features]\n",
    "\n",
    "        d_type = torch.long if isinstance(label_features[0], int) else torch.float\n",
    "\n",
    "        batch = self.processor.pad(\n",
    "            input_features,\n",
    "            padding=self.padding,\n",
    "            max_length=self.max_length,\n",
    "            pad_to_multiple_of=self.pad_to_multiple_of,\n",
    "            return_tensors=\"pt\",\n",
    "        )\n",
    "\n",
    "        batch[\"labels\"] = torch.tensor(label_features, dtype=d_type)\n",
    "\n",
    "        return batch"
   ],
   "execution_count": 25,
   "outputs": []
  },
  {
   "cell_type": "code",
   "metadata": {
    "id": "-YhJ0OA4RxQe"
   },
   "source": [
    "data_collator = DataCollatorCTCWithPadding(processor=processor, padding=True)"
   ],
   "execution_count": 26,
   "outputs": []
  },
  {
   "cell_type": "markdown",
   "metadata": {
    "id": "mYxy2IR-KcU2"
   },
   "source": [
    "Next, the evaluation metric is defined. There are many pre-defined metrics for classification/regression problems, but in this case, we would continue with just **Accuracy** for classification and **MSE** for regression. You can define other metrics on your own."
   ]
  },
  {
   "cell_type": "code",
   "metadata": {
    "id": "LL8I5MKvPnth"
   },
   "source": [
    "is_regression = False"
   ],
   "execution_count": 27,
   "outputs": []
  },
  {
   "cell_type": "code",
   "metadata": {
    "id": "XK26Z6IfR36K"
   },
   "source": [
    "import numpy as np\n",
    "from transformers import EvalPrediction\n",
    "\n",
    "\n",
    "def compute_metrics(p: EvalPrediction):\n",
    "    preds = p.predictions[0] if isinstance(p.predictions, tuple) else p.predictions\n",
    "    preds = np.squeeze(preds) if is_regression else np.argmax(preds, axis=1)\n",
    "\n",
    "    if is_regression:\n",
    "        return {\"mse\": ((preds - p.label_ids) ** 2).mean().item()}\n",
    "    else:\n",
    "        return {\"accuracy\": (preds == p.label_ids).astype(np.float32).mean().item()}"
   ],
   "execution_count": 28,
   "outputs": []
  },
  {
   "cell_type": "markdown",
   "metadata": {
    "id": "ZsH_nKJdK28o"
   },
   "source": [
    "Now, we can load the pretrained XLSR-Wav2Vec2 checkpoint into our classification model with a pooling strategy."
   ]
  },
  {
   "cell_type": "code",
   "metadata": {
    "id": "0Tl6iKAUR4EL"
   },
   "source": [
    "model = Wav2Vec2ForSpeechClassification.from_pretrained(\n",
    "    model_name_or_path,\n",
    "    config=config,\n",
    ")"
   ],
   "execution_count": 29,
   "outputs": [
    {
     "data": {
      "text/plain": "Downloading:   0%|          | 0.00/1.26G [00:00<?, ?B/s]",
      "application/vnd.jupyter.widget-view+json": {
       "version_major": 2,
       "version_minor": 0,
       "model_id": "0641c0f6f6524115a1a8791b83b3bca9"
      }
     },
     "metadata": {},
     "output_type": "display_data"
    },
    {
     "name": "stderr",
     "output_type": "stream",
     "text": [
      "Some weights of the model checkpoint at jonatasgrosman/wav2vec2-large-xlsr-53-german were not used when initializing Wav2Vec2ForSpeechClassification: ['lm_head.bias', 'lm_head.weight']\n",
      "- This IS expected if you are initializing Wav2Vec2ForSpeechClassification from the checkpoint of a model trained on another task or with another architecture (e.g. initializing a BertForSequenceClassification model from a BertForPreTraining model).\n",
      "- This IS NOT expected if you are initializing Wav2Vec2ForSpeechClassification from the checkpoint of a model that you expect to be exactly identical (initializing a BertForSequenceClassification model from a BertForSequenceClassification model).\n",
      "Some weights of Wav2Vec2ForSpeechClassification were not initialized from the model checkpoint at jonatasgrosman/wav2vec2-large-xlsr-53-german and are newly initialized: ['classifier.out_proj.bias', 'classifier.dense.weight', 'classifier.dense.bias', 'classifier.out_proj.weight']\n",
      "You should probably TRAIN this model on a down-stream task to be able to use it for predictions and inference.\n"
     ]
    }
   ]
  },
  {
   "cell_type": "markdown",
   "metadata": {
    "id": "bqF4rNMzI1M5"
   },
   "source": [
    "The first component of XLSR-Wav2Vec2 consists of a stack of CNN layers that are used to extract acoustically meaningful - but contextually independent - features from the raw speech signal. This part of the model has already been sufficiently trained during pretraining and as stated in the [paper](https://arxiv.org/pdf/2006.13979.pdf) does not need to be fine-tuned anymore. \n",
    "Thus, we can set the `requires_grad` to `False` for all parameters of the *feature extraction* part."
   ]
  },
  {
   "cell_type": "code",
   "metadata": {
    "id": "KHMhxFGoR4Hb"
   },
   "source": [
    "model.freeze_feature_extractor()"
   ],
   "execution_count": 30,
   "outputs": []
  },
  {
   "cell_type": "markdown",
   "metadata": {
    "id": "n0HzBneBK84G"
   },
   "source": [
    "In a final step, we define all parameters related to training. \n",
    "To give more explanation on some of the parameters:\n",
    "- `learning_rate` and `weight_decay` were heuristically tuned until fine-tuning has become stable. Note that those parameters strongly depend on the Common Voice dataset and might be suboptimal for other speech datasets.\n",
    "\n",
    "For more explanations on other parameters, one can take a look at the [docs](https://huggingface.co/transformers/master/main_classes/trainer.html?highlight=trainer#trainingarguments).\n",
    "\n",
    "**Note**: If one wants to save the trained models in his/her google drive the commented-out `output_dir` can be used instead."
   ]
  },
  {
   "cell_type": "code",
   "metadata": {
    "id": "3tPqZ12BLCJk"
   },
   "source": [
    "# from google.colab import drive\n",
    "\n",
    "# drive.mount('/gdrive')"
   ],
   "execution_count": 31,
   "outputs": []
  },
  {
   "cell_type": "code",
   "metadata": {
    "id": "vUtWjldAI9-H"
   },
   "source": [
    "from transformers import TrainingArguments\n",
    "\n",
    "training_args = TrainingArguments(\n",
    "    output_dir=\"/masterarbeit_programming/notebooks/content/models\",\n",
    "    # output_dir=\"/content/gdrive/MyDrive/wav2vec2-xlsr-greek-speech-emotion-recognition\"\n",
    "    per_device_train_batch_size=4,\n",
    "    per_device_eval_batch_size=4,\n",
    "    gradient_accumulation_steps=2,\n",
    "    evaluation_strategy=\"steps\",\n",
    "    num_train_epochs=1.0,\n",
    "    fp16=True,\n",
    "    save_steps=10,\n",
    "    eval_steps=10,\n",
    "    logging_steps=10,\n",
    "    learning_rate=1e-4,\n",
    "    save_total_limit=2,\n",
    ")"
   ],
   "execution_count": 32,
   "outputs": []
  },
  {
   "cell_type": "markdown",
   "metadata": {
    "id": "XAtuL0APLZSs"
   },
   "source": [
    "For future use we can create our training script, we do it in a simple way. You can add more on you own."
   ]
  },
  {
   "cell_type": "code",
   "metadata": {
    "id": "KfW6uDolJYZv"
   },
   "source": [
    "from typing import Any, Dict, Union\n",
    "\n",
    "import torch\n",
    "from packaging import version\n",
    "from torch import nn\n",
    "\n",
    "from transformers import (\n",
    "    Trainer,\n",
    "    is_apex_available,\n",
    ")\n",
    "\n",
    "if is_apex_available():\n",
    "    from apex import amp\n",
    "\n",
    "if version.parse(torch.__version__) >= version.parse(\"1.6\"):\n",
    "    _is_native_amp_available = True\n",
    "    from torch.cuda.amp import autocast\n",
    "\n",
    "\n",
    "class CTCTrainer(Trainer):\n",
    "    def training_step(self, model: nn.Module, inputs: Dict[str, Union[torch.Tensor, Any]]) -> torch.Tensor:\n",
    "        \"\"\"\n",
    "        Perform a training step on a batch of inputs.\n",
    "\n",
    "        Subclass and override to inject custom behavior.\n",
    "\n",
    "        Args:\n",
    "            model (:obj:`nn.Module`):\n",
    "                The model to train.\n",
    "            inputs (:obj:`Dict[str, Union[torch.Tensor, Any]]`):\n",
    "                The inputs and targets of the model.\n",
    "\n",
    "                The dictionary will be unpacked before being fed to the model. Most models expect the targets under the\n",
    "                argument :obj:`labels`. Check your model's documentation for all accepted arguments.\n",
    "\n",
    "        Return:\n",
    "            :obj:`torch.Tensor`: The tensor with training loss on this batch.\n",
    "        \"\"\"\n",
    "\n",
    "        model.train()\n",
    "        inputs = self._prepare_inputs(inputs)\n",
    "\n",
    "        if self.use_cuda_amp:\n",
    "            with autocast():\n",
    "                loss = self.compute_loss(model, inputs)\n",
    "        else:\n",
    "            loss = self.compute_loss(model, inputs)\n",
    "\n",
    "        if self.args.gradient_accumulation_steps > 1:\n",
    "            loss = loss / self.args.gradient_accumulation_steps\n",
    "\n",
    "        if self.use_cuda_amp:\n",
    "            self.scaler.scale(loss).backward()\n",
    "        elif self.use_apex:\n",
    "            with amp.scale_loss(loss, self.optimizer) as scaled_loss:\n",
    "                scaled_loss.backward()\n",
    "        elif self.deepspeed:\n",
    "            self.deepspeed.backward(loss)\n",
    "        else:\n",
    "            loss.backward()\n",
    "\n",
    "        return loss.detach()\n"
   ],
   "execution_count": 33,
   "outputs": []
  },
  {
   "cell_type": "markdown",
   "metadata": {
    "id": "Qv7Ju3qYJeJn"
   },
   "source": [
    "Now, all instances can be passed to Trainer and we are ready to start training!"
   ]
  },
  {
   "cell_type": "code",
   "metadata": {
    "id": "nEFkfK45JYiZ"
   },
   "source": [
    "trainer = CTCTrainer(\n",
    "    model=model,\n",
    "    data_collator=data_collator,\n",
    "    args=training_args,\n",
    "    compute_metrics=compute_metrics,\n",
    "    train_dataset=train_dataset,\n",
    "    eval_dataset=eval_dataset,\n",
    "    tokenizer=processor.feature_extractor,\n",
    ")"
   ],
   "execution_count": 34,
   "outputs": [
    {
     "name": "stderr",
     "output_type": "stream",
     "text": [
      "Using cuda_amp half precision backend\n"
     ]
    }
   ]
  },
  {
   "cell_type": "markdown",
   "metadata": {
    "id": "0gGLwJAOLtDg"
   },
   "source": [
    "### Training"
   ]
  },
  {
   "cell_type": "markdown",
   "metadata": {
    "id": "UpN6xlWCLxJ7"
   },
   "source": [
    "Training will take between 10 and 60 minutes depending on the GPU allocated to this notebook. \n",
    "\n",
    "In case you want to use this google colab to fine-tune your model, you should make sure that your training doesn't stop due to inactivity. A simple hack to prevent this is to paste the following code into the console of this tab (right mouse click -> inspect -> Console tab and insert code)."
   ]
  },
  {
   "cell_type": "markdown",
   "metadata": {
    "id": "zyYZH7YZL8a9"
   },
   "source": [
    "```javascript\n",
    "function ConnectButton(){\n",
    "    console.log(\"Connect pushed\"); \n",
    "    document.querySelector(\"#top-toolbar > colab-connect-button\").shadowRoot.querySelector(\"#connect\").click() \n",
    "}\n",
    "setInterval(ConnectButton,60000);\n",
    "```"
   ]
  },
  {
   "cell_type": "code",
   "metadata": {
    "id": "6M8bNvLLJnG1"
   },
   "source": [
    "trainer.train()"
   ],
   "execution_count": 35,
   "outputs": [
    {
     "name": "stderr",
     "output_type": "stream",
     "text": [
      "The following columns in the training set don't have a corresponding argument in `Wav2Vec2ForSpeechClassification.forward` and have been ignored: path, emotion. If path, emotion are not expected by `Wav2Vec2ForSpeechClassification.forward`,  you can safely ignore this message.\n",
      "X:\\masterarbeit_programming\\venv\\lib\\site-packages\\transformers\\optimization.py:306: FutureWarning: This implementation of AdamW is deprecated and will be removed in a future version. Use the PyTorch implementation torch.optim.AdamW instead, or set `no_deprecation_warning=True` to disable this warning\n",
      "  warnings.warn(\n",
      "***** Running training *****\n",
      "  Num examples = 614\n",
      "  Num Epochs = 1\n",
      "  Instantaneous batch size per device = 4\n",
      "  Total train batch size (w. parallel, distributed & accumulation) = 8\n",
      "  Gradient Accumulation steps = 2\n",
      "  Total optimization steps = 77\n",
      "  Number of trainable parameters = 312284294\n"
     ]
    },
    {
     "data": {
      "text/plain": "<IPython.core.display.HTML object>",
      "text/html": "\n    <div>\n      \n      <progress value='2' max='77' style='width:300px; height:20px; vertical-align: middle;'></progress>\n      [ 2/77 : < :, Epoch 0.01/1]\n    </div>\n    <table border=\"1\" class=\"dataframe\">\n  <thead>\n <tr style=\"text-align: left;\">\n      <th>Step</th>\n      <th>Training Loss</th>\n      <th>Validation Loss</th>\n    </tr>\n  </thead>\n  <tbody>\n  </tbody>\n</table><p>"
     },
     "metadata": {},
     "output_type": "display_data"
    },
    {
     "name": "stderr",
     "output_type": "stream",
     "text": [
      "The following columns in the evaluation set don't have a corresponding argument in `Wav2Vec2ForSpeechClassification.forward` and have been ignored: path, emotion. If path, emotion are not expected by `Wav2Vec2ForSpeechClassification.forward`,  you can safely ignore this message.\n",
      "***** Running Evaluation *****\n",
      "  Num examples = 154\n",
      "  Batch size = 4\n",
      "Saving model checkpoint to /masterarbeit_programming/notebooks/content/models\\checkpoint-10\n",
      "Configuration saved in /masterarbeit_programming/notebooks/content/models\\checkpoint-10\\config.json\n",
      "Model weights saved in /masterarbeit_programming/notebooks/content/models\\checkpoint-10\\pytorch_model.bin\n",
      "Feature extractor saved in /masterarbeit_programming/notebooks/content/models\\checkpoint-10\\preprocessor_config.json\n",
      "The following columns in the evaluation set don't have a corresponding argument in `Wav2Vec2ForSpeechClassification.forward` and have been ignored: path, emotion. If path, emotion are not expected by `Wav2Vec2ForSpeechClassification.forward`,  you can safely ignore this message.\n",
      "***** Running Evaluation *****\n",
      "  Num examples = 154\n",
      "  Batch size = 4\n",
      "Saving model checkpoint to /masterarbeit_programming/notebooks/content/models\\checkpoint-20\n",
      "Configuration saved in /masterarbeit_programming/notebooks/content/models\\checkpoint-20\\config.json\n",
      "Model weights saved in /masterarbeit_programming/notebooks/content/models\\checkpoint-20\\pytorch_model.bin\n",
      "Feature extractor saved in /masterarbeit_programming/notebooks/content/models\\checkpoint-20\\preprocessor_config.json\n",
      "The following columns in the evaluation set don't have a corresponding argument in `Wav2Vec2ForSpeechClassification.forward` and have been ignored: path, emotion. If path, emotion are not expected by `Wav2Vec2ForSpeechClassification.forward`,  you can safely ignore this message.\n",
      "***** Running Evaluation *****\n",
      "  Num examples = 154\n",
      "  Batch size = 4\n",
      "Saving model checkpoint to /masterarbeit_programming/notebooks/content/models\\checkpoint-30\n",
      "Configuration saved in /masterarbeit_programming/notebooks/content/models\\checkpoint-30\\config.json\n",
      "Model weights saved in /masterarbeit_programming/notebooks/content/models\\checkpoint-30\\pytorch_model.bin\n",
      "Feature extractor saved in /masterarbeit_programming/notebooks/content/models\\checkpoint-30\\preprocessor_config.json\n",
      "Deleting older checkpoint [\\masterarbeit_programming\\notebooks\\content\\models\\checkpoint-10] due to args.save_total_limit\n",
      "The following columns in the evaluation set don't have a corresponding argument in `Wav2Vec2ForSpeechClassification.forward` and have been ignored: path, emotion. If path, emotion are not expected by `Wav2Vec2ForSpeechClassification.forward`,  you can safely ignore this message.\n",
      "***** Running Evaluation *****\n",
      "  Num examples = 154\n",
      "  Batch size = 4\n",
      "Saving model checkpoint to /masterarbeit_programming/notebooks/content/models\\checkpoint-40\n",
      "Configuration saved in /masterarbeit_programming/notebooks/content/models\\checkpoint-40\\config.json\n",
      "Model weights saved in /masterarbeit_programming/notebooks/content/models\\checkpoint-40\\pytorch_model.bin\n",
      "Feature extractor saved in /masterarbeit_programming/notebooks/content/models\\checkpoint-40\\preprocessor_config.json\n",
      "Deleting older checkpoint [\\masterarbeit_programming\\notebooks\\content\\models\\checkpoint-20] due to args.save_total_limit\n",
      "The following columns in the evaluation set don't have a corresponding argument in `Wav2Vec2ForSpeechClassification.forward` and have been ignored: path, emotion. If path, emotion are not expected by `Wav2Vec2ForSpeechClassification.forward`,  you can safely ignore this message.\n",
      "***** Running Evaluation *****\n",
      "  Num examples = 154\n",
      "  Batch size = 4\n",
      "Saving model checkpoint to /masterarbeit_programming/notebooks/content/models\\checkpoint-50\n",
      "Configuration saved in /masterarbeit_programming/notebooks/content/models\\checkpoint-50\\config.json\n",
      "Model weights saved in /masterarbeit_programming/notebooks/content/models\\checkpoint-50\\pytorch_model.bin\n",
      "Feature extractor saved in /masterarbeit_programming/notebooks/content/models\\checkpoint-50\\preprocessor_config.json\n",
      "Deleting older checkpoint [\\masterarbeit_programming\\notebooks\\content\\models\\checkpoint-30] due to args.save_total_limit\n",
      "The following columns in the evaluation set don't have a corresponding argument in `Wav2Vec2ForSpeechClassification.forward` and have been ignored: path, emotion. If path, emotion are not expected by `Wav2Vec2ForSpeechClassification.forward`,  you can safely ignore this message.\n",
      "***** Running Evaluation *****\n",
      "  Num examples = 154\n",
      "  Batch size = 4\n",
      "Saving model checkpoint to /masterarbeit_programming/notebooks/content/models\\checkpoint-60\n",
      "Configuration saved in /masterarbeit_programming/notebooks/content/models\\checkpoint-60\\config.json\n",
      "Model weights saved in /masterarbeit_programming/notebooks/content/models\\checkpoint-60\\pytorch_model.bin\n",
      "Feature extractor saved in /masterarbeit_programming/notebooks/content/models\\checkpoint-60\\preprocessor_config.json\n",
      "Deleting older checkpoint [\\masterarbeit_programming\\notebooks\\content\\models\\checkpoint-40] due to args.save_total_limit\n",
      "The following columns in the evaluation set don't have a corresponding argument in `Wav2Vec2ForSpeechClassification.forward` and have been ignored: path, emotion. If path, emotion are not expected by `Wav2Vec2ForSpeechClassification.forward`,  you can safely ignore this message.\n",
      "***** Running Evaluation *****\n",
      "  Num examples = 154\n",
      "  Batch size = 4\n",
      "Saving model checkpoint to /masterarbeit_programming/notebooks/content/models\\checkpoint-70\n",
      "Configuration saved in /masterarbeit_programming/notebooks/content/models\\checkpoint-70\\config.json\n",
      "Model weights saved in /masterarbeit_programming/notebooks/content/models\\checkpoint-70\\pytorch_model.bin\n",
      "Feature extractor saved in /masterarbeit_programming/notebooks/content/models\\checkpoint-70\\preprocessor_config.json\n",
      "Deleting older checkpoint [\\masterarbeit_programming\\notebooks\\content\\models\\checkpoint-50] due to args.save_total_limit\n",
      "\n",
      "\n",
      "Training completed. Do not forget to share your model on huggingface.co/models =)\n",
      "\n",
      "\n"
     ]
    },
    {
     "data": {
      "text/plain": "TrainOutput(global_step=77, training_loss=1.7349163897625812, metrics={'train_runtime': 332.3218, 'train_samples_per_second': 1.848, 'train_steps_per_second': 0.232, 'total_flos': 1.52398353895506e+16, 'train_loss': 1.7349163897625812, 'epoch': 1.0})"
     },
     "execution_count": 35,
     "metadata": {},
     "output_type": "execute_result"
    }
   ]
  },
  {
   "cell_type": "code",
   "execution_count": 36,
   "outputs": [],
   "source": [
    "#trainer.save_model(output_dir='/masterarbeit_programming/notebooks/content/model')"
   ],
   "metadata": {
    "collapsed": false
   }
  },
  {
   "cell_type": "markdown",
   "metadata": {
    "id": "3prIN9eiMBHo"
   },
   "source": [
    "The training loss goes down and we can see that the Acurracy on the test set also improves nicely. Because this notebook is just for demonstration purposes, we can stop here.\n",
    "\n",
    "The resulting model of this notebook has been saved to [m3hrdadfi/wav2vec2-xlsr-greek-speech-emotion-recognition](https://huggingface.co/m3hrdadfi/wav2vec2-xlsr-greek-speech-emotion-recognition)\n",
    "\n",
    "As a final check, let's load the model and verify that it indeed has learned to recognize the emotion in the speech.\n",
    "\n",
    "Let's first load the pretrained checkpoint."
   ]
  },
  {
   "cell_type": "markdown",
   "metadata": {
    "id": "VsaOTx_FVm0i"
   },
   "source": [
    "## Evaluation"
   ]
  },
  {
   "cell_type": "code",
   "metadata": {
    "id": "4tGNY7hRXO44"
   },
   "source": [
    "import librosa\n",
    "from sklearn.metrics import classification_report"
   ],
   "execution_count": 37,
   "outputs": []
  },
  {
   "cell_type": "code",
   "metadata": {
    "id": "IYxg1Tfo2VUw"
   },
   "source": [
    "test_dataset = load_dataset(\"csv\", data_files={\"validation\": \"/masterarbeit_programming/notebooks/content/data/test.csv\"}, delimiter=\"\\t\")[\"validation\"]\n",
    "test_dataset"
   ],
   "execution_count": 38,
   "outputs": [
    {
     "name": "stderr",
     "output_type": "stream",
     "text": [
      "Using custom data configuration default-5224f456c764f16e\n"
     ]
    },
    {
     "name": "stdout",
     "output_type": "stream",
     "text": [
      "Downloading and preparing dataset csv/default to X:/content/cache/csv/default-5224f456c764f16e/0.0.0/6b34fb8fcf56f7c8ba51dc895bfa2bfbe43546f190a60fcf74bb5e8afdcc2317...\n"
     ]
    },
    {
     "data": {
      "text/plain": "Downloading data files:   0%|          | 0/1 [00:00<?, ?it/s]",
      "application/vnd.jupyter.widget-view+json": {
       "version_major": 2,
       "version_minor": 0,
       "model_id": "f6bf858c400b4e4dbe5aee7cd2139226"
      }
     },
     "metadata": {},
     "output_type": "display_data"
    },
    {
     "data": {
      "text/plain": "Extracting data files:   0%|          | 0/1 [00:00<?, ?it/s]",
      "application/vnd.jupyter.widget-view+json": {
       "version_major": 2,
       "version_minor": 0,
       "model_id": "746e56f716a14827becb7c63281ab40e"
      }
     },
     "metadata": {},
     "output_type": "display_data"
    },
    {
     "data": {
      "text/plain": "Generating validation split: 0 examples [00:00, ? examples/s]",
      "application/vnd.jupyter.widget-view+json": {
       "version_major": 2,
       "version_minor": 0,
       "model_id": "bf91dfd1f0104685838f5d560c20e426"
      }
     },
     "metadata": {},
     "output_type": "display_data"
    },
    {
     "name": "stdout",
     "output_type": "stream",
     "text": [
      "Dataset csv downloaded and prepared to X:/content/cache/csv/default-5224f456c764f16e/0.0.0/6b34fb8fcf56f7c8ba51dc895bfa2bfbe43546f190a60fcf74bb5e8afdcc2317. Subsequent calls will reuse this data.\n"
     ]
    },
    {
     "name": "stderr",
     "output_type": "stream",
     "text": [
      "X:\\masterarbeit_programming\\venv\\lib\\site-packages\\datasets\\download\\streaming_download_manager.py:714: FutureWarning: the 'mangle_dupe_cols' keyword is deprecated and will be removed in a future version. Please take steps to stop the use of 'mangle_dupe_cols'\n",
      "  return pd.read_csv(xopen(filepath_or_buffer, \"rb\", use_auth_token=use_auth_token), **kwargs)\n"
     ]
    },
    {
     "data": {
      "text/plain": "  0%|          | 0/1 [00:00<?, ?it/s]",
      "application/vnd.jupyter.widget-view+json": {
       "version_major": 2,
       "version_minor": 0,
       "model_id": "cb0c6e4a48e0421198b929e57a123bfc"
      }
     },
     "metadata": {},
     "output_type": "display_data"
    },
    {
     "data": {
      "text/plain": "Dataset({\n    features: ['path', 'emotion'],\n    num_rows: 154\n})"
     },
     "execution_count": 38,
     "metadata": {},
     "output_type": "execute_result"
    }
   ]
  },
  {
   "cell_type": "code",
   "metadata": {
    "id": "QgZFkMDHW_Um"
   },
   "source": [
    "device = torch.device(\"cuda\" if torch.cuda.is_available() else \"cpu\")\n",
    "print(f\"Device: {device}\")"
   ],
   "execution_count": 39,
   "outputs": [
    {
     "name": "stdout",
     "output_type": "stream",
     "text": [
      "Device: cuda\n"
     ]
    }
   ]
  },
  {
   "cell_type": "code",
   "metadata": {
    "id": "-ESFEXeaWgua"
   },
   "source": [
    "model_name_or_path = \"/masterarbeit_programming/notebooks/content/models/checkpoint-70\"\n",
    "#config = AutoConfig.from_pretrained(model_name_or_path)\n",
    "processor = Wav2Vec2Processor.from_pretrained(model_name_or_path)\n",
    "model = Wav2Vec2ForSpeechClassification.from_pretrained(model_name_or_path).to(device)"
   ],
   "execution_count": 41,
   "outputs": [
    {
     "name": "stderr",
     "output_type": "stream",
     "text": [
      "loading configuration file /masterarbeit_programming/notebooks/content/models/checkpoint-70\\preprocessor_config.json\n",
      "Feature extractor Wav2Vec2FeatureExtractor {\n",
      "  \"do_normalize\": true,\n",
      "  \"feature_extractor_type\": \"Wav2Vec2FeatureExtractor\",\n",
      "  \"feature_size\": 1,\n",
      "  \"padding_side\": \"right\",\n",
      "  \"padding_value\": 0.0,\n",
      "  \"processor_class\": \"Wav2Vec2ProcessorWithLM\",\n",
      "  \"return_attention_mask\": true,\n",
      "  \"sampling_rate\": 16000\n",
      "}\n",
      "\n",
      "Could not locate the tokenizer configuration file, will try to use the model config instead.\n",
      "loading configuration file /masterarbeit_programming/notebooks/content/models/checkpoint-70\\config.json\n",
      "Model config Wav2Vec2Config {\n",
      "  \"_name_or_path\": \"/masterarbeit_programming/notebooks/content/models/checkpoint-70\",\n",
      "  \"activation_dropout\": 0.05,\n",
      "  \"adapter_kernel_size\": 3,\n",
      "  \"adapter_stride\": 2,\n",
      "  \"add_adapter\": false,\n",
      "  \"apply_spec_augment\": true,\n",
      "  \"architectures\": [\n",
      "    \"Wav2Vec2ForSpeechClassification\"\n",
      "  ],\n",
      "  \"attention_dropout\": 0.1,\n",
      "  \"bos_token_id\": 1,\n",
      "  \"classifier_proj_size\": 256,\n",
      "  \"codevector_dim\": 768,\n",
      "  \"contrastive_logits_temperature\": 0.1,\n",
      "  \"conv_bias\": true,\n",
      "  \"conv_dim\": [\n",
      "    512,\n",
      "    512,\n",
      "    512,\n",
      "    512,\n",
      "    512,\n",
      "    512,\n",
      "    512\n",
      "  ],\n",
      "  \"conv_kernel\": [\n",
      "    10,\n",
      "    3,\n",
      "    3,\n",
      "    3,\n",
      "    3,\n",
      "    2,\n",
      "    2\n",
      "  ],\n",
      "  \"conv_stride\": [\n",
      "    5,\n",
      "    2,\n",
      "    2,\n",
      "    2,\n",
      "    2,\n",
      "    2,\n",
      "    2\n",
      "  ],\n",
      "  \"ctc_loss_reduction\": \"mean\",\n",
      "  \"ctc_zero_infinity\": true,\n",
      "  \"diversity_loss_weight\": 0.1,\n",
      "  \"do_stable_layer_norm\": true,\n",
      "  \"eos_token_id\": 2,\n",
      "  \"feat_extract_activation\": \"gelu\",\n",
      "  \"feat_extract_dropout\": 0.0,\n",
      "  \"feat_extract_norm\": \"layer\",\n",
      "  \"feat_proj_dropout\": 0.05,\n",
      "  \"feat_quantizer_dropout\": 0.0,\n",
      "  \"final_dropout\": 0.0,\n",
      "  \"finetuning_task\": \"wav2vec2_clf\",\n",
      "  \"hidden_act\": \"gelu\",\n",
      "  \"hidden_dropout\": 0.05,\n",
      "  \"hidden_size\": 1024,\n",
      "  \"id2label\": {\n",
      "    \"0\": \"angry\",\n",
      "    \"1\": \"disgust\",\n",
      "    \"2\": \"fear\",\n",
      "    \"3\": \"happy\",\n",
      "    \"4\": \"ps\",\n",
      "    \"5\": \"sad\"\n",
      "  },\n",
      "  \"initializer_range\": 0.02,\n",
      "  \"intermediate_size\": 4096,\n",
      "  \"label2id\": {\n",
      "    \"angry\": 0,\n",
      "    \"disgust\": 1,\n",
      "    \"fear\": 2,\n",
      "    \"happy\": 3,\n",
      "    \"ps\": 4,\n",
      "    \"sad\": 5\n",
      "  },\n",
      "  \"layer_norm_eps\": 1e-05,\n",
      "  \"layerdrop\": 0.05,\n",
      "  \"mask_channel_length\": 10,\n",
      "  \"mask_channel_min_space\": 1,\n",
      "  \"mask_channel_other\": 0.0,\n",
      "  \"mask_channel_prob\": 0.0,\n",
      "  \"mask_channel_selection\": \"static\",\n",
      "  \"mask_feature_length\": 10,\n",
      "  \"mask_feature_min_masks\": 0,\n",
      "  \"mask_feature_prob\": 0.0,\n",
      "  \"mask_time_length\": 10,\n",
      "  \"mask_time_min_masks\": 2,\n",
      "  \"mask_time_min_space\": 1,\n",
      "  \"mask_time_other\": 0.0,\n",
      "  \"mask_time_prob\": 0.05,\n",
      "  \"mask_time_selection\": \"static\",\n",
      "  \"model_type\": \"wav2vec2\",\n",
      "  \"num_adapter_layers\": 3,\n",
      "  \"num_attention_heads\": 16,\n",
      "  \"num_codevector_groups\": 2,\n",
      "  \"num_codevectors_per_group\": 320,\n",
      "  \"num_conv_pos_embedding_groups\": 16,\n",
      "  \"num_conv_pos_embeddings\": 128,\n",
      "  \"num_feat_extract_layers\": 7,\n",
      "  \"num_hidden_layers\": 24,\n",
      "  \"num_negatives\": 100,\n",
      "  \"output_hidden_size\": 1024,\n",
      "  \"pad_token_id\": 0,\n",
      "  \"pooling_mode\": \"mean\",\n",
      "  \"problem_type\": \"single_label_classification\",\n",
      "  \"proj_codevector_dim\": 768,\n",
      "  \"tdnn_dilation\": [\n",
      "    1,\n",
      "    2,\n",
      "    3,\n",
      "    1,\n",
      "    1\n",
      "  ],\n",
      "  \"tdnn_dim\": [\n",
      "    512,\n",
      "    512,\n",
      "    512,\n",
      "    512,\n",
      "    1500\n",
      "  ],\n",
      "  \"tdnn_kernel\": [\n",
      "    5,\n",
      "    3,\n",
      "    3,\n",
      "    1,\n",
      "    1\n",
      "  ],\n",
      "  \"torch_dtype\": \"float32\",\n",
      "  \"transformers_version\": \"4.24.0\",\n",
      "  \"use_weighted_layer_sum\": false,\n",
      "  \"vocab_size\": 38,\n",
      "  \"xvector_output_dim\": 512\n",
      "}\n",
      "\n",
      "X:\\masterarbeit_programming\\venv\\lib\\site-packages\\transformers\\models\\wav2vec2\\processing_wav2vec2.py:53: FutureWarning: Loading a tokenizer inside Wav2Vec2Processor from a config that does not include a `tokenizer_class` attribute is deprecated and will be removed in v5. Please add `'tokenizer_class': 'Wav2Vec2CTCTokenizer'` attribute to either your `config.json` or `tokenizer_config.json` file to suppress this warning: \n",
      "  warnings.warn(\n",
      "loading configuration file /masterarbeit_programming/notebooks/content/models/checkpoint-70\\preprocessor_config.json\n",
      "Feature extractor Wav2Vec2FeatureExtractor {\n",
      "  \"do_normalize\": true,\n",
      "  \"feature_extractor_type\": \"Wav2Vec2FeatureExtractor\",\n",
      "  \"feature_size\": 1,\n",
      "  \"padding_side\": \"right\",\n",
      "  \"padding_value\": 0.0,\n",
      "  \"processor_class\": \"Wav2Vec2ProcessorWithLM\",\n",
      "  \"return_attention_mask\": true,\n",
      "  \"sampling_rate\": 16000\n",
      "}\n",
      "\n"
     ]
    },
    {
     "ename": "OSError",
     "evalue": "Can't load tokenizer for '/masterarbeit_programming/notebooks/content/models/checkpoint-70'. If you were trying to load it from 'https://huggingface.co/models', make sure you don't have a local directory with the same name. Otherwise, make sure '/masterarbeit_programming/notebooks/content/models/checkpoint-70' is the correct path to a directory containing all relevant files for a Wav2Vec2CTCTokenizer tokenizer.",
     "output_type": "error",
     "traceback": [
      "\u001B[1;31m---------------------------------------------------------------------------\u001B[0m",
      "\u001B[1;31mOSError\u001B[0m                                   Traceback (most recent call last)",
      "File \u001B[1;32mX:\\masterarbeit_programming\\venv\\lib\\site-packages\\transformers\\models\\wav2vec2\\processing_wav2vec2.py:51\u001B[0m, in \u001B[0;36mWav2Vec2Processor.from_pretrained\u001B[1;34m(cls, pretrained_model_name_or_path, **kwargs)\u001B[0m\n\u001B[0;32m     50\u001B[0m \u001B[38;5;28;01mtry\u001B[39;00m:\n\u001B[1;32m---> 51\u001B[0m     \u001B[38;5;28;01mreturn\u001B[39;00m \u001B[38;5;28msuper\u001B[39m()\u001B[38;5;241m.\u001B[39mfrom_pretrained(pretrained_model_name_or_path, \u001B[38;5;241m*\u001B[39m\u001B[38;5;241m*\u001B[39mkwargs)\n\u001B[0;32m     52\u001B[0m \u001B[38;5;28;01mexcept\u001B[39;00m \u001B[38;5;167;01mOSError\u001B[39;00m:\n",
      "File \u001B[1;32mX:\\masterarbeit_programming\\venv\\lib\\site-packages\\transformers\\processing_utils.py:182\u001B[0m, in \u001B[0;36mProcessorMixin.from_pretrained\u001B[1;34m(cls, pretrained_model_name_or_path, **kwargs)\u001B[0m\n\u001B[0;32m    154\u001B[0m \u001B[38;5;124mr\u001B[39m\u001B[38;5;124;03m\"\"\"\u001B[39;00m\n\u001B[0;32m    155\u001B[0m \u001B[38;5;124;03mInstantiate a processor associated with a pretrained model.\u001B[39;00m\n\u001B[0;32m    156\u001B[0m \n\u001B[1;32m   (...)\u001B[0m\n\u001B[0;32m    180\u001B[0m \u001B[38;5;124;03m        [`~tokenization_utils_base.PreTrainedTokenizer.from_pretrained`].\u001B[39;00m\n\u001B[0;32m    181\u001B[0m \u001B[38;5;124;03m\"\"\"\u001B[39;00m\n\u001B[1;32m--> 182\u001B[0m args \u001B[38;5;241m=\u001B[39m \u001B[38;5;28mcls\u001B[39m\u001B[38;5;241m.\u001B[39m_get_arguments_from_pretrained(pretrained_model_name_or_path, \u001B[38;5;241m*\u001B[39m\u001B[38;5;241m*\u001B[39mkwargs)\n\u001B[0;32m    183\u001B[0m \u001B[38;5;28;01mreturn\u001B[39;00m \u001B[38;5;28mcls\u001B[39m(\u001B[38;5;241m*\u001B[39margs)\n",
      "File \u001B[1;32mX:\\masterarbeit_programming\\venv\\lib\\site-packages\\transformers\\processing_utils.py:226\u001B[0m, in \u001B[0;36mProcessorMixin._get_arguments_from_pretrained\u001B[1;34m(cls, pretrained_model_name_or_path, **kwargs)\u001B[0m\n\u001B[0;32m    224\u001B[0m         attribute_class \u001B[38;5;241m=\u001B[39m \u001B[38;5;28mgetattr\u001B[39m(transformers_module, class_name)\n\u001B[1;32m--> 226\u001B[0m     args\u001B[38;5;241m.\u001B[39mappend(attribute_class\u001B[38;5;241m.\u001B[39mfrom_pretrained(pretrained_model_name_or_path, \u001B[38;5;241m*\u001B[39m\u001B[38;5;241m*\u001B[39mkwargs))\n\u001B[0;32m    227\u001B[0m \u001B[38;5;28;01mreturn\u001B[39;00m args\n",
      "File \u001B[1;32mX:\\masterarbeit_programming\\venv\\lib\\site-packages\\transformers\\models\\auto\\tokenization_auto.py:640\u001B[0m, in \u001B[0;36mAutoTokenizer.from_pretrained\u001B[1;34m(cls, pretrained_model_name_or_path, *inputs, **kwargs)\u001B[0m\n\u001B[0;32m    639\u001B[0m \u001B[38;5;28;01mif\u001B[39;00m tokenizer_class_py \u001B[38;5;129;01mis\u001B[39;00m \u001B[38;5;129;01mnot\u001B[39;00m \u001B[38;5;28;01mNone\u001B[39;00m:\n\u001B[1;32m--> 640\u001B[0m     \u001B[38;5;28;01mreturn\u001B[39;00m tokenizer_class_py\u001B[38;5;241m.\u001B[39mfrom_pretrained(pretrained_model_name_or_path, \u001B[38;5;241m*\u001B[39minputs, \u001B[38;5;241m*\u001B[39m\u001B[38;5;241m*\u001B[39mkwargs)\n\u001B[0;32m    641\u001B[0m \u001B[38;5;28;01melse\u001B[39;00m:\n",
      "File \u001B[1;32mX:\\masterarbeit_programming\\venv\\lib\\site-packages\\transformers\\tokenization_utils_base.py:1761\u001B[0m, in \u001B[0;36mPreTrainedTokenizerBase.from_pretrained\u001B[1;34m(cls, pretrained_model_name_or_path, *init_inputs, **kwargs)\u001B[0m\n\u001B[0;32m   1760\u001B[0m \u001B[38;5;28;01mif\u001B[39;00m \u001B[38;5;28mall\u001B[39m(full_file_name \u001B[38;5;129;01mis\u001B[39;00m \u001B[38;5;28;01mNone\u001B[39;00m \u001B[38;5;28;01mfor\u001B[39;00m full_file_name \u001B[38;5;129;01min\u001B[39;00m resolved_vocab_files\u001B[38;5;241m.\u001B[39mvalues()):\n\u001B[1;32m-> 1761\u001B[0m     \u001B[38;5;28;01mraise\u001B[39;00m \u001B[38;5;167;01mEnvironmentError\u001B[39;00m(\n\u001B[0;32m   1762\u001B[0m         \u001B[38;5;124mf\u001B[39m\u001B[38;5;124m\"\u001B[39m\u001B[38;5;124mCan\u001B[39m\u001B[38;5;124m'\u001B[39m\u001B[38;5;124mt load tokenizer for \u001B[39m\u001B[38;5;124m'\u001B[39m\u001B[38;5;132;01m{\u001B[39;00mpretrained_model_name_or_path\u001B[38;5;132;01m}\u001B[39;00m\u001B[38;5;124m'\u001B[39m\u001B[38;5;124m. If you were trying to load it from \u001B[39m\u001B[38;5;124m\"\u001B[39m\n\u001B[0;32m   1763\u001B[0m         \u001B[38;5;124m\"\u001B[39m\u001B[38;5;124m'\u001B[39m\u001B[38;5;124mhttps://huggingface.co/models\u001B[39m\u001B[38;5;124m'\u001B[39m\u001B[38;5;124m, make sure you don\u001B[39m\u001B[38;5;124m'\u001B[39m\u001B[38;5;124mt have a local directory with the same name. \u001B[39m\u001B[38;5;124m\"\u001B[39m\n\u001B[0;32m   1764\u001B[0m         \u001B[38;5;124mf\u001B[39m\u001B[38;5;124m\"\u001B[39m\u001B[38;5;124mOtherwise, make sure \u001B[39m\u001B[38;5;124m'\u001B[39m\u001B[38;5;132;01m{\u001B[39;00mpretrained_model_name_or_path\u001B[38;5;132;01m}\u001B[39;00m\u001B[38;5;124m'\u001B[39m\u001B[38;5;124m is the correct path to a directory \u001B[39m\u001B[38;5;124m\"\u001B[39m\n\u001B[0;32m   1765\u001B[0m         \u001B[38;5;124mf\u001B[39m\u001B[38;5;124m\"\u001B[39m\u001B[38;5;124mcontaining all relevant files for a \u001B[39m\u001B[38;5;132;01m{\u001B[39;00m\u001B[38;5;28mcls\u001B[39m\u001B[38;5;241m.\u001B[39m\u001B[38;5;18m__name__\u001B[39m\u001B[38;5;132;01m}\u001B[39;00m\u001B[38;5;124m tokenizer.\u001B[39m\u001B[38;5;124m\"\u001B[39m\n\u001B[0;32m   1766\u001B[0m     )\n\u001B[0;32m   1768\u001B[0m \u001B[38;5;28;01mfor\u001B[39;00m file_id, file_path \u001B[38;5;129;01min\u001B[39;00m vocab_files\u001B[38;5;241m.\u001B[39mitems():\n",
      "\u001B[1;31mOSError\u001B[0m: Can't load tokenizer for '/masterarbeit_programming/notebooks/content/models/checkpoint-70'. If you were trying to load it from 'https://huggingface.co/models', make sure you don't have a local directory with the same name. Otherwise, make sure '/masterarbeit_programming/notebooks/content/models/checkpoint-70' is the correct path to a directory containing all relevant files for a Wav2Vec2CTCTokenizer tokenizer.",
      "\nDuring handling of the above exception, another exception occurred:\n",
      "\u001B[1;31mOSError\u001B[0m                                   Traceback (most recent call last)",
      "Cell \u001B[1;32mIn [41], line 3\u001B[0m\n\u001B[0;32m      1\u001B[0m model_name_or_path \u001B[38;5;241m=\u001B[39m \u001B[38;5;124m\"\u001B[39m\u001B[38;5;124m/masterarbeit_programming/notebooks/content/models/checkpoint-70\u001B[39m\u001B[38;5;124m\"\u001B[39m\n\u001B[0;32m      2\u001B[0m \u001B[38;5;66;03m#config = AutoConfig.from_pretrained(model_name_or_path)\u001B[39;00m\n\u001B[1;32m----> 3\u001B[0m processor \u001B[38;5;241m=\u001B[39m \u001B[43mWav2Vec2Processor\u001B[49m\u001B[38;5;241;43m.\u001B[39;49m\u001B[43mfrom_pretrained\u001B[49m\u001B[43m(\u001B[49m\u001B[43mmodel_name_or_path\u001B[49m\u001B[43m)\u001B[49m\n\u001B[0;32m      4\u001B[0m model \u001B[38;5;241m=\u001B[39m Wav2Vec2ForSpeechClassification\u001B[38;5;241m.\u001B[39mfrom_pretrained(model_name_or_path)\u001B[38;5;241m.\u001B[39mto(device)\n",
      "File \u001B[1;32mX:\\masterarbeit_programming\\venv\\lib\\site-packages\\transformers\\models\\wav2vec2\\processing_wav2vec2.py:63\u001B[0m, in \u001B[0;36mWav2Vec2Processor.from_pretrained\u001B[1;34m(cls, pretrained_model_name_or_path, **kwargs)\u001B[0m\n\u001B[0;32m     53\u001B[0m warnings\u001B[38;5;241m.\u001B[39mwarn(\n\u001B[0;32m     54\u001B[0m     \u001B[38;5;124mf\u001B[39m\u001B[38;5;124m\"\u001B[39m\u001B[38;5;124mLoading a tokenizer inside \u001B[39m\u001B[38;5;132;01m{\u001B[39;00m\u001B[38;5;28mcls\u001B[39m\u001B[38;5;241m.\u001B[39m\u001B[38;5;18m__name__\u001B[39m\u001B[38;5;132;01m}\u001B[39;00m\u001B[38;5;124m from a config that does not\u001B[39m\u001B[38;5;124m\"\u001B[39m\n\u001B[0;32m     55\u001B[0m     \u001B[38;5;124m\"\u001B[39m\u001B[38;5;124m include a `tokenizer_class` attribute is deprecated and will be \u001B[39m\u001B[38;5;124m\"\u001B[39m\n\u001B[1;32m   (...)\u001B[0m\n\u001B[0;32m     59\u001B[0m     \u001B[38;5;167;01mFutureWarning\u001B[39;00m,\n\u001B[0;32m     60\u001B[0m )\n\u001B[0;32m     62\u001B[0m feature_extractor \u001B[38;5;241m=\u001B[39m Wav2Vec2FeatureExtractor\u001B[38;5;241m.\u001B[39mfrom_pretrained(pretrained_model_name_or_path, \u001B[38;5;241m*\u001B[39m\u001B[38;5;241m*\u001B[39mkwargs)\n\u001B[1;32m---> 63\u001B[0m tokenizer \u001B[38;5;241m=\u001B[39m Wav2Vec2CTCTokenizer\u001B[38;5;241m.\u001B[39mfrom_pretrained(pretrained_model_name_or_path, \u001B[38;5;241m*\u001B[39m\u001B[38;5;241m*\u001B[39mkwargs)\n\u001B[0;32m     65\u001B[0m \u001B[38;5;28;01mreturn\u001B[39;00m \u001B[38;5;28mcls\u001B[39m(feature_extractor\u001B[38;5;241m=\u001B[39mfeature_extractor, tokenizer\u001B[38;5;241m=\u001B[39mtokenizer)\n",
      "File \u001B[1;32mX:\\masterarbeit_programming\\venv\\lib\\site-packages\\transformers\\tokenization_utils_base.py:1761\u001B[0m, in \u001B[0;36mPreTrainedTokenizerBase.from_pretrained\u001B[1;34m(cls, pretrained_model_name_or_path, *init_inputs, **kwargs)\u001B[0m\n\u001B[0;32m   1755\u001B[0m     logger\u001B[38;5;241m.\u001B[39minfo(\n\u001B[0;32m   1756\u001B[0m         \u001B[38;5;124mf\u001B[39m\u001B[38;5;124m\"\u001B[39m\u001B[38;5;124mCan\u001B[39m\u001B[38;5;124m'\u001B[39m\u001B[38;5;124mt load following files from cache: \u001B[39m\u001B[38;5;132;01m{\u001B[39;00munresolved_files\u001B[38;5;132;01m}\u001B[39;00m\u001B[38;5;124m and cannot check if these \u001B[39m\u001B[38;5;124m\"\u001B[39m\n\u001B[0;32m   1757\u001B[0m         \u001B[38;5;124m\"\u001B[39m\u001B[38;5;124mfiles are necessary for the tokenizer to operate.\u001B[39m\u001B[38;5;124m\"\u001B[39m\n\u001B[0;32m   1758\u001B[0m     )\n\u001B[0;32m   1760\u001B[0m \u001B[38;5;28;01mif\u001B[39;00m \u001B[38;5;28mall\u001B[39m(full_file_name \u001B[38;5;129;01mis\u001B[39;00m \u001B[38;5;28;01mNone\u001B[39;00m \u001B[38;5;28;01mfor\u001B[39;00m full_file_name \u001B[38;5;129;01min\u001B[39;00m resolved_vocab_files\u001B[38;5;241m.\u001B[39mvalues()):\n\u001B[1;32m-> 1761\u001B[0m     \u001B[38;5;28;01mraise\u001B[39;00m \u001B[38;5;167;01mEnvironmentError\u001B[39;00m(\n\u001B[0;32m   1762\u001B[0m         \u001B[38;5;124mf\u001B[39m\u001B[38;5;124m\"\u001B[39m\u001B[38;5;124mCan\u001B[39m\u001B[38;5;124m'\u001B[39m\u001B[38;5;124mt load tokenizer for \u001B[39m\u001B[38;5;124m'\u001B[39m\u001B[38;5;132;01m{\u001B[39;00mpretrained_model_name_or_path\u001B[38;5;132;01m}\u001B[39;00m\u001B[38;5;124m'\u001B[39m\u001B[38;5;124m. If you were trying to load it from \u001B[39m\u001B[38;5;124m\"\u001B[39m\n\u001B[0;32m   1763\u001B[0m         \u001B[38;5;124m\"\u001B[39m\u001B[38;5;124m'\u001B[39m\u001B[38;5;124mhttps://huggingface.co/models\u001B[39m\u001B[38;5;124m'\u001B[39m\u001B[38;5;124m, make sure you don\u001B[39m\u001B[38;5;124m'\u001B[39m\u001B[38;5;124mt have a local directory with the same name. \u001B[39m\u001B[38;5;124m\"\u001B[39m\n\u001B[0;32m   1764\u001B[0m         \u001B[38;5;124mf\u001B[39m\u001B[38;5;124m\"\u001B[39m\u001B[38;5;124mOtherwise, make sure \u001B[39m\u001B[38;5;124m'\u001B[39m\u001B[38;5;132;01m{\u001B[39;00mpretrained_model_name_or_path\u001B[38;5;132;01m}\u001B[39;00m\u001B[38;5;124m'\u001B[39m\u001B[38;5;124m is the correct path to a directory \u001B[39m\u001B[38;5;124m\"\u001B[39m\n\u001B[0;32m   1765\u001B[0m         \u001B[38;5;124mf\u001B[39m\u001B[38;5;124m\"\u001B[39m\u001B[38;5;124mcontaining all relevant files for a \u001B[39m\u001B[38;5;132;01m{\u001B[39;00m\u001B[38;5;28mcls\u001B[39m\u001B[38;5;241m.\u001B[39m\u001B[38;5;18m__name__\u001B[39m\u001B[38;5;132;01m}\u001B[39;00m\u001B[38;5;124m tokenizer.\u001B[39m\u001B[38;5;124m\"\u001B[39m\n\u001B[0;32m   1766\u001B[0m     )\n\u001B[0;32m   1768\u001B[0m \u001B[38;5;28;01mfor\u001B[39;00m file_id, file_path \u001B[38;5;129;01min\u001B[39;00m vocab_files\u001B[38;5;241m.\u001B[39mitems():\n\u001B[0;32m   1769\u001B[0m     \u001B[38;5;28;01mif\u001B[39;00m file_id \u001B[38;5;129;01mnot\u001B[39;00m \u001B[38;5;129;01min\u001B[39;00m resolved_vocab_files:\n",
      "\u001B[1;31mOSError\u001B[0m: Can't load tokenizer for '/masterarbeit_programming/notebooks/content/models/checkpoint-70'. If you were trying to load it from 'https://huggingface.co/models', make sure you don't have a local directory with the same name. Otherwise, make sure '/masterarbeit_programming/notebooks/content/models/checkpoint-70' is the correct path to a directory containing all relevant files for a Wav2Vec2CTCTokenizer tokenizer."
     ]
    }
   ]
  },
  {
   "cell_type": "code",
   "metadata": {
    "id": "BkEd4w8IV7kZ"
   },
   "source": [
    "def speech_file_to_array_fn(batch):\n",
    "    speech_array, sampling_rate = torchaudio.load(batch[\"path\"])\n",
    "    speech_array = speech_array.squeeze().numpy()\n",
    "    speech_array = librosa.resample(np.asarray(speech_array), sampling_rate, processor.feature_extractor.sampling_rate)\n",
    "\n",
    "    batch[\"speech\"] = speech_array\n",
    "    return batch\n",
    "\n",
    "\n",
    "def predict(batch):\n",
    "    features = processor(batch[\"speech\"], sampling_rate=processor.feature_extractor.sampling_rate, return_tensors=\"pt\", padding=True)\n",
    "\n",
    "    input_values = features.input_values.to(device)\n",
    "    attention_mask = features.attention_mask.to(device)\n",
    "\n",
    "    with torch.no_grad():\n",
    "        logits = model(input_values, attention_mask=attention_mask).logits \n",
    "\n",
    "    pred_ids = torch.argmax(logits, dim=-1).detach().cpu().numpy()\n",
    "    batch[\"predicted\"] = pred_ids\n",
    "    return batch"
   ],
   "execution_count": 42,
   "outputs": []
  },
  {
   "cell_type": "code",
   "metadata": {
    "id": "S4P6P6XwW85p"
   },
   "source": [
    "test_dataset = test_dataset.map(speech_file_to_array_fn)"
   ],
   "execution_count": 43,
   "outputs": [
    {
     "data": {
      "text/plain": "  0%|          | 0/154 [00:00<?, ?ex/s]",
      "application/vnd.jupyter.widget-view+json": {
       "version_major": 2,
       "version_minor": 0,
       "model_id": "3929ea22b9e04b928afd41103816062a"
      }
     },
     "metadata": {},
     "output_type": "display_data"
    },
    {
     "name": "stderr",
     "output_type": "stream",
     "text": [
      "C:\\Users\\tonib\\AppData\\Local\\Temp\\ipykernel_17436\\2184849335.py:4: FutureWarning: Pass orig_sr=44100, target_sr=16000 as keyword args. From version 0.10 passing these as positional arguments will result in an error\n",
      "  speech_array = librosa.resample(np.asarray(speech_array), sampling_rate, processor.feature_extractor.sampling_rate)\n"
     ]
    }
   ]
  },
  {
   "cell_type": "code",
   "metadata": {
    "id": "K_oZJzHsXKHv"
   },
   "source": [
    "result = test_dataset.map(predict, batched=True, batch_size=8)"
   ],
   "execution_count": 44,
   "outputs": [
    {
     "data": {
      "text/plain": "  0%|          | 0/20 [00:00<?, ?ba/s]",
      "application/vnd.jupyter.widget-view+json": {
       "version_major": 2,
       "version_minor": 0,
       "model_id": "6cbd551e2f654cc6af0b08e34825fe06"
      }
     },
     "metadata": {},
     "output_type": "display_data"
    }
   ]
  },
  {
   "cell_type": "code",
   "metadata": {
    "id": "BnfJLZvAaxTo"
   },
   "source": [
    "label_names = [config.id2label[i] for i in range(config.num_labels)]\n",
    "label_names"
   ],
   "execution_count": 45,
   "outputs": [
    {
     "data": {
      "text/plain": "['angry', 'disgust', 'fear', 'happy', 'ps', 'sad']"
     },
     "execution_count": 45,
     "metadata": {},
     "output_type": "execute_result"
    }
   ]
  },
  {
   "cell_type": "code",
   "execution_count": 46,
   "outputs": [
    {
     "data": {
      "text/plain": "{'path': '../stimuli_intensitätsmorphs\\\\nf04_sad_w01_c_75_70dB.wav',\n 'emotion': 'sad',\n 'speech': [-7.794335843414046e-09,\n  1.0645238468498519e-08,\n  -1.3572113211068881e-08,\n  1.6297940774734343e-08,\n  -1.8240548627090902e-08,\n  1.8949330993223157e-08,\n  -1.7321545087156665e-08,\n  1.2693480044845273e-08,\n  -4.072574721902811e-09,\n  -9.061464467663427e-09,\n  2.7254756673755764e-08,\n  -5.042594253268362e-08,\n  7.77959954234575e-08,\n  -1.0780023274037376e-07,\n  1.3804299214825733e-07,\n  -1.6518349355010287e-07,\n  1.8481657093616377e-07,\n  -1.9281851848518272e-07,\n  1.8278669244864432e-07,\n  -1.5029509370378946e-07,\n  8.972706666554586e-08,\n  1.2660883452753069e-09,\n  -1.2734400911540433e-07,\n  2.8778541150131787e-07,\n  -4.82606367313565e-07,\n  7.065278282425425e-07,\n  -9.585020279700984e-07,\n  1.2362296502033132e-06,\n  -1.5763051806061412e-06,\n  2.4992255021061283e-06,\n  2.5020433895406313e-05,\n  5.7830868172459304e-05,\n  8.04006849648431e-05,\n  0.00012009470083285123,\n  0.00017954660870600492,\n  0.00018262334924656898,\n  0.00010848649981198832,\n  0.00010518336785025895,\n  0.00021249522978905588,\n  0.00017681940516922623,\n  4.459030969883315e-05,\n  1.7709382518660277e-05,\n  0.00013727198529522866,\n  0.000322868610965088,\n  0.0003804430307354778,\n  0.00026319242897443473,\n  0.0001822655467549339,\n  0.00045953222434036434,\n  0.0008316891035065055,\n  0.0007595896604470909,\n  0.0006318988162092865,\n  0.000698177726007998,\n  0.0008659511804580688,\n  0.001100358902476728,\n  0.0010546004632487893,\n  0.0009118658490478992,\n  0.000925413507502526,\n  0.0008014306076802313,\n  0.00023817959299776703,\n  -0.00028511916752904654,\n  -0.00038855482125654817,\n  -2.9251037631183863e-05,\n  -0.00011214434925932437,\n  -0.001128033152781427,\n  -0.002118764678016305,\n  -0.0030512623488903046,\n  -0.003676149295642972,\n  -0.004224773496389389,\n  -0.00507752550765872,\n  -0.005924133118242025,\n  -0.006087456364184618,\n  -0.00615960406139493,\n  -0.007226205430924892,\n  -0.007978301495313644,\n  -0.008136884309351444,\n  -0.00853688269853592,\n  -0.009576398879289627,\n  -0.010371926240622997,\n  -0.009841802529990673,\n  -0.00882389210164547,\n  -0.008263635449111462,\n  -0.008549979887902737,\n  -0.009546582587063313,\n  -0.00983408372849226,\n  -0.008927842602133751,\n  -0.007927155122160912,\n  -0.007722165435552597,\n  -0.007562392391264439,\n  -0.006089855916798115,\n  -0.0048462036065757275,\n  -0.004910452291369438,\n  -0.004957715515047312,\n  -0.0047406964004039764,\n  -0.0038690168876200914,\n  -0.0024105238262563944,\n  -0.002500917762517929,\n  -0.0027937316335737705,\n  -0.0015037289122119546,\n  0.00026204015011899173,\n  5.2412615332286805e-05,\n  -0.0008866960997693241,\n  0.0006988215027377009,\n  0.002196838380768895,\n  0.002587840659543872,\n  0.002075633266940713,\n  0.001478966441936791,\n  0.001519264536909759,\n  0.0010109860450029373,\n  0.0001305700425291434,\n  -0.0006561230402439833,\n  -0.0008992105722427368,\n  -0.001108767231926322,\n  -0.0017240085871890187,\n  -0.0028144896496087313,\n  -0.003996666055172682,\n  -0.004664339125156403,\n  -0.005088824313133955,\n  -0.0054587810300290585,\n  -0.005440257024019957,\n  -0.005095453467220068,\n  -0.004021353553980589,\n  -0.002789953723549843,\n  -0.0017250808887183666,\n  -0.00037733360659331083,\n  0.0004394308489281684,\n  0.0011643333127722144,\n  0.0024389855097979307,\n  0.0049193487502634525,\n  0.008447758853435516,\n  0.011336681433022022,\n  0.01317030843347311,\n  0.014061312191188335,\n  0.014644789509475231,\n  0.015569566749036312,\n  0.01649492047727108,\n  0.017384517937898636,\n  0.018130382522940636,\n  0.018164120614528656,\n  0.018064985051751137,\n  0.01740114763379097,\n  0.015790848061442375,\n  0.014128069393336773,\n  0.012192698195576668,\n  0.01024658977985382,\n  0.0074657355435192585,\n  0.005174208432435989,\n  0.004166301339864731,\n  0.002469272119924426,\n  0.0004123149556107819,\n  -0.001865074154920876,\n  -0.004783802665770054,\n  -0.007286052219569683,\n  -0.008498298935592175,\n  -0.009448090568184853,\n  -0.01031976006925106,\n  -0.011153909377753735,\n  -0.011577913537621498,\n  -0.01205379981547594,\n  -0.013215328566730022,\n  -0.013768737204372883,\n  -0.013679088093340397,\n  -0.013391119427978992,\n  -0.012964745983481407,\n  -0.012074241414666176,\n  -0.01303120143711567,\n  -0.013629412278532982,\n  -0.012348438613116741,\n  -0.01097284909337759,\n  -0.003855842864140868,\n  0.005702189169824123,\n  0.010990763083100319,\n  0.01262415200471878,\n  0.014452307485044003,\n  0.018951022997498512,\n  0.02267260104417801,\n  0.025876574218273163,\n  0.03095417656004429,\n  0.035950496792793274,\n  0.03975049778819084,\n  0.04273608699440956,\n  0.043696578592061996,\n  0.04337011277675629,\n  0.04263734072446823,\n  0.03990790992975235,\n  0.034387681633234024,\n  0.029870910570025444,\n  0.028017941862344742,\n  0.0260878037661314,\n  0.02168187126517296,\n  0.014903225004673004,\n  0.008197016082704067,\n  0.0022749691270291805,\n  -0.004286947660148144,\n  -0.010312244296073914,\n  -0.014491109177470207,\n  -0.019039079546928406,\n  -0.023107416927814484,\n  -0.025497250258922577,\n  -0.027121810242533684,\n  -0.0291227325797081,\n  -0.030766842886805534,\n  -0.031807634979486465,\n  -0.03270885720849037,\n  -0.03240496665239334,\n  -0.031592026352882385,\n  -0.029807236045598984,\n  -0.02635776437819004,\n  -0.02295733615756035,\n  -0.020736539736390114,\n  -0.020404793322086334,\n  -0.020003942772746086,\n  -0.01763598993420601,\n  -0.015399107709527016,\n  -0.013701639138162136,\n  -0.011396622285246849,\n  -0.009408807381987572,\n  -0.009531648829579353,\n  -0.011140509508550167,\n  -0.011935660615563393,\n  -0.011258354410529137,\n  -0.009575744159519672,\n  -0.00998940784484148,\n  -0.014205430634319782,\n  -0.015644848346710205,\n  -0.01358109712600708,\n  -0.012894842773675919,\n  -0.014666601084172726,\n  -0.01607295125722885,\n  -0.016695842146873474,\n  -0.01932530663907528,\n  -0.02032344415783882,\n  -0.018712708726525307,\n  -0.017675010487437248,\n  -0.015714993700385094,\n  -0.014764850027859211,\n  -0.018078990280628204,\n  -0.020332029089331627,\n  -0.02013038657605648,\n  -0.010670432820916176,\n  0.008909810334444046,\n  0.02844398282468319,\n  0.039223987609148026,\n  0.04189281538128853,\n  0.046509746462106705,\n  0.05253969877958298,\n  0.06087728217244148,\n  0.06751741468906403,\n  0.075113445520401,\n  0.08610279113054276,\n  0.09412930905818939,\n  0.09792804718017578,\n  0.09650647640228271,\n  0.09413526207208633,\n  0.08894021064043045,\n  0.07547590881586075,\n  0.060262005776166916,\n  0.05011075362563133,\n  0.04557042196393013,\n  0.04052550345659256,\n  0.027875050902366638,\n  0.013335254043340683,\n  -0.001990644494071603,\n  -0.015570002608001232,\n  -0.030329285189509392,\n  -0.04385858029127121,\n  -0.05015956610441208,\n  -0.05444891378283501,\n  -0.058299850672483444,\n  -0.06374600529670715,\n  -0.0654527023434639,\n  -0.06572344899177551,\n  -0.0655801072716713,\n  -0.06418396532535553,\n  -0.06228528544306755,\n  -0.05806635692715645,\n  -0.050789229571819305,\n  -0.0418488048017025,\n  -0.03350702300667763,\n  -0.026451965793967247,\n  -0.021656977012753487,\n  -0.01738363690674305,\n  -0.014776591211557388,\n  -0.008652696385979652,\n  -0.001426295260898769,\n  0.0032550059258937836,\n  0.004471961408853531,\n  0.003661716589704156,\n  0.005251291207969189,\n  0.0033866942394524813,\n  -0.00040042889304459095,\n  -0.002650820417329669,\n  -0.0019247628515586257,\n  -0.0021993680857121944,\n  -0.007667815778404474,\n  -0.013383760116994381,\n  -0.016403116285800934,\n  -0.015854591503739357,\n  -0.01652955822646618,\n  -0.021352410316467285,\n  -0.02605186402797699,\n  -0.0271245539188385,\n  -0.02601730078458786,\n  -0.025680983439087868,\n  -0.023335374891757965,\n  -0.019819656386971474,\n  -0.020404435694217682,\n  -0.024650054052472115,\n  -0.026281364262104034,\n  -0.02315123751759529,\n  -0.018075160682201385,\n  -0.013956981711089611,\n  -0.012315766885876656,\n  -0.01227470114827156,\n  -0.013343256898224354,\n  -0.012218550778925419,\n  -0.011222434230148792,\n  -0.012080783024430275,\n  -0.002194802975282073,\n  0.025213943794369698,\n  0.05361447110772133,\n  0.06659816205501556,\n  0.07077610492706299,\n  0.0749388188123703,\n  0.07485699653625488,\n  0.0742645263671875,\n  0.08405402302742004,\n  0.10114641487598419,\n  0.11282721906900406,\n  0.11324188113212585,\n  0.11194971203804016,\n  0.11255230754613876,\n  0.10924152284860611,\n  0.09595145285129547,\n  0.0741967037320137,\n  0.054693881422281265,\n  0.04117460921406746,\n  0.03275401517748833,\n  0.023486601188778877,\n  0.012699323706328869,\n  -0.0026601047720760107,\n  -0.025056861340999603,\n  -0.0493849478662014,\n  -0.06747113913297653,\n  -0.07243543118238449,\n  -0.07372744381427765,\n  -0.07801244407892227,\n  -0.08658318221569061,\n  -0.09244640171527863,\n  -0.0906970351934433,\n  -0.08290810883045197,\n  -0.07451926171779633,\n  -0.07438816130161285,\n  -0.07395924627780914,\n  -0.06511024385690689,\n  -0.047939643263816833,\n  -0.031983278691768646,\n  -0.021167811006307602,\n  -0.012645027600228786,\n  -0.007102938834577799,\n  -0.002431602217257023,\n  0.002163628349080682,\n  0.010935284197330475,\n  0.019954780116677284,\n  0.025554392486810684,\n  0.02490224502980709,\n  0.019925249740481377,\n  0.01910196989774704,\n  0.018969189375638962,\n  0.017309769988059998,\n  0.011148372665047646,\n  0.0038415519520640373,\n  -0.004266224801540375,\n  -0.013955151662230492,\n  -0.015109275467693806,\n  -0.012502011843025684,\n  -0.012123660184442997,\n  -0.020250853151082993,\n  -0.030777860432863235,\n  -0.03509147837758064,\n  -0.0367157869040966,\n  -0.03273288160562515,\n  -0.031047601252794266,\n  -0.03032820299267769,\n  -0.02934899926185608,\n  -0.029458709061145782,\n  -0.027046125382184982,\n  -0.023258771747350693,\n  -0.015514444559812546,\n  -0.01441895216703415,\n  -0.01836041547358036,\n  -0.0175273809581995,\n  -0.011486086063086987,\n  -0.006478329189121723,\n  -0.007990322075784206,\n  -0.006624117493629456,\n  -0.0033813798800110817,\n  -0.0023260507732629776,\n  -0.005753223784267902,\n  -0.009257094003260136,\n  -0.009962333366274834,\n  -0.0016556110931560397,\n  0.025593716651201248,\n  0.05299534276127815,\n  0.06170143559575081,\n  0.05539802089333534,\n  0.05634766444563866,\n  0.0653105229139328,\n  0.07007259875535965,\n  0.07708258926868439,\n  0.08960666507482529,\n  0.10061192512512207,\n  0.1006934717297554,\n  0.09600883722305298,\n  0.09673849493265152,\n  0.10064846277236938,\n  0.09618008881807327,\n  0.07478433847427368,\n  0.05146942660212517,\n  0.04346216470003128,\n  0.04251059517264366,\n  0.0345342718064785,\n  0.020284919068217278,\n  0.006431963760405779,\n  -0.011974077671766281,\n  -0.03424317017197609,\n  -0.04976504668593407,\n  -0.05321505665779114,\n  -0.052626654505729675,\n  -0.059068068861961365,\n  -0.0692569762468338,\n  -0.07682624459266663,\n  -0.07673358172178268,\n  -0.07425976544618607,\n  -0.07184594124555588,\n  -0.06833051890134811,\n  -0.06331650167703629,\n  -0.056507501751184464,\n  -0.04928165674209595,\n  -0.0387941412627697,\n  -0.02850046381354332,\n  -0.020448286086320877,\n  -0.01943412609398365,\n  -0.01773427054286003,\n  -0.010874135419726372,\n  -0.00250409753061831,\n  0.004930104594677687,\n  0.006922735366970301,\n  0.008770820684731007,\n  0.004097777884453535,\n  -0.0001267253392143175,\n  -2.2175981939653866e-06,\n  0.00042650685645639896,\n  -0.00028551588184200227,\n  -0.006264028139412403,\n  -0.010028664954006672,\n  -0.01469103991985321,\n  -0.017340173944830894,\n  -0.018968667834997177,\n  -0.021588971838355064,\n  -0.024015111848711967,\n  -0.02922704629600048,\n  -0.030392659828066826,\n  -0.028286024928092957,\n  -0.023745428770780563,\n  -0.02212057076394558,\n  -0.02290312573313713,\n  -0.02169162407517433,\n  -0.0221699345856905,\n  -0.02096528746187687,\n  -0.020309843122959137,\n  -0.018094900995492935,\n  -0.01269577257335186,\n  -0.007604445796459913,\n  -0.006173254456371069,\n  -0.0109041603282094,\n  -0.01090817991644144,\n  -0.005773799493908882,\n  -0.005715187173336744,\n  -0.010205676779150963,\n  -0.013148373924195766,\n  -0.01277912687510252,\n  -0.01060827262699604,\n  -0.012948769144713879,\n  -0.005688003730028868,\n  0.029465027153491974,\n  0.07419956475496292,\n  0.09226739406585693,\n  0.07554928213357925,\n  0.06952186673879623,\n  0.08595236390829086,\n  0.0934721827507019,\n  0.08916546404361725,\n  0.09675159305334091,\n  0.12117305397987366,\n  0.13251514732837677,\n  0.1223638653755188,\n  0.10950671136379242,\n  0.10544648766517639,\n  0.10021284967660904,\n  0.07732328772544861,\n  0.04242898151278496,\n  0.01726618781685829,\n  0.0151039008051157,\n  0.01946844719350338,\n  0.007351098116487265,\n  -0.01613777130842209,\n  -0.03868817538022995,\n  -0.06032970920205116,\n  -0.08317802101373672,\n  -0.09307684749364853,\n  -0.08458331227302551,\n  -0.08095896244049072,\n  -0.09231537580490112,\n  -0.09971737116575241,\n  -0.0898997038602829,\n  -0.07624762505292892,\n  -0.07394760102033615,\n  -0.07564299553632736,\n  -0.06824322789907455,\n  -0.054062340408563614,\n  -0.04065582528710365,\n  -0.02850334346294403,\n  -0.011863860301673412,\n  0.0043557751923799515,\n  0.006773476023226976,\n  0.0007109901052899659,\n  0.0034274798817932606,\n  0.016225891187787056,\n  0.024620838463306427,\n  0.023195765912532806,\n  0.022545937448740005,\n  0.022849107161164284,\n  0.01729545369744301,\n  0.008863788098096848,\n  0.0026621667202562094,\n  0.0015620156191289425,\n  -0.002767429919913411,\n  -0.013605386950075626,\n  -0.02482934109866619,\n  -0.02765066549181938,\n  -0.0207272507250309,\n  -0.01987498812377453,\n  -0.028782213106751442,\n  -0.038381148129701614,\n  -0.040121328085660934,\n  -0.03998291864991188,\n  -0.0407039113342762,\n  -0.03492000699043274,\n  -0.026320887729525566,\n  -0.02242514118552208,\n  -0.02749152109026909,\n  -0.02891039289534092,\n  -0.024531656876206398,\n  -0.017691463232040405,\n  -0.013544471934437752,\n  -0.015149273909628391,\n  -0.01725640892982483,\n  -0.01563079282641411,\n  -0.008199705742299557,\n  -0.0068423752672970295,\n  -0.006814647000283003,\n  -0.006011802703142166,\n  -0.00781925767660141,\n  -0.019357778131961823,\n  -0.012269576080143452,\n  0.039916131645441055,\n  0.09351228922605515,\n  0.10422074049711227,\n  0.077892005443573,\n  0.07033176720142365,\n  0.08302116394042969,\n  0.08796139061450958,\n  0.08904188871383667,\n  0.1013164147734642,\n  0.12321005016565323,\n  0.12594565749168396,\n  0.11716917157173157,\n  0.11632348597049713,\n  0.12357399612665176,\n  0.10893743485212326,\n  0.06274090707302094,\n  0.02393031120300293,\n  0.01997407339513302,\n  0.03625478595495224,\n  0.034911148250103,\n  0.018347332254052162,\n  -0.0017743647331371903,\n  -0.027557529509067535,\n  -0.062453743070364,\n  -0.08593650162220001,\n  -0.08031304180622101,\n  -0.07152437418699265,\n  -0.07880932092666626,\n  -0.09696094691753387,\n  -0.10098249465227127,\n  -0.09548250585794449,\n  -0.09123457968235016,\n  -0.0901767835021019,\n  -0.09103647619485855,\n  -0.08638587594032288,\n  -0.07887870818376541,\n  -0.06425917893648148,\n  -0.04803173989057541,\n  -0.028256144374608994,\n  -0.015589010901749134,\n  -0.016756298020482063,\n  -0.018014466390013695,\n  -0.007593049202114344,\n  0.011695349588990211,\n  0.02126191556453705,\n  0.025905152782797813,\n  0.02899448201060295,\n  0.027816075831651688,\n  0.023820823058485985,\n  0.0232872162014246,\n  0.028435224667191505,\n  0.02875407226383686,\n  0.022764969617128372,\n  0.013479972258210182,\n  0.004970927722752094,\n  -0.00029475195333361626,\n  -0.0015447573969140649,\n  -0.005866598337888718,\n  -0.01594492606818676,\n  -0.023920273408293724,\n  -0.024781769141554832,\n  -0.02266477607190609,\n  -0.028714962303638458,\n  -0.03644602745771408,\n  -0.04058942571282387,\n  -0.04003371670842171,\n  -0.03897752985358238,\n  -0.042200781404972076,\n  -0.043714169412851334,\n  -0.038611866533756256,\n  -0.028082454577088356,\n  -0.027295028790831566,\n  -0.03638235852122307,\n  -0.038413554430007935,\n  -0.029127275571227074,\n  -0.022967936471104622,\n  -0.02218404784798622,\n  -0.02002200111746788,\n  -0.014815687201917171,\n  -0.01841893047094345,\n  -0.011484815739095211,\n  0.040236201137304306,\n  0.10106705129146576,\n  0.11806286126375198,\n  0.0879519134759903,\n  0.07551752030849457,\n  0.09814964979887009,\n  0.11117325723171234,\n  0.1069834902882576,\n  0.11038978397846222,\n  0.13336707651615143,\n  0.14467087388038635,\n  0.13426801562309265,\n  0.12433675676584244,\n  0.12651968002319336,\n  0.11708574742078781,\n  0.07436437159776688,\n  0.02645842358469963,\n  0.012347494252026081,\n  0.0295127984136343,\n  0.03326740488409996,\n  0.00942167453467846,\n  -0.020660096779465675,\n  -0.04342571645975113,\n  -0.06655702739953995,\n  -0.09098958224058151,\n  -0.09748180955648422,\n  -0.09229705482721329,\n  -0.09356248378753662,\n  -0.10557274520397186,\n  -0.10960705578327179,\n  -0.0991600751876831,\n  -0.0918252095580101,\n  -0.09378524124622345,\n  -0.09837162494659424,\n  -0.09130148589611053,\n  -0.07223506271839142,\n  -0.04838423803448677,\n  -0.028690479695796967,\n  -0.018057625740766525,\n  -0.014327188022434711,\n  -0.012515789829194546,\n  -0.004128125961869955,\n  0.007681717164814472,\n  0.019711952656507492,\n  0.028884774073958397,\n  0.033619966357946396,\n  0.03557848185300827,\n  0.03394206613302231,\n  0.034692056477069855,\n  0.03348785266280174,\n  0.026126835495233536,\n  0.015357498079538345,\n  0.008856745436787605,\n  0.010275465436279774,\n  0.008400695398449898,\n  0.002259192056953907,\n  -0.006352147087454796,\n  -0.015301085077226162,\n  -0.02508341707289219,\n  -0.03152085468173027,\n  -0.032232604920864105,\n  -0.0330214649438858,\n  -0.03567690774798393,\n  -0.0405387319624424,\n  -0.042049847543239594,\n  -0.041841939091682434,\n  -0.040654007345438004,\n  -0.04306366294622421,\n  -0.045143406838178635,\n  -0.0378451868891716,\n  -0.02965528517961502,\n  -0.028838349506258965,\n  -0.03463587164878845,\n  -0.03343651816248894,\n  -0.024052545428276062,\n  -0.018762245774269104,\n  -0.018027735874056816,\n  -0.019644510000944138,\n  -0.017003042623400688,\n  -0.012918646447360516,\n  -0.013711118139326572,\n  0.011235550977289677,\n  0.07209565490484238,\n  0.12146833539009094,\n  0.11051570624113083,\n  0.07370109856128693,\n  0.07927669584751129,\n  0.1077900230884552,\n  0.11406772583723068,\n  0.10645093768835068,\n  0.12004304677248001,\n  0.1406761258840561,\n  0.13532716035842896,\n  0.12270502746105194,\n  0.12836170196533203,\n  0.13403430581092834,\n  0.10004927217960358,\n  0.04236022010445595,\n  0.014252402819693089,\n  0.026872681453824043,\n  0.04083723574876785,\n  0.02369025908410549,\n  -0.008562873117625713,\n  -0.034141965210437775,\n  -0.052207425236701965,\n  -0.07204432040452957,\n  -0.08937332779169083,\n  -0.08964891731739044,\n  -0.08671138435602188,\n  -0.09649655222892761,\n  -0.11399640142917633,\n  -0.11728351563215256,\n  -0.10064985603094101,\n  -0.08894273638725281,\n  -0.09008612483739853,\n  -0.09819072484970093,\n  -0.0934033989906311,\n  -0.06826338171958923,\n  -0.04302414134144783,\n  -0.030397014692425728,\n  -0.026492422446608543,\n  -0.019429994747042656,\n  -0.012115081772208214,\n  -0.008386921137571335,\n  0.0013003575149923563,\n  0.022210119292140007,\n  0.03893471509218216,\n  0.03758813813328743,\n  0.025710728019475937,\n  0.024822523817420006,\n  0.038106393069028854,\n  0.04264921694993973,\n  0.030664801597595215,\n  0.014884638600051403,\n  0.011132565326988697,\n  0.014595991000533104,\n  0.013160654343664646,\n  0.008417276665568352,\n  0.00037176551995798945,\n  -0.010889148339629173,\n  -0.02384897693991661,\n  -0.030553318560123444,\n  -0.02735266275703907,\n  -0.02529856003820896,\n  -0.02926579676568508,\n  -0.03809846565127373,\n  -0.045712027698755264,\n  -0.04750888794660568,\n  -0.04395328462123871,\n  -0.03947504609823227,\n  -0.03990807384252548,\n  -0.04280843213200569,\n  -0.04327286779880524,\n  -0.03728282079100609,\n  -0.02982856146991253,\n  -0.026653068140149117,\n  -0.028672154992818832,\n  -0.03295597434043884,\n  -0.03045956790447235,\n  -0.025716250762343407,\n  -0.01827624998986721,\n  -0.013201607391238213,\n  -0.007874640636146069,\n  0.031098194420337677,\n  0.0901070162653923,\n  0.121113121509552,\n  0.09992920607328415,\n  0.0738922655582428,\n  0.08945895731449127,\n  0.11040173470973969,\n  0.11215604841709137,\n  0.1129109337925911,\n  0.13563570380210876,\n  0.15635639429092407,\n  0.14601200819015503,\n  0.12596379220485687,\n  0.12415630370378494,\n  0.12603116035461426,\n  0.09284839779138565,\n  0.03986799344420433,\n  0.01592761091887951,\n  0.031519584357738495,\n  0.041815511882305145,\n  0.020321976393461227,\n  -0.014363778755068779,\n  -0.04386060684919357,\n  -0.06505414098501205,\n  -0.08595528453588486,\n  -0.09437423199415207,\n  -0.09096614271402359,\n  -0.09234465658664703,\n  -0.10555505007505417,\n  -0.12170044332742691,\n  -0.12130265682935715,\n  -0.11037860810756683,\n  -0.0980459526181221,\n  -0.09630502015352249,\n  -0.10266594588756561,\n  -0.09549576789140701,\n  -0.06801622360944748,\n  -0.03444840386509895,\n  -0.02104678750038147,\n  -0.022640563547611237,\n  -0.024906160309910774,\n  -0.019585205242037773,\n  -0.004079662263393402,\n  0.01536083035171032,\n  0.03717775270342827,\n  0.048094674944877625,\n  0.045154817402362823,\n  0.03294660523533821,\n  0.02804235927760601,\n  0.03876693174242973,\n  0.04617038741707802,\n  0.03957891836762428,\n  0.020286820828914642,\n  0.009796246886253357,\n  0.013465664349496365,\n  0.019296685233712196,\n  0.015270628966391087,\n  -0.00047084488323889673,\n  -0.016248930245637894,\n  -0.03034656122326851,\n  -0.03771929070353508,\n  -0.03309445083141327,\n  -0.022162310779094696,\n  -0.024809831753373146,\n  -0.043096136301755905,\n  -0.057253994047641754,\n  -0.05531212314963341,\n  -0.04672296345233917,\n  -0.04302496835589409,\n  -0.04003743827342987,\n  -0.03647618740797043,\n  -0.03981199115514755,\n  -0.04991545155644417,\n  -0.04664810746908188,\n  -0.028954273089766502,\n  -0.016992244869470596,\n  -0.025058172643184662,\n  -0.03283470869064331,\n  -0.025810685008764267,\n  -0.014466318301856518,\n  -0.012159653007984161,\n  -0.012881744652986526,\n  0.031116686761379242,\n  0.0973271057009697,\n  0.12413244694471359,\n  0.09193777292966843,\n  0.06719708442687988,\n  0.09967833757400513,\n  0.12556469440460205,\n  0.11721134185791016,\n  0.10676592588424683,\n  0.13349808752536774,\n  0.15820778906345367,\n  0.1424676775932312,\n  0.12475891411304474,\n  0.13166746497154236,\n  0.14030542969703674,\n  0.09768767654895782,\n  0.033900968730449677,\n  0.011307002045214176,\n  0.03471769019961357,\n  0.05023321509361267,\n  0.02117765136063099,\n  -0.018024323508143425,\n  -0.04438001289963722,\n  -0.06051138415932655,\n  -0.08352958410978317,\n  -0.09890123456716537,\n  -0.09318955987691879,\n  -0.09006297588348389,\n  -0.10562513023614883,\n  -0.1291489154100418,\n  -0.12753687798976898,\n  -0.10646356642246246,\n  -0.09379122406244278,\n  -0.10112810134887695,\n  -0.10958755761384964,\n  -0.10061708092689514,\n  -0.07689277082681656,\n  -0.046921685338020325,\n  -0.02365773543715477,\n  -0.013198427855968475,\n  -0.018176428973674774,\n  -0.021894516423344612,\n  -0.011187181808054447,\n  0.013034889474511147,\n  0.037282999604940414,\n  0.047652777284383774,\n  0.0462297722697258,\n  0.03789215534925461,\n  0.035037826746702194,\n  0.038859885185956955,\n  0.044821690768003464,\n  0.04374435171484947,\n  0.030520986765623093,\n  0.016511179506778717,\n  0.01040123961865902,\n  0.01298496127128601,\n  0.014074907638132572,\n  0.007403154857456684,\n  -0.008834442123770714,\n  -0.028125401586294174,\n  -0.0386267714202404,\n  -0.0367756187915802,\n  -0.02948763221502304,\n  -0.028141917660832405,\n  -0.03509917110204697,\n  -0.0494982935488224,\n  -0.05979432538151741,\n  -0.058379363268613815,\n  -0.04864756017923355,\n  -0.04020713269710541,\n  -0.03997800871729851,\n  -0.0428137369453907,\n  -0.04600353166460991,\n  -0.04094633460044861,\n  -0.03250293433666229,\n  -0.02622714266180992,\n  -0.027652855962514877,\n  -0.03095708042383194,\n  -0.028437523171305656,\n  -0.023529628291726112,\n  -0.010873701423406601,\n  -0.005694970954209566,\n  0.023041242733597755,\n  0.07871091365814209,\n  0.11665410548448563,\n  0.1038871556520462,\n  0.06796266883611679,\n  0.0839330404996872,\n  0.11647223681211472,\n  0.12295269966125488,\n  0.1140541210770607,\n  0.13118396699428558,\n  0.15980075299739838,\n  0.15062059462070465,\n  0.13142749667167664,\n  0.1295253485441208,\n  0.1378737986087799,\n  0.10743363946676254,\n  0.05289599671959877,\n  0.029453927651047707,\n  0.041797082871198654,\n  0.0520944744348526,\n  0.025688592344522476,\n  -0.008137037046253681,\n  -0.03146403282880783,\n  -0.052814844995737076,\n  -0.08022424578666687,\n  -0.09588591009378433,\n  -0.08866242319345474,\n  ...],\n 'predicted': 3}"
     },
     "execution_count": 46,
     "metadata": {},
     "output_type": "execute_result"
    }
   ],
   "source": [
    "result[0]"
   ],
   "metadata": {
    "collapsed": false
   }
  },
  {
   "cell_type": "code",
   "metadata": {
    "id": "vRtajzvTabeH"
   },
   "source": [
    "y_true = [config.label2id[name] for name in result[\"emotion\"]]\n",
    "\n",
    "\n",
    "y_pred = result[\"predicted\"]\n",
    "\n",
    "print(y_true[:5])\n",
    "print(y_pred[:5])"
   ],
   "execution_count": 47,
   "outputs": [
    {
     "name": "stdout",
     "output_type": "stream",
     "text": [
      "[5, 1, 1, 4, 5]\n",
      "[3, 3, 3, 4, 3]\n"
     ]
    }
   ]
  },
  {
   "cell_type": "code",
   "execution_count": 48,
   "outputs": [
    {
     "name": "stdout",
     "output_type": "stream",
     "text": [
      "[3, 3, 3, 4, 3, 4, 4, 3, 0, 3, 0, 0, 3, 3, 4, 4, 1, 1, 3, 5, 5, 0, 4, 4, 3, 5, 4, 4, 3, 4, 0, 3, 1, 5, 3, 3, 4, 4, 0, 3, 4, 5, 4, 3, 3, 3, 3, 1, 4, 4, 1, 4, 4, 4, 4, 4, 4, 3, 2, 3, 3, 1, 1, 4, 3, 4, 4, 3, 3, 4, 3, 4, 3, 4, 0, 4, 3, 4, 1, 4, 3, 3, 4, 4, 3, 1, 3, 4, 1, 1, 4, 3, 1, 1, 5, 4, 1, 3, 3, 1, 4, 4, 4, 3, 4, 1, 1, 5, 3, 5, 1, 0, 3, 4, 0, 4, 4, 3, 1, 4, 4, 4, 3, 4, 3, 4, 3, 5, 0, 0, 3, 3, 3, 0, 3, 4, 3, 3, 3, 4, 0, 3, 0, 5, 0, 0, 5, 5, 1, 1, 3, 3, 3, 1]\n"
     ]
    }
   ],
   "source": [
    "print(result['predicted'])\n",
    "#config.label2id['happy']"
   ],
   "metadata": {
    "collapsed": false
   }
  },
  {
   "cell_type": "code",
   "metadata": {
    "id": "tUt5rIppXrzl"
   },
   "source": [
    "print(classification_report(y_true, y_pred, target_names=label_names))"
   ],
   "execution_count": 49,
   "outputs": [
    {
     "name": "stdout",
     "output_type": "stream",
     "text": [
      "              precision    recall  f1-score   support\n",
      "\n",
      "       angry       0.38      0.24      0.29        25\n",
      "     disgust       0.32      0.27      0.29        26\n",
      "        fear       1.00      0.04      0.07        26\n",
      "       happy       0.30      0.62      0.41        26\n",
      "          ps       0.36      0.69      0.47        26\n",
      "         sad       0.33      0.16      0.22        25\n",
      "\n",
      "    accuracy                           0.34       154\n",
      "   macro avg       0.45      0.34      0.29       154\n",
      "weighted avg       0.45      0.34      0.29       154\n",
      "\n"
     ]
    }
   ]
  },
  {
   "cell_type": "markdown",
   "metadata": {
    "id": "Ylb2Z6Xke2ro"
   },
   "source": [
    "# Prediction"
   ]
  },
  {
   "cell_type": "code",
   "metadata": {
    "id": "EQzCioPhWIiX"
   },
   "source": [
    "import torch\n",
    "import torch.nn as nn\n",
    "import torch.nn.functional as F\n",
    "import torchaudio\n",
    "from transformers import AutoConfig, Wav2Vec2Processor\n",
    "\n",
    "import librosa\n",
    "import IPython.display as ipd\n",
    "import numpy as np\n",
    "import pandas as pd"
   ],
   "execution_count": 50,
   "outputs": []
  },
  {
   "cell_type": "code",
   "metadata": {
    "id": "DocavTvQWIr_"
   },
   "source": [
    "device = torch.device(\"cuda\" if torch.cuda.is_available() else \"cpu\")\n",
    "model_name_or_path = \"m3hrdadfi/wav2vec2-xlsr-greek-speech-emotion-recognition\"\n",
    "# config = AutoConfig.from_pretrained(model_name_or_path)\n",
    "processor = Wav2Vec2Processor.from_pretrained(model_name_or_path)\n",
    "sampling_rate = processor.feature_extractor.sampling_rate\n",
    "model = Wav2Vec2ForSpeechClassification.from_pretrained(model_name_or_path).to(device)"
   ],
   "execution_count": 51,
   "outputs": [
    {
     "name": "stderr",
     "output_type": "stream",
     "text": [
      "loading configuration file preprocessor_config.json from cache at /content/cache\\models--m3hrdadfi--wav2vec2-xlsr-greek-speech-emotion-recognition\\snapshots\\ed9982a2c7a3fd79a918bac683a9e4cbfbad772e\\preprocessor_config.json\n",
      "Feature extractor Wav2Vec2FeatureExtractor {\n",
      "  \"do_normalize\": true,\n",
      "  \"feature_extractor_type\": \"Wav2Vec2FeatureExtractor\",\n",
      "  \"feature_size\": 1,\n",
      "  \"padding_side\": \"right\",\n",
      "  \"padding_value\": 0.0,\n",
      "  \"return_attention_mask\": true,\n",
      "  \"sampling_rate\": 16000\n",
      "}\n",
      "\n",
      "loading configuration file config.json from cache at /content/cache\\models--m3hrdadfi--wav2vec2-xlsr-greek-speech-emotion-recognition\\snapshots\\ed9982a2c7a3fd79a918bac683a9e4cbfbad772e\\config.json\n",
      "X:\\masterarbeit_programming\\venv\\lib\\site-packages\\transformers\\configuration_utils.py:369: UserWarning: Passing `gradient_checkpointing` to a config initialization is deprecated and will be removed in v5 Transformers. Using `model.gradient_checkpointing_enable()` instead, or if you are using the `Trainer` API, pass `gradient_checkpointing=True` in your `TrainingArguments`.\n",
      "  warnings.warn(\n",
      "Model config Wav2Vec2Config {\n",
      "  \"_name_or_path\": \"m3hrdadfi/wav2vec2-xlsr-greek-speech-emotion-recognition\",\n",
      "  \"activation_dropout\": 0.0,\n",
      "  \"adapter_kernel_size\": 3,\n",
      "  \"adapter_stride\": 2,\n",
      "  \"add_adapter\": false,\n",
      "  \"apply_spec_augment\": true,\n",
      "  \"architectures\": [\n",
      "    \"Wav2Vec2ForSpeechClassification\"\n",
      "  ],\n",
      "  \"attention_dropout\": 0.1,\n",
      "  \"bos_token_id\": 1,\n",
      "  \"classifier_proj_size\": 256,\n",
      "  \"codevector_dim\": 256,\n",
      "  \"contrastive_logits_temperature\": 0.1,\n",
      "  \"conv_bias\": true,\n",
      "  \"conv_dim\": [\n",
      "    512,\n",
      "    512,\n",
      "    512,\n",
      "    512,\n",
      "    512,\n",
      "    512,\n",
      "    512\n",
      "  ],\n",
      "  \"conv_kernel\": [\n",
      "    10,\n",
      "    3,\n",
      "    3,\n",
      "    3,\n",
      "    3,\n",
      "    2,\n",
      "    2\n",
      "  ],\n",
      "  \"conv_stride\": [\n",
      "    5,\n",
      "    2,\n",
      "    2,\n",
      "    2,\n",
      "    2,\n",
      "    2,\n",
      "    2\n",
      "  ],\n",
      "  \"ctc_loss_reduction\": \"mean\",\n",
      "  \"ctc_zero_infinity\": true,\n",
      "  \"diversity_loss_weight\": 0.1,\n",
      "  \"do_stable_layer_norm\": true,\n",
      "  \"eos_token_id\": 2,\n",
      "  \"feat_extract_activation\": \"gelu\",\n",
      "  \"feat_extract_dropout\": 0.0,\n",
      "  \"feat_extract_norm\": \"layer\",\n",
      "  \"feat_proj_dropout\": 0.0,\n",
      "  \"feat_quantizer_dropout\": 0.0,\n",
      "  \"final_dropout\": 0.0,\n",
      "  \"finetuning_task\": \"wav2vec2_clf\",\n",
      "  \"gradient_checkpointing\": true,\n",
      "  \"hidden_act\": \"gelu\",\n",
      "  \"hidden_dropout\": 0.1,\n",
      "  \"hidden_size\": 1024,\n",
      "  \"id2label\": {\n",
      "    \"0\": \"anger\",\n",
      "    \"1\": \"disgust\",\n",
      "    \"2\": \"fear\",\n",
      "    \"3\": \"happiness\",\n",
      "    \"4\": \"sadness\"\n",
      "  },\n",
      "  \"initializer_range\": 0.02,\n",
      "  \"intermediate_size\": 4096,\n",
      "  \"label2id\": {\n",
      "    \"anger\": 0,\n",
      "    \"disgust\": 1,\n",
      "    \"fear\": 2,\n",
      "    \"happiness\": 3,\n",
      "    \"sadness\": 4\n",
      "  },\n",
      "  \"layer_norm_eps\": 1e-05,\n",
      "  \"layerdrop\": 0.1,\n",
      "  \"mask_channel_length\": 10,\n",
      "  \"mask_channel_min_space\": 1,\n",
      "  \"mask_channel_other\": 0.0,\n",
      "  \"mask_channel_prob\": 0.0,\n",
      "  \"mask_channel_selection\": \"static\",\n",
      "  \"mask_feature_length\": 10,\n",
      "  \"mask_feature_min_masks\": 0,\n",
      "  \"mask_feature_prob\": 0.0,\n",
      "  \"mask_time_length\": 10,\n",
      "  \"mask_time_min_masks\": 2,\n",
      "  \"mask_time_min_space\": 1,\n",
      "  \"mask_time_other\": 0.0,\n",
      "  \"mask_time_prob\": 0.05,\n",
      "  \"mask_time_selection\": \"static\",\n",
      "  \"model_type\": \"wav2vec2\",\n",
      "  \"num_adapter_layers\": 3,\n",
      "  \"num_attention_heads\": 16,\n",
      "  \"num_codevector_groups\": 2,\n",
      "  \"num_codevectors_per_group\": 320,\n",
      "  \"num_conv_pos_embedding_groups\": 16,\n",
      "  \"num_conv_pos_embeddings\": 128,\n",
      "  \"num_feat_extract_layers\": 7,\n",
      "  \"num_hidden_layers\": 24,\n",
      "  \"num_negatives\": 100,\n",
      "  \"output_hidden_size\": 1024,\n",
      "  \"pad_token_id\": 54,\n",
      "  \"pooling_mode\": \"mean\",\n",
      "  \"problem_type\": \"single_label_classification\",\n",
      "  \"proj_codevector_dim\": 256,\n",
      "  \"tdnn_dilation\": [\n",
      "    1,\n",
      "    2,\n",
      "    3,\n",
      "    1,\n",
      "    1\n",
      "  ],\n",
      "  \"tdnn_dim\": [\n",
      "    512,\n",
      "    512,\n",
      "    512,\n",
      "    512,\n",
      "    1500\n",
      "  ],\n",
      "  \"tdnn_kernel\": [\n",
      "    5,\n",
      "    3,\n",
      "    3,\n",
      "    1,\n",
      "    1\n",
      "  ],\n",
      "  \"transformers_version\": \"4.24.0\",\n",
      "  \"use_weighted_layer_sum\": false,\n",
      "  \"vocab_size\": 55,\n",
      "  \"xvector_output_dim\": 512\n",
      "}\n",
      "\n",
      "loading file vocab.json from cache at /content/cache\\models--m3hrdadfi--wav2vec2-xlsr-greek-speech-emotion-recognition\\snapshots\\ed9982a2c7a3fd79a918bac683a9e4cbfbad772e\\vocab.json\n",
      "loading file tokenizer_config.json from cache at /content/cache\\models--m3hrdadfi--wav2vec2-xlsr-greek-speech-emotion-recognition\\snapshots\\ed9982a2c7a3fd79a918bac683a9e4cbfbad772e\\tokenizer_config.json\n",
      "loading file added_tokens.json from cache at /content/cache\\models--m3hrdadfi--wav2vec2-xlsr-greek-speech-emotion-recognition\\snapshots\\ed9982a2c7a3fd79a918bac683a9e4cbfbad772e\\added_tokens.json\n",
      "loading file special_tokens_map.json from cache at /content/cache\\models--m3hrdadfi--wav2vec2-xlsr-greek-speech-emotion-recognition\\snapshots\\ed9982a2c7a3fd79a918bac683a9e4cbfbad772e\\special_tokens_map.json\n",
      "loading configuration file config.json from cache at /content/cache\\models--m3hrdadfi--wav2vec2-xlsr-greek-speech-emotion-recognition\\snapshots\\ed9982a2c7a3fd79a918bac683a9e4cbfbad772e\\config.json\n",
      "Model config Wav2Vec2Config {\n",
      "  \"_name_or_path\": \"m3hrdadfi/wav2vec2-xlsr-greek-speech-emotion-recognition\",\n",
      "  \"activation_dropout\": 0.0,\n",
      "  \"adapter_kernel_size\": 3,\n",
      "  \"adapter_stride\": 2,\n",
      "  \"add_adapter\": false,\n",
      "  \"apply_spec_augment\": true,\n",
      "  \"architectures\": [\n",
      "    \"Wav2Vec2ForSpeechClassification\"\n",
      "  ],\n",
      "  \"attention_dropout\": 0.1,\n",
      "  \"bos_token_id\": 1,\n",
      "  \"classifier_proj_size\": 256,\n",
      "  \"codevector_dim\": 256,\n",
      "  \"contrastive_logits_temperature\": 0.1,\n",
      "  \"conv_bias\": true,\n",
      "  \"conv_dim\": [\n",
      "    512,\n",
      "    512,\n",
      "    512,\n",
      "    512,\n",
      "    512,\n",
      "    512,\n",
      "    512\n",
      "  ],\n",
      "  \"conv_kernel\": [\n",
      "    10,\n",
      "    3,\n",
      "    3,\n",
      "    3,\n",
      "    3,\n",
      "    2,\n",
      "    2\n",
      "  ],\n",
      "  \"conv_stride\": [\n",
      "    5,\n",
      "    2,\n",
      "    2,\n",
      "    2,\n",
      "    2,\n",
      "    2,\n",
      "    2\n",
      "  ],\n",
      "  \"ctc_loss_reduction\": \"mean\",\n",
      "  \"ctc_zero_infinity\": true,\n",
      "  \"diversity_loss_weight\": 0.1,\n",
      "  \"do_stable_layer_norm\": true,\n",
      "  \"eos_token_id\": 2,\n",
      "  \"feat_extract_activation\": \"gelu\",\n",
      "  \"feat_extract_dropout\": 0.0,\n",
      "  \"feat_extract_norm\": \"layer\",\n",
      "  \"feat_proj_dropout\": 0.0,\n",
      "  \"feat_quantizer_dropout\": 0.0,\n",
      "  \"final_dropout\": 0.0,\n",
      "  \"finetuning_task\": \"wav2vec2_clf\",\n",
      "  \"gradient_checkpointing\": true,\n",
      "  \"hidden_act\": \"gelu\",\n",
      "  \"hidden_dropout\": 0.1,\n",
      "  \"hidden_size\": 1024,\n",
      "  \"id2label\": {\n",
      "    \"0\": \"anger\",\n",
      "    \"1\": \"disgust\",\n",
      "    \"2\": \"fear\",\n",
      "    \"3\": \"happiness\",\n",
      "    \"4\": \"sadness\"\n",
      "  },\n",
      "  \"initializer_range\": 0.02,\n",
      "  \"intermediate_size\": 4096,\n",
      "  \"label2id\": {\n",
      "    \"anger\": 0,\n",
      "    \"disgust\": 1,\n",
      "    \"fear\": 2,\n",
      "    \"happiness\": 3,\n",
      "    \"sadness\": 4\n",
      "  },\n",
      "  \"layer_norm_eps\": 1e-05,\n",
      "  \"layerdrop\": 0.1,\n",
      "  \"mask_channel_length\": 10,\n",
      "  \"mask_channel_min_space\": 1,\n",
      "  \"mask_channel_other\": 0.0,\n",
      "  \"mask_channel_prob\": 0.0,\n",
      "  \"mask_channel_selection\": \"static\",\n",
      "  \"mask_feature_length\": 10,\n",
      "  \"mask_feature_min_masks\": 0,\n",
      "  \"mask_feature_prob\": 0.0,\n",
      "  \"mask_time_length\": 10,\n",
      "  \"mask_time_min_masks\": 2,\n",
      "  \"mask_time_min_space\": 1,\n",
      "  \"mask_time_other\": 0.0,\n",
      "  \"mask_time_prob\": 0.05,\n",
      "  \"mask_time_selection\": \"static\",\n",
      "  \"model_type\": \"wav2vec2\",\n",
      "  \"num_adapter_layers\": 3,\n",
      "  \"num_attention_heads\": 16,\n",
      "  \"num_codevector_groups\": 2,\n",
      "  \"num_codevectors_per_group\": 320,\n",
      "  \"num_conv_pos_embedding_groups\": 16,\n",
      "  \"num_conv_pos_embeddings\": 128,\n",
      "  \"num_feat_extract_layers\": 7,\n",
      "  \"num_hidden_layers\": 24,\n",
      "  \"num_negatives\": 100,\n",
      "  \"output_hidden_size\": 1024,\n",
      "  \"pad_token_id\": 54,\n",
      "  \"pooling_mode\": \"mean\",\n",
      "  \"problem_type\": \"single_label_classification\",\n",
      "  \"proj_codevector_dim\": 256,\n",
      "  \"tdnn_dilation\": [\n",
      "    1,\n",
      "    2,\n",
      "    3,\n",
      "    1,\n",
      "    1\n",
      "  ],\n",
      "  \"tdnn_dim\": [\n",
      "    512,\n",
      "    512,\n",
      "    512,\n",
      "    512,\n",
      "    1500\n",
      "  ],\n",
      "  \"tdnn_kernel\": [\n",
      "    5,\n",
      "    3,\n",
      "    3,\n",
      "    1,\n",
      "    1\n",
      "  ],\n",
      "  \"transformers_version\": \"4.24.0\",\n",
      "  \"use_weighted_layer_sum\": false,\n",
      "  \"vocab_size\": 55,\n",
      "  \"xvector_output_dim\": 512\n",
      "}\n",
      "\n",
      "Adding <s> to the vocabulary\n",
      "Adding </s> to the vocabulary\n",
      "loading configuration file config.json from cache at /content/cache\\models--m3hrdadfi--wav2vec2-xlsr-greek-speech-emotion-recognition\\snapshots\\ed9982a2c7a3fd79a918bac683a9e4cbfbad772e\\config.json\n",
      "Model config Wav2Vec2Config {\n",
      "  \"_name_or_path\": \"lighteternal/wav2vec2-large-xlsr-53-greek\",\n",
      "  \"activation_dropout\": 0.0,\n",
      "  \"adapter_kernel_size\": 3,\n",
      "  \"adapter_stride\": 2,\n",
      "  \"add_adapter\": false,\n",
      "  \"apply_spec_augment\": true,\n",
      "  \"architectures\": [\n",
      "    \"Wav2Vec2ForSpeechClassification\"\n",
      "  ],\n",
      "  \"attention_dropout\": 0.1,\n",
      "  \"bos_token_id\": 1,\n",
      "  \"classifier_proj_size\": 256,\n",
      "  \"codevector_dim\": 256,\n",
      "  \"contrastive_logits_temperature\": 0.1,\n",
      "  \"conv_bias\": true,\n",
      "  \"conv_dim\": [\n",
      "    512,\n",
      "    512,\n",
      "    512,\n",
      "    512,\n",
      "    512,\n",
      "    512,\n",
      "    512\n",
      "  ],\n",
      "  \"conv_kernel\": [\n",
      "    10,\n",
      "    3,\n",
      "    3,\n",
      "    3,\n",
      "    3,\n",
      "    2,\n",
      "    2\n",
      "  ],\n",
      "  \"conv_stride\": [\n",
      "    5,\n",
      "    2,\n",
      "    2,\n",
      "    2,\n",
      "    2,\n",
      "    2,\n",
      "    2\n",
      "  ],\n",
      "  \"ctc_loss_reduction\": \"mean\",\n",
      "  \"ctc_zero_infinity\": true,\n",
      "  \"diversity_loss_weight\": 0.1,\n",
      "  \"do_stable_layer_norm\": true,\n",
      "  \"eos_token_id\": 2,\n",
      "  \"feat_extract_activation\": \"gelu\",\n",
      "  \"feat_extract_dropout\": 0.0,\n",
      "  \"feat_extract_norm\": \"layer\",\n",
      "  \"feat_proj_dropout\": 0.0,\n",
      "  \"feat_quantizer_dropout\": 0.0,\n",
      "  \"final_dropout\": 0.0,\n",
      "  \"finetuning_task\": \"wav2vec2_clf\",\n",
      "  \"gradient_checkpointing\": true,\n",
      "  \"hidden_act\": \"gelu\",\n",
      "  \"hidden_dropout\": 0.1,\n",
      "  \"hidden_size\": 1024,\n",
      "  \"id2label\": {\n",
      "    \"0\": \"anger\",\n",
      "    \"1\": \"disgust\",\n",
      "    \"2\": \"fear\",\n",
      "    \"3\": \"happiness\",\n",
      "    \"4\": \"sadness\"\n",
      "  },\n",
      "  \"initializer_range\": 0.02,\n",
      "  \"intermediate_size\": 4096,\n",
      "  \"label2id\": {\n",
      "    \"anger\": 0,\n",
      "    \"disgust\": 1,\n",
      "    \"fear\": 2,\n",
      "    \"happiness\": 3,\n",
      "    \"sadness\": 4\n",
      "  },\n",
      "  \"layer_norm_eps\": 1e-05,\n",
      "  \"layerdrop\": 0.1,\n",
      "  \"mask_channel_length\": 10,\n",
      "  \"mask_channel_min_space\": 1,\n",
      "  \"mask_channel_other\": 0.0,\n",
      "  \"mask_channel_prob\": 0.0,\n",
      "  \"mask_channel_selection\": \"static\",\n",
      "  \"mask_feature_length\": 10,\n",
      "  \"mask_feature_min_masks\": 0,\n",
      "  \"mask_feature_prob\": 0.0,\n",
      "  \"mask_time_length\": 10,\n",
      "  \"mask_time_min_masks\": 2,\n",
      "  \"mask_time_min_space\": 1,\n",
      "  \"mask_time_other\": 0.0,\n",
      "  \"mask_time_prob\": 0.05,\n",
      "  \"mask_time_selection\": \"static\",\n",
      "  \"model_type\": \"wav2vec2\",\n",
      "  \"num_adapter_layers\": 3,\n",
      "  \"num_attention_heads\": 16,\n",
      "  \"num_codevector_groups\": 2,\n",
      "  \"num_codevectors_per_group\": 320,\n",
      "  \"num_conv_pos_embedding_groups\": 16,\n",
      "  \"num_conv_pos_embeddings\": 128,\n",
      "  \"num_feat_extract_layers\": 7,\n",
      "  \"num_hidden_layers\": 24,\n",
      "  \"num_negatives\": 100,\n",
      "  \"output_hidden_size\": 1024,\n",
      "  \"pad_token_id\": 54,\n",
      "  \"pooling_mode\": \"mean\",\n",
      "  \"problem_type\": \"single_label_classification\",\n",
      "  \"proj_codevector_dim\": 256,\n",
      "  \"tdnn_dilation\": [\n",
      "    1,\n",
      "    2,\n",
      "    3,\n",
      "    1,\n",
      "    1\n",
      "  ],\n",
      "  \"tdnn_dim\": [\n",
      "    512,\n",
      "    512,\n",
      "    512,\n",
      "    512,\n",
      "    1500\n",
      "  ],\n",
      "  \"tdnn_kernel\": [\n",
      "    5,\n",
      "    3,\n",
      "    3,\n",
      "    1,\n",
      "    1\n",
      "  ],\n",
      "  \"transformers_version\": \"4.24.0\",\n",
      "  \"use_weighted_layer_sum\": false,\n",
      "  \"vocab_size\": 55,\n",
      "  \"xvector_output_dim\": 512\n",
      "}\n",
      "\n",
      "loading weights file pytorch_model.bin from cache at /content/cache\\models--m3hrdadfi--wav2vec2-xlsr-greek-speech-emotion-recognition\\snapshots\\ed9982a2c7a3fd79a918bac683a9e4cbfbad772e\\pytorch_model.bin\n",
      "All model checkpoint weights were used when initializing Wav2Vec2ForSpeechClassification.\n",
      "\n",
      "All the weights of Wav2Vec2ForSpeechClassification were initialized from the model checkpoint at m3hrdadfi/wav2vec2-xlsr-greek-speech-emotion-recognition.\n",
      "If your task is similar to the task the model of the checkpoint was trained on, you can already use Wav2Vec2ForSpeechClassification for predictions without further training.\n"
     ]
    }
   ]
  },
  {
   "cell_type": "code",
   "metadata": {
    "id": "1SSs95o9WIvK"
   },
   "source": [
    "def speech_file_to_array_fn(path, sampling_rate):\n",
    "    speech_array, _sampling_rate = torchaudio.load(path)\n",
    "    resampler = torchaudio.transforms.Resample(_sampling_rate)\n",
    "    speech = resampler(speech_array).squeeze().numpy()\n",
    "    return speech\n",
    "\n",
    "\n",
    "def predict(path, sampling_rate):\n",
    "    speech = speech_file_to_array_fn(path, sampling_rate)\n",
    "    features = processor(speech, sampling_rate=sampling_rate, return_tensors=\"pt\", padding=True)\n",
    "\n",
    "    input_values = features.input_values.to(device)\n",
    "    attention_mask = features.attention_mask.to(device)\n",
    "\n",
    "    with torch.no_grad():\n",
    "        logits = model(input_values, attention_mask=attention_mask).logits\n",
    "\n",
    "    scores = F.softmax(logits, dim=1).detach().cpu().numpy()[0]\n",
    "    outputs = [{\"Emotion\": config.id2label[i], \"Score\": f\"{round(score * 100, 3):.1f}%\"} for i, score in enumerate(scores)]\n",
    "    return outputs\n",
    "\n",
    "\n",
    "STYLES = \"\"\"\n",
    "<style>\n",
    "div.display_data {\n",
    "    margin: 0 auto;\n",
    "    max-width: 500px;\n",
    "}\n",
    "table.xxx {\n",
    "    margin: 50px !important;\n",
    "    float: right !important;\n",
    "    clear: both !important;\n",
    "}\n",
    "table.xxx td {\n",
    "    min-width: 300px !important;\n",
    "    text-align: center !important;\n",
    "}\n",
    "</style>\n",
    "\"\"\".strip()\n",
    "\n",
    "def prediction(df_row):\n",
    "    path, emotion = df_row[\"path\"], df_row[\"emotion\"]\n",
    "    df = pd.DataFrame([{\"Emotion\": emotion, \"Sentence\": \"    \"}])\n",
    "    setup = {\n",
    "        'border': 2,\n",
    "        'show_dimensions': True,\n",
    "        'justify': 'center',\n",
    "        'classes': 'xxx',\n",
    "        'escape': False,\n",
    "    }\n",
    "    ipd.display(ipd.HTML(STYLES + df.to_html(**setup) + \"<br />\"))\n",
    "    speech, sr = torchaudio.load(path)\n",
    "    speech = speech[0].numpy().squeeze()\n",
    "    speech = librosa.resample(np.asarray(speech), sr, sampling_rate)\n",
    "    ipd.display(ipd.Audio(data=np.asarray(speech), autoplay=True, rate=sampling_rate))\n",
    "\n",
    "    outputs = predict(path, sampling_rate)\n",
    "    r = pd.DataFrame(outputs)\n",
    "    ipd.display(ipd.HTML(STYLES + r.to_html(**setup) + \"<br />\"))"
   ],
   "execution_count": 52,
   "outputs": []
  },
  {
   "cell_type": "code",
   "metadata": {
    "id": "UD7oUP20YwYT"
   },
   "source": [
    "test = pd.read_csv(\"/notebooks/content/data.test.csv\", sep=\"\\t\")\n",
    "test.head()"
   ],
   "execution_count": 56,
   "outputs": [
    {
     "ename": "FileNotFoundError",
     "evalue": "[Errno 2] No such file or directory: '/notebooks/content/data.test.csv'",
     "output_type": "error",
     "traceback": [
      "\u001B[1;31m---------------------------------------------------------------------------\u001B[0m",
      "\u001B[1;31mFileNotFoundError\u001B[0m                         Traceback (most recent call last)",
      "Cell \u001B[1;32mIn [56], line 1\u001B[0m\n\u001B[1;32m----> 1\u001B[0m test \u001B[38;5;241m=\u001B[39m \u001B[43mpd\u001B[49m\u001B[38;5;241;43m.\u001B[39;49m\u001B[43mread_csv\u001B[49m\u001B[43m(\u001B[49m\u001B[38;5;124;43m\"\u001B[39;49m\u001B[38;5;124;43m/notebooks/content/data.test.csv\u001B[39;49m\u001B[38;5;124;43m\"\u001B[39;49m\u001B[43m,\u001B[49m\u001B[43m \u001B[49m\u001B[43msep\u001B[49m\u001B[38;5;241;43m=\u001B[39;49m\u001B[38;5;124;43m\"\u001B[39;49m\u001B[38;5;130;43;01m\\t\u001B[39;49;00m\u001B[38;5;124;43m\"\u001B[39;49m\u001B[43m)\u001B[49m\n\u001B[0;32m      2\u001B[0m test\u001B[38;5;241m.\u001B[39mhead()\n",
      "File \u001B[1;32mX:\\masterarbeit_programming\\venv\\lib\\site-packages\\pandas\\util\\_decorators.py:211\u001B[0m, in \u001B[0;36mdeprecate_kwarg.<locals>._deprecate_kwarg.<locals>.wrapper\u001B[1;34m(*args, **kwargs)\u001B[0m\n\u001B[0;32m    209\u001B[0m     \u001B[38;5;28;01melse\u001B[39;00m:\n\u001B[0;32m    210\u001B[0m         kwargs[new_arg_name] \u001B[38;5;241m=\u001B[39m new_arg_value\n\u001B[1;32m--> 211\u001B[0m \u001B[38;5;28;01mreturn\u001B[39;00m func(\u001B[38;5;241m*\u001B[39margs, \u001B[38;5;241m*\u001B[39m\u001B[38;5;241m*\u001B[39mkwargs)\n",
      "File \u001B[1;32mX:\\masterarbeit_programming\\venv\\lib\\site-packages\\pandas\\util\\_decorators.py:331\u001B[0m, in \u001B[0;36mdeprecate_nonkeyword_arguments.<locals>.decorate.<locals>.wrapper\u001B[1;34m(*args, **kwargs)\u001B[0m\n\u001B[0;32m    325\u001B[0m \u001B[38;5;28;01mif\u001B[39;00m \u001B[38;5;28mlen\u001B[39m(args) \u001B[38;5;241m>\u001B[39m num_allow_args:\n\u001B[0;32m    326\u001B[0m     warnings\u001B[38;5;241m.\u001B[39mwarn(\n\u001B[0;32m    327\u001B[0m         msg\u001B[38;5;241m.\u001B[39mformat(arguments\u001B[38;5;241m=\u001B[39m_format_argument_list(allow_args)),\n\u001B[0;32m    328\u001B[0m         \u001B[38;5;167;01mFutureWarning\u001B[39;00m,\n\u001B[0;32m    329\u001B[0m         stacklevel\u001B[38;5;241m=\u001B[39mfind_stack_level(),\n\u001B[0;32m    330\u001B[0m     )\n\u001B[1;32m--> 331\u001B[0m \u001B[38;5;28;01mreturn\u001B[39;00m func(\u001B[38;5;241m*\u001B[39margs, \u001B[38;5;241m*\u001B[39m\u001B[38;5;241m*\u001B[39mkwargs)\n",
      "File \u001B[1;32mX:\\masterarbeit_programming\\venv\\lib\\site-packages\\pandas\\io\\parsers\\readers.py:950\u001B[0m, in \u001B[0;36mread_csv\u001B[1;34m(filepath_or_buffer, sep, delimiter, header, names, index_col, usecols, squeeze, prefix, mangle_dupe_cols, dtype, engine, converters, true_values, false_values, skipinitialspace, skiprows, skipfooter, nrows, na_values, keep_default_na, na_filter, verbose, skip_blank_lines, parse_dates, infer_datetime_format, keep_date_col, date_parser, dayfirst, cache_dates, iterator, chunksize, compression, thousands, decimal, lineterminator, quotechar, quoting, doublequote, escapechar, comment, encoding, encoding_errors, dialect, error_bad_lines, warn_bad_lines, on_bad_lines, delim_whitespace, low_memory, memory_map, float_precision, storage_options)\u001B[0m\n\u001B[0;32m    935\u001B[0m kwds_defaults \u001B[38;5;241m=\u001B[39m _refine_defaults_read(\n\u001B[0;32m    936\u001B[0m     dialect,\n\u001B[0;32m    937\u001B[0m     delimiter,\n\u001B[1;32m   (...)\u001B[0m\n\u001B[0;32m    946\u001B[0m     defaults\u001B[38;5;241m=\u001B[39m{\u001B[38;5;124m\"\u001B[39m\u001B[38;5;124mdelimiter\u001B[39m\u001B[38;5;124m\"\u001B[39m: \u001B[38;5;124m\"\u001B[39m\u001B[38;5;124m,\u001B[39m\u001B[38;5;124m\"\u001B[39m},\n\u001B[0;32m    947\u001B[0m )\n\u001B[0;32m    948\u001B[0m kwds\u001B[38;5;241m.\u001B[39mupdate(kwds_defaults)\n\u001B[1;32m--> 950\u001B[0m \u001B[38;5;28;01mreturn\u001B[39;00m \u001B[43m_read\u001B[49m\u001B[43m(\u001B[49m\u001B[43mfilepath_or_buffer\u001B[49m\u001B[43m,\u001B[49m\u001B[43m \u001B[49m\u001B[43mkwds\u001B[49m\u001B[43m)\u001B[49m\n",
      "File \u001B[1;32mX:\\masterarbeit_programming\\venv\\lib\\site-packages\\pandas\\io\\parsers\\readers.py:605\u001B[0m, in \u001B[0;36m_read\u001B[1;34m(filepath_or_buffer, kwds)\u001B[0m\n\u001B[0;32m    602\u001B[0m _validate_names(kwds\u001B[38;5;241m.\u001B[39mget(\u001B[38;5;124m\"\u001B[39m\u001B[38;5;124mnames\u001B[39m\u001B[38;5;124m\"\u001B[39m, \u001B[38;5;28;01mNone\u001B[39;00m))\n\u001B[0;32m    604\u001B[0m \u001B[38;5;66;03m# Create the parser.\u001B[39;00m\n\u001B[1;32m--> 605\u001B[0m parser \u001B[38;5;241m=\u001B[39m TextFileReader(filepath_or_buffer, \u001B[38;5;241m*\u001B[39m\u001B[38;5;241m*\u001B[39mkwds)\n\u001B[0;32m    607\u001B[0m \u001B[38;5;28;01mif\u001B[39;00m chunksize \u001B[38;5;129;01mor\u001B[39;00m iterator:\n\u001B[0;32m    608\u001B[0m     \u001B[38;5;28;01mreturn\u001B[39;00m parser\n",
      "File \u001B[1;32mX:\\masterarbeit_programming\\venv\\lib\\site-packages\\pandas\\io\\parsers\\readers.py:1442\u001B[0m, in \u001B[0;36mTextFileReader.__init__\u001B[1;34m(self, f, engine, **kwds)\u001B[0m\n\u001B[0;32m   1439\u001B[0m     \u001B[38;5;28mself\u001B[39m\u001B[38;5;241m.\u001B[39moptions[\u001B[38;5;124m\"\u001B[39m\u001B[38;5;124mhas_index_names\u001B[39m\u001B[38;5;124m\"\u001B[39m] \u001B[38;5;241m=\u001B[39m kwds[\u001B[38;5;124m\"\u001B[39m\u001B[38;5;124mhas_index_names\u001B[39m\u001B[38;5;124m\"\u001B[39m]\n\u001B[0;32m   1441\u001B[0m \u001B[38;5;28mself\u001B[39m\u001B[38;5;241m.\u001B[39mhandles: IOHandles \u001B[38;5;241m|\u001B[39m \u001B[38;5;28;01mNone\u001B[39;00m \u001B[38;5;241m=\u001B[39m \u001B[38;5;28;01mNone\u001B[39;00m\n\u001B[1;32m-> 1442\u001B[0m \u001B[38;5;28mself\u001B[39m\u001B[38;5;241m.\u001B[39m_engine \u001B[38;5;241m=\u001B[39m \u001B[38;5;28;43mself\u001B[39;49m\u001B[38;5;241;43m.\u001B[39;49m\u001B[43m_make_engine\u001B[49m\u001B[43m(\u001B[49m\u001B[43mf\u001B[49m\u001B[43m,\u001B[49m\u001B[43m \u001B[49m\u001B[38;5;28;43mself\u001B[39;49m\u001B[38;5;241;43m.\u001B[39;49m\u001B[43mengine\u001B[49m\u001B[43m)\u001B[49m\n",
      "File \u001B[1;32mX:\\masterarbeit_programming\\venv\\lib\\site-packages\\pandas\\io\\parsers\\readers.py:1735\u001B[0m, in \u001B[0;36mTextFileReader._make_engine\u001B[1;34m(self, f, engine)\u001B[0m\n\u001B[0;32m   1733\u001B[0m     \u001B[38;5;28;01mif\u001B[39;00m \u001B[38;5;124m\"\u001B[39m\u001B[38;5;124mb\u001B[39m\u001B[38;5;124m\"\u001B[39m \u001B[38;5;129;01mnot\u001B[39;00m \u001B[38;5;129;01min\u001B[39;00m mode:\n\u001B[0;32m   1734\u001B[0m         mode \u001B[38;5;241m+\u001B[39m\u001B[38;5;241m=\u001B[39m \u001B[38;5;124m\"\u001B[39m\u001B[38;5;124mb\u001B[39m\u001B[38;5;124m\"\u001B[39m\n\u001B[1;32m-> 1735\u001B[0m \u001B[38;5;28mself\u001B[39m\u001B[38;5;241m.\u001B[39mhandles \u001B[38;5;241m=\u001B[39m \u001B[43mget_handle\u001B[49m\u001B[43m(\u001B[49m\n\u001B[0;32m   1736\u001B[0m \u001B[43m    \u001B[49m\u001B[43mf\u001B[49m\u001B[43m,\u001B[49m\n\u001B[0;32m   1737\u001B[0m \u001B[43m    \u001B[49m\u001B[43mmode\u001B[49m\u001B[43m,\u001B[49m\n\u001B[0;32m   1738\u001B[0m \u001B[43m    \u001B[49m\u001B[43mencoding\u001B[49m\u001B[38;5;241;43m=\u001B[39;49m\u001B[38;5;28;43mself\u001B[39;49m\u001B[38;5;241;43m.\u001B[39;49m\u001B[43moptions\u001B[49m\u001B[38;5;241;43m.\u001B[39;49m\u001B[43mget\u001B[49m\u001B[43m(\u001B[49m\u001B[38;5;124;43m\"\u001B[39;49m\u001B[38;5;124;43mencoding\u001B[39;49m\u001B[38;5;124;43m\"\u001B[39;49m\u001B[43m,\u001B[49m\u001B[43m \u001B[49m\u001B[38;5;28;43;01mNone\u001B[39;49;00m\u001B[43m)\u001B[49m\u001B[43m,\u001B[49m\n\u001B[0;32m   1739\u001B[0m \u001B[43m    \u001B[49m\u001B[43mcompression\u001B[49m\u001B[38;5;241;43m=\u001B[39;49m\u001B[38;5;28;43mself\u001B[39;49m\u001B[38;5;241;43m.\u001B[39;49m\u001B[43moptions\u001B[49m\u001B[38;5;241;43m.\u001B[39;49m\u001B[43mget\u001B[49m\u001B[43m(\u001B[49m\u001B[38;5;124;43m\"\u001B[39;49m\u001B[38;5;124;43mcompression\u001B[39;49m\u001B[38;5;124;43m\"\u001B[39;49m\u001B[43m,\u001B[49m\u001B[43m \u001B[49m\u001B[38;5;28;43;01mNone\u001B[39;49;00m\u001B[43m)\u001B[49m\u001B[43m,\u001B[49m\n\u001B[0;32m   1740\u001B[0m \u001B[43m    \u001B[49m\u001B[43mmemory_map\u001B[49m\u001B[38;5;241;43m=\u001B[39;49m\u001B[38;5;28;43mself\u001B[39;49m\u001B[38;5;241;43m.\u001B[39;49m\u001B[43moptions\u001B[49m\u001B[38;5;241;43m.\u001B[39;49m\u001B[43mget\u001B[49m\u001B[43m(\u001B[49m\u001B[38;5;124;43m\"\u001B[39;49m\u001B[38;5;124;43mmemory_map\u001B[39;49m\u001B[38;5;124;43m\"\u001B[39;49m\u001B[43m,\u001B[49m\u001B[43m \u001B[49m\u001B[38;5;28;43;01mFalse\u001B[39;49;00m\u001B[43m)\u001B[49m\u001B[43m,\u001B[49m\n\u001B[0;32m   1741\u001B[0m \u001B[43m    \u001B[49m\u001B[43mis_text\u001B[49m\u001B[38;5;241;43m=\u001B[39;49m\u001B[43mis_text\u001B[49m\u001B[43m,\u001B[49m\n\u001B[0;32m   1742\u001B[0m \u001B[43m    \u001B[49m\u001B[43merrors\u001B[49m\u001B[38;5;241;43m=\u001B[39;49m\u001B[38;5;28;43mself\u001B[39;49m\u001B[38;5;241;43m.\u001B[39;49m\u001B[43moptions\u001B[49m\u001B[38;5;241;43m.\u001B[39;49m\u001B[43mget\u001B[49m\u001B[43m(\u001B[49m\u001B[38;5;124;43m\"\u001B[39;49m\u001B[38;5;124;43mencoding_errors\u001B[39;49m\u001B[38;5;124;43m\"\u001B[39;49m\u001B[43m,\u001B[49m\u001B[43m \u001B[49m\u001B[38;5;124;43m\"\u001B[39;49m\u001B[38;5;124;43mstrict\u001B[39;49m\u001B[38;5;124;43m\"\u001B[39;49m\u001B[43m)\u001B[49m\u001B[43m,\u001B[49m\n\u001B[0;32m   1743\u001B[0m \u001B[43m    \u001B[49m\u001B[43mstorage_options\u001B[49m\u001B[38;5;241;43m=\u001B[39;49m\u001B[38;5;28;43mself\u001B[39;49m\u001B[38;5;241;43m.\u001B[39;49m\u001B[43moptions\u001B[49m\u001B[38;5;241;43m.\u001B[39;49m\u001B[43mget\u001B[49m\u001B[43m(\u001B[49m\u001B[38;5;124;43m\"\u001B[39;49m\u001B[38;5;124;43mstorage_options\u001B[39;49m\u001B[38;5;124;43m\"\u001B[39;49m\u001B[43m,\u001B[49m\u001B[43m \u001B[49m\u001B[38;5;28;43;01mNone\u001B[39;49;00m\u001B[43m)\u001B[49m\u001B[43m,\u001B[49m\n\u001B[0;32m   1744\u001B[0m \u001B[43m\u001B[49m\u001B[43m)\u001B[49m\n\u001B[0;32m   1745\u001B[0m \u001B[38;5;28;01massert\u001B[39;00m \u001B[38;5;28mself\u001B[39m\u001B[38;5;241m.\u001B[39mhandles \u001B[38;5;129;01mis\u001B[39;00m \u001B[38;5;129;01mnot\u001B[39;00m \u001B[38;5;28;01mNone\u001B[39;00m\n\u001B[0;32m   1746\u001B[0m f \u001B[38;5;241m=\u001B[39m \u001B[38;5;28mself\u001B[39m\u001B[38;5;241m.\u001B[39mhandles\u001B[38;5;241m.\u001B[39mhandle\n",
      "File \u001B[1;32mX:\\masterarbeit_programming\\venv\\lib\\site-packages\\pandas\\io\\common.py:856\u001B[0m, in \u001B[0;36mget_handle\u001B[1;34m(path_or_buf, mode, encoding, compression, memory_map, is_text, errors, storage_options)\u001B[0m\n\u001B[0;32m    851\u001B[0m \u001B[38;5;28;01melif\u001B[39;00m \u001B[38;5;28misinstance\u001B[39m(handle, \u001B[38;5;28mstr\u001B[39m):\n\u001B[0;32m    852\u001B[0m     \u001B[38;5;66;03m# Check whether the filename is to be opened in binary mode.\u001B[39;00m\n\u001B[0;32m    853\u001B[0m     \u001B[38;5;66;03m# Binary mode does not support 'encoding' and 'newline'.\u001B[39;00m\n\u001B[0;32m    854\u001B[0m     \u001B[38;5;28;01mif\u001B[39;00m ioargs\u001B[38;5;241m.\u001B[39mencoding \u001B[38;5;129;01mand\u001B[39;00m \u001B[38;5;124m\"\u001B[39m\u001B[38;5;124mb\u001B[39m\u001B[38;5;124m\"\u001B[39m \u001B[38;5;129;01mnot\u001B[39;00m \u001B[38;5;129;01min\u001B[39;00m ioargs\u001B[38;5;241m.\u001B[39mmode:\n\u001B[0;32m    855\u001B[0m         \u001B[38;5;66;03m# Encoding\u001B[39;00m\n\u001B[1;32m--> 856\u001B[0m         handle \u001B[38;5;241m=\u001B[39m \u001B[38;5;28;43mopen\u001B[39;49m\u001B[43m(\u001B[49m\n\u001B[0;32m    857\u001B[0m \u001B[43m            \u001B[49m\u001B[43mhandle\u001B[49m\u001B[43m,\u001B[49m\n\u001B[0;32m    858\u001B[0m \u001B[43m            \u001B[49m\u001B[43mioargs\u001B[49m\u001B[38;5;241;43m.\u001B[39;49m\u001B[43mmode\u001B[49m\u001B[43m,\u001B[49m\n\u001B[0;32m    859\u001B[0m \u001B[43m            \u001B[49m\u001B[43mencoding\u001B[49m\u001B[38;5;241;43m=\u001B[39;49m\u001B[43mioargs\u001B[49m\u001B[38;5;241;43m.\u001B[39;49m\u001B[43mencoding\u001B[49m\u001B[43m,\u001B[49m\n\u001B[0;32m    860\u001B[0m \u001B[43m            \u001B[49m\u001B[43merrors\u001B[49m\u001B[38;5;241;43m=\u001B[39;49m\u001B[43merrors\u001B[49m\u001B[43m,\u001B[49m\n\u001B[0;32m    861\u001B[0m \u001B[43m            \u001B[49m\u001B[43mnewline\u001B[49m\u001B[38;5;241;43m=\u001B[39;49m\u001B[38;5;124;43m\"\u001B[39;49m\u001B[38;5;124;43m\"\u001B[39;49m\u001B[43m,\u001B[49m\n\u001B[0;32m    862\u001B[0m \u001B[43m        \u001B[49m\u001B[43m)\u001B[49m\n\u001B[0;32m    863\u001B[0m     \u001B[38;5;28;01melse\u001B[39;00m:\n\u001B[0;32m    864\u001B[0m         \u001B[38;5;66;03m# Binary mode\u001B[39;00m\n\u001B[0;32m    865\u001B[0m         handle \u001B[38;5;241m=\u001B[39m \u001B[38;5;28mopen\u001B[39m(handle, ioargs\u001B[38;5;241m.\u001B[39mmode)\n",
      "\u001B[1;31mFileNotFoundError\u001B[0m: [Errno 2] No such file or directory: '/notebooks/content/data.test.csv'"
     ]
    }
   ]
  },
  {
   "cell_type": "code",
   "metadata": {
    "id": "FlJO2LfVWIyT"
   },
   "source": [
    "prediction(test.iloc[0])"
   ],
   "execution_count": 53,
   "outputs": [
    {
     "ename": "NameError",
     "evalue": "name 'test' is not defined",
     "output_type": "error",
     "traceback": [
      "\u001B[1;31m---------------------------------------------------------------------------\u001B[0m",
      "\u001B[1;31mNameError\u001B[0m                                 Traceback (most recent call last)",
      "Cell \u001B[1;32mIn [53], line 1\u001B[0m\n\u001B[1;32m----> 1\u001B[0m prediction(\u001B[43mtest\u001B[49m\u001B[38;5;241m.\u001B[39miloc[\u001B[38;5;241m0\u001B[39m])\n",
      "\u001B[1;31mNameError\u001B[0m: name 'test' is not defined"
     ]
    }
   ]
  },
  {
   "cell_type": "code",
   "metadata": {
    "id": "hzoKOgpoWI1K"
   },
   "source": [
    "prediction(test.iloc[1])"
   ],
   "execution_count": null,
   "outputs": []
  },
  {
   "cell_type": "code",
   "metadata": {
    "id": "7nqwbTTXSfMO"
   },
   "source": [
    "prediction(test.iloc[2])"
   ],
   "execution_count": null,
   "outputs": []
  }
 ]
}
