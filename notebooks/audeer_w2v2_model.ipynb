{
 "cells": [
  {
   "cell_type": "markdown",
   "source": [
    "@article{wagner2022dawn,\n",
    "  title={Dawn of the transformer era in speech emotion recognition: closing the valence gap},\n",
    "  author={Wagner, Johannes and Triantafyllopoulos, Andreas and Wierstorf, Hagen and Schmitt, Maximilian and Burkhardt, Felix and Eyben, Florian and Schuller, Bj{\\\"o}rn W.},\n",
    "  journal={arXiv preprint arXiv:2203.07378},\n",
    "  year={2022}\n",
    "}"
   ],
   "metadata": {
    "collapsed": false
   }
  },
  {
   "cell_type": "code",
   "execution_count": 11,
   "outputs": [
    {
     "name": "stderr",
     "output_type": "stream",
     "text": [
      "                                                                                                    \r"
     ]
    },
    {
     "data": {
      "text/plain": "{'hidden_states': array([[-0.00716192,  0.00631102, -0.00802942, ...,  0.00670052,\n          0.00957113,  0.00271725]], dtype=float32),\n 'logits': array([[0.6756788, 0.647147 , 0.5066436]], dtype=float32)}"
     },
     "execution_count": 11,
     "metadata": {},
     "output_type": "execute_result"
    }
   ],
   "source": [
    "import audeer\n",
    "import audonnx\n",
    "import numpy as np\n",
    "\n",
    "url = 'https://zenodo.org/record/6221127/files/w2v2-L-robust-12.6bc4a7fd-1.1.0.zip'\n",
    "cache_root = audeer.mkdir('cache')\n",
    "model_root = audeer.mkdir('model')\n",
    "\n",
    "archive_path = audeer.download_url(url, cache_root, verbose=True)\n",
    "audeer.extract_archive(archive_path, model_root)\n",
    "model = audonnx.load(model_root)\n",
    "\n",
    "sampling_rate = 16000\n",
    "signal = np.random.normal(size=sampling_rate).astype(np.float32)\n",
    "model(signal, sampling_rate)\n"
   ],
   "metadata": {
    "collapsed": false
   }
  },
  {
   "cell_type": "code",
   "execution_count": 31,
   "outputs": [
    {
     "data": {
      "text/plain": "array([ 0.35366887, -1.1935568 , -0.1309103 , ..., -2.6430488 ,\n       -0.11577458,  0.20400122], dtype=float32)"
     },
     "execution_count": 31,
     "metadata": {},
     "output_type": "execute_result"
    }
   ],
   "source": [
    "signal"
   ],
   "metadata": {
    "collapsed": false
   }
  },
  {
   "cell_type": "code",
   "execution_count": 1,
   "outputs": [
    {
     "name": "stderr",
     "output_type": "stream",
     "text": [
      "Using custom data configuration default-514e4f917f0929bb\n",
      "Found cached dataset csv (C:/Users/tonib/.cache/huggingface/datasets/csv/default-514e4f917f0929bb/0.0.0/6b34fb8fcf56f7c8ba51dc895bfa2bfbe43546f190a60fcf74bb5e8afdcc2317)\n"
     ]
    },
    {
     "data": {
      "text/plain": "  0%|          | 0/1 [00:00<?, ?it/s]",
      "application/vnd.jupyter.widget-view+json": {
       "version_major": 2,
       "version_minor": 0,
       "model_id": "90200cb98e654b92841fb8889d5203d8"
      }
     },
     "metadata": {},
     "output_type": "display_data"
    }
   ],
   "source": [
    "from datasets import load_dataset\n",
    "import utils.audio_dataset_utils as audioUtils\n",
    "import pandas as pd\n",
    "\n",
    "test_dataset = load_dataset(\"csv\", data_files={\"validation\": \"content/data/test.csv\"}, delimiter=\"\\t\")[\"validation\"]"
   ],
   "metadata": {
    "collapsed": false
   }
  },
  {
   "cell_type": "code",
   "execution_count": 2,
   "outputs": [],
   "source": [
    "def preprocess_function(examples):\n",
    "    speech_list = [audioUtils.speech_file_to_array_fn(path, 16000) for path in examples[\"path\"]]\n",
    "    result = speech_list\n",
    "\n",
    "    return result"
   ],
   "metadata": {
    "collapsed": false
   }
  },
  {
   "cell_type": "code",
   "execution_count": 77,
   "outputs": [
    {
     "name": "stdout",
     "output_type": "stream",
     "text": [
      "happy\n"
     ]
    }
   ],
   "source": [
    "import librosa\n",
    "x = audioUtils.speech_file_to_array_librosa(test_dataset[\"path\"][4], 16000)\n",
    "i=123\n",
    "y,sr = librosa.load(test_dataset[\"path\"][i], sr=16000)\n",
    "print(test_dataset[\"emotion\"][i])"
   ],
   "metadata": {
    "collapsed": false
   }
  },
  {
   "cell_type": "code",
   "execution_count": null,
   "outputs": [],
   "source": [],
   "metadata": {
    "collapsed": false
   }
  },
  {
   "cell_type": "code",
   "execution_count": 78,
   "outputs": [
    {
     "data": {
      "text/plain": "{'hidden_states': array([[-0.00796949,  0.00740917, -0.01084459, ...,  0.0075842 ,\n          0.0091475 ,  0.00472357]], dtype=float32),\n 'logits': array([[0.59236515, 0.62931955, 0.43607527]], dtype=float32)}"
     },
     "execution_count": 78,
     "metadata": {},
     "output_type": "execute_result"
    }
   ],
   "source": [
    "#arousal, dominance, valence.\n",
    "model(y, 16000)"
   ],
   "metadata": {
    "collapsed": false
   }
  },
  {
   "cell_type": "code",
   "execution_count": 7,
   "outputs": [
    {
     "ename": "NameError",
     "evalue": "name 'preprocess_function' is not defined",
     "output_type": "error",
     "traceback": [
      "\u001B[1;31m---------------------------------------------------------------------------\u001B[0m",
      "\u001B[1;31mNameError\u001B[0m                                 Traceback (most recent call last)",
      "Cell \u001B[1;32mIn [7], line 2\u001B[0m\n\u001B[0;32m      1\u001B[0m test_dataset \u001B[38;5;241m=\u001B[39m test_dataset\u001B[38;5;241m.\u001B[39mmap(\n\u001B[1;32m----> 2\u001B[0m     \u001B[43mpreprocess_function\u001B[49m,\n\u001B[0;32m      3\u001B[0m     batch_size\u001B[38;5;241m=\u001B[39m\u001B[38;5;241m50\u001B[39m,\n\u001B[0;32m      4\u001B[0m     batched\u001B[38;5;241m=\u001B[39m\u001B[38;5;28;01mTrue\u001B[39;00m\n\u001B[0;32m      5\u001B[0m     \u001B[38;5;66;03m#num_proc=4\u001B[39;00m\n\u001B[0;32m      6\u001B[0m )\n",
      "\u001B[1;31mNameError\u001B[0m: name 'preprocess_function' is not defined"
     ]
    }
   ],
   "source": [
    "test_dataset = test_dataset.map(\n",
    "    preprocess_function,\n",
    "    batch_size=50,\n",
    "    batched=True\n",
    "    #num_proc=4\n",
    ")"
   ],
   "metadata": {
    "collapsed": false
   }
  },
  {
   "cell_type": "code",
   "execution_count": null,
   "outputs": [],
   "source": [],
   "metadata": {
    "collapsed": false
   }
  }
 ],
 "metadata": {
  "kernelspec": {
   "display_name": "Python 3",
   "language": "python",
   "name": "python3"
  },
  "language_info": {
   "codemirror_mode": {
    "name": "ipython",
    "version": 2
   },
   "file_extension": ".py",
   "mimetype": "text/x-python",
   "name": "python",
   "nbconvert_exporter": "python",
   "pygments_lexer": "ipython2",
   "version": "2.7.6"
  }
 },
 "nbformat": 4,
 "nbformat_minor": 0
}
