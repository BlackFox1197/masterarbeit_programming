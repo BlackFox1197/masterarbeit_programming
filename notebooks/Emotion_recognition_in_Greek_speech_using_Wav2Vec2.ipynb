{
 "cells": [
  {
   "cell_type": "markdown",
   "metadata": {
    "id": "5fbCls1d2yBs"
   },
   "source": [
    "# Emotion Recognition in Greek Speech Using Wav2Vec 2.0"
   ]
  },
  {
   "cell_type": "markdown",
   "metadata": {
    "id": "sp37lZOV2042"
   },
   "source": [
    "**Wav2Vec 2.0** is a pretrained model for Automatic Speech Recognition (ASR) and was released in [September 2020](https://ai.facebook.com/blog/wav2vec-20-learning-the-structure-of-speech-from-raw-audio/) by Alexei Baevski, Michael Auli, and Alex Conneau.  Soon after the superior performance of Wav2Vec2 was demonstrated on the English ASR dataset LibriSpeech, *Facebook AI* presented XLSR-Wav2Vec2 (click [here](https://arxiv.org/abs/2006.13979)). XLSR stands for *cross-lingual  speech representations* and refers to XLSR-Wav2Vec2`s ability to learn speech representations that are useful across multiple languages.\n",
    "\n",
    "Similar to Wav2Vec2, XLSR-Wav2Vec2 learns powerful speech representations from hundreds of thousands of hours of speech in more than 50 languages of unlabeled speech. Similar, to [BERT's masked language modeling](http://jalammar.github.io/illustrated-bert/), the model learns contextualized speech representations by randomly masking feature vectors before passing them to a transformer network.\n",
    "\n",
    "![wav2vec2_structure](https://raw.githubusercontent.com/patrickvonplaten/scientific_images/master/xlsr_wav2vec2.png)\n",
    "\n",
    "The authors show for the first time that massively pretraining an ASR model on cross-lingual unlabeled speech data, followed by language-specific fine-tuning on very little labeled data achieves state-of-the-art results. See Table 1-5 of the official [paper](https://arxiv.org/pdf/2006.13979.pdf)."
   ]
  },
  {
   "cell_type": "markdown",
   "metadata": {
    "id": "y0xJwDkA3QQR"
   },
   "source": [
    "During fine-tuning week hosted by HuggingFace, more than 300 people participated in tuning XLSR-Wav2Vec2's pretrained on low-resources ASR dataset for more than 50 languages. This model is fine-tuned using [Connectionist Temporal Classification](https://distill.pub/2017/ctc/) (CTC), an algorithm used to train neural networks for sequence-to-sequence problems and mainly in Automatic Speech Recognition and handwriting recognition. Follow this [notebook](https://colab.research.google.com/github/patrickvonplaten/notebooks/blob/master/Fine_Tune_XLSR_Wav2Vec2_on_Turkish_ASR_with_%F0%9F%A4%97_Transformers.ipynb#scrollTo=Gx9OdDYrCtQ1) for more information about XLSR-Wav2Vec2 fine-tuning.\n",
    "\n",
    "This model was shown significant results in many low-resources languages. You can see the [competition board](https://paperswithcode.com/dataset/common-voice) or even testing the models from the [HuggingFace hub](https://huggingface.co/models?filter=xlsr-fine-tuning-week). \n",
    "\n",
    "\n",
    "In this notebook, we will go through how to use this model to recognize the emotional aspects of speech in a language (or even as a general view using for every classification problem). Before going any further, we need to install some handy packages and define some enviroment values."
   ]
  },
  {
   "cell_type": "code",
   "execution_count": 1,
   "outputs": [],
   "source": [
    "%%capture\n",
    "%env LC_ALL=C.UTF-8\n",
    "%env LANG=C.UTF-8\n",
    "%env TRANSFORMERS_CACHE=content/cache\n",
    "%env HF_DATASETS_CACHE=content/cache\n",
    "%env PYTORCH_CUDA_ALLOC_CONF=max_split_size_mb:512\n",
    "#%env CUDA_LAUNCH_BLOCKING=1"
   ],
   "metadata": {
    "collapsed": false
   }
  },
  {
   "cell_type": "markdown",
   "metadata": {
    "id": "krC50MmmvBWJ"
   },
   "source": [
    "## Prepare Data\n",
    "\n",
    "For this particular example, we use [Acted Emotional Speech Dynamic Database – AESDD](http://m3c.web.auth.gr/research/aesdd-speech-emotion-recognition/) provided by Multidisciplinary Media & Mediated Communication Research Group ([M3C](http://m3c.web.auth.gr/)). \n",
    "\n",
    "The Acted Emotional Speech Dynamic Database (AESDD) is a publically available speech emotion recognition dataset that contains utterances of acted emotional speech in the Greek language for five different emotions `sadness`, `disgust`, `happiness`, `anger`, and `fear`.\n",
    "\n",
    "The dataset consists of directories of emotions; each folder includes specific emotions. We need to loop over directories and save the paths related to each class based on the directory name.\n",
    "\n",
    "```bash\n",
    ".\n",
    "├── Tools\\ and\\ Documentation\n",
    "│   ├── ESTrainer.mlapp\n",
    "│   ├── Speech\\ Emotion\\ Recognition\\ Adapted\\ to\\ Multimodal\\ Semantic\\ Repositories_documentation.pdf\n",
    "│   ├── Speech\\ Emotion\\ Recognition\\ for\\ Performance\\ Interaction.pdf\n",
    "│   └── readme.txt\n",
    "├── anger\n",
    "│   ├── a01\\ (1).wav\n",
    "│   ├── a01\\ (2).wav\n",
    "│   ├── ...\n",
    "├── disgust\n",
    "│   ├── d01\\ (1).wav\n",
    "│   ├── d01\\ (2).wav\n",
    "│   ├── ...\n",
    "├── fear\n",
    "│   ├── f01\\ (1).wav\n",
    "│   ├── f01\\ (2).wav\n",
    "│   ├── ...\n",
    "├── happiness\n",
    "│   ├── h01\\ (1).wav\n",
    "│   ├── h01\\ (2).wav\n",
    "│   ├── ...\n",
    "└── sadness\n",
    "    ├── s01\\ (1).wav\n",
    "    ├── s01\\ (2).wav\n",
    "    ├── ...\n",
    "\n",
    "6 directories, 609 files\n",
    "```"
   ]
  },
  {
   "cell_type": "code",
   "execution_count": 2,
   "metadata": {
    "id": "pFSqZ0jwCMSv"
   },
   "outputs": [],
   "source": [
    "import numpy as np\n",
    "import pandas as pd\n",
    "import torch\n",
    "\n",
    "from pathlib import Path\n",
    "#from tqdm import tqdm\n",
    "\n",
    "import torchaudio\n",
    "from sklearn.model_selection import train_test_split\n",
    "\n",
    "import os\n",
    "import sys"
   ]
  },
  {
   "cell_type": "code",
   "execution_count": 3,
   "metadata": {
    "colab": {
     "base_uri": "https://localhost:8080/"
    },
    "id": "7MXAESg_Dqr6",
    "outputId": "2820808d-37db-41ab-edd5-af0a097d9281"
   },
   "outputs": [],
   "source": [
    "# data = []\n",
    "#\n",
    "# for path in tqdm(Path(\"/content/data/aesdd\").glob(\"**/*.wav\")):\n",
    "#     name = str(path).split('/')[-1].split('.')[0]\n",
    "#     label = str(path).split('/')[-2]\n",
    "#\n",
    "#     try:\n",
    "#         # There are some broken files\n",
    "#         s = torchaudio.load(path)\n",
    "#         data.append({\n",
    "#             \"name\": name,\n",
    "#             \"path\": path,\n",
    "#             \"emotion\": label\n",
    "#         })\n",
    "#     except Exception as e:\n",
    "#         # print(str(path), e)\n",
    "#         pass\n",
    "\n",
    "    # break"
   ]
  },
  {
   "cell_type": "code",
   "execution_count": 4,
   "metadata": {},
   "outputs": [
    {
     "name": "stdout",
     "output_type": "stream",
     "text": [
      "/home/ckwdani/Programming/Projects/masterarbeit/Jupyter/mainProject/venv/bin/python\n",
      "['angry', 'angry', 'ps', 'happy', 'fear', 'sad', 'fear', 'ps', 'happy', 'disgust', 'sad', 'sad', 'happy', 'disgust', 'disgust', 'fear', 'sad', 'happy', 'angry', 'happy', 'disgust', 'disgust', 'happy', 'happy', 'disgust', 'disgust', 'angry', 'happy', 'disgust', 'sad', 'sad', 'happy', 'ps', 'disgust', 'sad', 'disgust', 'fear', 'disgust', 'happy', 'happy', 'happy', 'sad', 'fear', 'fear', 'fear', 'sad', 'ps', 'angry', 'sad', 'disgust', 'angry', 'happy', 'happy', 'fear', 'fear', 'happy', 'angry', 'sad', 'happy', 'fear', 'fear', 'angry', 'happy', 'happy', 'angry', 'happy', 'happy', 'fear', 'happy', 'fear', 'happy', 'happy', 'angry', 'sad', 'fear', 'ps', 'ps', 'angry', 'happy', 'happy', 'sad', 'ps', 'ps', 'ps', 'angry', 'angry', 'disgust', 'ps', 'ps', 'sad', 'happy', 'ps', 'happy', 'disgust', 'disgust', 'sad', 'sad', 'happy', 'angry', 'angry', 'sad', 'happy', 'happy', 'ps', 'disgust', 'sad', 'fear', 'ps', 'happy', 'fear', 'sad', 'disgust', 'disgust', 'fear', 'angry', 'happy', 'sad', 'ps', 'fear', 'sad', 'disgust', 'disgust', 'disgust', 'angry', 'angry', 'sad', 'happy', 'angry', 'happy', 'ps', 'sad', 'fear', 'disgust', 'fear', 'disgust', 'disgust', 'disgust', 'ps', 'fear', 'sad', 'fear', 'sad', 'happy', 'fear', 'fear', 'ps', 'sad', 'angry', 'angry', 'happy', 'happy', 'fear', 'ps', 'fear', 'ps', 'fear', 'disgust', 'ps', 'happy', 'fear', 'angry', 'sad', 'sad', 'fear', 'disgust', 'fear', 'ps', 'angry', 'disgust', 'fear', 'sad', 'disgust', 'disgust', 'fear', 'ps', 'ps', 'ps', 'sad', 'ps', 'happy', 'sad', 'happy', 'happy', 'disgust', 'sad', 'fear', 'happy', 'angry', 'disgust', 'sad', 'happy', 'fear', 'ps', 'ps', 'angry', 'sad', 'angry', 'angry', 'sad', 'happy', 'fear', 'angry', 'sad', 'happy', 'happy', 'ps', 'angry', 'sad', 'angry', 'fear', 'angry', 'disgust', 'happy', 'fear', 'happy', 'ps', 'happy', 'sad', 'happy', 'fear', 'angry', 'fear', 'disgust', 'fear', 'sad', 'fear', 'sad', 'sad', 'sad', 'sad', 'disgust', 'fear', 'fear', 'angry', 'disgust', 'fear', 'fear', 'angry', 'happy', 'sad', 'fear', 'angry', 'happy', 'disgust', 'disgust', 'disgust', 'happy', 'disgust', 'ps', 'ps', 'sad', 'disgust', 'angry', 'sad', 'happy', 'fear', 'angry', 'angry', 'happy', 'happy', 'angry', 'sad', 'disgust', 'ps', 'ps', 'angry', 'ps', 'disgust', 'angry', 'sad', 'happy', 'ps', 'sad', 'ps', 'ps', 'disgust', 'ps', 'ps', 'happy', 'fear', 'fear', 'happy', 'disgust', 'sad', 'fear', 'ps', 'disgust', 'fear', 'ps', 'fear', 'disgust', 'ps', 'ps', 'angry', 'angry', 'sad', 'ps', 'disgust', 'disgust', 'ps', 'happy', 'fear', 'sad', 'angry', 'disgust', 'happy', 'disgust', 'disgust', 'angry', 'angry', 'sad', 'ps', 'disgust', 'fear', 'angry', 'angry', 'fear', 'fear', 'angry', 'angry', 'fear', 'ps', 'angry', 'disgust', 'ps', 'disgust', 'happy', 'happy', 'sad', 'angry', 'sad', 'angry', 'ps', 'happy', 'disgust', 'disgust', 'angry', 'angry', 'ps', 'disgust', 'fear', 'fear', 'sad', 'ps', 'sad', 'happy', 'ps', 'disgust', 'ps', 'sad', 'disgust', 'disgust', 'sad', 'disgust', 'happy', 'happy', 'angry', 'sad', 'disgust', 'happy', 'sad', 'angry', 'ps', 'angry', 'happy', 'fear', 'sad', 'ps', 'ps', 'sad', 'fear', 'fear', 'fear', 'angry', 'angry', 'fear', 'fear', 'angry', 'fear', 'ps', 'disgust', 'angry', 'angry', 'angry', 'happy', 'fear', 'fear', 'fear', 'happy', 'ps', 'disgust', 'angry', 'ps', 'angry', 'angry', 'disgust', 'ps', 'angry', 'ps', 'sad', 'sad', 'happy', 'disgust', 'ps', 'happy', 'fear', 'disgust', 'disgust', 'angry', 'angry', 'disgust', 'fear', 'sad', 'disgust', 'disgust', 'sad', 'happy', 'disgust', 'happy', 'angry', 'ps', 'happy', 'fear', 'fear', 'fear', 'disgust', 'angry', 'disgust', 'sad', 'fear', 'fear', 'ps', 'sad', 'sad', 'fear', 'fear', 'disgust', 'sad', 'fear', 'happy', 'angry', 'angry', 'disgust', 'happy', 'ps', 'angry', 'ps', 'happy', 'sad', 'ps', 'fear', 'angry', 'disgust', 'happy', 'sad', 'fear', 'fear', 'ps', 'disgust', 'fear', 'sad', 'fear', 'fear', 'angry', 'sad', 'ps', 'disgust', 'ps', 'angry', 'ps', 'angry', 'fear', 'ps', 'disgust', 'disgust', 'sad', 'happy', 'sad', 'angry', 'sad', 'sad', 'sad', 'sad', 'ps', 'ps', 'ps', 'fear', 'ps', 'ps', 'sad', 'sad', 'sad', 'angry', 'sad', 'happy', 'disgust', 'ps', 'happy', 'happy', 'sad', 'angry', 'happy', 'fear', 'ps', 'fear', 'fear', 'angry', 'ps', 'happy', 'disgust', 'fear', 'happy', 'happy', 'disgust', 'sad', 'happy', 'fear', 'sad', 'happy', 'ps', 'sad', 'disgust', 'disgust', 'angry', 'sad', 'happy', 'ps', 'happy', 'disgust', 'sad', 'angry', 'ps', 'fear', 'ps', 'sad', 'sad', 'fear', 'disgust', 'disgust', 'ps', 'angry', 'fear', 'angry', 'happy', 'angry', 'happy', 'disgust', 'ps', 'happy', 'happy', 'disgust', 'angry', 'angry', 'fear', 'ps', 'disgust', 'ps', 'happy', 'disgust', 'sad', 'ps', 'disgust', 'angry', 'happy', 'ps', 'disgust', 'sad', 'angry', 'angry', 'sad', 'happy', 'happy', 'happy', 'happy', 'fear', 'ps', 'happy', 'ps', 'fear', 'happy', 'disgust', 'ps', 'disgust', 'disgust', 'sad', 'angry', 'sad', 'sad', 'happy', 'happy', 'ps', 'disgust', 'disgust', 'disgust', 'angry', 'ps', 'fear', 'fear', 'happy', 'fear', 'angry', 'happy', 'sad', 'happy', 'angry', 'happy', 'fear', 'angry', 'ps', 'ps', 'angry', 'fear', 'disgust', 'disgust', 'ps', 'ps', 'fear', 'happy', 'ps', 'angry', 'ps', 'fear', 'disgust', 'angry', 'angry', 'happy', 'sad', 'ps', 'disgust', 'sad', 'sad', 'sad', 'sad', 'angry', 'disgust', 'fear', 'angry', 'sad', 'angry', 'happy', 'angry', 'happy', 'disgust', 'ps', 'sad', 'disgust', 'ps', 'fear', 'happy', 'angry', 'sad', 'disgust', 'angry', 'ps', 'sad', 'angry', 'disgust', 'fear', 'sad', 'happy', 'disgust', 'fear', 'disgust', 'happy', 'happy', 'angry', 'ps', 'angry', 'fear', 'sad', 'fear', 'disgust', 'happy', 'angry', 'ps', 'fear', 'happy', 'ps', 'angry', 'sad', 'ps', 'fear', 'fear', 'angry', 'ps', 'sad', 'ps', 'fear', 'disgust', 'disgust', 'fear', 'fear', 'ps', 'ps', 'fear', 'disgust', 'fear', 'sad', 'ps', 'happy', 'ps', 'sad', 'fear', 'disgust', 'disgust', 'fear', 'ps', 'angry', 'disgust', 'sad', 'angry', 'ps', 'fear', 'angry', 'disgust', 'angry', 'angry', 'ps', 'sad', 'ps', 'ps', 'happy', 'angry', 'sad', 'fear', 'ps', 'disgust', 'sad', 'angry', 'ps', 'angry', 'sad', 'disgust', 'fear', 'angry', 'angry', 'fear', 'happy', 'disgust', 'fear', 'happy', 'disgust', 'disgust', 'happy', 'angry', 'sad', 'fear', 'ps', 'sad', 'disgust', 'angry', 'happy', 'ps', 'happy', 'sad', 'happy', 'ps', 'sad', 'angry', 'angry', 'sad', 'fear', 'ps', 'ps', 'sad', 'sad', 'sad', 'disgust']\n",
      "['../Stimuli_Intensitätsmorphs/nf02_ang_w05_o_100_70dB.wav', '../Stimuli_Intensitätsmorphs/nm01_ang_w01_o_50_70dB.wav', '../Stimuli_Intensitätsmorphs/nf04_sur_w03_c_100_70dB.wav', '../Stimuli_Intensitätsmorphs/nf03_hap_w01_o_75_70dB.wav', '../Stimuli_Intensitätsmorphs/nm01_fea_w01_o_50_70dB.wav', '../Stimuli_Intensitätsmorphs/nf02_sad_w02_c_25_70dB.wav', '../Stimuli_Intensitätsmorphs/nf01_fea_w03_c_75_70dB.wav', '../Stimuli_Intensitätsmorphs/nf01_sur_w02_o_100_70dB.wav', '../Stimuli_Intensitätsmorphs/nm02_hap_w03_o_75_70dB.wav', '../Stimuli_Intensitätsmorphs/nf01_dis_w05_o_50_70dB.wav', '../Stimuli_Intensitätsmorphs/nf01_sad_w01_c_75_70dB.wav', '../Stimuli_Intensitätsmorphs/nm03_sad_w05_c_100_70dB.wav', '../Stimuli_Intensitätsmorphs/nf03_hap_w02_o_75_70dB.wav', '../Stimuli_Intensitätsmorphs/nf02_dis_w03_c_25_70dB.wav', '../Stimuli_Intensitätsmorphs/nf03_dis_w03_c_100_70dB.wav', '../Stimuli_Intensitätsmorphs/nf01_fea_w02_c_100_70dB.wav', '../Stimuli_Intensitätsmorphs/nf01_sad_w02_c_100_70dB.wav', '../Stimuli_Intensitätsmorphs/nf02_hap_w05_o_75_70dB.wav', '../Stimuli_Intensitätsmorphs/nf01_ang_w02_o_50_70dB.wav', '../Stimuli_Intensitätsmorphs/nf04_hap_w01_o_75_70dB.wav', '../Stimuli_Intensitätsmorphs/nm04_dis_w05_o_50_70dB.wav', '../Stimuli_Intensitätsmorphs/nf01_dis_w05_o_100_70dB.wav', '../Stimuli_Intensitätsmorphs/nf04_hap_w01_o_25_70dB.wav', '../Stimuli_Intensitätsmorphs/nf03_hap_w01_o_25_70dB.wav', '../Stimuli_Intensitätsmorphs/nf04_dis_w02_o_50_70dB.wav', '../Stimuli_Intensitätsmorphs/nf03_dis_w03_c_50_70dB.wav', '../Stimuli_Intensitätsmorphs/nm03_ang_w01_o_75_70dB.wav', '../Stimuli_Intensitätsmorphs/nf04_hap_w01_o_50_70dB.wav', '../Stimuli_Intensitätsmorphs/nm02_dis_w03_o_50_70dB.wav', '../Stimuli_Intensitätsmorphs/nf03_sad_w05_o_25_70dB.wav', '../Stimuli_Intensitätsmorphs/nm03_sad_w05_c_50_70dB.wav', '../Stimuli_Intensitätsmorphs/nf03_hap_w05_o_50_70dB.wav', '../Stimuli_Intensitätsmorphs/nm04_sur_w05_o_25_70dB.wav', '../Stimuli_Intensitätsmorphs/nf04_dis_w03_c_100_70dB.wav', '../Stimuli_Intensitätsmorphs/nm01_sad_w01_c_100_70dB.wav', '../Stimuli_Intensitätsmorphs/nf04_dis_w05_c_75_70dB.wav', '../Stimuli_Intensitätsmorphs/nm02_fea_w05_o_50_70dB.wav', '../Stimuli_Intensitätsmorphs/nf03_dis_w02_c_100_70dB.wav', '../Stimuli_Intensitätsmorphs/nf01_hap_w02_o_75_70dB.wav', '../Stimuli_Intensitätsmorphs/nm04_hap_w01_o_100_70dB.wav', '../Stimuli_Intensitätsmorphs/nf04_hap_w03_o_100_70dB.wav', '../Stimuli_Intensitätsmorphs/nf02_sad_w01_c_25_70dB.wav', '../Stimuli_Intensitätsmorphs/nm03_fea_w05_o_25_70dB.wav', '../Stimuli_Intensitätsmorphs/nm03_fea_w03_o_50_70dB.wav', '../Stimuli_Intensitätsmorphs/nf03_fea_w03_c_75_70dB.wav', '../Stimuli_Intensitätsmorphs/nm02_sad_w01_o_25_70dB.wav', '../Stimuli_Intensitätsmorphs/nm02_sur_w01_c_75_70dB.wav', '../Stimuli_Intensitätsmorphs/nm04_ang_w01_o_75_70dB.wav', '../Stimuli_Intensitätsmorphs/nf01_sad_w02_c_75_70dB.wav', '../Stimuli_Intensitätsmorphs/nm02_dis_w02_o_25_70dB.wav', '../Stimuli_Intensitätsmorphs/nm01_ang_w02_o_75_70dB.wav', '../Stimuli_Intensitätsmorphs/nf04_hap_w05_o_75_70dB.wav', '../Stimuli_Intensitätsmorphs/nf02_hap_w02_o_25_70dB.wav', '../Stimuli_Intensitätsmorphs/nf03_fea_w01_c_50_70dB.wav', '../Stimuli_Intensitätsmorphs/nf03_fea_w05_c_75_70dB.wav', '../Stimuli_Intensitätsmorphs/nf02_hap_w01_o_75_70dB.wav', '../Stimuli_Intensitätsmorphs/nf01_ang_w05_o_50_70dB.wav', '../Stimuli_Intensitätsmorphs/nf01_sad_w05_o_25_70dB.wav', '../Stimuli_Intensitätsmorphs/nf04_hap_w02_o_50_70dB.wav', '../Stimuli_Intensitätsmorphs/nf03_fea_w02_c_100_70dB.wav', '../Stimuli_Intensitätsmorphs/nm01_fea_w02_o_50_70dB.wav', '../Stimuli_Intensitätsmorphs/nf03_ang_w03_o_75_70dB.wav', '../Stimuli_Intensitätsmorphs/nf01_hap_w01_o_75_70dB.wav', '../Stimuli_Intensitätsmorphs/nf01_hap_w05_o_50_70dB.wav', '../Stimuli_Intensitätsmorphs/nf04_ang_w01_o_100_70dB.wav', '../Stimuli_Intensitätsmorphs/nf04_hap_w01_o_100_70dB.wav', '../Stimuli_Intensitätsmorphs/nm01_hap_w03_o_100_70dB.wav', '../Stimuli_Intensitätsmorphs/nf01_fea_w01_c_25_70dB.wav', '../Stimuli_Intensitätsmorphs/nm04_hap_w02_o_25_70dB.wav', '../Stimuli_Intensitätsmorphs/nm04_fea_w01_c_50_70dB.wav', '../Stimuli_Intensitätsmorphs/nm03_hap_w01_o_75_70dB.wav', '../Stimuli_Intensitätsmorphs/nm03_hap_w05_o_75_70dB.wav', '../Stimuli_Intensitätsmorphs/nf02_ang_w03_o_25_70dB.wav', '../Stimuli_Intensitätsmorphs/nf01_sad_w05_o_50_70dB.wav', '../Stimuli_Intensitätsmorphs/nf01_fea_w03_c_100_70dB.wav', '../Stimuli_Intensitätsmorphs/nm04_sur_w02_o_25_70dB.wav', '../Stimuli_Intensitätsmorphs/nm04_sur_w01_c_50_70dB.wav', '../Stimuli_Intensitätsmorphs/nm02_ang_w03_o_50_70dB.wav', '../Stimuli_Intensitätsmorphs/nm02_hap_w02_c_100_70dB.wav', '../Stimuli_Intensitätsmorphs/nm03_hap_w02_c_25_70dB.wav', '../Stimuli_Intensitätsmorphs/nm01_sad_w02_o_75_70dB.wav', '../Stimuli_Intensitätsmorphs/nf04_sur_w03_c_25_70dB.wav', '../Stimuli_Intensitätsmorphs/nf04_sur_w01_o_100_70dB.wav', '../Stimuli_Intensitätsmorphs/nf03_sur_w02_o_75_70dB.wav', '../Stimuli_Intensitätsmorphs/nf01_ang_w03_o_50_70dB.wav', '../Stimuli_Intensitätsmorphs/nm02_ang_w01_o_100_70dB.wav', '../Stimuli_Intensitätsmorphs/nm04_dis_w05_o_25_70dB.wav', '../Stimuli_Intensitätsmorphs/nf04_sur_w01_o_75_70dB.wav', '../Stimuli_Intensitätsmorphs/nm04_sur_w02_o_50_70dB.wav', '../Stimuli_Intensitätsmorphs/nf04_sad_w02_c_25_70dB.wav', '../Stimuli_Intensitätsmorphs/nf02_hap_w02_o_50_70dB.wav', '../Stimuli_Intensitätsmorphs/nm01_sur_w01_o_50_70dB.wav', '../Stimuli_Intensitätsmorphs/nm01_hap_w02_o_75_70dB.wav', '../Stimuli_Intensitätsmorphs/nm01_dis_w01_o_100_70dB.wav', '../Stimuli_Intensitätsmorphs/nm01_dis_w03_o_75_70dB.wav', '../Stimuli_Intensitätsmorphs/nf01_sad_w01_c_25_70dB.wav', '../Stimuli_Intensitätsmorphs/nm02_sad_w03_c_25_70dB.wav', '../Stimuli_Intensitätsmorphs/nm03_hap_w01_o_100_70dB.wav', '../Stimuli_Intensitätsmorphs/nf03_ang_w02_o_75_70dB.wav', '../Stimuli_Intensitätsmorphs/nf04_ang_w02_o_75_70dB.wav', '../Stimuli_Intensitätsmorphs/nf03_sad_w05_o_50_70dB.wav', '../Stimuli_Intensitätsmorphs/nf03_hap_w02_o_100_70dB.wav', '../Stimuli_Intensitätsmorphs/nm01_hap_w03_o_50_70dB.wav', '../Stimuli_Intensitätsmorphs/nm01_sur_w03_o_100_70dB.wav', '../Stimuli_Intensitätsmorphs/nm02_dis_w05_o_100_70dB.wav', '../Stimuli_Intensitätsmorphs/nf03_sad_w02_c_75_70dB.wav', '../Stimuli_Intensitätsmorphs/nm02_fea_w02_o_100_70dB.wav', '../Stimuli_Intensitätsmorphs/nm03_sur_w03_o_50_70dB.wav', '../Stimuli_Intensitätsmorphs/nm02_hap_w05_o_25_70dB.wav', '../Stimuli_Intensitätsmorphs/nm01_fea_w05_c_75_70dB.wav', '../Stimuli_Intensitätsmorphs/nf01_sad_w03_c_50_70dB.wav', '../Stimuli_Intensitätsmorphs/nm01_dis_w03_o_100_70dB.wav', '../Stimuli_Intensitätsmorphs/nf01_dis_w03_o_50_70dB.wav', '../Stimuli_Intensitätsmorphs/nf03_fea_w01_c_100_70dB.wav', '../Stimuli_Intensitätsmorphs/nm03_ang_w01_o_100_70dB.wav', '../Stimuli_Intensitätsmorphs/nm03_hap_w02_c_100_70dB.wav', '../Stimuli_Intensitätsmorphs/nf01_sad_w03_c_100_70dB.wav', '../Stimuli_Intensitätsmorphs/nf03_sur_w03_c_100_70dB.wav', '../Stimuli_Intensitätsmorphs/nf01_fea_w03_c_25_70dB.wav', '../Stimuli_Intensitätsmorphs/nm02_sad_w03_c_75_70dB.wav', '../Stimuli_Intensitätsmorphs/nm04_dis_w01_o_100_70dB.wav', '../Stimuli_Intensitätsmorphs/nm02_dis_w01_o_75_70dB.wav', '../Stimuli_Intensitätsmorphs/nf02_dis_w01_o_100_70dB.wav', '../Stimuli_Intensitätsmorphs/nf01_ang_w01_o_25_70dB.wav', '../Stimuli_Intensitätsmorphs/nm01_ang_w02_o_50_70dB.wav', '../Stimuli_Intensitätsmorphs/nf02_sad_w01_c_100_70dB.wav', '../Stimuli_Intensitätsmorphs/nm03_hap_w05_o_25_70dB.wav', '../Stimuli_Intensitätsmorphs/nf04_ang_w05_o_25_70dB.wav', '../Stimuli_Intensitätsmorphs/nf04_hap_w02_o_25_70dB.wav', '../Stimuli_Intensitätsmorphs/nf04_sur_w02_o_75_70dB.wav', '../Stimuli_Intensitätsmorphs/nm02_sad_w01_o_100_70dB.wav', '../Stimuli_Intensitätsmorphs/nf03_fea_w05_c_25_70dB.wav', '../Stimuli_Intensitätsmorphs/nm02_dis_w01_o_25_70dB.wav', '../Stimuli_Intensitätsmorphs/nf03_fea_w05_c_100_70dB.wav', '../Stimuli_Intensitätsmorphs/nf02_dis_w03_c_75_70dB.wav', '../Stimuli_Intensitätsmorphs/nf04_dis_w01_o_50_70dB.wav', '../Stimuli_Intensitätsmorphs/nm03_dis_w01_o_75_70dB.wav', '../Stimuli_Intensitätsmorphs/nf01_sur_w02_o_50_70dB.wav', '../Stimuli_Intensitätsmorphs/nm02_fea_w02_o_50_70dB.wav', '../Stimuli_Intensitätsmorphs/nm02_sad_w02_o_50_70dB.wav', '../Stimuli_Intensitätsmorphs/nf04_fea_w05_c_25_70dB.wav', '../Stimuli_Intensitätsmorphs/nm01_sad_w01_c_50_70dB.wav', '../Stimuli_Intensitätsmorphs/nf04_hap_w02_o_75_70dB.wav', '../Stimuli_Intensitätsmorphs/nm04_fea_w05_o_50_70dB.wav', '../Stimuli_Intensitätsmorphs/nm04_fea_w02_c_50_70dB.wav', '../Stimuli_Intensitätsmorphs/nm03_sur_w05_c_25_70dB.wav', '../Stimuli_Intensitätsmorphs/nf02_sad_w03_c_100_70dB.wav', '../Stimuli_Intensitätsmorphs/nm01_ang_w05_o_75_70dB.wav', '../Stimuli_Intensitätsmorphs/nm03_ang_w01_o_25_70dB.wav', '../Stimuli_Intensitätsmorphs/nf02_hap_w01_o_25_70dB.wav', '../Stimuli_Intensitätsmorphs/nf01_hap_w05_o_25_70dB.wav', '../Stimuli_Intensitätsmorphs/nf02_fea_w05_o_75_70dB.wav', '../Stimuli_Intensitätsmorphs/nf03_sur_w03_c_50_70dB.wav', '../Stimuli_Intensitätsmorphs/nm03_fea_w01_o_50_70dB.wav', '../Stimuli_Intensitätsmorphs/nf04_sur_w03_c_75_70dB.wav', '../Stimuli_Intensitätsmorphs/nf02_fea_w03_o_50_70dB.wav', '../Stimuli_Intensitätsmorphs/nf04_dis_w05_c_25_70dB.wav', '../Stimuli_Intensitätsmorphs/nf02_sur_w02_c_100_70dB.wav', '../Stimuli_Intensitätsmorphs/nf03_hap_w05_o_25_70dB.wav', '../Stimuli_Intensitätsmorphs/nf04_fea_w03_o_75_70dB.wav', '../Stimuli_Intensitätsmorphs/nm02_ang_w05_o_100_70dB.wav', '../Stimuli_Intensitätsmorphs/nm04_sad_w03_c_100_70dB.wav', '../Stimuli_Intensitätsmorphs/nm03_sad_w03_o_50_70dB.wav', '../Stimuli_Intensitätsmorphs/nm04_fea_w03_o_75_70dB.wav', '../Stimuli_Intensitätsmorphs/nm01_dis_w01_o_50_70dB.wav', '../Stimuli_Intensitätsmorphs/nf04_fea_w01_c_25_70dB.wav', '../Stimuli_Intensitätsmorphs/nm02_sur_w01_c_25_70dB.wav', '../Stimuli_Intensitätsmorphs/nm02_ang_w05_o_75_70dB.wav', '../Stimuli_Intensitätsmorphs/nm03_dis_w01_o_100_70dB.wav', '../Stimuli_Intensitätsmorphs/nf01_fea_w02_c_75_70dB.wav', '../Stimuli_Intensitätsmorphs/nf01_sad_w01_c_50_70dB.wav', '../Stimuli_Intensitätsmorphs/nm04_dis_w02_o_75_70dB.wav', '../Stimuli_Intensitätsmorphs/nm01_dis_w02_c_50_70dB.wav', '../Stimuli_Intensitätsmorphs/nm04_fea_w05_o_25_70dB.wav', '../Stimuli_Intensitätsmorphs/nm01_sur_w01_o_100_70dB.wav', '../Stimuli_Intensitätsmorphs/nf01_sur_w03_c_75_70dB.wav', '../Stimuli_Intensitätsmorphs/nm02_sur_w02_o_100_70dB.wav', '../Stimuli_Intensitätsmorphs/nm04_sad_w03_c_50_70dB.wav', '../Stimuli_Intensitätsmorphs/nm04_sur_w01_c_100_70dB.wav', '../Stimuli_Intensitätsmorphs/nf02_hap_w03_o_75_70dB.wav', '../Stimuli_Intensitätsmorphs/nf03_sad_w01_o_25_70dB.wav', '../Stimuli_Intensitätsmorphs/nm02_hap_w01_o_75_70dB.wav', '../Stimuli_Intensitätsmorphs/nm01_hap_w05_o_25_70dB.wav', '../Stimuli_Intensitätsmorphs/nf04_dis_w02_o_75_70dB.wav', '../Stimuli_Intensitätsmorphs/nm02_sad_w05_c_50_70dB.wav', '../Stimuli_Intensitätsmorphs/nf03_fea_w05_c_50_70dB.wav', '../Stimuli_Intensitätsmorphs/nf04_hap_w02_o_100_70dB.wav', '../Stimuli_Intensitätsmorphs/nm02_ang_w03_o_75_70dB.wav', '../Stimuli_Intensitätsmorphs/nm01_dis_w01_o_25_70dB.wav', '../Stimuli_Intensitätsmorphs/nm01_sad_w03_c_100_70dB.wav', '../Stimuli_Intensitätsmorphs/nm03_hap_w05_o_50_70dB.wav', '../Stimuli_Intensitätsmorphs/nm01_fea_w03_c_25_70dB.wav', '../Stimuli_Intensitätsmorphs/nm01_sur_w03_o_75_70dB.wav', '../Stimuli_Intensitätsmorphs/nf03_sur_w05_o_50_70dB.wav', '../Stimuli_Intensitätsmorphs/nm03_ang_w05_o_25_70dB.wav', '../Stimuli_Intensitätsmorphs/nf02_sad_w02_c_50_70dB.wav', '../Stimuli_Intensitätsmorphs/nf04_ang_w05_o_100_70dB.wav', '../Stimuli_Intensitätsmorphs/nf02_ang_w01_o_50_70dB.wav', '../Stimuli_Intensitätsmorphs/nf04_sad_w05_o_50_70dB.wav', '../Stimuli_Intensitätsmorphs/nf03_hap_w03_o_75_70dB.wav', '../Stimuli_Intensitätsmorphs/nf01_fea_w01_c_100_70dB.wav', '../Stimuli_Intensitätsmorphs/nm02_ang_w03_o_25_70dB.wav', '../Stimuli_Intensitätsmorphs/nf02_sad_w02_c_100_70dB.wav', '../Stimuli_Intensitätsmorphs/nf04_hap_w03_o_50_70dB.wav', '../Stimuli_Intensitätsmorphs/nf01_hap_w03_o_100_70dB.wav', '../Stimuli_Intensitätsmorphs/nf02_sur_w03_o_100_70dB.wav', '../Stimuli_Intensitätsmorphs/nf02_ang_w05_o_25_70dB.wav', '../Stimuli_Intensitätsmorphs/nm02_sad_w02_o_25_70dB.wav', '../Stimuli_Intensitätsmorphs/nm02_ang_w02_c_75_70dB.wav', '../Stimuli_Intensitätsmorphs/nm01_fea_w03_c_75_70dB.wav', '../Stimuli_Intensitätsmorphs/nm02_ang_w05_o_25_70dB.wav', '../Stimuli_Intensitätsmorphs/nf03_dis_w05_o_25_70dB.wav', '../Stimuli_Intensitätsmorphs/nf03_hap_w05_o_100_70dB.wav', '../Stimuli_Intensitätsmorphs/nm02_fea_w05_o_75_70dB.wav', '../Stimuli_Intensitätsmorphs/nf02_hap_w05_o_50_70dB.wav', '../Stimuli_Intensitätsmorphs/nf02_sur_w03_o_50_70dB.wav', '../Stimuli_Intensitätsmorphs/nf04_hap_w03_o_25_70dB.wav', '../Stimuli_Intensitätsmorphs/nf04_sad_w02_c_75_70dB.wav', '../Stimuli_Intensitätsmorphs/nm03_hap_w03_o_50_70dB.wav', '../Stimuli_Intensitätsmorphs/nm04_fea_w03_o_100_70dB.wav', '../Stimuli_Intensitätsmorphs/nm04_ang_w05_o_100_70dB.wav', '../Stimuli_Intensitätsmorphs/nm01_fea_w02_o_75_70dB.wav', '../Stimuli_Intensitätsmorphs/nf02_dis_w03_c_50_70dB.wav', '../Stimuli_Intensitätsmorphs/nf03_fea_w01_c_75_70dB.wav', '../Stimuli_Intensitätsmorphs/nm04_sad_w03_c_75_70dB.wav', '../Stimuli_Intensitätsmorphs/nf03_fea_w02_c_75_70dB.wav', '../Stimuli_Intensitätsmorphs/nm04_sad_w02_c_25_70dB.wav', '../Stimuli_Intensitätsmorphs/nm03_sad_w03_o_75_70dB.wav', '../Stimuli_Intensitätsmorphs/nm03_sad_w01_o_50_70dB.wav', '../Stimuli_Intensitätsmorphs/nm03_sad_w01_o_25_70dB.wav', '../Stimuli_Intensitätsmorphs/nm04_dis_w02_o_100_70dB.wav', '../Stimuli_Intensitätsmorphs/nm04_fea_w01_c_75_70dB.wav', '../Stimuli_Intensitätsmorphs/nm04_fea_w05_o_100_70dB.wav', '../Stimuli_Intensitätsmorphs/nf01_ang_w05_o_100_70dB.wav', '../Stimuli_Intensitätsmorphs/nm01_dis_w03_o_50_70dB.wav', '../Stimuli_Intensitätsmorphs/nf02_fea_w02_o_25_70dB.wav', '../Stimuli_Intensitätsmorphs/nf01_fea_w02_c_50_70dB.wav', '../Stimuli_Intensitätsmorphs/nf04_ang_w03_o_25_70dB.wav', '../Stimuli_Intensitätsmorphs/nf03_hap_w02_o_50_70dB.wav', '../Stimuli_Intensitätsmorphs/nm03_sad_w03_o_25_70dB.wav', '../Stimuli_Intensitätsmorphs/nm03_fea_w03_o_25_70dB.wav', '../Stimuli_Intensitätsmorphs/nm03_ang_w05_o_100_70dB.wav', '../Stimuli_Intensitätsmorphs/nm03_hap_w03_o_100_70dB.wav', '../Stimuli_Intensitätsmorphs/nm02_dis_w03_o_75_70dB.wav', '../Stimuli_Intensitätsmorphs/nm01_dis_w05_o_25_70dB.wav', '../Stimuli_Intensitätsmorphs/nm03_dis_w02_o_100_70dB.wav', '../Stimuli_Intensitätsmorphs/nm04_hap_w05_o_75_70dB.wav', '../Stimuli_Intensitätsmorphs/nm04_dis_w03_o_75_70dB.wav', '../Stimuli_Intensitätsmorphs/nf01_sur_w01_o_75_70dB.wav', '../Stimuli_Intensitätsmorphs/nm01_sur_w05_o_25_70dB.wav', '../Stimuli_Intensitätsmorphs/nm02_sad_w05_c_100_70dB.wav', '../Stimuli_Intensitätsmorphs/nf04_dis_w05_c_100_70dB.wav', '../Stimuli_Intensitätsmorphs/nm03_ang_w02_o_100_70dB.wav', '../Stimuli_Intensitätsmorphs/nm01_sad_w02_o_50_70dB.wav', '../Stimuli_Intensitätsmorphs/nm02_hap_w05_o_75_70dB.wav', '../Stimuli_Intensitätsmorphs/nm01_fea_w05_c_100_70dB.wav', '../Stimuli_Intensitätsmorphs/nm03_ang_w02_o_25_70dB.wav', '../Stimuli_Intensitätsmorphs/nf03_ang_w01_o_50_70dB.wav', '../Stimuli_Intensitätsmorphs/nf02_hap_w03_o_100_70dB.wav', '../Stimuli_Intensitätsmorphs/nf01_hap_w01_o_100_70dB.wav', '../Stimuli_Intensitätsmorphs/nm03_ang_w03_o_100_70dB.wav', '../Stimuli_Intensitätsmorphs/nm04_sad_w05_c_75_70dB.wav', '../Stimuli_Intensitätsmorphs/nf02_dis_w02_o_25_70dB.wav', '../Stimuli_Intensitätsmorphs/nm01_sur_w02_o_100_70dB.wav', '../Stimuli_Intensitätsmorphs/nm04_sur_w01_c_75_70dB.wav', '../Stimuli_Intensitätsmorphs/nf02_ang_w02_o_100_70dB.wav', '../Stimuli_Intensitätsmorphs/nf01_sur_w02_o_25_70dB.wav', '../Stimuli_Intensitätsmorphs/nf04_dis_w01_o_25_70dB.wav', '../Stimuli_Intensitätsmorphs/nf03_ang_w05_o_100_70dB.wav', '../Stimuli_Intensitätsmorphs/nm04_sad_w05_c_100_70dB.wav', '../Stimuli_Intensitätsmorphs/nf03_hap_w03_o_25_70dB.wav', '../Stimuli_Intensitätsmorphs/nm03_sur_w01_o_75_70dB.wav', '../Stimuli_Intensitätsmorphs/nm02_sad_w03_c_50_70dB.wav', '../Stimuli_Intensitätsmorphs/nf01_sur_w01_o_25_70dB.wav', '../Stimuli_Intensitätsmorphs/nm01_sur_w05_o_75_70dB.wav', '../Stimuli_Intensitätsmorphs/nf02_dis_w01_o_25_70dB.wav', '../Stimuli_Intensitätsmorphs/nf02_sur_w01_o_100_70dB.wav', '../Stimuli_Intensitätsmorphs/nm03_sur_w01_o_100_70dB.wav', '../Stimuli_Intensitätsmorphs/nm04_hap_w03_o_100_70dB.wav', '../Stimuli_Intensitätsmorphs/nm01_fea_w01_o_25_70dB.wav', '../Stimuli_Intensitätsmorphs/nf01_fea_w05_o_50_70dB.wav', '../Stimuli_Intensitätsmorphs/nm01_hap_w02_o_25_70dB.wav', '../Stimuli_Intensitätsmorphs/nm01_dis_w05_o_75_70dB.wav', '../Stimuli_Intensitätsmorphs/nf04_sad_w01_c_75_70dB.wav', '../Stimuli_Intensitätsmorphs/nm02_fea_w03_c_100_70dB.wav', '../Stimuli_Intensitätsmorphs/nm02_sur_w01_c_100_70dB.wav', '../Stimuli_Intensitätsmorphs/nm04_dis_w01_o_25_70dB.wav', '../Stimuli_Intensitätsmorphs/nm04_fea_w03_o_50_70dB.wav', '../Stimuli_Intensitätsmorphs/nf01_sur_w01_o_50_70dB.wav', '../Stimuli_Intensitätsmorphs/nm01_fea_w05_c_25_70dB.wav', '../Stimuli_Intensitätsmorphs/nf01_dis_w01_o_50_70dB.wav', '../Stimuli_Intensitätsmorphs/nm02_sur_w05_o_25_70dB.wav', '../Stimuli_Intensitätsmorphs/nm02_sur_w05_o_50_70dB.wav', '../Stimuli_Intensitätsmorphs/nm04_ang_w05_o_50_70dB.wav', '../Stimuli_Intensitätsmorphs/nm04_ang_w05_o_25_70dB.wav', '../Stimuli_Intensitätsmorphs/nm04_sad_w05_c_25_70dB.wav', '../Stimuli_Intensitätsmorphs/nf01_sur_w03_c_50_70dB.wav', '../Stimuli_Intensitätsmorphs/nf03_dis_w02_c_50_70dB.wav', '../Stimuli_Intensitätsmorphs/nm02_dis_w01_o_100_70dB.wav', '../Stimuli_Intensitätsmorphs/nf04_sur_w02_o_100_70dB.wav', '../Stimuli_Intensitätsmorphs/nf02_hap_w01_o_50_70dB.wav', '../Stimuli_Intensitätsmorphs/nm04_fea_w05_o_75_70dB.wav', '../Stimuli_Intensitätsmorphs/nf03_sad_w05_o_75_70dB.wav', '../Stimuli_Intensitätsmorphs/nf04_ang_w03_o_50_70dB.wav', '../Stimuli_Intensitätsmorphs/nm02_dis_w05_o_75_70dB.wav', '../Stimuli_Intensitätsmorphs/nf02_hap_w02_o_75_70dB.wav', '../Stimuli_Intensitätsmorphs/nm03_dis_w01_o_50_70dB.wav', '../Stimuli_Intensitätsmorphs/nf04_dis_w05_c_50_70dB.wav', '../Stimuli_Intensitätsmorphs/nf03_ang_w05_o_25_70dB.wav', '../Stimuli_Intensitätsmorphs/nf04_ang_w03_o_100_70dB.wav', '../Stimuli_Intensitätsmorphs/nm04_sad_w02_c_75_70dB.wav', '../Stimuli_Intensitätsmorphs/nf02_sur_w02_c_75_70dB.wav', '../Stimuli_Intensitätsmorphs/nf01_dis_w03_o_25_70dB.wav', '../Stimuli_Intensitätsmorphs/nm03_fea_w01_o_75_70dB.wav', '../Stimuli_Intensitätsmorphs/nm01_ang_w02_o_25_70dB.wav', '../Stimuli_Intensitätsmorphs/nf03_ang_w01_o_75_70dB.wav', '../Stimuli_Intensitätsmorphs/nf04_fea_w02_c_75_70dB.wav', '../Stimuli_Intensitätsmorphs/nf01_fea_w05_o_75_70dB.wav', '../Stimuli_Intensitätsmorphs/nf01_ang_w01_o_75_70dB.wav', '../Stimuli_Intensitätsmorphs/nf03_ang_w03_o_50_70dB.wav', '../Stimuli_Intensitätsmorphs/nf04_fea_w05_c_75_70dB.wav', '../Stimuli_Intensitätsmorphs/nf02_sur_w02_c_50_70dB.wav', '../Stimuli_Intensitätsmorphs/nf02_ang_w03_o_50_70dB.wav', '../Stimuli_Intensitätsmorphs/nf01_dis_w02_c_75_70dB.wav', '../Stimuli_Intensitätsmorphs/nf03_sur_w01_c_25_70dB.wav', '../Stimuli_Intensitätsmorphs/nf01_dis_w03_o_100_70dB.wav', '../Stimuli_Intensitätsmorphs/nm01_hap_w03_o_75_70dB.wav', '../Stimuli_Intensitätsmorphs/nf03_hap_w03_o_100_70dB.wav', '../Stimuli_Intensitätsmorphs/nf03_sad_w02_c_25_70dB.wav', '../Stimuli_Intensitätsmorphs/nm01_ang_w03_o_75_70dB.wav', '../Stimuli_Intensitätsmorphs/nm04_sad_w01_c_100_70dB.wav', '../Stimuli_Intensitätsmorphs/nf04_ang_w01_o_75_70dB.wav', '../Stimuli_Intensitätsmorphs/nf02_sur_w01_o_25_70dB.wav', '../Stimuli_Intensitätsmorphs/nm02_hap_w01_o_50_70dB.wav', '../Stimuli_Intensitätsmorphs/nf03_dis_w02_c_25_70dB.wav', '../Stimuli_Intensitätsmorphs/nf03_dis_w01_c_25_70dB.wav', '../Stimuli_Intensitätsmorphs/nm02_ang_w01_o_75_70dB.wav', '../Stimuli_Intensitätsmorphs/nf01_ang_w03_o_75_70dB.wav', '../Stimuli_Intensitätsmorphs/nm02_sur_w05_o_100_70dB.wav', '../Stimuli_Intensitätsmorphs/nf03_dis_w01_c_50_70dB.wav', '../Stimuli_Intensitätsmorphs/nf04_fea_w01_c_50_70dB.wav', '../Stimuli_Intensitätsmorphs/nf02_fea_w01_o_50_70dB.wav', '../Stimuli_Intensitätsmorphs/nm01_sad_w02_o_100_70dB.wav', '../Stimuli_Intensitätsmorphs/nf03_sur_w02_o_100_70dB.wav', '../Stimuli_Intensitätsmorphs/nf04_sad_w02_c_50_70dB.wav', '../Stimuli_Intensitätsmorphs/nf03_hap_w05_o_75_70dB.wav', '../Stimuli_Intensitätsmorphs/nf01_sur_w05_o_100_70dB.wav', '../Stimuli_Intensitätsmorphs/nm03_dis_w05_o_50_70dB.wav', '../Stimuli_Intensitätsmorphs/nm04_sur_w02_o_75_70dB.wav', '../Stimuli_Intensitätsmorphs/nf02_sad_w05_c_100_70dB.wav', '../Stimuli_Intensitätsmorphs/nf02_dis_w05_o_50_70dB.wav', '../Stimuli_Intensitätsmorphs/nm01_dis_w05_o_50_70dB.wav', '../Stimuli_Intensitätsmorphs/nm01_sad_w05_o_100_70dB.wav', '../Stimuli_Intensitätsmorphs/nm04_dis_w02_o_50_70dB.wav', '../Stimuli_Intensitätsmorphs/nm02_hap_w05_o_100_70dB.wav', '../Stimuli_Intensitätsmorphs/nm01_hap_w02_o_50_70dB.wav', '../Stimuli_Intensitätsmorphs/nf04_ang_w02_o_50_70dB.wav', '../Stimuli_Intensitätsmorphs/nf04_sad_w05_o_100_70dB.wav', '../Stimuli_Intensitätsmorphs/nf03_dis_w03_c_75_70dB.wav', '../Stimuli_Intensitätsmorphs/nf03_hap_w03_o_50_70dB.wav', '../Stimuli_Intensitätsmorphs/nf01_sad_w02_c_50_70dB.wav', '../Stimuli_Intensitätsmorphs/nf04_ang_w03_o_75_70dB.wav', '../Stimuli_Intensitätsmorphs/nm03_sur_w01_o_50_70dB.wav', '../Stimuli_Intensitätsmorphs/nf01_ang_w02_o_100_70dB.wav', '../Stimuli_Intensitätsmorphs/nm02_hap_w05_o_50_70dB.wav', '../Stimuli_Intensitätsmorphs/nm03_fea_w05_o_50_70dB.wav', '../Stimuli_Intensitätsmorphs/nm03_sad_w02_o_50_70dB.wav', '../Stimuli_Intensitätsmorphs/nm02_sur_w03_o_50_70dB.wav', '../Stimuli_Intensitätsmorphs/nf02_sur_w05_c_75_70dB.wav', '../Stimuli_Intensitätsmorphs/nf03_sad_w03_o_100_70dB.wav', '../Stimuli_Intensitätsmorphs/nf02_fea_w01_o_100_70dB.wav', '../Stimuli_Intensitätsmorphs/nm02_fea_w02_o_75_70dB.wav', '../Stimuli_Intensitätsmorphs/nf01_fea_w02_c_25_70dB.wav', '../Stimuli_Intensitätsmorphs/nm01_ang_w01_o_100_70dB.wav', '../Stimuli_Intensitätsmorphs/nf03_ang_w05_o_75_70dB.wav', '../Stimuli_Intensitätsmorphs/nm02_fea_w05_o_100_70dB.wav', '../Stimuli_Intensitätsmorphs/nm02_fea_w01_o_50_70dB.wav', '../Stimuli_Intensitätsmorphs/nm01_ang_w03_o_50_70dB.wav', '../Stimuli_Intensitätsmorphs/nf02_fea_w05_o_100_70dB.wav', '../Stimuli_Intensitätsmorphs/nf04_sur_w03_c_50_70dB.wav', '../Stimuli_Intensitätsmorphs/nf01_dis_w02_c_100_70dB.wav', '../Stimuli_Intensitätsmorphs/nm01_ang_w03_o_100_70dB.wav', '../Stimuli_Intensitätsmorphs/nf02_ang_w02_o_50_70dB.wav', '../Stimuli_Intensitätsmorphs/nm01_ang_w01_o_25_70dB.wav', '../Stimuli_Intensitätsmorphs/nm02_hap_w02_c_50_70dB.wav', '../Stimuli_Intensitätsmorphs/nf04_fea_w05_c_100_70dB.wav', '../Stimuli_Intensitätsmorphs/nf02_fea_w03_o_75_70dB.wav', '../Stimuli_Intensitätsmorphs/nf04_fea_w03_o_50_70dB.wav', '../Stimuli_Intensitätsmorphs/nm01_hap_w01_c_100_70dB.wav', '../Stimuli_Intensitätsmorphs/nf01_sur_w03_c_100_70dB.wav', '../Stimuli_Intensitätsmorphs/nf03_dis_w01_c_75_70dB.wav', '../Stimuli_Intensitätsmorphs/nm04_ang_w02_o_50_70dB.wav', '../Stimuli_Intensitätsmorphs/nf01_sur_w05_o_25_70dB.wav', '../Stimuli_Intensitätsmorphs/nf04_ang_w02_o_25_70dB.wav', '../Stimuli_Intensitätsmorphs/nm04_ang_w02_o_75_70dB.wav', '../Stimuli_Intensitätsmorphs/nf04_dis_w03_c_50_70dB.wav', '../Stimuli_Intensitätsmorphs/nm01_sur_w05_o_50_70dB.wav', '../Stimuli_Intensitätsmorphs/nf01_ang_w01_o_50_70dB.wav', '../Stimuli_Intensitätsmorphs/nf03_sur_w01_c_50_70dB.wav', '../Stimuli_Intensitätsmorphs/nm01_sad_w05_o_50_70dB.wav', '../Stimuli_Intensitätsmorphs/nf01_sad_w03_c_25_70dB.wav', '../Stimuli_Intensitätsmorphs/nm01_hap_w01_c_25_70dB.wav', '../Stimuli_Intensitätsmorphs/nf04_dis_w01_o_100_70dB.wav', '../Stimuli_Intensitätsmorphs/nf02_sur_w05_c_25_70dB.wav', '../Stimuli_Intensitätsmorphs/nm02_hap_w03_o_50_70dB.wav', '../Stimuli_Intensitätsmorphs/nf04_fea_w02_c_50_70dB.wav', '../Stimuli_Intensitätsmorphs/nm02_dis_w05_o_50_70dB.wav', '../Stimuli_Intensitätsmorphs/nm01_dis_w02_c_100_70dB.wav', '../Stimuli_Intensitätsmorphs/nm03_ang_w03_o_25_70dB.wav', '../Stimuli_Intensitätsmorphs/nm04_ang_w01_o_25_70dB.wav', '../Stimuli_Intensitätsmorphs/nm04_dis_w01_o_75_70dB.wav', '../Stimuli_Intensitätsmorphs/nm03_fea_w03_o_100_70dB.wav', '../Stimuli_Intensitätsmorphs/nm04_sad_w03_c_25_70dB.wav', '../Stimuli_Intensitätsmorphs/nf04_dis_w02_o_100_70dB.wav', '../Stimuli_Intensitätsmorphs/nf01_dis_w01_o_25_70dB.wav', '../Stimuli_Intensitätsmorphs/nf04_sad_w05_o_25_70dB.wav', '../Stimuli_Intensitätsmorphs/nm03_hap_w05_o_100_70dB.wav', '../Stimuli_Intensitätsmorphs/nf02_dis_w01_o_75_70dB.wav', '../Stimuli_Intensitätsmorphs/nm04_hap_w01_o_25_70dB.wav', '../Stimuli_Intensitätsmorphs/nm03_ang_w03_o_50_70dB.wav', '../Stimuli_Intensitätsmorphs/nm01_sur_w02_o_50_70dB.wav', '../Stimuli_Intensitätsmorphs/nm02_hap_w01_o_100_70dB.wav', '../Stimuli_Intensitätsmorphs/nm01_fea_w01_o_100_70dB.wav', '../Stimuli_Intensitätsmorphs/nf03_fea_w02_c_50_70dB.wav', '../Stimuli_Intensitätsmorphs/nf04_fea_w01_c_100_70dB.wav', '../Stimuli_Intensitätsmorphs/nf01_dis_w03_o_75_70dB.wav', '../Stimuli_Intensitätsmorphs/nm01_ang_w01_o_75_70dB.wav', '../Stimuli_Intensitätsmorphs/nm01_dis_w03_o_25_70dB.wav', '../Stimuli_Intensitätsmorphs/nf02_sad_w03_c_25_70dB.wav', '../Stimuli_Intensitätsmorphs/nm04_fea_w01_c_25_70dB.wav', '../Stimuli_Intensitätsmorphs/nm03_fea_w03_o_75_70dB.wav', '../Stimuli_Intensitätsmorphs/nm04_sur_w03_o_100_70dB.wav', '../Stimuli_Intensitätsmorphs/nf02_sad_w05_c_75_70dB.wav', '../Stimuli_Intensitätsmorphs/nf01_sad_w05_o_100_70dB.wav', '../Stimuli_Intensitätsmorphs/nm03_fea_w02_o_25_70dB.wav', '../Stimuli_Intensitätsmorphs/nm03_fea_w02_o_75_70dB.wav', '../Stimuli_Intensitätsmorphs/nf01_dis_w05_o_75_70dB.wav', '../Stimuli_Intensitätsmorphs/nf04_sad_w01_c_50_70dB.wav', '../Stimuli_Intensitätsmorphs/nf02_fea_w03_o_100_70dB.wav', '../Stimuli_Intensitätsmorphs/nf04_hap_w05_o_100_70dB.wav', '../Stimuli_Intensitätsmorphs/nf02_ang_w01_o_100_70dB.wav', '../Stimuli_Intensitätsmorphs/nf04_ang_w05_o_50_70dB.wav', '../Stimuli_Intensitätsmorphs/nm03_dis_w05_o_100_70dB.wav', '../Stimuli_Intensitätsmorphs/nm01_hap_w05_o_100_70dB.wav', '../Stimuli_Intensitätsmorphs/nm02_sur_w02_o_75_70dB.wav', '../Stimuli_Intensitätsmorphs/nf01_ang_w05_o_75_70dB.wav', '../Stimuli_Intensitätsmorphs/nf03_sur_w02_o_50_70dB.wav', '../Stimuli_Intensitätsmorphs/nf04_hap_w03_o_75_70dB.wav', '../Stimuli_Intensitätsmorphs/nf04_sad_w03_o_75_70dB.wav', '../Stimuli_Intensitätsmorphs/nm04_sur_w03_o_25_70dB.wav', '../Stimuli_Intensitätsmorphs/nf02_fea_w03_o_25_70dB.wav', '../Stimuli_Intensitätsmorphs/nf02_ang_w05_o_50_70dB.wav', '../Stimuli_Intensitätsmorphs/nm03_dis_w01_o_25_70dB.wav', '../Stimuli_Intensitätsmorphs/nm02_hap_w03_o_100_70dB.wav', '../Stimuli_Intensitätsmorphs/nm01_sad_w03_c_75_70dB.wav', '../Stimuli_Intensitätsmorphs/nf01_fea_w01_c_50_70dB.wav', '../Stimuli_Intensitätsmorphs/nm03_fea_w05_o_75_70dB.wav', '../Stimuli_Intensitätsmorphs/nm03_sur_w02_o_25_70dB.wav', '../Stimuli_Intensitätsmorphs/nf02_dis_w02_o_75_70dB.wav', '../Stimuli_Intensitätsmorphs/nf02_fea_w02_o_75_70dB.wav', '../Stimuli_Intensitätsmorphs/nf04_sad_w03_o_100_70dB.wav', '../Stimuli_Intensitätsmorphs/nf02_fea_w05_o_25_70dB.wav', '../Stimuli_Intensitätsmorphs/nm04_fea_w02_c_25_70dB.wav', '../Stimuli_Intensitätsmorphs/nf01_ang_w03_o_25_70dB.wav', '../Stimuli_Intensitätsmorphs/nf03_sad_w01_o_100_70dB.wav', '../Stimuli_Intensitätsmorphs/nm03_sur_w05_c_75_70dB.wav', '../Stimuli_Intensitätsmorphs/nf01_dis_w02_c_25_70dB.wav', '../Stimuli_Intensitätsmorphs/nf04_sur_w02_o_50_70dB.wav', '../Stimuli_Intensitätsmorphs/nm02_ang_w01_o_25_70dB.wav', '../Stimuli_Intensitätsmorphs/nf01_sur_w03_c_25_70dB.wav', '../Stimuli_Intensitätsmorphs/nf04_ang_w01_o_50_70dB.wav', '../Stimuli_Intensitätsmorphs/nf01_fea_w05_o_25_70dB.wav', '../Stimuli_Intensitätsmorphs/nf02_sur_w01_o_50_70dB.wav', '../Stimuli_Intensitätsmorphs/nm04_dis_w02_o_25_70dB.wav', '../Stimuli_Intensitätsmorphs/nf03_dis_w05_o_75_70dB.wav', '../Stimuli_Intensitätsmorphs/nm01_sad_w01_c_25_70dB.wav', '../Stimuli_Intensitätsmorphs/nm04_hap_w02_o_50_70dB.wav', '../Stimuli_Intensitätsmorphs/nf04_sad_w02_c_100_70dB.wav', '../Stimuli_Intensitätsmorphs/nf03_ang_w01_o_100_70dB.wav', '../Stimuli_Intensitätsmorphs/nm01_sad_w03_c_25_70dB.wav', '../Stimuli_Intensitätsmorphs/nm01_sad_w03_c_50_70dB.wav', '../Stimuli_Intensitätsmorphs/nf02_sad_w01_c_50_70dB.wav', '../Stimuli_Intensitätsmorphs/nm03_sad_w05_c_25_70dB.wav', '../Stimuli_Intensitätsmorphs/nm02_sur_w03_o_75_70dB.wav', '../Stimuli_Intensitätsmorphs/nf03_sur_w01_c_100_70dB.wav', '../Stimuli_Intensitätsmorphs/nm01_sur_w03_o_25_70dB.wav', '../Stimuli_Intensitätsmorphs/nf01_fea_w03_c_50_70dB.wav', '../Stimuli_Intensitätsmorphs/nf02_sur_w03_o_25_70dB.wav', '../Stimuli_Intensitätsmorphs/nm04_sur_w03_o_75_70dB.wav', '../Stimuli_Intensitätsmorphs/nf02_sad_w03_c_75_70dB.wav', '../Stimuli_Intensitätsmorphs/nf01_sad_w05_o_75_70dB.wav', '../Stimuli_Intensitätsmorphs/nf03_sad_w05_o_100_70dB.wav', '../Stimuli_Intensitätsmorphs/nf02_ang_w02_o_25_70dB.wav', '../Stimuli_Intensitätsmorphs/nm04_sad_w01_c_25_70dB.wav', '../Stimuli_Intensitätsmorphs/nf01_hap_w03_o_50_70dB.wav', '../Stimuli_Intensitätsmorphs/nf02_dis_w01_o_50_70dB.wav', '../Stimuli_Intensitätsmorphs/nm01_sur_w03_o_50_70dB.wav', '../Stimuli_Intensitätsmorphs/nf04_hap_w05_o_25_70dB.wav', '../Stimuli_Intensitätsmorphs/nm04_hap_w05_o_25_70dB.wav', '../Stimuli_Intensitätsmorphs/nm03_sad_w02_o_25_70dB.wav', '../Stimuli_Intensitätsmorphs/nf01_ang_w02_o_75_70dB.wav', '../Stimuli_Intensitätsmorphs/nm04_hap_w02_o_75_70dB.wav', '../Stimuli_Intensitätsmorphs/nm02_fea_w03_c_75_70dB.wav', '../Stimuli_Intensitätsmorphs/nm01_sur_w02_o_25_70dB.wav', '../Stimuli_Intensitätsmorphs/nm03_fea_w01_o_25_70dB.wav', '../Stimuli_Intensitätsmorphs/nm04_fea_w02_c_100_70dB.wav', '../Stimuli_Intensitätsmorphs/nm04_ang_w03_o_50_70dB.wav', '../Stimuli_Intensitätsmorphs/nm04_sur_w02_o_100_70dB.wav', '../Stimuli_Intensitätsmorphs/nf01_hap_w01_o_25_70dB.wav', '../Stimuli_Intensitätsmorphs/nf02_dis_w02_o_100_70dB.wav', '../Stimuli_Intensitätsmorphs/nf03_fea_w03_c_50_70dB.wav', '../Stimuli_Intensitätsmorphs/nm01_hap_w05_o_75_70dB.wav', '../Stimuli_Intensitätsmorphs/nm01_hap_w01_c_50_70dB.wav', '../Stimuli_Intensitätsmorphs/nm02_dis_w01_o_50_70dB.wav', '../Stimuli_Intensitätsmorphs/nf03_sad_w01_o_50_70dB.wav', '../Stimuli_Intensitätsmorphs/nm01_hap_w03_o_25_70dB.wav', '../Stimuli_Intensitätsmorphs/nm02_fea_w01_o_100_70dB.wav', '../Stimuli_Intensitätsmorphs/nf02_sad_w02_c_75_70dB.wav', '../Stimuli_Intensitätsmorphs/nm04_hap_w05_o_50_70dB.wav', '../Stimuli_Intensitätsmorphs/nm02_sur_w03_o_100_70dB.wav', '../Stimuli_Intensitätsmorphs/nf01_sad_w01_c_100_70dB.wav', '../Stimuli_Intensitätsmorphs/nf03_dis_w05_o_100_70dB.wav', '../Stimuli_Intensitätsmorphs/nm03_dis_w02_o_50_70dB.wav', '../Stimuli_Intensitätsmorphs/nf01_ang_w01_o_100_70dB.wav', '../Stimuli_Intensitätsmorphs/nf03_sad_w02_c_50_70dB.wav', '../Stimuli_Intensitätsmorphs/nm02_hap_w02_c_75_70dB.wav', '../Stimuli_Intensitätsmorphs/nm04_sur_w01_c_25_70dB.wav', '../Stimuli_Intensitätsmorphs/nm03_hap_w01_o_50_70dB.wav', '../Stimuli_Intensitätsmorphs/nf04_dis_w03_c_75_70dB.wav', '../Stimuli_Intensitätsmorphs/nm03_sad_w03_o_100_70dB.wav', '../Stimuli_Intensitätsmorphs/nm04_ang_w01_o_50_70dB.wav', '../Stimuli_Intensitätsmorphs/nm03_sur_w01_o_25_70dB.wav', '../Stimuli_Intensitätsmorphs/nf01_fea_w05_o_100_70dB.wav', '../Stimuli_Intensitätsmorphs/nf03_sur_w02_o_25_70dB.wav', '../Stimuli_Intensitätsmorphs/nf02_sad_w01_c_75_70dB.wav', '../Stimuli_Intensitätsmorphs/nf04_sad_w03_o_50_70dB.wav', '../Stimuli_Intensitätsmorphs/nm03_fea_w02_o_50_70dB.wav', '../Stimuli_Intensitätsmorphs/nf01_dis_w01_o_100_70dB.wav', '../Stimuli_Intensitätsmorphs/nm02_dis_w02_o_100_70dB.wav', '../Stimuli_Intensitätsmorphs/nm03_sur_w03_o_75_70dB.wav', '../Stimuli_Intensitätsmorphs/nf03_ang_w02_o_50_70dB.wav', '../Stimuli_Intensitätsmorphs/nm04_fea_w03_o_25_70dB.wav', '../Stimuli_Intensitätsmorphs/nm02_ang_w01_o_50_70dB.wav', '../Stimuli_Intensitätsmorphs/nf03_hap_w02_o_25_70dB.wav', '../Stimuli_Intensitätsmorphs/nm04_ang_w02_o_100_70dB.wav', '../Stimuli_Intensitätsmorphs/nm01_hap_w01_c_75_70dB.wav', '../Stimuli_Intensitätsmorphs/nm01_dis_w02_c_25_70dB.wav', '../Stimuli_Intensitätsmorphs/nf04_sur_w05_o_25_70dB.wav', '../Stimuli_Intensitätsmorphs/nf01_hap_w03_o_25_70dB.wav', '../Stimuli_Intensitätsmorphs/nm02_hap_w01_o_25_70dB.wav', '../Stimuli_Intensitätsmorphs/nm02_dis_w03_o_25_70dB.wav', '../Stimuli_Intensitätsmorphs/nf03_ang_w03_o_25_70dB.wav', '../Stimuli_Intensitätsmorphs/nf03_ang_w02_o_25_70dB.wav', '../Stimuli_Intensitätsmorphs/nm04_fea_w01_c_100_70dB.wav', '../Stimuli_Intensitätsmorphs/nf04_sur_w05_o_100_70dB.wav', '../Stimuli_Intensitätsmorphs/nm04_dis_w03_o_50_70dB.wav', '../Stimuli_Intensitätsmorphs/nm03_sur_w05_c_100_70dB.wav', '../Stimuli_Intensitätsmorphs/nf01_hap_w02_o_25_70dB.wav', '../Stimuli_Intensitätsmorphs/nf02_dis_w02_o_50_70dB.wav', '../Stimuli_Intensitätsmorphs/nm04_sad_w02_c_100_70dB.wav', '../Stimuli_Intensitätsmorphs/nm03_sur_w03_o_100_70dB.wav', '../Stimuli_Intensitätsmorphs/nm04_dis_w05_o_75_70dB.wav', '../Stimuli_Intensitätsmorphs/nm03_ang_w05_o_50_70dB.wav', '../Stimuli_Intensitätsmorphs/nm03_hap_w03_o_25_70dB.wav', '../Stimuli_Intensitätsmorphs/nm02_sur_w03_o_25_70dB.wav', '../Stimuli_Intensitätsmorphs/nm04_dis_w05_o_100_70dB.wav', '../Stimuli_Intensitätsmorphs/nm04_sad_w05_c_50_70dB.wav', '../Stimuli_Intensitätsmorphs/nf04_ang_w05_o_75_70dB.wav', '../Stimuli_Intensitätsmorphs/nf01_ang_w05_o_25_70dB.wav', '../Stimuli_Intensitätsmorphs/nm02_sad_w02_o_75_70dB.wav', '../Stimuli_Intensitätsmorphs/nm03_hap_w02_c_75_70dB.wav', '../Stimuli_Intensitätsmorphs/nf03_hap_w01_o_50_70dB.wav', '../Stimuli_Intensitätsmorphs/nm02_hap_w03_o_25_70dB.wav', '../Stimuli_Intensitätsmorphs/nf02_hap_w01_o_100_70dB.wav', '../Stimuli_Intensitätsmorphs/nf04_fea_w02_c_100_70dB.wav', '../Stimuli_Intensitätsmorphs/nm02_sur_w02_o_25_70dB.wav', '../Stimuli_Intensitätsmorphs/nf04_hap_w05_o_50_70dB.wav', '../Stimuli_Intensitätsmorphs/nf01_sur_w01_o_100_70dB.wav', '../Stimuli_Intensitätsmorphs/nm02_fea_w02_o_25_70dB.wav', '../Stimuli_Intensitätsmorphs/nm04_hap_w03_o_75_70dB.wav', '../Stimuli_Intensitätsmorphs/nm04_dis_w03_o_100_70dB.wav', '../Stimuli_Intensitätsmorphs/nf04_sur_w01_o_50_70dB.wav', '../Stimuli_Intensitätsmorphs/nm03_dis_w03_o_25_70dB.wav', '../Stimuli_Intensitätsmorphs/nm02_dis_w02_o_75_70dB.wav', '../Stimuli_Intensitätsmorphs/nf02_sad_w03_c_50_70dB.wav', '../Stimuli_Intensitätsmorphs/nm01_ang_w05_o_100_70dB.wav', '../Stimuli_Intensitätsmorphs/nf02_sad_w05_c_50_70dB.wav', '../Stimuli_Intensitätsmorphs/nf04_sad_w01_c_100_70dB.wav', '../Stimuli_Intensitätsmorphs/nf03_hap_w01_o_100_70dB.wav', '../Stimuli_Intensitätsmorphs/nm04_hap_w02_o_100_70dB.wav', '../Stimuli_Intensitätsmorphs/nf01_sur_w05_o_50_70dB.wav', '../Stimuli_Intensitätsmorphs/nm02_dis_w05_o_25_70dB.wav', '../Stimuli_Intensitätsmorphs/nf03_dis_w03_c_25_70dB.wav', '../Stimuli_Intensitätsmorphs/nm03_dis_w02_o_75_70dB.wav', '../Stimuli_Intensitätsmorphs/nf04_ang_w02_o_100_70dB.wav', '../Stimuli_Intensitätsmorphs/nm03_sur_w02_o_100_70dB.wav', '../Stimuli_Intensitätsmorphs/nm02_fea_w01_o_75_70dB.wav', '../Stimuli_Intensitätsmorphs/nm02_fea_w05_o_25_70dB.wav', '../Stimuli_Intensitätsmorphs/nf01_hap_w05_o_75_70dB.wav', '../Stimuli_Intensitätsmorphs/nm02_fea_w03_c_25_70dB.wav', '../Stimuli_Intensitätsmorphs/nf04_ang_w01_o_25_70dB.wav', '../Stimuli_Intensitätsmorphs/nf01_hap_w02_o_50_70dB.wav', '../Stimuli_Intensitätsmorphs/nf04_sad_w03_o_25_70dB.wav', '../Stimuli_Intensitätsmorphs/nm03_hap_w02_c_50_70dB.wav', '../Stimuli_Intensitätsmorphs/nm04_ang_w05_o_75_70dB.wav', '../Stimuli_Intensitätsmorphs/nf02_hap_w02_o_100_70dB.wav', '../Stimuli_Intensitätsmorphs/nf02_fea_w05_o_50_70dB.wav', '../Stimuli_Intensitätsmorphs/nm03_ang_w02_o_75_70dB.wav', '../Stimuli_Intensitätsmorphs/nf02_sur_w02_c_25_70dB.wav', '../Stimuli_Intensitätsmorphs/nf02_sur_w01_o_75_70dB.wav', '../Stimuli_Intensitätsmorphs/nm03_ang_w02_o_50_70dB.wav', '../Stimuli_Intensitätsmorphs/nm01_fea_w01_o_75_70dB.wav', '../Stimuli_Intensitätsmorphs/nm03_dis_w03_o_50_70dB.wav', '../Stimuli_Intensitätsmorphs/nm03_dis_w03_o_100_70dB.wav', '../Stimuli_Intensitätsmorphs/nf01_sur_w05_o_75_70dB.wav', '../Stimuli_Intensitätsmorphs/nm02_sur_w01_c_50_70dB.wav', '../Stimuli_Intensitätsmorphs/nf04_fea_w03_o_25_70dB.wav', '../Stimuli_Intensitätsmorphs/nm04_hap_w03_o_50_70dB.wav', '../Stimuli_Intensitätsmorphs/nm04_sur_w05_o_75_70dB.wav', '../Stimuli_Intensitätsmorphs/nf02_ang_w03_o_75_70dB.wav', '../Stimuli_Intensitätsmorphs/nm01_sur_w01_o_75_70dB.wav', '../Stimuli_Intensitätsmorphs/nm02_fea_w01_o_25_70dB.wav', '../Stimuli_Intensitätsmorphs/nf01_dis_w05_o_25_70dB.wav', '../Stimuli_Intensitätsmorphs/nf03_ang_w02_o_100_70dB.wav', '../Stimuli_Intensitätsmorphs/nm01_ang_w03_o_25_70dB.wav', '../Stimuli_Intensitätsmorphs/nf01_hap_w02_o_100_70dB.wav', '../Stimuli_Intensitätsmorphs/nm01_sad_w02_o_25_70dB.wav', '../Stimuli_Intensitätsmorphs/nm03_sur_w05_c_50_70dB.wav', '../Stimuli_Intensitätsmorphs/nm01_dis_w02_c_75_70dB.wav', '../Stimuli_Intensitätsmorphs/nf03_sad_w02_c_100_70dB.wav', '../Stimuli_Intensitätsmorphs/nm03_sad_w01_o_100_70dB.wav', '../Stimuli_Intensitätsmorphs/nf02_sad_w05_c_25_70dB.wav', '../Stimuli_Intensitätsmorphs/nf01_sad_w02_c_25_70dB.wav', '../Stimuli_Intensitätsmorphs/nm02_ang_w03_o_100_70dB.wav', '../Stimuli_Intensitätsmorphs/nm04_dis_w01_o_50_70dB.wav', '../Stimuli_Intensitätsmorphs/nf03_fea_w02_c_25_70dB.wav', '../Stimuli_Intensitätsmorphs/nf01_ang_w03_o_100_70dB.wav', '../Stimuli_Intensitätsmorphs/nm03_sad_w02_o_100_70dB.wav', '../Stimuli_Intensitätsmorphs/nm01_ang_w02_o_100_70dB.wav', '../Stimuli_Intensitätsmorphs/nf01_hap_w01_o_50_70dB.wav', '../Stimuli_Intensitätsmorphs/nm02_ang_w05_o_50_70dB.wav', '../Stimuli_Intensitätsmorphs/nm04_hap_w01_o_50_70dB.wav', '../Stimuli_Intensitätsmorphs/nm03_dis_w05_o_25_70dB.wav', '../Stimuli_Intensitätsmorphs/nm04_sur_w05_o_100_70dB.wav', '../Stimuli_Intensitätsmorphs/nm03_sad_w05_c_75_70dB.wav', '../Stimuli_Intensitätsmorphs/nm03_dis_w05_o_75_70dB.wav', '../Stimuli_Intensitätsmorphs/nf04_sur_w02_o_25_70dB.wav', '../Stimuli_Intensitätsmorphs/nm03_fea_w05_o_100_70dB.wav', '../Stimuli_Intensitätsmorphs/nm03_hap_w03_o_75_70dB.wav', '../Stimuli_Intensitätsmorphs/nm04_ang_w02_o_25_70dB.wav', '../Stimuli_Intensitätsmorphs/nm03_sad_w02_o_75_70dB.wav', '../Stimuli_Intensitätsmorphs/nf02_dis_w05_o_75_70dB.wav', '../Stimuli_Intensitätsmorphs/nf02_ang_w03_o_100_70dB.wav', '../Stimuli_Intensitätsmorphs/nf03_sur_w01_c_75_70dB.wav', '../Stimuli_Intensitätsmorphs/nm02_sad_w02_o_100_70dB.wav', '../Stimuli_Intensitätsmorphs/nm04_ang_w01_o_100_70dB.wav', '../Stimuli_Intensitätsmorphs/nf02_dis_w05_o_25_70dB.wav', '../Stimuli_Intensitätsmorphs/nf02_fea_w02_o_100_70dB.wav', '../Stimuli_Intensitätsmorphs/nf03_sad_w03_o_25_70dB.wav', '../Stimuli_Intensitätsmorphs/nm04_hap_w05_o_100_70dB.wav', '../Stimuli_Intensitätsmorphs/nm04_dis_w03_o_25_70dB.wav', '../Stimuli_Intensitätsmorphs/nm01_fea_w03_c_50_70dB.wav', '../Stimuli_Intensitätsmorphs/nm01_dis_w05_o_100_70dB.wav', '../Stimuli_Intensitätsmorphs/nm03_hap_w01_o_25_70dB.wav', '../Stimuli_Intensitätsmorphs/nf01_hap_w05_o_100_70dB.wav', '../Stimuli_Intensitätsmorphs/nm02_ang_w02_c_100_70dB.wav', '../Stimuli_Intensitätsmorphs/nm02_sur_w02_o_50_70dB.wav', '../Stimuli_Intensitätsmorphs/nm01_ang_w05_o_25_70dB.wav', '../Stimuli_Intensitätsmorphs/nf03_fea_w03_c_100_70dB.wav', '../Stimuli_Intensitätsmorphs/nf01_sad_w03_c_75_70dB.wav', '../Stimuli_Intensitätsmorphs/nf04_fea_w01_c_75_70dB.wav', '../Stimuli_Intensitätsmorphs/nf04_dis_w01_o_75_70dB.wav', '../Stimuli_Intensitätsmorphs/nm04_hap_w03_o_25_70dB.wav', '../Stimuli_Intensitätsmorphs/nm01_ang_w05_o_50_70dB.wav', '../Stimuli_Intensitätsmorphs/nm03_sur_w03_o_25_70dB.wav', '../Stimuli_Intensitätsmorphs/nf01_fea_w01_c_75_70dB.wav', '../Stimuli_Intensitätsmorphs/nm02_hap_w02_c_25_70dB.wav', '../Stimuli_Intensitätsmorphs/nf03_sur_w05_o_75_70dB.wav', '../Stimuli_Intensitätsmorphs/nm02_ang_w02_c_50_70dB.wav', '../Stimuli_Intensitätsmorphs/nf03_sad_w03_o_75_70dB.wav', '../Stimuli_Intensitätsmorphs/nm01_sur_w01_o_25_70dB.wav', '../Stimuli_Intensitätsmorphs/nm03_fea_w01_o_100_70dB.wav', '../Stimuli_Intensitätsmorphs/nf03_fea_w01_c_25_70dB.wav', '../Stimuli_Intensitätsmorphs/nm04_ang_w03_o_25_70dB.wav', '../Stimuli_Intensitätsmorphs/nm04_sur_w03_o_50_70dB.wav', '../Stimuli_Intensitätsmorphs/nf04_sad_w01_c_25_70dB.wav', '../Stimuli_Intensitätsmorphs/nf03_sur_w03_c_75_70dB.wav', '../Stimuli_Intensitätsmorphs/nm01_fea_w05_c_50_70dB.wav', '../Stimuli_Intensitätsmorphs/nm03_dis_w03_o_75_70dB.wav', '../Stimuli_Intensitätsmorphs/nf02_dis_w03_c_100_70dB.wav', '../Stimuli_Intensitätsmorphs/nm02_fea_w03_c_50_70dB.wav', '../Stimuli_Intensitätsmorphs/nm01_fea_w02_o_100_70dB.wav', '../Stimuli_Intensitätsmorphs/nf02_sur_w05_c_100_70dB.wav', '../Stimuli_Intensitätsmorphs/nf04_sur_w05_o_75_70dB.wav', '../Stimuli_Intensitätsmorphs/nf03_fea_w03_c_25_70dB.wav', '../Stimuli_Intensitätsmorphs/nf01_dis_w01_o_75_70dB.wav', '../Stimuli_Intensitätsmorphs/nf02_fea_w01_o_25_70dB.wav', '../Stimuli_Intensitätsmorphs/nf04_sad_w05_o_75_70dB.wav', '../Stimuli_Intensitätsmorphs/nf03_sur_w05_o_25_70dB.wav', '../Stimuli_Intensitätsmorphs/nf02_hap_w03_o_25_70dB.wav', '../Stimuli_Intensitätsmorphs/nf01_sur_w02_o_75_70dB.wav', '../Stimuli_Intensitätsmorphs/nm02_sad_w03_c_100_70dB.wav', '../Stimuli_Intensitätsmorphs/nf02_fea_w02_o_50_70dB.wav', '../Stimuli_Intensitätsmorphs/nf03_dis_w01_c_100_70dB.wav', '../Stimuli_Intensitätsmorphs/nf04_dis_w03_c_25_70dB.wav', '../Stimuli_Intensitätsmorphs/nf04_fea_w05_c_50_70dB.wav', '../Stimuli_Intensitätsmorphs/nm01_sur_w02_o_75_70dB.wav', '../Stimuli_Intensitätsmorphs/nf03_ang_w03_o_100_70dB.wav', '../Stimuli_Intensitätsmorphs/nm01_dis_w01_o_75_70dB.wav', '../Stimuli_Intensitätsmorphs/nm04_sad_w02_c_50_70dB.wav', '../Stimuli_Intensitätsmorphs/nm03_ang_w01_o_50_70dB.wav', '../Stimuli_Intensitätsmorphs/nm03_sur_w02_o_50_70dB.wav', '../Stimuli_Intensitätsmorphs/nm01_fea_w02_o_25_70dB.wav', '../Stimuli_Intensitätsmorphs/nm03_ang_w03_o_75_70dB.wav', '../Stimuli_Intensitätsmorphs/nf03_dis_w05_o_50_70dB.wav', '../Stimuli_Intensitätsmorphs/nf03_ang_w01_o_25_70dB.wav', '../Stimuli_Intensitätsmorphs/nm02_ang_w02_c_25_70dB.wav', '../Stimuli_Intensitätsmorphs/nf03_sur_w05_o_100_70dB.wav', '../Stimuli_Intensitätsmorphs/nm02_sad_w05_c_25_70dB.wav', '../Stimuli_Intensitätsmorphs/nf04_sur_w01_o_25_70dB.wav', '../Stimuli_Intensitätsmorphs/nm04_sur_w05_o_50_70dB.wav', '../Stimuli_Intensitätsmorphs/nm01_hap_w02_o_100_70dB.wav', '../Stimuli_Intensitätsmorphs/nf01_ang_w02_o_25_70dB.wav', '../Stimuli_Intensitätsmorphs/nm01_sad_w01_c_75_70dB.wav', '../Stimuli_Intensitätsmorphs/nf04_fea_w03_o_100_70dB.wav', '../Stimuli_Intensitätsmorphs/nm03_sur_w02_o_75_70dB.wav', '../Stimuli_Intensitätsmorphs/nm03_dis_w02_o_25_70dB.wav', '../Stimuli_Intensitätsmorphs/nf03_sad_w01_o_75_70dB.wav', '../Stimuli_Intensitätsmorphs/nf02_ang_w05_o_75_70dB.wav', '../Stimuli_Intensitätsmorphs/nf04_sur_w05_o_50_70dB.wav', '../Stimuli_Intensitätsmorphs/nf02_ang_w01_o_25_70dB.wav', '../Stimuli_Intensitätsmorphs/nm02_sad_w05_c_75_70dB.wav', '../Stimuli_Intensitätsmorphs/nf04_dis_w02_o_25_70dB.wav', '../Stimuli_Intensitätsmorphs/nm04_fea_w02_c_75_70dB.wav', '../Stimuli_Intensitätsmorphs/nm04_ang_w03_o_75_70dB.wav', '../Stimuli_Intensitätsmorphs/nm03_ang_w05_o_75_70dB.wav', '../Stimuli_Intensitätsmorphs/nm01_fea_w03_c_100_70dB.wav', '../Stimuli_Intensitätsmorphs/nf02_hap_w05_o_25_70dB.wav', '../Stimuli_Intensitätsmorphs/nm02_dis_w03_o_100_70dB.wav', '../Stimuli_Intensitätsmorphs/nf04_fea_w02_c_25_70dB.wav', '../Stimuli_Intensitätsmorphs/nm04_hap_w01_o_75_70dB.wav', '../Stimuli_Intensitätsmorphs/nm02_dis_w02_o_50_70dB.wav', '../Stimuli_Intensitätsmorphs/nf01_dis_w02_c_50_70dB.wav', '../Stimuli_Intensitätsmorphs/nf02_hap_w03_o_50_70dB.wav', '../Stimuli_Intensitätsmorphs/nf02_ang_w02_o_75_70dB.wav', '../Stimuli_Intensitätsmorphs/nm02_sad_w01_o_75_70dB.wav', '../Stimuli_Intensitätsmorphs/nf02_fea_w01_o_75_70dB.wav', '../Stimuli_Intensitätsmorphs/nm01_sur_w05_o_100_70dB.wav', '../Stimuli_Intensitätsmorphs/nm01_sad_w05_o_75_70dB.wav', '../Stimuli_Intensitätsmorphs/nf03_dis_w02_c_75_70dB.wav', '../Stimuli_Intensitätsmorphs/nf03_ang_w05_o_50_70dB.wav', '../Stimuli_Intensitätsmorphs/nf01_hap_w03_o_75_70dB.wav', '../Stimuli_Intensitätsmorphs/nf02_sur_w05_c_50_70dB.wav', '../Stimuli_Intensitätsmorphs/nm01_hap_w05_o_50_70dB.wav', '../Stimuli_Intensitätsmorphs/nm02_sad_w01_o_50_70dB.wav', '../Stimuli_Intensitätsmorphs/nf02_hap_w05_o_100_70dB.wav', '../Stimuli_Intensitätsmorphs/nf02_sur_w03_o_75_70dB.wav', '../Stimuli_Intensitätsmorphs/nm04_sad_w01_c_75_70dB.wav', '../Stimuli_Intensitätsmorphs/nf02_ang_w01_o_75_70dB.wav', '../Stimuli_Intensitätsmorphs/nm04_ang_w03_o_100_70dB.wav', '../Stimuli_Intensitätsmorphs/nm01_sad_w05_o_25_70dB.wav', '../Stimuli_Intensitätsmorphs/nm03_fea_w02_o_100_70dB.wav', '../Stimuli_Intensitätsmorphs/nf03_sur_w03_c_25_70dB.wav', '../Stimuli_Intensitätsmorphs/nm02_sur_w05_o_75_70dB.wav', '../Stimuli_Intensitätsmorphs/nm03_sad_w01_o_75_70dB.wav', '../Stimuli_Intensitätsmorphs/nf03_sad_w03_o_50_70dB.wav', '../Stimuli_Intensitätsmorphs/nm04_sad_w01_c_50_70dB.wav', '../Stimuli_Intensitätsmorphs/nf02_dis_w05_o_100_70dB.wav']\n",
      "Dataset is loaded\n"
     ]
    },
    {
     "name": "stderr",
     "output_type": "stream",
     "text": [
      "/tmp/ipykernel_1506993/870144854.py:71: FutureWarning: In a future version of pandas all arguments of DataFrame.drop except for the argument 'labels' will be keyword-only.\n",
      "  df = df.drop(\"status\", 1)\n"
     ]
    }
   ],
   "source": [
    "def load_custom_dataset():\n",
    "    paths = []\n",
    "    testpaths = []\n",
    "    testlabels = []\n",
    "    terminator = 'D:/Uni/19.Master/Daten/terminator.wav'\n",
    "    print(sys.executable)\n",
    "    emotions = []\n",
    "    # for dirname, _, filenames in os.walk('Daten/TESS Toronto emotional speech set data'):\n",
    "    # D:\\Uni\\19.Master\\DATEN\n",
    "    for dirname, _, filenames in os.walk('../tess'):\n",
    "        for filename in filenames:\n",
    "            label = filename.split('_')[-1]\n",
    "            label = label.split('.')[0]\n",
    "            if (label != 'neutral'):\n",
    "                emotions.append(label.lower())\n",
    "                paths.append(os.path.join(dirname, filename))\n",
    "    for dirname, _, filenames in os.walk('../Stimuli_Intensitätsmorphs'):\n",
    "        for filename in filenames:\n",
    "\n",
    "            intens = filename.split('_')[-2]\n",
    "            emot = filename.split('_')[1]\n",
    "            label = emot\n",
    "            match label:\n",
    "                case 'ang':\n",
    "                    label = 'angry'\n",
    "                case 'dis':\n",
    "                    label = 'disgust'\n",
    "                case 'fea':\n",
    "                    label = 'fear'\n",
    "                case 'hap':\n",
    "                    label = 'happy'\n",
    "                case 'sad':\n",
    "                    label = 'sad'\n",
    "                case 'sur':\n",
    "                    label = 'ps'\n",
    "            if (emot != 'ple'):\n",
    "                testpaths.append(os.path.join(dirname, filename))\n",
    "                testlabels.append(label.lower())\n",
    "    com_labels = testlabels + emotions\n",
    "    com_paths = testpaths + paths\n",
    "    print(testlabels)\n",
    "    print(testpaths)\n",
    "    print('Dataset is loaded')\n",
    "    return paths, emotions, testpaths, testlabels\n",
    "trainpaths, trainlabels, testpaths, testlabels = load_custom_dataset()\n",
    "\n",
    "\n",
    "testerDF = pd.DataFrame()\n",
    "testerDF[\"path\"] = [\"D:\\download\\Recording.wav\"]\n",
    "testerDF[\"emotion\"] = [\"anger\"]\n",
    "###create dataframes for training and testing###\n",
    "trainDF = pd.DataFrame()\n",
    "trainDF[\"path\"] = trainpaths\n",
    "trainDF[\"emotion\"] = trainlabels\n",
    "\n",
    "testDF = pd.DataFrame()\n",
    "testDF[\"path\"] = testpaths\n",
    "testDF[\"emotion\"] = testlabels\n",
    "\n",
    "\n",
    "testDF\n",
    "\n",
    "# Filter broken and non-existed paths\n",
    "df = trainDF\n",
    "df.head()\n",
    "\n",
    "# print(f\"Step 0: {len(df)}\")\n",
    "\n",
    "df[\"status\"] = df[\"path\"].apply(lambda path: True if os.path.exists(path) else None)\n",
    "df = df.dropna(subset=[\"path\"])\n",
    "df = df.drop(\"status\", 1)\n",
    "# print(f\"Step 1: {len(df)}\")\n",
    "\n",
    "df = df.sample(frac=1)\n",
    "df = df.reset_index(drop=True)\n",
    "df.head()\n",
    "\n",
    "#----------------------------Let’s explore how many labels (emotions) are in the dataset with what distribution.\n",
    "# print(\"Labels: \", df[\"emotion\"].unique())\n",
    "# print()\n",
    "df.groupby(\"emotion\").count()[[\"path\"]]\n",
    "\n",
    "\n",
    "#------------------------------For training purposes, we need to split data into train test sets; in this specific example, we break with a 20% rate for the test set.\n",
    "\n",
    "\n",
    "#save_path = \"/content/data\"\n",
    "save_path=\"content/data\"\n",
    "train_df, test_df = train_test_split(df, test_size=0.2, random_state=101, stratify=df[\"emotion\"])\n",
    "\n",
    "train_df = train_df.reset_index(drop=True)\n",
    "test_df = test_df.reset_index(drop=True)\n",
    "\n",
    "train_df.to_csv(f\"{save_path}/train.csv\", sep=\"\\t\", encoding=\"utf-8\", index=False)\n",
    "test_df.to_csv(f\"{save_path}/test.csv\", sep=\"\\t\", encoding=\"utf-8\", index=False)\n",
    "testerDF.to_csv(f\"{save_path}/testPersonal.csv\", sep=\"\\t\", encoding=\"utf-8\", index=False)\n",
    "\n"
   ]
  },
  {
   "cell_type": "code",
   "execution_count": 5,
   "metadata": {},
   "outputs": [
    {
     "data": {
      "text/plain": "                        path emotion\n0  D:\\download\\Recording.wav   anger",
      "text/html": "<div>\n<style scoped>\n    .dataframe tbody tr th:only-of-type {\n        vertical-align: middle;\n    }\n\n    .dataframe tbody tr th {\n        vertical-align: top;\n    }\n\n    .dataframe thead th {\n        text-align: right;\n    }\n</style>\n<table border=\"1\" class=\"dataframe\">\n  <thead>\n    <tr style=\"text-align: right;\">\n      <th></th>\n      <th>path</th>\n      <th>emotion</th>\n    </tr>\n  </thead>\n  <tbody>\n    <tr>\n      <th>0</th>\n      <td>D:\\download\\Recording.wav</td>\n      <td>anger</td>\n    </tr>\n  </tbody>\n</table>\n</div>"
     },
     "execution_count": 5,
     "metadata": {},
     "output_type": "execute_result"
    }
   ],
   "source": [
    "testerDF"
   ]
  },
  {
   "cell_type": "code",
   "execution_count": 6,
   "metadata": {},
   "outputs": [],
   "source": [
    "import torchaudio"
   ]
  },
  {
   "cell_type": "markdown",
   "metadata": {
    "id": "i2hwRai7BNrx"
   },
   "source": [
    "Let's display some random sample of the dataset and run it a couple of times to get a feeling for the audio and the emotional label."
   ]
  },
  {
   "cell_type": "code",
   "execution_count": 7,
   "metadata": {
    "id": "DZaQ_sP5xkIX"
   },
   "outputs": [],
   "source": [
    "# import torchaudio\n",
    "# import librosa\n",
    "# import IPython.display as ipd\n",
    "# import numpy as np\n",
    "#\n",
    "# idx = np.random.randint(0, len(df))\n",
    "# sample = df.iloc[idx]\n",
    "# path = sample[\"path\"]\n",
    "# label = sample[\"emotion\"]\n",
    "#\n",
    "#\n",
    "# print(f\"ID Location: {idx}\")\n",
    "# print(f\"      Label: {label}\")\n",
    "# print()\n",
    "#\n",
    "# speech, sr = torchaudio.load(path)\n",
    "# speech = speech[0].numpy().squeeze()\n",
    "# speech = librosa.resample(np.asarray(speech), sr, 16_000)\n",
    "# ipd.Audio(data=np.asarray(speech), autoplay=True, rate=16000)"
   ]
  },
  {
   "cell_type": "markdown",
   "metadata": {
    "id": "kcnD-d_rDElt"
   },
   "source": [
    "## Prepare Data for Training"
   ]
  },
  {
   "cell_type": "code",
   "execution_count": 8,
   "metadata": {
    "id": "nnVfxQYDDIc6"
   },
   "outputs": [
    {
     "name": "stderr",
     "output_type": "stream",
     "text": [
      "Using custom data configuration data-3d1186b2446a222b\n"
     ]
    },
    {
     "name": "stdout",
     "output_type": "stream",
     "text": [
      "Downloading and preparing dataset csv/data to /home/ckwdani/Programming/Projects/masterarbeit/Jupyter/mainProject/notebooks/content/cache/csv/data-3d1186b2446a222b/0.0.0/6b34fb8fcf56f7c8ba51dc895bfa2bfbe43546f190a60fcf74bb5e8afdcc2317...\n"
     ]
    },
    {
     "data": {
      "text/plain": "Downloading data files:   0%|          | 0/3 [00:00<?, ?it/s]",
      "application/vnd.jupyter.widget-view+json": {
       "version_major": 2,
       "version_minor": 0,
       "model_id": "a9fa923bb63a4cf0b8ebbd238ce9c785"
      }
     },
     "metadata": {},
     "output_type": "display_data"
    },
    {
     "name": "stdout",
     "output_type": "stream",
     "text": [
      "   "
     ]
    },
    {
     "data": {
      "text/plain": "Extracting data files #1:   0%|          | 0/1 [00:00<?, ?obj/s]",
      "application/vnd.jupyter.widget-view+json": {
       "version_major": 2,
       "version_minor": 0,
       "model_id": "eca7624b94064c27889269c557540f04"
      }
     },
     "metadata": {},
     "output_type": "display_data"
    },
    {
     "data": {
      "text/plain": "Extracting data files #2:   0%|          | 0/1 [00:00<?, ?obj/s]",
      "application/vnd.jupyter.widget-view+json": {
       "version_major": 2,
       "version_minor": 0,
       "model_id": "544d6efb05d54a6c9c4793be48d0bd58"
      }
     },
     "metadata": {},
     "output_type": "display_data"
    },
    {
     "data": {
      "text/plain": "Extracting data files #0:   0%|          | 0/1 [00:00<?, ?obj/s]",
      "application/vnd.jupyter.widget-view+json": {
       "version_major": 2,
       "version_minor": 0,
       "model_id": "004858fe482e4148a192ac020bc0aa6f"
      }
     },
     "metadata": {},
     "output_type": "display_data"
    },
    {
     "data": {
      "text/plain": "Generating train split: 0 examples [00:00, ? examples/s]",
      "application/vnd.jupyter.widget-view+json": {
       "version_major": 2,
       "version_minor": 0,
       "model_id": "92c36f23e1a740e8b337a7529c7482bc"
      }
     },
     "metadata": {},
     "output_type": "display_data"
    },
    {
     "name": "stderr",
     "output_type": "stream",
     "text": [
      "/home/ckwdani/Programming/Projects/masterarbeit/Jupyter/mainProject/venv/lib/python3.10/site-packages/datasets/download/streaming_download_manager.py:714: FutureWarning: the 'mangle_dupe_cols' keyword is deprecated and will be removed in a future version. Please take steps to stop the use of 'mangle_dupe_cols'\n",
      "  return pd.read_csv(xopen(filepath_or_buffer, \"rb\", use_auth_token=use_auth_token), **kwargs)\n"
     ]
    },
    {
     "data": {
      "text/plain": "Generating validation split: 0 examples [00:00, ? examples/s]",
      "application/vnd.jupyter.widget-view+json": {
       "version_major": 2,
       "version_minor": 0,
       "model_id": "1d543c62ccbc40bb9f48585628dce527"
      }
     },
     "metadata": {},
     "output_type": "display_data"
    },
    {
     "name": "stderr",
     "output_type": "stream",
     "text": [
      "/home/ckwdani/Programming/Projects/masterarbeit/Jupyter/mainProject/venv/lib/python3.10/site-packages/datasets/download/streaming_download_manager.py:714: FutureWarning: the 'mangle_dupe_cols' keyword is deprecated and will be removed in a future version. Please take steps to stop the use of 'mangle_dupe_cols'\n",
      "  return pd.read_csv(xopen(filepath_or_buffer, \"rb\", use_auth_token=use_auth_token), **kwargs)\n"
     ]
    },
    {
     "data": {
      "text/plain": "Generating testPersonal split: 0 examples [00:00, ? examples/s]",
      "application/vnd.jupyter.widget-view+json": {
       "version_major": 2,
       "version_minor": 0,
       "model_id": "b31369890ccb431d9bc500ab75252786"
      }
     },
     "metadata": {},
     "output_type": "display_data"
    },
    {
     "name": "stdout",
     "output_type": "stream",
     "text": [
      "Dataset csv downloaded and prepared to /home/ckwdani/Programming/Projects/masterarbeit/Jupyter/mainProject/notebooks/content/cache/csv/data-3d1186b2446a222b/0.0.0/6b34fb8fcf56f7c8ba51dc895bfa2bfbe43546f190a60fcf74bb5e8afdcc2317. Subsequent calls will reuse this data.\n"
     ]
    },
    {
     "name": "stderr",
     "output_type": "stream",
     "text": [
      "/home/ckwdani/Programming/Projects/masterarbeit/Jupyter/mainProject/venv/lib/python3.10/site-packages/datasets/download/streaming_download_manager.py:714: FutureWarning: the 'mangle_dupe_cols' keyword is deprecated and will be removed in a future version. Please take steps to stop the use of 'mangle_dupe_cols'\n",
      "  return pd.read_csv(xopen(filepath_or_buffer, \"rb\", use_auth_token=use_auth_token), **kwargs)\n"
     ]
    },
    {
     "data": {
      "text/plain": "  0%|          | 0/3 [00:00<?, ?it/s]",
      "application/vnd.jupyter.widget-view+json": {
       "version_major": 2,
       "version_minor": 0,
       "model_id": "6555c92e2c374e508a4893867567e68a"
      }
     },
     "metadata": {},
     "output_type": "display_data"
    }
   ],
   "source": [
    "# Loading the created dataset using datasets\n",
    "from datasets import load_dataset, load_metric\n",
    "\n",
    "\n",
    "data_files = {\n",
    "    \"train\": \"train.csv\",\n",
    "    \"validation\": \"test.csv\",\n",
    "    \"testPersonal\": \"testPersonal.csv\"\n",
    "\n",
    "}\n",
    "\n",
    "dataset = load_dataset(\"content/data/\", data_files=data_files, delimiter=\"\\t\", )\n",
    "train_dataset = dataset[\"train\"]\n",
    "eval_dataset = dataset[\"validation\"]\n",
    "testPersonal_dataset = dataset[\"testPersonal\"]\n",
    "\n",
    "# We need to specify the input and output column\n",
    "input_column = \"path\"\n",
    "output_column = \"emotion\"\n",
    "# we need to distinguish the unique labels in our SER dataset\n",
    "label_list = train_dataset.unique(output_column)\n",
    "label_list.sort()  # Let's sort it for determinism\n",
    "num_labels = len(label_list)\n",
    "#print(f\"A classification problem with {num_labels} classes: {label_list}\")"
   ]
  },
  {
   "cell_type": "markdown",
   "metadata": {
    "id": "4TkGYrVTFR6Y"
   },
   "source": [
    "In order to preprocess the audio into our classification model, we need to set up the relevant Wav2Vec2 assets regarding our language in this case `lighteternal/wav2vec2-large-xlsr-53-greek` fine-tuned by [Dimitris Papadopoulos](https://huggingface.co/lighteternal/wav2vec2-large-xlsr-53-greek). To handle the context representations in any audio length we use a merge strategy plan (pooling mode) to concatenate that 3D representations into 2D representations.\n",
    "\n",
    "There are three merge strategies `mean`, `sum`, and `max`. In this example, we achieved better results on the mean approach. In the following, we need to initiate the config and the feature extractor from the Dimitris model."
   ]
  },
  {
   "cell_type": "code",
   "execution_count": 22,
   "metadata": {
    "id": "9Y1adr7vFrq7"
   },
   "outputs": [
    {
     "data": {
      "text/plain": "Downloading:   0%|          | 0.00/841 [00:00<?, ?B/s]",
      "application/vnd.jupyter.widget-view+json": {
       "version_major": 2,
       "version_minor": 0,
       "model_id": "9f4c3acfea3b4526b4f101b0e2607fdb"
      }
     },
     "metadata": {},
     "output_type": "display_data"
    },
    {
     "name": "stderr",
     "output_type": "stream",
     "text": [
      "loading configuration file config.json from cache at content/cache/models--facebook--wav2vec2-large-960h-lv60/snapshots/8e7d14742e8f98c6bbb24e5231406af321a8f9ce/config.json\n",
      "Model config Wav2Vec2Config {\n",
      "  \"_name_or_path\": \"facebook/wav2vec2-large-960h-lv60\",\n",
      "  \"activation_dropout\": 0.1,\n",
      "  \"adapter_kernel_size\": 3,\n",
      "  \"adapter_stride\": 2,\n",
      "  \"add_adapter\": false,\n",
      "  \"apply_spec_augment\": true,\n",
      "  \"architectures\": [\n",
      "    \"Wav2Vec2ForCTC\"\n",
      "  ],\n",
      "  \"attention_dropout\": 0.1,\n",
      "  \"bos_token_id\": 1,\n",
      "  \"classifier_proj_size\": 256,\n",
      "  \"codevector_dim\": 256,\n",
      "  \"contrastive_logits_temperature\": 0.1,\n",
      "  \"conv_bias\": true,\n",
      "  \"conv_dim\": [\n",
      "    512,\n",
      "    512,\n",
      "    512,\n",
      "    512,\n",
      "    512,\n",
      "    512,\n",
      "    512\n",
      "  ],\n",
      "  \"conv_kernel\": [\n",
      "    10,\n",
      "    3,\n",
      "    3,\n",
      "    3,\n",
      "    3,\n",
      "    2,\n",
      "    2\n",
      "  ],\n",
      "  \"conv_stride\": [\n",
      "    5,\n",
      "    2,\n",
      "    2,\n",
      "    2,\n",
      "    2,\n",
      "    2,\n",
      "    2\n",
      "  ],\n",
      "  \"ctc_loss_reduction\": \"sum\",\n",
      "  \"ctc_zero_infinity\": false,\n",
      "  \"diversity_loss_weight\": 0.1,\n",
      "  \"do_stable_layer_norm\": true,\n",
      "  \"eos_token_id\": 2,\n",
      "  \"feat_extract_activation\": \"gelu\",\n",
      "  \"feat_extract_dropout\": 0.0,\n",
      "  \"feat_extract_norm\": \"layer\",\n",
      "  \"feat_proj_dropout\": 0.0,\n",
      "  \"feat_quantizer_dropout\": 0.0,\n",
      "  \"final_dropout\": 0.1,\n",
      "  \"finetuning_task\": \"wav2vec2_clf\",\n",
      "  \"hidden_act\": \"gelu\",\n",
      "  \"hidden_dropout\": 0.1,\n",
      "  \"hidden_dropout_prob\": 0.1,\n",
      "  \"hidden_size\": 1024,\n",
      "  \"id2label\": {\n",
      "    \"0\": \"angry\",\n",
      "    \"1\": \"disgust\",\n",
      "    \"2\": \"fear\",\n",
      "    \"3\": \"happy\",\n",
      "    \"4\": \"ps\",\n",
      "    \"5\": \"sad\"\n",
      "  },\n",
      "  \"initializer_range\": 0.02,\n",
      "  \"intermediate_size\": 4096,\n",
      "  \"label2id\": {\n",
      "    \"angry\": 0,\n",
      "    \"disgust\": 1,\n",
      "    \"fear\": 2,\n",
      "    \"happy\": 3,\n",
      "    \"ps\": 4,\n",
      "    \"sad\": 5\n",
      "  },\n",
      "  \"layer_norm_eps\": 1e-05,\n",
      "  \"layerdrop\": 0.1,\n",
      "  \"mask_feature_length\": 10,\n",
      "  \"mask_feature_min_masks\": 0,\n",
      "  \"mask_feature_prob\": 0.0,\n",
      "  \"mask_time_length\": 10,\n",
      "  \"mask_time_min_masks\": 2,\n",
      "  \"mask_time_prob\": 0.05,\n",
      "  \"model_type\": \"wav2vec2\",\n",
      "  \"num_adapter_layers\": 3,\n",
      "  \"num_attention_heads\": 16,\n",
      "  \"num_codevector_groups\": 2,\n",
      "  \"num_codevectors_per_group\": 320,\n",
      "  \"num_conv_pos_embedding_groups\": 16,\n",
      "  \"num_conv_pos_embeddings\": 128,\n",
      "  \"num_feat_extract_layers\": 7,\n",
      "  \"num_hidden_layers\": 24,\n",
      "  \"num_negatives\": 100,\n",
      "  \"output_hidden_size\": 1024,\n",
      "  \"pad_token_id\": 0,\n",
      "  \"proj_codevector_dim\": 256,\n",
      "  \"tdnn_dilation\": [\n",
      "    1,\n",
      "    2,\n",
      "    3,\n",
      "    1,\n",
      "    1\n",
      "  ],\n",
      "  \"tdnn_dim\": [\n",
      "    512,\n",
      "    512,\n",
      "    512,\n",
      "    512,\n",
      "    1500\n",
      "  ],\n",
      "  \"tdnn_kernel\": [\n",
      "    5,\n",
      "    3,\n",
      "    3,\n",
      "    1,\n",
      "    1\n",
      "  ],\n",
      "  \"transformers_version\": \"4.25.1\",\n",
      "  \"use_weighted_layer_sum\": false,\n",
      "  \"vocab_size\": 32,\n",
      "  \"xvector_output_dim\": 512\n",
      "}\n",
      "\n"
     ]
    },
    {
     "data": {
      "text/plain": "Downloading:   0%|          | 0.00/158 [00:00<?, ?B/s]",
      "application/vnd.jupyter.widget-view+json": {
       "version_major": 2,
       "version_minor": 0,
       "model_id": "04e372da7d104181a1c8ca4a44b80398"
      }
     },
     "metadata": {},
     "output_type": "display_data"
    },
    {
     "name": "stderr",
     "output_type": "stream",
     "text": [
      "loading configuration file preprocessor_config.json from cache at content/cache/models--facebook--wav2vec2-large-960h-lv60/snapshots/8e7d14742e8f98c6bbb24e5231406af321a8f9ce/preprocessor_config.json\n",
      "Feature extractor Wav2Vec2FeatureExtractor {\n",
      "  \"do_normalize\": true,\n",
      "  \"feature_extractor_type\": \"Wav2Vec2FeatureExtractor\",\n",
      "  \"feature_size\": 1,\n",
      "  \"padding_side\": \"right\",\n",
      "  \"padding_value\": 0.0,\n",
      "  \"return_attention_mask\": true,\n",
      "  \"sampling_rate\": 16000\n",
      "}\n",
      "\n"
     ]
    },
    {
     "data": {
      "text/plain": "Downloading:   0%|          | 0.00/162 [00:00<?, ?B/s]",
      "application/vnd.jupyter.widget-view+json": {
       "version_major": 2,
       "version_minor": 0,
       "model_id": "d3963ef2e4214d92889e3528ca84cb71"
      }
     },
     "metadata": {},
     "output_type": "display_data"
    },
    {
     "name": "stderr",
     "output_type": "stream",
     "text": [
      "loading configuration file config.json from cache at content/cache/models--facebook--wav2vec2-large-960h-lv60/snapshots/8e7d14742e8f98c6bbb24e5231406af321a8f9ce/config.json\n",
      "Model config Wav2Vec2Config {\n",
      "  \"_name_or_path\": \"facebook/wav2vec2-large-960h-lv60\",\n",
      "  \"activation_dropout\": 0.1,\n",
      "  \"adapter_kernel_size\": 3,\n",
      "  \"adapter_stride\": 2,\n",
      "  \"add_adapter\": false,\n",
      "  \"apply_spec_augment\": true,\n",
      "  \"architectures\": [\n",
      "    \"Wav2Vec2ForCTC\"\n",
      "  ],\n",
      "  \"attention_dropout\": 0.1,\n",
      "  \"bos_token_id\": 1,\n",
      "  \"classifier_proj_size\": 256,\n",
      "  \"codevector_dim\": 256,\n",
      "  \"contrastive_logits_temperature\": 0.1,\n",
      "  \"conv_bias\": true,\n",
      "  \"conv_dim\": [\n",
      "    512,\n",
      "    512,\n",
      "    512,\n",
      "    512,\n",
      "    512,\n",
      "    512,\n",
      "    512\n",
      "  ],\n",
      "  \"conv_kernel\": [\n",
      "    10,\n",
      "    3,\n",
      "    3,\n",
      "    3,\n",
      "    3,\n",
      "    2,\n",
      "    2\n",
      "  ],\n",
      "  \"conv_stride\": [\n",
      "    5,\n",
      "    2,\n",
      "    2,\n",
      "    2,\n",
      "    2,\n",
      "    2,\n",
      "    2\n",
      "  ],\n",
      "  \"ctc_loss_reduction\": \"sum\",\n",
      "  \"ctc_zero_infinity\": false,\n",
      "  \"diversity_loss_weight\": 0.1,\n",
      "  \"do_stable_layer_norm\": true,\n",
      "  \"eos_token_id\": 2,\n",
      "  \"feat_extract_activation\": \"gelu\",\n",
      "  \"feat_extract_dropout\": 0.0,\n",
      "  \"feat_extract_norm\": \"layer\",\n",
      "  \"feat_proj_dropout\": 0.0,\n",
      "  \"feat_quantizer_dropout\": 0.0,\n",
      "  \"final_dropout\": 0.1,\n",
      "  \"hidden_act\": \"gelu\",\n",
      "  \"hidden_dropout\": 0.1,\n",
      "  \"hidden_dropout_prob\": 0.1,\n",
      "  \"hidden_size\": 1024,\n",
      "  \"initializer_range\": 0.02,\n",
      "  \"intermediate_size\": 4096,\n",
      "  \"layer_norm_eps\": 1e-05,\n",
      "  \"layerdrop\": 0.1,\n",
      "  \"mask_feature_length\": 10,\n",
      "  \"mask_feature_min_masks\": 0,\n",
      "  \"mask_feature_prob\": 0.0,\n",
      "  \"mask_time_length\": 10,\n",
      "  \"mask_time_min_masks\": 2,\n",
      "  \"mask_time_prob\": 0.05,\n",
      "  \"model_type\": \"wav2vec2\",\n",
      "  \"num_adapter_layers\": 3,\n",
      "  \"num_attention_heads\": 16,\n",
      "  \"num_codevector_groups\": 2,\n",
      "  \"num_codevectors_per_group\": 320,\n",
      "  \"num_conv_pos_embedding_groups\": 16,\n",
      "  \"num_conv_pos_embeddings\": 128,\n",
      "  \"num_feat_extract_layers\": 7,\n",
      "  \"num_hidden_layers\": 24,\n",
      "  \"num_negatives\": 100,\n",
      "  \"output_hidden_size\": 1024,\n",
      "  \"pad_token_id\": 0,\n",
      "  \"proj_codevector_dim\": 256,\n",
      "  \"tdnn_dilation\": [\n",
      "    1,\n",
      "    2,\n",
      "    3,\n",
      "    1,\n",
      "    1\n",
      "  ],\n",
      "  \"tdnn_dim\": [\n",
      "    512,\n",
      "    512,\n",
      "    512,\n",
      "    512,\n",
      "    1500\n",
      "  ],\n",
      "  \"tdnn_kernel\": [\n",
      "    5,\n",
      "    3,\n",
      "    3,\n",
      "    1,\n",
      "    1\n",
      "  ],\n",
      "  \"transformers_version\": \"4.25.1\",\n",
      "  \"use_weighted_layer_sum\": false,\n",
      "  \"vocab_size\": 32,\n",
      "  \"xvector_output_dim\": 512\n",
      "}\n",
      "\n"
     ]
    },
    {
     "data": {
      "text/plain": "Downloading:   0%|          | 0.00/291 [00:00<?, ?B/s]",
      "application/vnd.jupyter.widget-view+json": {
       "version_major": 2,
       "version_minor": 0,
       "model_id": "e8c2dd6193784038beda5068e17c7e68"
      }
     },
     "metadata": {},
     "output_type": "display_data"
    },
    {
     "data": {
      "text/plain": "Downloading:   0%|          | 0.00/85.0 [00:00<?, ?B/s]",
      "application/vnd.jupyter.widget-view+json": {
       "version_major": 2,
       "version_minor": 0,
       "model_id": "49efb76e134b4133a38848f4a10aee56"
      }
     },
     "metadata": {},
     "output_type": "display_data"
    },
    {
     "name": "stderr",
     "output_type": "stream",
     "text": [
      "loading file vocab.json from cache at content/cache/models--facebook--wav2vec2-large-960h-lv60/snapshots/8e7d14742e8f98c6bbb24e5231406af321a8f9ce/vocab.json\n",
      "loading file tokenizer_config.json from cache at content/cache/models--facebook--wav2vec2-large-960h-lv60/snapshots/8e7d14742e8f98c6bbb24e5231406af321a8f9ce/tokenizer_config.json\n",
      "loading file added_tokens.json from cache at None\n",
      "loading file special_tokens_map.json from cache at content/cache/models--facebook--wav2vec2-large-960h-lv60/snapshots/8e7d14742e8f98c6bbb24e5231406af321a8f9ce/special_tokens_map.json\n",
      "loading configuration file config.json from cache at content/cache/models--facebook--wav2vec2-large-960h-lv60/snapshots/8e7d14742e8f98c6bbb24e5231406af321a8f9ce/config.json\n",
      "Model config Wav2Vec2Config {\n",
      "  \"_name_or_path\": \"facebook/wav2vec2-large-960h-lv60\",\n",
      "  \"activation_dropout\": 0.1,\n",
      "  \"adapter_kernel_size\": 3,\n",
      "  \"adapter_stride\": 2,\n",
      "  \"add_adapter\": false,\n",
      "  \"apply_spec_augment\": true,\n",
      "  \"architectures\": [\n",
      "    \"Wav2Vec2ForCTC\"\n",
      "  ],\n",
      "  \"attention_dropout\": 0.1,\n",
      "  \"bos_token_id\": 1,\n",
      "  \"classifier_proj_size\": 256,\n",
      "  \"codevector_dim\": 256,\n",
      "  \"contrastive_logits_temperature\": 0.1,\n",
      "  \"conv_bias\": true,\n",
      "  \"conv_dim\": [\n",
      "    512,\n",
      "    512,\n",
      "    512,\n",
      "    512,\n",
      "    512,\n",
      "    512,\n",
      "    512\n",
      "  ],\n",
      "  \"conv_kernel\": [\n",
      "    10,\n",
      "    3,\n",
      "    3,\n",
      "    3,\n",
      "    3,\n",
      "    2,\n",
      "    2\n",
      "  ],\n",
      "  \"conv_stride\": [\n",
      "    5,\n",
      "    2,\n",
      "    2,\n",
      "    2,\n",
      "    2,\n",
      "    2,\n",
      "    2\n",
      "  ],\n",
      "  \"ctc_loss_reduction\": \"sum\",\n",
      "  \"ctc_zero_infinity\": false,\n",
      "  \"diversity_loss_weight\": 0.1,\n",
      "  \"do_stable_layer_norm\": true,\n",
      "  \"eos_token_id\": 2,\n",
      "  \"feat_extract_activation\": \"gelu\",\n",
      "  \"feat_extract_dropout\": 0.0,\n",
      "  \"feat_extract_norm\": \"layer\",\n",
      "  \"feat_proj_dropout\": 0.0,\n",
      "  \"feat_quantizer_dropout\": 0.0,\n",
      "  \"final_dropout\": 0.1,\n",
      "  \"hidden_act\": \"gelu\",\n",
      "  \"hidden_dropout\": 0.1,\n",
      "  \"hidden_dropout_prob\": 0.1,\n",
      "  \"hidden_size\": 1024,\n",
      "  \"initializer_range\": 0.02,\n",
      "  \"intermediate_size\": 4096,\n",
      "  \"layer_norm_eps\": 1e-05,\n",
      "  \"layerdrop\": 0.1,\n",
      "  \"mask_feature_length\": 10,\n",
      "  \"mask_feature_min_masks\": 0,\n",
      "  \"mask_feature_prob\": 0.0,\n",
      "  \"mask_time_length\": 10,\n",
      "  \"mask_time_min_masks\": 2,\n",
      "  \"mask_time_prob\": 0.05,\n",
      "  \"model_type\": \"wav2vec2\",\n",
      "  \"num_adapter_layers\": 3,\n",
      "  \"num_attention_heads\": 16,\n",
      "  \"num_codevector_groups\": 2,\n",
      "  \"num_codevectors_per_group\": 320,\n",
      "  \"num_conv_pos_embedding_groups\": 16,\n",
      "  \"num_conv_pos_embeddings\": 128,\n",
      "  \"num_feat_extract_layers\": 7,\n",
      "  \"num_hidden_layers\": 24,\n",
      "  \"num_negatives\": 100,\n",
      "  \"output_hidden_size\": 1024,\n",
      "  \"pad_token_id\": 0,\n",
      "  \"proj_codevector_dim\": 256,\n",
      "  \"tdnn_dilation\": [\n",
      "    1,\n",
      "    2,\n",
      "    3,\n",
      "    1,\n",
      "    1\n",
      "  ],\n",
      "  \"tdnn_dim\": [\n",
      "    512,\n",
      "    512,\n",
      "    512,\n",
      "    512,\n",
      "    1500\n",
      "  ],\n",
      "  \"tdnn_kernel\": [\n",
      "    5,\n",
      "    3,\n",
      "    3,\n",
      "    1,\n",
      "    1\n",
      "  ],\n",
      "  \"transformers_version\": \"4.25.1\",\n",
      "  \"use_weighted_layer_sum\": false,\n",
      "  \"vocab_size\": 32,\n",
      "  \"xvector_output_dim\": 512\n",
      "}\n",
      "\n"
     ]
    },
    {
     "name": "stdout",
     "output_type": "stream",
     "text": [
      "The target sampling rate: 16000\n"
     ]
    }
   ],
   "source": [
    "from transformers import AutoConfig, Wav2Vec2Processor\n",
    "\n",
    "#model_name_or_path = \"lighteternal/wav2vec2-large-xlsr-53-greek\"\n",
    "pooling_mode = \"mean\"\n",
    "\n",
    "\n",
    "#model_name_or_path = \"jonatasgrosman/wav2vec2-large-xlsr-53-german\"\n",
    "# config\n",
    "model_name_or_path = \"facebook/wav2vec2-large-960h-lv60\"\n",
    "config = AutoConfig.from_pretrained(\n",
    "    model_name_or_path,\n",
    "    num_labels=num_labels,\n",
    "    label2id={label: i for i, label in enumerate(label_list)},\n",
    "    id2label={i: label for i, label in enumerate(label_list)},\n",
    "    finetuning_task=\"wav2vec2_clf\",\n",
    ")\n",
    "setattr(config, 'pooling_mode', pooling_mode)\n",
    "\n",
    "processor = Wav2Vec2Processor.from_pretrained(model_name_or_path, )\n",
    "target_sampling_rate = processor.feature_extractor.sampling_rate\n",
    "print(f\"The target sampling rate: {target_sampling_rate}\")\n"
   ]
  },
  {
   "cell_type": "markdown",
   "metadata": {
    "id": "CbGuYgLqHXZg"
   },
   "source": [
    "# Preprocess Data"
   ]
  },
  {
   "cell_type": "markdown",
   "metadata": {
    "id": "qLk-eM1DFjtE"
   },
   "source": [
    "So far, we downloaded, loaded, and split the SER dataset into train and test sets. The instantiated our strategy configuration for using context representations in our classification problem SER. Now, we need to extract features from the audio path in context representation tensors and feed them into our classification model to determine the emotion in the speech.\n",
    "\n",
    "Since the audio file is saved in the `.wav` format, it is easy to use **[Librosa](https://librosa.org/doc/latest/index.html)** or others, but we suppose that the format may be in the `.mp3` format in case of generality. We found that the **[Torchaudio](https://pytorch.org/audio/stable/index.html)** library works best for reading in `.mp3` data.\n",
    "\n",
    "An audio file usually stores both its values and the sampling rate with which the speech signal was digitalized. We want to store both in the dataset and write a **map(...)** function accordingly. Also, we need to handle the string labels into integers for our specific classification task in this case, the **single-label classification** you may want to use for your **regression** or even **multi-label classification**."
   ]
  },
  {
   "cell_type": "code",
   "execution_count": 10,
   "metadata": {
    "id": "6UqlIV3uGxDA"
   },
   "outputs": [],
   "source": [
    "import utils.audio_dataset_utils as audioUtils\n",
    "\n",
    "def preprocess_function(examples):\n",
    "    speech_list = [audioUtils.speech_file_to_array_librosa(path, target_sampling_rate) for path in examples[input_column]]\n",
    "    target_list = [audioUtils.label_to_id(label, label_list) for label in examples[output_column]]\n",
    "\n",
    "    with torch.no_grad():\n",
    "        result = processor(speech_list, sampling_rate=target_sampling_rate)\n",
    "        result[\"labels\"] = list(target_list)\n",
    "\n",
    "    return result\n"
   ]
  },
  {
   "cell_type": "code",
   "execution_count": 11,
   "metadata": {
    "id": "ioP8FfR2GxHi"
   },
   "outputs": [
    {
     "name": "stdout",
     "output_type": "stream",
     "text": [
      "           "
     ]
    },
    {
     "data": {
      "text/plain": "#0:   0%|          | 0/12 [00:00<?, ?ba/s]",
      "application/vnd.jupyter.widget-view+json": {
       "version_major": 2,
       "version_minor": 0,
       "model_id": "b286b95e642849469158c1be2d09f418"
      }
     },
     "metadata": {},
     "output_type": "display_data"
    },
    {
     "name": "stdout",
     "output_type": "stream",
     "text": [
      " "
     ]
    },
    {
     "data": {
      "text/plain": "#1:   0%|          | 0/12 [00:00<?, ?ba/s]",
      "application/vnd.jupyter.widget-view+json": {
       "version_major": 2,
       "version_minor": 0,
       "model_id": "55531d8a9ed54a9d9f9f9f6f796b46d6"
      }
     },
     "metadata": {},
     "output_type": "display_data"
    },
    {
     "name": "stdout",
     "output_type": "stream",
     "text": [
      " "
     ]
    },
    {
     "data": {
      "text/plain": "#2:   0%|          | 0/12 [00:00<?, ?ba/s]",
      "application/vnd.jupyter.widget-view+json": {
       "version_major": 2,
       "version_minor": 0,
       "model_id": "588bd4a73d8c4521871d20e71058339b"
      }
     },
     "metadata": {},
     "output_type": "display_data"
    },
    {
     "name": "stdout",
     "output_type": "stream",
     "text": [
      " "
     ]
    },
    {
     "data": {
      "text/plain": "#3:   0%|          | 0/12 [00:00<?, ?ba/s]",
      "application/vnd.jupyter.widget-view+json": {
       "version_major": 2,
       "version_minor": 0,
       "model_id": "8b104b378ad446a1ac17171bcff1197a"
      }
     },
     "metadata": {},
     "output_type": "display_data"
    },
    {
     "data": {
      "text/plain": "#4:   0%|          | 0/12 [00:00<?, ?ba/s]",
      "application/vnd.jupyter.widget-view+json": {
       "version_major": 2,
       "version_minor": 0,
       "model_id": "871f66605d1149a2836a59a20c265c57"
      }
     },
     "metadata": {},
     "output_type": "display_data"
    },
    {
     "name": "stdout",
     "output_type": "stream",
     "text": [
      "  "
     ]
    },
    {
     "data": {
      "text/plain": "#5:   0%|          | 0/12 [00:00<?, ?ba/s]",
      "application/vnd.jupyter.widget-view+json": {
       "version_major": 2,
       "version_minor": 0,
       "model_id": "e1877a34561947fda431afee2ceba07d"
      }
     },
     "metadata": {},
     "output_type": "display_data"
    },
    {
     "data": {
      "text/plain": "#6:   0%|          | 0/12 [00:00<?, ?ba/s]",
      "application/vnd.jupyter.widget-view+json": {
       "version_major": 2,
       "version_minor": 0,
       "model_id": "f89c02bea7ea4cae9855fb2c043a8f53"
      }
     },
     "metadata": {},
     "output_type": "display_data"
    },
    {
     "data": {
      "text/plain": "#7:   0%|          | 0/12 [00:00<?, ?ba/s]",
      "application/vnd.jupyter.widget-view+json": {
       "version_major": 2,
       "version_minor": 0,
       "model_id": "84f1ed299bf947519878b49fd0229722"
      }
     },
     "metadata": {},
     "output_type": "display_data"
    },
    {
     "name": "stderr",
     "output_type": "stream",
     "text": [
      "/home/ckwdani/Programming/Projects/masterarbeit/Jupyter/mainProject/venv/lib/python3.10/site-packages/transformers/feature_extraction_utils.py:164: VisibleDeprecationWarning: Creating an ndarray from ragged nested sequences (which is a list-or-tuple of lists-or-tuples-or ndarrays with different lengths or shapes) is deprecated. If you meant to do this, you must specify 'dtype=object' when creating the ndarray.\n",
      "  tensor = as_tensor(value)\n",
      "/home/ckwdani/Programming/Projects/masterarbeit/Jupyter/mainProject/venv/lib/python3.10/site-packages/transformers/feature_extraction_utils.py:164: VisibleDeprecationWarning: Creating an ndarray from ragged nested sequences (which is a list-or-tuple of lists-or-tuples-or ndarrays with different lengths or shapes) is deprecated. If you meant to do this, you must specify 'dtype=object' when creating the ndarray.\n",
      "  tensor = as_tensor(value)\n",
      "/home/ckwdani/Programming/Projects/masterarbeit/Jupyter/mainProject/venv/lib/python3.10/site-packages/transformers/feature_extraction_utils.py:164: VisibleDeprecationWarning: Creating an ndarray from ragged nested sequences (which is a list-or-tuple of lists-or-tuples-or ndarrays with different lengths or shapes) is deprecated. If you meant to do this, you must specify 'dtype=object' when creating the ndarray.\n",
      "  tensor = as_tensor(value)\n",
      "/home/ckwdani/Programming/Projects/masterarbeit/Jupyter/mainProject/venv/lib/python3.10/site-packages/transformers/feature_extraction_utils.py:164: VisibleDeprecationWarning: Creating an ndarray from ragged nested sequences (which is a list-or-tuple of lists-or-tuples-or ndarrays with different lengths or shapes) is deprecated. If you meant to do this, you must specify 'dtype=object' when creating the ndarray.\n",
      "  tensor = as_tensor(value)\n",
      "/home/ckwdani/Programming/Projects/masterarbeit/Jupyter/mainProject/venv/lib/python3.10/site-packages/transformers/feature_extraction_utils.py:164: VisibleDeprecationWarning: Creating an ndarray from ragged nested sequences (which is a list-or-tuple of lists-or-tuples-or ndarrays with different lengths or shapes) is deprecated. If you meant to do this, you must specify 'dtype=object' when creating the ndarray.\n",
      "  tensor = as_tensor(value)\n",
      "/home/ckwdani/Programming/Projects/masterarbeit/Jupyter/mainProject/venv/lib/python3.10/site-packages/transformers/feature_extraction_utils.py:164: VisibleDeprecationWarning: Creating an ndarray from ragged nested sequences (which is a list-or-tuple of lists-or-tuples-or ndarrays with different lengths or shapes) is deprecated. If you meant to do this, you must specify 'dtype=object' when creating the ndarray.\n",
      "  tensor = as_tensor(value)\n",
      "/home/ckwdani/Programming/Projects/masterarbeit/Jupyter/mainProject/venv/lib/python3.10/site-packages/transformers/feature_extraction_utils.py:164: VisibleDeprecationWarning: Creating an ndarray from ragged nested sequences (which is a list-or-tuple of lists-or-tuples-or ndarrays with different lengths or shapes) is deprecated. If you meant to do this, you must specify 'dtype=object' when creating the ndarray.\n",
      "  tensor = as_tensor(value)\n",
      "/home/ckwdani/Programming/Projects/masterarbeit/Jupyter/mainProject/venv/lib/python3.10/site-packages/transformers/feature_extraction_utils.py:164: VisibleDeprecationWarning: Creating an ndarray from ragged nested sequences (which is a list-or-tuple of lists-or-tuples-or ndarrays with different lengths or shapes) is deprecated. If you meant to do this, you must specify 'dtype=object' when creating the ndarray.\n",
      "  tensor = as_tensor(value)\n"
     ]
    },
    {
     "name": "stdout",
     "output_type": "stream",
     "text": [
      "            "
     ]
    },
    {
     "data": {
      "text/plain": "#0:   0%|          | 0/3 [00:00<?, ?ba/s]",
      "application/vnd.jupyter.widget-view+json": {
       "version_major": 2,
       "version_minor": 0,
       "model_id": "3075d23a47d14d46b2d106ea06c2de2b"
      }
     },
     "metadata": {},
     "output_type": "display_data"
    },
    {
     "data": {
      "text/plain": "#1:   0%|          | 0/3 [00:00<?, ?ba/s]",
      "application/vnd.jupyter.widget-view+json": {
       "version_major": 2,
       "version_minor": 0,
       "model_id": "6b6df2fa28404eaaa9f803d01d53aaee"
      }
     },
     "metadata": {},
     "output_type": "display_data"
    },
    {
     "name": "stdout",
     "output_type": "stream",
     "text": [
      " "
     ]
    },
    {
     "data": {
      "text/plain": "#2:   0%|          | 0/3 [00:00<?, ?ba/s]",
      "application/vnd.jupyter.widget-view+json": {
       "version_major": 2,
       "version_minor": 0,
       "model_id": "4bedd1c3966042edaf0aa06d81b1a6e8"
      }
     },
     "metadata": {},
     "output_type": "display_data"
    },
    {
     "name": "stdout",
     "output_type": "stream",
     "text": [
      " "
     ]
    },
    {
     "data": {
      "text/plain": "#3:   0%|          | 0/3 [00:00<?, ?ba/s]",
      "application/vnd.jupyter.widget-view+json": {
       "version_major": 2,
       "version_minor": 0,
       "model_id": "b5a32615c8184f868781958997345e5b"
      }
     },
     "metadata": {},
     "output_type": "display_data"
    },
    {
     "name": "stdout",
     "output_type": "stream",
     "text": [
      " "
     ]
    },
    {
     "data": {
      "text/plain": "#4:   0%|          | 0/3 [00:00<?, ?ba/s]",
      "application/vnd.jupyter.widget-view+json": {
       "version_major": 2,
       "version_minor": 0,
       "model_id": "bef037fbabad486ab78e998ebf81297c"
      }
     },
     "metadata": {},
     "output_type": "display_data"
    },
    {
     "data": {
      "text/plain": "#5:   0%|          | 0/3 [00:00<?, ?ba/s]",
      "application/vnd.jupyter.widget-view+json": {
       "version_major": 2,
       "version_minor": 0,
       "model_id": "6051cbfbd207434283843749913c3ec8"
      }
     },
     "metadata": {},
     "output_type": "display_data"
    },
    {
     "name": "stdout",
     "output_type": "stream",
     "text": [
      " "
     ]
    },
    {
     "data": {
      "text/plain": "#6:   0%|          | 0/3 [00:00<?, ?ba/s]",
      "application/vnd.jupyter.widget-view+json": {
       "version_major": 2,
       "version_minor": 0,
       "model_id": "d20e5177a2bd483d97ea0ed78ab77bb8"
      }
     },
     "metadata": {},
     "output_type": "display_data"
    },
    {
     "data": {
      "text/plain": "#7:   0%|          | 0/3 [00:00<?, ?ba/s]",
      "application/vnd.jupyter.widget-view+json": {
       "version_major": 2,
       "version_minor": 0,
       "model_id": "2ce26abe11f646eeb0ef215e5a3f1eeb"
      }
     },
     "metadata": {},
     "output_type": "display_data"
    },
    {
     "name": "stderr",
     "output_type": "stream",
     "text": [
      "/home/ckwdani/Programming/Projects/masterarbeit/Jupyter/mainProject/venv/lib/python3.10/site-packages/transformers/feature_extraction_utils.py:164: VisibleDeprecationWarning: Creating an ndarray from ragged nested sequences (which is a list-or-tuple of lists-or-tuples-or ndarrays with different lengths or shapes) is deprecated. If you meant to do this, you must specify 'dtype=object' when creating the ndarray.\n",
      "  tensor = as_tensor(value)\n",
      "/home/ckwdani/Programming/Projects/masterarbeit/Jupyter/mainProject/venv/lib/python3.10/site-packages/transformers/feature_extraction_utils.py:164: VisibleDeprecationWarning: Creating an ndarray from ragged nested sequences (which is a list-or-tuple of lists-or-tuples-or ndarrays with different lengths or shapes) is deprecated. If you meant to do this, you must specify 'dtype=object' when creating the ndarray.\n",
      "  tensor = as_tensor(value)\n",
      "/home/ckwdani/Programming/Projects/masterarbeit/Jupyter/mainProject/venv/lib/python3.10/site-packages/transformers/feature_extraction_utils.py:164: VisibleDeprecationWarning: Creating an ndarray from ragged nested sequences (which is a list-or-tuple of lists-or-tuples-or ndarrays with different lengths or shapes) is deprecated. If you meant to do this, you must specify 'dtype=object' when creating the ndarray.\n",
      "  tensor = as_tensor(value)\n",
      "/home/ckwdani/Programming/Projects/masterarbeit/Jupyter/mainProject/venv/lib/python3.10/site-packages/transformers/feature_extraction_utils.py:164: VisibleDeprecationWarning: Creating an ndarray from ragged nested sequences (which is a list-or-tuple of lists-or-tuples-or ndarrays with different lengths or shapes) is deprecated. If you meant to do this, you must specify 'dtype=object' when creating the ndarray.\n",
      "  tensor = as_tensor(value)\n",
      "/home/ckwdani/Programming/Projects/masterarbeit/Jupyter/mainProject/venv/lib/python3.10/site-packages/transformers/feature_extraction_utils.py:164: VisibleDeprecationWarning: Creating an ndarray from ragged nested sequences (which is a list-or-tuple of lists-or-tuples-or ndarrays with different lengths or shapes) is deprecated. If you meant to do this, you must specify 'dtype=object' when creating the ndarray.\n",
      "  tensor = as_tensor(value)\n",
      "/home/ckwdani/Programming/Projects/masterarbeit/Jupyter/mainProject/venv/lib/python3.10/site-packages/transformers/feature_extraction_utils.py:164: VisibleDeprecationWarning: Creating an ndarray from ragged nested sequences (which is a list-or-tuple of lists-or-tuples-or ndarrays with different lengths or shapes) is deprecated. If you meant to do this, you must specify 'dtype=object' when creating the ndarray.\n",
      "  tensor = as_tensor(value)\n",
      "/home/ckwdani/Programming/Projects/masterarbeit/Jupyter/mainProject/venv/lib/python3.10/site-packages/transformers/feature_extraction_utils.py:164: VisibleDeprecationWarning: Creating an ndarray from ragged nested sequences (which is a list-or-tuple of lists-or-tuples-or ndarrays with different lengths or shapes) is deprecated. If you meant to do this, you must specify 'dtype=object' when creating the ndarray.\n",
      "  tensor = as_tensor(value)\n",
      "/home/ckwdani/Programming/Projects/masterarbeit/Jupyter/mainProject/venv/lib/python3.10/site-packages/transformers/feature_extraction_utils.py:164: VisibleDeprecationWarning: Creating an ndarray from ragged nested sequences (which is a list-or-tuple of lists-or-tuples-or ndarrays with different lengths or shapes) is deprecated. If you meant to do this, you must specify 'dtype=object' when creating the ndarray.\n",
      "  tensor = as_tensor(value)\n"
     ]
    }
   ],
   "source": [
    "train_dataset = train_dataset.map(\n",
    "    preprocess_function,\n",
    "    batch_size=20,\n",
    "    batched=True,\n",
    "    num_proc=8\n",
    ")\n",
    "eval_dataset = eval_dataset.map(\n",
    "    preprocess_function,\n",
    "    batch_size=20,\n",
    "    batched=True,\n",
    "    num_proc=8\n",
    ")\n",
    "\n",
    "\n",
    "# train_dataset.load_from_disk(dataset_path=\"content/datasets/trainSet\")\n",
    "# eval_dataset.load_from_disk(dataset_path=\"content/datasets/evalSet\")"
   ]
  },
  {
   "cell_type": "code",
   "execution_count": 13,
   "metadata": {},
   "outputs": [
    {
     "ename": "AttributeError",
     "evalue": "'list' object has no attribute 'shape'",
     "output_type": "error",
     "traceback": [
      "\u001B[0;31m---------------------------------------------------------------------------\u001B[0m",
      "\u001B[0;31mAttributeError\u001B[0m                            Traceback (most recent call last)",
      "Cell \u001B[0;32mIn[13], line 1\u001B[0m\n\u001B[0;32m----> 1\u001B[0m \u001B[43mtrain_dataset\u001B[49m\u001B[43m[\u001B[49m\u001B[38;5;124;43m\"\u001B[39;49m\u001B[38;5;124;43minput_values\u001B[39;49m\u001B[38;5;124;43m\"\u001B[39;49m\u001B[43m]\u001B[49m\u001B[43m[\u001B[49m\u001B[38;5;241;43m0\u001B[39;49m\u001B[43m]\u001B[49m\u001B[38;5;241;43m.\u001B[39;49m\u001B[43mshape\u001B[49m\n\u001B[1;32m      2\u001B[0m \u001B[38;5;66;03m# train_dataset.save_to_disk(dataset_path=\"content/datasets/trainSet\")\u001B[39;00m\n\u001B[1;32m      3\u001B[0m \u001B[38;5;66;03m# eval_dataset.save_to_disk(dataset_path=\"content/datasets/evalSet\")\u001B[39;00m\n\u001B[1;32m      4\u001B[0m \u001B[38;5;66;03m#testPersonal_dataset = testPersonal_dataset.map(preprocess_function, batch_size=1, batched=True)\u001B[39;00m\n",
      "\u001B[0;31mAttributeError\u001B[0m: 'list' object has no attribute 'shape'"
     ]
    }
   ],
   "source": [
    "\n",
    "# train_dataset.save_to_disk(dataset_path=\"content/datasets/trainSet\")\n",
    "# eval_dataset.save_to_disk(dataset_path=\"content/datasets/evalSet\")\n",
    "#testPersonal_dataset = testPersonal_dataset.map(preprocess_function, batch_size=1, batched=True)"
   ]
  },
  {
   "cell_type": "code",
   "execution_count": 12,
   "metadata": {},
   "outputs": [],
   "source": []
  },
  {
   "cell_type": "code",
   "execution_count": 13,
   "metadata": {
    "id": "eu1qcRucHk6d"
   },
   "outputs": [],
   "source": [
    "# idx = 0\n",
    "# print(f\"Training input_values: {train_dataset[idx]['input_values']}\")\n",
    "# print(f\"Training attention_mask: {train_dataset[idx]['attention_mask']}\")\n",
    "# print(f\"Training labels: {train_dataset[idx]['labels']} - {train_dataset[idx]['emotion']}\")"
   ]
  },
  {
   "cell_type": "markdown",
   "metadata": {
    "id": "HcrEgJO9Hmx7"
   },
   "source": [
    "Great, now we've successfully read all the audio files, resampled the audio files to 16kHz, and mapped each audio to the corresponding label."
   ]
  },
  {
   "cell_type": "markdown",
   "metadata": {
    "id": "QL7q6DfcH0Fs"
   },
   "source": [
    "## Model\n",
    "\n",
    "Before diving into the training part, we need to build our classification model based on the merge strategy."
   ]
  },
  {
   "cell_type": "code",
   "execution_count": 14,
   "metadata": {},
   "outputs": [],
   "source": [
    "import network_models.w2v_emotion_model.model as KNNModel"
   ]
  },
  {
   "cell_type": "markdown",
   "metadata": {
    "id": "OrBrR1b7zvUL"
   },
   "source": [
    "## Training\n",
    "\n",
    "The data is processed so that we are ready to start setting up the training pipeline. We will make use of 🤗's [Trainer](https://huggingface.co/transformers/master/main_classes/trainer.html?highlight=trainer) for which we essentially need to do the following:\n",
    "\n",
    "- Define a data collator. In contrast to most NLP models, XLSR-Wav2Vec2 has a much larger input length than output length. *E.g.*, a sample of input length 50000 has an output length of no more than 100. Given the large input sizes, it is much more efficient to pad the training batches dynamically meaning that all training samples should only be padded to the longest sample in their batch and not the overall longest sample. Therefore, fine-tuning XLSR-Wav2Vec2 requires a special padding data collator, which we will define below\n",
    "\n",
    "- Evaluation metric. During training, the model should be evaluated on the word error rate. We should define a `compute_metrics` function accordingly\n",
    "\n",
    "- Load a pretrained checkpoint. We need to load a pretrained checkpoint and configure it correctly for training.\n",
    "\n",
    "- Define the training configuration.\n",
    "\n",
    "After having fine-tuned the model, we will correctly evaluate it on the test data and verify that it has indeed learned to correctly transcribe speech."
   ]
  },
  {
   "cell_type": "markdown",
   "metadata": {
    "id": "Ji9-n1eUIKZc"
   },
   "source": [
    "### Set-up Trainer\n",
    "\n",
    "Let's start by defining the data collator. The code for the data collator was copied from [this example](https://github.com/huggingface/transformers/blob/9a06b6b11bdfc42eea08fa91d0c737d1863c99e3/examples/research_projects/wav2vec2/run_asr.py#L81).\n",
    "\n",
    "Without going into too many details, in contrast to the common data collators, this data collator treats the `input_values` and `labels` differently and thus applies to separate padding functions on them (again making use of XLSR-Wav2Vec2's context manager). This is necessary because in speech input and output are of different modalities meaning that they should not be treated by the same padding function.\n",
    "Analogous to the common data collators, the padding tokens in the labels with `-100` so that those tokens are **not** taken into account when computing the loss."
   ]
  },
  {
   "cell_type": "code",
   "execution_count": 15,
   "metadata": {
    "id": "rkM0VLIwy903"
   },
   "outputs": [],
   "source": [
    "import network_models.w2v_emotion_model.trainer as trainerUtils\n",
    "data_collator = trainerUtils.DataCollatorCTCWithPadding(processor=processor, padding=True)\n"
   ]
  },
  {
   "cell_type": "markdown",
   "metadata": {
    "id": "mYxy2IR-KcU2"
   },
   "source": [
    "Next, the evaluation metric is defined. There are many pre-defined metrics for classification/regression problems, but in this case, we would continue with just **Accuracy** for classification and **MSE** for regression. You can define other metrics on your own."
   ]
  },
  {
   "cell_type": "code",
   "execution_count": 16,
   "metadata": {
    "id": "LL8I5MKvPnth"
   },
   "outputs": [],
   "source": [
    "is_regression = False"
   ]
  },
  {
   "cell_type": "code",
   "execution_count": 17,
   "metadata": {
    "id": "XK26Z6IfR36K"
   },
   "outputs": [],
   "source": [
    "import numpy as np\n",
    "from transformers import EvalPrediction\n",
    "\n",
    "\n",
    "def compute_metrics(p: EvalPrediction):\n",
    "    preds = p.predictions[0] if isinstance(p.predictions, tuple) else p.predictions\n",
    "    preds = np.squeeze(preds) if is_regression else np.argmax(preds, axis=1)\n",
    "\n",
    "    if is_regression:\n",
    "        return {\"mse\": ((preds - p.label_ids) ** 2).mean().item()}\n",
    "    else:\n",
    "        return {\"accuracy\": (preds == p.label_ids).astype(np.float32).mean().item()}"
   ]
  },
  {
   "cell_type": "markdown",
   "metadata": {
    "id": "ZsH_nKJdK28o"
   },
   "source": [
    "Now, we can load the pretrained XLSR-Wav2Vec2 checkpoint into our classification model with a pooling strategy."
   ]
  },
  {
   "cell_type": "code",
   "execution_count": 18,
   "metadata": {
    "id": "0Tl6iKAUR4EL"
   },
   "outputs": [
    {
     "name": "stderr",
     "output_type": "stream",
     "text": [
      "Some weights of the model checkpoint at jonatasgrosman/wav2vec2-large-xlsr-53-german were not used when initializing Wav2Vec2ForSpeechClassification: ['lm_head.weight', 'lm_head.bias']\n",
      "- This IS expected if you are initializing Wav2Vec2ForSpeechClassification from the checkpoint of a model trained on another task or with another architecture (e.g. initializing a BertForSequenceClassification model from a BertForPreTraining model).\n",
      "- This IS NOT expected if you are initializing Wav2Vec2ForSpeechClassification from the checkpoint of a model that you expect to be exactly identical (initializing a BertForSequenceClassification model from a BertForSequenceClassification model).\n",
      "Some weights of Wav2Vec2ForSpeechClassification were not initialized from the model checkpoint at jonatasgrosman/wav2vec2-large-xlsr-53-german and are newly initialized: ['classifier.out_proj.bias', 'classifier.dense.weight', 'classifier.dense.bias', 'classifier.out_proj.weight']\n",
      "You should probably TRAIN this model on a down-stream task to be able to use it for predictions and inference.\n"
     ]
    }
   ],
   "source": [
    "model = KNNModel.Wav2Vec2ForSpeechClassification.from_pretrained(\n",
    "    model_name_or_path,\n",
    "    config=config,\n",
    ")"
   ]
  },
  {
   "cell_type": "markdown",
   "metadata": {
    "id": "bqF4rNMzI1M5"
   },
   "source": [
    "The first component of XLSR-Wav2Vec2 consists of a stack of CNN layers that are used to extract acoustically meaningful - but contextually independent - features from the raw speech signal. This part of the model has already been sufficiently trained during pretraining and as stated in the [paper](https://arxiv.org/pdf/2006.13979.pdf) does not need to be fine-tuned anymore. \n",
    "Thus, we can set the `requires_grad` to `False` for all parameters of the *feature extraction* part."
   ]
  },
  {
   "cell_type": "code",
   "execution_count": 19,
   "metadata": {
    "id": "KHMhxFGoR4Hb"
   },
   "outputs": [],
   "source": [
    "model.freeze_feature_extractor()"
   ]
  },
  {
   "cell_type": "markdown",
   "metadata": {
    "id": "n0HzBneBK84G"
   },
   "source": [
    "In a final step, we define all parameters related to training. \n",
    "To give more explanation on some of the parameters:\n",
    "- `learning_rate` and `weight_decay` were heuristically tuned until fine-tuning has become stable. Note that those parameters strongly depend on the Common Voice dataset and might be suboptimal for other speech datasets.\n",
    "\n",
    "For more explanations on other parameters, one can take a look at the [docs](https://huggingface.co/transformers/master/main_classes/trainer.html?highlight=trainer#trainingarguments).\n",
    "\n",
    "**Note**: If one wants to save the trained models in his/her google drive the commented-out `output_dir` can be used instead."
   ]
  },
  {
   "cell_type": "markdown",
   "metadata": {},
   "source": [
    "For future use we can create our training script, we do it in a simple way. You can add more on you own."
   ]
  },
  {
   "cell_type": "markdown",
   "metadata": {},
   "source": [
    "Now, all instances can be passed to Trainer and we are ready to start training!"
   ]
  },
  {
   "cell_type": "code",
   "execution_count": 20,
   "metadata": {
    "id": "3tPqZ12BLCJk"
   },
   "outputs": [],
   "source": [
    "# from google.colab import drive\n",
    "\n",
    "# drive.mount('/gdrive')"
   ]
  },
  {
   "cell_type": "code",
   "execution_count": 20,
   "metadata": {
    "id": "vUtWjldAI9-H"
   },
   "outputs": [
    {
     "name": "stderr",
     "output_type": "stream",
     "text": [
      "Using cuda_amp half precision backend\n"
     ]
    }
   ],
   "source": [
    "from transformers import TrainingArguments\n",
    "\n",
    "training_args = TrainingArguments(\n",
    "    output_dir=\"content/models11\",\n",
    "    # output_dir=\"/content/gdrive/MyDrive/wav2vec2-xlsr-greek-speech-emotion-recognition\"\n",
    "    per_device_train_batch_size=2,\n",
    "    per_device_eval_batch_size=2,\n",
    "    gradient_accumulation_steps=2,\n",
    "    evaluation_strategy=\"steps\",\n",
    "    num_train_epochs=5.0,\n",
    "    fp16=True,\n",
    "    save_steps=10,\n",
    "    eval_steps=10,\n",
    "    logging_steps=10,\n",
    "    learning_rate=1e-4,\n",
    "    save_total_limit=2,\n",
    ")\n",
    "trainer = trainerUtils.CTCTrainer(\n",
    "    model=model,\n",
    "    data_collator=data_collator,\n",
    "    args=training_args,\n",
    "    compute_metrics=compute_metrics,\n",
    "    train_dataset=train_dataset,\n",
    "    eval_dataset=eval_dataset,\n",
    "    tokenizer=processor.feature_extractor,\n",
    ")"
   ]
  },
  {
   "cell_type": "markdown",
   "metadata": {
    "id": "0gGLwJAOLtDg"
   },
   "source": [
    "### Training"
   ]
  },
  {
   "cell_type": "markdown",
   "metadata": {
    "id": "UpN6xlWCLxJ7"
   },
   "source": [
    "Training will take between 10 and 60 minutes depending on the GPU allocated to this notebook. \n",
    "\n",
    "In case you want to use this google colab to fine-tune your model, you should make sure that your training doesn't stop due to inactivity. A simple hack to prevent this is to paste the following code into the console of this tab (right mouse click -> inspect -> Console tab and insert code)."
   ]
  },
  {
   "cell_type": "markdown",
   "metadata": {
    "id": "zyYZH7YZL8a9"
   },
   "source": [
    "```javascript\n",
    "function ConnectButton(){\n",
    "    console.log(\"Connect pushed\"); \n",
    "    document.querySelector(\"#top-toolbar > colab-connect-button\").shadowRoot.querySelector(\"#connect\").click() \n",
    "}\n",
    "setInterval(ConnectButton,60000);\n",
    "```"
   ]
  },
  {
   "cell_type": "code",
   "execution_count": 21,
   "metadata": {
    "id": "6M8bNvLLJnG1"
   },
   "outputs": [
    {
     "name": "stderr",
     "output_type": "stream",
     "text": [
      "The following columns in the training set don't have a corresponding argument in `Wav2Vec2ForSpeechClassification.forward` and have been ignored: path, emotion. If path, emotion are not expected by `Wav2Vec2ForSpeechClassification.forward`,  you can safely ignore this message.\n",
      "/home/ckwdani/Programming/Projects/masterarbeit/Jupyter/mainProject/venv/lib/python3.10/site-packages/transformers/optimization.py:306: FutureWarning: This implementation of AdamW is deprecated and will be removed in a future version. Use the PyTorch implementation torch.optim.AdamW instead, or set `no_deprecation_warning=True` to disable this warning\n",
      "  warnings.warn(\n",
      "***** Running training *****\n",
      "  Num examples = 1920\n",
      "  Num Epochs = 5\n",
      "  Instantaneous batch size per device = 2\n",
      "  Total train batch size (w. parallel, distributed & accumulation) = 4\n",
      "  Gradient Accumulation steps = 2\n",
      "  Total optimization steps = 2400\n",
      "  Number of trainable parameters = 312284294\n"
     ]
    },
    {
     "name": "stdout",
     "output_type": "stream",
     "text": [
      "{'input_values': tensor([[ 0.0016, -0.0035, -0.0088,  ...,  0.0000,  0.0000,  0.0000],\n",
      "        [ 0.0043, -0.0998, -0.1620,  ..., -0.0379, -0.0252, -0.0063]],\n",
      "       device='cuda:0'), 'attention_mask': tensor([[1, 1, 1,  ..., 0, 0, 0],\n",
      "        [1, 1, 1,  ..., 1, 1, 1]], device='cuda:0', dtype=torch.int32), 'labels': tensor([0, 1], device='cuda:0')}\n",
      "{'input_values': tensor([[ 0.0027,  0.0013, -0.0056,  ...,  0.0000,  0.0000,  0.0000],\n",
      "        [-0.0028,  0.0003,  0.0013,  ...,  0.0063,  0.0017,  0.0006]],\n",
      "       device='cuda:0'), 'attention_mask': tensor([[1, 1, 1,  ..., 0, 0, 0],\n",
      "        [1, 1, 1,  ..., 1, 1, 1]], device='cuda:0', dtype=torch.int32), 'labels': tensor([0, 1], device='cuda:0')}\n"
     ]
    },
    {
     "ename": "OutOfMemoryError",
     "evalue": "CUDA out of memory. Tried to allocate 16.00 MiB (GPU 0; 9.77 GiB total capacity; 4.62 GiB already allocated; 29.19 MiB free; 4.76 GiB reserved in total by PyTorch) If reserved memory is >> allocated memory try setting max_split_size_mb to avoid fragmentation.  See documentation for Memory Management and PYTORCH_CUDA_ALLOC_CONF",
     "output_type": "error",
     "traceback": [
      "\u001B[0;31m---------------------------------------------------------------------------\u001B[0m",
      "\u001B[0;31mOutOfMemoryError\u001B[0m                          Traceback (most recent call last)",
      "Cell \u001B[0;32mIn[21], line 8\u001B[0m\n\u001B[1;32m      6\u001B[0m torch\u001B[38;5;241m.\u001B[39mcuda\u001B[38;5;241m.\u001B[39mempty_cache()\n\u001B[1;32m      7\u001B[0m \u001B[38;5;66;03m#torch.cuda.clear_memory_allocated()\u001B[39;00m\n\u001B[0;32m----> 8\u001B[0m \u001B[43mtrainer\u001B[49m\u001B[38;5;241;43m.\u001B[39;49m\u001B[43mtrain\u001B[49m\u001B[43m(\u001B[49m\u001B[43m)\u001B[49m\n",
      "File \u001B[0;32m~/Programming/Projects/masterarbeit/Jupyter/mainProject/venv/lib/python3.10/site-packages/transformers/trainer.py:1527\u001B[0m, in \u001B[0;36mTrainer.train\u001B[0;34m(self, resume_from_checkpoint, trial, ignore_keys_for_eval, **kwargs)\u001B[0m\n\u001B[1;32m   1522\u001B[0m     \u001B[38;5;28mself\u001B[39m\u001B[38;5;241m.\u001B[39mmodel_wrapped \u001B[38;5;241m=\u001B[39m \u001B[38;5;28mself\u001B[39m\u001B[38;5;241m.\u001B[39mmodel\n\u001B[1;32m   1524\u001B[0m inner_training_loop \u001B[38;5;241m=\u001B[39m find_executable_batch_size(\n\u001B[1;32m   1525\u001B[0m     \u001B[38;5;28mself\u001B[39m\u001B[38;5;241m.\u001B[39m_inner_training_loop, \u001B[38;5;28mself\u001B[39m\u001B[38;5;241m.\u001B[39m_train_batch_size, args\u001B[38;5;241m.\u001B[39mauto_find_batch_size\n\u001B[1;32m   1526\u001B[0m )\n\u001B[0;32m-> 1527\u001B[0m \u001B[38;5;28;01mreturn\u001B[39;00m \u001B[43minner_training_loop\u001B[49m\u001B[43m(\u001B[49m\n\u001B[1;32m   1528\u001B[0m \u001B[43m    \u001B[49m\u001B[43margs\u001B[49m\u001B[38;5;241;43m=\u001B[39;49m\u001B[43margs\u001B[49m\u001B[43m,\u001B[49m\n\u001B[1;32m   1529\u001B[0m \u001B[43m    \u001B[49m\u001B[43mresume_from_checkpoint\u001B[49m\u001B[38;5;241;43m=\u001B[39;49m\u001B[43mresume_from_checkpoint\u001B[49m\u001B[43m,\u001B[49m\n\u001B[1;32m   1530\u001B[0m \u001B[43m    \u001B[49m\u001B[43mtrial\u001B[49m\u001B[38;5;241;43m=\u001B[39;49m\u001B[43mtrial\u001B[49m\u001B[43m,\u001B[49m\n\u001B[1;32m   1531\u001B[0m \u001B[43m    \u001B[49m\u001B[43mignore_keys_for_eval\u001B[49m\u001B[38;5;241;43m=\u001B[39;49m\u001B[43mignore_keys_for_eval\u001B[49m\u001B[43m,\u001B[49m\n\u001B[1;32m   1532\u001B[0m \u001B[43m\u001B[49m\u001B[43m)\u001B[49m\n",
      "File \u001B[0;32m~/Programming/Projects/masterarbeit/Jupyter/mainProject/venv/lib/python3.10/site-packages/transformers/trainer.py:1837\u001B[0m, in \u001B[0;36mTrainer._inner_training_loop\u001B[0;34m(self, batch_size, args, resume_from_checkpoint, trial, ignore_keys_for_eval)\u001B[0m\n\u001B[1;32m   1835\u001B[0m \u001B[38;5;28;01melif\u001B[39;00m \u001B[38;5;28mself\u001B[39m\u001B[38;5;241m.\u001B[39mdo_grad_scaling:\n\u001B[1;32m   1836\u001B[0m     scale_before \u001B[38;5;241m=\u001B[39m \u001B[38;5;28mself\u001B[39m\u001B[38;5;241m.\u001B[39mscaler\u001B[38;5;241m.\u001B[39mget_scale()\n\u001B[0;32m-> 1837\u001B[0m     \u001B[38;5;28;43mself\u001B[39;49m\u001B[38;5;241;43m.\u001B[39;49m\u001B[43mscaler\u001B[49m\u001B[38;5;241;43m.\u001B[39;49m\u001B[43mstep\u001B[49m\u001B[43m(\u001B[49m\u001B[38;5;28;43mself\u001B[39;49m\u001B[38;5;241;43m.\u001B[39;49m\u001B[43moptimizer\u001B[49m\u001B[43m)\u001B[49m\n\u001B[1;32m   1838\u001B[0m     \u001B[38;5;28mself\u001B[39m\u001B[38;5;241m.\u001B[39mscaler\u001B[38;5;241m.\u001B[39mupdate()\n\u001B[1;32m   1839\u001B[0m     scale_after \u001B[38;5;241m=\u001B[39m \u001B[38;5;28mself\u001B[39m\u001B[38;5;241m.\u001B[39mscaler\u001B[38;5;241m.\u001B[39mget_scale()\n",
      "File \u001B[0;32m~/Programming/Projects/masterarbeit/Jupyter/mainProject/venv/lib/python3.10/site-packages/torch/cuda/amp/grad_scaler.py:341\u001B[0m, in \u001B[0;36mGradScaler.step\u001B[0;34m(self, optimizer, *args, **kwargs)\u001B[0m\n\u001B[1;32m    337\u001B[0m     \u001B[38;5;28mself\u001B[39m\u001B[38;5;241m.\u001B[39munscale_(optimizer)\n\u001B[1;32m    339\u001B[0m \u001B[38;5;28;01massert\u001B[39;00m \u001B[38;5;28mlen\u001B[39m(optimizer_state[\u001B[38;5;124m\"\u001B[39m\u001B[38;5;124mfound_inf_per_device\u001B[39m\u001B[38;5;124m\"\u001B[39m]) \u001B[38;5;241m>\u001B[39m \u001B[38;5;241m0\u001B[39m, \u001B[38;5;124m\"\u001B[39m\u001B[38;5;124mNo inf checks were recorded for this optimizer.\u001B[39m\u001B[38;5;124m\"\u001B[39m\n\u001B[0;32m--> 341\u001B[0m retval \u001B[38;5;241m=\u001B[39m \u001B[38;5;28;43mself\u001B[39;49m\u001B[38;5;241;43m.\u001B[39;49m\u001B[43m_maybe_opt_step\u001B[49m\u001B[43m(\u001B[49m\u001B[43moptimizer\u001B[49m\u001B[43m,\u001B[49m\u001B[43m \u001B[49m\u001B[43moptimizer_state\u001B[49m\u001B[43m,\u001B[49m\u001B[43m \u001B[49m\u001B[38;5;241;43m*\u001B[39;49m\u001B[43margs\u001B[49m\u001B[43m,\u001B[49m\u001B[43m \u001B[49m\u001B[38;5;241;43m*\u001B[39;49m\u001B[38;5;241;43m*\u001B[39;49m\u001B[43mkwargs\u001B[49m\u001B[43m)\u001B[49m\n\u001B[1;32m    343\u001B[0m optimizer_state[\u001B[38;5;124m\"\u001B[39m\u001B[38;5;124mstage\u001B[39m\u001B[38;5;124m\"\u001B[39m] \u001B[38;5;241m=\u001B[39m OptState\u001B[38;5;241m.\u001B[39mSTEPPED\n\u001B[1;32m    345\u001B[0m \u001B[38;5;28;01mreturn\u001B[39;00m retval\n",
      "File \u001B[0;32m~/Programming/Projects/masterarbeit/Jupyter/mainProject/venv/lib/python3.10/site-packages/torch/cuda/amp/grad_scaler.py:288\u001B[0m, in \u001B[0;36mGradScaler._maybe_opt_step\u001B[0;34m(self, optimizer, optimizer_state, *args, **kwargs)\u001B[0m\n\u001B[1;32m    286\u001B[0m retval \u001B[38;5;241m=\u001B[39m \u001B[38;5;28;01mNone\u001B[39;00m\n\u001B[1;32m    287\u001B[0m \u001B[38;5;28;01mif\u001B[39;00m \u001B[38;5;129;01mnot\u001B[39;00m \u001B[38;5;28msum\u001B[39m(v\u001B[38;5;241m.\u001B[39mitem() \u001B[38;5;28;01mfor\u001B[39;00m v \u001B[38;5;129;01min\u001B[39;00m optimizer_state[\u001B[38;5;124m\"\u001B[39m\u001B[38;5;124mfound_inf_per_device\u001B[39m\u001B[38;5;124m\"\u001B[39m]\u001B[38;5;241m.\u001B[39mvalues()):\n\u001B[0;32m--> 288\u001B[0m     retval \u001B[38;5;241m=\u001B[39m \u001B[43moptimizer\u001B[49m\u001B[38;5;241;43m.\u001B[39;49m\u001B[43mstep\u001B[49m\u001B[43m(\u001B[49m\u001B[38;5;241;43m*\u001B[39;49m\u001B[43margs\u001B[49m\u001B[43m,\u001B[49m\u001B[43m \u001B[49m\u001B[38;5;241;43m*\u001B[39;49m\u001B[38;5;241;43m*\u001B[39;49m\u001B[43mkwargs\u001B[49m\u001B[43m)\u001B[49m\n\u001B[1;32m    289\u001B[0m \u001B[38;5;28;01mreturn\u001B[39;00m retval\n",
      "File \u001B[0;32m~/Programming/Projects/masterarbeit/Jupyter/mainProject/venv/lib/python3.10/site-packages/torch/optim/lr_scheduler.py:68\u001B[0m, in \u001B[0;36m_LRScheduler.__init__.<locals>.with_counter.<locals>.wrapper\u001B[0;34m(*args, **kwargs)\u001B[0m\n\u001B[1;32m     66\u001B[0m instance\u001B[38;5;241m.\u001B[39m_step_count \u001B[38;5;241m+\u001B[39m\u001B[38;5;241m=\u001B[39m \u001B[38;5;241m1\u001B[39m\n\u001B[1;32m     67\u001B[0m wrapped \u001B[38;5;241m=\u001B[39m func\u001B[38;5;241m.\u001B[39m\u001B[38;5;21m__get__\u001B[39m(instance, \u001B[38;5;28mcls\u001B[39m)\n\u001B[0;32m---> 68\u001B[0m \u001B[38;5;28;01mreturn\u001B[39;00m \u001B[43mwrapped\u001B[49m\u001B[43m(\u001B[49m\u001B[38;5;241;43m*\u001B[39;49m\u001B[43margs\u001B[49m\u001B[43m,\u001B[49m\u001B[43m \u001B[49m\u001B[38;5;241;43m*\u001B[39;49m\u001B[38;5;241;43m*\u001B[39;49m\u001B[43mkwargs\u001B[49m\u001B[43m)\u001B[49m\n",
      "File \u001B[0;32m~/Programming/Projects/masterarbeit/Jupyter/mainProject/venv/lib/python3.10/site-packages/torch/optim/optimizer.py:140\u001B[0m, in \u001B[0;36mOptimizer._hook_for_profile.<locals>.profile_hook_step.<locals>.wrapper\u001B[0;34m(*args, **kwargs)\u001B[0m\n\u001B[1;32m    138\u001B[0m profile_name \u001B[38;5;241m=\u001B[39m \u001B[38;5;124m\"\u001B[39m\u001B[38;5;124mOptimizer.step#\u001B[39m\u001B[38;5;132;01m{}\u001B[39;00m\u001B[38;5;124m.step\u001B[39m\u001B[38;5;124m\"\u001B[39m\u001B[38;5;241m.\u001B[39mformat(obj\u001B[38;5;241m.\u001B[39m\u001B[38;5;18m__class__\u001B[39m\u001B[38;5;241m.\u001B[39m\u001B[38;5;18m__name__\u001B[39m)\n\u001B[1;32m    139\u001B[0m \u001B[38;5;28;01mwith\u001B[39;00m torch\u001B[38;5;241m.\u001B[39mautograd\u001B[38;5;241m.\u001B[39mprofiler\u001B[38;5;241m.\u001B[39mrecord_function(profile_name):\n\u001B[0;32m--> 140\u001B[0m     out \u001B[38;5;241m=\u001B[39m \u001B[43mfunc\u001B[49m\u001B[43m(\u001B[49m\u001B[38;5;241;43m*\u001B[39;49m\u001B[43margs\u001B[49m\u001B[43m,\u001B[49m\u001B[43m \u001B[49m\u001B[38;5;241;43m*\u001B[39;49m\u001B[38;5;241;43m*\u001B[39;49m\u001B[43mkwargs\u001B[49m\u001B[43m)\u001B[49m\n\u001B[1;32m    141\u001B[0m     obj\u001B[38;5;241m.\u001B[39m_optimizer_step_code()\n\u001B[1;32m    142\u001B[0m     \u001B[38;5;28;01mreturn\u001B[39;00m out\n",
      "File \u001B[0;32m~/Programming/Projects/masterarbeit/Jupyter/mainProject/venv/lib/python3.10/site-packages/transformers/optimization.py:362\u001B[0m, in \u001B[0;36mAdamW.step\u001B[0;34m(self, closure)\u001B[0m\n\u001B[1;32m    360\u001B[0m exp_avg\u001B[38;5;241m.\u001B[39mmul_(beta1)\u001B[38;5;241m.\u001B[39madd_(grad, alpha\u001B[38;5;241m=\u001B[39m(\u001B[38;5;241m1.0\u001B[39m \u001B[38;5;241m-\u001B[39m beta1))\n\u001B[1;32m    361\u001B[0m exp_avg_sq\u001B[38;5;241m.\u001B[39mmul_(beta2)\u001B[38;5;241m.\u001B[39maddcmul_(grad, grad, value\u001B[38;5;241m=\u001B[39m\u001B[38;5;241m1.0\u001B[39m \u001B[38;5;241m-\u001B[39m beta2)\n\u001B[0;32m--> 362\u001B[0m denom \u001B[38;5;241m=\u001B[39m \u001B[43mexp_avg_sq\u001B[49m\u001B[38;5;241;43m.\u001B[39;49m\u001B[43msqrt\u001B[49m\u001B[43m(\u001B[49m\u001B[43m)\u001B[49m\u001B[38;5;241m.\u001B[39madd_(group[\u001B[38;5;124m\"\u001B[39m\u001B[38;5;124meps\u001B[39m\u001B[38;5;124m\"\u001B[39m])\n\u001B[1;32m    364\u001B[0m step_size \u001B[38;5;241m=\u001B[39m group[\u001B[38;5;124m\"\u001B[39m\u001B[38;5;124mlr\u001B[39m\u001B[38;5;124m\"\u001B[39m]\n\u001B[1;32m    365\u001B[0m \u001B[38;5;28;01mif\u001B[39;00m group[\u001B[38;5;124m\"\u001B[39m\u001B[38;5;124mcorrect_bias\u001B[39m\u001B[38;5;124m\"\u001B[39m]:  \u001B[38;5;66;03m# No bias correction for Bert\u001B[39;00m\n",
      "\u001B[0;31mOutOfMemoryError\u001B[0m: CUDA out of memory. Tried to allocate 16.00 MiB (GPU 0; 9.77 GiB total capacity; 4.62 GiB already allocated; 29.19 MiB free; 4.76 GiB reserved in total by PyTorch) If reserved memory is >> allocated memory try setting max_split_size_mb to avoid fragmentation.  See documentation for Memory Management and PYTORCH_CUDA_ALLOC_CONF"
     ]
    }
   ],
   "source": [
    "import gc\n",
    "import importlib\n",
    "\n",
    "#trainer._load_from_checkpoint(\"content/models/checkpoint-610/\")\n",
    "gc.collect()\n",
    "torch.cuda.empty_cache()\n",
    "#torch.cuda.clear_memory_allocated()\n",
    "trainer.train()"
   ]
  },
  {
   "cell_type": "code",
   "execution_count": 24,
   "metadata": {},
   "outputs": [],
   "source": [
    "import torch\n",
    "#torch.cuda.memory_allocated()\n",
    "torch.cuda.empty_cache()"
   ]
  },
  {
   "cell_type": "code",
   "execution_count": 25,
   "metadata": {},
   "outputs": [],
   "source": [
    "#trainer.save_model(output_dir='content/modelTess')"
   ]
  },
  {
   "cell_type": "markdown",
   "metadata": {
    "id": "3prIN9eiMBHo"
   },
   "source": [
    "The training loss goes down and we can see that the Acurracy on the test set also improves nicely. Because this notebook is just for demonstration purposes, we can stop here.\n",
    "\n",
    "The resulting model of this notebook has been saved to [m3hrdadfi/wav2vec2-xlsr-greek-speech-emotion-recognition](https://huggingface.co/m3hrdadfi/wav2vec2-xlsr-greek-speech-emotion-recognition)\n",
    "\n",
    "As a final check, let's load the model and verify that it indeed has learned to recognize the emotion in the speech.\n",
    "\n",
    "Let's first load the pretrained checkpoint."
   ]
  },
  {
   "cell_type": "markdown",
   "metadata": {
    "id": "VsaOTx_FVm0i"
   },
   "source": [
    "## Evaluation"
   ]
  },
  {
   "cell_type": "code",
   "execution_count": 26,
   "metadata": {
    "id": "4tGNY7hRXO44"
   },
   "outputs": [],
   "source": [
    "import librosa\n",
    "from sklearn.metrics import classification_report"
   ]
  },
  {
   "cell_type": "code",
   "execution_count": 27,
   "metadata": {
    "id": "IYxg1Tfo2VUw"
   },
   "outputs": [
    {
     "name": "stderr",
     "output_type": "stream",
     "text": [
      "Using custom data configuration default-4d1e035d4c86b915\n"
     ]
    },
    {
     "name": "stdout",
     "output_type": "stream",
     "text": [
      "Downloading and preparing dataset csv/default to /home/ckwdani/Programming/Projects/masterarbeit/Jupyter/mainProject/notebooks/content/cache/csv/default-4d1e035d4c86b915/0.0.0/6b34fb8fcf56f7c8ba51dc895bfa2bfbe43546f190a60fcf74bb5e8afdcc2317...\n"
     ]
    },
    {
     "data": {
      "text/plain": "Downloading data files:   0%|          | 0/1 [00:00<?, ?it/s]",
      "application/vnd.jupyter.widget-view+json": {
       "version_major": 2,
       "version_minor": 0,
       "model_id": "e76cb6ec1894483cb8a4a315c27ed11b"
      }
     },
     "metadata": {},
     "output_type": "display_data"
    },
    {
     "data": {
      "text/plain": "Extracting data files:   0%|          | 0/1 [00:00<?, ?it/s]",
      "application/vnd.jupyter.widget-view+json": {
       "version_major": 2,
       "version_minor": 0,
       "model_id": "cce060cca4b14bd6aca2265cd9561eb8"
      }
     },
     "metadata": {},
     "output_type": "display_data"
    },
    {
     "data": {
      "text/plain": "Generating validation split: 0 examples [00:00, ? examples/s]",
      "application/vnd.jupyter.widget-view+json": {
       "version_major": 2,
       "version_minor": 0,
       "model_id": "48029a375e714166aad2953b5e91d34a"
      }
     },
     "metadata": {},
     "output_type": "display_data"
    },
    {
     "name": "stdout",
     "output_type": "stream",
     "text": [
      "Dataset csv downloaded and prepared to /home/ckwdani/Programming/Projects/masterarbeit/Jupyter/mainProject/notebooks/content/cache/csv/default-4d1e035d4c86b915/0.0.0/6b34fb8fcf56f7c8ba51dc895bfa2bfbe43546f190a60fcf74bb5e8afdcc2317. Subsequent calls will reuse this data.\n"
     ]
    },
    {
     "name": "stderr",
     "output_type": "stream",
     "text": [
      "/home/ckwdani/Programming/Projects/masterarbeit/Jupyter/mainProject/venv/lib/python3.10/site-packages/datasets/download/streaming_download_manager.py:714: FutureWarning: the 'mangle_dupe_cols' keyword is deprecated and will be removed in a future version. Please take steps to stop the use of 'mangle_dupe_cols'\n",
      "  return pd.read_csv(xopen(filepath_or_buffer, \"rb\", use_auth_token=use_auth_token), **kwargs)\n"
     ]
    },
    {
     "data": {
      "text/plain": "  0%|          | 0/1 [00:00<?, ?it/s]",
      "application/vnd.jupyter.widget-view+json": {
       "version_major": 2,
       "version_minor": 0,
       "model_id": "a35d567a659e4402a2b4498ffcddeeff"
      }
     },
     "metadata": {},
     "output_type": "display_data"
    },
    {
     "data": {
      "text/plain": "Dataset({\n    features: ['path', 'emotion'],\n    num_rows: 480\n})"
     },
     "execution_count": 27,
     "metadata": {},
     "output_type": "execute_result"
    }
   ],
   "source": [
    "test_dataset = load_dataset(\"csv\", data_files={\"validation\": \"content/data/test.csv\"}, delimiter=\"\\t\")[\"validation\"]\n",
    "test_dataset"
   ]
  },
  {
   "cell_type": "code",
   "execution_count": 28,
   "metadata": {
    "id": "QgZFkMDHW_Um"
   },
   "outputs": [
    {
     "name": "stdout",
     "output_type": "stream",
     "text": [
      "Device: cuda\n"
     ]
    }
   ],
   "source": [
    "device = torch.device(\"cuda\" if torch.cuda.is_available() else \"cpu\")\n",
    "print(f\"Device: {device}\")"
   ]
  },
  {
   "cell_type": "code",
   "execution_count": 29,
   "metadata": {
    "id": "-ESFEXeaWgua"
   },
   "outputs": [
    {
     "name": "stderr",
     "output_type": "stream",
     "text": [
      "loading configuration file content/model/config.json\n",
      "Model config Wav2Vec2Config {\n",
      "  \"_name_or_path\": \"jonatasgrosman/wav2vec2-large-xlsr-53-german\",\n",
      "  \"activation_dropout\": 0.05,\n",
      "  \"adapter_kernel_size\": 3,\n",
      "  \"adapter_stride\": 2,\n",
      "  \"add_adapter\": false,\n",
      "  \"apply_spec_augment\": true,\n",
      "  \"architectures\": [\n",
      "    \"Wav2Vec2ForSpeechClassification\"\n",
      "  ],\n",
      "  \"attention_dropout\": 0.1,\n",
      "  \"bos_token_id\": 1,\n",
      "  \"classifier_proj_size\": 256,\n",
      "  \"codevector_dim\": 768,\n",
      "  \"contrastive_logits_temperature\": 0.1,\n",
      "  \"conv_bias\": true,\n",
      "  \"conv_dim\": [\n",
      "    512,\n",
      "    512,\n",
      "    512,\n",
      "    512,\n",
      "    512,\n",
      "    512,\n",
      "    512\n",
      "  ],\n",
      "  \"conv_kernel\": [\n",
      "    10,\n",
      "    3,\n",
      "    3,\n",
      "    3,\n",
      "    3,\n",
      "    2,\n",
      "    2\n",
      "  ],\n",
      "  \"conv_stride\": [\n",
      "    5,\n",
      "    2,\n",
      "    2,\n",
      "    2,\n",
      "    2,\n",
      "    2,\n",
      "    2\n",
      "  ],\n",
      "  \"ctc_loss_reduction\": \"mean\",\n",
      "  \"ctc_zero_infinity\": true,\n",
      "  \"diversity_loss_weight\": 0.1,\n",
      "  \"do_stable_layer_norm\": true,\n",
      "  \"eos_token_id\": 2,\n",
      "  \"feat_extract_activation\": \"gelu\",\n",
      "  \"feat_extract_dropout\": 0.0,\n",
      "  \"feat_extract_norm\": \"layer\",\n",
      "  \"feat_proj_dropout\": 0.05,\n",
      "  \"feat_quantizer_dropout\": 0.0,\n",
      "  \"final_dropout\": 0.0,\n",
      "  \"finetuning_task\": \"wav2vec2_clf\",\n",
      "  \"hidden_act\": \"gelu\",\n",
      "  \"hidden_dropout\": 0.05,\n",
      "  \"hidden_size\": 1024,\n",
      "  \"id2label\": {\n",
      "    \"0\": \"angry\",\n",
      "    \"1\": \"disgust\",\n",
      "    \"2\": \"fear\",\n",
      "    \"3\": \"happy\",\n",
      "    \"4\": \"ps\",\n",
      "    \"5\": \"sad\"\n",
      "  },\n",
      "  \"initializer_range\": 0.02,\n",
      "  \"intermediate_size\": 4096,\n",
      "  \"label2id\": {\n",
      "    \"angry\": 0,\n",
      "    \"disgust\": 1,\n",
      "    \"fear\": 2,\n",
      "    \"happy\": 3,\n",
      "    \"ps\": 4,\n",
      "    \"sad\": 5\n",
      "  },\n",
      "  \"layer_norm_eps\": 1e-05,\n",
      "  \"layerdrop\": 0.05,\n",
      "  \"mask_channel_length\": 10,\n",
      "  \"mask_channel_min_space\": 1,\n",
      "  \"mask_channel_other\": 0.0,\n",
      "  \"mask_channel_prob\": 0.0,\n",
      "  \"mask_channel_selection\": \"static\",\n",
      "  \"mask_feature_length\": 10,\n",
      "  \"mask_feature_min_masks\": 0,\n",
      "  \"mask_feature_prob\": 0.0,\n",
      "  \"mask_time_length\": 10,\n",
      "  \"mask_time_min_masks\": 2,\n",
      "  \"mask_time_min_space\": 1,\n",
      "  \"mask_time_other\": 0.0,\n",
      "  \"mask_time_prob\": 0.05,\n",
      "  \"mask_time_selection\": \"static\",\n",
      "  \"model_type\": \"wav2vec2\",\n",
      "  \"num_adapter_layers\": 3,\n",
      "  \"num_attention_heads\": 16,\n",
      "  \"num_codevector_groups\": 2,\n",
      "  \"num_codevectors_per_group\": 320,\n",
      "  \"num_conv_pos_embedding_groups\": 16,\n",
      "  \"num_conv_pos_embeddings\": 128,\n",
      "  \"num_feat_extract_layers\": 7,\n",
      "  \"num_hidden_layers\": 24,\n",
      "  \"num_negatives\": 100,\n",
      "  \"output_hidden_size\": 1024,\n",
      "  \"pad_token_id\": 0,\n",
      "  \"pooling_mode\": \"mean\",\n",
      "  \"problem_type\": \"single_label_classification\",\n",
      "  \"proj_codevector_dim\": 768,\n",
      "  \"tdnn_dilation\": [\n",
      "    1,\n",
      "    2,\n",
      "    3,\n",
      "    1,\n",
      "    1\n",
      "  ],\n",
      "  \"tdnn_dim\": [\n",
      "    512,\n",
      "    512,\n",
      "    512,\n",
      "    512,\n",
      "    1500\n",
      "  ],\n",
      "  \"tdnn_kernel\": [\n",
      "    5,\n",
      "    3,\n",
      "    3,\n",
      "    1,\n",
      "    1\n",
      "  ],\n",
      "  \"torch_dtype\": \"float32\",\n",
      "  \"transformers_version\": \"4.25.1\",\n",
      "  \"use_weighted_layer_sum\": false,\n",
      "  \"vocab_size\": 38,\n",
      "  \"xvector_output_dim\": 512\n",
      "}\n",
      "\n",
      "loading weights file content/model/pytorch_model.bin\n",
      "All model checkpoint weights were used when initializing Wav2Vec2ForSpeechClassification.\n",
      "\n",
      "All the weights of Wav2Vec2ForSpeechClassification were initialized from the model checkpoint at content/model.\n",
      "If your task is similar to the task the model of the checkpoint was trained on, you can already use Wav2Vec2ForSpeechClassification for predictions without further training.\n"
     ]
    }
   ],
   "source": [
    "model_name_or_path = \"content/model\"\n",
    "#config = AutoConfig.from_pretrained(model_name_or_path)\n",
    "#processor = Wav2Vec2Processor.from_pretrained(model_name_or_path)\n",
    "model = KNNModel.Wav2Vec2ForSpeechClassification.from_pretrained(model_name_or_path).to(device)\n",
    "#model1 = torch.load(model_name_or_path)\n",
    "\n",
    "#model_name_or_path = \"jonatasgrosman/wav2vec2-large-xlsr-53-german\"\n",
    "#processor = Wav2Vec2Processor.from_pretrained(model_name_or_path, )"
   ]
  },
  {
   "cell_type": "code",
   "execution_count": 30,
   "metadata": {
    "id": "BkEd4w8IV7kZ"
   },
   "outputs": [],
   "source": [
    "def speech_file_to_array_fn(batch):\n",
    "    speech_array, sampling_rate = torchaudio.load(batch[\"path\"])\n",
    "    speech_array = speech_array.squeeze().numpy()\n",
    "    speech_array = librosa.resample(np.asarray(speech_array), sampling_rate, processor.feature_extractor.sampling_rate)\n",
    "\n",
    "    batch[\"speech\"] = speech_array\n",
    "    return batch\n",
    "\n",
    "\n",
    "def predict(batch):\n",
    "    features = processor(batch[\"speech\"], sampling_rate=processor.feature_extractor.sampling_rate, return_tensors=\"pt\", padding=True)\n",
    "\n",
    "    input_values = features.input_values.to(device)\n",
    "    attention_mask = features.attention_mask.to(device)\n",
    "\n",
    "    with torch.no_grad():\n",
    "        logits = model(input_values, attention_mask=attention_mask).logits \n",
    "\n",
    "    pred_ids = torch.argmax(logits, dim=-1).detach().cpu().numpy()\n",
    "    batch[\"predicted\"] = pred_ids\n",
    "    return batch"
   ]
  },
  {
   "cell_type": "code",
   "execution_count": 31,
   "metadata": {
    "id": "S4P6P6XwW85p"
   },
   "outputs": [
    {
     "data": {
      "text/plain": "  0%|          | 0/480 [00:00<?, ?ex/s]",
      "application/vnd.jupyter.widget-view+json": {
       "version_major": 2,
       "version_minor": 0,
       "model_id": "70ab0cdcf3bc40a68ea2345ef1ee7cdb"
      }
     },
     "metadata": {},
     "output_type": "display_data"
    },
    {
     "name": "stderr",
     "output_type": "stream",
     "text": [
      "/tmp/ipykernel_78535/2184849335.py:4: FutureWarning: Pass orig_sr=24414, target_sr=16000 as keyword args. From version 0.10 passing these as positional arguments will result in an error\n",
      "  speech_array = librosa.resample(np.asarray(speech_array), sampling_rate, processor.feature_extractor.sampling_rate)\n",
      "/tmp/ipykernel_78535/2184849335.py:4: FutureWarning: Pass orig_sr=24414, target_sr=16000 as keyword args. From version 0.10 passing these as positional arguments will result in an error\n",
      "  speech_array = librosa.resample(np.asarray(speech_array), sampling_rate, processor.feature_extractor.sampling_rate)\n"
     ]
    }
   ],
   "source": [
    "test_dataset = test_dataset.map(speech_file_to_array_fn)"
   ]
  },
  {
   "cell_type": "code",
   "execution_count": 32,
   "metadata": {
    "id": "K_oZJzHsXKHv"
   },
   "outputs": [
    {
     "data": {
      "text/plain": "  0%|          | 0/60 [00:00<?, ?ba/s]",
      "application/vnd.jupyter.widget-view+json": {
       "version_major": 2,
       "version_minor": 0,
       "model_id": "54f2785d421c407d9f74dcbae5f7b2b9"
      }
     },
     "metadata": {},
     "output_type": "display_data"
    }
   ],
   "source": [
    "result = test_dataset.map(predict, batched=True, batch_size=8)"
   ]
  },
  {
   "cell_type": "code",
   "execution_count": 33,
   "metadata": {
    "id": "BnfJLZvAaxTo"
   },
   "outputs": [
    {
     "data": {
      "text/plain": "['angry', 'disgust', 'fear', 'happy', 'ps', 'sad']"
     },
     "execution_count": 33,
     "metadata": {},
     "output_type": "execute_result"
    }
   ],
   "source": [
    "label_names = [config.id2label[i] for i in range(config.num_labels)]\n",
    "label_names"
   ]
  },
  {
   "cell_type": "code",
   "execution_count": 49,
   "metadata": {},
   "outputs": [
    {
     "data": {
      "text/plain": "torch.Size([1, 40548])"
     },
     "execution_count": 49,
     "metadata": {},
     "output_type": "execute_result"
    }
   ],
   "source": [
    "processor(test_dataset[0][\"speech\"], sampling_rate=processor.feature_extractor.sampling_rate, return_tensors=\"pt\", padding=True)[\"input_values\"].shape"
   ]
  },
  {
   "cell_type": "code",
   "execution_count": 35,
   "metadata": {
    "id": "vRtajzvTabeH"
   },
   "outputs": [
    {
     "name": "stdout",
     "output_type": "stream",
     "text": [
      "[5, 3, 5, 5, 2]\n",
      "[1, 1, 1, 1, 1]\n"
     ]
    }
   ],
   "source": [
    "y_true = [config.label2id[name] for name in result[\"emotion\"]]\n",
    "\n",
    "\n",
    "y_pred = result[\"predicted\"]\n",
    "\n",
    "print(y_true[:5])\n",
    "print(y_pred[:5])"
   ]
  },
  {
   "cell_type": "code",
   "execution_count": 36,
   "metadata": {},
   "outputs": [
    {
     "name": "stdout",
     "output_type": "stream",
     "text": [
      "[1, 1, 1, 1, 1, 1, 1, 2, 1, 4, 0, 1, 1, 1, 1, 1, 1, 4, 1, 1, 1, 1, 1, 1, 1, 2, 1, 1, 1, 1, 1, 1, 1, 4, 1, 3, 1, 1, 1, 1, 1, 1, 1, 1, 1, 1, 1, 1, 1, 1, 1, 2, 1, 1, 1, 1, 1, 3, 1, 1, 0, 1, 1, 1, 1, 3, 1, 1, 0, 1, 1, 4, 0, 1, 1, 1, 1, 1, 1, 1, 1, 1, 1, 1, 0, 1, 1, 1, 1, 1, 1, 1, 1, 4, 1, 1, 1, 1, 1, 1, 4, 1, 1, 4, 1, 0, 1, 1, 1, 1, 0, 1, 1, 1, 1, 1, 1, 1, 1, 1, 1, 1, 1, 3, 1, 1, 3, 0, 1, 1, 0, 3, 0, 4, 1, 1, 1, 1, 1, 2, 3, 1, 1, 3, 1, 1, 1, 4, 1, 1, 1, 1, 1, 1, 0, 1, 3, 2, 1, 3, 1, 1, 3, 1, 4, 1, 1, 1, 1, 1, 1, 1, 1, 3, 1, 1, 1, 1, 1, 1, 1, 1, 1, 3, 1, 1, 1, 1, 1, 0, 1, 1, 1, 1, 1, 1, 1, 1, 1, 4, 1, 1, 1, 1, 1, 1, 1, 4, 1, 1, 1, 1, 1, 3, 1, 1, 1, 1, 1, 3, 0, 1, 3, 3, 1, 2, 1, 1, 1, 1, 1, 1, 1, 1, 1, 1, 1, 1, 1, 1, 1, 1, 1, 1, 0, 1, 1, 1, 1, 1, 1, 1, 1, 1, 1, 1, 4, 1, 1, 3, 1, 1, 1, 1, 1, 1, 3, 1, 1, 1, 1, 1, 5, 1, 1, 0, 1, 2, 1, 1, 1, 4, 1, 1, 1, 1, 1, 1, 0, 1, 2, 1, 1, 1, 1, 3, 1, 1, 1, 3, 4, 1, 1, 1, 1, 1, 1, 3, 1, 1, 1, 2, 1, 1, 1, 4, 1, 1, 1, 1, 1, 1, 1, 0, 1, 1, 3, 1, 1, 1, 1, 1, 1, 1, 3, 2, 1, 2, 1, 1, 1, 1, 4, 1, 1, 1, 1, 1, 1, 0, 1, 1, 2, 1, 1, 0, 1, 1, 1, 1, 1, 1, 1, 1, 1, 1, 1, 1, 1, 1, 4, 1, 1, 1, 1, 1, 1, 1, 1, 1, 1, 1, 1, 1, 1, 1, 1, 1, 1, 2, 1, 1, 1, 4, 1, 1, 1, 1, 1, 4, 1, 1, 1, 1, 1, 1, 1, 1, 1, 1, 1, 4, 1, 1, 1, 1, 1, 1, 4, 1, 1, 1, 1, 3, 1, 1, 1, 1, 1, 1, 1, 1, 1, 1, 4, 1, 1, 1, 1, 1, 1, 4, 1, 4, 1, 1, 1, 1, 1, 1, 1, 1, 1, 1, 0, 1, 1, 1, 1, 1, 3, 1, 1, 1, 1, 4, 3, 0, 4, 4, 1, 1, 4, 4, 1, 1, 1, 1, 1, 1]\n"
     ]
    }
   ],
   "source": [
    "print(result['predicted'])\n",
    "#config.label2id['happy']"
   ]
  },
  {
   "cell_type": "code",
   "execution_count": 37,
   "metadata": {
    "id": "tUt5rIppXrzl"
   },
   "outputs": [
    {
     "name": "stdout",
     "output_type": "stream",
     "text": [
      "              precision    recall  f1-score   support\n",
      "\n",
      "       angry       0.71      0.19      0.30        80\n",
      "     disgust       0.21      1.00      0.34        80\n",
      "        fear       1.00      0.16      0.28        80\n",
      "       happy       0.30      0.10      0.15        80\n",
      "          ps       0.17      0.06      0.09        80\n",
      "         sad       0.00      0.00      0.00        80\n",
      "\n",
      "    accuracy                           0.25       480\n",
      "   macro avg       0.40      0.25      0.19       480\n",
      "weighted avg       0.40      0.25      0.19       480\n",
      "\n"
     ]
    }
   ],
   "source": [
    "print(classification_report(y_true, y_pred, target_names=label_names))"
   ]
  },
  {
   "cell_type": "markdown",
   "metadata": {
    "id": "Ylb2Z6Xke2ro"
   },
   "source": [
    "# Prediction"
   ]
  },
  {
   "cell_type": "code",
   "execution_count": 38,
   "metadata": {
    "id": "EQzCioPhWIiX"
   },
   "outputs": [],
   "source": [
    "import torch\n",
    "import torch.nn as nn\n",
    "import torch.nn.functional as F\n",
    "import torchaudio\n",
    "from transformers import AutoConfig, Wav2Vec2Processor\n",
    "\n",
    "import librosa\n",
    "import IPython.display as ipd\n",
    "import numpy as np\n",
    "import pandas as pd"
   ]
  },
  {
   "cell_type": "code",
   "execution_count": 39,
   "metadata": {
    "id": "DocavTvQWIr_"
   },
   "outputs": [],
   "source": [
    "#device = torch.device(\"cuda\" if torch.cuda.is_available() else \"cpu\")\n",
    "##model_name_or_path = \"m3hrdadfi/wav2vec2-xlsr-greek-speech-emotion-recognition\"\n",
    "## config = AutoConfig.from_pretrained(model_name_or_path)\n",
    "#processor = Wav2Vec2Processor.from_pretrained(model_name_or_path)\n",
    "sampling_rate = processor.feature_extractor.sampling_rate\n",
    "#model = KNNModel.Wav2Vec2ForSpeechClassification.from_pretrained(model_name_or_path).to(device)"
   ]
  },
  {
   "cell_type": "code",
   "execution_count": 40,
   "metadata": {
    "id": "1SSs95o9WIvK"
   },
   "outputs": [],
   "source": [
    "def speech_file_to_array_fn(path, sampling_rate):\n",
    "    speech_array, _sampling_rate = torchaudio.load(path)\n",
    "    resampler = torchaudio.transforms.Resample(16000)\n",
    "    speech = resampler(speech_array).squeeze().numpy()\n",
    "    return speech\n",
    "\n",
    "\n",
    "def predict(path, sampling_rate):\n",
    "    speech = speech_file_to_array_fn(path, sampling_rate)\n",
    "    features = processor(speech, sampling_rate=sampling_rate, return_tensors=\"pt\", padding=True)\n",
    "\n",
    "    input_values = features.input_values.to(device)\n",
    "    attention_mask = features.attention_mask.to(device)\n",
    "\n",
    "    with torch.no_grad():\n",
    "        logits = model(input_values, attention_mask=attention_mask).logits\n",
    "\n",
    "    scores = F.softmax(logits, dim=1).detach().cpu().numpy()[0]\n",
    "    outputs = [{\"Emotion\": config.id2label[i], \"Score\": f\"{round(score * 100, 3):.1f}%\"} for i, score in enumerate(scores)]\n",
    "    return outputs\n",
    "\n",
    "\n",
    "STYLES = \"\"\"\n",
    "<style>\n",
    "div.display_data {\n",
    "    margin: 0 auto;\n",
    "    max-width: 500px;\n",
    "}\n",
    "table.xxx {\n",
    "    margin: 50px !important;\n",
    "    float: right !important;\n",
    "    clear: both !important;\n",
    "}\n",
    "table.xxx td {\n",
    "    min-width: 300px !important;\n",
    "    text-align: center !important;\n",
    "}\n",
    "</style>\n",
    "\"\"\".strip()\n",
    "\n",
    "def prediction(df_row):\n",
    "    path, emotion = df_row[\"path\"], df_row[\"emotion\"]\n",
    "    df = pd.DataFrame([{\"Emotion\": emotion, \"Sentence\": \"    \"}])\n",
    "    setup = {\n",
    "        'border': 2,\n",
    "        'show_dimensions': True,\n",
    "        'justify': 'center',\n",
    "        'classes': 'xxx',\n",
    "        'escape': False,\n",
    "    }\n",
    "    ipd.display(ipd.HTML(STYLES + df.to_html(**setup) + \"<br />\"))\n",
    "    speech, sr = torchaudio.load(path)\n",
    "    speech = speech[0].numpy().squeeze()\n",
    "    speech = librosa.resample(np.asarray(speech), sr, sampling_rate)\n",
    "    ipd.display(ipd.Audio(data=np.asarray(speech), autoplay=True, rate=sampling_rate))\n",
    "    print(path, sampling_rate)\n",
    "    outputs = predict(path, sampling_rate)\n",
    "    r = pd.DataFrame(outputs)\n",
    "    ipd.display(ipd.HTML(STYLES + r.to_html(**setup) + \"<br />\"))"
   ]
  },
  {
   "cell_type": "code",
   "execution_count": 41,
   "metadata": {
    "id": "UD7oUP20YwYT"
   },
   "outputs": [
    {
     "data": {
      "text/plain": "                                    path emotion\n0      ../tess/OAF_Sad/OAF_knock_sad.wav     sad\n1  ../tess/YAF_happy/YAF_cheek_happy.wav   happy\n2        ../tess/OAF_Sad/OAF_rot_sad.wav     sad\n3       ../tess/OAF_Sad/OAF_calm_sad.wav     sad\n4      ../tess/YAF_fear/YAF_gas_fear.wav    fear",
      "text/html": "<div>\n<style scoped>\n    .dataframe tbody tr th:only-of-type {\n        vertical-align: middle;\n    }\n\n    .dataframe tbody tr th {\n        vertical-align: top;\n    }\n\n    .dataframe thead th {\n        text-align: right;\n    }\n</style>\n<table border=\"1\" class=\"dataframe\">\n  <thead>\n    <tr style=\"text-align: right;\">\n      <th></th>\n      <th>path</th>\n      <th>emotion</th>\n    </tr>\n  </thead>\n  <tbody>\n    <tr>\n      <th>0</th>\n      <td>../tess/OAF_Sad/OAF_knock_sad.wav</td>\n      <td>sad</td>\n    </tr>\n    <tr>\n      <th>1</th>\n      <td>../tess/YAF_happy/YAF_cheek_happy.wav</td>\n      <td>happy</td>\n    </tr>\n    <tr>\n      <th>2</th>\n      <td>../tess/OAF_Sad/OAF_rot_sad.wav</td>\n      <td>sad</td>\n    </tr>\n    <tr>\n      <th>3</th>\n      <td>../tess/OAF_Sad/OAF_calm_sad.wav</td>\n      <td>sad</td>\n    </tr>\n    <tr>\n      <th>4</th>\n      <td>../tess/YAF_fear/YAF_gas_fear.wav</td>\n      <td>fear</td>\n    </tr>\n  </tbody>\n</table>\n</div>"
     },
     "execution_count": 41,
     "metadata": {},
     "output_type": "execute_result"
    }
   ],
   "source": [
    "test = pd.read_csv(\"content/data/test.csv\", sep=\"\\t\")\n",
    "test.head()"
   ]
  },
  {
   "cell_type": "code",
   "execution_count": 42,
   "metadata": {
    "id": "FlJO2LfVWIyT"
   },
   "outputs": [
    {
     "data": {
      "text/plain": "<IPython.core.display.HTML object>",
      "text/html": "<style>\ndiv.display_data {\n    margin: 0 auto;\n    max-width: 500px;\n}\ntable.xxx {\n    margin: 50px !important;\n    float: right !important;\n    clear: both !important;\n}\ntable.xxx td {\n    min-width: 300px !important;\n    text-align: center !important;\n}\n</style><table border=\"2\" class=\"dataframe xxx\">\n  <thead>\n    <tr style=\"text-align: center;\">\n      <th></th>\n      <th>Emotion</th>\n      <th>Sentence</th>\n    </tr>\n  </thead>\n  <tbody>\n    <tr>\n      <th>0</th>\n      <td>sad</td>\n      <td></td>\n    </tr>\n  </tbody>\n</table>\n<p>1 rows × 2 columns</p><br />"
     },
     "metadata": {},
     "output_type": "display_data"
    },
    {
     "name": "stderr",
     "output_type": "stream",
     "text": [
      "/tmp/ipykernel_78535/3313117993.py:54: FutureWarning: Pass orig_sr=24414, target_sr=16000 as keyword args. From version 0.10 passing these as positional arguments will result in an error\n",
      "  speech = librosa.resample(np.asarray(speech), sr, sampling_rate)\n"
     ]
    },
    {
     "data": {
      "text/plain": "<IPython.lib.display.Audio object>",
      "text/html": "\n                <audio  controls=\"controls\" autoplay=\"autoplay\">\n                    <source src=\"data:audio/wav;base64,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\" type=\"audio/wav\" />\n                    Your browser does not support the audio element.\n                </audio>\n              "
     },
     "metadata": {},
     "output_type": "display_data"
    },
    {
     "name": "stdout",
     "output_type": "stream",
     "text": [
      "../tess/OAF_Sad/OAF_knock_sad.wav 16000\n"
     ]
    },
    {
     "data": {
      "text/plain": "<IPython.core.display.HTML object>",
      "text/html": "<style>\ndiv.display_data {\n    margin: 0 auto;\n    max-width: 500px;\n}\ntable.xxx {\n    margin: 50px !important;\n    float: right !important;\n    clear: both !important;\n}\ntable.xxx td {\n    min-width: 300px !important;\n    text-align: center !important;\n}\n</style><table border=\"2\" class=\"dataframe xxx\">\n  <thead>\n    <tr style=\"text-align: center;\">\n      <th></th>\n      <th>Emotion</th>\n      <th>Score</th>\n    </tr>\n  </thead>\n  <tbody>\n    <tr>\n      <th>0</th>\n      <td>angry</td>\n      <td>1.1%</td>\n    </tr>\n    <tr>\n      <th>1</th>\n      <td>disgust</td>\n      <td>86.4%</td>\n    </tr>\n    <tr>\n      <th>2</th>\n      <td>fear</td>\n      <td>0.2%</td>\n    </tr>\n    <tr>\n      <th>3</th>\n      <td>happy</td>\n      <td>4.7%</td>\n    </tr>\n    <tr>\n      <th>4</th>\n      <td>ps</td>\n      <td>0.1%</td>\n    </tr>\n    <tr>\n      <th>5</th>\n      <td>sad</td>\n      <td>7.5%</td>\n    </tr>\n  </tbody>\n</table>\n<p>6 rows × 2 columns</p><br />"
     },
     "metadata": {},
     "output_type": "display_data"
    }
   ],
   "source": [
    "prediction(test.iloc[0])"
   ]
  },
  {
   "cell_type": "code",
   "execution_count": 43,
   "metadata": {
    "id": "hzoKOgpoWI1K"
   },
   "outputs": [
    {
     "data": {
      "text/plain": "<IPython.core.display.HTML object>",
      "text/html": "<style>\ndiv.display_data {\n    margin: 0 auto;\n    max-width: 500px;\n}\ntable.xxx {\n    margin: 50px !important;\n    float: right !important;\n    clear: both !important;\n}\ntable.xxx td {\n    min-width: 300px !important;\n    text-align: center !important;\n}\n</style><table border=\"2\" class=\"dataframe xxx\">\n  <thead>\n    <tr style=\"text-align: center;\">\n      <th></th>\n      <th>Emotion</th>\n      <th>Sentence</th>\n    </tr>\n  </thead>\n  <tbody>\n    <tr>\n      <th>0</th>\n      <td>disgust</td>\n      <td></td>\n    </tr>\n  </tbody>\n</table>\n<p>1 rows × 2 columns</p><br />"
     },
     "metadata": {},
     "output_type": "display_data"
    },
    {
     "name": "stderr",
     "output_type": "stream",
     "text": [
      "/tmp/ipykernel_78535/3313117993.py:54: FutureWarning: Pass orig_sr=44100, target_sr=16000 as keyword args. From version 0.10 passing these as positional arguments will result in an error\n",
      "  speech = librosa.resample(np.asarray(speech), sr, sampling_rate)\n"
     ]
    },
    {
     "data": {
      "text/plain": "<IPython.lib.display.Audio object>",
      "text/html": "\n                <audio  controls=\"controls\" autoplay=\"autoplay\">\n                    <source src=\"data:audio/wav;base64,UklGRoJhAABXQVZFZm10IBAAAAABAAEAgD4AAAB9AAACABAAZGF0YV5hAAAAAAAAAAAAAAAAAAAAAAAAAAAAAAAAAAD+/wAA//8AAP///P8BAAAACQD+////AgD9/w4A+/8AAAsA///2//j/7P/Z//b/9v/y//P/DgAYACIARgAwADIAVAA3AAAA8/8vAG8AyP/G/+z/q/8rAAYA/v+4/6D/uf+C//X/7/+1/2X/ff+F/9L/QADF/7//Sf8J/13/Vf+9/rj+ov/g/wkA+v8AAEcAAgBm/6v/XAArAVUB8ABUASYBIAH2AAoBQQGDAIX/Gf9b/9n/dQDn/8v/2//t/qr/aADGANAAy/8hAOr/NADs/zP/lgBdAN3/u/9v//L/MQDe/nv+tf4H/+r+o/1s/qL+Av4P/jf+kv5W/3/+9/3C/MH8gf3Y/HT+g/0u/nj96fzy/DL8+/z/+y79nPxl/Cn8yPs6/Kj9Av40/Bb8ZPto/Kb8q/y0/N79Jv6L/A/9o/yW/a/9lP1Q/gf/w//k/30ASwAeAJr/5v/c/1cA0AApAVICqwGuAK7/8P7u/tj+Tf+1AO8AWACe/0L/av8p/5b/UwAOAMz/SwA2AZIBOwGnAQcCiwGLALkARQE1ApQDPwQoBLkD+QKiARMCrwHsAS8DtgMvBDgBmwGNBIgDjgMvA3oCkQP1AjgCfQPWA5ECxALlAjIC0AEJAb4AKwCk/zv/cv/g/yIAj/5f/4MAwP0P/oX8Qf3Q/oz+w/7b/Vv9Qv1R/5/+LP4X/iX+vf1a/TL9I/3G/lf/GwAd/hb+dv///7n/VP6N/pz+Wv/w/hf/yP+LAPoA6P8iAWQB7QC5AKb/pP/n/1EA6v9WAK4ABgD7/zcAWf+2/rX+h/7//tH+2//E/7cA5wDL/xMAPv8a/wX/af85/1L/L/+I/xEAOQCn/yf/c/9s/hH/D/8V/wr/Of/N//X/lv8T/g//Ef9A/93/Pf9u/gT/z/+6/1P/Mf4P//3+7gCx/+D9qv/r/2EA4P5q/jX+9v6H/xD/Y/9D/1cBRQXDBeYDFQHWAEoEYAW3BOkCZgXSBpgEawP3A3sGqAUkBNICxQLGAvcAJAIcAncB3QDC/yYCnQF9AJ/+rP7yALf+0v0u/e7+SP8I/vH+R//n/5D+iv4S/5T/4P6x/Zz+AP/D/8/+dv8fAcv/Iv/d/sn+jP9d/r/9ov4E/wb/Bv76/Wj+HP88/hT+4f4//mD+bf31/TD+EP6N/oD+5f8L/87+8v7S/uH+cv4//y/+9f7j/m7+af/8/i//3P4e/8P+zP75/tv+zv4g/j3+d/5O/qn+m/+b/x//pf64/hD+Uf4//nv+Bf/S/t0DaAYEBsEENwN3BGEEpQQ0A1IEHgddBksGTwb4BeIF6AV5BAwE7QNpAgYDCgOVAVIB6wEWAS4AyP+e/yAAEQDe/uH8WP3F/UT9Mv54/rz9Zf72/tb+0v9V/5T+ff7O/U39Vf7B/gH/mf8d/73/Uv+r/2D/av48/17+Q/60/mb+LP7Q/nf/OP/k/vH98P0O/hr+k/4Q/pH9tf0E/tn+s/56/h//Ev/m/tf9+f0m/nP+u/6I/YH+jf/v/gX+pf64/j3+3/34/aH+Lv8d/1b9M/7F/qH+xf2x/fb+I//f/tD9i/5H/2QE7QjkBzQG1wTLBfgHvgeKBXIGNAchCFEJCgnNCBMI2AaoBAgF0wQvA6ECKQIeAdf/rv9H/7D/Yv4X/Ef77/oN++P6NvtJ+/T7Ovz3+yL84fw+/gT+OP2o/W3/8v8m/6v+U/9VAI3/Lf7O/gUBnQDs/j7+jv6n/2X/Pv9P/4r/Hf9A/jj+pf36/fL9W/7E/oz9AP30/c3+Of9g/wv+C/4t/m/+zv6//sz+7/4Q/9X9cP1S/kkAb/9+/ef8kP1C/1X/Wf6X/Tb+Uf7k/tz+Yf7T/e/9b//Q/iP+X/4O/scCFQrPC98K1wYCBT4IrAkaCNsF5AaJCWkMaQwnC+MLrgrcB2YEhwKTAVUBeAG2APT/z/7c/ar9qvwZ+ZP22fVG92j50/lI+RD5ZfrO+jn7svv3+1b8ZPx7/Lz99//WAMgAZwBkAFYAjAB9AMEAXgGoAFAAYAAEAXABSwGDAC7/uf4y/mP+h/4+/vD97/2B/v/9Xv7k/v7+hP7D/JT74/y3/in/Pf9v/q/+K/6o/Tz9nv2F/g7+3/2N/aj+a/9f/w/+VP1J/c39Qv6t/g7+Nf0w/i//KgCm/i/94/xi/tb9TgMxDcsSihFFCFsEWQe7DEQMQwkRCbEMvhCoEsQSYxCuDjEIdAI8/+39FQDzAWkCm/+N+9b44Phf+KLzAu0L6kDu6vPK9+T3q/YQ+FH3uPVk9Y73Q/v+/dj+1P8tAjsF/Aa7BcADxP9g/00DIwfECCcGQQOhAxAFpASUAgX/hf3q/PL8k/0l/on/Lv+d/Un8cfq/+df6mvvY/In75/qY/DD/lABl/jP8Yvuz/PH9kP2z/Gr+IQAVAcf/Qv6Y/jr+p/51/pr9B/1O/fn9vv/g/t/+KP8d/wX9Sfvn+179bwrhFZMaiRRjCKwF9ApgEF0QVw8kECAWIhmNGdQVxRE9D74FyP8U+8T57vzF/sr+cvv09Mbvo+/666/lJ9+L4GDp1e8081bx3vJ49nX3Mfay9CD2fftxAfQEqwmJDGgOVg3/Cu4IqQbqBv0GjwijCSgJpwi2CGAH4ANg/lv5qvhB+Uf67flQ+pv7Nfw4/Av6+/fR9rz2o/f/+T78Pv5+/77/fgDy/zP/Bf5X/e39JP7D/34BbAJ+ArEAEf90/lr9sPy4/Gr8f/1d/UH9nv6m/U/+4PwQ+0D6pPqL/Rn+8ghPGcEjEx+iDNUCJAnYEy0YBRiPFiUbbh84HyAdARbjDCcAK/f69MP2Zvv3/VX9W/Zb6qPhFuL74QfcStTj1D7iA+/39Aj0K/JF8tvwOfLo9zb/XwbXCbIN6RRsGv4bKRgeEasLcwjYCeQOOhLPEvAO1AkTBvoBSP0f+OryLe9l7wjyXPfM+bz4pvRD8K7uHe5w8Wn0p/dc+q/8ZwCcBIMFCQNwAPP+2wCBApQDFwa7CMcJtweaA7UBsQAeAOP8jvrX+kj8Tv8F/23+ovqg+Pf1UPYv+Pv4qPo2+p38F/tkBmcZ/SeVI+sNMALICNIaJCF5HtMZSh5LJXQkzh17FEUMHP/29B3xrPXf+7H7fvU36+vhJt0I3pbattLmzCzS/+Fh8E32ePOM8f7x3/MR9yL9Hge3D8EUpxhEH8kkZiObG5sTNg/5DScPZRC+EWUQCgxIBu//zvmI8nbs/+i25wHpcOtf7nvxcvEa76TrTOpm7KrwbvYQ+xL/MwLpBmUL2QzkCiwHpwWzBxELCQ2bDTIMGAuDCUAHXwOl/iv7p/q/+WH3sfZq9wz7lfkt9e7voO/k8z32sPb69Oj4r/rs/RT9aAGMFyYq1itPF0gETAkGH/QrZijLH+ocdiMiJ8ch8BahCTv+UfeK97/6Ufow9YDrXuFo2P3VRdif2cnUFc200DvfBOzI73nrOen97jr2RP7jCLYSYxmAG3cbyh/wJc8moSAQGk4YFRqSG1QZoRSuDaQD7PsT+PnzLO5S6Dzovur06D/jed66313jp+PF44roD+8Y9ur5a/x+AC8BwgKnCN4OgxL4ESURJhWIF9QVMhE8DlMMAwq5B5oFYwSVAY38yvda9fTy+PEu7wXvpe5B7+juoe6Z8AXyp/Ps8lf1Qfdv/53/4wgjIyE0wzLuF4UFtBBKKYAxQSt4JDonCS+zKukeHhD2At/2KfHx8w730/SB7dLj8NhizgTIr8kIzH3Jp8dv0nrlqu8q7gPoQunN8aT49wL+EpcgMSmxKvEqJi/HMMYqriGkG+4d4CTxJlkiOxbnCKP9B/bq7gPnZuCb3pLg++F64TndfNg902jRNNOz2xHnBfEW+B/7If8SBPMIoAoJDPgNORWcHRwioyRgIloeFhh+Eb8NdQwIC1QH0wI8ACP+l/pT88vrVOZH5LzlBOfD6Yvq++v56yzuXO9K8ELyovL++tz94gyxKqhAlDznHwUJIxABLLE2pjPAKZwqojPOM8Im/hCA/ADrpumE7gn1P/S/6rPe0dKrx1S/57+Cv4LA/MMJ0t7mOfNl8mPrCeqM7aD3bgYHG9AsGjVCNvg2ETqCOLYv0SHKG4ogWiolLg0nghg3CEn6y+y44vrauddd1+bYa9u528LY69AHymTGm8mi1EnjavGJ/NwB6wRyCfkMjg6CDzMT2hvjJkMtnC8MLn8nah3tExoNGwtoCkEHCAT4AEn8pvaA7wrlzNzv2HLaoOB65lznb+lU6UTqLOvq69TuVfMZ/H/+QRVUOoNQyES9HBME/hSsNkNCHjr3K7cvljqON8siHAlI8Lrfu+At6pX3Dfbw5UrQacHKuFS457uSuXK5bsKk2gXz4vto8XHn3edn8KIA/RWHLUA9a0J+P3Y/pkAtOkkrFR9fHpYoPTKaMF4kFRB2+q7o6ty91ELSYtFH0sDTStWk1RLQsMWGvFy+gsky3J7u3/wfBcIJJws8Db0R6hTkGWQfQyhaMx477zlkMTsj3BY/EKwMXgpaB54D3wGo/jj1/enu3CPW6NNR1N3XrN0u5DPoqeeT5AbmwOfK7hzx+PozA78PYzfVVCpWEjH1CqMNiTLGStFFDDaiLmk6zDpTKXcLivB73tbaH+V97qHv6OA1zVC+a7XGsNqxdrQVt1vA2dKk62f5e/VL613rRvYLBfcY+S0pQQNJOkdXRsVH+kQSNnwmbiHVKJsyYjBqIk4OLvtI6l3d+dKUyiTHZsbmyvLO/s4zyZrAe7tIvWjHodb65xH3jgNQCwMRtxR1F4ob2CDOJdUtnjWIOww+bje2LYUhjRbvDJwIxwW+Atv+NPgD8PXnUd/U1QLQmcx7zqLVBN2Y4WvkqeQC6Ajpjexr70/7TAPvE7w/j1yUWdAwLg6vGJ9A7U83Rd8xbzB2QJY+lSiSBNTsw9sJ2j3fQOXJ5u3bxMdqtZisu6oVtNiz3LOsuVPPfu0h/tT5CO1g7hX8TxGSJHU4DUdSThxMJUoiTgdJpDqVKk8jRSiGL+IsnB64B1Tw098u1pHNfcanwD2/2sGzxe3HfMWgwA66A7wCyGXdU/Gq/jAGXAyVFs0daCStJHolQCvLNEhAUEO/PckyPietHmEYIg/4BZX9dfmj+Vzzr+jD23LS/dFxz+DL0svY0O/dIeEW4TniBupY82rz2PY4+ZkiUlXUYBVH/xeCE286tFeRTlY2gyoPOvVHrzikGzP86+jH22Daqd4Q49zhTc50uX+qkar9sCey07CWsEHCS+Bk9hT6z++A60D5cw/VJOo3bUOaSjNMyElgTVNScUfEMM8joSR0Megw9h2UBinw0OKv2KDPRsSSvjO9E75ywTfD+8O9v9m6y7sSytff0PR1/4QEFAvxExUizilfLNkrPC1+NRM/xEPePiMxriIjG8QWYQ+QB1D9s/VD8cvowuSG3JbRl8ltyZHQbdRu1YzVl93G5XfpVOm98cj7ov+iGUBDFGGxUgInqRYvMa1OvE7hOzwvMDkbQp05piGQAtPkUdHJ0nzd1+Tn3QvMsLxOsGWmKaczrLKsp7NUxTnl9AIJBfHzYewA+3IVLytwNvNDDVKyWJBV806QSA05/iZTHcsjrDBZLGUWSP3U537asc/HwQq5frZZvA/I+cwlyJy/B7ukv3PJpNUN53/8fw86GJQbACFOJgco2yY+Kdszxj5CQjo+cTTmKCQbMQ1CA4X9VPlF9ZzxN+2Z5rfbos+2yCnIcMtO0aPXPeC65vPrpe6o8hr2cvYOFPRDWGB7UqgqhRw1NuFMZ0YtNYgrDjfZQcM5ICHu/mHekMwo0J7aiOCf2DjI7bqRsUqo3KSLqPGvs7/W0Ubn3QA+DAcFEv5MARAVdi+6QDpNWVbWVrRR1UvYQv40ciKaFx0b4yFjHB8JAPM83SDMEMESu265ErmxutjC7Mony03HWMXzywHaX+lB97UImhqlJuUqRSgNJ64rZjL/Nco3SjhBNuAwsCeoG+YP9wCA9CTvYu3Y7LfnZd4N1gPQq8x+zSHOeNGX1gPgyumz8iz1YPjD/CQFhCyKVJdh40ZKI5Qjhj/cT2RFbTYSMLo03zHsI0kNJ/Qv2CjGGske1NnaeM11tvKmRaQdqcCuzLKJuwjIatt09XYL3RLJCz8LSRhWMFhDWk7bVPRWOFUnTfRFoD1JMdAiBxj2ERQMFgDU78vef8wcvl+347YEtse1RrhhvQ3DCchJz3TZceMm7Dv48gn7HBcpoi3ULuAx+TU1OT07dTpwOFgyqSkLIdcXlQ28ABH0Buwp59niqt141nHQqsrCyYTM4dIx2dXagt8F5cHyI/tPAfsBVgqaNZhgcmtgRmcfeiKqQmVTAkjBNSEt4y3eJqUepAvC7ubLOruQx7/VWtPqvO6pZKK7o1GqCLV1wE7EtcZr10b54Bl0Ic4V/BFSInA/dlSBWTFTfEzAS01Nyk5hRxAxhRjWB04EvARE94jhmMu5vca5MbqGuXaz7Kv9qUy2fcib1fHbreCm6fH2VQejGHgmwCpgLeEzfD+PR2hEJjt3MnAvbC3jJqgcqg9vAL31U+6A6SjhZtZyztPLH8wBy/jMCc/A0xTXkN0s52DzvPid/TADpgyMOBFi3Ws4Sp8h+CcLRTxRrkUNNcMuii8pJn0dvA0k7iTJprLAveDQTdBnuX+k5Z8zqAmwabQ9upC+6smS3zEBjh80KIYfgx2FLQhF+1T+VihVr1GgUOtQQVBzRNcpsw1H/VH8/Pj16nnVZsVWvB62srGgreas+6sXrj+5ksw13kvnRunz8IEDthc8Jc8piS4HODJBFkbcRqlEkj4FMlMnfSKXHrITjwJz9dfuyOl23sHUf84+yt3FS8LnyWHTwNi61wTaueR38cz6c/5pCIsLXiDIUNN09G6JOfcXNi8OUT1SnjYpIRUnUCv5IC0Pf/Xt1h2yfaZEub/NishDqnaaNqhAvPXCpLuZuPXI6+C6/j4byi1HNGEwNTEePpZOSVbaUoFK3keRSVlMLEbYL5gPA/SP6T7qU+Wf1JbCBLjGuCS6sLces+Ct5q63uCXMiONq9Jb61f7UB14YwCiCL1gxNTL3N7FBR0joRiw8yCxGH1sWhxGEC64BjvTN5Yvffdwj2tbU38owx0bG+Mmb09vc7+SR5wrprvJLAJgLxgziDOsMzSO7W/9/VXIRNnENDiM3RaNFzylXElcUdxvqFGUIlO/synmij5aVsonSPdLCs6mj0rWD0tbZM85kyZzWIe2mCPEn8EFyR384KC40N81JqUxRPe8wxDEFOwI+TjT8HZn+juMM2C7ba9r0z7/E0cG6x83KDsl2xvvDZsItyQncWvVNBn8LcA7WFQEh1ScNKa4ntyZZJ0styTToNjAtDhuzDkEJWQX1+wLtuOSX5abpv+rI4k/aFtb11drYDN2G4UTmGu5U9tr92AOYCOgJ2ArSCHANnxfaG540cFqRaH9KwQ8P/PweDjHiGDP6G/xpGacczQPs7A7cx8S3rEWwoc6z4/DarMpm0/DufPmI6gfY0dhO7PMCYxpuMJI3uy1+Iuskjy8zJXsKlgNJFfUowygHG8YUOguU8TDdid+S6uzicdHS1y/19ARb8r/ZJ9im5RvseOmq6wX6ZQnAEDYUvRWIFpIOdwRrApYI0RBEFEoWfhiAFhwMWAEy/In8Gfas7MHrx/VeAwwDeflx8PbrW+xB8XfyKfHU7w713wNuDbkMpATg+lr26/geAyAOQgw4A0z/mArEEaIg8zdQPIgo+v3C9nAY1CnjFOfzzO4gCx0e2RNZ/Vvhxs8CyzvUneaW62Tg2Nvt63gEDg+t/BLlG+G77AgD1RTPG1IYgw/DEQQhnyn6FnT2iudr9t4McRWqDoIE7v1P+DP51/rY8rXiWdrI51H/3ww8Cmz/ZPnJ+aT7z/0q/SD5jPcr/HcKjRdWFEsF5PiS+Jb93f3O+QH5zvuuAOcD8gVLB4ABnvhx8tT0i/z3/4b+Tv9OA30FyAPEACQAtf2k9870jPoZApQEYP4w/NkBDQWTAFH36vW6+0kAIfwF/rD+nwxfLwxE/z6PFcf31QeIH3wcwQF49KwH2xsGGX0JB/hu5hTOjsJu0rLloOXq2C7frfpkC6gDifLs7ZryVvXa/GYO2x4NIZMWjBOKIAIkUBP3/G3y//oKBXwJNwqaA/v5GvPu8xf3rvF95ffiaOpH9oP/owGYBL8AFPyH/wIEnQRU/pz5Uf9OBqoK0AtaCh0GFf1N+Uv87P4a/Aj2ePYm/pcC2QQeA3r+Rfp/9zP8NwIkAkr8nfj7/jEH5QbaAuz9ovyp+236mfwB/6n8IPnF/AADdwOG/dz5VftE/6P6DPjj/ZcFMwJVAwUoJ0yZSLAYs/eXE4UxPB/79QTrMwvGHoUQ7/7L9tvrYNI1xIzQYd2R0tnG99QQ9vIL6AV++Tr3+fvhAUUJ5hCIFMsVRx2tKhIxSSccFTMJ8gKk+3n3lvg1+kv1oO2j8VT7WvgD56PayN/I6rPuuO+R988ClggPCksOuhIQEMgGfgEGBEMIRgrSB4YH6AZZBPMCcv9U+XTxOe2f7tryhfVq+dn9Vv1Y+8H98gTYBQr8b/U2/LEJMw3mBQMC/gSLCeoGJAF9/EH62/c89mP7Af4+/1f6tPZW+yv/vf8F+aDzI/US/UUCrAfuAkQHJSrRR35KkSQqCI0YoS4SJXAAbe93AbgQoA29Asv1Heu31HrHT87I0DHLY8TNynvmwP3eBf//vvff/VMLGRjbFyERzhLvIXwuDzRnKjsbLxbvDc0Ht/2S9JfwVuqw5ynrj+/G733mqd8s4ZflEuyq7VLvFvSA/VIL0xTEFKQRRBI9FFoS3gy5CpcLlgc5AbgAKQXeBUn8u/Cf7rLxTvEC7oDqJ+7J80b2bvueAE8E7wDz/YsEtAt6C/gDygCeCWARbwsoA8MC9wZCBE35TfTt+ZH+cfcf7/PwG/qT/sL5yPOh9nT6lfxK/6kBVgKT/DoAMAMSFZY250ZtPs8f8xUPKqQ1kR7i+eTyOQWSD+0Ll/1R8XHmPNgq1vXZV88BupKyEsFU4PX2i/mn8dzxyP9AE8cf8RitC6MNciCkMqg53ixzITwiKSLrHNUReAM19Q3pa+PD56PtMehX2b3W09+X6wPteOJO3Rrkv/HO+44CzQa0DBoUvBe1HCEh3xvFD/gG0gpCFPwQcAAb9qz/SAnxAWjyCun66/3uCOtq6GTtSPD471/1v/7oBaUEMgFzAsgG8QeYBmkIiAsyC8UJ5wl/CtQJswPY/RX8F/qi9rX2xveR9a3zl/LD91j9qfkd9TP4f/7+/4n+Dv1//qABRwZYBhENriTzMlsw0SCuGGcmQC5NH+EKzwOaCq8P6Ak3BXAEIwDs8m3mpOQG4//aIMtKwY3N6eBT6A3m9OVy71793gHR/wkCUga8BvgHcxAqHH4k+SAUGcAZdx/0IOgX+AYZ+mf7//8A/Tv1Pe4L7v3y8vT18lHxUu1G6qTr0u9X9SH5XfrX+ysCxQmlDZAMxgiABlsH9wewBkwGuAMrAmADzwJHATz/tfxy+Eb0mPIx9N71KPUt9W/3bvru/agCUwKJ//j+gAHJBMcEjAStBHEFsQVxBkUHIAd+BOD/wf0f/aH8QvrM96n37fcK+YT6MPrS+uH6iPeG+JD8AP7q+/b5Mf4UA1EEAQVyAhIGghhwIlgekhg2GiAiKiKrHXsWCREhDr8JIg5YE3sNvwSd/rf+DQLG+n7vYOXj3SThxOUT5nDh4d7941Pr2fEI8V3tse377A7u9/Xh+/D9VP4m/90KWxncHCsXuxEsEw0Xdxb6EHELQghrBRMH6Q2/DsQHr/9K/6kEMQJr+BjxUe/u7zbwbPG+8wH0APPh9NT54vx6+ZT1jPXL9i36NPtE+8/8Mf2/AeUGNwd0BbkDWgQHBYsD+gHBAMEBIgILAVMDCwWPBLADHgLmAssC2v4S/DP7Q/2P/tX8Q/sF+x/+yv/B/k38ofoM/Nz7CvoK+cL5YPvr++P7Wf3t/9T/tP5c/pr/1/8EAB78/vwFEA4dqBx/FVgUoR9BJbMdZxNREJYNgApoDY8REw9gCEcDWgp2EQsHmPko8ensvuto6e7ko+FH38XebOhV85rxLeoS5ubp9/E/8LnoIevl8Cn1oP0hCJEQnxJCEPMSxxw5HckTxAzUCg4OThG1D4MOERAYDvQNGg/vDAkGufuC9RH1JPWp7/TqW+z07onyrfRu85rz5PGx8B/zwvIB8uzwNvJS+Jz+8QKzAiMEDgdbCVgL3ggBB3EHxAVkBbcHjQizCPwGwAckCrIJUgZLAe3/yv0y/Cb7hvjg91j3Uvih+7/8hvov+BD49fk5+sL2APX59yD5Yfgr+48AcwLUAJj+pQCtBb8CPv9o/ScAVgNtApoA6AGqEfAbYBzDGbwZxh3qHN8YWBVZEQsI/wTICVkPSQsYBaIFwQeXB/P+g/rs9YTtuufM59Lrzekm5THljO1H9PjzzvAw8T70O/Ta8R3yi/dc9xf2nPofBe0M6ArGCYANZhKLELwM1wrMB2gFcwT+BjcJxgVMAh8G3wpaCWQDOP68/Qf+5vkl9gr28/Ue9QT3Zfrq/P38x/mb+7j+5vy3+Qr59PlI+hH7Fftm//cArv+nAFYCcAOTAYQBCf/1/23/aP4KAt8BDQEsAIICKAQLBRsCfQDLASX/yf2I/lsAof37/Jj8GQAlA0j+S/3y/Fr+Qv2I/BX8S/sn+2D5Av66ABn/vfvR+x/+//9OAOL8nf6w/fL8kf7bAccCUf0d/Qb+LgSyAtgBkQ4VFpsVHhKaF2wckxtCE8EOABLID7MLigh+CyMKaweSAy4C3ANM/fr32/PZ8Tjwje4e7Vft6u5P7WLwGPWN9q3zWfKO9qr4iPeO9NH2U/sx/Fn/swOxBg4HCwZpB0gLsgoxB4UFwAVyBvEEKgV8BMUEzAPSAg8FsATlAlP/6f1o/ub8D/kl94T5o/pk+XP47frW/aL9d/zQ/Pj+Tv19+238Z/6l/0H9Hf4GAHoBigAY/6UAoQCt//79JQCVAdP/7P1b/sgBBAJA/+P93ABNARMAz/8L/2AAWf/6/Yr/ngBz/sD93f+z/4n/Iv9H/p/+gv7e/M79yP/w/lL+fvwR/ZT/Vf7i/Az9e/6l/oz9W/5b/6z/wP6h/Zv+af8Z/1P+SP7b/9H/Pv4YAJL/xwGaDYATRxTxE2oVGRp8HHUYcxFWEEwNQAtMDDYJhQYTBTn/Qv+rAiH80/a18xTvmu4I8EXtfO2F7/DsrfGa+Fn4O/lD+Zb4Jf4q/iH70P4W/7z9MAEfBT8GlQgLB2AFtAq2CDYEcgNMALH/HABM/dr9mP8v/cv9nwD+ACwAfP/g/Xr+AQA5/Dr8Xf0B/JD9ff2r/oAAwv+2/pr/SQC5/jT+7v3E/XD+wP1A/eH/GgCX/r7+Vf4AABoA8P1p/fD+BQCU/n//UQA6AP4AXQC/AeEBUv/Q/3IBNgEx/6f9jP7D/+v/cv7x/fT/sf4P/Sr+WP9QALX9/fsD/iAAD/+v/En9c/0o/mH+CP5J/53/LP+I/4//Qf/q/4X+4P1l/sr9qv5mALb/FP6D/8EAuwBnALf9jv97ATD+nwajEyMY+hdbFEsWPR88HkQSfAtLCC8G9QVwAbf9uP8C/Uv5/Pzb+Qn0v/H761frIe4U7nnwafSd9kn9bwWaBy0JbwgSBjQHOQfDAyUBIACG/7kBYAOqA+0C8f8v/bL8QP0S+ZvyM+8G8Vv07vS39Xr4nP3sAPgCqAaqBxoGcQWYBSwGYQamBKMDEgUmBcUEqwUpBZEC0f5m+2H7X/xg+Nn08PTs9v35mvpo+d36n/5x/3YAaQGiAeICMwJJAqUEcwWpA9oD1QTMBCwFWgIj/6v/Of+8/o7+9ftZ+t355Pmw+jv7S/oA+lj7CvwH/r3/kP9NANT/LwBoA/8CogCQ/6YANQNpAy8BPf/rAOABmwCM/w79HfzX/Cn7H/tY/AT8Yv0p/SD8H/5AAtcBbP62/f/9NgDuAd3/uv6qATEAYQkJHV8kvCEZGP0UYB7oH5cPcf/H+Gn2cPnT+X/1QvXZ8nDwWvbk9hrxIuyL523pifKB+90AWQTRBycP7Bt2IXAcShYNECANsAooBgwBEvtQ9TzypPX29ivxxepQ5mfl7uc+6LznVukm7an0Af/uBzgL7A29EpUW1BipFjYSChGODrgKbgjHBVsCV/+C+z72b/Sq8Rfu5u357N3sSPAO80D12/kw/VQAIASeBhsJowvLC70LbQ6tDv8NXwwNCUkIkAaqAW/93fqm93j28PQu83bz9fTJ91D6/voM+DH4Nft7/iIAqf7y/6gFWgmcB/sFFQYvBzAFGQFW/74A0P+V/KP8TPwp/W39Af1q/RX9xvvF+h77UPrp+27+8f0I/Qb+0ABWA4MCUQD+APgBngHHAWEDDwO8/xv9ov3YASMCBv4x/Br/aQAJAAkNMx9YJr8doxHTFDIenReXAgDzGO9C83n2VfPM7/HuNO718SD2t/Pk8mjzFvZG/BQDeQodEkwXfxizHGMffBlYD0IHnQTyAav4YPAd8dLzM/JR7dbquOsU7d7szuwj7tTtWvCw93ABBwnmC98MYRBGFv8XfRRBDQkHuAOqApYChgA5+x/1BvRe9nX3G/Sz7xTvGPOn+GD82v0f/3QDsgljDgYNsQnhCNIJEgmBA5P+8v1s/+3+qfvo+jf91f1p+/74qPoe/Qz9DPxC/bUAMgMuBG0E8wS8BEYE5QREBFABpf3n+ir8PP4A/XL53/WQ90f9vf8e/X75APp6/8QC8AHt/5j/0gFKBDQGZwV3A9ABawGMASUALf6o/ET8l/v4+sH7Nf2r/cD8Yvz1/Zv+dfwO+yn99QBTAkgB/QDiAj4EUQSQBUsG0gIi/u39DgFMAvX6u/uwD3YiOCMBEpwIHhGJFo0KmPep7uvuL/LK9c74cfev8TLxNfycBdgASfZt9AT/8QkzDdINqRB/FIkVqhT1EEcHQf2/+Hv4TPb972Xt+fKI+OH3sfYY+o/+4P1f+W/2K/i3+mP8wwBPBLEGHAirCIwJEQfCAXb9Kfsz+c/27PWp+Fn8cf7l/qAApAN0A/gAUP0x/BP+PP85AVkDsAXXBpIEagOYBGYFkQAv9+3zIviD/OD7ZPnZ+zcB6wObBD8FYAT+AOX/9gKLBQUE9/9bANUC9wERAPv/WQDX/Ur61vk8/LL9uPz6+qL7B/4HAQ0DGAGV/qP+0AF9A60A4P5X/28A1P9o/Yn9lv4f/ib+gv/fAJb/3vx0/AL+DP+u/l/+UP/yAOMCogMPAuX+g/03AJQBa/7w+az5pP5vAWMA9/7t/mgA4gDxAPEAWP9z/Qz9gv7hAP0ArABIAiYCrQiZGAgjHx4nDWUFQQ/7EjMCHe5G6z31mfoE+H309fMS9af2XPzs/mD4t/Wy/YwL4xRxFB0Uexf8F8ASIQs9A6X6EfNL7xbw4fB/723vZvUI/Zv+mP1n/I/8p/5w/lP/LQMcBfYGkQkxCgwK9wZiAMj74Pg39pPzIfEn8774Zvzq++b84QC/AQwA6P5bAGQCWAHHAJYFrAr6CXgHnwVxBPAC3f4x+w75xfa+9bD3vPrW+sr6BP26/xACJQFwAK8C3wMNA2wEHgguCQUHxAJCAtkEUANs/rb5KvgT+AL5tPvB/DH7GPqL/AIB7AGV/oH+5AKmBWMFKwOlAc0CjALtAEIAYf2h+oX7hv07/mH8qPmP+4D/Sv9K/vP9yf0g/0MBnwKaAgwBvP8VA/oEZQGD/pb9hf6x/3/+gP2T/UH9b/3i/YH9Kvxv/M79AgBAA64DIgK0/1X/ZQFCA/YARP70CtkfBCinG5wIigXkDaIKKvj96e3p1fAQ9kT3o/hO+sv6Av/4BOsDEf6I/RgGnQ5qDXsHgwnCEZgSeAq1ANH5NvXq8eDxzvOr8inwvPYvBK4JiwR2/y8CkweuBSMAOv+0/37+iP6HAFAAm/yN+cn65/wH+fnz5/UU/YACxwEv/x0BOQX/BGYBVP9M/7L+Lf1f/Y7/0wDHALIBpwL7ADT+N/65/2D/Cf7s/Vf/vv/m/qD/igEeATj+PP0Y/wIAgv6N/VUAtAQjBK7/BP/jAtwFbgM7/hD9If9z/9r+Fv82/i/8dvsc/n8BmAB5/YX9agDuAVQBWQCS/zP+ZPzn/YcC3gMW/276hvsW/8f/Z/6q//0BmgCp/b/+qwGmAJ78xvpZ/QkAMACOAKkB9gBM/+b/aAFI/4H6jfkF/ikCcgE+/wAA7wDTAPoAuQHdAMr7oPgK/HYJhRywJeoejxDFCdwMaQ13A2X1te0R7Y3vfvQY+lH9dPsr+FX7iQHtBJICcf6UAHoIJRDNEcwOYQqAB/gF9AHF/Jf3efKC8C7zn/ga/Tv9+/oq/CIBpQSHBF4BrP5d/8UBUwPgAbn9Wfqw+wH/b//H+zL4Ovpa/s7+wPw1/Vn/v/8Y/5sA2gMOA1X+IP02AfQDiQJj/6T+QQDJADUAXv95/kP+bwA6AjkAw/u8+RP9SwCB/mj7Cf1GAmgEAQLM/2sB5QNTAj0A8ADYAm0CVf8+/nP/wv9F/R/9NgAWAD/8Avnx+wIBiwBM/fb9LAKDAuD+u/2mAOkClP+2+639GAFUAYr/1P2n/a/9JP0f/9MBcv+u+sT64wAjB/sEz/wp+gP/mwNDAjL93Pru+nj7pf/SBdkGCP/A9436wQLmBcIBm/sw+tsKWCbuMh8k5AeS/6ALOxBjAQPt3OVV6Nvu3fjTAJ/+BPON8UP/RAuXCB79ivouA38OJBSrEpEMxgOdARIGGgg0AbfzTO2z8pD6evvw9gz0Ffag+Rv8g/9KAJH95f1UBWkN4gvkAUT7Jf6XAScAiv4w/uv8rvoz+7v+Q/1j9wz3/P2AA78A5Pzq/q8D7gTAA4EEJQX8AxgB4gDIAj0BTf2z+rH7iv0p/X76q/jd+Hv6Ev7pALIBIgE+AsUFcweJBRoC/gD4AZwCCwLi/xn+4/yP/CH9Svzt+jP6c/tI/bH+cgABAOz9/fz3/qYCWgRRAon/gv+yAYICt/8H/Kv73/7FADgAuP2i+uP6s/yM/jUB0wKPAab/5f8BAT0Ba/6l+7T8Gf/LAX8CIwC7/Ab9g/9kBLcTgSIBJRMcpQ+KC2UK0gDB8yLtxuzI8ET2bfq9+3P3YfSj+jQDdQOs/1//awVKDwcVNxbfEqQKzwNYA1MC2PqP8qXtcO/P80z0ffMk8tjwC/Sy+oD/RQEuAkUF8wpeDt0MxAsTCUIDAwFiAWEBI/4f+LT03/V9+CT6sfuW+zz76fyU/osADAO9BHwFkQQGA84DGQVZA78Avv8D/9H9IvwN+z38O/zE+eb5jfyB/tX+a/60/8wBiQFiAD8B+gLiAvYBDgLIAYn/A/zG+z8AKgKj/qP7n/tw/b/+Dv0p/YwAwABe/q39u//yAawAbv7R/nYATwBC/zcAfwEwAD7+yP5CAMv/u/2G/MH9Z/0s/EP+gAGuAYP91/sqAKIEMgGOAgYVDik2LNYZawaLAYIEAwI3+ejxNu2v7of17/7dAeb5Y/JZ9Q//nAR9BIsEugk9D3kS7hNjEj0NtAR0/cv3j/Ku7QLr3eqo62rsQO9b9TT5jPrH+yYAvwZCDWMRQBJ4Em0QNw/vDLgHJQGZ+8f5sfgs9zr0Q/LY8AjxGPRx+ET96f7D/lX/0AKaB94Kdwu1CSIIAQfLBq4FFwJx/Iv36/aS+F/4G/YI88rykPZO+o/95v5j/0kAgwJ+BjsIpQeuBZEFqgYZBh4EaQG8/yz+2PzL+4v68/cN9eP17vnd/ev+I/3H/AL/tgHSA+EDVgPjA/IE4QQcAv/+iP4x/93+R/7o/fP6gPc59w/71f9i/pEDVBklL1QwgBv+BsEE+wu8CVb+ifNN72by2vYw9z70dvD17zv2Hvwz/isBfAYTDUQThxVaE9MOpAYN/gL6iPdX9ODwkewT6xnuYfFM9MH2Rvdi+Uv/iAZdDV4RcxFoEW0RRg9UDMQIUQQr/yX5bvU49vX2RPQZ8afwYfMv97n5QPxv/wICuwTpB7YJ5ghrB3AHVgfyBPQApv0Z+wT5Xvi9+Kf5Q/gu9Ibzivc4/UQBbP9E/NX+bwVTCzEMtwZTAjwDowVZB9gDmfy5+Ln51fvw+yX5X/Y5+N76vfy+/tL9F/wt/Z8AowXkBzQEDwAdAQ8D0wIRASn/rwDM/uj5z/b+/CEUASs7Ld0a3wdYBJ0Ljwvb/Rbxr+/+9oT+mv8i/L/4OPdW+sb+jP4C/FT8CQAsBqALGQtdBqD+xvYj9ur5kPuk+Lfzg/Ne+cL+3f9X/qT8vv5DA+8FigZ4BgkFwAONBNsE9wRbAjX9qfoi/FL/s//2/Jr51flQ/WL/f//A/Z78GP4+/2cA9gDo/m/8X/vw/PX/ogEe/wj74Pkt/DECkgX4AW78rPvmAF8E8ADy+6P80gBaASX/Z/47/zAAr/5b/qYB2ABZ/N/5Zvy8AUMDswD3/En8B/4eAJYALP2r+k/8GAF+BE4B4/uI+s/9jAEiAJv97vnS/UYWSzSUPuQoCAnT/HkFkAu//+/ux+bM7Hn5twF5BDj9YPGC8LH5//9f/TH3a/dOAbwMSBKYEMwFnvmy9tD7HQHJ/UP0XvEN+In+/f8N/oj61fc++K7+4AezCy8ImwQ9B6oMywwNBYf9zvv3/F/+kf7P/H35dvfj+AP7o/oC+HD2Jvih+1H+V//v/3UATwHkAhwDfgGX/2P/JAHaAhkD/wHp/xD+RP4i/sr7GfnM+Iz8hQC3AO/+a/5KAOQBFgENABH/Af69/0MDzQOp/636z/kS/c3/Bv9T/Lf7yv2u/8r+nvxF+5j6pP21/mUEkBxFNhw6bST2C0gIJg9hCev2a+gI6GjzEPvp+cz3ffFA7b7xufZY+//93f+eBD8JmA5FFHoTugcn/BL7tQDRA3H6t+6G7ob0mPhd97fzk/Jj9S78gQahDnYOHQzYDKIOWw/OClkERAAN/Ej6zfv0++T4OPXq8/H0Jvbr9IjzKPXU+HL9ygGpBDkG0AYXB4EGCgTOAasBPwIKASP/dP3U/OX9ofxj+Vr4bfkw+4X74vpv/ZsBYAN5Az8DHAK/AoACMAFjAeP/pf7P/Wn+jP+n/bn5p/gF/Mj9Tvxh+u/4GvxYAKcDpRTWLJE1tieAEQgIxAxoDaD/4/By6ozukfie+sv2c+/B52/rWPZa/Cz9MwAaBycRbxeIFKUPqwg4AZQBNQMH/9v3wPA58T/4W/jk8WLuk++29qD/KgRmCA8LVwu/DloQDQzPBdIAjAAiAycBHftV9r/zIfSh9u32dvT68a3y2PioACkEpQMFAyYElAZtCAwIowW1AtQBBQNNAgD+U/lk9zX4+/mI+kH50fh1+qH9sQAfAOn+jABYA0cEBwOuAg4EVwRlAQf+sPwt/Yf90ftU+tj6svqo+3n8ff4OAAz+qAlrInM0Hi82FskFdggXDYIDyPLD6cPuEfmk+xv5Y/M27gDx+PaP+vv60ftoAnUMJBNbFBURRgrKApD/TQBf/2T5ffHx8Dv22fi09sTz1/WF+rr9GQBFBF0IGAnHCPoI3An1CJkEiQD9/uH+Bf54+jL1YPKL8yz3ifrl+ZX3h/ktAOsFqwYSA2UBHgT1Bt8H2AWgAkP/pvwU/SD/1/1l+Nj04/ZF/Iz+s/wt+zX83v+IAisDngP7AqQBpAF2Aj4CBQGc/uf84fzi/Iv9+fzl+mP5Uft6/mIA7P6l/AsM/ihTOEUrYxCWAvgG5wrm/wDxCuls66b1cPwT/Qv3HO6d7/v60AHc/738kgBwCz4UWRWXENgG5/wL/P8ApgDi9snsMu4T95n85voi+Pv3VfkH/f8CXwmNCVwFlgVBCncLmAUq/5v8H/1J/f36NviV9VT1Ovg6+3P8ivuk+/f9cwFoBNYFDwagBCAEZQTcA5UBZP4q/Qr9Jvyg+nX6vPr5+p/7FPzF/E/9w/7TAOAB1QFZAssDhwOxAcj/qv/2/1n+u/za+1T88PzQ/Sj+rP2f/CD8Gv72/0sB8v5xBnYe+zEOLxEYrgYyBtoJHADf7xzpVeyw9QL5/vjm+Dv0YfKH9379xf5m/0EC+wmjEmIUHxLkClQAbPtt/H/8svdf8I3uCfVl+uv6MPtI+gz5mvuwAcUIHAvUBokFfQq4DH8IkADh+ur6x/uN+uj4lvY+9HT2Mfvj/cD9MvsD/IYANgTOBXcFqwTMBNQFTAVdA6X/MPvj+eD6W/yt/Bv7TvkS+r38uP7M/mj9Yf52AZQDUAOBAnsCTwKfASMADwAN/5H8IvvU+5f9uP2f/IT7O/2j/vz/0/91/xH/9v/uEX8qbTNhIroKcQTLCaAJW/ii6XDoXfHz+XD5pPhH9TXyg/R0+zL/sf0h/48EIw5FFQgWiBAMBSb8q/y+/m/6hPFR7Krxhvkr/Nr6Mfow+lb7d/+EBIkIhwdXBtgIOws6CpgFXAD0+4b6zPqw+iv40vOK8xL4jfwH/TT7dPvy/gcDQAUWBp8FEQTMA80ERwXgAvn9CPuO+4X9Kv2l+n/4Tvj3+pr92v4e/kb9Qf+LAt4EFwTHAZ0AegGLAqkBMf9u/N/7Gv0m/nT9//tL+2X8p/1y/gP/5f7h/9f+ngh8IpU0jyxYEnUDQwiKDSIBOe2m5+rumviO+bX2gfYu8zTy0/dm/ob+GP1IAUgK9BMIFi0S4wnP/wn9k/7t/LT1aO4i76j2F/uV+Xj5t/ol/JL+bgEkBZMGzAYFCSULAgqxBkADNP8L/H/65/kb+Sz2W/SM9vf5gvtW++L7I/4cAbQC+AMaBVkFlQVJBXgEgwIvADv++Pwk/D374vp1+j76ovqF+4381v26/qH+yv8tAg4E9AMnAmcBawHzALT/jP4W/l79jfzP+6D8N/3I/Hf8I/2E/sr+8v/N/nYGoh4kM+UvDxfwBT8JbA65AvnuiOij7iL3Ovib9qL3M/TG8Wf2Vf2h/mL8I//jB5sRqBU/ExoLswBv/Xf/Ef799sXuPe939n76Hvrs+fH6y/pW/AcB2AXlBocFSAfvCVAKxAduA1j/J/wk+wD70fmx9nb0jfZW+tz7d/ua+wf9bP8EAr4ExgV5BJQDcwR3BQ8EZQDz/C78Iv3z/Fr7/vnc+dr6N/zu/H/99v1b/ur/pwE3A2QDGQJRAaQA0wB0ALP/i/2s+4f8rf2C/kn8jftp/Bb+wf6i/gn/V/+qEHMqbzV8J3sOLQejDAILLPo+67rqpPFY+Df45Pip9ujwYvNG+pr++vxz/CMC1wqBEpAUqw9qBK38Af80Aen7L/IO7vrzZPmb+W/5sft2/CD7f/3XAvAGYQZ8BfwHuAnXCHUFiQF8/ZD6sfrs+jj5DfZe9dj49/sv/BX76/up/hEBxAL5A98EzwRNBFsEXAP6APb+7/14/Tv82/pU+sX6d/vL+7H8Iv1+/VT+d/9KASIC1gHoAT4ChAFDAOL/N/9y/gj93/y4/dH8OPxQ/Jb93f2X/Wj9pP/O/3EBrxZlMHs1SyFMCu0IPhCJCYH1YelO7DL1RPlZ9t/2+vXu8pP2aPv3/Mr8OP5JBCAMURG+EjcNEwKE/O3/1ACn+b/wF+9k9jT66/d1+ID7Bf0e/dH+TQOHBjkG8AZsCekILQY9BH8B0f2q+gT6f/qZ+Mb18vVf+RX7VvuQ+yv9y/9hAK4BswNMBaQF2wT8AzgC6gAv/6H9m/xw+637WfvD+sj6mPuF/cf96/wJ/Tb/XAI2A9IBuQByAbkCpwEw/7795f3l/fz8o/zc/Dr9W/y//Lj9yf6o/nX+3f5R/p0NwikIOcIr0RD2Bs4N1Q6K/YPrmOna8VD5UvgK9hX1z/Ee9Q38eP3W+p36EwI1CycRbBLRDioGIv1N/tUBHf0g8j3smvN1+8v55/VZ+Mf8C/4V/zwCGQYUBr4FXQk5C8gHWAOOAXEAhf1x+vH5bPnn9UD0tvdJ+437f/l5+pL/yQJnAsQBawP+BCkFcQR/Az8C4f+M/iT+uPwE+4f66/o1+1T71vut/CD9dP0F/x4B8QHuAZwBEwIFArsAHAAKAOj+4PyL/MP9If4//PX6HfxQ/of+Bv5C/fb+PwBv/zEQnyyJOUoqFRDnBgYOlA76/CDsC+pK86v6n/be8lHz6/O19z76JPm9+Wr+qgTGCSwOuhA4D2IHPP/E/s3/bfvj8nXvzvT9+A33zvTc+BD+Tf+R/0MBagTsBjYJXgo8CF0ENwPiBHwDzf3/+Iv4oPlj+CD2cfZf+OX4YPlg/CwAFAKPAekAkgLHBM4FEQX7Am8B6gB/APD+1Pw1++X6Gvub+gr77PtE/ET86fwz/38BjwE/AKMAjwIwA68BBgB//37/O/6S/Pr7Pf31/U/9C/yA+zb9O/4E/wH+Wf81/8gD0hqEM5s3DiH0CWQI9Q9hCS72Sez27mP22vil9eH0K/Ow8p33TfvE+Rj5PP/JBnUM8A4qD/QMKQXn/un+AP9T+R7ySPHT9Yj4ufVH9Rj6ev2a/7YBCQRsBQEGcwg6C3oJnwMXAeMCyQKA/rP5V/gc+Jj2ePYh+P34FPi8+DL8YwB/AhIC0QGfAlMEiQWqBMYBWADHAZ8CXABU+z34Qfo6/Z39G/sN+YL6r/2s/3D/xv5k/9UBhQNfAh0BAgDW/9gA6f9c/uX83vza/I/8RPxM/DX9zfwN/Vn+AADU/3gADf7wA1MhgDzzOEUaugL8B9MTSQlb8dvoYu/y9w77JPbe88DwsPC8+tv/N/og9Qn8swisEQcS4gx4Cd4D//+MASkAg/e67VDuJ/ef+1r2GvJM99b9JwEIA6EEOwUpBfcHRg3BDRsGv//kAIIDfwFF+0z2SvXl9af2H/gp+On1aPbM+wcCigMzADv+VQEJBrIHlQWQAkEBiAFLArUB5/52+lH4B/r5+1r8avqX+Qb8qf7S/1D/cP9OABoBjgKrA3sD0gAJ/mH+//+JAHb9u/pM+5b8xvwL/PD8f/14/VH9DP+B/1IAsf5+AIIZRTp7Qm4mtwZuA9EQqw+p9+nlO+dS8hj9tP1T+JfuNurQ9TABJ/4R9O/2ogVbEYsU/w8QC94EEP+fAEcDXvx17gPq2fOC/eH6ZPKe8nr5CP4SAAED5wYACCoITwydEbMOuQWLANH/fP/o/Nn4wvXv80P0e/e2+Xj3hPP29K37aQG3ARD/cP/NA50Imwk0Bn8CNAI2A5IC4P8g/HX5o/nG+9n8e/sq+eT4b/tE/nz/vP4r/ssAiASYBY0DdQBo/24B2QEg/x38Sfsn/SX+F/1o+x37Y/ta+638MP47/ln+zP6OAgQDDQTqGSo43UE3KgcNGwcIDloKoPag6dfp1e9X9mD4dPZX7inqTvOu/VL9HPfV+sMH7RBKEbUNjwy4CaUEQwGeAD/98/Ig7E7w1/cb98zxifIY+Fz9Hv/OAToH3gpdDZgO+w/IDYAJswZXA0T/lvmA9/b2z/RY8wnzt/OE9MP1Yfdd+bD7a/34/8gCBgWLBy4IkQcFBjMF6gTMAqP/2f1l/Un7YPnW+Dv5Ovp2+sP6vvua/SH/Tv/PABYCVwNDBPcD+QPVAc4AbQD1/ob76/ht+i/9hP8j/dD5fPnQ+zH9o/zH/E3/nQDNAL8B8gKGFawz4UGiMV4UDwlQD4EQSf9n6/vkrup38033IvUS7snoGO8B/G//R/kK+CYC2Q2IEgYR6gu7B1oFxgVKBu3/8PNA7IHw5vjR97zuIOxf9IT+YAKGARcCfgfGDqkSyBKIDkwJjAeUCEIG1/3o9RLzBvWx9avzu/FS8MbxVfXx+PX6Zfu3+9z+2gRQCGEHVwW+BSQImAkoBykCR/7Q/Mj8+/si+vf4Efm/+dH6Vvz6/FP81PzO/iQC0QMCAy8DPAOhAjwCUAMKA2z+l/kA+Sf9tv6t+gj4/vkM/i7+Ffxi+h36avzbAKQFIAX8Ajr/QgXJIRZAa0LUJmELiQgdEn8MrPia5xPhFOYw8Xr3QPTk6k3onfaqBEYB7/Wg9dgDyhH8FMIQZwtXBc4ByQQuBon+3PD56dvxtvv697/sZevK9bn+rAGKBHsIfQsbD84U+BY3EOYFDgJyBYcGkv8m9hbymPRu9yv2QfJQ7nXs9u4W9pz7H/x7++D+pAXjCnQK8wW/AxQFKQdVB5EFKwFz/Kr6B/1RAHf9p/cf9nv5D/2J/dj7nPt5/sEBaAN3Az4DKQMwAy0EEgTxAD78RfrC/Ab/VP3c+BP2sPfO/Pb+4vwU+9P70v3U//ABwQHrAS4AkgF6A3cFUBuwOOVAnCujD74GBA9RD/77vOxM6PLoIvD593z6rfR56+Luhv0TAEH2CPRt/8gNahLyC7cFgQPX/wEA7ALE/on20fF29Q39w/y+9Ezxl/aP+3/9IP+OAowIvwxmD5kRFQ/LCGkG4gjTCD4DUvzu+BP6O/p89rvyi/BG8ObwTPKZ9SP58vpY/L//8AKCA/gBVAGWA8EG3AbZBKgDhgIrAsoA7v5h/rz8lvpk+bX5TftZ/pIAAQGyAAf/u/5yAPoBTgFL/xD/EQMSBlUCovyx+mL9c/4j+zT4b/ms+9j6mvoV/GL+CADU/5v/wf5e/ub+wgFOA9cD7AKVARASTy2MOk0tVBSqCNAMPRDEBMr1h+3h7GT0j/xI/eHzpupF8DUAJQTM+ADy2PjyBqENDAl7AcP86vsT/oEBiP3O9N/vePM4/jEDtf7y+KT6bQC6AzsDNP9j/hoDzQpTD8oL3gVIBHYHxAj/BE3+2fmZ+Yj5JPvi+6r3fvPT9ez7s/zS+E32PvjC/D7+I/4k/1f/uP5+/28CXQP7/2f9XgCIBCsDmP/l/o8AkwH6/1D+Jv9kAOn/2f7o/pv/KABoANr/oP/D/nD9aP67/8L+mf2j/AX95/7J/Tf8J/1A/2z9Yfpj+wn+eP9r/kT/ogDI/4X9MP6MAHoAH/6V/YwAUAMME8ctrjrfLMASNAelDA4QJwQP9fTwTvSq9zL62fuX9/DwIvBg93P+sP3G+tb9DwZ6C4kJ0AO2AMH+a/oy+C732/Of79zu/fWZ/uT+Z/l0+rIClwcJBlwD9wVkC6oL5wc+B3wIQAYnAqH/6/6S/Sn6C/iB+tb9XPxO+cD5gPx8/nT+nf0g/Yv84fsi/qUABf8+/NH7Vv5G/978dvvq/K/9BP0g/lEAwgHHAPn+4wCtBBAEvAAKAfsCZgLd/zr+GP9/AHcAKP54/aL9F/y0/CP+Yv6r/Br86/1z/z7/kf0r/yABUP8c/LP8XgDoAGj9YfoY/WwAegEzAL7+TP7P/HD8Ef7gAYX/pgZ6Iyg8WTioG60FuQWRDtcJpPgv7yjuLvAa91T/s/4q85bs5/aiBOUDjfkd+n4JqxWOE60KEwRz/0n5gPVD9rrz++oR5mbuJvt2/LDzXPKQ/HUFPAZyBo4KSw6vD0UOww2mCmkC3/xX/68Di/9H94L0B/h9++b6Vvl/+IP4SPttAbkGTgUgAMz+WwN3BrMCuvxV+t771vwH/Sj8mPn79y35Cv3j/sj8ePpr/LcByAROBV8D6wAcAsMDzwRuBJMBkv7R/isBzf/g/ev7NfoJ/Bv8M/t5/ET+Xf9D/3X/Vf/7/wf/jv6lAZMBPQBP/8v9kf23/qT+Uv2t/PP5JPps/isDkgRP/3H6sPonAPsBYQiCHUcwHDSQIvkLSgStBRYET/oQ8njtV+xw8l/7/QEe/kP2IfgRAIEEdASBBtsMYxPKEq8LYAgzBaj9TvhA9qvyIurw4jblQu/v83Pw3fD8+NYBZAWDBxQMJRBbDzAOxBABEFcIeAAIAPgBKf5/97T0vPXN9KTzePZ1+5f8HPru/HAFvgqIBgoBqAOSCb0J0wOI/kb9rP55/qP8pvkE9VzykPRC+Zj7u/kQ+Oj7YAJMBUAEFAMFA7wDYAX9BnUHtgRI/2P9Rf/4APP/o/ye+gn63Pm7+Nj5zvxo/hj/Wv9c/xQBywOMAxkDMQEYAJwBiAH3/yD9xfo6+iL8qf2p/Jb6hPmB+ysAYwIw/2P8UP1NAIYFbQVIA74QsSbUM5ktZxcUBkAEmAa0/x30menP5Nnr8vQD+pP7RfbQ9D7/ngeGB5UGogiiECYZDRn+EwISJQ0XAmT4N+/n6Bbm1+IU5C3qyevF6mTv+vaC/9YEtwb8CusQcRQKFUoWTBVhEOYJPgMw/yX85PXk7yruGO8O8VjxE/Ly8xH4G/7UAVYFkwaJCHsMgA6MDrYLpwjTBRADNP/f+mn4SvW/8sfyOfMO9KT0q/TY9gT7E/+3AoIFAgeRB+wHXAgcCRgJrAb6BN0DkwEE/oP5h/ev97P2vfU49j73SPkJ/M//PwP8A5gB//91AoUFNweBBogDTwJZAioBEf9v/Gb5Tveb95f45Pm2+qL6Uvtg/W7/8ACHAQ0C7wJFBOgDtwNzEcUm4zKMLr0aRQjUAzQE2v8l+LHtOOd+6kbzFvri9yvvi+3k98QCgAViBLIG1g9qGVwb7RZ/EcYM6wjcBp4BrvaB6vbjzeaP7HbqM+S24frlT/H0+78BmAU2CvgPahc+G6UY+RJhDwgQ8g9OCowAkPhu9C/zLvBU6gvmt+ae6+vxfPes+5/9oQFFCXwOAhGlD+EMuA1UECoQ3QvGBCr9DPjC9EzyLe9066bpDuva7y31xflq/UsApwS9CF0LzgzpDXQO6A1aDOIHnwTyAWr/s/03+pD2ufK/8PfwUPIj9NT1xfcx/EEBigQYB3gHAggrCc4Jzgl/CB4FWwHu/rn8pPsu+h74pvZO9RH19fV395H6JP0R/1EBSwLeAtICGQQKBUAL4R1aML42tC2QGXQICgI//9L5ofKG6m7mkOpa8e70gvOp7wDye/pG/3cAlAMMCmUS3BgfGwQamBfgEYQKvgVL/+71mO2y6EDo1+bl4uvgS+Mi6rrw5PYC/RIDkgnnD4QWPxi+FYwT3xOkFa4TugxEBAH+lvn59D7wAuza50zmZ+ih7O/wW/M098z9agWpCxEP5BDHEWkSYxLnEL0NCgmxA2T/Qvtz9a7vxevn6tfrVe0+7+Tx7fWB+m//qwPTB7ELNg5dENEQqg70DC4MqwlyBDj+oPlt9x/3NfWC8i/x3u8B8az0e/hc+6r9GwDSAw8ICwpIChAKLwm7B/8GxgU1A14Aov1q+9z4P/ba9L/08PS49QT3gPi3+0D/6wE0A/MD6QMMBscHJAn0F9wrEzXCLr4cqQwSBscCC/ug8g7sBOhy6tPwNPTA8iTwMfID+jP+Ovth/AoFjxA2G8wdfhnPFYMR2Aw4CoQDN/h67mXqIeyf75fsleW541vlY+oI8dP2d/1nBWwLSxCDFAcU2RIwFHQUFRKcDAUFHQC4/h787fcM9JzuVOvw68rsV+707+nxqPe0/2gG5wrsDCgNVg47EE0P7QzECH4EYAOaAhgAavu/9azwjO+t8D/wF/DL8O3z9/mb//kCMAVhB3sJFgzZDDULyAlRCJ8GlQU/BK0ASP3e+X/2FPVl84XywvMy9hP4u/nq+4r+wwHFA1IFHAYaBh0GLweKCMMGKgMyAN7+o/4z/3793/nH9pz01fVM+HD6K/vM+0P9pv87Ak8DtAOmBHYFYgS5DcUgYC5/L6ki/hIECr0GnAI1+x/yeOkl50XtDfX39v7yEPA39Kz5pvvS++r+KgdMEBkYbRo0GAgUAQ/NCxMHHv//9QHvc+4s8nzyG+2P6PjozOvw77Lz+fWY+pABiAg5DhoQQQ+NDwoSlxKsDgkIuQHj/vb9Mfz1+J30/vDl8Gz0hvaZ9ADyDPM++RMBHQajB+QGFAcSCmEMJAxCCZMEfAKMAyAE1gFe/bH4//X29c71QvTT8kzzo/bW+8kA7QPdBNMEQgX+BvAH3QXwAgQCvgOcBX0FDwMOACH+ufvp+PH1dfPQ8xX30vv1/qr+tP3J/jQBigPDBAAD7QD4AV8DIATsA38CQgHCAG8AT/7w+tv3mfeb+u39jP4Y/Kz66fvc/hwCtAI2AE/+Ev//AZIEsQSHAa0EMhYnKFcuFCYaFb8HjgJ2AWT/K/mc78Hqwe4v+MP+Hvyo9dX0ffg/+vL5ifkO/oMHUhDaFKgSWg1CCd4HbwcnA0T64PLf8pD4Cv3g+/b20fPS9LL2Pvgz+HP3zvna/QAD9gbYBTEDngTRB40HXgPI/Qv75PuF/eD9//yy+tn5AP2YAOoBXv8d/FX8w/80AiMBa/9A/if/BAIuBFsEGQJa/1T/SgHaAdf/4Pyx+6D8Cv9IAG7/EP8H/zT/fv8tAGMA5v95/5L/uwAtAQABOgBA/wj/Rf8e/2P+Tv25/H79/P7NAFQAsP7J/Vv96v1i/mv+r/0C/qD+y//zAGL/q//PAE0ADQBa/rb8Bv46/7n/iwCUADj/wv1P/pv/tQBK/w394f2B/kP+X/+zAKUBRgCD/Jr89f+wAYH/x/1b/bMAWBEKIpIqpyg5GeMMSAlQBhkBWPq88mXxMfYC+1j/ev3C9kn0Bvee+CP42/dk+vAAPwfdCmILhgzNDKoIBAVbADv7F/zK/Tz/4QC8/Nv4qfpr/Vf+IP6k+nH42vue/dz+d/+3/Er7zPwV/vD9df0s+0b7J/4b/2H9k/su+5f7A//DAM//lv9G/wABZgWeBlQDqgGIABEAXwJvAQL/z/8A/3H/fQLkAIT+cf0a/B/9T/75/GL8Uf7b/0EBKAOjA8ICCwPeAjUCmwITAXH+tf39/ZX9gv5S/q39n/8Y/yj+Ff/y/ZD8jvx2+5v7h/1a/o//0gGjArUBDQEIACr/Gf+m/Uj8tP0b/7P+5P9JAGj+u/7i/Rb93P8QAF7+W/8p/5f+E/9A/iP/RACkAC0AOP/u/0D/6v7i/1f/cf6H/aL8Zf2l/wn/MwWYFDEf9iRVIRQX/xKtD/AJ/QU8ALH4evTr80T3LfkW9Tbx4/Dm9PL3Nvhp/AkBtQQ9COEIVApbC+EHBQYpBbsA+v3O/BP9eAD9/zv8Ofxs/Nf6Tvu0+678U//A/z0BrANkAmr/oP0J/oX9BPtY+Pj2k/jG+Rb4afij+b331vft+az6b/xV/WT+zgPtB34IXQmICdkIwAj1BnQE3gL7///9O/5M/pH9i/uR+hz7WfsB+876+/vk/N7+LgHKArgEsQXfBU8GSwbhA9oBHAFgAKb/Kf7q/Fj8//vr+5L8Xv0n/Kb6vvuY/bf/hgAJAL8AJAEwAeIANwGtAZsAkf8l/9r+QP26+9L7zvxF/bD8R/zB/Jr+pf9TANEBxwFxAHf/TP/1/3j/a/4U/0AAyQCx/rv94v6P/2L/3vzn+6r8/f0e/7L/JP+R//T/HgFsDiUe+SXjJZIcjxLjDakKAgXdANL8/Pb78gD0Lfi6+H/2WfNs87P3uPhx90L6AADoBQsKsAmvCPIHEgZjBN0DGAPSABH/Ev8wAZQBBf/C+j34Evl8+Rz7wvzF/bn/tQEdA2IDcwL4/43+f/6b/Qr6kPZo9pX3vPkX+t73Z/Zs9mD2pfcD+tv6zvyRACsFXwnRCpsJPAldCjYKWghbBXsDtQIHAh4BKP+G/Er5g/fO97j4UPmM+aX6nv3TAbcExgWuBTAFBQX3BL4ErgMQAsYAEAAgAKf/PP7O/F775fqJ+ib6gfrf+wj+Zf+yAFMBRAHdAIEAsQCpAO8AtQAOAY8BGwHf/xv+T/15/PD7gvvI+hv7nfuY/MP+xf+g/wz/HP8VAcgBJQGW/+n+1QABAqsBqwA4/+v+Vf/8/cH8zPo7+uX7Ff7UAHIB9wC7/yQAcwCFB2IV/R6XIyAexRVgEbgOoAuXBhv/xfbT8qbxcfUH+Vz4efb39Gv2wPbD9+P33/no/okDjwmCDJUNPwyoCa4IeAdjBI3/EvvD+XL7vvu0+4/61vkf+9z8Uf6u/oD+wP2L/70BfAIiA7gCGgJkASn/tPva+K72Fvah9a/0LvRQ9A729fdj+nH7PPxF/loACQQNBz8IBggSCFIJ+QooC/0I6gXaAhYBhP/e/YL7H/kI+Oz3O/lu+p/7jvzo/XIAsAJ6BKAE9QMiBNAEfgVgBRgEoAJgAcT/h/6//cz8X/vz+Y75j/re+zv8tPxG/lgASAGuAIEADgLaAzIE9wIUATUAf//H/gD/z/6a/b/7mfqK+9T8lPzY+7T7Av2e/k3/jf9i/zUAHgF1AZkB+gAxAJf/JgBeAFYACACB/rz9C/34/EL9e/w3/Dv9w/7b/4X/Fv80ANUCoATbAx0IEhMTHd4gkRvgEhgNmwqdCH8Eqv/Q+W/0K/Nb9sj7CP5w+2f4iffP92T4KPkf+7T/LQRlBVcFMgdjCaYJCghQBJ0AX/6q/NX8aP4q/979tvtP+1L9HwCdANr/S/9V/7r/gv+0/yEAAQHcAAz/Gv31+kH51Ph9+OL34ve69w34Z/kd+gj6QPqR+639qf/kAJIBzQJBBKAF0wYYB+4GOwbmBAAEOQMqAsEA6P5L/T788vvT+777bPyR/WL+Bv/o/xgBVwKwAsQC+gIeA0oDJAObAtIBGwEkAEz/kf6d/dz8jfy+/BP9PP3a/J/8jv0b/2wAJgFeATsBEQEEAWwBEgKXAev/AP4n/bL9V/55/r/9vvyW/Hv9w/4R/5L+tP0K/SH99P23/+IArADg/5n/jwCXAYsBZgAe/xD+6fxt/BP9Ov5//vb9I/5n/7UAsgD2/7D/LQCcABIAVP/y/pD/DgE7AikE8QgBD6wSmxI7ECwOBA3dCgMHdQMuAXD//f0y/SH+3f8zADH/Vf4//uz+3f9d/xv+UP0F/Wb94v22/qb/AACL/2v/ygBqAt4CeAFp/xz+6P39/r0ALgL/AQYBTQGrApgDtgLHAAn/z/3a/Lv7Svtk+y/7svok+g/6ZvpS+xP8+Ps2/NP8W/0q/Vj8Gvx8/A79of1y/hD/Pf+b/6UATwKNA+ADiwP2AlsCxAFUAaYAGQC4/0v/Nv8d/0n/+v/1AJIBhwEqAR8A8v7B/sr/DQE+AZoAEwDf/wcAugB+AXwBagC7/on9iv1g/iz/gf9c/+3+u/7y/sv/2wBUAe8Auv95/ij+Hf8XABYAXP9c/uT9Hv7E/oH/9f+x/5L+hf1P/Tn+gv/u/2T/Z/7Y/Tf+Jf+5/3f/i/6a/ZT9ZP5a/9L/d//J/oX+Jv8PACoAff+o/nP+6P5//+X/vP8f/7D+Gf8RAJwATAC0/3D/nP/o/1UAqQKVBh8JnghABu0EcwXsBg0I0AcsBuMD9wIwBG4G6wd8B6AFggONAjYDcwSsBPYCkgAb//v+Rf/W/vT9bv3K/Yf+Cv9x/6f/sP/C/+P/DgDy/17/+/5n/3kAhAHqAYkBcQB8/47/HgAIAOv+zP2f/fL9A/6U/Qz98vw6/Yn9iP0k/Z/8TPyE/BH9Uf3M/Mb7RvvA+wD9Kv6C/iT+nv3K/eD+DwBhAKb/jv72/Q7+t/54/8L/kv8u/0H/5v+jAAcB2QCFAIEAwwD8APwA5wACAS4BQQEtAfgAuQCSAMoADQEIAbAAKQDK/5X/3f9SAFAA1v9Q/1//p//G/5T/U/9O/xf/2/6q/pr+rP7R/iP/N//3/rn+//6U/9j/ov9S/zD/z/6B/sH+V/9q/7n+eP7T/vb+rv6c/uv+4f6j/r3+KP9d/xr/uP5T/vj99v2S/mH/u/88/4b+W/6q/iX/Wv86//L+zv7Y/hb/qP8mANH/bABfBMsIGAl3BVgCRgKTBK8HSQnsB9wEhgNDBVcIego+CvAHIQW/AwoEHQXZBewEbQLn/wn/bf+K//L+pf6j/7EAVQAB/4f+Qv/B/3H/vf5d/jn+hv5f/+L/AwA+AIEAUwAFAAgALAAKAGn/d/6k/a39Fv7D/bv8YfxH/fP9w/0J/X78UPw8/Fn8TPwO/I77H/tI+wz8Cf20/ef9lf1d/dv95/6R/yb/SP7S/Rb+wv5l/7X/y//t/ykAggAAAZQBtgFeAQUB9AA7AXEBWwEJAd0ABQEgAUABagFKATUBdwG8AX0BoQD9/93/0f/s/yUABQBt//D+Kv/v/0cAyP8W/9v+J/97/5f/Vv+q/gD+DP4F/8r/sP80/9b+xP7g/jP/df8x/8D+f/5+/oT+dP6E/qn+w/6y/nz+af6y/jT/ff8G/wn+o/0s/sT+w/6W/sb+6f6T/oj+Cf92/z3/xv7m/hn/B//I/uD+h/8uAFsA6f/V/nT+4wEKCDcLEwhWAhIADwL9BTEJOwnUBYECMwMhB+0KwAsXCQ0FrwKaA+8FDwevBY8CCADH/8UAlAA4/5f+a/+JABEBrwBA/xX+4v6AAH0A4/6I/XH9Dv5Z/yQB5gEGAX3/6/7p/50BiAJ7ASz/Q/0A/RH+9/6B/v38P/zQ/LT9xv1V/TD90fw0/N378/ux++n6r/pa+1r8B/1V/SH9pfzA/Kv9xf4F/0b+gf10/Sf++f6C/+D/5P+d/4X/HwA2AeYB9wGeASMBwQDwAIsBhwELAekAUwGkAW0BLAE9AZ0BtQFdAfIAjAAwANn/+f9OAAkAZv8k/1r/g//a/2oAfwDN//X+x/7w/hb/a//E/2P/mf5u/gf/3f8MAJL/C/+p/qP+/P5M/0D/uv5j/qL+u/5p/mL+rP6k/nn+nP7M/n/+Kv5Y/qD+cf4S/hf+Ov5s/sb+8P6f/iz+Yv4J/2r/Mv+f/lD+ev71/mP/qv+p/y3/0v4X/9D/UgDn/wkBWQUTCZgIvgT4AWcC0gSZB68I/QZLBL4D/wXFCNsJ9gjMBoAEeQPSBAIHpgYzA6X/9f4TAE0An/91/9v/+/8nAFEA4v9Y/6j/agDw/57+K/7w/tb/EgAvAJ4A+gDjABMB0QE+Ar0BpQDO/3n/X/9R//L+uf1+/Mj8Pf4X/3f+FP1c/Jb8E/1e/RT9K/zp+iL6qfrx+6X8hfwY/Ob7YPyL/d7+IP///cz8u/yP/Vn+tf63/on+cf7i/uv/6QBdAVgBBAGrAK0APQHvAfcBTwGlAG8AkwD9AHIBqAHHAbsBZAETAQMBMAEuAZQArf/j/qf+M//f/woAwv85/+v+RP8BAEgA6v90/w7/0f7O/gP/Q/8m/+r+EP+Q//j/6f9z/yj/ZP/G/97/af+m/jT+Z/7Q/v3+D//S/pT+kf6M/oD+mv4A//T+TP64/bD9DP5U/qf+q/4n/s/9Cv6d/v3+Of8V/4T+J/5S/vL+T/9Z//P+f/6G/hf/wv/2/ykATQDOAZIEywUfBTgEOATMBKkFZwaeBi4GpgUKBuMGYQc5B5QG2QWBBesFEAZVBR0EygK4AegAuwC+AFIAs/+D/97/5v+z/9T/UAB8AAAAX/8U/3L/KwCvALYAcABwALkAAQFiAecBQwL5AS8BtgDbAPcAxQA9APn+6f31/bD+/v5q/rb9OP3T/Lf8Kv15/eD85vtd+237pPun+4/7o/vK+/L7T/zF/AX92PyY/P38xP36/Zf9nf00/nH+dP76/sT//f/Y/yYAygAgARYBLwFfAT4BFwFJAYoBXwEWAVYBoQE8AaUApQAOAVABQQHeACUAVv/5/jn/s//u/6v/8f5r/sb+Z/+J/2//S//R/l/+wP7P/1gAwf8g/wr/2/73/tH/ewBBAKX/Vv+L/+H/CgAeAMz/Mv8M/zX/KP/l/sT+7v4B/7X+a/5o/mv+gf7F/rX+J/7W/Qn+GP7V/cj9Gv4X/nr9jv2X/hf/yP6K/ov+lP61/ub+Bf/V/qf+1P4x/2v/dP9HAdsEwQbPBcUEKgU3BRgFMAYqBzIG4QQnBQ8GxQZtB40HawY4BUoFeQX9BG0EcwP4AREBAAHCAB8AEQCjANQAewCcABYBJgEYAV0BXAFQAF3/nf9HAFEARgD6AJ8BYQH8AIEBHAK1AfUAlAA8AHH/5P4L/wn/h/4g/j/+ZP5O/l/+VP64/Qb9+vwE/Xb8vftr+6L7z/u6+8j7DPwV/AX8svx8/V795PzC/KL8h/z7/J/9xf1x/ZH9YP41/7T/+v9OAHUAQwBHANsARgH7AIkAtAAhATcBHQE7AZYBkwEpAfYARgFQAY8A8v8aAEsAu/83/23/rP+C/3j/u/+l/0v/Pv+G/4L/Qf8u/zT/Sv9h/4r/k/9g/z7/f//r/xMA6v+c/z//BP9K/8L/0f9Q//b+9P4e/1X/M//6/rT+av5c/qD+7f7I/kb+/f1d/qH+W/5F/mD+FP6S/aT9Nv5h/ir+Qv5o/iP+Nv6+/vb+y/6f/rr+yv7T/hn/hf9s/9f/uQLiBRwGjQRABNUEgARbBKEFkgaBBZUEtwVXB8wHcAc9B9gGHwa9BcQFWQUcBA8DggL2AXoBLgH7APEALwFnATkB6gDQADoBmgFGAaMAIQD5//r/OgCwAO8A6ADFAPMAcwGqARABRQD+/5n/+v6+/sz+Vv45/av8MP3o/Qn+qP0d/bT8oPzQ/P/8wPwp/LD7Zvt8+zn8+Pwc/Q/9Xf2//br9kP2A/VT96vyx/Pz8mf0m/lf+ZP6m/gf/W/+3/xUASwAuAO//BQBpAKEAoACrAJoAaACNABgBmgGtAXcBWgFIAfQAcgAxAAwAw/+V/7z/6P/Q/73/7/8GALb/iv+t/37/Hf86/5j/hv85/0T/Yf9B/2f/0v+x/yv/Kf9m/x7/0/41/3n/Kv8P/0z/A/9G/jP+ff56/pP+Jv9L/5P+Uv6q/qT+Pv40/kX+Af4Z/qv+4v6v/sj+5v6L/iX+Uf6f/nP+kP7g/vX+4/7m/gb/CP9V/zf/zv91ArUEcgSAA4METwUZBJ8DZwUaBjwECwRdBogHmQZ/Bp8HUwcGBpEF4wVLBesDCwOQAm8CAAJLAQUBTgGiAUABzgD+AFwBMwHDAFQAyP9W/zv/cf/Z/2UA0wDpAPMATAGQAXkBQQEeAa8Avf81/0//Zf/3/lL+X/7b/vb+l/5h/oj+Of5e/Qj9XP3C/HH7MvvM++77qfsv/BT9Nv0t/eD9lf4i/nT9j/3//RL+s/3q/Yr+0/4d/+b/ywD9AOcABgFKASABpwB2AGIAUgBEAGEAiwCuAMkAywDxAB8BKAEaASMBJwHQAFQA9P+Q/yj/N//A/wQA6f/7/3MAnQBnAIsApQAGAD3/T//F/7D/gP+l/6f/cv+k/zEAXgA/AFYAWwD3/5b/hP9g/2v//f/MAG0B1QE6AhwCwQHsAZ4CDgNAA88DHQQCBPEDDgT4A7IDwAPMA4gDmAMHBCME3wNLA58CnQHXAMkAtQCUAHwASgCj/2b/4/8AAA==\" type=\"audio/wav\" />\n                    Your browser does not support the audio element.\n                </audio>\n              "
     },
     "metadata": {},
     "output_type": "display_data"
    },
    {
     "name": "stdout",
     "output_type": "stream",
     "text": [
      "../Stimuli_Intensitätsmorphs/nm04_dis_w01_o_100_70dB.wav 16000\n"
     ]
    },
    {
     "data": {
      "text/plain": "<IPython.core.display.HTML object>",
      "text/html": "<style>\ndiv.display_data {\n    margin: 0 auto;\n    max-width: 500px;\n}\ntable.xxx {\n    margin: 50px !important;\n    float: right !important;\n    clear: both !important;\n}\ntable.xxx td {\n    min-width: 300px !important;\n    text-align: center !important;\n}\n</style><table border=\"2\" class=\"dataframe xxx\">\n  <thead>\n    <tr style=\"text-align: center;\">\n      <th></th>\n      <th>Emotion</th>\n      <th>Score</th>\n    </tr>\n  </thead>\n  <tbody>\n    <tr>\n      <th>0</th>\n      <td>angry</td>\n      <td>6.0%</td>\n    </tr>\n    <tr>\n      <th>1</th>\n      <td>disgust</td>\n      <td>25.9%</td>\n    </tr>\n    <tr>\n      <th>2</th>\n      <td>fear</td>\n      <td>15.9%</td>\n    </tr>\n    <tr>\n      <th>3</th>\n      <td>happy</td>\n      <td>5.5%</td>\n    </tr>\n    <tr>\n      <th>4</th>\n      <td>ps</td>\n      <td>2.7%</td>\n    </tr>\n    <tr>\n      <th>5</th>\n      <td>sad</td>\n      <td>44.0%</td>\n    </tr>\n  </tbody>\n</table>\n<p>6 rows × 2 columns</p><br />"
     },
     "metadata": {},
     "output_type": "display_data"
    }
   ],
   "source": [
    "prediction(testDF.iloc[120])"
   ]
  },
  {
   "cell_type": "code",
   "execution_count": 44,
   "metadata": {},
   "outputs": [
    {
     "name": "stderr",
     "output_type": "stream",
     "text": [
      "/tmp/ipykernel_78535/1726377197.py:1: SettingWithCopyWarning: \n",
      "A value is trying to be set on a copy of a slice from a DataFrame\n",
      "\n",
      "See the caveats in the documentation: https://pandas.pydata.org/pandas-docs/stable/user_guide/indexing.html#returning-a-view-versus-a-copy\n",
      "  trainDF.iloc[245]['path'] = \"D:\\download\\Recording.wav\"\n"
     ]
    }
   ],
   "source": [
    "trainDF.iloc[245]['path'] = \"D:\\download\\Recording.wav\"\n"
   ]
  },
  {
   "cell_type": "code",
   "execution_count": 45,
   "metadata": {},
   "outputs": [],
   "source": [
    "# predict(\"D:\\download\\Recording.wav\", 16000)\n",
    "# from IPython.display import Audio\n",
    "# Audio(\"D:\\download\\Recording.wav\")\n",
    "#print(len(torchaudio.load(testerDF.iloc[0][\"path\"])[0][0]))\n",
    "#print(\"-==================================================\")\n",
    "#print(len(torchaudio.load(trainDF.iloc[500][\"path\"])[0][0]))\n",
    "#print(torchaudio.load(trainDF.iloc[245][\"path\"]))\n",
    "# print(trainDF.iloc[245])\n",
    "# print(testerDF.iloc[0])"
   ]
  },
  {
   "cell_type": "code",
   "execution_count": 46,
   "metadata": {},
   "outputs": [
    {
     "name": "stderr",
     "output_type": "stream",
     "text": [
      "/home/ckwdani/Programming/Projects/masterarbeit/Jupyter/mainProject/venv/lib/python3.10/site-packages/librosa/util/decorators.py:88: UserWarning: PySoundFile failed. Trying audioread instead.\n",
      "  return f(*args, **kwargs)\n"
     ]
    },
    {
     "ename": "FileNotFoundError",
     "evalue": "[Errno 2] No such file or directory: 'D:\\\\download\\\\Recording.wav'",
     "output_type": "error",
     "traceback": [
      "\u001B[0;31m---------------------------------------------------------------------------\u001B[0m",
      "\u001B[0;31mLibsndfileError\u001B[0m                           Traceback (most recent call last)",
      "File \u001B[0;32m~/Programming/Projects/masterarbeit/Jupyter/mainProject/venv/lib/python3.10/site-packages/librosa/core/audio.py:164\u001B[0m, in \u001B[0;36mload\u001B[0;34m(path, sr, mono, offset, duration, dtype, res_type)\u001B[0m\n\u001B[1;32m    163\u001B[0m \u001B[38;5;28;01mtry\u001B[39;00m:\n\u001B[0;32m--> 164\u001B[0m     y, sr_native \u001B[38;5;241m=\u001B[39m \u001B[43m__soundfile_load\u001B[49m\u001B[43m(\u001B[49m\u001B[43mpath\u001B[49m\u001B[43m,\u001B[49m\u001B[43m \u001B[49m\u001B[43moffset\u001B[49m\u001B[43m,\u001B[49m\u001B[43m \u001B[49m\u001B[43mduration\u001B[49m\u001B[43m,\u001B[49m\u001B[43m \u001B[49m\u001B[43mdtype\u001B[49m\u001B[43m)\u001B[49m\n\u001B[1;32m    166\u001B[0m \u001B[38;5;28;01mexcept\u001B[39;00m \u001B[38;5;167;01mRuntimeError\u001B[39;00m \u001B[38;5;28;01mas\u001B[39;00m exc:\n\u001B[1;32m    167\u001B[0m     \u001B[38;5;66;03m# If soundfile failed, try audioread instead\u001B[39;00m\n",
      "File \u001B[0;32m~/Programming/Projects/masterarbeit/Jupyter/mainProject/venv/lib/python3.10/site-packages/librosa/core/audio.py:195\u001B[0m, in \u001B[0;36m__soundfile_load\u001B[0;34m(path, offset, duration, dtype)\u001B[0m\n\u001B[1;32m    193\u001B[0m \u001B[38;5;28;01melse\u001B[39;00m:\n\u001B[1;32m    194\u001B[0m     \u001B[38;5;66;03m# Otherwise, create the soundfile object\u001B[39;00m\n\u001B[0;32m--> 195\u001B[0m     context \u001B[38;5;241m=\u001B[39m \u001B[43msf\u001B[49m\u001B[38;5;241;43m.\u001B[39;49m\u001B[43mSoundFile\u001B[49m\u001B[43m(\u001B[49m\u001B[43mpath\u001B[49m\u001B[43m)\u001B[49m\n\u001B[1;32m    197\u001B[0m \u001B[38;5;28;01mwith\u001B[39;00m context \u001B[38;5;28;01mas\u001B[39;00m sf_desc:\n",
      "File \u001B[0;32m~/Programming/Projects/masterarbeit/Jupyter/mainProject/venv/lib/python3.10/site-packages/soundfile.py:655\u001B[0m, in \u001B[0;36mSoundFile.__init__\u001B[0;34m(self, file, mode, samplerate, channels, subtype, endian, format, closefd)\u001B[0m\n\u001B[1;32m    653\u001B[0m \u001B[38;5;28mself\u001B[39m\u001B[38;5;241m.\u001B[39m_info \u001B[38;5;241m=\u001B[39m _create_info_struct(file, mode, samplerate, channels,\n\u001B[1;32m    654\u001B[0m                                  \u001B[38;5;28mformat\u001B[39m, subtype, endian)\n\u001B[0;32m--> 655\u001B[0m \u001B[38;5;28mself\u001B[39m\u001B[38;5;241m.\u001B[39m_file \u001B[38;5;241m=\u001B[39m \u001B[38;5;28;43mself\u001B[39;49m\u001B[38;5;241;43m.\u001B[39;49m\u001B[43m_open\u001B[49m\u001B[43m(\u001B[49m\u001B[43mfile\u001B[49m\u001B[43m,\u001B[49m\u001B[43m \u001B[49m\u001B[43mmode_int\u001B[49m\u001B[43m,\u001B[49m\u001B[43m \u001B[49m\u001B[43mclosefd\u001B[49m\u001B[43m)\u001B[49m\n\u001B[1;32m    656\u001B[0m \u001B[38;5;28;01mif\u001B[39;00m \u001B[38;5;28mset\u001B[39m(mode)\u001B[38;5;241m.\u001B[39missuperset(\u001B[38;5;124m'\u001B[39m\u001B[38;5;124mr+\u001B[39m\u001B[38;5;124m'\u001B[39m) \u001B[38;5;129;01mand\u001B[39;00m \u001B[38;5;28mself\u001B[39m\u001B[38;5;241m.\u001B[39mseekable():\n\u001B[1;32m    657\u001B[0m     \u001B[38;5;66;03m# Move write position to 0 (like in Python file objects)\u001B[39;00m\n",
      "File \u001B[0;32m~/Programming/Projects/masterarbeit/Jupyter/mainProject/venv/lib/python3.10/site-packages/soundfile.py:1213\u001B[0m, in \u001B[0;36mSoundFile._open\u001B[0;34m(self, file, mode_int, closefd)\u001B[0m\n\u001B[1;32m   1212\u001B[0m     err \u001B[38;5;241m=\u001B[39m _snd\u001B[38;5;241m.\u001B[39msf_error(file_ptr)\n\u001B[0;32m-> 1213\u001B[0m     \u001B[38;5;28;01mraise\u001B[39;00m LibsndfileError(err, prefix\u001B[38;5;241m=\u001B[39m\u001B[38;5;124m\"\u001B[39m\u001B[38;5;124mError opening \u001B[39m\u001B[38;5;132;01m{0!r}\u001B[39;00m\u001B[38;5;124m: \u001B[39m\u001B[38;5;124m\"\u001B[39m\u001B[38;5;241m.\u001B[39mformat(\u001B[38;5;28mself\u001B[39m\u001B[38;5;241m.\u001B[39mname))\n\u001B[1;32m   1214\u001B[0m \u001B[38;5;28;01mif\u001B[39;00m mode_int \u001B[38;5;241m==\u001B[39m _snd\u001B[38;5;241m.\u001B[39mSFM_WRITE:\n\u001B[1;32m   1215\u001B[0m     \u001B[38;5;66;03m# Due to a bug in libsndfile version <= 1.0.25, frames != 0\u001B[39;00m\n\u001B[1;32m   1216\u001B[0m     \u001B[38;5;66;03m# when opening a named pipe in SFM_WRITE mode.\u001B[39;00m\n\u001B[1;32m   1217\u001B[0m     \u001B[38;5;66;03m# See http://github.com/erikd/libsndfile/issues/77.\u001B[39;00m\n",
      "\u001B[0;31mLibsndfileError\u001B[0m: Error opening 'D:\\\\download\\\\Recording.wav': System error.",
      "\nDuring handling of the above exception, another exception occurred:\n",
      "\u001B[0;31mFileNotFoundError\u001B[0m                         Traceback (most recent call last)",
      "Cell \u001B[0;32mIn[46], line 1\u001B[0m\n\u001B[0;32m----> 1\u001B[0m \u001B[43mlibrosa\u001B[49m\u001B[38;5;241;43m.\u001B[39;49m\u001B[43mload\u001B[49m\u001B[43m(\u001B[49m\u001B[38;5;124;43m\"\u001B[39;49m\u001B[38;5;124;43mD:\u001B[39;49m\u001B[38;5;124;43m\\\u001B[39;49m\u001B[38;5;124;43mdownload\u001B[39;49m\u001B[38;5;124;43m\\\u001B[39;49m\u001B[38;5;124;43mRecording.wav\u001B[39;49m\u001B[38;5;124;43m\"\u001B[39;49m\u001B[43m)\u001B[49m\n",
      "File \u001B[0;32m~/Programming/Projects/masterarbeit/Jupyter/mainProject/venv/lib/python3.10/site-packages/librosa/util/decorators.py:88\u001B[0m, in \u001B[0;36mdeprecate_positional_args.<locals>._inner_deprecate_positional_args.<locals>.inner_f\u001B[0;34m(*args, **kwargs)\u001B[0m\n\u001B[1;32m     86\u001B[0m extra_args \u001B[38;5;241m=\u001B[39m \u001B[38;5;28mlen\u001B[39m(args) \u001B[38;5;241m-\u001B[39m \u001B[38;5;28mlen\u001B[39m(all_args)\n\u001B[1;32m     87\u001B[0m \u001B[38;5;28;01mif\u001B[39;00m extra_args \u001B[38;5;241m<\u001B[39m\u001B[38;5;241m=\u001B[39m \u001B[38;5;241m0\u001B[39m:\n\u001B[0;32m---> 88\u001B[0m     \u001B[38;5;28;01mreturn\u001B[39;00m \u001B[43mf\u001B[49m\u001B[43m(\u001B[49m\u001B[38;5;241;43m*\u001B[39;49m\u001B[43margs\u001B[49m\u001B[43m,\u001B[49m\u001B[43m \u001B[49m\u001B[38;5;241;43m*\u001B[39;49m\u001B[38;5;241;43m*\u001B[39;49m\u001B[43mkwargs\u001B[49m\u001B[43m)\u001B[49m\n\u001B[1;32m     90\u001B[0m \u001B[38;5;66;03m# extra_args > 0\u001B[39;00m\n\u001B[1;32m     91\u001B[0m args_msg \u001B[38;5;241m=\u001B[39m [\n\u001B[1;32m     92\u001B[0m     \u001B[38;5;124m\"\u001B[39m\u001B[38;5;132;01m{}\u001B[39;00m\u001B[38;5;124m=\u001B[39m\u001B[38;5;132;01m{}\u001B[39;00m\u001B[38;5;124m\"\u001B[39m\u001B[38;5;241m.\u001B[39mformat(name, arg)\n\u001B[1;32m     93\u001B[0m     \u001B[38;5;28;01mfor\u001B[39;00m name, arg \u001B[38;5;129;01min\u001B[39;00m \u001B[38;5;28mzip\u001B[39m(kwonly_args[:extra_args], args[\u001B[38;5;241m-\u001B[39mextra_args:])\n\u001B[1;32m     94\u001B[0m ]\n",
      "File \u001B[0;32m~/Programming/Projects/masterarbeit/Jupyter/mainProject/venv/lib/python3.10/site-packages/librosa/core/audio.py:170\u001B[0m, in \u001B[0;36mload\u001B[0;34m(path, sr, mono, offset, duration, dtype, res_type)\u001B[0m\n\u001B[1;32m    168\u001B[0m \u001B[38;5;28;01mif\u001B[39;00m \u001B[38;5;28misinstance\u001B[39m(path, (\u001B[38;5;28mstr\u001B[39m, pathlib\u001B[38;5;241m.\u001B[39mPurePath)):\n\u001B[1;32m    169\u001B[0m     warnings\u001B[38;5;241m.\u001B[39mwarn(\u001B[38;5;124m\"\u001B[39m\u001B[38;5;124mPySoundFile failed. Trying audioread instead.\u001B[39m\u001B[38;5;124m\"\u001B[39m, stacklevel\u001B[38;5;241m=\u001B[39m\u001B[38;5;241m2\u001B[39m)\n\u001B[0;32m--> 170\u001B[0m     y, sr_native \u001B[38;5;241m=\u001B[39m \u001B[43m__audioread_load\u001B[49m\u001B[43m(\u001B[49m\u001B[43mpath\u001B[49m\u001B[43m,\u001B[49m\u001B[43m \u001B[49m\u001B[43moffset\u001B[49m\u001B[43m,\u001B[49m\u001B[43m \u001B[49m\u001B[43mduration\u001B[49m\u001B[43m,\u001B[49m\u001B[43m \u001B[49m\u001B[43mdtype\u001B[49m\u001B[43m)\u001B[49m\n\u001B[1;32m    171\u001B[0m \u001B[38;5;28;01melse\u001B[39;00m:\n\u001B[1;32m    172\u001B[0m     \u001B[38;5;28;01mraise\u001B[39;00m exc\n",
      "File \u001B[0;32m~/Programming/Projects/masterarbeit/Jupyter/mainProject/venv/lib/python3.10/site-packages/librosa/core/audio.py:226\u001B[0m, in \u001B[0;36m__audioread_load\u001B[0;34m(path, offset, duration, dtype)\u001B[0m\n\u001B[1;32m    223\u001B[0m     reader \u001B[38;5;241m=\u001B[39m path\n\u001B[1;32m    224\u001B[0m \u001B[38;5;28;01melse\u001B[39;00m:\n\u001B[1;32m    225\u001B[0m     \u001B[38;5;66;03m# If the input was not an audioread object, try to open it\u001B[39;00m\n\u001B[0;32m--> 226\u001B[0m     reader \u001B[38;5;241m=\u001B[39m \u001B[43maudioread\u001B[49m\u001B[38;5;241;43m.\u001B[39;49m\u001B[43maudio_open\u001B[49m\u001B[43m(\u001B[49m\u001B[43mpath\u001B[49m\u001B[43m)\u001B[49m\n\u001B[1;32m    228\u001B[0m \u001B[38;5;28;01mwith\u001B[39;00m reader \u001B[38;5;28;01mas\u001B[39;00m input_file:\n\u001B[1;32m    229\u001B[0m     sr_native \u001B[38;5;241m=\u001B[39m input_file\u001B[38;5;241m.\u001B[39msamplerate\n",
      "File \u001B[0;32m~/Programming/Projects/masterarbeit/Jupyter/mainProject/venv/lib/python3.10/site-packages/audioread/__init__.py:127\u001B[0m, in \u001B[0;36maudio_open\u001B[0;34m(path, backends)\u001B[0m\n\u001B[1;32m    125\u001B[0m \u001B[38;5;28;01mfor\u001B[39;00m BackendClass \u001B[38;5;129;01min\u001B[39;00m backends:\n\u001B[1;32m    126\u001B[0m     \u001B[38;5;28;01mtry\u001B[39;00m:\n\u001B[0;32m--> 127\u001B[0m         \u001B[38;5;28;01mreturn\u001B[39;00m \u001B[43mBackendClass\u001B[49m\u001B[43m(\u001B[49m\u001B[43mpath\u001B[49m\u001B[43m)\u001B[49m\n\u001B[1;32m    128\u001B[0m     \u001B[38;5;28;01mexcept\u001B[39;00m DecodeError:\n\u001B[1;32m    129\u001B[0m         \u001B[38;5;28;01mpass\u001B[39;00m\n",
      "File \u001B[0;32m~/Programming/Projects/masterarbeit/Jupyter/mainProject/venv/lib/python3.10/site-packages/audioread/rawread.py:59\u001B[0m, in \u001B[0;36mRawAudioFile.__init__\u001B[0;34m(self, filename)\u001B[0m\n\u001B[1;32m     58\u001B[0m \u001B[38;5;28;01mdef\u001B[39;00m \u001B[38;5;21m__init__\u001B[39m(\u001B[38;5;28mself\u001B[39m, filename):\n\u001B[0;32m---> 59\u001B[0m     \u001B[38;5;28mself\u001B[39m\u001B[38;5;241m.\u001B[39m_fh \u001B[38;5;241m=\u001B[39m \u001B[38;5;28;43mopen\u001B[39;49m\u001B[43m(\u001B[49m\u001B[43mfilename\u001B[49m\u001B[43m,\u001B[49m\u001B[43m \u001B[49m\u001B[38;5;124;43m'\u001B[39;49m\u001B[38;5;124;43mrb\u001B[39;49m\u001B[38;5;124;43m'\u001B[39;49m\u001B[43m)\u001B[49m\n\u001B[1;32m     61\u001B[0m     \u001B[38;5;28;01mtry\u001B[39;00m:\n\u001B[1;32m     62\u001B[0m         \u001B[38;5;28mself\u001B[39m\u001B[38;5;241m.\u001B[39m_file \u001B[38;5;241m=\u001B[39m aifc\u001B[38;5;241m.\u001B[39mopen(\u001B[38;5;28mself\u001B[39m\u001B[38;5;241m.\u001B[39m_fh)\n",
      "\u001B[0;31mFileNotFoundError\u001B[0m: [Errno 2] No such file or directory: 'D:\\\\download\\\\Recording.wav'"
     ]
    }
   ],
   "source": [
    "librosa.load(\"D:\\download\\Recording.wav\")"
   ]
  },
  {
   "cell_type": "code",
   "execution_count": null,
   "metadata": {},
   "outputs": [],
   "source": [
    "testpaths"
   ]
  },
  {
   "cell_type": "code",
   "execution_count": null,
   "metadata": {
    "id": "7nqwbTTXSfMO"
   },
   "outputs": [],
   "source": [
    "prediction(test.iloc[2])"
   ]
  }
 ],
 "metadata": {
  "accelerator": "GPU",
  "colab": {
   "name": "Emotion recognition in Greek speech using Wav2Vec2.ipynb",
   "provenance": []
  },
  "kernelspec": {
   "display_name": "Python 3 (ipykernel)",
   "language": "python",
   "name": "python3"
  },
  "language_info": {
   "codemirror_mode": {
    "name": "ipython",
    "version": 3
   },
   "file_extension": ".py",
   "mimetype": "text/x-python",
   "name": "python",
   "nbconvert_exporter": "python",
   "pygments_lexer": "ipython3",
   "version": "3.10.9"
  }
 },
 "nbformat": 4,
 "nbformat_minor": 1
}
