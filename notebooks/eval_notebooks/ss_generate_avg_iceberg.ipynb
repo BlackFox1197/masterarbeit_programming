{
 "cells": [
  {
   "cell_type": "code",
   "execution_count": 113,
   "metadata": {
    "collapsed": true
   },
   "outputs": [],
   "source": [
    "import pandas as pd\n",
    "\n",
    "from utils.audio_dataset_utils import train_val_dataset\n",
    "from network_models.soundsream_models_and_utils.ss_model_dim_red import SSDimRedModel\n",
    "from network_models.soundsream_models_and_utils.ss_model_conv import SSConvModel3Sec\n",
    "from network_models.soundsream_models_and_utils.ss_encoded_dataset import ss_encoded_dataset_full\n",
    "import torch\n",
    "from torch.utils.data import DataLoader\n",
    "\n",
    "batch_size = 1\n",
    "\n",
    "data_set= ss_encoded_dataset_full(\n",
    "    csvPath=\"/home/ckwdani/Programming/Projects/masterarbeit/Jupyter/mainProject/notebooks/content/data/allEncodings.pkl\", device=\"cuda\")\n",
    "\n",
    "json_path =\"/home/ckwdani/Programming/Projects/masterarbeit/Jupyter/mainProject/notebooks/content/data/\"\n",
    "\n",
    "modelDimRed = SSDimRedModel().cuda()\n",
    "modelConv = SSConvModel3Sec(xSize=512, ySize=175).cuda()\n",
    "\n"
   ]
  },
  {
   "cell_type": "code",
   "execution_count": 114,
   "outputs": [
    {
     "data": {
      "text/plain": "<All keys matched successfully>"
     },
     "execution_count": 114,
     "metadata": {},
     "output_type": "execute_result"
    }
   ],
   "source": [
    "modelConv.load_state_dict(torch.load(\"../content/soundstream/experiments/nr2Run_Nr_0_conv/emo_reco_best_ep216_acc_62\"))\n",
    "modelDimRed.load_state_dict(torch.load(\"../content/soundstream/experiments/nr2Run_Nr_0_dimred/emo_reco_500.pth\"))"
   ],
   "metadata": {
    "collapsed": false
   }
  },
  {
   "cell_type": "code",
   "execution_count": 120,
   "outputs": [],
   "source": [
    "from numpy import ndarray\n",
    "\n",
    "\n",
    "def generateParameters(device, model, dataset, labels):\n",
    "    loader = DataLoader(dataset, shuffle=False, batch_size=1)\n",
    "    d ={}\n",
    "\n",
    "    for label in labels:\n",
    "        d.update({label: []})\n",
    "\n",
    "    with torch.no_grad():\n",
    "        for batch, (X, z) in enumerate(loader):\n",
    "            X, z = X.to(device),  z.to(device)\n",
    "            dims, pred = model(X, return_with_dims= True)\n",
    "            label = data_set.encoded_dataset.label_list[z[0].nonzero().cpu().numpy()[0][0]]\n",
    "            dims = dims.cpu().numpy()[0]\n",
    "            d[label].append(dims)\n",
    "            if batch % 500 == 0:\n",
    "                print(f\"{batch*batch_size} of {len(dataset)}\")\n",
    "    return d\n",
    "\n",
    "\n",
    "def genAvgFull(fulldata: list[dict], label_list, modelNameList):\n",
    "    fullDict = {}\n",
    "    for label in label_list:\n",
    "        fullDict.update({label: genAvgAndVar([fd[label] for fd in fulldata], modelNameList)})\n",
    "    return fullDict\n",
    "\n",
    "def genAvgAndVar(data: list[list[ndarray[float]]], modelNameList):\n",
    "    d = {}\n",
    "    for i in range(len(modelNameList)):\n",
    "        mean = np.mean(np.asarray(data[i]), axis=0)\n",
    "        var = np.var(np.asarray(data[i]), axis=0)\n",
    "        d.update({modelNameList[i] : pd.Series([mean, var], index=[\"mean\", \"var\"])})\n",
    "    return pd.DataFrame(d)\n",
    "\n",
    "\n",
    "def generateJson(data):\n",
    "    str = \"{\"\n",
    "    for i in range(len(data)):\n",
    "        str += f\"x{i+1}: {data[i]},\"\n",
    "    str += \"}\"\n",
    "    return(str)\n",
    "\n",
    "def writeJson(emotion, string):\n",
    "    print(f\"writing: {string} \\n to {json_path+emotion}.json\")\n",
    "    file = open(json_path+f\"{emotion}.json\", \"w\")\n",
    "    file.write(string)\n",
    "    file.close()"
   ],
   "metadata": {
    "collapsed": false
   }
  },
  {
   "cell_type": "code",
   "execution_count": 100,
   "outputs": [
    {
     "name": "stderr",
     "output_type": "stream",
     "text": [
      "/home/ckwdani/Programming/Projects/masterarbeit/Jupyter/mainProject/venv/lib/python3.10/site-packages/torch/nn/functional.py:1956: UserWarning: nn.functional.tanh is deprecated. Use torch.tanh instead.\n",
      "  warnings.warn(\"nn.functional.tanh is deprecated. Use torch.tanh instead.\")\n"
     ]
    },
    {
     "name": "stdout",
     "output_type": "stream",
     "text": [
      "0 of 6092\n",
      "500 of 6092\n",
      "1000 of 6092\n",
      "1500 of 6092\n",
      "2000 of 6092\n",
      "2500 of 6092\n",
      "3000 of 6092\n",
      "3500 of 6092\n",
      "4000 of 6092\n",
      "4500 of 6092\n",
      "5000 of 6092\n",
      "5500 of 6092\n",
      "6000 of 6092\n",
      "0 of 6092\n",
      "500 of 6092\n",
      "1000 of 6092\n",
      "1500 of 6092\n",
      "2000 of 6092\n",
      "2500 of 6092\n",
      "3000 of 6092\n",
      "3500 of 6092\n",
      "4000 of 6092\n",
      "4500 of 6092\n",
      "5000 of 6092\n",
      "5500 of 6092\n",
      "6000 of 6092\n"
     ]
    }
   ],
   "source": [
    "emo = generateParameters(\"cuda\", modelDimRed, data_set, data_set.encoded_dataset.label_list)\n",
    "conv_emo = generateParameters(\"cuda\", modelConv, data_set, data_set.encoded_dataset.label_list)\n"
   ],
   "metadata": {
    "collapsed": false
   }
  },
  {
   "cell_type": "code",
   "execution_count": 107,
   "outputs": [],
   "source": [
    "fullDict = genAvgFull([emo, conv_emo], data_set.encoded_dataset.label_list, [\"red\", \"conv\"])\n"
   ],
   "metadata": {
    "collapsed": false
   }
  },
  {
   "cell_type": "code",
   "execution_count": 108,
   "outputs": [
    {
     "name": "stdout",
     "output_type": "stream",
     "text": [
      "neutral :  redDim: [ 0.6639264   0.73435247 -0.7320692  -0.6289696 ], conv: [-0.4218498 -0.9272894  0.2597164 -0.8949495]\n",
      "happy   :  redDim: [-0.59133476 -0.6771037  -0.1524691  -0.50330085], conv: [-0.9167148   0.8094782  -0.95139974  0.5421657 ]\n",
      "sad     :  redDim: [ 0.7622332   0.53079635  0.55524313 -0.6929692 ], conv: [-0.33834997  0.82089335  0.9236266  -0.5644345 ]\n",
      "angry   :  redDim: [-0.66945684 -0.5150308   0.64851785  0.7231073 ], conv: [ 0.92897815 -0.92863935 -0.9120094   0.38886377]\n",
      "fear    :  redDim: [0.68669516 0.59777653 0.42156133 0.5944756 ], conv: [ 0.9076029   0.8969184  -0.6527667   0.91186833]\n",
      "disgust :  redDim: [ 0.60760134 -0.75726825  0.58009577 -0.5529675 ], conv: [-0.8281549  -0.9411225   0.89458096  0.9407132 ]\n",
      "surprise:  redDim: [ 0.6731572  -0.64274424  0.48773807  0.6123621 ], conv: [ 0.87585086  0.8034662  -0.92787725 -0.92888534]\n"
     ]
    }
   ],
   "source": [
    "print(f\"neutral :  redDim: {fullDict['neutral']['red']['mean']}, conv: {fullDict['neutral']['conv']['mean']}\")\n",
    "print(f\"happy   :  redDim: {fullDict['happy']['red']['mean']}, conv: {fullDict['happy']['conv']['mean']}\")\n",
    "print(f\"sad     :  redDim: {fullDict['sad']['red']['mean']}, conv: {fullDict['sad']['conv']['mean']}\")\n",
    "print(f\"angry   :  redDim: {fullDict['angry']['red']['mean']}, conv: {fullDict['angry']['conv']['mean']}\")\n",
    "print(f\"fear    :  redDim: {fullDict['fear']['red']['mean']}, conv: {fullDict['fear']['conv']['mean']}\")\n",
    "print(f\"disgust :  redDim: {fullDict['disgust']['red']['mean']}, conv: {fullDict['disgust']['conv']['mean']}\")\n",
    "print(f\"surprise:  redDim: {fullDict['surprise']['red']['mean']}, conv: {fullDict['surprise']['conv']['mean']}\")\n",
    "\n"
   ],
   "metadata": {
    "collapsed": false
   }
  },
  {
   "cell_type": "code",
   "execution_count": 121,
   "outputs": [
    {
     "name": "stdout",
     "output_type": "stream",
     "text": [
      "writing: {x1: -0.42184978723526,x2: -0.9272894263267517,x3: 0.2597163915634155,x4: -0.8949494957923889,} \n",
      " to /home/ckwdani/Programming/Projects/masterarbeit/Jupyter/mainProject/notebooks/content/data/neutral.json\n",
      "writing: {x1: -0.9167147874832153,x2: 0.809478223323822,x3: -0.9513997435569763,x4: 0.5421656966209412,} \n",
      " to /home/ckwdani/Programming/Projects/masterarbeit/Jupyter/mainProject/notebooks/content/data/happy.json\n",
      "writing: {x1: -0.33834996819496155,x2: 0.8208933472633362,x3: 0.9236266016960144,x4: -0.5644345283508301,} \n",
      " to /home/ckwdani/Programming/Projects/masterarbeit/Jupyter/mainProject/notebooks/content/data/sad.json\n",
      "writing: {x1: 0.9289781451225281,x2: -0.9286393523216248,x3: -0.9120094180107117,x4: 0.38886377215385437,} \n",
      " to /home/ckwdani/Programming/Projects/masterarbeit/Jupyter/mainProject/notebooks/content/data/angry.json\n",
      "writing: {x1: 0.9076029062271118,x2: 0.8969184160232544,x3: -0.6527667045593262,x4: 0.9118683338165283,} \n",
      " to /home/ckwdani/Programming/Projects/masterarbeit/Jupyter/mainProject/notebooks/content/data/fear.json\n",
      "writing: {x1: -0.8281549215316772,x2: -0.9411224722862244,x3: 0.8945809602737427,x4: 0.9407132267951965,} \n",
      " to /home/ckwdani/Programming/Projects/masterarbeit/Jupyter/mainProject/notebooks/content/data/disgust.json\n",
      "writing: {x1: 0.8758508563041687,x2: 0.8034662008285522,x3: -0.9278772473335266,x4: -0.9288853406906128,} \n",
      " to /home/ckwdani/Programming/Projects/masterarbeit/Jupyter/mainProject/notebooks/content/data/surprise.json\n"
     ]
    }
   ],
   "source": [
    "writeJson(\"neutral\", generateJson(fullDict['neutral']['conv']['mean']))\n",
    "writeJson(\"happy\", generateJson(fullDict['happy']['conv']['mean']))\n",
    "writeJson(\"sad\", generateJson(fullDict['sad']['conv']['mean']))\n",
    "writeJson(\"angry\", generateJson(fullDict['angry']['conv']['mean']))\n",
    "writeJson(\"fear\", generateJson(fullDict['fear']['conv']['mean']))\n",
    "writeJson(\"disgust\", generateJson(fullDict['disgust']['conv']['mean']))\n",
    "writeJson(\"surprise\", generateJson(fullDict['surprise']['conv']['mean']))"
   ],
   "metadata": {
    "collapsed": false
   }
  }
 ],
 "metadata": {
  "kernelspec": {
   "display_name": "Python 3",
   "language": "python",
   "name": "python3"
  },
  "language_info": {
   "codemirror_mode": {
    "name": "ipython",
    "version": 2
   },
   "file_extension": ".py",
   "mimetype": "text/x-python",
   "name": "python",
   "nbconvert_exporter": "python",
   "pygments_lexer": "ipython2",
   "version": "2.7.6"
  }
 },
 "nbformat": 4,
 "nbformat_minor": 0
}
