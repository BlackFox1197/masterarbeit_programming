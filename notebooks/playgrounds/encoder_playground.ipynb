{
 "cells": [
  {
   "cell_type": "code",
   "execution_count": 27,
   "metadata": {
    "collapsed": true
   },
   "outputs": [],
   "source": [
    "\n",
    "from network_models.soundsream_models_and_utils.encoder.transformer import Encoder\n",
    "\n",
    "encoder = Encoder(vocab_size=0, embed_dim=175, n_heads=5, ff_dim=1, n_layers=2, dropout=0)"
   ]
  },
  {
   "cell_type": "code",
   "execution_count": 3,
   "outputs": [
    {
     "name": "stderr",
     "output_type": "stream",
     "text": [
      "2023-02-11 11:58:36 | INFO | fairseq.tasks.text_to_speech | Please install tensorboardX: pip install tensorboardX\n",
      "2023-02-11 11:58:36.270183: I tensorflow/core/platform/cpu_feature_guard.cc:193] This TensorFlow binary is optimized with oneAPI Deep Neural Network Library (oneDNN) to use the following CPU instructions in performance-critical operations:  AVX2 FMA\n",
      "To enable them in other operations, rebuild TensorFlow with the appropriate compiler flags.\n",
      "2023-02-11 11:58:36.778150: W tensorflow/compiler/xla/stream_executor/platform/default/dso_loader.cc:64] Could not load dynamic library 'libnvinfer.so.7'; dlerror: libnvinfer.so.7: cannot open shared object file: No such file or directory\n",
      "2023-02-11 11:58:36.778205: W tensorflow/compiler/xla/stream_executor/platform/default/dso_loader.cc:64] Could not load dynamic library 'libnvinfer_plugin.so.7'; dlerror: libnvinfer_plugin.so.7: cannot open shared object file: No such file or directory\n",
      "2023-02-11 11:58:36.778209: W tensorflow/compiler/tf2tensorrt/utils/py_utils.cc:38] TF-TRT Warning: Cannot dlopen some TensorRT libraries. If you would like to use Nvidia GPU with TensorRT, please make sure the missing libraries mentioned above are installed properly.\n"
     ]
    }
   ],
   "source": [
    "from network_models.soundsream_models_and_utils.ss_encoded_dataset import ss_encoded_dataset_full\n",
    "\n",
    "data_set= ss_encoded_dataset_full(\n",
    "    csvPath=\"/home/ckwdani/Programming/Projects/masterarbeit/Jupyter/mainProject/notebooks/content/data/allEncodings.pkl\", device=\"cuda\")"
   ],
   "metadata": {
    "collapsed": false
   }
  },
  {
   "cell_type": "code",
   "execution_count": 7,
   "outputs": [
    {
     "data": {
      "text/plain": "tensor([[[-2.3367, -1.6375, -1.3727,  ..., -2.5371, -2.5353, -1.3251],\n         [ 1.6229,  0.0754, -0.2515,  ...,  1.2031,  1.1988,  1.7883],\n         [-0.2981,  0.3309,  0.9442,  ...,  0.9073,  0.9284, -0.1929],\n         ...,\n         [ 0.2038,  0.5082,  1.1065,  ...,  0.8929,  0.8889,  1.0835],\n         [ 1.0990,  0.2538, -0.3512,  ..., -0.9637, -0.9393, -1.2741],\n         [ 1.3267,  0.9409,  0.1371,  ...,  0.6869,  0.6706,  0.3886]]])"
     },
     "execution_count": 7,
     "metadata": {},
     "output_type": "execute_result"
    }
   ],
   "source": [
    "data_set[0][0]"
   ],
   "metadata": {
    "collapsed": false
   }
  },
  {
   "cell_type": "code",
   "execution_count": 34,
   "outputs": [
    {
     "data": {
      "text/plain": "tensor([[[-0.7088,  0.2901,  0.1264,  ..., -0.1467, -1.4775, -1.0988],\n         [ 0.1485, -0.0075, -0.6300,  ...,  0.2343, -0.7697, -1.4508],\n         [-1.1851, -0.4379,  0.4959,  ...,  0.0085, -0.5748, -2.5506],\n         ...,\n         [-0.7945, -0.1232,  0.6710,  ...,  0.1481, -0.7639, -1.0716],\n         [ 0.9073,  0.2213,  0.7348,  ..., -0.6653, -0.8085, -1.9253],\n         [ 0.5112,  0.7497,  0.6280,  ...,  0.5387, -0.2996, -0.9166]]],\n       grad_fn=<AddBackward0>)"
     },
     "execution_count": 34,
     "metadata": {},
     "output_type": "execute_result"
    }
   ],
   "source": [
    "encoder(data_set[0][0])"
   ],
   "metadata": {
    "collapsed": false
   }
  }
 ],
 "metadata": {
  "kernelspec": {
   "display_name": "Python 3",
   "language": "python",
   "name": "python3"
  },
  "language_info": {
   "codemirror_mode": {
    "name": "ipython",
    "version": 2
   },
   "file_extension": ".py",
   "mimetype": "text/x-python",
   "name": "python",
   "nbconvert_exporter": "python",
   "pygments_lexer": "ipython2",
   "version": "2.7.6"
  }
 },
 "nbformat": 4,
 "nbformat_minor": 0
}
