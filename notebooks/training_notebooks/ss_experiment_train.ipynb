{
 "cells": [
  {
   "cell_type": "code",
   "execution_count": 1,
   "metadata": {
    "collapsed": true
   },
   "outputs": [
    {
     "name": "stderr",
     "output_type": "stream",
     "text": [
      "2023-02-09 17:27:12 | INFO | fairseq.tasks.text_to_speech | Please install tensorboardX: pip install tensorboardX\n",
      "2023-02-09 17:27:12.850143: I tensorflow/core/platform/cpu_feature_guard.cc:193] This TensorFlow binary is optimized with oneAPI Deep Neural Network Library (oneDNN) to use the following CPU instructions in performance-critical operations:  AVX2 FMA\n",
      "To enable them in other operations, rebuild TensorFlow with the appropriate compiler flags.\n",
      "2023-02-09 17:27:13.349739: W tensorflow/compiler/xla/stream_executor/platform/default/dso_loader.cc:64] Could not load dynamic library 'libnvinfer.so.7'; dlerror: libnvinfer.so.7: cannot open shared object file: No such file or directory\n",
      "2023-02-09 17:27:13.349799: W tensorflow/compiler/xla/stream_executor/platform/default/dso_loader.cc:64] Could not load dynamic library 'libnvinfer_plugin.so.7'; dlerror: libnvinfer_plugin.so.7: cannot open shared object file: No such file or directory\n",
      "2023-02-09 17:27:13.349804: W tensorflow/compiler/tf2tensorrt/utils/py_utils.cc:38] TF-TRT Warning: Cannot dlopen some TensorRT libraries. If you would like to use Nvidia GPU with TensorRT, please make sure the missing libraries mentioned above are installed properly.\n"
     ]
    }
   ],
   "source": [
    "import gc\n",
    "\n",
    "from network_models.soundsream_models_and_utils.ss_wrapper_trainer_experiments import ExperimentsTrainer\n",
    "import torch\n",
    "from network_models.soundsream_models_and_utils.ss_encoded_dataset import ss_encoded_dataset_full\n",
    "\n",
    "device = \"cuda\" if torch.cuda.is_available() else \"cpu\"\n",
    "batch_size = 6\n",
    "models_dir = \"/home/ckwdani/Programming/Projects/masterarbeit/Jupyter/mainProject/notebooks/content/soundstream/experiments/tester\"\n",
    "trials_per_model_type = 4\n",
    "epochs_per_model = 10\n",
    "save_highest_acc_min_acc = 0.2\n",
    "start_lr = 1e-4\n",
    "lr_quotient = 2\n",
    "gc.collect()\n",
    "data_set= ss_encoded_dataset_full(\n",
    "    csvPath=\"/home/ckwdani/Programming/Projects/masterarbeit/Jupyter/mainProject/notebooks/content/data/allEncodings.pkl\", device=\"cuda\")\n",
    "\n",
    "exp_trainer = ExperimentsTrainer(dataset=data_set, device=device, models_dir=models_dir, batch_size=batch_size, trials_per_model_type=trials_per_model_type,\n",
    "                   epochs_per_model=epochs_per_model, start_lr=start_lr, lr_quotient=lr_quotient, save_highest_acc_min_acc=save_highest_acc_min_acc)"
   ]
  },
  {
   "cell_type": "code",
   "execution_count": 2,
   "outputs": [
    {
     "name": "stdout",
     "output_type": "stream",
     "text": [
      "Epoch 1\n",
      "-------------------------------\n"
     ]
    },
    {
     "name": "stderr",
     "output_type": "stream",
     "text": [
      "/home/ckwdani/Programming/Projects/masterarbeit/Jupyter/mainProject/venv/lib/python3.10/site-packages/torch/nn/functional.py:1956: UserWarning: nn.functional.tanh is deprecated. Use torch.tanh instead.\n",
      "  warnings.warn(\"nn.functional.tanh is deprecated. Use torch.tanh instead.\")\n"
     ]
    },
    {
     "name": "stdout",
     "output_type": "stream",
     "text": [
      "loss: 1.886653  [    0/ 5482]\n",
      "loss: 2.029726  [  600/ 5482]\n",
      "loss: 1.899935  [ 1200/ 5482]\n",
      "loss: 1.828691  [ 1800/ 5482]\n",
      "loss: 1.856288  [ 2400/ 5482]\n",
      "loss: 2.112423  [ 3000/ 5482]\n",
      "loss: 1.972412  [ 3600/ 5482]\n",
      "loss: 1.742949  [ 4200/ 5482]\n",
      "loss: 1.818850  [ 4800/ 5482]\n",
      "loss: 1.849283  [ 5400/ 5482]\n",
      "           accuracy  precision  recall   support\n",
      "   angry     0.331     0.372     0.424    99\n",
      " disgust     0.331     0.350     0.766    107\n",
      "    fear     0.331     0.160     0.163    80\n",
      "   happy     0.331     0.000     0.000    77\n",
      " neutral     0.331     0.552     0.389    95\n",
      "     sad     0.331     0.000     0.000    91\n",
      "surprise     0.331     0.243     0.459    61\n",
      "                                          610\n",
      "\n",
      " \n",
      "     avg     0.331     0.240     0.315    \n",
      "\n",
      "Test Error: \n",
      " Accuracy: 33.1%, Avg loss: 1.825065 \n",
      "\n",
      "Generating Report... \n",
      "\n",
      "Report saved to: /home/ckwdani/Programming/Projects/masterarbeit/Jupyter/mainProject/notebooks/content/soundstream/experiments/tester/Run_Nr_0/conv/emo_reco_best_ep0_acc_33.md \n",
      "\n",
      "New best model saved to \"/home/ckwdani/Programming/Projects/masterarbeit/Jupyter/mainProject/notebooks/content/soundstream/experiments/tester/Run_Nr_0/conv/emo_reco_best_ep0_acc_33\"!  new accuracy: 33.1\n",
      "Epoch 2\n",
      "-------------------------------\n",
      "loss: 1.887442  [    0/ 5482]\n"
     ]
    },
    {
     "name": "stderr",
     "output_type": "stream",
     "text": [
      "/home/ckwdani/Programming/Projects/masterarbeit/Jupyter/mainProject/venv/lib/python3.10/site-packages/torch/nn/functional.py:1956: UserWarning: nn.functional.tanh is deprecated. Use torch.tanh instead.\n",
      "  warnings.warn(\"nn.functional.tanh is deprecated. Use torch.tanh instead.\")\n"
     ]
    },
    {
     "name": "stdout",
     "output_type": "stream",
     "text": [
      "loss: 1.775021  [  600/ 5482]\n",
      "loss: 1.814471  [ 1200/ 5482]\n",
      "loss: 1.811550  [ 1800/ 5482]\n",
      "loss: 1.734834  [ 2400/ 5482]\n",
      "loss: 1.846306  [ 3000/ 5482]\n",
      "loss: 1.953937  [ 3600/ 5482]\n",
      "loss: 1.954046  [ 4200/ 5482]\n",
      "loss: 1.662495  [ 4800/ 5482]\n",
      "loss: 1.810375  [ 5400/ 5482]\n",
      "           accuracy  precision  recall   support\n",
      "   angry     0.366     0.390     0.535    99\n",
      " disgust     0.366     0.323     0.776    107\n",
      "    fear     0.366     0.045     0.013    80\n",
      "   happy     0.366     0.000     0.000    77\n",
      " neutral     0.366     0.618     0.579    95\n",
      "     sad     0.366     0.000     0.000    91\n",
      "surprise     0.366     0.292     0.508    61\n",
      "                                          610\n",
      "\n",
      " \n",
      "     avg     0.366     0.238     0.344    \n",
      "\n",
      "Test Error: \n",
      " Accuracy: 36.6%, Avg loss: 1.743714 \n",
      "\n",
      "Generating Report... \n",
      "\n",
      "Report saved to: /home/ckwdani/Programming/Projects/masterarbeit/Jupyter/mainProject/notebooks/content/soundstream/experiments/tester/Run_Nr_0/conv/emo_reco_best_ep1_acc_37.md \n",
      "\n",
      "New best model saved to \"/home/ckwdani/Programming/Projects/masterarbeit/Jupyter/mainProject/notebooks/content/soundstream/experiments/tester/Run_Nr_0/conv/emo_reco_best_ep1_acc_37\"!  new accuracy: 36.6\n",
      "Epoch 3\n",
      "-------------------------------\n",
      "loss: 1.942636  [    0/ 5482]\n"
     ]
    },
    {
     "name": "stderr",
     "output_type": "stream",
     "text": [
      "/home/ckwdani/Programming/Projects/masterarbeit/Jupyter/mainProject/venv/lib/python3.10/site-packages/torch/nn/functional.py:1956: UserWarning: nn.functional.tanh is deprecated. Use torch.tanh instead.\n",
      "  warnings.warn(\"nn.functional.tanh is deprecated. Use torch.tanh instead.\")\n"
     ]
    },
    {
     "name": "stdout",
     "output_type": "stream",
     "text": [
      "loss: 1.735214  [  600/ 5482]\n",
      "loss: 1.546489  [ 1200/ 5482]\n",
      "loss: 1.833085  [ 1800/ 5482]\n",
      "loss: 1.638683  [ 2400/ 5482]\n",
      "loss: 1.795390  [ 3000/ 5482]\n",
      "loss: 1.731464  [ 3600/ 5482]\n",
      "loss: 1.849867  [ 4200/ 5482]\n",
      "loss: 1.761360  [ 4800/ 5482]\n",
      "loss: 1.790506  [ 5400/ 5482]\n",
      "           accuracy  precision  recall   support\n",
      "   angry     0.395     0.439     0.657    99\n",
      " disgust     0.395     0.321     0.813    107\n",
      "    fear     0.395     0.222     0.050    80\n",
      "   happy     0.395     0.000     0.000    77\n",
      " neutral     0.395     0.735     0.526    95\n",
      "     sad     0.395     0.000     0.000    91\n",
      "surprise     0.395     0.333     0.574    61\n",
      "                                          610\n",
      "\n",
      " \n",
      "     avg     0.395     0.293     0.374    \n",
      "\n",
      "Test Error: \n",
      " Accuracy: 39.5%, Avg loss: 1.698513 \n",
      "\n",
      "Generating Report... \n",
      "\n",
      "Report saved to: /home/ckwdani/Programming/Projects/masterarbeit/Jupyter/mainProject/notebooks/content/soundstream/experiments/tester/Run_Nr_0/conv/emo_reco_best_ep2_acc_40.md \n",
      "\n",
      "New best model saved to \"/home/ckwdani/Programming/Projects/masterarbeit/Jupyter/mainProject/notebooks/content/soundstream/experiments/tester/Run_Nr_0/conv/emo_reco_best_ep2_acc_40\"!  new accuracy: 39.5\n",
      "Epoch 4\n",
      "-------------------------------\n",
      "loss: 1.794008  [    0/ 5482]\n"
     ]
    },
    {
     "name": "stderr",
     "output_type": "stream",
     "text": [
      "/home/ckwdani/Programming/Projects/masterarbeit/Jupyter/mainProject/venv/lib/python3.10/site-packages/torch/nn/functional.py:1956: UserWarning: nn.functional.tanh is deprecated. Use torch.tanh instead.\n",
      "  warnings.warn(\"nn.functional.tanh is deprecated. Use torch.tanh instead.\")\n"
     ]
    },
    {
     "name": "stdout",
     "output_type": "stream",
     "text": [
      "loss: 1.861406  [  600/ 5482]\n",
      "loss: 1.645910  [ 1200/ 5482]\n",
      "loss: 1.675426  [ 1800/ 5482]\n",
      "loss: 1.800390  [ 2400/ 5482]\n",
      "loss: 1.588358  [ 3000/ 5482]\n",
      "loss: 1.476037  [ 3600/ 5482]\n",
      "loss: 1.692882  [ 4200/ 5482]\n",
      "loss: 1.493706  [ 4800/ 5482]\n",
      "loss: 1.754501  [ 5400/ 5482]\n",
      "           accuracy  precision  recall   support\n",
      "   angry     0.420     0.461     0.657    99\n",
      " disgust     0.420     0.344     0.832    107\n",
      "    fear     0.420     0.273     0.075    80\n",
      "   happy     0.420     0.000     0.000    77\n",
      " neutral     0.420     0.708     0.663    95\n",
      "     sad     0.420     0.074     0.022    91\n",
      "surprise     0.420     0.437     0.508    61\n",
      "                                          610\n",
      "\n",
      " \n",
      "     avg     0.420     0.328     0.394    \n",
      "\n",
      "Test Error: \n",
      " Accuracy: 42.0%, Avg loss: 1.646775 \n",
      "\n",
      "Generating Report... \n",
      "\n",
      "Report saved to: /home/ckwdani/Programming/Projects/masterarbeit/Jupyter/mainProject/notebooks/content/soundstream/experiments/tester/Run_Nr_0/conv/emo_reco_best_ep3_acc_42.md \n",
      "\n",
      "New best model saved to \"/home/ckwdani/Programming/Projects/masterarbeit/Jupyter/mainProject/notebooks/content/soundstream/experiments/tester/Run_Nr_0/conv/emo_reco_best_ep3_acc_42\"!  new accuracy: 42.0\n",
      "Epoch 5\n",
      "-------------------------------\n",
      "loss: 1.544998  [    0/ 5482]\n"
     ]
    },
    {
     "name": "stderr",
     "output_type": "stream",
     "text": [
      "/home/ckwdani/Programming/Projects/masterarbeit/Jupyter/mainProject/venv/lib/python3.10/site-packages/torch/nn/functional.py:1956: UserWarning: nn.functional.tanh is deprecated. Use torch.tanh instead.\n",
      "  warnings.warn(\"nn.functional.tanh is deprecated. Use torch.tanh instead.\")\n"
     ]
    },
    {
     "name": "stdout",
     "output_type": "stream",
     "text": [
      "loss: 1.568555  [  600/ 5482]\n",
      "loss: 1.810131  [ 1200/ 5482]\n",
      "loss: 1.721431  [ 1800/ 5482]\n",
      "loss: 1.633810  [ 2400/ 5482]\n",
      "loss: 1.506850  [ 3000/ 5482]\n",
      "loss: 1.439139  [ 3600/ 5482]\n",
      "loss: 1.585498  [ 4200/ 5482]\n",
      "loss: 1.395451  [ 4800/ 5482]\n",
      "loss: 1.695453  [ 5400/ 5482]\n",
      "           accuracy  precision  recall   support\n",
      "   angry     0.425     0.378     0.768    99\n",
      " disgust     0.425     0.371     0.729    107\n",
      "    fear     0.425     0.235     0.050    80\n",
      "   happy     0.425     0.000     0.000    77\n",
      " neutral     0.425     0.708     0.663    95\n",
      "     sad     0.425     0.214     0.099    91\n",
      "surprise     0.425     0.580     0.475    61\n",
      "                                          610\n",
      "\n",
      " \n",
      "     avg     0.425     0.355     0.398    \n",
      "\n",
      "Test Error: \n",
      " Accuracy: 42.5%, Avg loss: 1.615400 \n",
      "\n",
      "Generating Report... \n",
      "\n",
      "Report saved to: /home/ckwdani/Programming/Projects/masterarbeit/Jupyter/mainProject/notebooks/content/soundstream/experiments/tester/Run_Nr_0/conv/emo_reco_best_ep4_acc_42.md \n",
      "\n",
      "New best model saved to \"/home/ckwdani/Programming/Projects/masterarbeit/Jupyter/mainProject/notebooks/content/soundstream/experiments/tester/Run_Nr_0/conv/emo_reco_best_ep4_acc_42\"!  new accuracy: 42.5\n",
      "Epoch 6\n",
      "-------------------------------\n",
      "loss: 1.610810  [    0/ 5482]\n"
     ]
    },
    {
     "name": "stderr",
     "output_type": "stream",
     "text": [
      "/home/ckwdani/Programming/Projects/masterarbeit/Jupyter/mainProject/venv/lib/python3.10/site-packages/torch/nn/functional.py:1956: UserWarning: nn.functional.tanh is deprecated. Use torch.tanh instead.\n",
      "  warnings.warn(\"nn.functional.tanh is deprecated. Use torch.tanh instead.\")\n"
     ]
    },
    {
     "name": "stdout",
     "output_type": "stream",
     "text": [
      "loss: 1.490965  [  600/ 5482]\n",
      "loss: 1.645212  [ 1200/ 5482]\n",
      "loss: 1.945128  [ 1800/ 5482]\n",
      "loss: 1.268830  [ 2400/ 5482]\n",
      "loss: 1.511891  [ 3000/ 5482]\n",
      "loss: 1.296216  [ 3600/ 5482]\n",
      "loss: 1.367945  [ 4200/ 5482]\n",
      "loss: 1.377496  [ 4800/ 5482]\n",
      "loss: 1.444832  [ 5400/ 5482]\n",
      "           accuracy  precision  recall   support\n",
      "   angry     0.433     0.446     0.667    99\n",
      " disgust     0.433     0.416     0.645    107\n",
      "    fear     0.433     0.222     0.025    80\n",
      "   happy     0.433     0.000     0.000    77\n",
      " neutral     0.433     0.739     0.684    95\n",
      "     sad     0.433     0.219     0.330    91\n",
      "surprise     0.433     0.533     0.525    61\n",
      "                                          610\n",
      "\n",
      " \n",
      "     avg     0.433     0.368     0.411    \n",
      "\n",
      "Test Error: \n",
      " Accuracy: 43.3%, Avg loss: 1.585495 \n",
      "\n",
      "Generating Report... \n",
      "\n",
      "Report saved to: /home/ckwdani/Programming/Projects/masterarbeit/Jupyter/mainProject/notebooks/content/soundstream/experiments/tester/Run_Nr_0/conv/emo_reco_best_ep5_acc_43.md \n",
      "\n",
      "New best model saved to \"/home/ckwdani/Programming/Projects/masterarbeit/Jupyter/mainProject/notebooks/content/soundstream/experiments/tester/Run_Nr_0/conv/emo_reco_best_ep5_acc_43\"!  new accuracy: 43.3\n",
      "Epoch 7\n",
      "-------------------------------\n",
      "loss: 1.353457  [    0/ 5482]\n"
     ]
    },
    {
     "name": "stderr",
     "output_type": "stream",
     "text": [
      "/home/ckwdani/Programming/Projects/masterarbeit/Jupyter/mainProject/venv/lib/python3.10/site-packages/torch/nn/functional.py:1956: UserWarning: nn.functional.tanh is deprecated. Use torch.tanh instead.\n",
      "  warnings.warn(\"nn.functional.tanh is deprecated. Use torch.tanh instead.\")\n"
     ]
    },
    {
     "name": "stdout",
     "output_type": "stream",
     "text": [
      "loss: 1.644593  [  600/ 5482]\n",
      "loss: 1.513236  [ 1200/ 5482]\n",
      "loss: 1.979953  [ 1800/ 5482]\n",
      "loss: 1.754811  [ 2400/ 5482]\n",
      "loss: 1.466854  [ 3000/ 5482]\n",
      "loss: 1.062075  [ 3600/ 5482]\n",
      "loss: 1.379456  [ 4200/ 5482]\n",
      "loss: 1.117252  [ 4800/ 5482]\n",
      "loss: 1.636760  [ 5400/ 5482]\n",
      "           accuracy  precision  recall   support\n",
      "   angry     0.464     0.413     0.747    99\n",
      " disgust     0.464     0.574     0.617    107\n",
      "    fear     0.464     0.217     0.062    80\n",
      "   happy     0.464     0.312     0.065    77\n",
      " neutral     0.464     0.589     0.768    95\n",
      "     sad     0.464     0.310     0.396    91\n",
      "surprise     0.464     0.649     0.393    61\n",
      "                                          610\n",
      "\n",
      " \n",
      "     avg     0.464     0.438     0.436    \n",
      "\n",
      "Test Error: \n",
      " Accuracy: 46.4%, Avg loss: 1.575907 \n",
      "\n",
      "Generating Report... \n",
      "\n",
      "Report saved to: /home/ckwdani/Programming/Projects/masterarbeit/Jupyter/mainProject/notebooks/content/soundstream/experiments/tester/Run_Nr_0/conv/emo_reco_best_ep6_acc_46.md \n",
      "\n",
      "New best model saved to \"/home/ckwdani/Programming/Projects/masterarbeit/Jupyter/mainProject/notebooks/content/soundstream/experiments/tester/Run_Nr_0/conv/emo_reco_best_ep6_acc_46\"!  new accuracy: 46.4\n",
      "Epoch 8\n",
      "-------------------------------\n",
      "loss: 1.428413  [    0/ 5482]\n"
     ]
    },
    {
     "name": "stderr",
     "output_type": "stream",
     "text": [
      "/home/ckwdani/Programming/Projects/masterarbeit/Jupyter/mainProject/venv/lib/python3.10/site-packages/torch/nn/functional.py:1956: UserWarning: nn.functional.tanh is deprecated. Use torch.tanh instead.\n",
      "  warnings.warn(\"nn.functional.tanh is deprecated. Use torch.tanh instead.\")\n"
     ]
    },
    {
     "name": "stdout",
     "output_type": "stream",
     "text": [
      "loss: 1.297755  [  600/ 5482]\n",
      "loss: 1.424337  [ 1200/ 5482]\n",
      "loss: 1.078639  [ 1800/ 5482]\n",
      "loss: 1.484020  [ 2400/ 5482]\n",
      "loss: 1.260311  [ 3000/ 5482]\n",
      "loss: 1.363574  [ 3600/ 5482]\n",
      "loss: 1.262430  [ 4200/ 5482]\n",
      "loss: 1.472512  [ 4800/ 5482]\n",
      "loss: 1.204918  [ 5400/ 5482]\n",
      "           accuracy  precision  recall   support\n",
      "   angry     0.484     0.489     0.677    99\n",
      " disgust     0.484     0.575     0.570    107\n",
      "    fear     0.484     0.333     0.100    80\n",
      "   happy     0.484     0.308     0.052    77\n",
      " neutral     0.484     0.728     0.705    95\n",
      "     sad     0.484     0.301     0.571    91\n",
      "surprise     0.484     0.554     0.590    61\n",
      "                                          610\n",
      "\n",
      " \n",
      "     avg     0.484     0.470     0.467    \n",
      "\n",
      "Test Error: \n",
      " Accuracy: 48.4%, Avg loss: 1.540544 \n",
      "\n",
      "Generating Report... \n",
      "\n",
      "Report saved to: /home/ckwdani/Programming/Projects/masterarbeit/Jupyter/mainProject/notebooks/content/soundstream/experiments/tester/Run_Nr_0/conv/emo_reco_best_ep7_acc_48.md \n",
      "\n",
      "New best model saved to \"/home/ckwdani/Programming/Projects/masterarbeit/Jupyter/mainProject/notebooks/content/soundstream/experiments/tester/Run_Nr_0/conv/emo_reco_best_ep7_acc_48\"!  new accuracy: 48.4\n",
      "Epoch 9\n",
      "-------------------------------\n",
      "loss: 1.622658  [    0/ 5482]\n"
     ]
    },
    {
     "name": "stderr",
     "output_type": "stream",
     "text": [
      "/home/ckwdani/Programming/Projects/masterarbeit/Jupyter/mainProject/venv/lib/python3.10/site-packages/torch/nn/functional.py:1956: UserWarning: nn.functional.tanh is deprecated. Use torch.tanh instead.\n",
      "  warnings.warn(\"nn.functional.tanh is deprecated. Use torch.tanh instead.\")\n"
     ]
    },
    {
     "name": "stdout",
     "output_type": "stream",
     "text": [
      "loss: 1.275890  [  600/ 5482]\n",
      "loss: 1.437665  [ 1200/ 5482]\n",
      "loss: 1.480929  [ 1800/ 5482]\n",
      "loss: 1.298710  [ 2400/ 5482]\n",
      "loss: 1.514518  [ 3000/ 5482]\n",
      "loss: 1.294915  [ 3600/ 5482]\n",
      "loss: 1.045299  [ 4200/ 5482]\n",
      "loss: 1.550893  [ 4800/ 5482]\n",
      "loss: 1.222911  [ 5400/ 5482]\n",
      "           accuracy  precision  recall   support\n",
      "   angry     0.489     0.450     0.677    99\n",
      " disgust     0.489     0.587     0.598    107\n",
      "    fear     0.489     0.231     0.075    80\n",
      "   happy     0.489     0.333     0.091    77\n",
      " neutral     0.489     0.676     0.768    95\n",
      "     sad     0.489     0.345     0.538    91\n",
      "surprise     0.489     0.582     0.525    61\n",
      "                                          610\n",
      "\n",
      " \n",
      "     avg     0.489     0.458     0.467    \n",
      "\n",
      "Test Error: \n",
      " Accuracy: 48.9%, Avg loss: 1.513623 \n",
      "\n",
      "Generating Report... \n",
      "\n",
      "Report saved to: /home/ckwdani/Programming/Projects/masterarbeit/Jupyter/mainProject/notebooks/content/soundstream/experiments/tester/Run_Nr_0/conv/emo_reco_best_ep8_acc_49.md \n",
      "\n",
      "New best model saved to \"/home/ckwdani/Programming/Projects/masterarbeit/Jupyter/mainProject/notebooks/content/soundstream/experiments/tester/Run_Nr_0/conv/emo_reco_best_ep8_acc_49\"!  new accuracy: 48.9\n",
      "Epoch 10\n",
      "-------------------------------\n",
      "loss: 1.228762  [    0/ 5482]\n"
     ]
    },
    {
     "name": "stderr",
     "output_type": "stream",
     "text": [
      "/home/ckwdani/Programming/Projects/masterarbeit/Jupyter/mainProject/venv/lib/python3.10/site-packages/torch/nn/functional.py:1956: UserWarning: nn.functional.tanh is deprecated. Use torch.tanh instead.\n",
      "  warnings.warn(\"nn.functional.tanh is deprecated. Use torch.tanh instead.\")\n"
     ]
    },
    {
     "name": "stdout",
     "output_type": "stream",
     "text": [
      "loss: 1.151833  [  600/ 5482]\n",
      "loss: 1.184653  [ 1200/ 5482]\n",
      "loss: 1.144848  [ 1800/ 5482]\n",
      "loss: 1.018723  [ 2400/ 5482]\n",
      "loss: 1.420665  [ 3000/ 5482]\n",
      "loss: 1.607324  [ 3600/ 5482]\n",
      "loss: 1.340578  [ 4200/ 5482]\n",
      "loss: 1.406748  [ 4800/ 5482]\n",
      "loss: 1.290029  [ 5400/ 5482]\n",
      "           accuracy  precision  recall   support\n",
      "   angry     0.516     0.448     0.747    99\n",
      " disgust     0.516     0.729     0.654    107\n",
      "    fear     0.516     0.150     0.037    80\n",
      "   happy     0.516     0.222     0.078    77\n",
      " neutral     0.516     0.711     0.726    95\n",
      "     sad     0.516     0.431     0.681    91\n",
      "surprise     0.516     0.508     0.508    61\n",
      "                                          610\n",
      "\n",
      " \n",
      "     avg     0.516     0.457     0.490    \n",
      "\n",
      "Test Error: \n",
      " Accuracy: 51.6%, Avg loss: 1.483189 \n",
      "\n",
      "Generating Report... \n",
      "\n",
      "Report saved to: /home/ckwdani/Programming/Projects/masterarbeit/Jupyter/mainProject/notebooks/content/soundstream/experiments/tester/Run_Nr_0/conv/emo_reco_best_ep9_acc_52.md \n",
      "\n",
      "New best model saved to \"/home/ckwdani/Programming/Projects/masterarbeit/Jupyter/mainProject/notebooks/content/soundstream/experiments/tester/Run_Nr_0/conv/emo_reco_best_ep9_acc_52\"!  new accuracy: 51.6\n",
      "Generating Report... \n",
      "\n"
     ]
    },
    {
     "ename": "FileNotFoundError",
     "evalue": "[Errno 2] No such file or directory: 'Run_Nr_0/conv.md'",
     "output_type": "error",
     "traceback": [
      "\u001B[0;31m---------------------------------------------------------------------------\u001B[0m",
      "\u001B[0;31mFileNotFoundError\u001B[0m                         Traceback (most recent call last)",
      "Cell \u001B[0;32mIn[2], line 2\u001B[0m\n\u001B[1;32m      1\u001B[0m gc\u001B[38;5;241m.\u001B[39mcollect()\n\u001B[0;32m----> 2\u001B[0m \u001B[43mexp_trainer\u001B[49m\u001B[38;5;241;43m.\u001B[39;49m\u001B[43mtrain_em\u001B[49m\u001B[43m(\u001B[49m\u001B[43m)\u001B[49m\n",
      "File \u001B[0;32m~/Programming/Projects/masterarbeit/Jupyter/mainProject/network_models/soundsream_models_and_utils/ss_wrapper_trainer_experiments.py:37\u001B[0m, in \u001B[0;36mExperimentsTrainer.train_em\u001B[0;34m(self)\u001B[0m\n\u001B[1;32m     35\u001B[0m highest_acc_c, higest_epoch_c, higest_true_c, higest_pred_c \u001B[38;5;241m=\u001B[39m \u001B[38;5;28mself\u001B[39m\u001B[38;5;241m.\u001B[39mrun_conv_model_test(lr, \u001B[38;5;28mself\u001B[39m\u001B[38;5;241m.\u001B[39mepochs_per_model, trail)\n\u001B[1;32m     36\u001B[0m \u001B[38;5;66;03m# generate Report\u001B[39;00m\n\u001B[0;32m---> 37\u001B[0m \u001B[43mSSGenModelTrainer\u001B[49m\u001B[38;5;241;43m.\u001B[39;49m\u001B[43mgenAndSaveEvaluation\u001B[49m\u001B[43m(\u001B[49m\u001B[38;5;124;43mf\u001B[39;49m\u001B[38;5;124;43m\"\u001B[39;49m\u001B[38;5;124;43mRun_Nr_\u001B[39;49m\u001B[38;5;132;43;01m{\u001B[39;49;00m\u001B[43mtrail\u001B[49m\u001B[38;5;132;43;01m}\u001B[39;49;00m\u001B[38;5;124;43m/conv\u001B[39;49m\u001B[38;5;124;43m\"\u001B[39;49m\u001B[43m,\u001B[49m\u001B[43m \u001B[49m\u001B[43mhigest_true_c\u001B[49m\u001B[43m,\u001B[49m\u001B[43m \u001B[49m\u001B[43mhigest_pred_c\u001B[49m\u001B[43m,\u001B[49m\u001B[43m \u001B[49m\u001B[43mhighest_acc_c\u001B[49m\u001B[43m,\u001B[49m\u001B[43m \u001B[49m\u001B[43mhigest_epoch_c\u001B[49m\u001B[43m,\u001B[49m\u001B[43m \u001B[49m\u001B[38;5;124;43m\"\u001B[39;49m\u001B[38;5;124;43mConvolutional\u001B[39;49m\u001B[38;5;124;43m\"\u001B[39;49m\u001B[43m,\u001B[49m\u001B[43m \u001B[49m\u001B[38;5;28;43mself\u001B[39;49m\u001B[38;5;241;43m.\u001B[39;49m\u001B[43mdataset\u001B[49m\u001B[38;5;241;43m.\u001B[39;49m\u001B[43mencoded_dataset\u001B[49m\u001B[38;5;241;43m.\u001B[39;49m\u001B[43mlabel_list\u001B[49m\u001B[43m)\u001B[49m\n\u001B[1;32m     39\u001B[0m gc\u001B[38;5;241m.\u001B[39mcollect()\n\u001B[1;32m     40\u001B[0m highest_acc_dr, higest_epoch_dr, higest_true_dr, higest_pred_dr \u001B[38;5;241m=\u001B[39m \u001B[38;5;28mself\u001B[39m\u001B[38;5;241m.\u001B[39mrun_dim_red_model_test(lr, \u001B[38;5;28mself\u001B[39m\u001B[38;5;241m.\u001B[39mepochs_per_model, trail)\n",
      "File \u001B[0;32m~/Programming/Projects/masterarbeit/Jupyter/mainProject/network_models/soundsream_models_and_utils/ss_trainer_gen_models.py:166\u001B[0m, in \u001B[0;36mSSGenModelTrainer.genAndSaveEvaluation\u001B[0;34m(filename, ground_truth, pred, acc, epoch, modelName, labelList)\u001B[0m\n\u001B[1;32m    163\u001B[0m save_str \u001B[38;5;241m+\u001B[39m\u001B[38;5;241m=\u001B[39m \u001B[38;5;124m\"\u001B[39m\u001B[38;5;124m```\u001B[39m\u001B[38;5;124m\"\u001B[39m\u001B[38;5;241m+\u001B[39mconfusion_matrix(true_codes\u001B[38;5;241m=\u001B[39mground_truth, pred_codes\u001B[38;5;241m=\u001B[39mpred,sortedLabelStrings\u001B[38;5;241m=\u001B[39mlabelList, printReport\u001B[38;5;241m=\u001B[39m\u001B[38;5;28;01mFalse\u001B[39;00m) \u001B[38;5;241m+\u001B[39m \u001B[38;5;124m\"\u001B[39m\u001B[38;5;124m```\u001B[39m\u001B[38;5;130;01m\\n\u001B[39;00m\u001B[38;5;124m\"\u001B[39m\n\u001B[1;32m    164\u001B[0m save_str \u001B[38;5;241m+\u001B[39m\u001B[38;5;241m=\u001B[39m \u001B[38;5;124mf\u001B[39m\u001B[38;5;124m\"\u001B[39m\u001B[38;5;124mMax Accuracy: \u001B[39m\u001B[38;5;132;01m{\u001B[39;00macc\u001B[38;5;132;01m}\u001B[39;00m\u001B[38;5;124m in epoch \u001B[39m\u001B[38;5;132;01m{\u001B[39;00mepoch\u001B[38;5;132;01m}\u001B[39;00m\u001B[38;5;124m\"\u001B[39m\n\u001B[0;32m--> 166\u001B[0m file \u001B[38;5;241m=\u001B[39m \u001B[38;5;28;43mopen\u001B[39;49m\u001B[43m(\u001B[49m\u001B[43mfilename\u001B[49m\u001B[38;5;241;43m+\u001B[39;49m\u001B[38;5;124;43m\"\u001B[39;49m\u001B[38;5;124;43m.md\u001B[39;49m\u001B[38;5;124;43m\"\u001B[39;49m\u001B[43m,\u001B[49m\u001B[43m \u001B[49m\u001B[38;5;124;43m\"\u001B[39;49m\u001B[38;5;124;43mw\u001B[39;49m\u001B[38;5;124;43m\"\u001B[39;49m\u001B[43m)\u001B[49m\n\u001B[1;32m    167\u001B[0m file\u001B[38;5;241m.\u001B[39mwrite(save_str)\n\u001B[1;32m    168\u001B[0m file\u001B[38;5;241m.\u001B[39mclose()\n",
      "\u001B[0;31mFileNotFoundError\u001B[0m: [Errno 2] No such file or directory: 'Run_Nr_0/conv.md'"
     ]
    }
   ],
   "source": [
    "gc.collect()\n",
    "exp_trainer.train_em()"
   ],
   "metadata": {
    "collapsed": false
   }
  }
 ],
 "metadata": {
  "kernelspec": {
   "display_name": "Python 3",
   "language": "python",
   "name": "python3"
  },
  "language_info": {
   "codemirror_mode": {
    "name": "ipython",
    "version": 2
   },
   "file_extension": ".py",
   "mimetype": "text/x-python",
   "name": "python",
   "nbconvert_exporter": "python",
   "pygments_lexer": "ipython2",
   "version": "2.7.6"
  }
 },
 "nbformat": 4,
 "nbformat_minor": 0
}
