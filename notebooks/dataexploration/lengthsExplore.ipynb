{
 "cells": [
  {
   "cell_type": "markdown",
   "source": [
    "# Exploring lengts"
   ],
   "metadata": {
    "collapsed": false
   }
  },
  {
   "cell_type": "code",
   "execution_count": 1,
   "outputs": [],
   "source": [
    "import importlib\n",
    "import sys\n",
    "from pathlib import Path\n",
    "\n",
    "module_path = str(Path.cwd().parents[0] / \"network_models/soundstream_lstm\")\n",
    "if module_path not in sys.path:\n",
    "    sys.path.append(module_path)\n",
    "\n",
    "import network_models.soundstream_lstm.CombinedEmoDataset_7_Emo as ced\n",
    "importlib.reload(ced)\n",
    "\n",
    "\n",
    "directory_tess=\"/home/ckwdani/Music/emotionDatasets/converted_mono/tess\"\n",
    "directory_cafe=\"/home/ckwdani/Music/emotionDatasets/converted_mono/cafe\"\n",
    "directory_ravdess=\"/home/ckwdani/Music/emotionDatasets/converted_mono/RAVDESS Audio_Speech_Actors_01-24\"\n",
    "directory_mesd=\"/home/ckwdani/Music/emotionDatasets/converted_mono/mesd\"\n",
    "\n",
    "#collator = ced.collateToSeconds(3.5, 16000, 0, True)\n",
    "\n",
    "collator = lambda x: x\n",
    "\n",
    "tess = ced.DatasetGeneric(directory=directory_tess, device=\"cpu\", load_dataset=ced.loadTess, transFormAudio=collator)\n",
    "cafe = ced.DatasetGeneric(directory=directory_cafe, device=\"cpu\", load_dataset=ced.loadCafe, transFormAudio=collator)\n",
    "ravdess = ced.DatasetGeneric(directory=directory_ravdess, device=\"cpu\", load_dataset=ced.loadRavdess, transFormAudio=collator)\n",
    "mesd = ced.DatasetGeneric(directory=directory_mesd, device=\"cpu\", load_dataset=ced.loadMesd, transFormAudio=collator)\n",
    "\n",
    "\n",
    "def getMinMaxAvg(ds: ced.DatasetGeneric):\n",
    "    mini, maxi, avg = float(\"inf\"), 0, 0\n",
    "    for i in range(len(ds)):\n",
    "        lenSec = len(ds[i][0][0])/16000\n",
    "        mini = min(mini, lenSec)\n",
    "        maxi = max(maxi, lenSec)\n",
    "        avg = ((i * avg) + lenSec)/(i+1)\n",
    "    return mini, maxi, avg\n",
    "\n",
    "\n",
    "def getMinMaxFromValues(ds: ced.DatasetGeneric):\n",
    "    mini, maxi = float(\"inf\"), 0\n",
    "    print(len(ds[0][0][0]))\n",
    "    for i in range(len(ds[0][0][0])):\n",
    "        if(i % 1000 == 0):\n",
    "            print(i)\n",
    "        val = ds[0][0][0][i]\n",
    "        mini = min(mini, val)\n",
    "        maxi = max(maxi, val)\n",
    "    return mini, maxi"
   ],
   "metadata": {
    "collapsed": false
   }
  },
  {
   "cell_type": "code",
   "execution_count": 2,
   "outputs": [
    {
     "name": "stdout",
     "output_type": "stream",
     "text": [
      "tess min: 1.2540625, max: 2.9848125, avg: 2.064458597715735\n",
      "cafe min: 2.556875, max: 7.744875, avg: 4.4417601495726595\n",
      "ravdess min: 2.969625, max: 5.2719375, avg: 3.6860485276442287\n",
      "mesd min: 0.1990625, max: 2.5371875, avg: 0.6946825543478258\n"
     ]
    }
   ],
   "source": [
    "\n",
    "tessVals = getMinMaxAvg(tess)\n",
    "cafeVals = getMinMaxAvg(cafe)\n",
    "ravdessVals = getMinMaxAvg(ravdess)\n",
    "mesdVals = getMinMaxAvg(mesd)\n",
    "\n",
    "print(f\"tess min: {tessVals[0]}, max: {tessVals[1]}, avg: {tessVals[2]}\" )\n",
    "print(f\"cafe min: {cafeVals[0]}, max: {cafeVals[1]}, avg: {cafeVals[2]}\" )\n",
    "print(f\"ravdess min: {ravdessVals[0]}, max: {ravdessVals[1]}, avg: {ravdessVals[2]}\" )\n",
    "print(f\"mesd min: {mesdVals[0]}, max: {mesdVals[1]}, avg: {mesdVals[2]}\" )"
   ],
   "metadata": {
    "collapsed": false
   }
  },
  {
   "cell_type": "code",
   "execution_count": 2,
   "outputs": [
    {
     "name": "stdout",
     "output_type": "stream",
     "text": [
      "56000\n",
      "0\n",
      "1000\n",
      "2000\n",
      "3000\n",
      "4000\n",
      "5000\n",
      "6000\n",
      "7000\n",
      "8000\n",
      "9000\n",
      "10000\n",
      "11000\n",
      "12000\n",
      "13000\n",
      "14000\n",
      "15000\n",
      "16000\n",
      "17000\n",
      "18000\n",
      "19000\n",
      "20000\n",
      "21000\n",
      "22000\n",
      "23000\n",
      "24000\n",
      "25000\n",
      "26000\n",
      "27000\n",
      "28000\n",
      "29000\n",
      "30000\n",
      "31000\n",
      "32000\n",
      "33000\n",
      "34000\n",
      "35000\n",
      "36000\n",
      "37000\n",
      "38000\n",
      "39000\n",
      "40000\n",
      "41000\n",
      "42000\n",
      "43000\n",
      "44000\n",
      "45000\n",
      "46000\n",
      "47000\n",
      "48000\n",
      "49000\n",
      "50000\n",
      "51000\n",
      "52000\n",
      "53000\n",
      "54000\n",
      "55000\n",
      "tess min: -0.15655517578125, max: 0.133209228515625\n"
     ]
    }
   ],
   "source": [
    "tessVals = getMinMaxFromValues(tess)\n",
    "#cafeVals = getMinMaxFromValues(cafe)\n",
    "#ravdessVals = getMinMaxFromValues(ravdess)\n",
    "#mesdVals = getMinMaxFromValues(mesd)\n",
    "\n",
    "print(f\"tess min: {tessVals[0]}, max: {tessVals[1]}\" )\n",
    "# print(f\"cafe min: {cafeVals[0]}, max: {cafeVals[1]}\" )\n",
    "# print(f\"ravdess min: {ravdessVals[0]}, max: {ravdessVals[1]}\" )\n",
    "# print(f\"mesd min: {mesdVals[0]}, max: {mesdVals[1]}\" )"
   ],
   "metadata": {
    "collapsed": false
   }
  }
 ],
 "metadata": {
  "kernelspec": {
   "display_name": "Python 3",
   "language": "python",
   "name": "python3"
  },
  "language_info": {
   "codemirror_mode": {
    "name": "ipython",
    "version": 2
   },
   "file_extension": ".py",
   "mimetype": "text/x-python",
   "name": "python",
   "nbconvert_exporter": "python",
   "pygments_lexer": "ipython2",
   "version": "2.7.6"
  }
 },
 "nbformat": 4,
 "nbformat_minor": 0
}
