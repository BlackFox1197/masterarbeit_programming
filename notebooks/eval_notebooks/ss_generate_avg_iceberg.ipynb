{
 "cells": [
  {
   "cell_type": "code",
   "execution_count": 79,
   "metadata": {
    "collapsed": true
   },
   "outputs": [],
   "source": [
    "import pandas as pd\n",
    "\n",
    "from utils.audio_dataset_utils import train_val_dataset\n",
    "from network_models.soundsream_models_and_utils.ss_model_dim_red import SSDimRedModel\n",
    "from network_models.soundsream_models_and_utils.ss_model_conv import SSConvModel3Sec\n",
    "from network_models.soundsream_models_and_utils.ss_encoded_dataset import ss_encoded_dataset_full\n",
    "import torch\n",
    "from torch.utils.data import DataLoader\n",
    "\n",
    "batch_size = 1\n",
    "\n",
    "data_set= ss_encoded_dataset_full(\n",
    "    csvPath=\"/home/ckwdani/Programming/Projects/masterarbeit/Jupyter/mainProject/notebooks/content/data/allEncodings.pkl\", device=\"cuda\")\n",
    "\n",
    "json_path =\" /home/ckwdani/Programming/Projects/masterarbeit/Jupyter/mainProject/notebooks/content/data/\"\n",
    "\n",
    "modelDimRed = SSDimRedModel().cuda()\n",
    "modelConv = SSConvModel3Sec(xSize=512, ySize=175).cuda()\n",
    "\n"
   ]
  },
  {
   "cell_type": "code",
   "execution_count": 80,
   "outputs": [
    {
     "data": {
      "text/plain": "<All keys matched successfully>"
     },
     "execution_count": 80,
     "metadata": {},
     "output_type": "execute_result"
    }
   ],
   "source": [
    "modelConv.load_state_dict(torch.load(\"../content/soundstream/experiments/nr2Run_Nr_0_conv/emo_reco_best_ep216_acc_62\"))\n",
    "modelDimRed.load_state_dict(torch.load(\"../content/soundstream/experiments/nr2Run_Nr_0_dimred/emo_reco_500.pth\"))"
   ],
   "metadata": {
    "collapsed": false
   }
  },
  {
   "cell_type": "code",
   "execution_count": 102,
   "outputs": [],
   "source": [
    "from numpy import ndarray\n",
    "\n",
    "\n",
    "def generateParameters(device, model, dataset, labels):\n",
    "    loader = DataLoader(dataset, shuffle=False, batch_size=1)\n",
    "    d ={}\n",
    "\n",
    "    for label in labels:\n",
    "        d.update({label: []})\n",
    "\n",
    "    emo_angry = []\n",
    "    emo_disgust = []\n",
    "    emo_fear = []\n",
    "    emo_happy = []\n",
    "    emo_neutral = []\n",
    "    emo_sad = []\n",
    "    emo_surprise = []\n",
    "\n",
    "    with torch.no_grad():\n",
    "        for batch, (X, z) in enumerate(loader):\n",
    "            X, z = X.to(device),  z.to(device)\n",
    "            dims, pred = model(X, return_with_dims= True)\n",
    "            label = data_set.encoded_dataset.label_list[z[0].nonzero().cpu().numpy()[0][0]]\n",
    "            dims = dims.cpu().numpy()[0]\n",
    "            d[label].append(dims)\n",
    "            #match (labels):\n",
    "            #    case \"neutral\":\n",
    "            #        emo_neutral.append(dims)\n",
    "            #    case \"happy\":\n",
    "            #        emo_happy.append(dims)\n",
    "            #    case \"sad\":\n",
    "            #        emo_sad.append(dims)\n",
    "            #    case \"angry\":\n",
    "            #        emo_angry.append(dims)\n",
    "            #    case \"fear\":\n",
    "            #        emo_fear.append(dims)\n",
    "            #    case \"disgust\":\n",
    "            #        emo_disgust.append(dims)\n",
    "            #    case \"surprise\":\n",
    "            #        emo_surprise.append(dims)\n",
    "            if batch % 500 == 0:\n",
    "                print(f\"{batch*batch_size} of {len(dataset)}\")\n",
    "\n",
    "    return d\n",
    "    return emo_angry, emo_disgust, emo_fear, emo_happy, emo_neutral, emo_sad, emo_surprise\n",
    "\n",
    "\n",
    "def genAvgFull(fulldata: list[dict], label_list, modelNameList):\n",
    "    fullDict = {}\n",
    "    for label in label_list:\n",
    "        fullDict.update({label: genAvgAndVar([fd[label] for fd in fulldata], modelNameList)})\n",
    "    return fullDict\n",
    "\n",
    "def genAvgAndVar(data: list[list[ndarray[float]]], modelNameList):\n",
    "    d = {}\n",
    "    for i in range(len(modelNameList)):\n",
    "        mean = np.mean(np.asarray(data[i]), axis=0)\n",
    "        var = np.var(np.asarray(data[i]), axis=0)\n",
    "        d.update({modelNameList[i] : pd.Series([mean, var], index=[\"mean\", \"var\"])})\n",
    "    return pd.DataFrame(d)\n",
    "\n",
    "\n",
    "def generateJson(data):\n",
    "    str = \"{\"\n",
    "    for i in range(len(data)):\n",
    "        str += f\"x{i}: {data[i]},\"\n",
    "    str += \"}\"\n",
    "    return(str)\n",
    "\n",
    "def writeJson(emotion, string):\n",
    "    file = open(json_path+f\"{emotion}.json\", \"w\")\n",
    "    file.write(string)\n",
    "    file.close()"
   ],
   "metadata": {
    "collapsed": false
   }
  },
  {
   "cell_type": "code",
   "execution_count": 100,
   "outputs": [
    {
     "name": "stderr",
     "output_type": "stream",
     "text": [
      "/home/ckwdani/Programming/Projects/masterarbeit/Jupyter/mainProject/venv/lib/python3.10/site-packages/torch/nn/functional.py:1956: UserWarning: nn.functional.tanh is deprecated. Use torch.tanh instead.\n",
      "  warnings.warn(\"nn.functional.tanh is deprecated. Use torch.tanh instead.\")\n"
     ]
    },
    {
     "name": "stdout",
     "output_type": "stream",
     "text": [
      "0 of 6092\n",
      "500 of 6092\n",
      "1000 of 6092\n",
      "1500 of 6092\n",
      "2000 of 6092\n",
      "2500 of 6092\n",
      "3000 of 6092\n",
      "3500 of 6092\n",
      "4000 of 6092\n",
      "4500 of 6092\n",
      "5000 of 6092\n",
      "5500 of 6092\n",
      "6000 of 6092\n",
      "0 of 6092\n",
      "500 of 6092\n",
      "1000 of 6092\n",
      "1500 of 6092\n",
      "2000 of 6092\n",
      "2500 of 6092\n",
      "3000 of 6092\n",
      "3500 of 6092\n",
      "4000 of 6092\n",
      "4500 of 6092\n",
      "5000 of 6092\n",
      "5500 of 6092\n",
      "6000 of 6092\n"
     ]
    }
   ],
   "source": [
    "emo = generateParameters(\"cuda\", modelDimRed, data_set, data_set.encoded_dataset.label_list)\n",
    "conv_emo = generateParameters(\"cuda\", modelConv, data_set, data_set.encoded_dataset.label_list)\n"
   ],
   "metadata": {
    "collapsed": false
   }
  },
  {
   "cell_type": "code",
   "execution_count": null,
   "outputs": [],
   "source": [],
   "metadata": {
    "collapsed": false,
    "pycharm": {
     "is_executing": true
    }
   }
  },
  {
   "cell_type": "code",
   "execution_count": 103,
   "outputs": [
    {
     "data": {
      "text/plain": "{'angry':                                                    red  \\\n mean  [-0.66945684, -0.5150308, 0.64851785, 0.7231073]   \n var    [0.14429769, 0.17769252, 0.08217345, 0.1094079]   \n \n                                                    conv  \n mean  [0.92897815, -0.92863935, -0.9120094, 0.38886377]  \n var    [0.0807195, 0.08701974, 0.06680432, 0.036286253]  ,\n 'disgust':                                                     red  \\\n mean  [0.60760134, -0.75726825, 0.58009577, -0.5529675]   \n var   [0.09445228, 0.08733735, 0.117719695, 0.13388322]   \n \n                                                    conv  \n mean    [-0.8281549, -0.9411225, 0.89458096, 0.9407132]  \n var   [0.08310469, 0.058798447, 0.07807269, 0.03695233]  ,\n 'fear':                                                    red  \\\n mean   [0.68669516, 0.59777653, 0.42156133, 0.5944756]   \n var   [0.073097914, 0.1587208, 0.13954547, 0.10557774]   \n \n                                                    conv  \n mean     [0.9076029, 0.8969184, -0.6527667, 0.91186833]  \n var   [0.05668445, 0.056072105, 0.06013351, 0.052912...  ,\n 'happy':                                                     red  \\\n mean  [-0.59133476, -0.6771037, -0.1524691, -0.50330...   \n var     [0.165319, 0.104647614, 0.13913271, 0.14771208]   \n \n                                                  conv  \n mean  [-0.9167148, 0.8094782, -0.95139974, 0.5421657]  \n var    [0.0685488, 0.0695343, 0.04643848, 0.07962023]  ,\n 'neutral':                                                    red  \\\n mean   [0.6639264, 0.73435247, -0.7320692, -0.6289696]   \n var   [0.17470445, 0.21009699, 0.12848751, 0.09888768]   \n \n                                                    conv  \n mean    [-0.4218498, -0.9272894, 0.2597164, -0.8949495]  \n var   [0.056787934, 0.059019048, 0.042000003, 0.0753...  ,\n 'sad':                                                     red  \\\n mean    [0.7622332, 0.53079635, 0.55524313, -0.6929692]   \n var   [0.056553222, 0.22850695, 0.15175185, 0.12812422]   \n \n                                                    conv  \n mean   [-0.33834997, 0.82089335, 0.9236266, -0.5644345]  \n var   [0.02896669, 0.09637608, 0.06212617, 0.105262324]  ,\n 'surprise':                                                    red  \\\n mean   [0.6731572, -0.64274424, 0.48773807, 0.6123621]   \n var   [0.06070566, 0.09089786, 0.10621243, 0.08974886]   \n \n                                                    conv  \n mean  [0.87585086, 0.8034662, -0.92787725, -0.92888534]  \n var   [0.05638805, 0.08004232, 0.056363516, 0.08518228]  }"
     },
     "execution_count": 103,
     "metadata": {},
     "output_type": "execute_result"
    }
   ],
   "source": [
    "import numpy as np\n",
    "\n",
    "genAvgFull([emo, conv_emo], data_set.encoded_dataset.label_list, [\"red\", \"conv\"])\n",
    "\n",
    "# emo_angry_avg = np.mean(np.asarray(emo_angry), axis=0)\n",
    "# emo_angry_var = np.var(np.asarray(emo_angry), axis=0)\n",
    "# emo_disgust_avg = np.mean(np.asarray(emo_disgust), axis=0)\n",
    "# emo_fear_avg = np.mean(np.asarray(emo_fear), axis=0)\n",
    "# emo_happy_avg = np.mean(np.asarray(emo_happy), axis=0)\n",
    "# emo_neutral_avg = np.mean(np.asarray(emo_neutral), axis=0)\n",
    "# emo_sad_avg = np.mean(np.asarray(emo_sad), axis=0)\n",
    "# emo_surprise_avg = np.mean(np.asarray(emo_surprise), axis=0)\n",
    "#\n",
    "#\n",
    "# conv_emo_angry_avg = np.mean(np.asarray(conv_emo_angry), axis=0)\n",
    "# conv_emo_angry_var = np.var(np.asarray(conv_emo_angry), axis=0)\n",
    "# conv_emo_disgust_avg = np.mean(np.asarray(conv_emo_disgust), axis=0)\n",
    "# conv_emo_fear_avg = np.mean(np.asarray(conv_emo_fear), axis=0)\n",
    "# conv_emo_happy_avg = np.mean(np.asarray(conv_emo_happy), axis=0)\n",
    "# conv_emo_neutral_avg = np.mean(np.asarray(conv_emo_neutral), axis=0)\n",
    "# conv_emo_sad_avg = np.mean(np.asarray(conv_emo_sad), axis=0)\n",
    "# conv_emo_surprise_avg = np.mean(np.asarray(conv_emo_surprise), axis=0)"
   ],
   "metadata": {
    "collapsed": false
   }
  },
  {
   "cell_type": "code",
   "execution_count": 90,
   "outputs": [
    {
     "name": "stdout",
     "output_type": "stream",
     "text": [
      "                                                   red  \\\n",
      "mean    [-0.6666686, -0.5079258, 0.6491481, 0.7223425]   \n",
      "var   [0.14889714, 0.17890035, 0.08293114, 0.11087131]   \n",
      "\n",
      "                                                   conv  \n",
      "mean     [0.9240394, -0.934461, -0.91103846, 0.3788689]  \n",
      "var   [0.08614871, 0.07793402, 0.06794015, 0.039782394]  \n"
     ]
    }
   ],
   "source": [
    "print(genAvgAndVar([emo_angry, conv_emo_angry], [\"red\", \"conv\"]))"
   ],
   "metadata": {
    "collapsed": false
   }
  },
  {
   "cell_type": "code",
   "execution_count": 87,
   "outputs": [
    {
     "name": "stdout",
     "output_type": "stream",
     "text": [
      "neutral :  redDim: [ 0.6628585   0.73390675 -0.73620534 -0.6215517 ], conv: [-0.43281537 -0.9381207   0.25976825 -0.89507014]\n",
      "happy   :  redDim: [-0.5877671  -0.6784905  -0.14874858 -0.49661595], conv: [-0.9198704   0.8013732  -0.94068444  0.5576449 ]\n",
      "sad     :  redDim: [ 0.7614937   0.5211136   0.55389595 -0.6890108 ], conv: [-0.33636513  0.8152136   0.9197464  -0.55772597]\n",
      "angry   :  redDim: [-0.6711606  -0.5146098   0.64993006  0.72506434], conv: [ 0.9131994  -0.933766   -0.9017556   0.38519347]\n",
      "fear    :  redDim: [0.6828919  0.6016554  0.42267424 0.5859955 ], conv: [ 0.90904963  0.89146507 -0.6525785   0.9084787 ]\n",
      "disgust :  redDim: [ 0.6011055 -0.7597309  0.5779803 -0.5371726], conv: [-0.8343913  -0.93599176  0.89802724  0.94474196]\n",
      "surprise:  redDim: [ 0.6730314  -0.6501411   0.48391184  0.6193821 ], conv: [ 0.8756019   0.8056791  -0.9436177  -0.93016684]\n"
     ]
    }
   ],
   "source": [
    "print(f\"neutral :  redDim: {emo_neutral_avg}, conv: {conv_emo_neutral_avg}\")\n",
    "print(f\"happy   :  redDim: {emo_happy_avg}, conv: {conv_emo_happy_avg}\")\n",
    "print(f\"sad     :  redDim: {emo_sad_avg}, conv: {conv_emo_sad_avg}\")\n",
    "print(f\"angry   :  redDim: {emo_angry_avg}, conv: {conv_emo_angry_avg}\")\n",
    "print(f\"fear    :  redDim: {emo_fear_avg}, conv: {conv_emo_fear_avg}\")\n",
    "print(f\"disgust :  redDim: {emo_disgust_avg}, conv: {conv_emo_disgust_avg}\")\n",
    "print(f\"surprise:  redDim: {emo_surprise_avg}, conv: {conv_emo_surprise_avg}\")\n",
    "\n"
   ],
   "metadata": {
    "collapsed": false
   }
  },
  {
   "cell_type": "code",
   "execution_count": 21,
   "outputs": [
    {
     "name": "stdout",
     "output_type": "stream",
     "text": [
      "neutral:{x0: -0.4242432713508606,x1: -0.9272955656051636,x2: 0.2532370984554291,x3: -0.9015499949455261,}\n",
      "happy:{x0: -0.9147626757621765,x1: 0.8096162676811218,x2: -0.9410518407821655,x3: 0.5426420569419861,}\n",
      "sad:{x0: -0.34070485830307007,x1: 0.8153109550476074,x2: 0.9143989682197571,x3: -0.5619972348213196,}\n",
      "angry:{x0: 0.9265413284301758,x1: -0.9317540526390076,x2: -0.9140453934669495,x3: 0.38750553131103516,}\n",
      "fear:{x0: 0.9012864232063293,x1: 0.8959128856658936,x2: -0.6553657650947571,x3: 0.9066473245620728,}\n",
      "disgust:{x0: -0.8301857113838196,x1: -0.9352936148643494,x2: 0.8977404236793518,x3: 0.9390570521354675,}\n",
      "surprise:{x0: 0.8728251457214355,x1: 0.8140773177146912,x2: -0.9374096989631653,x3: -0.9270768165588379,}\n"
     ]
    }
   ],
   "source": [
    "print(\"neutral:\" + generateJson(conv_emo_neutral_avg))\n",
    "print(\"happy:\" + generateJson(conv_emo_happy_avg))\n",
    "print(\"sad:\" + generateJson(conv_emo_sad_avg))\n",
    "print(\"angry:\" + generateJson(conv_emo_angry_avg))\n",
    "print(\"fear:\" + generateJson(conv_emo_fear_avg))\n",
    "print(\"disgust:\" + generateJson(conv_emo_disgust_avg))\n",
    "print(\"surprise:\" + generateJson(conv_emo_surprise_avg))"
   ],
   "metadata": {
    "collapsed": false
   }
  }
 ],
 "metadata": {
  "kernelspec": {
   "display_name": "Python 3",
   "language": "python",
   "name": "python3"
  },
  "language_info": {
   "codemirror_mode": {
    "name": "ipython",
    "version": 2
   },
   "file_extension": ".py",
   "mimetype": "text/x-python",
   "name": "python",
   "nbconvert_exporter": "python",
   "pygments_lexer": "ipython2",
   "version": "2.7.6"
  }
 },
 "nbformat": 4,
 "nbformat_minor": 0
}
