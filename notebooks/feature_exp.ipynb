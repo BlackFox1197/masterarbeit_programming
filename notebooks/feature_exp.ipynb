{
 "cells": [
  {
   "cell_type": "code",
   "execution_count": 18,
   "id": "d83e835e",
   "metadata": {},
   "outputs": [],
   "source": [
    "import sys\n",
    "#!{sys.executable} -m pip install pandas\n",
    "import pandas as pd\n",
    "import numpy as np\n",
    "import os\n",
    "#!{sys.executable} -m pip install seaborn\n",
    "import seaborn as sns\n",
    "\n",
    "import matplotlib.pyplot as plt\n",
    "import librosa\n",
    "import librosa.display\n",
    "from IPython.display import Audio\n",
    "import warnings\n",
    "\n",
    "import utils.exploratoryUtils\n",
    "\n",
    "warnings.filterwarnings('ignore')"
   ]
  },
  {
   "cell_type": "code",
   "execution_count": 22,
   "id": "f5cd65f1",
   "metadata": {},
   "outputs": [
    {
     "name": "stdout",
     "output_type": "stream",
     "text": [
      "dataset is loaded\n"
     ]
    }
   ],
   "source": [
    "paths = []\n",
    "labels = []\n",
    "for dirname, _, filenames in os.walk('../tess'):\n",
    "    for filename in filenames:\n",
    "        paths.append(os.path.join(dirname, filename))\n",
    "        label = filename.split('_')[-1]\n",
    "        label = label.split('.')[0]\n",
    "        labels.append(label.lower())\n",
    "if len(labels) > 0 and len(paths) > 0:\n",
    "    print ('dataset is loaded')\n",
    "else:\n",
    "    print(\"dataset error\")\n"
   ]
  },
  {
   "cell_type": "markdown",
   "source": [
    "*Convert into a dataframe*"
   ],
   "metadata": {
    "collapsed": false
   }
  },
  {
   "cell_type": "code",
   "execution_count": 23,
   "id": "776c39a0",
   "metadata": {},
   "outputs": [
    {
     "data": {
      "text/plain": "                                      speech    label\n0   ../tess/OAF_disgust/OAF_bath_disgust.wav  disgust\n1   ../tess/OAF_disgust/OAF_live_disgust.wav  disgust\n2   ../tess/OAF_disgust/OAF_when_disgust.wav  disgust\n3    ../tess/OAF_disgust/OAF_rag_disgust.wav  disgust\n4  ../tess/OAF_disgust/OAF_chair_disgust.wav  disgust",
      "text/html": "<div>\n<style scoped>\n    .dataframe tbody tr th:only-of-type {\n        vertical-align: middle;\n    }\n\n    .dataframe tbody tr th {\n        vertical-align: top;\n    }\n\n    .dataframe thead th {\n        text-align: right;\n    }\n</style>\n<table border=\"1\" class=\"dataframe\">\n  <thead>\n    <tr style=\"text-align: right;\">\n      <th></th>\n      <th>speech</th>\n      <th>label</th>\n    </tr>\n  </thead>\n  <tbody>\n    <tr>\n      <th>0</th>\n      <td>../tess/OAF_disgust/OAF_bath_disgust.wav</td>\n      <td>disgust</td>\n    </tr>\n    <tr>\n      <th>1</th>\n      <td>../tess/OAF_disgust/OAF_live_disgust.wav</td>\n      <td>disgust</td>\n    </tr>\n    <tr>\n      <th>2</th>\n      <td>../tess/OAF_disgust/OAF_when_disgust.wav</td>\n      <td>disgust</td>\n    </tr>\n    <tr>\n      <th>3</th>\n      <td>../tess/OAF_disgust/OAF_rag_disgust.wav</td>\n      <td>disgust</td>\n    </tr>\n    <tr>\n      <th>4</th>\n      <td>../tess/OAF_disgust/OAF_chair_disgust.wav</td>\n      <td>disgust</td>\n    </tr>\n  </tbody>\n</table>\n</div>"
     },
     "execution_count": 23,
     "metadata": {},
     "output_type": "execute_result"
    }
   ],
   "source": [
    "df = pd.DataFrame()\n",
    "df['speech'] = paths\n",
    "df['label'] = labels\n",
    "df.head()"
   ]
  },
  {
   "cell_type": "markdown",
   "source": [
    "### Exploratory Data Analysis"
   ],
   "metadata": {
    "collapsed": false
   }
  },
  {
   "cell_type": "code",
   "execution_count": 24,
   "id": "0a607591",
   "metadata": {},
   "outputs": [
    {
     "data": {
      "text/plain": "<AxesSubplot: xlabel='label', ylabel='count'>"
     },
     "execution_count": 24,
     "metadata": {},
     "output_type": "execute_result"
    },
    {
     "data": {
      "text/plain": "<Figure size 640x480 with 1 Axes>",
      "image/png": "[encoded data removed]"
     },
     "metadata": {},
     "output_type": "display_data"
    }
   ],
   "source": [
    "sns.countplot(x ='label', data= df)"
   ]
  },
  {
   "cell_type": "code",
   "execution_count": 18,
   "id": "232dd636",
   "metadata": {},
   "outputs": [],
   "source": [
    "#import sys\n",
    "#module_path = os.path.abspath(os.path.join('..', 'utils'))\n",
    "#if module_path not in sys.path:\n",
    "#    sys.path.append(module_path)"
   ]
  },
  {
   "cell_type": "code",
   "execution_count": 30,
   "outputs": [],
   "source": [
    "import sys\n",
    "from pathlib import Path\n",
    "\n",
    "# in jupyter (lab / notebook), based on notebook path\n",
    "#__file__ = str(Path.cwd().parents[0] / \"utils\")\n",
    "# in standard python\n",
    "module_path = str(Path.cwd().parents[0] / \"utils\")\n",
    "\n",
    "if module_path not in sys.path:\n",
    "    sys.path.append(module_path)\n",
    "import utils.exploratoryUtils as exU"
   ],
   "metadata": {
    "collapsed": false
   }
  },
  {
   "cell_type": "code",
   "execution_count": 29,
   "outputs": [
    {
     "ename": "TypeError",
     "evalue": "spectogram() missing 3 required positional arguments: 'data', 'sr', and 'emotion'",
     "output_type": "error",
     "traceback": [
      "\u001B[0;31m---------------------------------------------------------------------------\u001B[0m",
      "\u001B[0;31mTypeError\u001B[0m                                 Traceback (most recent call last)",
      "\u001B[0;32m~/Programming/Projects/masterarbeit/Jupyter/mainProject/utils\u001B[0m in \u001B[0;36m<module>\u001B[0;34m\u001B[0m\n\u001B[0;32m----> 1\u001B[0;31m \u001B[0mutils\u001B[0m\u001B[0;34m.\u001B[0m\u001B[0mexploratoryUtils\u001B[0m\u001B[0;34m.\u001B[0m\u001B[0mspectogram\u001B[0m\u001B[0;34m(\u001B[0m\u001B[0;34m)\u001B[0m\u001B[0;34m\u001B[0m\u001B[0;34m\u001B[0m\u001B[0m\n\u001B[0m",
      "\u001B[0;31mTypeError\u001B[0m: spectogram() missing 3 required positional arguments: 'data', 'sr', and 'emotion'"
     ]
    }
   ],
   "source": [
    "exU.spectogram()"
   ],
   "metadata": {
    "collapsed": false
   }
  },
  {
   "cell_type": "code",
   "execution_count": 27,
   "outputs": [
    {
     "data": {
      "text/plain": "PosixPath('/home/ckwdani/Programming/Projects/masterarbeit/Jupyter/mainProject/notebooks')"
     },
     "execution_count": 27,
     "metadata": {},
     "output_type": "execute_result"
    }
   ],
   "source": [],
   "metadata": {
    "collapsed": false
   }
  },
  {
   "cell_type": "code",
   "execution_count": null,
   "outputs": [],
   "source": [],
   "metadata": {
    "collapsed": false
   }
  }
 ],
 "metadata": {
  "kernelspec": {
   "display_name": "Python 3 (ipykernel)",
   "language": "python",
   "name": "python3"
  },
  "language_info": {
   "codemirror_mode": {
    "name": "ipython",
    "version": 3
   },
   "file_extension": ".py",
   "mimetype": "text/x-python",
   "name": "python",
   "nbconvert_exporter": "python",
   "pygments_lexer": "ipython3",
   "version": "3.10.8"
  }
 },
 "nbformat": 4,
 "nbformat_minor": 5
}
