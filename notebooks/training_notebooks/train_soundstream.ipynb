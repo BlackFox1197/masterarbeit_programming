{
 "cells": [
  {
   "cell_type": "code",
   "execution_count": null,
   "metadata": {
    "collapsed": true,
    "pycharm": {
     "is_executing": true
    }
   },
   "outputs": [
    {
     "name": "stderr",
     "output_type": "stream",
     "text": [
      "2023-01-17 18:18:43 | INFO | fairseq.tasks.text_to_speech | Please install tensorboardX: pip install tensorboardX\n",
      "2023-01-17 18:18:43.486767: I tensorflow/core/platform/cpu_feature_guard.cc:193] This TensorFlow binary is optimized with oneAPI Deep Neural Network Library (oneDNN) to use the following CPU instructions in performance-critical operations:  AVX2 FMA\n",
      "To enable them in other operations, rebuild TensorFlow with the appropriate compiler flags.\n",
      "2023-01-17 18:18:44.078760: W tensorflow/compiler/xla/stream_executor/platform/default/dso_loader.cc:64] Could not load dynamic library 'libnvinfer.so.7'; dlerror: libnvinfer.so.7: cannot open shared object file: No such file or directory\n",
      "2023-01-17 18:18:44.078905: W tensorflow/compiler/xla/stream_executor/platform/default/dso_loader.cc:64] Could not load dynamic library 'libnvinfer_plugin.so.7'; dlerror: libnvinfer_plugin.so.7: cannot open shared object file: No such file or directory\n",
      "2023-01-17 18:18:44.078910: W tensorflow/compiler/tf2tensorrt/utils/py_utils.cc:38] TF-TRT Warning: Cannot dlopen some TensorRT libraries. If you would like to use Nvidia GPU with TensorRT, please make sure the missing libraries mentioned above are installed properly.\n"
     ]
    },
    {
     "name": "stdout",
     "output_type": "stream",
     "text": [
      "training with dataset of 125925 samples and validating with randomly splitted 6628 samples\n",
      "0: soundstream total loss: 2.520, soundstream recon loss: 0.010 | discr (scale 1) loss: 4.144 | discr (scale 0.5) loss: 3.102 | discr (scale 0.25) loss: 2.954\n",
      "0: saving to ../content/01_Soundstream_new_libri_100_test/2_libri_with360_10000\n",
      "0: saving model to ../content/01_Soundstream_new_libri_100_test/2_libri_with360_10000\n",
      "1: soundstream total loss: 2.830, soundstream recon loss: 0.044 | discr (scale 1) loss: 3.141 | discr (scale 0.5) loss: 3.265 | discr (scale 0.25) loss: 2.669\n",
      "2: soundstream total loss: 2.949, soundstream recon loss: 0.024 | discr (scale 1) loss: 2.182 | discr (scale 0.5) loss: 2.382 | discr (scale 0.25) loss: 2.115\n",
      "3: soundstream total loss: 2.887, soundstream recon loss: 0.009 | discr (scale 1) loss: 2.056 | discr (scale 0.5) loss: 1.945 | discr (scale 0.25) loss: 2.114\n",
      "4: soundstream total loss: 2.027, soundstream recon loss: 0.011 | discr (scale 1) loss: 2.061 | discr (scale 0.5) loss: 1.966 | discr (scale 0.25) loss: 2.050\n",
      "5: soundstream total loss: 0.572, soundstream recon loss: 0.007 | discr (scale 1) loss: 2.100 | discr (scale 0.5) loss: 2.173 | discr (scale 0.25) loss: 1.978\n",
      "6: soundstream total loss: 0.631, soundstream recon loss: 0.007 | discr (scale 1) loss: 2.277 | discr (scale 0.5) loss: 2.250 | discr (scale 0.25) loss: 2.026\n",
      "7: soundstream total loss: 0.518, soundstream recon loss: 0.007 | discr (scale 1) loss: 2.336 | discr (scale 0.5) loss: 2.058 | discr (scale 0.25) loss: 2.053\n",
      "8: soundstream total loss: 0.478, soundstream recon loss: 0.006 | discr (scale 1) loss: 2.236 | discr (scale 0.5) loss: 2.026 | discr (scale 0.25) loss: 1.956\n",
      "9: soundstream total loss: 0.895, soundstream recon loss: 0.006 | discr (scale 1) loss: 2.138 | discr (scale 0.5) loss: 1.979 | discr (scale 0.25) loss: 1.895\n",
      "10: soundstream total loss: 0.718, soundstream recon loss: 0.005 | discr (scale 1) loss: 2.091 | discr (scale 0.5) loss: 2.014 | discr (scale 0.25) loss: 1.922\n",
      "11: soundstream total loss: 0.932, soundstream recon loss: 0.006 | discr (scale 1) loss: 2.082 | discr (scale 0.5) loss: 1.950 | discr (scale 0.25) loss: 1.912\n",
      "12: soundstream total loss: 1.326, soundstream recon loss: 0.009 | discr (scale 1) loss: 2.092 | discr (scale 0.5) loss: 1.967 | discr (scale 0.25) loss: 1.919\n",
      "13: soundstream total loss: 1.175, soundstream recon loss: 0.005 | discr (scale 1) loss: 2.010 | discr (scale 0.5) loss: 1.915 | discr (scale 0.25) loss: 1.897\n",
      "14: soundstream total loss: 1.197, soundstream recon loss: 0.006 | discr (scale 1) loss: 2.043 | discr (scale 0.5) loss: 1.949 | discr (scale 0.25) loss: 1.905\n",
      "15: soundstream total loss: 1.363, soundstream recon loss: 0.006 | discr (scale 1) loss: 2.090 | discr (scale 0.5) loss: 1.918 | discr (scale 0.25) loss: 1.946\n",
      "16: soundstream total loss: 1.394, soundstream recon loss: 0.005 | discr (scale 1) loss: 1.941 | discr (scale 0.5) loss: 1.857 | discr (scale 0.25) loss: 1.796\n",
      "17: soundstream total loss: 1.609, soundstream recon loss: 0.006 | discr (scale 1) loss: 2.035 | discr (scale 0.5) loss: 1.855 | discr (scale 0.25) loss: 1.907\n",
      "18: soundstream total loss: 1.729, soundstream recon loss: 0.006 | discr (scale 1) loss: 2.056 | discr (scale 0.5) loss: 1.822 | discr (scale 0.25) loss: 1.870\n",
      "19: soundstream total loss: 1.469, soundstream recon loss: 0.005 | discr (scale 1) loss: 2.043 | discr (scale 0.5) loss: 1.839 | discr (scale 0.25) loss: 1.865\n",
      "20: soundstream total loss: 1.708, soundstream recon loss: 0.008 | discr (scale 1) loss: 2.041 | discr (scale 0.5) loss: 1.896 | discr (scale 0.25) loss: 1.871\n",
      "21: soundstream total loss: 1.351, soundstream recon loss: 0.004 | discr (scale 1) loss: 2.051 | discr (scale 0.5) loss: 1.880 | discr (scale 0.25) loss: 1.849\n",
      "22: soundstream total loss: 1.281, soundstream recon loss: 0.003 | discr (scale 1) loss: 1.963 | discr (scale 0.5) loss: 1.806 | discr (scale 0.25) loss: 1.897\n",
      "23: soundstream total loss: 1.429, soundstream recon loss: 0.004 | discr (scale 1) loss: 1.918 | discr (scale 0.5) loss: 1.816 | discr (scale 0.25) loss: 1.996\n"
     ]
    }
   ],
   "source": [
    "import torch\n",
    "import gc\n",
    "torch.cuda.empty_cache()\n",
    "gc.collect()\n",
    "\n",
    "import numpy as np\n",
    "from audiolm_pytorch import SoundStream, SoundStreamTrainer\n",
    "\n",
    "soundstream = SoundStream(\n",
    "    codebook_size = 2048,\n",
    "    rq_num_quantizers = 8,\n",
    "    #target_sample_hz=32000\n",
    ")\n",
    "soundstream.load(\"../content/01_Soundstream_new_libri_100_test/1_libri_5000/soundstream.5000.pt\")\n",
    "\n",
    "trainer = SoundStreamTrainer(\n",
    "    soundstream,\n",
    "    folder =  #'/home/ckwdani/Programming/Projects/masterarbeit/Datasets/tess',\n",
    "    '/home/ckwdani/Music/libri/libri_clean',\n",
    "    #'/home/ckwdani/Music/train-clean-100',\n",
    "    batch_size = 4,\n",
    "    grad_accum_every = 8,         # effective batch size of 32\n",
    "    data_max_length = 320 * 32,\n",
    "    num_train_steps = 10001,\n",
    "    save_model_every= 500,\n",
    "    results_folder = '../content/01_Soundstream_new_libri_100_test/2_libri_with360_10000',\n",
    ").cuda()\n",
    "\n",
    "trainer.train()\n"
   ]
  },
  {
   "cell_type": "code",
   "execution_count": 4,
   "outputs": [],
   "source": [
    "#trainer.save(path='../content/soundstream/resultsSS__NEWEXTRA/soundstream46389.pt')\n"
   ],
   "metadata": {
    "collapsed": false
   }
  }
 ],
 "metadata": {
  "kernelspec": {
   "display_name": "Python 3",
   "language": "python",
   "name": "python3"
  },
  "language_info": {
   "codemirror_mode": {
    "name": "ipython",
    "version": 2
   },
   "file_extension": ".py",
   "mimetype": "text/x-python",
   "name": "python",
   "nbconvert_exporter": "python",
   "pygments_lexer": "ipython2",
   "version": "2.7.6"
  }
 },
 "nbformat": 4,
 "nbformat_minor": 0
}
