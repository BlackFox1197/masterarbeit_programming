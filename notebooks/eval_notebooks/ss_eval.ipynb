{
 "cells": [
  {
   "cell_type": "code",
   "execution_count": 5,
   "metadata": {
    "collapsed": true
   },
   "outputs": [],
   "source": [
    "from utils.audio_dataset_utils import train_val_dataset\n",
    "from network_models.soundsream_models_and_utils.ss_model_dim_red import SSDimRedModel\n",
    "from network_models.soundsream_models_and_utils.ss_model_conv import SSConvModel3Sec\n",
    "from network_models.soundsream_models_and_utils.ss_encoded_dataset import ss_encoded_dataset_full\n",
    "import torch\n",
    "from torch.utils.data import DataLoader\n",
    "from network_models.soundsream_models_and_utils.ss_complex_conv_net import SSComplexConvModel3Sec\n",
    "\n",
    "batch_size = 6\n",
    "\n",
    "data_set= ss_encoded_dataset_full(\n",
    "    csvPath=\"/home/ckwdani/Programming/Projects/masterarbeit/Jupyter/mainProject/notebooks/content/data/allEncs_betterSS_12_1_relwrap_music_tess.pkl\", device=\"cuda\")\n",
    "\n",
    "\n",
    "modelDimRed = SSDimRedModel(eval_mode= True).cuda()\n",
    "modelConv = SSConvModel3Sec(xSize=512, ySize=175, eval_mode= True).cuda()\n",
    "modelComplexConv = SSComplexConvModel3Sec(eval_mode=True).to(\"cuda\")\n",
    "\n",
    "trainDS, testDs = train_val_dataset(data_set, val_split=0.1, seed=100)\n",
    "trainDS, valDs = train_val_dataset(trainDS, val_split=0.1, seed=100)"
   ]
  },
  {
   "cell_type": "code",
   "execution_count": 6,
   "outputs": [
    {
     "data": {
      "text/plain": "<All keys matched successfully>"
     },
     "execution_count": 6,
     "metadata": {},
     "output_type": "execute_result"
    }
   ],
   "source": [
    "import gc\n",
    "\n",
    "gc.collect()\n",
    "\n",
    "#modelConv.load_state_dict(torch.load(\"../content/soundstream/experiments/experiment_v_12_1_NR3_relu/Run_Nr_0/conv/emo_reco_best_ep852_acc_75.pth\"))\n",
    "#modelDimRed.load_state_dict(torch.load(\"../content/soundstream/experiments/experiment_v_12_1_NR3_relu/Run_Nr_0/dimred/emo_reco_best_ep824_acc_70.pth\"))\n",
    "modelDimRed.load_state_dict(torch.load(\"/home/ckwdani/Programming/Projects/masterarbeit/Jupyter/mainProject/notebooks/content/soundstream/experiments/dim_red/Nr1_tess/emo_reco_best_ep105_acc_96.pth\"))\n",
    "#modelComplexConv.load_state_dict(torch.load(\"/home/ckwdani/Programming/Projects/masterarbeit/Jupyter/mainProject/notebooks/content/soundstream/experiments/conv_complex/Nr2_tess/emo_reco_best_ep92_acc_100.pth\"))\n",
    "#modelComplexConv.load_state_dict(torch.load(\"/home/ckwdani/Programming/Projects/masterarbeit/Jupyter/mainProject/notebooks/content/soundstream/experiments/conv_complex/Nr4/emo_reco_best_ep95_acc_69.pth\"))\n",
    "#modelComplexConv.load_state_dict(torch.load(\"/home/ckwdani/Programming/Projects/masterarbeit/Jupyter/mainProject/notebooks/content/soundstream/experiments/conv_complex/Nr2_tess/emo_reco_best_ep92_acc_100.pth\"))\n"
   ],
   "metadata": {
    "collapsed": false
   }
  },
  {
   "cell_type": "code",
   "execution_count": 7,
   "outputs": [],
   "source": [
    "import gc\n",
    "\n",
    "\n",
    "def evaluate(device, model, dataset):\n",
    "    loader = DataLoader(dataset, shuffle=False, batch_size=batch_size)\n",
    "    true, preds = [], []\n",
    "    with torch.no_grad():\n",
    "        for batch, (X, z) in enumerate(loader):\n",
    "            X, z = X.to(device),  z.to(device)\n",
    "            pred = model(X)\n",
    "            labels = [torch.squeeze(a.nonzero()).item() for a in z]\n",
    "            true = true + labels\n",
    "\n",
    "            preds = preds + pred.argmax(1).cpu().numpy().tolist()\n",
    "            #preds.append(pred.argmax(1))\n",
    "            if batch % 10 == 0:\n",
    "                print(f\"{batch*batch_size} of {len(dataset)}\")\n",
    "\n",
    "    return true, preds"
   ],
   "metadata": {
    "collapsed": false
   }
  },
  {
   "cell_type": "code",
   "execution_count": 13,
   "outputs": [
    {
     "name": "stdout",
     "output_type": "stream",
     "text": [
      "0 of 276\n",
      "60 of 276\n",
      "120 of 276\n",
      "180 of 276\n",
      "240 of 276\n",
      "------------------ Conv: ----------------\n",
      "           accuracy  precision  recall   support\n",
      "   angry     0.931     1.000     0.977    44\n",
      " disgust     0.931     0.923     0.667    36\n",
      "    fear     0.931     0.952     1.000    40\n",
      "   happy     0.931     0.896     0.935    46\n",
      " neutral     0.931     1.000     1.000    36\n",
      "     sad     0.931     0.971     0.944    36\n",
      "surprise     0.931     0.804     0.974    38\n",
      "                                          276\n",
      "\n",
      " \n",
      "     avg     0.931     0.935     0.928    \n",
      "\n",
      "                   angry     disgust        fear       happy     neutral         sad    surprise    support\n",
      "       angry       0.977       0.000       0.023       0.000       0.000       0.000       0.000         44\n",
      "     disgust       0.000       0.667       0.000       0.111       0.000       0.028       0.194         36\n",
      "        fear       0.000       0.000       1.000       0.000       0.000       0.000       0.000         40\n",
      "       happy       0.000       0.000       0.022       0.935       0.000       0.000       0.043         46\n",
      "     neutral       0.000       0.000       0.000       0.000       1.000       0.000       0.000         36\n",
      "         sad       0.000       0.056       0.000       0.000       0.000       0.944       0.000         36\n",
      "    surprise       0.000       0.000       0.000       0.026       0.000       0.000       0.974         38\n",
      "\n",
      "\n"
     ]
    }
   ],
   "source": [
    "from utils.eval_utils import classificationReport, confusion_matrix\n",
    "trueConv, predsConv = evaluate(\"cuda\", modelDimRed, testDs)\n",
    "print(\"------------------ Conv: ----------------\")\n",
    "classificationReport(trueConv, predsConv, data_set.encoded_dataset.label_list)\n",
    "confusion_matrix(trueConv, predsConv, data_set.encoded_dataset.label_list)\n",
    "\n",
    "print()"
   ],
   "metadata": {
    "collapsed": false
   }
  },
  {
   "cell_type": "code",
   "execution_count": 14,
   "outputs": [
    {
     "name": "stdout",
     "output_type": "stream",
     "text": [
      "0 of 610\n",
      "60 of 610\n",
      "120 of 610\n",
      "180 of 610\n",
      "240 of 610\n",
      "300 of 610\n",
      "360 of 610\n",
      "420 of 610\n",
      "480 of 610\n",
      "540 of 610\n",
      "600 of 610\n",
      "0 of 610\n",
      "60 of 610\n",
      "120 of 610\n",
      "180 of 610\n",
      "240 of 610\n",
      "300 of 610\n",
      "360 of 610\n",
      "420 of 610\n",
      "480 of 610\n",
      "540 of 610\n",
      "600 of 610\n",
      "------------------ Conv: ----------------\n",
      "           accuracy  precision  recall   support\n",
      "   angry     0.746     0.705     0.798    99\n",
      " disgust     0.746     0.826     0.710    107\n",
      "    fear     0.746     0.756     0.775    80\n",
      "   happy     0.746     0.611     0.714    77\n",
      " neutral     0.746     0.787     0.779    95\n",
      "     sad     0.746     0.833     0.714    91\n",
      "surprise     0.746     0.710     0.721    61\n",
      "                                          610\n",
      "\n",
      " \n",
      "     avg     0.746     0.747     0.745    \n",
      "\n",
      "                   angry     disgust        fear       happy     neutral         sad    surprise    support\n",
      "       angry       0.798       0.040       0.030       0.061       0.020       0.010       0.040         99\n",
      "     disgust       0.112       0.710       0.009       0.037       0.112       0.009       0.009        107\n",
      "        fear       0.037       0.000       0.775       0.087       0.000       0.050       0.050         80\n",
      "       happy       0.091       0.065       0.052       0.714       0.000       0.013       0.065         77\n",
      "     neutral       0.053       0.032       0.021       0.053       0.779       0.042       0.021         95\n",
      "         sad       0.022       0.022       0.088       0.066       0.066       0.714       0.022         91\n",
      "    surprise       0.066       0.033       0.033       0.115       0.000       0.033       0.721         61\n",
      "\n",
      "------------------ DimRed: ----------------\n",
      "           accuracy  precision  recall   support\n",
      "   angry     0.705     0.773     0.687    99\n",
      " disgust     0.705     0.806     0.738    107\n",
      "    fear     0.705     0.622     0.575    80\n",
      "   happy     0.705     0.690     0.636    77\n",
      " neutral     0.705     0.813     0.779    95\n",
      "     sad     0.705     0.630     0.747    91\n",
      "surprise     0.705     0.575     0.754    61\n",
      "                                          610\n",
      "\n",
      " \n",
      "     avg     0.705     0.701     0.702    \n",
      "\n",
      "                   angry     disgust        fear       happy     neutral         sad    surprise    support\n",
      "       angry       0.687       0.040       0.061       0.061       0.010       0.040       0.101         99\n",
      "     disgust       0.065       0.738       0.028       0.028       0.019       0.112       0.009        107\n",
      "        fear       0.062       0.037       0.575       0.087       0.025       0.113       0.100         80\n",
      "       happy       0.039       0.026       0.065       0.636       0.065       0.026       0.143         77\n",
      "     neutral       0.032       0.021       0.021       0.011       0.779       0.126       0.011         95\n",
      "         sad       0.022       0.077       0.055       0.022       0.044       0.747       0.033         91\n",
      "    surprise       0.000       0.016       0.115       0.049       0.049       0.016       0.754         61\n",
      "\n",
      "\n"
     ]
    }
   ],
   "source": [
    "from utils.eval_utils import classificationReport, confusion_matrix\n",
    "\n",
    "trueConv, predsConv = evaluate(\"cuda\", modelConv, testDs)\n",
    "trueDimRed, predsDimRed = evaluate(\"cuda\", modelDimRed, testDs)\n",
    "\n",
    "print(\"------------------ Conv: ----------------\")\n",
    "classificationReport(trueConv, predsConv, data_set.encoded_dataset.label_list)\n",
    "confusion_matrix(trueConv, predsConv, data_set.encoded_dataset.label_list)\n",
    "print(\"------------------ DimRed: ----------------\")\n",
    "classificationReport(trueDimRed, predsDimRed, data_set.encoded_dataset.label_list)\n",
    "confusion_matrix(trueDimRed, predsDimRed, data_set.encoded_dataset.label_list)\n",
    "\n",
    "\n",
    "print(\"\")"
   ],
   "metadata": {
    "collapsed": false
   }
  },
  {
   "cell_type": "code",
   "execution_count": null,
   "outputs": [],
   "source": [],
   "metadata": {
    "collapsed": false
   }
  }
 ],
 "metadata": {
  "kernelspec": {
   "display_name": "Python 3",
   "language": "python",
   "name": "python3"
  },
  "language_info": {
   "codemirror_mode": {
    "name": "ipython",
    "version": 2
   },
   "file_extension": ".py",
   "mimetype": "text/x-python",
   "name": "python",
   "nbconvert_exporter": "python",
   "pygments_lexer": "ipython2",
   "version": "2.7.6"
  }
 },
 "nbformat": 4,
 "nbformat_minor": 0
}
